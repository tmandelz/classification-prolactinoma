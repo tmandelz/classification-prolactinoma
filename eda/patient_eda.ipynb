{
 "cells": [
  {
   "cell_type": "markdown",
   "metadata": {},
   "source": [
    "# Explorative Data Analysis - Patients\n",
    "\n",
    "In this notebook you find the explorative data anaylsis for the label data of patients.\n",
    "There is also diagnostic data of the patients, data of the used MRI machines and for some cases (like external admissions) there ist lab data available.\n",
    "The aggregations are always limited to one individual patients.\n"
   ]
  },
  {
   "cell_type": "markdown",
   "metadata": {},
   "source": [
    "## Imports and Preprocessing"
   ]
  },
  {
   "cell_type": "code",
   "execution_count": null,
   "metadata": {},
   "outputs": [],
   "source": [
    "import pandas as pd\n",
    "import matplotlib.pyplot as plt\n",
    "import seaborn as sns\n",
    "\n",
    "# set default plt figsize to (12,6)\n",
    "plt.rcParams[\"figure.figsize\"] = (12,6)\n",
    "pd.set_option('display.colheader_justify', 'center')\n"
   ]
  },
  {
   "cell_type": "code",
   "execution_count": null,
   "metadata": {},
   "outputs": [],
   "source": [
    "# runs the clean and preprocessing notebook\n",
    "%run \"clean_preprocessing.ipynb\""
   ]
  },
  {
   "cell_type": "code",
   "execution_count": null,
   "metadata": {},
   "outputs": [],
   "source": [
    "# runs the data_partitioning notebook\n",
    "%run \"data_partitioning.ipynb\""
   ]
  },
  {
   "cell_type": "code",
   "execution_count": null,
   "metadata": {},
   "outputs": [],
   "source": [
    "# read train data set\n",
    "df_mris = pd.read_csv(r'../data/train_data.csv')"
   ]
  },
  {
   "cell_type": "code",
   "execution_count": null,
   "metadata": {},
   "outputs": [],
   "source": [
    "df_patients = df_mris[df_mris['Patient_ID'].duplicated()].copy()\n",
    "df_patients"
   ]
  },
  {
   "cell_type": "code",
   "execution_count": null,
   "metadata": {},
   "outputs": [],
   "source": [
    "# make datetime values\n",
    "df_patients[\"Date_MRI\"] = pd.to_datetime(df_patients[\"Date_MRI\"])\n",
    "df_patients[\"Entry_date\"] = pd.to_datetime(df_patients[\"Entry_date\"])\n",
    "df_patients[\"Operation_date\"] = pd.to_datetime(df_patients[\"Operation_date\"])\n",
    "# set category data type in pandas, check datatypes\n",
    "df_patients['ID_MRI_Machine'] = df_patients['ID_MRI_Machine'].astype('category')\n",
    "df_patients['Adenoma_size'] = df_patients['Adenoma_size'].astype('category')\n",
    "df_patients['Label_Quality'] = df_patients['Label_Quality'].astype('category')\n",
    "df_patients['Diagnosis'] = df_patients['Diagnosis'].astype('category')\n",
    "df_patients['Category'] = df_patients['Category'].astype('category')"
   ]
  },
  {
   "cell_type": "markdown",
   "metadata": {},
   "source": [
    "## Dataframe Summary"
   ]
  },
  {
   "cell_type": "code",
   "execution_count": null,
   "metadata": {},
   "outputs": [],
   "source": [
    "df_patients.head()"
   ]
  },
  {
   "cell_type": "code",
   "execution_count": null,
   "metadata": {},
   "outputs": [],
   "source": [
    "df_patients.tail()"
   ]
  },
  {
   "cell_type": "code",
   "execution_count": null,
   "metadata": {},
   "outputs": [],
   "source": [
    "print(\"Total Dataframe rows:\", len(df_patients))\n",
    "print(\"Total Dataframe columns:\", len(df_patients.columns))"
   ]
  },
  {
   "cell_type": "markdown",
   "metadata": {},
   "source": [
    "## Distribution Analysis\n",
    "we will take a look at the distributions of the variables and check for outliers as well."
   ]
  },
  {
   "cell_type": "markdown",
   "metadata": {},
   "source": [
    "### Data of MRI\n",
    "First we will take a look at the distribution of the data for the MRI which were done. "
   ]
  },
  {
   "cell_type": "code",
   "execution_count": null,
   "metadata": {},
   "outputs": [],
   "source": [
    "column = 'Date_MRI'\n",
    "print(\"Range of MRI date:\", df_patients[column].min().strftime('%d.%m.%Y'), \"to\", df_patients[column].max().strftime('%d.%m.%Y'))\n",
    "print(\"Missing values:\", sum(df_patients[column].isna()))"
   ]
  },
  {
   "cell_type": "code",
   "execution_count": null,
   "metadata": {},
   "outputs": [],
   "source": [
    "sns.histplot(df_patients[column],bins=50)\n",
    "plt.title(f\"Distribution of Date of MRI\")\n",
    "plt.xlabel('Date of MRI')\n",
    "plt.show()"
   ]
  },
  {
   "cell_type": "markdown",
   "metadata": {},
   "source": [
    "### Data of MRI Machines\n",
    "\n",
    "We will analyse the distribution of the used MRI Machines. As they are setup the same they will not have a big influence in the classification.\n"
   ]
  },
  {
   "cell_type": "code",
   "execution_count": null,
   "metadata": {},
   "outputs": [],
   "source": [
    "column= 'ID_MRI_Machine'\n",
    "print(\"Unique MRI Machines:\", df_patients[column].unique())\n",
    "print(\"Missing values:\", sum(df_patients[column].isna()))"
   ]
  },
  {
   "cell_type": "code",
   "execution_count": null,
   "metadata": {},
   "outputs": [],
   "source": [
    "sns.histplot(df_patients[column])\n",
    "plt.title(f\"Distribution of counts of MRI machines used\")\n",
    "plt.xlabel('ID of MRI Machine')\n",
    "plt.show()"
   ]
  },
  {
   "cell_type": "markdown",
   "metadata": {},
   "source": [
    "### Data Features (screening data)"
   ]
  },
  {
   "cell_type": "markdown",
   "metadata": {},
   "source": [
    "#### Adenoma Size\n",
    "The column for the 'Adenoma_size' describes if an Adenoma was labeled as micro or macro.\n",
    "Micro is defined as <10mm and a macro is defined as >= 10 mm in size."
   ]
  },
  {
   "cell_type": "code",
   "execution_count": null,
   "metadata": {},
   "outputs": [],
   "source": [
    "column= 'Adenoma_size'\n",
    "print(\"Summary Statistics:\\n\",df_patients[column].describe())\n",
    "print(\"Percentage Distribution:\\n\",df_patients[column].value_counts(normalize=True) * 100)\n",
    "print(\"Missing values Adenoma size:\", sum(df_patients[column].isna()))"
   ]
  },
  {
   "cell_type": "code",
   "execution_count": null,
   "metadata": {},
   "outputs": [],
   "source": [
    "sns.histplot(df_patients[column])\n",
    "plt.title(f\"Distribution of Adenoma size categories\")\n",
    "plt.xlabel('Adenoma size category')\n",
    "plt.show()"
   ]
  },
  {
   "cell_type": "markdown",
   "metadata": {},
   "source": [
    "#### Pre Operation hormonal disfunctions\n",
    "The column for the 'Ausfälle prä' describes if a patient was experiencing an under- or an overproduction of a type of hormone (produced by the pituitary gland) before an operation.\n",
    "Values which indicate a prolaktinoma are an overproduction of prolactin (hyperprolaktin).\n"
   ]
  },
  {
   "cell_type": "code",
   "execution_count": null,
   "metadata": {},
   "outputs": [],
   "source": [
    "# define all \"pre op\" columns\n",
    "pre_op_columns = [col for col in df_patients.columns if \"Pre_\" in col]"
   ]
  },
  {
   "cell_type": "code",
   "execution_count": null,
   "metadata": {},
   "outputs": [],
   "source": [
    "# summarise and sort the pre op column values\n",
    "summary=df_patients[pre_op_columns].sum().sort_values(ascending=False)\n",
    "sns.barplot(x=summary.index, y=summary.values)\n",
    "plt.title(\"Distribution of hormonal disfunctions\")\n",
    "plt.xlabel(\"Pre OP hormonal disfunctions\")\n",
    "plt.ylabel(\"Count\")\n",
    "plt.xticks(rotation=45)\n",
    "plt.show()"
   ]
  },
  {
   "cell_type": "code",
   "execution_count": null,
   "metadata": {},
   "outputs": [],
   "source": [
    "# correlate all pre op columns to each other\n",
    "correlation_matrix = df_patients[pre_op_columns].corr()\n",
    "# Create a heatmap using Seaborn\n",
    "sns.heatmap(correlation_matrix, annot=True, cmap='coolwarm', fmt=\".2f\")\n",
    "plt.title(\"Correlation Matrix of pre OP hormonal disfunctions\")\n",
    "plt.xticks(rotation=45)\n",
    "plt.show()"
   ]
  },
  {
   "cell_type": "markdown",
   "metadata": {},
   "source": [
    "#### Post Operation hormonal disfunctions\n",
    "The column for the 'Ausfälle post' describes if a patient was experiencing an under- or an overproduction of a type of hormone (produced by the pituitary gland) after an operation.\n",
    "These are mostly used to confirm a successful operation."
   ]
  },
  {
   "cell_type": "code",
   "execution_count": null,
   "metadata": {},
   "outputs": [],
   "source": [
    "# define all \"post op\" columns\n",
    "post_op_columns = [col for col in df_patients.columns if \"Post_\" in col]"
   ]
  },
  {
   "cell_type": "code",
   "execution_count": null,
   "metadata": {},
   "outputs": [],
   "source": [
    "# summarise and sort the post op column values\n",
    "summary=df_patients[post_op_columns].sum().sort_values(ascending=False)\n",
    "sns.barplot(x=summary.index, y=summary.values)\n",
    "plt.title(\"Distribution of hormonal disfunctions\")\n",
    "plt.xlabel(\"Post OP hormonal disfunctions\")\n",
    "plt.ylabel(\"Count\")\n",
    "plt.xticks(rotation=45)\n",
    "\n",
    "plt.show()"
   ]
  },
  {
   "cell_type": "code",
   "execution_count": null,
   "metadata": {},
   "outputs": [],
   "source": [
    "# correlate all pre op columns to each other\n",
    "correlation_matrix = df_patients[post_op_columns].corr()\n",
    "# Create a heatmap using Seaborn\n",
    "sns.heatmap(correlation_matrix, annot=True, cmap='coolwarm', fmt=\".2f\")\n",
    "plt.title(\"Correlation Matrix of post OP hormonal disfunctions\")\n",
    "plt.xticks(rotation=45)\n",
    "plt.show()"
   ]
  },
  {
   "cell_type": "markdown",
   "metadata": {},
   "source": [
    "#### Pre and Post Operation hormonal disfunctions\n",
    "We also take a look at the correlations of pre and post operational hormonal disfunctions."
   ]
  },
  {
   "cell_type": "code",
   "execution_count": null,
   "metadata": {},
   "outputs": [],
   "source": [
    "# correlate all pre and post columns against each other, and sort the values alphabetically by row and then by column\n",
    "correlation_matrix = df_patients[pre_op_columns+post_op_columns].corr()\n",
    "correlation_matrix= correlation_matrix.sort_index(ascending=False).sort_index(axis=1, ascending=False)\n",
    "# Create a heatmap using Seaborn, only use the pre columns on the y-axis and the post columns on the x-axis\n",
    "sns.heatmap(correlation_matrix.iloc[0:7, 7:], annot=True, cmap='coolwarm', fmt=\".2f\")\n",
    "plt.title(\"Correlation Matrix of pre OP to post OP hormonal disfunctions\")\n",
    "plt.xticks(rotation=45)\n",
    "plt.show()"
   ]
  },
  {
   "cell_type": "markdown",
   "metadata": {},
   "source": [
    "#### Data Label Quality\n",
    "In the label data there is column with comments to the quality of the data used for the labeling. This includes if a decision to label was complicated, the decision is not confident or other data quality issues were found.\n",
    "\n"
   ]
  },
  {
   "cell_type": "code",
   "execution_count": null,
   "metadata": {},
   "outputs": [],
   "source": [
    "column= 'Label_Quality'\n",
    "print(\"Summary Statistics Data Quality:\\n\", df_patients[column].describe())\n",
    "print(\"Missing values:\", sum(df_patients[column].isna()))"
   ]
  },
  {
   "cell_type": "code",
   "execution_count": null,
   "metadata": {},
   "outputs": [],
   "source": [
    "sns.histplot(df_patients[column])\n",
    "plt.title(f\"Distribution of Data Quality Comments\")\n",
    "plt.xticks(rotation=45)\n",
    "plt.xlabel('Data Quality Comment')\n",
    "plt.show()"
   ]
  },
  {
   "cell_type": "markdown",
   "metadata": {},
   "source": [
    "#### Date of Entry and Operation\n",
    "The columns for the 'Eintrittsdatum' and 'Operationdatum' describe when a patient entered the hospital and also when the operation took place.\n",
    "The difference between these values can show the significance or the extraordinary need for an operation."
   ]
  },
  {
   "cell_type": "code",
   "execution_count": null,
   "metadata": {},
   "outputs": [],
   "source": [
    "column = 'Entry_date'\n",
    "print(\"Range of Entry date:\", df_patients[column].min().strftime('%d.%m.%Y'), \"to\", df_patients[column].max().strftime('%d.%m.%Y'))\n",
    "print(\"Missing values:\", sum(df_patients[column].isna()))"
   ]
  },
  {
   "cell_type": "code",
   "execution_count": null,
   "metadata": {},
   "outputs": [],
   "source": [
    "sns.histplot(df_patients[column],bins=20)\n",
    "plt.title(f\"Distribution of Date of Patient Entry\")\n",
    "plt.xlabel('Date of Patient Entry')\n",
    "plt.show()"
   ]
  },
  {
   "cell_type": "code",
   "execution_count": null,
   "metadata": {},
   "outputs": [],
   "source": [
    "column = 'Operation_date'\n",
    "print(\"Range of Operation date:\", df_patients[column].min().strftime('%d.%m.%Y'), \"to\", df_patients[column].max().strftime('%d.%m.%Y'))\n",
    "print(\"Missing values:\", sum(df_patients[column].isna()))"
   ]
  },
  {
   "cell_type": "code",
   "execution_count": null,
   "metadata": {},
   "outputs": [],
   "source": [
    "sns.histplot(df_patients[column],bins=20)\n",
    "plt.title(f\"Distribution of Date of Patient Operation\")\n",
    "plt.xlabel('Date of Patient Operation')\n",
    "plt.show()"
   ]
  },
  {
   "cell_type": "code",
   "execution_count": null,
   "metadata": {},
   "outputs": [],
   "source": [
    "# calculate time difference in years between operation and entry date\n",
    "df_patients['EDDate_OPDate_Difference'] = (df_patients['Operation_date'] - df_patients['Entry_date']).dt.days /365\n",
    "# Create a histogram to visualize the time differences\n",
    "sns.histplot(df_patients['EDDate_OPDate_Difference'], bins=20)\n",
    "plt.title(\"Time Difference between Entry Date and Operation Date Histogram\")\n",
    "plt.xlabel(\"Time Difference (years)\")\n",
    "plt.ylabel(\"Count\")\n",
    "plt.show()"
   ]
  },
  {
   "cell_type": "code",
   "execution_count": null,
   "metadata": {},
   "outputs": [],
   "source": [
    "sns.stripplot(y=df_patients['EDDate_OPDate_Difference'], jitter=True, legend=False,alpha=0.7,label=\"Patients\")\n",
    "sns.boxplot(y=df_patients['EDDate_OPDate_Difference'], width=0.3)\n",
    "plt.title(\"Scatterplot with Boxplot for a Time difference between OP Date and Entry Date\")\n",
    "plt.ylabel(\"Time Difference (years)\")\n",
    "plt.show()"
   ]
  },
  {
   "cell_type": "markdown",
   "metadata": {},
   "source": [
    "#### Patient Age\n",
    "The Patients age is also the data set. It might be needed to impute certain missing values of hormone levels.\n"
   ]
  },
  {
   "cell_type": "code",
   "execution_count": null,
   "metadata": {},
   "outputs": [],
   "source": [
    "column = 'Patient_age'\n",
    "print(\"Range of ages:\", df_patients[column].min(), \"to\", df_patients[column].max())\n",
    "print(\"Mean Patient Age:\", df_patients[column].mean())\n",
    "print(\"Median Patient Age:\", df_patients[column].median())\n",
    "print(\"Missing values:\", sum(df_patients[column].isna()))"
   ]
  },
  {
   "cell_type": "code",
   "execution_count": null,
   "metadata": {},
   "outputs": [],
   "source": [
    "sns.histplot(df_patients[column],bins=30)\n",
    "plt.title(f\"Distribution of Patient age\")\n",
    "plt.xlabel('Patient age')\n",
    "plt.show()"
   ]
  },
  {
   "cell_type": "code",
   "execution_count": null,
   "metadata": {},
   "outputs": [],
   "source": [
    "sns.stripplot(y=df_patients[column], jitter=True, legend=False,alpha=0.7,label=\"Patients\")\n",
    "sns.boxplot(y=df_patients[column], width=0.3)\n",
    "plt.title(\"Scatterplot with Boxplot for Patient Age\")\n",
    "plt.ylabel(\"Patient Age\")\n",
    "plt.legend()\n",
    "plt.show()"
   ]
  },
  {
   "cell_type": "markdown",
   "metadata": {},
   "source": [
    "### Data Additional Laboratory Data (hormonal data)\n",
    "\n",
    "Some Patients are missing lab values because they were transferred from external facilities like Kantonsspital Baden (KSB).\n",
    "If the data was found by the labelers, we can include it in the models."
   ]
  },
  {
   "cell_type": "markdown",
   "metadata": {},
   "source": [
    "#### Prolactin (hormone)\n",
    "The Column 'Prolactin' contains the measured values of prolactin for the patient.\n"
   ]
  },
  {
   "cell_type": "code",
   "execution_count": null,
   "metadata": {},
   "outputs": [],
   "source": [
    "column = 'Prolactin'\n",
    "print(\"Range of Prolactin:\", df_patients[column].min(), \"to\", df_patients[column].max())\n",
    "print(\"Mean Prolactin:\", df_patients[column].mean())\n",
    "print(\"Median Prolactin:\", df_patients[column].median())\n",
    "print(\"Missing values:\", sum(df_patients[column].isna()))"
   ]
  },
  {
   "cell_type": "code",
   "execution_count": null,
   "metadata": {},
   "outputs": [],
   "source": [
    "sns.histplot(df_patients[column])\n",
    "plt.title(f\"Distribution of {column}\")\n",
    "plt.xlabel('Prolactin (μg/l)')\n",
    "plt.show()"
   ]
  },
  {
   "cell_type": "markdown",
   "metadata": {},
   "source": [
    "#### TSH (hormone)\n",
    "The Column 'TSH' contains the measured values of thyroid stimulating\n",
    "hormone for the patient.\n"
   ]
  },
  {
   "cell_type": "code",
   "execution_count": null,
   "metadata": {},
   "outputs": [],
   "source": [
    "column = 'TSH'\n",
    "print(\"Range of TSH:\", df_patients[column].min(), \"to\", df_patients[column].max())\n",
    "print(\"Mean TSH:\", df_patients[column].mean())\n",
    "print(\"Median TSH:\", df_patients[column].median())\n",
    "print(\"Missing values:\", sum(df_patients[column].isna()))"
   ]
  },
  {
   "cell_type": "code",
   "execution_count": null,
   "metadata": {},
   "outputs": [],
   "source": [
    "sns.histplot(df_patients[column])\n",
    "plt.title(f\"Distribution of {column}\")\n",
    "plt.xlabel('TSH (mU/l)')\n",
    "plt.show()"
   ]
  },
  {
   "cell_type": "markdown",
   "metadata": {},
   "source": [
    "#### IGF1 (hormone)\n",
    "The Column 'IGF1' contains the measured values of Insulin-like growth factor 1 for the patient.\n"
   ]
  },
  {
   "cell_type": "code",
   "execution_count": null,
   "metadata": {},
   "outputs": [],
   "source": [
    "column = 'IGF1'\n",
    "print(\"Range of IGF1:\", df_patients[column].min(), \"to\", df_patients[column].max())\n",
    "print(\"Mean IGF1:\", df_patients[column].mean())\n",
    "print(\"Median IGF1:\", df_patients[column].median())\n",
    "print(\"Missing values:\", sum(df_patients[column].isna()))"
   ]
  },
  {
   "cell_type": "code",
   "execution_count": null,
   "metadata": {},
   "outputs": [],
   "source": [
    "sns.histplot(df_patients[column])\n",
    "plt.title(f\"Distribution of {column}\")\n",
    "plt.xlabel('IGF1 (μg/l/l)')\n",
    "plt.show()"
   ]
  },
  {
   "cell_type": "code",
   "execution_count": null,
   "metadata": {},
   "outputs": [],
   "source": [
    "#TODO: add additional lab values if they are genereated"
   ]
  },
  {
   "cell_type": "markdown",
   "metadata": {},
   "source": [
    "### Data Labels (Medical diagnosis data)"
   ]
  },
  {
   "cell_type": "markdown",
   "metadata": {},
   "source": [
    "#### Category Prolactinoma (binary Label)\n",
    "The Column 'Category' contains the actual label data if a adenoma is a prolactinoma or a non-prolactinoma.\n"
   ]
  },
  {
   "cell_type": "code",
   "execution_count": null,
   "metadata": {},
   "outputs": [],
   "source": [
    "column= 'Category'\n",
    "print(\"Summary Statistics:\\n\",df_patients[column].describe())\n",
    "print(\"Percentage Distribution:\\n\",df_patients[column].value_counts(normalize=True) * 100)\n",
    "print(\"Missing values Adenoma category:\", sum(df_patients[column].isna()))"
   ]
  },
  {
   "cell_type": "code",
   "execution_count": null,
   "metadata": {},
   "outputs": [],
   "source": [
    "sns.histplot(df_patients[column])\n",
    "plt.title(f\"Distribution of Adenoma Categorie (binary Label for classification)\")\n",
    "plt.xlabel('Category of Adenoma')\n",
    "plt.show()"
   ]
  },
  {
   "cell_type": "markdown",
   "metadata": {},
   "source": [
    "#### Diagnosis Prolactinoma (adenoma description)\n",
    "The Column 'Diagnosis' contains the actual label data if a adenoma is a prolactinoma or a non-prolactinoma.\n"
   ]
  },
  {
   "cell_type": "code",
   "execution_count": null,
   "metadata": {},
   "outputs": [],
   "source": [
    "column= 'Diagnosis'\n",
    "print(\"Summary Statistics:\\n\",df_patients[column].describe())\n",
    "print(\"Percentage Distribution:\\n\",df_patients[column].value_counts(normalize=True) * 100)\n",
    "print(\"Missing values Diagnosis:\", sum(df_patients[column].isna()))\n"
   ]
  },
  {
   "cell_type": "code",
   "execution_count": null,
   "metadata": {},
   "outputs": [],
   "source": [
    "sns.histplot(df_patients[column])\n",
    "plt.title(f\"Distribution of Diagnosis Description\")\n",
    "plt.xticks(rotation=45)\n",
    "plt.xlabel('Diagnosis description')\n",
    "plt.show()"
   ]
  },
  {
   "cell_type": "markdown",
   "metadata": {},
   "source": [
    "##"
   ]
  },
  {
   "cell_type": "code",
   "execution_count": null,
   "metadata": {},
   "outputs": [],
   "source": [
    "# factorise all features and then correlate them to each other\n",
    "df_patients_corr = df_patients[['Category','Adenoma_size','Prolactin', 'TSH', 'IGF1']+pre_op_columns + post_op_columns].apply(lambda x : pd.factorize(x)[0]).corr(method='pearson', min_periods=1)\n",
    "correlation_matrix = df_patients_corr.iloc[:,0:1]\n",
    "\n",
    "# Create a heatmap using Seaborn\n",
    "sns.heatmap(correlation_matrix, annot=True, cmap='coolwarm', fmt=\".2f\")\n",
    "plt.title(\"Correlation Matrix of Features to the Adenoma Category\")\n",
    "plt.xticks(rotation=45)\n",
    "plt.show()"
   ]
  },
  {
   "cell_type": "markdown",
   "metadata": {},
   "source": [
    "## MRI per Patient"
   ]
  },
  {
   "cell_type": "code",
   "execution_count": null,
   "metadata": {},
   "outputs": [],
   "source": [
    "summary = df_mris.groupby('Patient_ID')['Patient_ID'].count().sort_values(ascending=False)\n",
    "#TODO: maybe more eda needed"
   ]
  },
  {
   "cell_type": "code",
   "execution_count": null,
   "metadata": {},
   "outputs": [],
   "source": [
    "sns.stripplot(y=summary, jitter=True, legend=False,alpha=0.7,label=\"Patients\")\n",
    "sns.boxplot(y=summary, width=0.3)\n",
    "plt.title(\"Scatterplot with Boxplot for MRI count per Patient\")\n",
    "plt.ylabel(\"MRI count per Patient\")\n",
    "plt.show()"
   ]
  }
 ],
 "metadata": {
  "kernelspec": {
   "display_name": "AgroLuege--zjmSdF3",
   "language": "python",
   "name": "python3"
  },
  "language_info": {
   "codemirror_mode": {
    "name": "ipython",
    "version": 3
   },
   "file_extension": ".py",
   "mimetype": "text/x-python",
   "name": "python",
   "nbconvert_exporter": "python",
   "pygments_lexer": "ipython3",
   "version": "3.10.5"
  }
 },
 "nbformat": 4,
 "nbformat_minor": 2
}
