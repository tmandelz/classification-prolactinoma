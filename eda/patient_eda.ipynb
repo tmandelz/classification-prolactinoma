{
 "cells": [
  {
   "cell_type": "markdown",
   "metadata": {},
   "source": [
    "# Explorative Data Analysis - Patients\n",
    "\n",
    "In this notebook you find the explorative data analysis for the data of patients.\n",
    "There is also diagnostic data of the patients, data of the used MRI machines and there is also laboratory data available.\n"
   ]
  },
  {
   "cell_type": "markdown",
   "metadata": {},
   "source": [
    "## Imports and Preprocessing"
   ]
  },
  {
   "cell_type": "code",
   "execution_count": null,
   "metadata": {},
   "outputs": [],
   "source": [
    "import pandas as pd\n",
    "import matplotlib.pyplot as plt\n",
    "import seaborn as sns\n",
    "\n",
    "# set default plt figsize to (12,6)\n",
    "plt.rcParams[\"figure.figsize\"] = (12,6)\n",
    "pd.set_option('display.colheader_justify', 'center')\n",
    "# Set default font sizes\n",
    "plt.rcParams['axes.titlesize'] = 20\n",
    "plt.rcParams['xtick.labelsize'] = 16\n",
    "plt.rcParams['ytick.labelsize'] = 16\n",
    "plt.rcParams['axes.labelsize'] = 18 \n",
    "\n",
    "# plt.rcParams['font.size'] = 20 \n",
    "# plt.rcParams['axes.suptitlefontsize'] = 20\n",
    "plt.rcParams['legend.fontsize'] = 16\n",
    "plt.rcParams['legend.title_fontsize'] = 18\n",
    "\n",
    "\n",
    "import os\n",
    "print(os.getcwd())\n",
    "if os.getcwd().endswith(\"eda\"):\n",
    "    os.chdir(\"..\")\n",
    "    from src.imputation import impute_dataframe,get_imputation_values\n",
    "    os.chdir(\"eda\")\n"
   ]
  },
  {
   "cell_type": "code",
   "execution_count": null,
   "metadata": {},
   "outputs": [],
   "source": [
    "# # runs the clean and preprocessing notebook\n",
    "%run \"clean_preprocessing.ipynb\""
   ]
  },
  {
   "cell_type": "code",
   "execution_count": null,
   "metadata": {},
   "outputs": [],
   "source": [
    "# # runs the data_partitioning notebook\n",
    "%run \"data_partitioning.ipynb\""
   ]
  },
  {
   "cell_type": "code",
   "execution_count": null,
   "metadata": {},
   "outputs": [],
   "source": [
    "# read train data set\n",
    "df = pd.read_csv(r'../data/train/train_lab_data.csv')"
   ]
  },
  {
   "cell_type": "code",
   "execution_count": null,
   "metadata": {},
   "outputs": [],
   "source": [
    "df = impute_dataframe(df,get_imputation_values(df))"
   ]
  },
  {
   "cell_type": "code",
   "execution_count": null,
   "metadata": {},
   "outputs": [],
   "source": [
    "df.loc[df['Category'] == 'prolaktinom','Category'] = 'prolactinoma'\n",
    "df.loc[df['Category'] == 'non-prolaktinom','Category'] = 'non-prolactinoma'"
   ]
  },
  {
   "cell_type": "code",
   "execution_count": null,
   "metadata": {},
   "outputs": [],
   "source": [
    "# make datetime values\n",
    "df[\"Date_Case\"] = pd.to_datetime(df[\"Date_Case\"])\n",
    "df[\"Diagnosis_Date\"] = pd.to_datetime(df[\"Diagnosis_Date\"])\n",
    "df[\"Operation_date\"] = pd.to_datetime(df[\"Operation_date\"])\n",
    "# set category data type in pandas, check datatypes\n",
    "df['Adenoma_size'] = df['Adenoma_size'].astype('category')\n",
    "df['Category'] = df['Category'].astype('category')\n",
    "df['Patient_gender'] = df['Patient_gender'].astype('category')\n"
   ]
  },
  {
   "cell_type": "markdown",
   "metadata": {},
   "source": [
    "## Dataframe Summary"
   ]
  },
  {
   "cell_type": "code",
   "execution_count": null,
   "metadata": {},
   "outputs": [],
   "source": [
    "df.head()"
   ]
  },
  {
   "cell_type": "code",
   "execution_count": null,
   "metadata": {},
   "outputs": [],
   "source": [
    "df.tail()"
   ]
  },
  {
   "cell_type": "code",
   "execution_count": null,
   "metadata": {},
   "outputs": [],
   "source": [
    "print(\"Total Dataframe rows:\", len(df))\n",
    "print(\"Total Dataframe columns:\", len(df.columns))\n",
    "label_col = 'Category'\n",
    "non_prol_n = len(df[df[label_col] == 'non-prolactinoma'])\n",
    "prol_n = len(df[df[label_col] == 'prolactinoma'])\n",
    "print(\"Dataframe rows with prolatinom label:\", prol_n)\n",
    "print(\"Dataframe rows with non-prolatinom label:\", non_prol_n)"
   ]
  },
  {
   "cell_type": "markdown",
   "metadata": {},
   "source": [
    "## Distribution Analysis\n",
    "we will take a look at the distributions of the variables and check for outliers as well."
   ]
  },
  {
   "cell_type": "markdown",
   "metadata": {},
   "source": [
    "### Data of MRI\n",
    "First we will take a look at the distribution of the data for the MRI which were done. "
   ]
  },
  {
   "cell_type": "code",
   "execution_count": null,
   "metadata": {},
   "outputs": [],
   "source": [
    "column = 'Date_Case'\n",
    "print(\"Range of Case dates:\", df[column].min().strftime('%d.%m.%Y'), \"to\", df[column].max().strftime('%d.%m.%Y'))\n",
    "print(\"Missing values:\", sum(df[column].isna()))"
   ]
  },
  {
   "cell_type": "code",
   "execution_count": null,
   "metadata": {},
   "outputs": [],
   "source": [
    "sns.histplot(df[column],bins=50)\n",
    "plt.title(f\"Distribution of Date of Cases, n={len(df[column])}\")\n",
    "plt.xlabel('Date of Case')\n",
    "plt.show()"
   ]
  },
  {
   "cell_type": "markdown",
   "metadata": {},
   "source": [
    "### Data Features (screening data)"
   ]
  },
  {
   "cell_type": "markdown",
   "metadata": {},
   "source": [
    "#### Adenoma Size\n",
    "The column for the 'Adenoma_size' describes if an Adenoma was labeled as micro or macro.\n",
    "Micro is defined as <10mm and a macro is defined as >= 10 mm in size."
   ]
  },
  {
   "cell_type": "code",
   "execution_count": null,
   "metadata": {},
   "outputs": [],
   "source": [
    "column= 'Adenoma_size'\n",
    "print(f\"Summary Statistics:\\n{df[column].describe()}\")\n",
    "print(f\"Percentage Distribution:\\n{df[column].value_counts(normalize=True) * 100}\")\n",
    "print(f\"Missing values Adenoma size:{sum(df[column].isna())}\")"
   ]
  },
  {
   "cell_type": "code",
   "execution_count": null,
   "metadata": {},
   "outputs": [],
   "source": [
    "sns.histplot(df[column])\n",
    "plt.title(f\"Distribution of Adenoma size categories, n={len(df[column])}\")\n",
    "plt.xlabel('Adenoma size category')\n",
    "plt.show()"
   ]
  },
  {
   "cell_type": "markdown",
   "metadata": {},
   "source": [
    "#### Pre Operation hormonal disfunctions\n",
    "The column for the 'Ausfälle prä' describes if a patient was experiencing an under- or an overproduction of a type of hormone (produced by the pituitary gland) before an operation.\n",
    "Values which indicate a prolactinomaa are an overproduction of prolactin (hyperprolaktin).\n"
   ]
  },
  {
   "cell_type": "code",
   "execution_count": null,
   "metadata": {},
   "outputs": [],
   "source": [
    "# define all \"pre op\" columns\n",
    "pre_op_columns = [col for col in df.columns if \"Pre_\" in col]"
   ]
  },
  {
   "cell_type": "code",
   "execution_count": null,
   "metadata": {},
   "outputs": [],
   "source": [
    "# summarise and sort the pre op column values\n",
    "summary=df[pre_op_columns].sum().sort_values(ascending=False)\n",
    "sns.barplot(x=summary.index, y=summary.values)\n",
    "plt.title(f\"Distribution of hormonal disfunctions, multiples per patient possible, n={sum(summary)}\")\n",
    "plt.xlabel(\"Pre OP hormonal disfunctions\")\n",
    "plt.ylabel(\"Count\")\n",
    "plt.xticks(rotation=45)\n",
    "plt.show()"
   ]
  },
  {
   "cell_type": "markdown",
   "metadata": {},
   "source": [
    "#### Date of Entry and Operation\n",
    "The columns for the 'Eintrittsdatum' and 'Operationdatum' describe when a patient entered the hospital and also when the operation took place.\n",
    "The difference between these values can show the significance or the extraordinary need for an operation."
   ]
  },
  {
   "cell_type": "code",
   "execution_count": null,
   "metadata": {},
   "outputs": [],
   "source": [
    "column = 'Diagnosis_Date'\n",
    "print(\"Range of Diagnosis date:\", df[column].min().strftime('%d.%m.%Y'), \"to\", df[column].max().strftime('%d.%m.%Y'))\n",
    "print(\"Missing values:\", sum(df[column].isna()))"
   ]
  },
  {
   "cell_type": "code",
   "execution_count": null,
   "metadata": {},
   "outputs": [],
   "source": [
    "sns.histplot(df[column])\n",
    "plt.title(f\"Distribution of Date of Patient Diagnosis, n={len(df[column])}\")\n",
    "plt.xlabel('Date of Patient Diagnosis')\n",
    "plt.show()"
   ]
  },
  {
   "cell_type": "code",
   "execution_count": null,
   "metadata": {},
   "outputs": [],
   "source": [
    "column = 'Operation_date'\n",
    "print(\"Range of Operation date:\", df[column].min().strftime('%d.%m.%Y'), \"to\", df[column].max().strftime('%d.%m.%Y'))\n",
    "print(\"Missing values:\", sum(df[column].isna()))"
   ]
  },
  {
   "cell_type": "code",
   "execution_count": null,
   "metadata": {},
   "outputs": [],
   "source": [
    "sns.histplot(df[column])\n",
    "plt.title(f\"Distribution of Date of Patient Operation, n={len(df[column])}\")\n",
    "plt.xlabel('Date of Patient Operation')\n",
    "plt.show()"
   ]
  },
  {
   "cell_type": "code",
   "execution_count": null,
   "metadata": {},
   "outputs": [],
   "source": [
    "# calculate time difference in years between operation and entry date\n",
    "df['EDDate_OPDate_Difference'] = (df['Operation_date'] - df['Diagnosis_Date']).dt.days /365\n",
    "# Create a histogram to visualize the time differences\n",
    "sns.kdeplot(df['EDDate_OPDate_Difference'], fill=True)\n",
    "plt.title(f\"Time Difference between Entry Date and Operation Date, n={len(df[column])}\")\n",
    "plt.xlabel(\"Time Difference (years)\")\n",
    "plt.ylabel(\"Count\")\n",
    "plt.show()"
   ]
  },
  {
   "cell_type": "code",
   "execution_count": null,
   "metadata": {},
   "outputs": [],
   "source": [
    "sns.stripplot(y=df['EDDate_OPDate_Difference'], jitter=True, legend=False,alpha=0.7,label=\"Patients\")\n",
    "sns.boxplot(y=df['EDDate_OPDate_Difference'], width=0.3)\n",
    "plt.title(f\"Scatterplot with Boxplot for a Time difference between OP Date and Entry Date, n={len(df[column])}\")\n",
    "plt.ylabel(\"Time Difference (years)\")\n",
    "plt.show()"
   ]
  },
  {
   "cell_type": "markdown",
   "metadata": {},
   "source": [
    "#### Patient gender\n",
    "The Patients gender is in the data set. It might be needed to impute certain missing values of hormone levels."
   ]
  },
  {
   "cell_type": "code",
   "execution_count": null,
   "metadata": {},
   "outputs": [],
   "source": [
    "column = 'Patient_gender'\n",
    "print(\"Summary Statistics Patient Gender:\\n\", df[column].describe())\n",
    "print(\"Missing values:\", sum(df[column].isna()))\n",
    "sns.histplot(df[column],bins=30)\n",
    "plt.title(f\"Distribution of Patient gender, n={len(df[column])}\",fontsize=20)\n",
    "plt.xlabel('Patient gender')\n",
    "plt.ylabel('Count')\n",
    "\n",
    "plt.xticks([0, 1], ['Female', 'Male'])  # Replace 0 and 1 with Female and Male\n",
    "plt.show()"
   ]
  },
  {
   "cell_type": "markdown",
   "metadata": {},
   "source": [
    "#### Patient Age\n",
    "The Patients age is also the data set. It might be needed to impute certain missing values of hormone levels.\n"
   ]
  },
  {
   "cell_type": "code",
   "execution_count": null,
   "metadata": {},
   "outputs": [],
   "source": [
    "column = 'Patient_age'\n",
    "print(\"Range of ages:\", df[column].min(), \"to\", df[column].max())\n",
    "print(\"Mean Patient Age:\", df[column].mean())\n",
    "print(\"Median Patient Age:\", df[column].median())\n",
    "print(\"Missing values Patient Age:\", sum(df[column].isna()))\n",
    "sns.kdeplot(df[column], fill=True)\n",
    "plt.title(f\"Distribution of Patient age, n={len(df[column])}\")\n",
    "plt.xlabel('Patient age')\n",
    "plt.show()\n",
    "\n",
    "sns.stripplot(y=df[column],jitter=True, legend=False,alpha=0.7,label=\"Patients\")\n",
    "sns.boxplot(y=df[column], width=0.3)\n",
    "plt.title(f\"Scatterplot with Boxplot for Patient Age, n={len(df[column])}\")\n",
    "plt.ylabel(\"Patient Age\")\n",
    "plt.legend()\n",
    "plt.show()"
   ]
  },
  {
   "cell_type": "markdown",
   "metadata": {},
   "source": [
    "### Data Laboratory Data (hormonal data)\n",
    "\n",
    "Some Patients are missing lab values because they were transferred from external facilities like Kantonsspital Baden (KSB).\n",
    "If the data was found by the labelers, we can include it in the models."
   ]
  },
  {
   "cell_type": "markdown",
   "metadata": {},
   "source": [
    "#### Prolactin (hormone)\n",
    "The Column 'Prolactin' contains the measured values of prolactin for the patient.\n"
   ]
  },
  {
   "cell_type": "code",
   "execution_count": null,
   "metadata": {},
   "outputs": [],
   "source": [
    "column = 'PROL'\n",
    "label_col = 'Category'\n",
    "print(\"Range of Prolactin:\", df[column].min(), \"to\", df[column].max())\n",
    "print(\"Mean Prolactin:\", df[column].mean())\n",
    "print(\"Median Prolactin:\", df[column].median())\n",
    "print(\"Missing values:\", sum(df[column].isna()))\n",
    "sns.kdeplot(df[column], fill=True)\n",
    "plt.title(f\"Distribution of {column}, n={len(df[column])}\")\n",
    "plt.xlabel('Prolactin (μg/l)')\n",
    "plt.xlim(0, None)\n",
    "plt.show()"
   ]
  },
  {
   "cell_type": "code",
   "execution_count": null,
   "metadata": {},
   "outputs": [],
   "source": [
    "print(\"Range of Prolactin for 'prolactinoma':\", df[df[label_col] == 'prolactinoma'][column].min(), \"to\", df[df[label_col] == 'prolactinoma'][column].max())\n",
    "print(\"Mean Prolactin for 'prolactinoma':\", df[df[label_col] == 'prolactinoma'][column].mean())\n",
    "print(\"Median Prolactin for 'prolactinoma':\", df[df[label_col] == 'prolactinoma'][column].median())\n",
    "print(\"Missing values for 'prolactinoma':\", sum(df[df[label_col] == 'prolactinoma'][column].isna()))\n",
    "print('\\n')\n",
    "print(\"Range of Prolactin for 'non-prolactinoma':\", df[df[label_col] == 'non-prolactinoma'][column].min(), \"to\", df[df[label_col] == 'non-prolactinoma'][column].max())\n",
    "print(\"Mean Prolactin for 'non-prolactinoma':\", df[df[label_col] == 'non-prolactinoma'][column].mean())\n",
    "print(\"Median Prolactin for 'non-prolactinoma':\", df[df[label_col] == 'non-prolactinoma'][column].median())\n",
    "print(\"Missing values for 'non-prolactinoma':\", sum(df[df[label_col] == 'non-prolactinoma'][column].isna()))\n",
    "sns.kdeplot(df,x=column,hue=label_col,fill=True,)\n",
    "plt.title(f\"N(non-prolactinoma) = {non_prol_n}, N(prolactinoma) = {prol_n} \")\n",
    "plt.suptitle(f'Distribution of {column}')\n",
    "plt.xlabel('Prolactin (μg/l)')\n",
    "plt.xlim(0, None)\n",
    "plt.show()"
   ]
  },
  {
   "cell_type": "markdown",
   "metadata": {},
   "source": [
    "#### Cortisol\n",
    "The Column 'COR' contains the measured values of Cortisol for the patient.\n"
   ]
  },
  {
   "cell_type": "code",
   "execution_count": null,
   "metadata": {},
   "outputs": [],
   "source": [
    "column = 'COR'\n",
    "print(\"Range of Cortisol:\", df[column].min(), \"to\", df[column].max())\n",
    "print(\"Mean Cortisol:\", df[column].mean())\n",
    "print(\"Median Cortisol:\", df[column].median())\n",
    "print(\"Missing values Cortisol:\", sum(df[column].isna()))\n",
    "sns.kdeplot(df[column],fill=True)\n",
    "plt.title(f\"Distribution of {column}, n={len(df[column])}\")\n",
    "plt.xlabel('Cortisol (mU/l)')\n",
    "plt.xlim(0, None)\n",
    "plt.show()"
   ]
  },
  {
   "cell_type": "code",
   "execution_count": null,
   "metadata": {},
   "outputs": [],
   "source": [
    "print(\"Range of Cortisol for 'prolactinoma':\", df[df[label_col] == 'prolactinoma'][column].min(), \"to\", df[df[label_col] == 'prolactinoma'][column].max())\n",
    "print(\"Mean Cortisol for 'prolactinoma':\", df[df[label_col] == 'prolactinoma'][column].mean())\n",
    "print(\"Median Cortisol for 'prolactinoma':\", df[df[label_col] == 'prolactinoma'][column].median())\n",
    "print(\"Missing values Cortisol for 'prolactinoma':\", sum(df[df[label_col] == 'prolactinoma'][column].isna()))\n",
    "print('\\n')\n",
    "print(\"Range of Cortisol for 'non-prolactinoma':\", df[df[label_col] == 'non-prolactinoma'][column].min(), \"to\", df[df[label_col] == 'non-prolactinoma'][column].max())\n",
    "print(\"Mean Cortisol for 'non-prolactinoma':\", df[df[label_col] == 'non-prolactinoma'][column].mean())\n",
    "print(\"Median Cortisol for 'non-prolactinoma':\", df[df[label_col] == 'non-prolactinoma'][column].median())\n",
    "print(\"Missing values Cortisol for 'non-prolactinoma':\", sum(df[df[label_col] == 'non-prolactinoma'][column].isna()))\n",
    "\n",
    "sns.kdeplot(df,x=column,hue=label_col,fill=True)\n",
    "plt.title(f\"N(non-prolactinoma) = {non_prol_n}, N(prolactinoma) = {prol_n} \")\n",
    "plt.suptitle(f'Distribution of {column}')\n",
    "plt.xlabel('Cortisol (mU/l)')\n",
    "plt.xlim(0, None)\n",
    "\n",
    "plt.show()"
   ]
  },
  {
   "cell_type": "markdown",
   "metadata": {},
   "source": [
    "#### IGF1 (hormone)\n",
    "The Column 'IGF1' contains the measured values of Insulin-like growth factor 1 for the patient.\n"
   ]
  },
  {
   "cell_type": "code",
   "execution_count": null,
   "metadata": {},
   "outputs": [],
   "source": [
    "column = 'IGF1'\n",
    "print(\"Range of IGF1:\", df[column].min(), \"to\", df[column].max())\n",
    "print(\"Mean IGF1:\", df[column].mean())\n",
    "print(\"Median IGF1:\", df[column].median())\n",
    "print(\"Missing values:\", sum(df[column].isna()))\n",
    "sns.kdeplot(df[column],fill=True,)\n",
    "plt.title(f\"Distribution of {column}, n={len(df[column])}\")\n",
    "plt.xlabel('IGF1 (μg/l)')\n",
    "plt.xlim(0, None)\n",
    "plt.show()"
   ]
  },
  {
   "cell_type": "code",
   "execution_count": null,
   "metadata": {},
   "outputs": [],
   "source": [
    "print(\"Range of IGF1 for 'prolactinoma':\", df[df[label_col] == 'prolactinoma'][column].min(), \"to\", df[df[label_col] == 'prolactinoma'][column].max())\n",
    "print(\"Mean IGF1 for 'prolactinoma':\", df[df[label_col] == 'prolactinoma'][column].mean())\n",
    "print(\"Median IGF1 for 'prolactinoma':\", df[df[label_col] == 'prolactinoma'][column].median())\n",
    "print(\"Missing values IGF1 for 'prolactinoma':\", sum(df[df[label_col] == 'prolactinoma'][column].isna()))\n",
    "print('\\n')\n",
    "print(\"Range of IGF1 for 'non-prolactinoma':\", df[df[label_col] == 'non-prolactinoma'][column].min(), \"to\", df[df[label_col] == 'non-prolactinoma'][column].max())\n",
    "print(\"Mean IGF1 for 'non-prolactinoma':\", df[df[label_col] == 'non-prolactinoma'][column].mean())\n",
    "print(\"Median IGF1 for 'non-prolactinoma':\", df[df[label_col] == 'non-prolactinoma'][column].median())\n",
    "print(\"Missing values IGF1 for 'non-prolactinoma':\", sum(df[df[label_col] == 'non-prolactinoma'][column].isna()))\n",
    "\n",
    "sns.kdeplot(df,x=column,hue=label_col,fill=True,)\n",
    "plt.title(f\"N(non-prolactinoma) = {non_prol_n}, N(prolactinoma) = {prol_n} \")\n",
    "plt.suptitle(f'Distribution of {column}')\n",
    "plt.xlabel('IGF1 (μg/l)')\n",
    "plt.xlim(0, None)\n",
    "plt.show()"
   ]
  },
  {
   "cell_type": "markdown",
   "metadata": {},
   "source": [
    "#### FT4 (hormone)\n",
    "The Column 'FT4' contains the measured values of Thyroxine free hormone for the patient.\n"
   ]
  },
  {
   "cell_type": "code",
   "execution_count": null,
   "metadata": {},
   "outputs": [],
   "source": [
    "column = 'FT4'\n",
    "print(\"Range of FT4:\", df[column].min(), \"to\", df[column].max())\n",
    "print(\"Mean FT4:\", df[column].mean())\n",
    "print(\"Median FT4:\", df[column].median())\n",
    "print(\"Missing values:\", sum(df[column].isna()))\n",
    "sns.kdeplot(df[column],fill=True,)\n",
    "plt.title(f\"Distribution of {column}, n={len(df[column])}\")\n",
    "plt.xlabel('FT4 pmol/l')\n",
    "plt.show()"
   ]
  },
  {
   "cell_type": "code",
   "execution_count": null,
   "metadata": {},
   "outputs": [],
   "source": [
    "print(\"Range of FT4 for 'prolactinoma':\", df[df[label_col] == 'prolactinoma'][column].min(), \"to\", df[df[label_col] == 'prolactinoma'][column].max())\n",
    "print(\"Mean FT4 for 'prolactinoma':\", df[df[label_col] == 'prolactinoma'][column].mean())\n",
    "print(\"Median FT4 for 'prolactinoma':\", df[df[label_col] == 'prolactinoma'][column].median())\n",
    "print(\"Missing values FT4 for 'prolactinoma':\", sum(df[df[label_col] == 'prolactinoma'][column].isna()))\n",
    "print('\\n')\n",
    "print(\"Range of FT4 for 'non-prolactinoma':\", df[df[label_col] == 'non-prolactinoma'][column].min(), \"to\", df[df[label_col] == 'non-prolactinoma'][column].max())\n",
    "print(\"Mean FT4 for 'non-prolactinoma':\", df[df[label_col] == 'non-prolactinoma'][column].mean())\n",
    "print(\"Median FT4 for 'non-prolactinoma':\", df[df[label_col] == 'non-prolactinoma'][column].median())\n",
    "print(\"Missing values FT4 for 'non-prolactinoma':\", sum(df[df[label_col] == 'non-prolactinoma'][column].isna()))\n",
    "sns.kdeplot(df,x=column,hue=label_col,fill=True,)\n",
    "plt.title(f\"N(non-prolactinoma) = {non_prol_n}, N(prolactinoma) = {prol_n} \")\n",
    "plt.suptitle(f'Distribution of {column}')\n",
    "plt.xlabel('FT4 pmol/l')\n",
    "plt.xlim(0, None)\n",
    "plt.show()\n"
   ]
  },
  {
   "cell_type": "markdown",
   "metadata": {},
   "source": [
    "#### Testosteron (hormone)\n",
    "The Column 'Testosteron' contains the measured values of Testosteron for the patient.\n"
   ]
  },
  {
   "cell_type": "code",
   "execution_count": null,
   "metadata": {},
   "outputs": [],
   "source": [
    "column = 'TEST'\n",
    "print(\"Range of Testosteron:\", df[column].min(), \"to\", df[column].max())\n",
    "print(\"Mean Testosteron:\", df[column].mean())\n",
    "print(\"Median Testosteron:\", df[column].median())\n",
    "print(\"Missing values:\", sum(df[column].isna()))\n",
    "sns.kdeplot(df[column],fill=True,)\n",
    "plt.title(f\"Distribution of {column}\")\n",
    "plt.xlabel('Testosteron nmol/l ')\n",
    "plt.show()"
   ]
  },
  {
   "cell_type": "code",
   "execution_count": null,
   "metadata": {},
   "outputs": [],
   "source": [
    "print(\"Range of Testosteron for 'prolactinoma':\", df[df[label_col] == 'prolactinoma'][column].min(), \"to\", df[df[label_col] == 'prolactinoma'][column].max())\n",
    "print(\"Mean Testosteron for 'prolactinoma':\", df[df[label_col] == 'prolactinoma'][column].mean())\n",
    "print(\"Median Testosteron for 'prolactinoma':\", df[df[label_col] == 'prolactinoma'][column].median())\n",
    "print(\"Missing values Testosteron for 'prolactinoma':\", sum(df[df[label_col] == 'prolactinoma'][column].isna()))\n",
    "print('\\n')\n",
    "print(\"Range of Testosteron for 'non-prolactinoma':\", df[df[label_col] == 'non-prolactinoma'][column].min(), \"to\", df[df[label_col] == 'non-prolactinoma'][column].max())\n",
    "print(\"Mean Testosteron for 'non-prolactinoma':\", df[df[label_col] == 'non-prolactinoma'][column].mean())\n",
    "print(\"Median Testosteron for 'non-prolactinoma':\", df[df[label_col] == 'non-prolactinoma'][column].median())\n",
    "print(\"Missing values Testosteron for 'non-prolactinoma':\", sum(df[df[label_col] == 'non-prolactinoma'][column].isna()))\n",
    "sns.kdeplot(df,x=column,hue=label_col,fill=True,)\n",
    "plt.title(f\"N(non-prolactinoma) = {non_prol_n}, N(prolactinoma) = {prol_n} \")\n",
    "plt.suptitle(f'Distribution of {column}')\n",
    "plt.xlabel('Testosteron nmol/l')\n",
    "plt.xlim(0, None)\n",
    "plt.show()"
   ]
  },
  {
   "cell_type": "markdown",
   "metadata": {},
   "source": [
    "#### LH (hormone)\n",
    "The Column 'LH' contains the measured values of Luteinizing Hormone for the patient.\n"
   ]
  },
  {
   "cell_type": "code",
   "execution_count": null,
   "metadata": {},
   "outputs": [],
   "source": [
    "column = 'LH'\n",
    "print(\"Range of LH:\", df[column].min(), \"to\", df[column].max())\n",
    "print(\"Mean LH:\", df[column].mean())\n",
    "print(\"Median LH:\", df[column].median())\n",
    "print(\"Missing values:\", sum(df[column].isna()))\n",
    "sns.kdeplot(df[column],fill=True,)\n",
    "plt.title(f\"Distribution of {column}\")\n",
    "plt.xlabel('LH U/l')\n",
    "plt.show()"
   ]
  },
  {
   "cell_type": "code",
   "execution_count": null,
   "metadata": {},
   "outputs": [],
   "source": [
    "print(\"Range of LH for 'prolactinoma':\", df[df[label_col] == 'prolactinoma'][column].min(), \"to\", df[df[label_col] == 'prolactinoma'][column].max())\n",
    "print(\"Mean LH for 'prolactinoma':\", df[df[label_col] == 'prolactinoma'][column].mean())\n",
    "print(\"Median LH for 'prolactinoma':\", df[df[label_col] == 'prolactinoma'][column].median())\n",
    "print(\"Missing values LH for 'prolactinoma':\", sum(df[df[label_col] == 'prolactinoma'][column].isna()))\n",
    "print('\\n')\n",
    "print(\"Range of LH for 'non-prolactinoma':\", df[df[label_col] == 'non-prolactinoma'][column].min(), \"to\", df[df[label_col] == 'non-prolactinoma'][column].max())\n",
    "print(\"Mean LH for 'non-prolactinoma':\", df[df[label_col] == 'non-prolactinoma'][column].mean())\n",
    "print(\"Median LH for 'non-prolactinoma':\", df[df[label_col] == 'non-prolactinoma'][column].median())\n",
    "print(\"Missing values LH for 'non-prolactinoma':\", sum(df[df[label_col] == 'non-prolactinoma'][column].isna()))\n",
    "sns.kdeplot(df,x=column,hue=label_col,fill=True,)\n",
    "plt.title(f\"N(non-prolactinoma) = {non_prol_n}, N(prolactinoma) = {prol_n} \")\n",
    "plt.suptitle(f'Distribution of {column}')\n",
    "plt.xlabel('LH U/l')\n",
    "plt.xlim(0, None)\n",
    "plt.show()"
   ]
  },
  {
   "cell_type": "markdown",
   "metadata": {},
   "source": [
    "#### FSH (hormone)\n",
    "The Column 'FSH' contains the measured values of Follicle-stimulating hormone  for the patient.\n"
   ]
  },
  {
   "cell_type": "code",
   "execution_count": null,
   "metadata": {},
   "outputs": [],
   "source": [
    "column = 'FSH'\n",
    "print(\"Range of FSH:\", df[column].min(), \"to\", df[column].max())\n",
    "print(\"Mean FSH:\", df[column].mean())\n",
    "print(\"Median FSH:\", df[column].median())\n",
    "print(\"Missing values:\", sum(df[column].isna()))\n",
    "sns.kdeplot(df[column],fill=True,)\n",
    "plt.title(f\"Distribution of {column}\")\n",
    "plt.xlabel('FSH U/l')\n",
    "plt.show()"
   ]
  },
  {
   "cell_type": "code",
   "execution_count": null,
   "metadata": {},
   "outputs": [],
   "source": [
    "print(\"Range of FSH for 'prolactinoma':\", df[df[label_col] == 'prolactinoma'][column].min(), \"to\", df[df[label_col] == 'prolactinoma'][column].max())\n",
    "print(\"Mean FSH for 'prolactinoma':\", df[df[label_col] == 'prolactinoma'][column].mean())\n",
    "print(\"Median FSH for 'prolactinoma':\", df[df[label_col] == 'prolactinoma'][column].median())\n",
    "print(\"Missing values FSH for 'prolactinoma':\", sum(df[df[label_col] == 'prolactinoma'][column].isna()))\n",
    "print('\\n')\n",
    "print(\"Range of FSH for 'non-prolactinoma':\", df[df[label_col] == 'non-prolactinoma'][column].min(), \"to\", df[df[label_col] == 'non-prolactinoma'][column].max())\n",
    "print(\"Mean FSH for 'non-prolactinoma':\", df[df[label_col] == 'non-prolactinoma'][column].mean())\n",
    "print(\"Median FSH for 'non-prolactinoma':\", df[df[label_col] == 'non-prolactinoma'][column].median())\n",
    "print(\"Missing values FSH for 'non-prolactinoma':\", sum(df[df[label_col] == 'non-prolactinoma'][column].isna()))\n",
    "sns.kdeplot(df,x=column,hue=label_col,fill=True,)\n",
    "plt.title(f\"N(non-prolactinoma) = {non_prol_n}, N(prolactinoma) = {prol_n} \")\n",
    "plt.suptitle(f'Distribution of {column}')\n",
    "plt.xlabel('FSH U/l')\n",
    "plt.xlim(0, None)\n",
    "plt.show()"
   ]
  },
  {
   "cell_type": "markdown",
   "metadata": {},
   "source": [
    "### Data Labels (Medical diagnosis data)"
   ]
  },
  {
   "cell_type": "markdown",
   "metadata": {},
   "source": [
    "#### Category Prolactinoma (binary Label)\n",
    "The Column 'Category' contains the actual label data if a adenoma is a prolactinoma or a non-prolactinoma.\n"
   ]
  },
  {
   "cell_type": "code",
   "execution_count": null,
   "metadata": {},
   "outputs": [],
   "source": [
    "column = 'Category'\n",
    "print(\"Summary Statistics:\\n\",df[column].describe())\n",
    "print(\"Percentage Distribution:\\n\",df[column].value_counts(normalize=True) * 100)\n",
    "print(\"Missing values Adenoma category:\", sum(df[column].isna()))\n",
    "sns.histplot(df[column])\n",
    "plt.title(f\"Distribution of Adenoma Category (binary Label for classification)\")\n",
    "plt.xlabel('Category of Adenoma')\n",
    "plt.show()"
   ]
  },
  {
   "cell_type": "code",
   "execution_count": null,
   "metadata": {},
   "outputs": [],
   "source": [
    "# Create a figure and axis (subplots)\n",
    "fig, axes = plt.subplots(1, 2, figsize=(12, 6))\n",
    "\n",
    "# First subplot: Dodge plot\n",
    "sns.histplot(df, x='Category', hue='Patient_gender', multiple='dodge', ax=axes[0])\n",
    "\n",
    "# Set the title and labels for the first subplot\n",
    "axes[0].set_title(\"Absolute Values\")\n",
    "axes[0].set_xlabel('Category of Adenoma')\n",
    "axes[0].set_xticks(range(len(df['Category'].unique())))\n",
    "axes[0].set_xticklabels(['prolactinoma','non-prolactinoma'], ha='center')\n",
    "\n",
    "# Second subplot: Fill plot\n",
    "sns.histplot(df, x='Category', hue='Patient_gender', multiple='fill', ax=axes[1])\n",
    "\n",
    "# Set the title and labels for the second subplot\n",
    "axes[1].set_title(\"Relative Values\")\n",
    "axes[1].set_xlabel('Category of Adenoma')\n",
    "axes[1].set_xticks(range(len(df['Category'].unique())))\n",
    "axes[1].set_xticklabels(['prolactinoma','non-prolactinoma'], ha='center')\n",
    "\n",
    "# Adjust layout for better spacing\n",
    "fig.suptitle(\"Comparison of Adenoma Category Distribution by Gender\")\n",
    "plt.tight_layout()\n",
    "\n",
    "# Show the plot\n",
    "plt.show()\n"
   ]
  },
  {
   "cell_type": "code",
   "execution_count": null,
   "metadata": {},
   "outputs": [],
   "source": [
    "age_bins = [17,39,61, float('inf')]  # Define your age ranges\n",
    "age_labels = ['17 - 39 years','40 - 61 years ','62+ years']  # Labels for the age ranges\n",
    "\n",
    "# Create a new column 'AgeRange' in your DataFrame based on the age bins\n",
    "df['AgeRange'] = pd.cut(df['Patient_age'], bins=age_bins, labels=age_labels, right=False)\n",
    "# Create a figure and axis (subplots)\n",
    "fig, axes = plt.subplots(1, 2, figsize=(12, 6))\n",
    "\n",
    "# First subplot: Dodge plot\n",
    "sns.histplot(df, x='Category', hue='AgeRange', multiple='dodge', ax=axes[0])\n",
    "\n",
    "# Set the title and labels for the first subplot\n",
    "axes[0].set_title(\"Absolute Values\")\n",
    "axes[0].set_xlabel('Category of Adenoma')\n",
    "\n",
    "# Second subplot: Fill plot\n",
    "sns.histplot(df, x='Category', hue='AgeRange', multiple='fill', ax=axes[1])\n",
    "\n",
    "# Set the title and labels for the second subplot\n",
    "axes[1].set_title(\"Relative Values\")\n",
    "axes[1].set_xlabel('Category of Adenoma')\n",
    "\n",
    "# Adjust layout for better spacing\n",
    "fig.suptitle(\"Comparison of Adenoma Category Distribution by Age Range\")\n",
    "plt.tight_layout()\n",
    "\n",
    "# Show the plot\n",
    "plt.show()\n"
   ]
  },
  {
   "cell_type": "code",
   "execution_count": null,
   "metadata": {},
   "outputs": [],
   "source": [
    "# Create a figure with two subplots\n",
    "fig, axes = plt.subplots(nrows=1, ncols=2, figsize=(12, 6))\n",
    "\n",
    "# Plot the first histogram on the first subplot\n",
    "sns.histplot(data=df, x='fold', ax=axes[0],bins=len(df['fold'].unique()))\n",
    "axes[0].set_title('Histogram of fold')\n",
    "\n",
    "# Plot the second histogram on the second subplot\n",
    "sns.histplot(data=df, x='fold_learning_curve', ax=axes[1],bins=len(df['fold_learning_curve'].unique()))\n",
    "axes[1].set_title('Histogram of fold_learning_curve')\n",
    "\n",
    "# Adjust layout to prevent overlap of subplots\n",
    "plt.tight_layout()\n",
    "\n",
    "# Show the plot\n",
    "plt.show()\n"
   ]
  },
  {
   "cell_type": "markdown",
   "metadata": {},
   "source": [
    "# Conclusion EDA\n",
    "In summary, our exploration of the small dataset, consisting of approximately 200 observations with 9 features encompassing hormones, gender, and age, has provided valuable insights, while also revealing areas that warrant careful consideration in future research endeavors.\n",
    "\n",
    " \n",
    "The small size of the dataset underscores the potential benefits of incorporating more features and observations to bolster the robustness of any predictive model, especially deep learning models. While the option of increasing observations exists by incorporating lab data without corresponding MRI results <b> (und auch umgekehrt MRI Data without corresponding Lab Data...), </b>this approach introduces a trade-off in data quality. Extracting more features from MRI images is an avenue for consideration but given our commitment to developing multimodal models that combine tabular lab features with MRI picture data we choose not to do it. \n",
    "<b>(Daten extrahieren von MRI-Images und dann zusammenfügen ist auch multimodal!!, vielleicht eher multimodalen fusion Modellen ?)</b>\n",
    " \n",
    "Examining feature distributions, we observed generally well-distributed patterns, with the highest sparsity (~45%) observed in the testosterone hormone. This sparsity is logically explained by the absence of testosterone testing in females. Addressing missing values appropriately is crucial to maintaining the integrity of our analyses. <b>(Hier noch erklären, was die Möglichkeiten sind...)</b>\n",
    "\n",
    "Analyzing differences in hormone distributions associated with the target label, we identified notable associations. FSH and LH gender hormones exhibited lower values for prolactinoma cases, while the prolactin hormone displayed a wider distribution, notably higher in cases with prolactinoma. These distinctions, grounded in medical rationale, provide meaningful insights for feature selection in our tabular model development.\n",
    "\n",
    "Furthermore, our analysis revealed intriguing patterns concerning patient age and gender in relation to the target label. Males demonstrated a slight (~5%) prevalence for prolactinomas. Additionally, age-related trends indicated a slight prevalence among younger individuals (17-39) and middle-aged individuals (40-61), while older individuals (62+) showed less prolactinomas, potentially indicating the occurrence of other types of brain tumors.\n",
    "\n",
    "In conclusion, our exploratory analysis serves as a foundation for future investigations. The identified areas for improvement, such as the need for more features and observations, underscore the ongoing evolution of our research. Balancing data quality and quantity, understanding feature distributions, and recognizing medically significant associations will guide the development of more robust multimodal models in subsequent studies.\n",
    "\n"
   ]
  },
  {
   "cell_type": "markdown",
   "metadata": {},
   "source": [
    "\n",
    "- small dataset (~200 observations and 9 features, 7 hormones and gender as well as age)\n",
    "    - more features and more observations are probably needed\n",
    "    - more observations might be possible if we decrease the dataquality by using lab data which does not correspond with an MRI, especially for deep learning models\n",
    "    - more features could be extracted from MRI images but for the lab data we used all available features, we will not do it because we wanted to use multimodal models (tabular lab features and mri picture data)\n",
    "- all features are distributed well, the highest sparsity value ~45% is in the testosteron hormone, this can be explained by the missing values for females which testosteron is not tested in the lab\n",
    "- differences in label in distributions of hormones\n",
    "    - FSH and LH gender hromones are associated with lower values for a prolactinoma, prolaktine hormone is much wider distributed (aka higher values) for cases with prolactinoma\n",
    "    - both of these differences are medically explainable \n",
    "- some differences in patient age and gender for label\n",
    "    - males have a little ~5% prevalence\n",
    "    - younger people (17-39) have a little prevalence for a prolactinoma, middle aged (40-61) also have a little prevalence, older people (62+) might have other brain tumors"
   ]
  }
 ],
 "metadata": {
  "kernelspec": {
   "display_name": "AgroLuege--zjmSdF3",
   "language": "python",
   "name": "python3"
  },
  "language_info": {
   "codemirror_mode": {
    "name": "ipython",
    "version": 3
   },
   "file_extension": ".py",
   "mimetype": "text/x-python",
   "name": "python",
   "nbconvert_exporter": "python",
   "pygments_lexer": "ipython3",
   "version": "3.10.5"
  }
 },
 "nbformat": 4,
 "nbformat_minor": 2
}
