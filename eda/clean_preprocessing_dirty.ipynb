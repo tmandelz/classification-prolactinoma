{
 "cells": [
  {
   "cell_type": "markdown",
   "metadata": {},
   "source": [
    "# Data Cleaning\n",
    "\n",
    "This notebook is used to clean and combine all datasources into a coherent dataset. \n",
    "\n",
    "We have three different data groups:\n",
    "* Label & Patient Data\n",
    "* Lab Data\n",
    "* MRI Data\n",
    "\n",
    "All of these have to be cleaned, selected and combined into one dataset."
   ]
  },
  {
   "cell_type": "markdown",
   "metadata": {},
   "source": [
    "## Imports"
   ]
  },
  {
   "cell_type": "code",
   "execution_count": 1,
   "metadata": {},
   "outputs": [],
   "source": [
    "import pandas as pd\n",
    "import datetime\n",
    "import numpy as np\n",
    "import re"
   ]
  },
  {
   "cell_type": "code",
   "execution_count": 2,
   "metadata": {},
   "outputs": [],
   "source": [
    "lab_data = pd.read_csv(r'../raw_data/lab_data.csv')\n",
    "mri_data = pd.read_csv(r'../raw_data/mri_data.csv')"
   ]
  },
  {
   "cell_type": "code",
   "execution_count": 3,
   "metadata": {},
   "outputs": [],
   "source": [
    "label_data = pd.read_csv(r'../raw_data/label_data.csv')"
   ]
  },
  {
   "cell_type": "code",
   "execution_count": 4,
   "metadata": {},
   "outputs": [],
   "source": [
    "combined_data = pd.concat([lab_data,mri_data])"
   ]
  },
  {
   "cell_type": "code",
   "execution_count": 5,
   "metadata": {},
   "outputs": [],
   "source": [
    "combined_dirty = combined_data.merge(label_data[['Patient_ID','Category','Patient_age','Patient_gender','Pre_OP_hormone_thyreo', 'Pre_OP_hormone_gonado',\n",
    "       'Pre_OP_hormone_somato', 'Pre_OP_hormone_hyperprolaktin',]])\n",
    "combined_dirty = combined_dirty.drop(columns='ID_MRI_Machine')\n",
    "combined_dirty.to_csv(r'../raw_data/data_dirty_merge.csv',index=False)"
   ]
  }
 ],
 "metadata": {
  "kernelspec": {
   "display_name": "pro5d-classification-prolactinoma-FBKpBkq7",
   "language": "python",
   "name": "python3"
  },
  "language_info": {
   "codemirror_mode": {
    "name": "ipython",
    "version": 3
   },
   "file_extension": ".py",
   "mimetype": "text/x-python",
   "name": "python",
   "nbconvert_exporter": "python",
   "pygments_lexer": "ipython3",
   "version": "3.10.4"
  }
 },
 "nbformat": 4,
 "nbformat_minor": 2
}
