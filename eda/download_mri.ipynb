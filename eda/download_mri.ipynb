{
  "cells": [
    {
      "cell_type": "code",
      "execution_count": 5,
      "metadata": {
        "gather": {
          "logged": 1699368688063
        }
      },
      "outputs": [],
      "source": [
        "from azureml.core import Workspace, Dataset, Datastore\n",
        "subscription_id = '35068096-667c-4620-8bb2-6b050765fd4e'\n",
        "resource_group = 'ComputeFHNW'\n",
        "workspace_name = 'FHNW'\n",
        "  \n",
        "workspace = Workspace(subscription_id, resource_group, workspace_name)\n",
        "  \n",
        "datastore = Datastore.get(workspace, \"mr_testdata\")\n",
        "dataset = Dataset.File.from_files(path=(datastore, '8797386/'))\n",
        "dataset.download(target_path=r'../raw_data/MRI/', overwrite=True)"
      ]
    }
  ],
  "metadata": {
    "kernel_info": {
      "name": "python38-azureml"
    },
    "kernelspec": {
      "display_name": "Python 3.8 - AzureML",
      "language": "python",
      "name": "python38-azureml"
    },
    "language_info": {
      "codemirror_mode": {
        "name": "ipython",
        "version": 3
      },
      "file_extension": ".py",
      "mimetype": "text/x-python",
      "name": "python",
      "nbconvert_exporter": "python",
      "pygments_lexer": "ipython3",
      "version": "3.8.5"
    },
    "microsoft": {
      "host": {
        "AzureML": {
          "notebookHasBeenCompleted": true
        }
      },
      "ms_spell_check": {
        "ms_spell_check_language": "en"
      }
    },
    "nteract": {
      "version": "nteract-front-end@1.0.0"
    }
  },
  "nbformat": 4,
  "nbformat_minor": 2
}
