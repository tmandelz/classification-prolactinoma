{
 "cells": [
  {
   "cell_type": "markdown",
   "metadata": {},
   "source": [
    "# Imputation fro Lab Data"
   ]
  },
  {
   "cell_type": "code",
   "execution_count": null,
   "metadata": {},
   "outputs": [],
   "source": [
    "import pandas as pd\n",
    "import numpy as np"
   ]
  },
  {
   "cell_type": "code",
   "execution_count": null,
   "metadata": {},
   "outputs": [],
   "source": [
    "print(\"Start Imputation Lab data\")"
   ]
  },
  {
   "cell_type": "code",
   "execution_count": null,
   "metadata": {},
   "outputs": [],
   "source": [
    "df_impute = pd.read_csv(r'../raw_data/data_full_merge.csv')"
   ]
  },
  {
   "cell_type": "code",
   "execution_count": null,
   "metadata": {},
   "outputs": [],
   "source": [
    "#TODO: impute hyperprolaktin patients, impute ausfälle von anderen hormonen"
   ]
  },
  {
   "cell_type": "code",
   "execution_count": null,
   "metadata": {},
   "outputs": [],
   "source": [
    "# impute geschlechtshormone (Testo und andere wahrscheinlich )"
   ]
  },
  {
   "cell_type": "code",
   "execution_count": null,
   "metadata": {},
   "outputs": [],
   "source": [
    "# TODO: remove gender placeholders\n",
    "df_impute[\"Patient_gender\"] = 'M'\n",
    "df_impute.loc[0:300, 'Patient_gender'] = 'F'"
   ]
  },
  {
   "cell_type": "code",
   "execution_count": null,
   "metadata": {},
   "outputs": [],
   "source": [
    "def impute_based_on_age(row,column,age_ranges):\n",
    "    age = row['Patient_age']\n",
    "    col_value = row[column]\n",
    "    if np.isnan(col_value):\n",
    "        for start, end, imputation_value in age_ranges:\n",
    "            if start <= age <= end:\n",
    "                return imputation_value\n",
    "        return np.nan  \n",
    "    else:\n",
    "        return col_value\n",
    "    \n",
    "def impute_based_on_age_gender(row,column, age_gender_ranges):\n",
    "    age = row['Patient_age']\n",
    "    gender = row['Patient_gender']\n",
    "    col_value = row[column]\n",
    "    if np.isnan(col_value):\n",
    "        for age_range in age_gender_ranges:\n",
    "            if (age_range['age_range'][0] <= age <= age_range['age_range'][1]) and age_range['gender'] == gender:\n",
    "                return age_range['imputation_value']\n",
    "    \n",
    "    return col_value "
   ]
  },
  {
   "cell_type": "code",
   "execution_count": null,
   "metadata": {},
   "outputs": [],
   "source": [
    "df_impute.Patient_age.min()"
   ]
  },
  {
   "cell_type": "code",
   "execution_count": null,
   "metadata": {},
   "outputs": [],
   "source": [
    "df_impute['FT4'].isna().sum()"
   ]
  },
  {
   "cell_type": "code",
   "execution_count": null,
   "metadata": {},
   "outputs": [],
   "source": [
    "# https://www.ncbi.nlm.nih.gov/pmc/articles/PMC5794073/ - Table 3 - Mean\n",
    "age_ranges_ft4 = [(df_impute['Patient_age'].min(), 19, 1.30*12.871), (20, 29, 1.31*12.871), (30, 39, 1.26*12.871), (40, 49, 1.22*12.871), (50, 59, 1.20*12.871), (60, 69, 1.2*12.871), (70, df_impute['Patient_age'].max(), 1.2*12.871)]\n",
    "df_impute['FT4'] = df_impute.apply(impute_based_on_age,args=(['FT4',age_ranges_ft4]), axis=1)\n"
   ]
  },
  {
   "cell_type": "code",
   "execution_count": null,
   "metadata": {},
   "outputs": [],
   "source": [
    "df_impute['IGF1'].isna().sum()"
   ]
  },
  {
   "cell_type": "code",
   "execution_count": null,
   "metadata": {},
   "outputs": [],
   "source": [
    "# https://www.ncbi.nlm.nih.gov/pmc/articles/PMC9206165/ - Table 1 - Median\n",
    "age_ranges_igf1 = [(df_impute['Patient_age'].min(), 25, 265.00*0.131), (26, 30, 222*0.131), (31, 35, 183*0.131  ),\n",
    "                   (36, 40, 171*0.131), (41, 45, 148*0.131), (46, 50, 129*0.131),\n",
    "                   (51, 55, 129.5*0.131),(56, 60, 130*0.131),(61, 65, 129.5*0.131),(66, 70, 128*0.131)\n",
    "                   ,(71, 75, 123*0.131),(76, df_impute['Patient_age'].max(), 109*0.131)]\n",
    "df_impute['IGF1'] = df_impute.apply(impute_based_on_age,args=(['IGF1',age_ranges_igf1]), axis=1)\n"
   ]
  },
  {
   "cell_type": "code",
   "execution_count": null,
   "metadata": {},
   "outputs": [],
   "source": [
    "df_impute['COR60'].isna().sum()"
   ]
  },
  {
   "cell_type": "code",
   "execution_count": null,
   "metadata": {},
   "outputs": [],
   "source": [
    "# regular value for cortisol is at least 500 nmol/l\n",
    "df_impute['COR60']= df_impute['COR60'].fillna(500)"
   ]
  },
  {
   "cell_type": "code",
   "execution_count": null,
   "metadata": {},
   "outputs": [],
   "source": [
    "df_impute['PROL'].isna().sum()"
   ]
  },
  {
   "cell_type": "code",
   "execution_count": null,
   "metadata": {},
   "outputs": [],
   "source": [
    "# https://labosud.fr/wp-content/uploads/sites/7/2023/08/Verification_of_Roche_reference_ranges_for_serum_prolactin_in_children_adolescents_adults_and_the_elderly-2023-07-11-05-21.pdf - Table 2 - Median by age and gender\n",
    "age_gender_ranges_prol = [\n",
    "    {'age_range': (df_impute['Patient_age'].min(), 9), 'gender': 'F', 'imputation_value': 194.8},\n",
    "    {'age_range': (10, 12), 'gender': 'F', 'imputation_value': 273.9},\n",
    "    {'age_range': (13, 16), 'gender': 'F', 'imputation_value': 352.6},\n",
    "    {'age_range': (17, 19), 'gender': 'F', 'imputation_value': 397.},\n",
    "    {'age_range': (20, 30), 'gender': 'F', 'imputation_value': 356.5},\n",
    "    {'age_range': (31, 40), 'gender': 'F', 'imputation_value': 325.4},\n",
    "    {'age_range': (41, 50), 'gender': 'F', 'imputation_value': 292.9},\n",
    "    {'age_range': (51, 60), 'gender': 'F', 'imputation_value': 272.4},\n",
    "    {'age_range': (61, 70), 'gender': 'F', 'imputation_value': 227.9},\n",
    "    {'age_range': (71, df_impute['Patient_age'].max()), 'gender': 'F', 'imputation_value': 250.3},\n",
    "    \n",
    "    {'age_range': (df_impute['Patient_age'].min(), 10), 'gender': 'M', 'imputation_value': 211.2},\n",
    "    {'age_range': (11, 13), 'gender': 'M', 'imputation_value': 211.2},\n",
    "    {'age_range': (14, 16), 'gender': 'M', 'imputation_value': 262.0},\n",
    "    {'age_range': (17, 19), 'gender': 'M', 'imputation_value': 283.8},\n",
    "    {'age_range': (20, 30), 'gender': 'M', 'imputation_value': 291.7},\n",
    "    {'age_range': (31, 40), 'gender': 'M', 'imputation_value': 260.5},\n",
    "    {'age_range': (41, 50), 'gender': 'M', 'imputation_value': 252.5},\n",
    "    {'age_range': (51, 60), 'gender': 'M', 'imputation_value': 241.},\n",
    "    {'age_range': (61, 70), 'gender': 'M', 'imputation_value': 232.2},\n",
    "    {'age_range': (71, df_impute['Patient_age'].max()), 'gender': 'M', 'imputation_value': 252.4},\n",
    "    ]\n",
    "\n",
    "df_impute['PROL'] = df_impute.apply(impute_based_on_age_gender,args=(['PROL',age_gender_ranges_prol]), axis=1)\n"
   ]
  },
  {
   "cell_type": "code",
   "execution_count": null,
   "metadata": {},
   "outputs": [],
   "source": [
    "print(f'Sparsity of lab values in percent is:\\n{df_impute.iloc[:,2:9].isna().mean()*100}')"
   ]
  },
  {
   "cell_type": "code",
   "execution_count": null,
   "metadata": {},
   "outputs": [],
   "source": [
    "df_impute.to_csv(r'../raw_data/data_imputed.csv',index=False)"
   ]
  },
  {
   "cell_type": "code",
   "execution_count": null,
   "metadata": {},
   "outputs": [],
   "source": [
    "print(\"End Imputation Lab data\")"
   ]
  }
 ],
 "metadata": {
  "kernelspec": {
   "display_name": "pro5d-classification-prolactinoma-tMtLv9PL",
   "language": "python",
   "name": "python3"
  },
  "language_info": {
   "codemirror_mode": {
    "name": "ipython",
    "version": 3
   },
   "file_extension": ".py",
   "mimetype": "text/x-python",
   "name": "python",
   "nbconvert_exporter": "python",
   "pygments_lexer": "ipython3",
   "version": "3.10.4"
  }
 },
 "nbformat": 4,
 "nbformat_minor": 2
}
