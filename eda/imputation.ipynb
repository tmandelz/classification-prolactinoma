{
 "cells": [
  {
   "cell_type": "markdown",
   "metadata": {},
   "source": [
    "# Imputation fro Lab Data"
   ]
  },
  {
   "cell_type": "code",
   "execution_count": 1,
   "metadata": {},
   "outputs": [],
   "source": [
    "import pandas as pd\n",
    "import numpy as np"
   ]
  },
  {
   "cell_type": "code",
   "execution_count": 2,
   "metadata": {},
   "outputs": [
    {
     "name": "stdout",
     "output_type": "stream",
     "text": [
      "Start Imputation Lab data\n"
     ]
    }
   ],
   "source": [
    "print(\"Start Imputation Lab data\")"
   ]
  },
  {
   "cell_type": "code",
   "execution_count": 3,
   "metadata": {},
   "outputs": [],
   "source": [
    "df_impute = pd.read_csv(r'../raw_data/data_full_merge.csv')"
   ]
  },
  {
   "cell_type": "code",
   "execution_count": 4,
   "metadata": {},
   "outputs": [
    {
     "data": {
      "text/plain": [
       "11"
      ]
     },
     "execution_count": 4,
     "metadata": {},
     "output_type": "execute_result"
    }
   ],
   "source": [
    "df_impute[df_impute['Pre_OP_hormone_hyperprolaktin'] == 1]['PROL'].isna().sum()"
   ]
  },
  {
   "cell_type": "code",
   "execution_count": 5,
   "metadata": {},
   "outputs": [],
   "source": [
    "# TODO: remove gender placeholders\n",
    "df_impute[\"Patient_gender\"] = 1 # male =1\n",
    "df_impute.loc[0:300, 'Patient_gender'] = 0 # female =0"
   ]
  },
  {
   "cell_type": "code",
   "execution_count": 6,
   "metadata": {},
   "outputs": [],
   "source": [
    "def impute_based_on_age(row,column,age_ranges):\n",
    "    age = row['Patient_age']\n",
    "    col_value = row[column]\n",
    "    if pd.isna(col_value):\n",
    "        for start, end, imputation_value in age_ranges:\n",
    "            if start <= age <= end:\n",
    "                return imputation_value\n",
    "        return np.nan  \n",
    "    else:\n",
    "        return col_value\n",
    "    \n",
    "def impute_based_on_age_gender(row,column, age_gender_ranges):\n",
    "    age = row['Patient_age']\n",
    "    gender = row['Patient_gender']\n",
    "    col_value = row[column]\n",
    "    if pd.isna(col_value):\n",
    "        for age_range in age_gender_ranges:\n",
    "            if (age_range['age_range'][0] <= age <= age_range['age_range'][1]) and age_range['gender'] == gender:\n",
    "                return age_range['imputation_value']\n",
    "    \n",
    "    return col_value "
   ]
  },
  {
   "cell_type": "markdown",
   "metadata": {},
   "source": [
    "## Imputation Hormones"
   ]
  },
  {
   "cell_type": "code",
   "execution_count": 7,
   "metadata": {},
   "outputs": [],
   "source": [
    "#TODO: impute hyperprolaktin patients, impute ausfälle von anderen hormonen"
   ]
  },
  {
   "cell_type": "code",
   "execution_count": 8,
   "metadata": {},
   "outputs": [],
   "source": [
    "# TODO: impute geschlechtshormone (Testo und andere wahrscheinlich )"
   ]
  },
  {
   "cell_type": "code",
   "execution_count": 9,
   "metadata": {},
   "outputs": [
    {
     "name": "stdout",
     "output_type": "stream",
     "text": [
      "249\n"
     ]
    }
   ],
   "source": [
    "print(df_impute['TEST'].isna().sum())\n",
    "testo_mean = df_impute['TEST'].mean()\n",
    "# TODO: change\n",
    "age_ranges_test = [(df_impute['Patient_age'].min(), 19, testo_mean), (20, 29, testo_mean), (30, 39, testo_mean), (40, 49, testo_mean), (50, 59, testo_mean), (60, 69, testo_mean), (70, df_impute['Patient_age'].max(), testo_mean)]\n",
    "df_impute['TEST'] = df_impute.apply(impute_based_on_age,args=(['TEST',age_ranges_test]), axis=1)\n"
   ]
  },
  {
   "cell_type": "code",
   "execution_count": 10,
   "metadata": {},
   "outputs": [],
   "source": [
    "lh_mean = df_impute['LH'].mean()"
   ]
  },
  {
   "cell_type": "code",
   "execution_count": 11,
   "metadata": {},
   "outputs": [
    {
     "name": "stdout",
     "output_type": "stream",
     "text": [
      "134\n"
     ]
    }
   ],
   "source": [
    "print(df_impute['LH'].isna().sum())\n",
    "lh_mean = df_impute['LH'].mean()\n",
    "# TODO: change\n",
    "age_ranges_lh = [(df_impute['Patient_age'].min(), 19, lh_mean), (20, 29, lh_mean), (30, 39, lh_mean), (40, 49, lh_mean), (50, 59, lh_mean), (60, 69, lh_mean), (70, df_impute['Patient_age'].max(), lh_mean)]\n",
    "df_impute['LH'] = df_impute.apply(impute_based_on_age,args=(['LH',age_ranges_lh]), axis=1)\n"
   ]
  },
  {
   "cell_type": "code",
   "execution_count": 12,
   "metadata": {},
   "outputs": [
    {
     "name": "stdout",
     "output_type": "stream",
     "text": [
      "132\n"
     ]
    }
   ],
   "source": [
    "print(df_impute['FSH'].isna().sum())\n",
    "fsh_mean = df_impute['FSH'].mean()\n",
    "# TODO: change\n",
    "age_ranges_fsh = [(df_impute['Patient_age'].min(), 19, fsh_mean), (20, 29, fsh_mean), (30, 39, fsh_mean), (40, 49, fsh_mean), (50, 59, fsh_mean), (60, 69, fsh_mean), (70, df_impute['Patient_age'].max(), fsh_mean)]\n",
    "df_impute['FSH'] = df_impute.apply(impute_based_on_age,args=(['FSH',age_ranges_fsh]), axis=1)\n"
   ]
  },
  {
   "cell_type": "code",
   "execution_count": 13,
   "metadata": {},
   "outputs": [
    {
     "name": "stdout",
     "output_type": "stream",
     "text": [
      "38\n"
     ]
    }
   ],
   "source": [
    "print(df_impute['FT4'].isna().sum())\n",
    "# https://www.ncbi.nlm.nih.gov/pmc/articles/PMC5794073/ - Table 3 - Mean\n",
    "age_ranges_ft4 = [(df_impute['Patient_age'].min(), 19, 1.30*12.871), (20, 29, 1.31*12.871), (30, 39, 1.26*12.871), (40, 49, 1.22*12.871), (50, 59, 1.20*12.871), (60, 69, 1.2*12.871), (70, df_impute['Patient_age'].max(), 1.2*12.871)]\n",
    "df_impute['FT4'] = df_impute.apply(impute_based_on_age,args=(['FT4',age_ranges_ft4]), axis=1)\n"
   ]
  },
  {
   "cell_type": "code",
   "execution_count": 14,
   "metadata": {},
   "outputs": [
    {
     "name": "stdout",
     "output_type": "stream",
     "text": [
      "59\n"
     ]
    }
   ],
   "source": [
    "print(df_impute['IGF1'].isna().sum())\n",
    "# https://www.ncbi.nlm.nih.gov/pmc/articles/PMC9206165/ - Table 1 - Median\n",
    "age_ranges_igf1 = [(df_impute['Patient_age'].min(), 25, 265.00*0.131), (26, 30, 222*0.131), (31, 35, 183*0.131  ),\n",
    "                   (36, 40, 171*0.131), (41, 45, 148*0.131), (46, 50, 129*0.131),\n",
    "                   (51, 55, 129.5*0.131),(56, 60, 130*0.131),(61, 65, 129.5*0.131),(66, 70, 128*0.131)\n",
    "                   ,(71, 75, 123*0.131),(76, df_impute['Patient_age'].max(), 109*0.131)]\n",
    "df_impute['IGF1'] = df_impute.apply(impute_based_on_age,args=(['IGF1',age_ranges_igf1]), axis=1)\n"
   ]
  },
  {
   "cell_type": "code",
   "execution_count": 15,
   "metadata": {},
   "outputs": [
    {
     "name": "stdout",
     "output_type": "stream",
     "text": [
      "466\n"
     ]
    }
   ],
   "source": [
    "print(df_impute['COR60'].isna().sum())\n",
    "# regular value for cortisol is at least 500 nmol/l\n",
    "df_impute['COR60']= df_impute['COR60'].fillna(500)"
   ]
  },
  {
   "cell_type": "code",
   "execution_count": 16,
   "metadata": {},
   "outputs": [
    {
     "name": "stdout",
     "output_type": "stream",
     "text": [
      "33\n"
     ]
    }
   ],
   "source": [
    "print(df_impute['PROL'].isna().sum())\n",
    "# https://labosud.fr/wp-content/uploads/sites/7/2023/08/Verification_of_Roche_reference_ranges_for_serum_prolactin_in_children_adolescents_adults_and_the_elderly-2023-07-11-05-21.pdf - Table 2 - Median by age and gender\n",
    "age_gender_ranges_prol = [\n",
    "    {'age_range': (df_impute['Patient_age'].min(), 9), 'gender': 0, 'imputation_value': 194.8},\n",
    "    {'age_range': (10, 12), 'gender': 0, 'imputation_value': 273.9},\n",
    "    {'age_range': (13, 16), 'gender': 0, 'imputation_value': 352.6},\n",
    "    {'age_range': (17, 19), 'gender': 0, 'imputation_value': 397.},\n",
    "    {'age_range': (20, 30), 'gender': 0, 'imputation_value': 356.5},\n",
    "    {'age_range': (31, 40), 'gender': 0, 'imputation_value': 325.4},\n",
    "    {'age_range': (41, 50), 'gender': 0, 'imputation_value': 292.9},\n",
    "    {'age_range': (51, 60), 'gender': 0, 'imputation_value': 272.4},\n",
    "    {'age_range': (61, 70), 'gender': 0, 'imputation_value': 227.9},\n",
    "    {'age_range': (71, df_impute['Patient_age'].max()), 'gender': 0, 'imputation_value': 250.3},\n",
    "    \n",
    "    {'age_range': (df_impute['Patient_age'].min(), 10), 'gender': 1, 'imputation_value': 211.2},\n",
    "    {'age_range': (11, 13), 'gender': 1, 'imputation_value': 211.2},\n",
    "    {'age_range': (14, 16), 'gender': 1, 'imputation_value': 262.0},\n",
    "    {'age_range': (17, 19), 'gender': 1, 'imputation_value': 283.8},\n",
    "    {'age_range': (20, 30), 'gender': 1, 'imputation_value': 291.7},\n",
    "    {'age_range': (31, 40), 'gender': 1, 'imputation_value': 260.5},\n",
    "    {'age_range': (41, 50), 'gender': 1, 'imputation_value': 252.5},\n",
    "    {'age_range': (51, 60), 'gender': 1, 'imputation_value': 241.},\n",
    "    {'age_range': (61, 70), 'gender': 1, 'imputation_value': 232.2},\n",
    "    {'age_range': (71, df_impute['Patient_age'].max()), 'gender': 1, 'imputation_value': 252.4},\n",
    "    ]\n",
    "\n",
    "df_impute['PROL'] = df_impute.apply(impute_based_on_age_gender,args=(['PROL',age_gender_ranges_prol]), axis=1)\n"
   ]
  },
  {
   "cell_type": "code",
   "execution_count": 17,
   "metadata": {},
   "outputs": [
    {
     "name": "stdout",
     "output_type": "stream",
     "text": [
      "Sparsity of lab values in percent is:\n",
      "Date_Case         0.0\n",
      "ID_MRI_Machine    0.0\n",
      "COR60             0.0\n",
      "FSH               0.0\n",
      "FT4               0.0\n",
      "IGF1              0.0\n",
      "LH                0.0\n",
      "dtype: float64\n"
     ]
    }
   ],
   "source": [
    "print(f'Sparsity of lab values in percent is:\\n{df_impute.iloc[:,2:9].isna().mean()*100}')"
   ]
  },
  {
   "cell_type": "code",
   "execution_count": 18,
   "metadata": {},
   "outputs": [],
   "source": [
    "df_impute.to_csv(r'../raw_data/data_imputed.csv',index=False)"
   ]
  },
  {
   "cell_type": "code",
   "execution_count": 19,
   "metadata": {},
   "outputs": [
    {
     "name": "stdout",
     "output_type": "stream",
     "text": [
      "End Imputation Lab data\n"
     ]
    }
   ],
   "source": [
    "print(\"End Imputation Lab data\")"
   ]
  }
 ],
 "metadata": {
  "kernelspec": {
   "display_name": "pro5d-classification-prolactinoma-tMtLv9PL",
   "language": "python",
   "name": "python3"
  },
  "language_info": {
   "codemirror_mode": {
    "name": "ipython",
    "version": 3
   },
   "file_extension": ".py",
   "mimetype": "text/x-python",
   "name": "python",
   "nbconvert_exporter": "python",
   "pygments_lexer": "ipython3",
   "version": "3.10.5"
  }
 },
 "nbformat": 4,
 "nbformat_minor": 2
}
