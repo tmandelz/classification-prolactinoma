{
 "cells": [
  {
   "cell_type": "markdown",
   "metadata": {},
   "source": [
    "# Imputation fro Lab Data"
   ]
  },
  {
   "cell_type": "code",
   "execution_count": null,
   "metadata": {},
   "outputs": [],
   "source": [
    "import pandas as pd\n",
    "import numpy as np"
   ]
  },
  {
   "cell_type": "code",
   "execution_count": null,
   "metadata": {},
   "outputs": [],
   "source": [
    "print(\"Start Imputation Lab data\")"
   ]
  },
  {
   "cell_type": "code",
   "execution_count": null,
   "metadata": {},
   "outputs": [],
   "source": [
    "df_impute = pd.read_csv(r'../data/train_data_not_imputed.csv')"
   ]
  },
  {
   "cell_type": "code",
   "execution_count": null,
   "metadata": {},
   "outputs": [],
   "source": [
    "df_impute_test = pd.read_csv(r'../data/test_data_not_imputed.csv')"
   ]
  },
  {
   "cell_type": "code",
   "execution_count": null,
   "metadata": {},
   "outputs": [],
   "source": [
    "print(f'Sparsity of lab values of trainset before imputation, in percent is:\\n{df_impute.iloc[:,6:13].isna().mean()*100}')"
   ]
  },
  {
   "cell_type": "code",
   "execution_count": null,
   "metadata": {},
   "outputs": [],
   "source": [
    "print(f'Sparsity of lab values of testset before imputation, in percent is:\\n{df_impute_test.iloc[:,6:13].isna().mean()*100}')"
   ]
  },
  {
   "cell_type": "code",
   "execution_count": null,
   "metadata": {},
   "outputs": [],
   "source": [
    "def impute_based_on_age(row, column, age_ranges):\n",
    "    age = row['Patient_age']\n",
    "    col_value = row[column]\n",
    "    if pd.isna(col_value):\n",
    "        for start, end, imputation_value in age_ranges:\n",
    "            if start <= age <= end:\n",
    "                return imputation_value\n",
    "        return np.nan  \n",
    "    else:\n",
    "        return col_value\n",
    "    \n",
    "def impute_based_on_age_gender(row, column, age_gender_ranges):\n",
    "    age = row['Patient_age']\n",
    "    gender = row['Patient_gender']\n",
    "    col_value = row[column]\n",
    "    if pd.isna(col_value):\n",
    "        for age_range in age_gender_ranges:\n",
    "            if (age_range['age_range'][0] <= age <= age_range['age_range'][1]) and age_range['gender'] == gender:\n",
    "                return age_range['imputation_value']\n",
    "    \n",
    "    return col_value \n",
    "def impute_based_on_age_gender_disfunction(row, column, age_gender_ranges, boolean_condition_column):\n",
    "    age = row['Patient_age']\n",
    "    gender = row['Patient_gender']\n",
    "    col_value = row[column]\n",
    "\n",
    "    if pd.isna(col_value):\n",
    "        for age_range in age_gender_ranges:\n",
    "            condition_match = (\n",
    "                (age_range['age_range'][0] <= age <= age_range['age_range'][1]) and\n",
    "                age_range['gender'] == gender and\n",
    "                row[boolean_condition_column] == age_range[boolean_condition_column]\n",
    "            )\n",
    "\n",
    "            if condition_match:\n",
    "                return age_range['imputation_value']\n",
    "\n",
    "    return col_value"
   ]
  },
  {
   "cell_type": "markdown",
   "metadata": {},
   "source": [
    "## Imputation Gender Hormones (Gonado)"
   ]
  },
  {
   "cell_type": "markdown",
   "metadata": {},
   "source": [
    "### Impute Testosteron"
   ]
  },
  {
   "cell_type": "code",
   "execution_count": null,
   "metadata": {},
   "outputs": [],
   "source": [
    "#impute values\n",
    "# male median separated by gonado disfunction\n",
    "# female just the median, should be low <= 3\n",
    "testo_median_male_gonado_yes = df_impute[(df_impute['Pre_OP_hormone_gonado'] == True) & (df_impute['Patient_gender'] =='male')]['TEST'].median()\n",
    "testo_median_male_gonado_no = df_impute[(df_impute['Pre_OP_hormone_gonado'] == False) & (df_impute['Patient_gender'] =='male')]['TEST'].median()\n",
    "testo_median_female = df_impute[df_impute['Patient_gender'] == 'female']['TEST'].median()"
   ]
  },
  {
   "cell_type": "code",
   "execution_count": null,
   "metadata": {},
   "outputs": [],
   "source": [
    "age_gender_ranges_test = [\n",
    "    {'age_range': (df_impute['Patient_age'].min(), df_impute['Patient_age'].max()),\n",
    "     'gender': 'male',\n",
    "     'imputation_value': testo_median_male_gonado_yes,\n",
    "     'Pre_OP_hormone_gonado': True},\n",
    "        {'age_range': (df_impute['Patient_age'].min(), df_impute['Patient_age'].max()),\n",
    "     'gender': 'male',\n",
    "     'imputation_value': testo_median_male_gonado_no,\n",
    "     'Pre_OP_hormone_gonado': False},\n",
    "    {'age_range': (df_impute['Patient_age'].min(), df_impute['Patient_age'].max()),\n",
    "     'gender': 'female',\n",
    "     'imputation_value': testo_median_female,\n",
    "     'Pre_OP_hormone_gonado': False},\n",
    "   {'age_range': (df_impute['Patient_age'].min(), df_impute['Patient_age'].max()),\n",
    "     'gender': 'female',\n",
    "     'imputation_value': testo_median_female,\n",
    "     'Pre_OP_hormone_gonado': True}\n",
    "]\n"
   ]
  },
  {
   "cell_type": "code",
   "execution_count": null,
   "metadata": {},
   "outputs": [],
   "source": [
    "# we impute the median of our population\n",
    "df_impute['TEST'] = df_impute.apply(impute_based_on_age_gender_disfunction,args=(['TEST',age_gender_ranges_test,'Pre_OP_hormone_gonado']), axis=1)\n",
    "df_impute_test['TEST'] = df_impute_test.apply(impute_based_on_age_gender_disfunction,args=(['TEST',age_gender_ranges_test,'Pre_OP_hormone_gonado']), axis=1)"
   ]
  },
  {
   "cell_type": "markdown",
   "metadata": {},
   "source": [
    "### Impute LH"
   ]
  },
  {
   "cell_type": "code",
   "execution_count": null,
   "metadata": {},
   "outputs": [],
   "source": [
    "# LH\n",
    "# male median separated by gonado disfunction\n",
    "# female by gonado disfunction and separation age > 51, indictating menopause\n",
    "lh_median_male_gonado_yes = df_impute[(df_impute['Pre_OP_hormone_gonado'] == True) & (df_impute['Patient_gender'] =='male')]['LH'].median()\n",
    "lh_median_male_gonado_no = df_impute[(df_impute['Pre_OP_hormone_gonado'] == False) & (df_impute['Patient_gender'] =='male')]['LH'].median()\n",
    "\n",
    "lh_median_female_gonado_yes = df_impute[(df_impute['Patient_age'] <=51) &(df_impute['Pre_OP_hormone_gonado'] == True) & (df_impute['Patient_gender'] =='female')]['LH'].median()\n",
    "lh_median_female_gonado_yes_menopause = df_impute[(df_impute['Patient_age'] >51) &(df_impute['Pre_OP_hormone_gonado'] == True) & (df_impute['Patient_gender'] =='female')]['LH'].median()\n",
    "\n",
    "lh_median_female_gonado_no = df_impute[(df_impute['Patient_age'] <=51) &(df_impute['Pre_OP_hormone_gonado'] == False) & (df_impute['Patient_gender'] =='female')]['LH'].median()\n",
    "lh_median_female_gonado_no_menopause = df_impute[(df_impute['Patient_age'] >51) &(df_impute['Pre_OP_hormone_gonado'] == False) & (df_impute['Patient_gender'] =='female')]['LH'].median()"
   ]
  },
  {
   "cell_type": "code",
   "execution_count": null,
   "metadata": {},
   "outputs": [],
   "source": [
    "age_gender_ranges_lh = [\n",
    "    {'age_range': (df_impute['Patient_age'].min(), df_impute['Patient_age'].max()),\n",
    "     'gender': 'male',\n",
    "     'imputation_value': lh_median_male_gonado_yes,\n",
    "     'Pre_OP_hormone_gonado': True},\n",
    "        {'age_range': (df_impute['Patient_age'].min(), df_impute['Patient_age'].max()),\n",
    "     'gender': 'male',\n",
    "     'imputation_value': lh_median_male_gonado_no,\n",
    "     'Pre_OP_hormone_gonado': False},\n",
    "\n",
    "    {'age_range': (df_impute['Patient_age'].min(), 51),\n",
    "     'gender': 'female',\n",
    "     'imputation_value': lh_median_female_gonado_yes,\n",
    "     'Pre_OP_hormone_gonado': True},\n",
    "   {'age_range': (52, df_impute['Patient_age'].max()),\n",
    "     'gender': 'female',\n",
    "     'imputation_value': lh_median_female_gonado_yes_menopause,\n",
    "     'Pre_OP_hormone_gonado': True},\n",
    "\n",
    "  {'age_range': (df_impute['Patient_age'].min(), 51),\n",
    "     'gender': 'female',\n",
    "     'imputation_value': lh_median_female_gonado_no,\n",
    "     'Pre_OP_hormone_gonado': False},\n",
    "   {'age_range': (52, df_impute['Patient_age'].max()),\n",
    "     'gender': 'female',\n",
    "     'imputation_value': lh_median_female_gonado_no_menopause,\n",
    "     'Pre_OP_hormone_gonado': False}\n",
    "]"
   ]
  },
  {
   "cell_type": "code",
   "execution_count": null,
   "metadata": {},
   "outputs": [],
   "source": [
    "# we impute the mean of our trainingset population, we differentiate by gender\n",
    "df_impute['LH'] = df_impute.apply(impute_based_on_age_gender_disfunction,args=(['LH',age_gender_ranges_lh,'Pre_OP_hormone_gonado']), axis=1)\n",
    "df_impute_test['LH'] = df_impute_test.apply(impute_based_on_age_gender_disfunction,args=(['LH',age_gender_ranges_lh,'Pre_OP_hormone_gonado']), axis=1)"
   ]
  },
  {
   "cell_type": "markdown",
   "metadata": {},
   "source": [
    "### Impute FSH"
   ]
  },
  {
   "cell_type": "code",
   "execution_count": null,
   "metadata": {},
   "outputs": [],
   "source": [
    "# FSH\n",
    "# male median separated by gonado disfunction\n",
    "# female by gonado disfunction and separation age > 51, indictating menopause\n",
    "fsh_median_male_gonado_yes = df_impute[(df_impute['Pre_OP_hormone_gonado'] == True) & (df_impute['Patient_gender'] =='male')]['FSH'].median()\n",
    "fsh_median_male_gonado_no = df_impute[(df_impute['Pre_OP_hormone_gonado'] == False) & (df_impute['Patient_gender'] =='male')]['FSH'].median()\n",
    "\n",
    "fsh_median_female_gonado_yes = df_impute[(df_impute['Patient_age'] <=51) &(df_impute['Pre_OP_hormone_gonado'] == True) & (df_impute['Patient_gender'] =='female')]['FSH'].median()\n",
    "fsh_median_female_gonado_yes_menopause = df_impute[(df_impute['Patient_age'] >51) &(df_impute['Pre_OP_hormone_gonado'] == True) & (df_impute['Patient_gender'] =='female')]['FSH'].median()\n",
    "\n",
    "fsh_median_female_gonado_no = df_impute[(df_impute['Patient_age'] <=51) &(df_impute['Pre_OP_hormone_gonado'] == False) & (df_impute['Patient_gender'] =='female')]['FSH'].median()\n",
    "fsh_median_female_gonado_no_menopause = df_impute[(df_impute['Patient_age'] >51) &(df_impute['Pre_OP_hormone_gonado'] == False) & (df_impute['Patient_gender'] =='female')]['FSH'].median()"
   ]
  },
  {
   "cell_type": "code",
   "execution_count": null,
   "metadata": {},
   "outputs": [],
   "source": [
    "age_gender_ranges_fsh = [\n",
    "    {'age_range': (df_impute['Patient_age'].min(), df_impute['Patient_age'].max()),\n",
    "     'gender': 'male',\n",
    "     'imputation_value': fsh_median_male_gonado_yes,\n",
    "     'Pre_OP_hormone_gonado': True},\n",
    "        {'age_range': (df_impute['Patient_age'].min(), df_impute['Patient_age'].max()),\n",
    "     'gender': 'male',\n",
    "     'imputation_value': fsh_median_male_gonado_no,\n",
    "     'Pre_OP_hormone_gonado': False},\n",
    "\n",
    "    {'age_range': (df_impute['Patient_age'].min(), 51),\n",
    "     'gender': 'female',\n",
    "     'imputation_value': fsh_median_female_gonado_yes,\n",
    "     'Pre_OP_hormone_gonado': True},\n",
    "   {'age_range': (52, df_impute['Patient_age'].max()),\n",
    "     'gender': 'female',\n",
    "     'imputation_value': fsh_median_female_gonado_yes_menopause,\n",
    "     'Pre_OP_hormone_gonado': True},\n",
    "\n",
    "  {'age_range': (df_impute['Patient_age'].min(), 51),\n",
    "     'gender': 'female',\n",
    "     'imputation_value': fsh_median_female_gonado_no,\n",
    "     'Pre_OP_hormone_gonado': False},\n",
    "   {'age_range': (52, df_impute['Patient_age'].max()),\n",
    "     'gender': 'female',\n",
    "     'imputation_value': fsh_median_female_gonado_no_menopause,\n",
    "     'Pre_OP_hormone_gonado': False}\n",
    "]"
   ]
  },
  {
   "cell_type": "code",
   "execution_count": null,
   "metadata": {},
   "outputs": [],
   "source": [
    "# we impute the mean of our trainingset population, we differentiate by gender\n",
    "df_impute['FSH'] = df_impute.apply(impute_based_on_age_gender_disfunction,args=(['FSH',age_gender_ranges_fsh,'Pre_OP_hormone_gonado']), axis=1)\n",
    "df_impute_test['FSH'] = df_impute_test.apply(impute_based_on_age_gender_disfunction,args=(['FSH',age_gender_ranges_fsh,'Pre_OP_hormone_gonado']), axis=1)"
   ]
  },
  {
   "cell_type": "markdown",
   "metadata": {},
   "source": [
    "### Impute FT4"
   ]
  },
  {
   "cell_type": "code",
   "execution_count": null,
   "metadata": {},
   "outputs": [],
   "source": [
    "# https://www.ncbi.nlm.nih.gov/pmc/articles/PMC5794073/ - Table 3 - Mean\n",
    "age_ranges_ft4 = [(df_impute['Patient_age'].min(), 19, 1.30*12.871), (20, 29, 1.31*12.871), (30, 39, 1.26*12.871), (40, 49, 1.22*12.871), (50, 59, 1.20*12.871), (60, 69, 1.2*12.871), (70, df_impute['Patient_age'].max(), 1.2*12.871)]\n",
    "df_impute['FT4'] = df_impute.apply(impute_based_on_age,args=(['FT4',age_ranges_ft4]), axis=1)\n",
    "df_impute_test['FT4'] = df_impute_test.apply(impute_based_on_age,args=(['FT4',age_ranges_ft4]), axis=1)"
   ]
  },
  {
   "cell_type": "markdown",
   "metadata": {},
   "source": [
    "### Impute IGF1"
   ]
  },
  {
   "cell_type": "code",
   "execution_count": null,
   "metadata": {},
   "outputs": [],
   "source": [
    "# https://www.ncbi.nlm.nih.gov/pmc/articles/PMC9206165/ - Table 1 - Median\n",
    "age_ranges_igf1 = [(df_impute['Patient_age'].min(), 25, 265.00*0.131), (26, 30, 222*0.131), (31, 35, 183*0.131  ),\n",
    "                   (36, 40, 171*0.131), (41, 45, 148*0.131), (46, 50, 129*0.131),\n",
    "                   (51, 55, 129.5*0.131),(56, 60, 130*0.131),(61, 65, 129.5*0.131),(66, 70, 128*0.131)\n",
    "                   ,(71, 75, 123*0.131),(76, df_impute['Patient_age'].max(), 109*0.131)]\n",
    "df_impute['IGF1'] = df_impute.apply(impute_based_on_age,args=(['IGF1',age_ranges_igf1]), axis=1)\n",
    "df_impute_test['IGF1'] = df_impute_test.apply(impute_based_on_age,args=(['IGF1',age_ranges_igf1]), axis=1)\n"
   ]
  },
  {
   "cell_type": "markdown",
   "metadata": {},
   "source": [
    "### Impute Cortisol"
   ]
  },
  {
   "cell_type": "code",
   "execution_count": null,
   "metadata": {},
   "outputs": [],
   "source": [
    "# regular value for cortisol is at least 550 nmol/l\n",
    "df_impute['COR'] = df_impute['COR'].fillna(550)\n",
    "df_impute_test['COR'] = df_impute_test['COR'].fillna(550)"
   ]
  },
  {
   "cell_type": "markdown",
   "metadata": {},
   "source": [
    "### Impute Prolactin"
   ]
  },
  {
   "cell_type": "code",
   "execution_count": null,
   "metadata": {},
   "outputs": [],
   "source": [
    "# https://labosud.fr/wp-content/uploads/sites/7/2023/08/Verification_of_Roche_reference_ranges_for_serum_prolactin_in_children_adolescents_adults_and_the_elderly-2023-07-11-05-21.pdf - Table 2 - Median by age and gender\n",
    "age_gender_ranges_prol = [\n",
    "    {'age_range': (df_impute['Patient_age'].min(), 9), 'gender': 'male', 'imputation_value': 194.8},\n",
    "    {'age_range': (10, 12), 'gender': 'male', 'imputation_value': 273.9},\n",
    "    {'age_range': (13, 16), 'gender': 'male', 'imputation_value': 352.6},\n",
    "    {'age_range': (17, 19), 'gender': 'male', 'imputation_value': 397.},\n",
    "    {'age_range': (20, 30), 'gender': 'male', 'imputation_value': 356.5},\n",
    "    {'age_range': (31, 40), 'gender': 'male', 'imputation_value': 325.4},\n",
    "    {'age_range': (41, 50), 'gender': 'male', 'imputation_value': 292.9},\n",
    "    {'age_range': (51, 60), 'gender': 'male', 'imputation_value': 272.4},\n",
    "    {'age_range': (61, 70), 'gender': 'male', 'imputation_value': 227.9},\n",
    "    {'age_range': (71, df_impute['Patient_age'].max()), 'gender': 'male', 'imputation_value': 250.3},\n",
    "    \n",
    "    {'age_range': (df_impute['Patient_age'].min(), 10), 'gender': 'female', 'imputation_value': 211.2},\n",
    "    {'age_range': (11, 13), 'gender': 'female', 'imputation_value': 211.2},\n",
    "    {'age_range': (14, 16), 'gender': 'female', 'imputation_value': 262.0},\n",
    "    {'age_range': (17, 19), 'gender': 'female', 'imputation_value': 283.8},\n",
    "    {'age_range': (20, 30), 'gender': 'female', 'imputation_value': 291.7},\n",
    "    {'age_range': (31, 40), 'gender': 'female', 'imputation_value': 260.5},\n",
    "    {'age_range': (41, 50), 'gender': 'female', 'imputation_value': 252.5},\n",
    "    {'age_range': (51, 60), 'gender': 'female', 'imputation_value': 241.},\n",
    "    {'age_range': (61, 70), 'gender': 'female', 'imputation_value': 232.2},\n",
    "    {'age_range': (71, df_impute['Patient_age'].max()), 'gender': 'female', 'imputation_value': 252.4},\n",
    "    ]\n",
    "\n",
    "df_impute['PROL'] = df_impute.apply(impute_based_on_age_gender,args=(['PROL',age_gender_ranges_prol]), axis=1)\n",
    "df_impute_test['PROL'] = df_impute_test.apply(impute_based_on_age_gender,args=(['PROL',age_gender_ranges_prol]), axis=1)\n"
   ]
  },
  {
   "cell_type": "code",
   "execution_count": null,
   "metadata": {},
   "outputs": [],
   "source": [
    "print(f'Sparsity of lab values in trainset after imputation, in percent is:\\n{df_impute.iloc[:,6:13].isna().mean()*100}')\n",
    "print(f'Sparsity of lab values in testset after imputation, in percent is:\\n{df_impute_test.iloc[:,6:13].isna().mean()*100}')"
   ]
  },
  {
   "cell_type": "code",
   "execution_count": null,
   "metadata": {},
   "outputs": [],
   "source": [
    "df_impute.to_csv(r'../data/train_data.csv',index=False)\n",
    "df_impute_test.to_csv(r'../data/test_data.csv',index=False)"
   ]
  },
  {
   "cell_type": "code",
   "execution_count": null,
   "metadata": {},
   "outputs": [],
   "source": [
    "print(\"End Imputation Lab data\")"
   ]
  }
 ],
 "metadata": {
  "kernelspec": {
   "display_name": "pro5d-classification-prolactinoma-FBKpBkq7",
   "language": "python",
   "name": "python3"
  },
  "language_info": {
   "codemirror_mode": {
    "name": "ipython",
    "version": 3
   },
   "file_extension": ".py",
   "mimetype": "text/x-python",
   "name": "python",
   "nbconvert_exporter": "python",
   "pygments_lexer": "ipython3",
   "version": "3.10.4"
  }
 },
 "nbformat": 4,
 "nbformat_minor": 2
}
