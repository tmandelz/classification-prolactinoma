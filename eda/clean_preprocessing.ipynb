{
 "cells": [
  {
   "cell_type": "markdown",
   "metadata": {},
   "source": [
    "# Data Cleaning"
   ]
  },
  {
   "cell_type": "markdown",
   "metadata": {},
   "source": [
    "# Imports and Read"
   ]
  },
  {
   "cell_type": "code",
   "execution_count": 1,
   "metadata": {},
   "outputs": [],
   "source": [
    "import pandas as pd\n",
    "import datetime\n",
    "import numpy as np\n",
    "import re"
   ]
  },
  {
   "cell_type": "markdown",
   "metadata": {},
   "source": [
    "# Data Cleaning and Selection Patient-data"
   ]
  },
  {
   "cell_type": "code",
   "execution_count": 2,
   "metadata": {},
   "outputs": [
    {
     "name": "stdout",
     "output_type": "stream",
     "text": [
      "Start Clean and Preprocessing patients-data\n"
     ]
    }
   ],
   "source": [
    "print(\"Start Clean and Preprocessing patients-data\")"
   ]
  },
  {
   "cell_type": "code",
   "execution_count": 3,
   "metadata": {},
   "outputs": [],
   "source": [
    "df = pd.read_excel(r'../raw_data/Hypophysenpatienten.xlsx',sheet_name='no duplicate PID')"
   ]
  },
  {
   "cell_type": "code",
   "execution_count": 4,
   "metadata": {},
   "outputs": [
    {
     "data": {
      "text/plain": [
       "Index(['%ID', 'Fall Nr.', 'Datum/Zeit', 'Modalität', 'Exam Code', 'Exam Name',\n",
       "       'Abteilung', 'Arbeitsplatz.Kürzel', 'Aufnahmeart', 'PID', 'Grösse',\n",
       "       'Ausfälle prä', 'Prolaktin', 'IGF1', 'Cortisol', 'fT4',\n",
       "       'weiteres Labor', 'Qualität', 'ED', 'OP Datum', 'Ausfälle post',\n",
       "       'Diagnose', 'Kategorie', 'Patient Alter', 'Zuweiser',\n",
       "       'AnforderungDatum', 'ÜberweiserIntern.Bereich',\n",
       "       'ÜberweiserIntern.Klinik'],\n",
       "      dtype='object')"
      ]
     },
     "execution_count": 4,
     "metadata": {},
     "output_type": "execute_result"
    }
   ],
   "source": [
    "df.columns"
   ]
  },
  {
   "cell_type": "markdown",
   "metadata": {},
   "source": [
    "## Basic Cleaning, Column Selection, Anomaly Correction and Format definition"
   ]
  },
  {
   "cell_type": "code",
   "execution_count": 5,
   "metadata": {},
   "outputs": [],
   "source": [
    "# define needed columns\n",
    "column_list = ['PID','Fall Nr.',\"Datum/Zeit\",\"Arbeitsplatz.Kürzel\",'Grösse',\n",
    "       'Ausfälle prä', 'Qualität', 'ED','OP Datum', 'Ausfälle post',\n",
    "       'Diagnose', 'Kategorie', 'Patient Alter',\n",
    "       'Prolaktin',\"IGF1\", 'Cortisol','fT4','weiteres Labor']\n"
   ]
  },
  {
   "cell_type": "markdown",
   "metadata": {},
   "source": [
    "### Data Type Definition\n"
   ]
  },
  {
   "cell_type": "code",
   "execution_count": 6,
   "metadata": {},
   "outputs": [],
   "source": [
    "#TODO: check Tristan\n",
    "# not parseable correct values corrected\n",
    "df.loc[3,'ED'] = datetime.datetime(2006,1,1,0,0,0,0)\n",
    "df.loc[12,'ED'] = datetime.datetime(2008,1,1,0,0,0,0)\n",
    "\n",
    "#TODO: check Tristan\n",
    "# correct a value which is not datetime parseable\n",
    "df.loc[df['OP Datum'] == '2006, 2009', 'OP Datum'] = datetime.datetime(2006,1,1,0,0,0,0)"
   ]
  },
  {
   "cell_type": "code",
   "execution_count": 7,
   "metadata": {},
   "outputs": [],
   "source": [
    "# make datetime values\n",
    "df[\"Datum/Zeit\"] = pd.to_datetime(df[\"Datum/Zeit\"])\n",
    "df[\"ED\"] = pd.to_datetime(df[\"ED\"])\n",
    "df[\"OP Datum\"] = pd.to_datetime(df[\"OP Datum\"])"
   ]
  },
  {
   "cell_type": "code",
   "execution_count": 8,
   "metadata": {},
   "outputs": [
    {
     "data": {
      "text/html": [
       "<div>\n",
       "<style scoped>\n",
       "    .dataframe tbody tr th:only-of-type {\n",
       "        vertical-align: middle;\n",
       "    }\n",
       "\n",
       "    .dataframe tbody tr th {\n",
       "        vertical-align: top;\n",
       "    }\n",
       "\n",
       "    .dataframe thead th {\n",
       "        text-align: right;\n",
       "    }\n",
       "</style>\n",
       "<table border=\"1\" class=\"dataframe\">\n",
       "  <thead>\n",
       "    <tr style=\"text-align: right;\">\n",
       "      <th></th>\n",
       "      <th>ED</th>\n",
       "      <th>OP Datum</th>\n",
       "    </tr>\n",
       "  </thead>\n",
       "  <tbody>\n",
       "  </tbody>\n",
       "</table>\n",
       "</div>"
      ],
      "text/plain": [
       "Empty DataFrame\n",
       "Columns: [ED, OP Datum]\n",
       "Index: []"
      ]
     },
     "execution_count": 8,
     "metadata": {},
     "output_type": "execute_result"
    }
   ],
   "source": [
    "# TODO: anomaly? check tristan\n",
    "# rows where Entry Date is after Operationdate?\n",
    "df[df['OP Datum'] < df['ED']][['ED','OP Datum']]"
   ]
  },
  {
   "cell_type": "code",
   "execution_count": 9,
   "metadata": {},
   "outputs": [],
   "source": [
    "# Patient ID Duplicate Check\n",
    "assert len(df[df[\"PID\"].duplicated()]) == 0\n",
    "\n",
    "# Case Nr Duplicate Check\n",
    "assert len(df[df[\"Fall Nr.\"].duplicated()]) == 0"
   ]
  },
  {
   "cell_type": "code",
   "execution_count": 10,
   "metadata": {},
   "outputs": [],
   "source": [
    "# select and rename columns\n",
    "df = df[column_list]\n",
    "df= df.rename(columns={\"Fall Nr.\": \"Case_ID\",\"PID\": \"Patient_ID\",\n",
    "                       \"Datum/Zeit\": \"Date_MRI\",\"ED\": \"Entry_date\", \"OP Datum\": \"Operation_date\",\n",
    "                       \"Arbeitsplatz.Kürzel\":\"ID_MRI_Machine\",\"Grösse\": \"Adenoma_size\",\"Qualität\": \"Label_Quality\",\n",
    "                       \"Patient Alter\":\"Patient_age\",\"Kategorie\":\"Category\",\"Diagnose\":\"Diagnosis\",\n",
    "                       \"Prolaktin\":\"Prolactin\",\"weiteres Labor\":\"Lab_additional\"})"
   ]
  },
  {
   "cell_type": "code",
   "execution_count": 11,
   "metadata": {},
   "outputs": [
    {
     "data": {
      "text/plain": [
       "Patient_ID                 int64\n",
       "Case_ID                    int64\n",
       "Date_MRI          datetime64[ns]\n",
       "ID_MRI_Machine          category\n",
       "Adenoma_size            category\n",
       "Ausfälle prä              object\n",
       "Label_Quality           category\n",
       "Entry_date        datetime64[ns]\n",
       "Operation_date    datetime64[ns]\n",
       "Ausfälle post             object\n",
       "Diagnosis               category\n",
       "Category                category\n",
       "Patient_age                int64\n",
       "Prolactin                 object\n",
       "IGF1                      object\n",
       "Cortisol                  object\n",
       "fT4                       object\n",
       "Lab_additional            object\n",
       "dtype: object"
      ]
     },
     "execution_count": 11,
     "metadata": {},
     "output_type": "execute_result"
    }
   ],
   "source": [
    "# set category data type in pandas, check datatypes\n",
    "df['ID_MRI_Machine'] = df['ID_MRI_Machine'].astype('category')\n",
    "df['Adenoma_size'] = df['Adenoma_size'].astype('category')\n",
    "df['Label_Quality'] = df['Label_Quality'].astype('category')\n",
    "df['Diagnosis'] = df['Diagnosis'].astype('category')\n",
    "df['Category'] = df['Category'].astype('category')\n",
    "df.dtypes"
   ]
  },
  {
   "cell_type": "code",
   "execution_count": 12,
   "metadata": {},
   "outputs": [],
   "source": [
    "# replace and correct wrong namings from labelers\n",
    "df[\"Ausfälle prä\"]= df[\"Ausfälle prä\"].str.replace(\"intak\",\"intakt\")\n",
    "df[\"Ausfälle prä\"]= df[\"Ausfälle prä\"].str.replace(\"intaktt\",\"intakt\")\n",
    "df[\"Ausfälle prä\"]= df[\"Ausfälle prä\"].str.replace(\"goando\",\"gonado\")\n",
    "df[\"Ausfälle post\"]= df[\"Ausfälle post\"].str.replace(\"goando\",\"gonado\")\n",
    "df[\"Ausfälle post\"]= df[\"Ausfälle post\"].str.replace(\"adh\",\"ADH\")"
   ]
  },
  {
   "cell_type": "markdown",
   "metadata": {},
   "source": [
    "## One Hot Encode Categorical Values\n",
    "\n",
    "To use and analyse the categorical data we need to one-hot encode them. This is done by splitting the comma separated strings into single strings and then create a one-hot-encoded column of each individual value. This column is then added to the original dataframe."
   ]
  },
  {
   "cell_type": "code",
   "execution_count": 13,
   "metadata": {},
   "outputs": [],
   "source": [
    "# Split the 'Ausfälle prä' column into separate strings\n",
    "df['Ausfälle prä'] = df['Ausfälle prä'].str.split(', ')\n",
    "# Create a set to store all unique disfunctions\n",
    "unique_disfunctions = set()\n",
    "\n",
    "# Iterate over the 'Ausfälle prä' column to gather unique disfunctions\n",
    "for value in df['Ausfälle prä']:\n",
    "    if isinstance(value, list):\n",
    "        unique_disfunctions.update(value)\n",
    "    elif isinstance(value, str):\n",
    "        unique_disfunctions.add(value)\n",
    "\n",
    "# Iterate over the unique disfunctions and create one-hot encoded columns\n",
    "for disfunction in unique_disfunctions:\n",
    "    df[\"Pre_OP_hormone_\"+ disfunction] = df['Ausfälle prä'].apply(lambda x: 1 if (isinstance(x, list) and disfunction in x) or (x == disfunction) else 0)\n",
    "# drop the original 'Ausfälle prä' column\n",
    "df = df.drop('Ausfälle prä', axis=1)"
   ]
  },
  {
   "cell_type": "code",
   "execution_count": 14,
   "metadata": {},
   "outputs": [],
   "source": [
    "# Split the 'Ausfälle post' column into separate strings\n",
    "df['Ausfälle post'] = df['Ausfälle post'].str.split(', ')\n",
    "\n",
    "# Create a set to store all unique disfunctions\n",
    "unique_disfunctions = set()\n",
    "\n",
    "# Iterate over the 'Ausfälle post' column to gather unique disfunctions\n",
    "for value in df['Ausfälle post']:\n",
    "    if isinstance(value, list):\n",
    "        unique_disfunctions.update(value)\n",
    "    elif isinstance(value, str):\n",
    "        unique_disfunctions.add(value)\n",
    "\n",
    "# Iterate over the unique disfunctions and create one-hot encoded columns\n",
    "for disfunction in unique_disfunctions:\n",
    "    df[\"Post_OP_hormone_\"+ disfunction] = df['Ausfälle post'].apply(lambda x: 1 if (isinstance(x, list) and disfunction in x) or (x == disfunction) else 0)\n",
    "\n",
    "# drop the original 'Ausfälle post' column\n",
    "df = df.drop('Ausfälle post', axis=1)"
   ]
  },
  {
   "cell_type": "code",
   "execution_count": 15,
   "metadata": {},
   "outputs": [
    {
     "data": {
      "text/plain": [
       "Index(['Patient_ID', 'Case_ID', 'Date_MRI', 'ID_MRI_Machine', 'Adenoma_size',\n",
       "       'Label_Quality', 'Entry_date', 'Operation_date', 'Diagnosis',\n",
       "       'Category', 'Patient_age', 'Prolactin', 'IGF1', 'Cortisol', 'fT4',\n",
       "       'Lab_additional', 'Pre_OP_hormone_', 'Pre_OP_hormone_prolaktin',\n",
       "       'Pre_OP_hormone_hyperprolakin stressinduziert',\n",
       "       'Pre_OP_hormone_hypogonado', 'Pre_OP_hormone_keine',\n",
       "       'Pre_OP_hormone_somatotrop', 'Pre_OP_hormone_chiasma',\n",
       "       'Pre_OP_hormone_morbus cushing', 'Pre_OP_hormone_hypothyreo',\n",
       "       'Pre_OP_hormone_ADH', 'Pre_OP_hormone_coritco', 'Pre_OP_hormone_somato',\n",
       "       'Pre_OP_hormone_intakt', 'Pre_OP_hormone_gonado',\n",
       "       'Pre_OP_hormone_gondao', 'Pre_OP_hormone_SIADH',\n",
       "       'Pre_OP_hormone_thyreo', 'Pre_OP_hormone_inaktiv',\n",
       "       'Pre_OP_hormone_inakiv', 'Pre_OP_hormone_hyperprolaktin stressbedingt',\n",
       "       'Pre_OP_hormone_cortico', 'Pre_OP_hormone_hyperprolaktin',\n",
       "       'Pre_OP_hormone_Kompression', 'Post_OP_hormone_thyreo',\n",
       "       'Post_OP_hormone_hyperprolaktin',\n",
       "       'Post_OP_hormone_Proliferationsmarker nicht nachgewiesen',\n",
       "       'Post_OP_hormone_hypogonad', 'Post_OP_hormone_cortico',\n",
       "       'Post_OP_hormone_ADH', 'Post_OP_hormone_somato',\n",
       "       'Post_OP_hormone_intakt', 'Post_OP_hormone_gonado',\n",
       "       'Post_OP_hormone_LH und FSH immunohistoch. Expression',\n",
       "       'Post_OP_hormone_keine'],\n",
       "      dtype='object')"
      ]
     },
     "execution_count": 15,
     "metadata": {},
     "output_type": "execute_result"
    }
   ],
   "source": [
    "df.columns"
   ]
  },
  {
   "cell_type": "code",
   "execution_count": 16,
   "metadata": {},
   "outputs": [],
   "source": [
    "df= df[['Patient_ID','Case_ID', 'Date_MRI', 'ID_MRI_Machine','Entry_date', 'Operation_date', 'Adenoma_size',\n",
    "         'Diagnosis',\n",
    "       'Category', 'Patient_age', 'Prolactin',\"IGF1\", 'Cortisol','fT4','Lab_additional',\n",
    "       'Pre_OP_hormone_cortico', 'Pre_OP_hormone_gonado',\n",
    "       'Pre_OP_hormone_somato', 'Pre_OP_hormone_thyreo',\n",
    "       'Pre_OP_hormone_hyperprolaktin', 'Pre_OP_hormone_keine',\n",
    "       'Pre_OP_hormone_intakt', 'Post_OP_hormone_cortico',\n",
    "       'Post_OP_hormone_gonado', 'Post_OP_hormone_somato',\n",
    "       'Post_OP_hormone_ADH', 'Post_OP_hormone_thyreo',\n",
    "       'Post_OP_hormone_hyperprolaktin', 'Post_OP_hormone_keine',\n",
    "       'Post_OP_hormone_intakt', 'Label_Quality',]]"
   ]
  },
  {
   "cell_type": "code",
   "execution_count": 17,
   "metadata": {},
   "outputs": [],
   "source": [
    "df.to_csv(r'../raw_data/label_data.csv',index=False)"
   ]
  },
  {
   "cell_type": "code",
   "execution_count": 18,
   "metadata": {},
   "outputs": [
    {
     "name": "stdout",
     "output_type": "stream",
     "text": [
      "End Clean and Preprocessing patient data\n"
     ]
    }
   ],
   "source": [
    "print(\"End Clean and Preprocessing patient data\")"
   ]
  },
  {
   "cell_type": "markdown",
   "metadata": {},
   "source": [
    "# Data Cleaning and Selection Lab-data"
   ]
  },
  {
   "cell_type": "code",
   "execution_count": 41,
   "metadata": {},
   "outputs": [
    {
     "name": "stdout",
     "output_type": "stream",
     "text": [
      "Start Clean and Preprocessing lab-data\n"
     ]
    }
   ],
   "source": [
    "print(\"Start Clean and Preprocessing lab-data\")"
   ]
  },
  {
   "cell_type": "markdown",
   "metadata": {},
   "source": [
    "## Read"
   ]
  },
  {
   "cell_type": "code",
   "execution_count": 62,
   "metadata": {},
   "outputs": [],
   "source": [
    "lab_data = pd.read_excel(\"../raw_data/extract_pit.xlsx\").rename(columns={\"PATIENT_NR\":\"Patient_ID\",\"FALL_NR\":\"Case_ID\",\"Analyse-ID\":\"Lab_ID\"})"
   ]
  },
  {
   "cell_type": "code",
   "execution_count": 63,
   "metadata": {},
   "outputs": [
    {
     "data": {
      "text/plain": [
       "Index(['Case_ID', 'Patient_ID', 'Analyse', 'Lab_ID', 'Auftraggeber',\n",
       "       'Datum_Resultat', 'Auftragsdatum', 'Resultat', 'Einheit', 'Normwert',\n",
       "       'Fallart', 'Warnung'],\n",
       "      dtype='object')"
      ]
     },
     "execution_count": 63,
     "metadata": {},
     "output_type": "execute_result"
    }
   ],
   "source": [
    "lab_data.columns"
   ]
  },
  {
   "cell_type": "code",
   "execution_count": 72,
   "metadata": {},
   "outputs": [],
   "source": [
    "lab_data['Lab_ID'] = lab_data['Lab_ID'].replace({20396:'IGF1',24382:'PROL',24384:'PROL',24383:'PROL'})"
   ]
  },
  {
   "cell_type": "code",
   "execution_count": 73,
   "metadata": {},
   "outputs": [
    {
     "data": {
      "text/plain": [
       "array(['LH', 'FSH', 'FT4', 'PROL', 'TEST', 'IGF1', 'TBILHB', 'COR60',\n",
       "       'COR30', 'ABTEST'], dtype=object)"
      ]
     },
     "execution_count": 73,
     "metadata": {},
     "output_type": "execute_result"
    }
   ],
   "source": [
    "lab_data['Lab_ID'].unique()"
   ]
  },
  {
   "cell_type": "code",
   "execution_count": 74,
   "metadata": {},
   "outputs": [],
   "source": [
    "ids = {'Ã¼': 'ü', 'Ã¤': 'ä', \"Ã„\":\"Ä\",\"√§\":\"ä\"}\n",
    "\n",
    "for column in lab_data.columns[lab_data.columns.isin([\"Case_ID\",\"Patient_ID\",\"Datum_Resultat\",\"Auftragsdatum\"]) == False]:\n",
    "    for old, new in ids.items():\n",
    "        lab_data[column] = lab_data[column].str.replace(old, new, regex=False)\n",
    "clean_result = lambda result: re.sub(r'(?<!\\d)\\.', '', re.sub(r'[^\\d.]', '', str(result))) #clean < zahl / > zahl / 1 A zahl\n",
    "lab_data[\"Resultat\"] = lab_data[\"Resultat\"].apply(clean_result) \n",
    "lab_data = lab_data[lab_data[\"Resultat\"] != \"\"]\n",
    "lab_data[\"Resultat\"] = lab_data[\"Resultat\"].astype(float)\n",
    "lab_data[\"Normwert\"] = lab_data[\"Normwert\"].str.lower().str.replace(\" \", \"\").replace(\"\",np.nan)\n",
    "lab_data[\"Warnung\"] = lab_data[\"Warnung\"].replace('   ',np.nan)"
   ]
  },
  {
   "cell_type": "code",
   "execution_count": 75,
   "metadata": {},
   "outputs": [],
   "source": [
    "assert lab_data[\"Datum_Resultat\"].min() > pd.to_datetime(\"1995-01-01\")"
   ]
  },
  {
   "cell_type": "code",
   "execution_count": 76,
   "metadata": {},
   "outputs": [
    {
     "data": {
      "text/plain": [
       "array(['LH', 'FSH', 'FT4', 'PROL', 'TEST', 'IGF1', 'COR60', 'COR30',\n",
       "       'TBILHB'], dtype=object)"
      ]
     },
     "execution_count": 76,
     "metadata": {},
     "output_type": "execute_result"
    }
   ],
   "source": [
    "lab_data['Lab_ID'].unique()"
   ]
  },
  {
   "cell_type": "code",
   "execution_count": 77,
   "metadata": {},
   "outputs": [],
   "source": [
    "lab_data_model = lab_data.drop(columns = [\"Warnung\",\"Einheit\",\"Auftraggeber\",\"Normwert\",\"Analyse\",\"Auftragsdatum\"])"
   ]
  },
  {
   "cell_type": "code",
   "execution_count": 78,
   "metadata": {},
   "outputs": [
    {
     "data": {
      "text/html": [
       "<div>\n",
       "<style scoped>\n",
       "    .dataframe tbody tr th:only-of-type {\n",
       "        vertical-align: middle;\n",
       "    }\n",
       "\n",
       "    .dataframe tbody tr th {\n",
       "        vertical-align: top;\n",
       "    }\n",
       "\n",
       "    .dataframe thead th {\n",
       "        text-align: right;\n",
       "    }\n",
       "</style>\n",
       "<table border=\"1\" class=\"dataframe\">\n",
       "  <thead>\n",
       "    <tr style=\"text-align: right;\">\n",
       "      <th></th>\n",
       "      <th>Case_ID</th>\n",
       "      <th>Patient_ID</th>\n",
       "      <th>Analyse</th>\n",
       "      <th>Lab_ID</th>\n",
       "      <th>Auftraggeber</th>\n",
       "      <th>Datum_Resultat</th>\n",
       "      <th>Auftragsdatum</th>\n",
       "      <th>Resultat</th>\n",
       "      <th>Einheit</th>\n",
       "      <th>Normwert</th>\n",
       "      <th>Fallart</th>\n",
       "      <th>Warnung</th>\n",
       "    </tr>\n",
       "  </thead>\n",
       "  <tbody>\n",
       "    <tr>\n",
       "      <th>0</th>\n",
       "      <td>41505731</td>\n",
       "      <td>23613</td>\n",
       "      <td>LH (luteinisierendes Hormon)</td>\n",
       "      <td>LH</td>\n",
       "      <td>ENDOKRINOLOGIE</td>\n",
       "      <td>2023-09-08</td>\n",
       "      <td>20230908</td>\n",
       "      <td>139.0</td>\n",
       "      <td>U/l</td>\n",
       "      <td>1,50-9,30</td>\n",
       "      <td>ambulant</td>\n",
       "      <td>ausserhalb Norm</td>\n",
       "    </tr>\n",
       "    <tr>\n",
       "      <th>1</th>\n",
       "      <td>41919082</td>\n",
       "      <td>300065854</td>\n",
       "      <td>FSH (Follikel-stimulierendes Hormon)</td>\n",
       "      <td>FSH</td>\n",
       "      <td>P√ÑD.ENDOKRINO/DIABET.</td>\n",
       "      <td>2023-07-10</td>\n",
       "      <td>20230710</td>\n",
       "      <td>225.0</td>\n",
       "      <td>U/l</td>\n",
       "      <td>1,40-18,1</td>\n",
       "      <td>ambulant</td>\n",
       "      <td>NaN</td>\n",
       "    </tr>\n",
       "    <tr>\n",
       "      <th>2</th>\n",
       "      <td>41643796</td>\n",
       "      <td>628910</td>\n",
       "      <td>LH (luteinisierendes Hormon)</td>\n",
       "      <td>LH</td>\n",
       "      <td>GYN.ENDOKR.</td>\n",
       "      <td>2023-01-16</td>\n",
       "      <td>20230116</td>\n",
       "      <td>399.0</td>\n",
       "      <td>U/l</td>\n",
       "      <td>zyklusabhängig</td>\n",
       "      <td>ambulant</td>\n",
       "      <td>NaN</td>\n",
       "    </tr>\n",
       "    <tr>\n",
       "      <th>3</th>\n",
       "      <td>41424235</td>\n",
       "      <td>444742</td>\n",
       "      <td>FSH (Follikel-stimulierendes Hormon)</td>\n",
       "      <td>FSH</td>\n",
       "      <td>P√ÑD.ENDOKRINO/DIABET.</td>\n",
       "      <td>2023-03-31</td>\n",
       "      <td>20230331</td>\n",
       "      <td>300.0</td>\n",
       "      <td>U/l</td>\n",
       "      <td>1,40-18,1</td>\n",
       "      <td>ambulant</td>\n",
       "      <td>NaN</td>\n",
       "    </tr>\n",
       "    <tr>\n",
       "      <th>4</th>\n",
       "      <td>41777042</td>\n",
       "      <td>500857</td>\n",
       "      <td>LH (luteinisierendes Hormon)</td>\n",
       "      <td>LH</td>\n",
       "      <td>ENDOKRINOLOGIE</td>\n",
       "      <td>2023-03-07</td>\n",
       "      <td>20230307</td>\n",
       "      <td>223.0</td>\n",
       "      <td>U/l</td>\n",
       "      <td>zyklusabhängig</td>\n",
       "      <td>ambulant</td>\n",
       "      <td>NaN</td>\n",
       "    </tr>\n",
       "    <tr>\n",
       "      <th>...</th>\n",
       "      <td>...</td>\n",
       "      <td>...</td>\n",
       "      <td>...</td>\n",
       "      <td>...</td>\n",
       "      <td>...</td>\n",
       "      <td>...</td>\n",
       "      <td>...</td>\n",
       "      <td>...</td>\n",
       "      <td>...</td>\n",
       "      <td>...</td>\n",
       "      <td>...</td>\n",
       "      <td>...</td>\n",
       "    </tr>\n",
       "    <tr>\n",
       "      <th>93563</th>\n",
       "      <td>40580475</td>\n",
       "      <td>416229</td>\n",
       "      <td>fT4 (freies Thyroxin)</td>\n",
       "      <td>FT4</td>\n",
       "      <td>ENDOKRINOLOGIE</td>\n",
       "      <td>2018-09-26</td>\n",
       "      <td>20180926</td>\n",
       "      <td>109.0</td>\n",
       "      <td>pmol/l</td>\n",
       "      <td>9,9-19,3</td>\n",
       "      <td>ambulant</td>\n",
       "      <td>NaN</td>\n",
       "    </tr>\n",
       "    <tr>\n",
       "      <th>93565</th>\n",
       "      <td>40351451</td>\n",
       "      <td>300077868</td>\n",
       "      <td>Testosteron</td>\n",
       "      <td>TEST</td>\n",
       "      <td>KINDERKLINIK</td>\n",
       "      <td>2018-07-04</td>\n",
       "      <td>20180704</td>\n",
       "      <td>563.0</td>\n",
       "      <td>nmol/l</td>\n",
       "      <td>&lt;32</td>\n",
       "      <td>ambulant</td>\n",
       "      <td>NaN</td>\n",
       "    </tr>\n",
       "    <tr>\n",
       "      <th>93566</th>\n",
       "      <td>10111455</td>\n",
       "      <td>484286</td>\n",
       "      <td>FSH (Follikel-stimulierendes Hormon)</td>\n",
       "      <td>FSH</td>\n",
       "      <td>SPIELMANN-SANDMEIER</td>\n",
       "      <td>2018-02-08</td>\n",
       "      <td>20180208</td>\n",
       "      <td>620.0</td>\n",
       "      <td>U/l</td>\n",
       "      <td>NaN</td>\n",
       "      <td>no</td>\n",
       "      <td>NaN</td>\n",
       "    </tr>\n",
       "    <tr>\n",
       "      <th>93567</th>\n",
       "      <td>40556611</td>\n",
       "      <td>313571</td>\n",
       "      <td>fT4 (freies Thyroxin)</td>\n",
       "      <td>FT4</td>\n",
       "      <td>NUKLEARMEDIZIN</td>\n",
       "      <td>2018-10-08</td>\n",
       "      <td>20181008</td>\n",
       "      <td>163.0</td>\n",
       "      <td>pmol/l</td>\n",
       "      <td>9,9-19,3</td>\n",
       "      <td>ambulant</td>\n",
       "      <td>NaN</td>\n",
       "    </tr>\n",
       "    <tr>\n",
       "      <th>93568</th>\n",
       "      <td>40502216</td>\n",
       "      <td>574386</td>\n",
       "      <td>fT4 (freies Thyroxin)</td>\n",
       "      <td>FT4</td>\n",
       "      <td>KINDERKLINIK</td>\n",
       "      <td>2018-09-24</td>\n",
       "      <td>20180924</td>\n",
       "      <td>172.0</td>\n",
       "      <td>pmol/l</td>\n",
       "      <td>9,9-19,3</td>\n",
       "      <td>ambulant</td>\n",
       "      <td>NaN</td>\n",
       "    </tr>\n",
       "  </tbody>\n",
       "</table>\n",
       "<p>87701 rows × 12 columns</p>\n",
       "</div>"
      ],
      "text/plain": [
       "        Case_ID  Patient_ID                               Analyse Lab_ID  \\\n",
       "0      41505731       23613          LH (luteinisierendes Hormon)     LH   \n",
       "1      41919082   300065854  FSH (Follikel-stimulierendes Hormon)    FSH   \n",
       "2      41643796      628910          LH (luteinisierendes Hormon)     LH   \n",
       "3      41424235      444742  FSH (Follikel-stimulierendes Hormon)    FSH   \n",
       "4      41777042      500857          LH (luteinisierendes Hormon)     LH   \n",
       "...         ...         ...                                   ...    ...   \n",
       "93563  40580475      416229                 fT4 (freies Thyroxin)    FT4   \n",
       "93565  40351451   300077868                           Testosteron   TEST   \n",
       "93566  10111455      484286  FSH (Follikel-stimulierendes Hormon)    FSH   \n",
       "93567  40556611      313571                 fT4 (freies Thyroxin)    FT4   \n",
       "93568  40502216      574386                 fT4 (freies Thyroxin)    FT4   \n",
       "\n",
       "                 Auftraggeber Datum_Resultat  Auftragsdatum  Resultat Einheit  \\\n",
       "0              ENDOKRINOLOGIE     2023-09-08       20230908     139.0     U/l   \n",
       "1      P√ÑD.ENDOKRINO/DIABET.     2023-07-10       20230710     225.0     U/l   \n",
       "2                 GYN.ENDOKR.     2023-01-16       20230116     399.0     U/l   \n",
       "3      P√ÑD.ENDOKRINO/DIABET.     2023-03-31       20230331     300.0     U/l   \n",
       "4              ENDOKRINOLOGIE     2023-03-07       20230307     223.0     U/l   \n",
       "...                       ...            ...            ...       ...     ...   \n",
       "93563          ENDOKRINOLOGIE     2018-09-26       20180926     109.0  pmol/l   \n",
       "93565            KINDERKLINIK     2018-07-04       20180704     563.0  nmol/l   \n",
       "93566     SPIELMANN-SANDMEIER     2018-02-08       20180208     620.0     U/l   \n",
       "93567          NUKLEARMEDIZIN     2018-10-08       20181008     163.0  pmol/l   \n",
       "93568            KINDERKLINIK     2018-09-24       20180924     172.0  pmol/l   \n",
       "\n",
       "             Normwert   Fallart          Warnung  \n",
       "0           1,50-9,30  ambulant  ausserhalb Norm  \n",
       "1           1,40-18,1  ambulant              NaN  \n",
       "2      zyklusabhängig  ambulant              NaN  \n",
       "3           1,40-18,1  ambulant              NaN  \n",
       "4      zyklusabhängig  ambulant              NaN  \n",
       "...               ...       ...              ...  \n",
       "93563        9,9-19,3  ambulant              NaN  \n",
       "93565             <32  ambulant              NaN  \n",
       "93566             NaN        no              NaN  \n",
       "93567        9,9-19,3  ambulant              NaN  \n",
       "93568        9,9-19,3  ambulant              NaN  \n",
       "\n",
       "[87701 rows x 12 columns]"
      ]
     },
     "execution_count": 78,
     "metadata": {},
     "output_type": "execute_result"
    }
   ],
   "source": [
    "lab_data"
   ]
  },
  {
   "cell_type": "code",
   "execution_count": 79,
   "metadata": {},
   "outputs": [
    {
     "name": "stderr",
     "output_type": "stream",
     "text": [
      "C:\\Users\\Tom\\AppData\\Local\\Temp\\ipykernel_44844\\864210042.py:2: FutureWarning: The provided callable <function mean at 0x000001CD263BF910> is currently using SeriesGroupBy.mean. In a future version of pandas, the provided callable will be used directly. To keep current behavior pass the string \"mean\" instead.\n",
      "  lab_data_model = lab_data_model.groupby([\"Patient_ID\",\"Lab_ID\",\"Datum_Resultat\"])[\"Resultat\"].agg([np.mean]).reset_index()\n"
     ]
    }
   ],
   "source": [
    "# mean of results of same date\n",
    "lab_data_model = lab_data_model.groupby([\"Patient_ID\",\"Lab_ID\",\"Datum_Resultat\"])[\"Resultat\"].agg([np.mean]).reset_index()"
   ]
  },
  {
   "cell_type": "code",
   "execution_count": 80,
   "metadata": {},
   "outputs": [
    {
     "data": {
      "text/plain": [
       "array(['FT4', 'TEST', 'PROL', 'COR60', 'FSH', 'LH', 'IGF1', 'COR30',\n",
       "       'TBILHB'], dtype=object)"
      ]
     },
     "execution_count": 80,
     "metadata": {},
     "output_type": "execute_result"
    }
   ],
   "source": [
    "lab_data_model['Lab_ID'].unique()"
   ]
  },
  {
   "cell_type": "code",
   "execution_count": 81,
   "metadata": {},
   "outputs": [],
   "source": [
    "patient_data = pd.read_excel(r'../raw_data/Hypophysenpatienten.xlsx',sheet_name='w duplicates').loc[:,[\"PID\",\"Datum/Zeit\",\"Fall Nr.\"]].rename(columns={\"PID\":\"Patient_ID\",\"Fall Nr.\":\"Case_ID\"})"
   ]
  },
  {
   "cell_type": "code",
   "execution_count": 82,
   "metadata": {},
   "outputs": [
    {
     "name": "stdout",
     "output_type": "stream",
     "text": [
      "69 Cases were deleted, because they were duplicates.\n"
     ]
    }
   ],
   "source": [
    "# if there are multiple\n",
    "n_patients = len(patient_data)\n",
    "patient_data = patient_data.groupby([\"Patient_ID\",\"Case_ID\"])[\"Datum/Zeit\"].max().reset_index()\n",
    "print(f\"{n_patients-len(patient_data)} Cases were deleted, because they were duplicates.\")"
   ]
  },
  {
   "cell_type": "code",
   "execution_count": 83,
   "metadata": {},
   "outputs": [],
   "source": [
    "lab_data_model = pd.merge(lab_data_model,patient_data,on=\"Patient_ID\",how = \"right\")\n",
    "lab_data_model = lab_data_model[lab_data_model[\"Datum/Zeit\"] >= lab_data_model[\"Datum_Resultat\"]].drop(columns=\"Datum/Zeit\")"
   ]
  },
  {
   "cell_type": "code",
   "execution_count": 84,
   "metadata": {},
   "outputs": [],
   "source": [
    "# Compute minimum date for each patient and analysis\n",
    "max_dates = lab_data_model.groupby(['Patient_ID', \"Lab_ID\",\"Case_ID\"])['Datum_Resultat'].max().reset_index()\n",
    "# Merge with the original DataFrame to filter rows with minimum dates\n",
    "lab_data_model = pd.merge(lab_data_model, max_dates, on=['Patient_ID', 'Lab_ID', 'Datum_Resultat',\"Case_ID\"])"
   ]
  },
  {
   "cell_type": "code",
   "execution_count": 85,
   "metadata": {},
   "outputs": [],
   "source": [
    "# check for any duplicate Values\n",
    "assert len(lab_data_model.loc[:,[\"Case_ID\",\"Lab_ID\"]].drop_duplicates()) == len(lab_data_model)"
   ]
  },
  {
   "cell_type": "code",
   "execution_count": 86,
   "metadata": {},
   "outputs": [],
   "source": [
    "lab_data_model = lab_data_model.pivot(index=[\"Patient_ID\",\"Case_ID\"],values = ['mean'], columns = ['Lab_ID'])\n",
    "lab_data_model.columns = lab_data_model.columns.droplevel()\n",
    "lab_data_model = lab_data_model.reset_index()"
   ]
  },
  {
   "cell_type": "markdown",
   "metadata": {},
   "source": [
    "### Create LabData from label data"
   ]
  },
  {
   "cell_type": "code",
   "execution_count": 98,
   "metadata": {},
   "outputs": [
    {
     "data": {
      "text/html": [
       "<div>\n",
       "<style scoped>\n",
       "    .dataframe tbody tr th:only-of-type {\n",
       "        vertical-align: middle;\n",
       "    }\n",
       "\n",
       "    .dataframe tbody tr th {\n",
       "        vertical-align: top;\n",
       "    }\n",
       "\n",
       "    .dataframe thead th {\n",
       "        text-align: right;\n",
       "    }\n",
       "</style>\n",
       "<table border=\"1\" class=\"dataframe\">\n",
       "  <thead>\n",
       "    <tr style=\"text-align: right;\">\n",
       "      <th></th>\n",
       "      <th>Patient_ID</th>\n",
       "      <th>Case_ID</th>\n",
       "      <th>COR60</th>\n",
       "      <th>FT4</th>\n",
       "      <th>PROL</th>\n",
       "      <th>IGF1</th>\n",
       "    </tr>\n",
       "  </thead>\n",
       "  <tbody>\n",
       "    <tr>\n",
       "      <th>0</th>\n",
       "      <td>300228153</td>\n",
       "      <td>41707994</td>\n",
       "      <td>329</td>\n",
       "      <td>10.1</td>\n",
       "      <td>173mU/l</td>\n",
       "      <td>6.3nmol/l</td>\n",
       "    </tr>\n",
       "    <tr>\n",
       "      <th>1</th>\n",
       "      <td>300312446</td>\n",
       "      <td>41718174</td>\n",
       "      <td>271</td>\n",
       "      <td>8.4</td>\n",
       "      <td>743mU/l</td>\n",
       "      <td>20.2nmol/l</td>\n",
       "    </tr>\n",
       "    <tr>\n",
       "      <th>2</th>\n",
       "      <td>36127</td>\n",
       "      <td>41579190</td>\n",
       "      <td>110</td>\n",
       "      <td>7.3</td>\n",
       "      <td>687mU/l</td>\n",
       "      <td>75.4ng/ml</td>\n",
       "    </tr>\n",
       "    <tr>\n",
       "      <th>3</th>\n",
       "      <td>300291886</td>\n",
       "      <td>41169249</td>\n",
       "      <td>311 nmol/l</td>\n",
       "      <td>14.6 pmol/l</td>\n",
       "      <td>7.8 ug/l</td>\n",
       "      <td>208 ng/ml</td>\n",
       "    </tr>\n",
       "    <tr>\n",
       "      <th>4</th>\n",
       "      <td>560863</td>\n",
       "      <td>40469555</td>\n",
       "      <td>607</td>\n",
       "      <td>11.4</td>\n",
       "      <td>269ug/l</td>\n",
       "      <td>22.7nmol</td>\n",
       "    </tr>\n",
       "    <tr>\n",
       "      <th>5</th>\n",
       "      <td>459429</td>\n",
       "      <td>40603831</td>\n",
       "      <td>703</td>\n",
       "      <td>13.2</td>\n",
       "      <td>7ug/l</td>\n",
       "      <td>32.5nmol/l</td>\n",
       "    </tr>\n",
       "    <tr>\n",
       "      <th>6</th>\n",
       "      <td>17081</td>\n",
       "      <td>40573077</td>\n",
       "      <td>766</td>\n",
       "      <td>14.3</td>\n",
       "      <td>13.5ug/L</td>\n",
       "      <td>16.6nmol</td>\n",
       "    </tr>\n",
       "    <tr>\n",
       "      <th>7</th>\n",
       "      <td>112374</td>\n",
       "      <td>40541632</td>\n",
       "      <td>334</td>\n",
       "      <td>11</td>\n",
       "      <td>381ug/l</td>\n",
       "      <td>15.9nmol</td>\n",
       "    </tr>\n",
       "    <tr>\n",
       "      <th>8</th>\n",
       "      <td>113792</td>\n",
       "      <td>40525843</td>\n",
       "      <td>1380</td>\n",
       "      <td>11.8</td>\n",
       "      <td>366ug/l</td>\n",
       "      <td>14.9nmol</td>\n",
       "    </tr>\n",
       "    <tr>\n",
       "      <th>9</th>\n",
       "      <td>242880</td>\n",
       "      <td>40419128</td>\n",
       "      <td>1213</td>\n",
       "      <td>17</td>\n",
       "      <td>954ug/l</td>\n",
       "      <td>22nmol</td>\n",
       "    </tr>\n",
       "    <tr>\n",
       "      <th>10</th>\n",
       "      <td>159059</td>\n",
       "      <td>40479846</td>\n",
       "      <td>280</td>\n",
       "      <td>6.7</td>\n",
       "      <td>1.5ug/l</td>\n",
       "      <td>6.5nmol</td>\n",
       "    </tr>\n",
       "    <tr>\n",
       "      <th>11</th>\n",
       "      <td>760622</td>\n",
       "      <td>40507227</td>\n",
       "      <td>521</td>\n",
       "      <td>12.2</td>\n",
       "      <td>88.2ug/l</td>\n",
       "      <td>22.1nmol</td>\n",
       "    </tr>\n",
       "    <tr>\n",
       "      <th>12</th>\n",
       "      <td>300052288</td>\n",
       "      <td>40388593</td>\n",
       "      <td>850</td>\n",
       "      <td>14.1</td>\n",
       "      <td>18.7ug/l</td>\n",
       "      <td>15.4nmol</td>\n",
       "    </tr>\n",
       "    <tr>\n",
       "      <th>13</th>\n",
       "      <td>298149</td>\n",
       "      <td>40496221</td>\n",
       "      <td>683</td>\n",
       "      <td>12.8</td>\n",
       "      <td>11.3ug/l</td>\n",
       "      <td>22.3nmol</td>\n",
       "    </tr>\n",
       "    <tr>\n",
       "      <th>14</th>\n",
       "      <td>677044</td>\n",
       "      <td>40367289</td>\n",
       "      <td>662</td>\n",
       "      <td>11.4</td>\n",
       "      <td>5.2ug/l</td>\n",
       "      <td>43.1nmol</td>\n",
       "    </tr>\n",
       "    <tr>\n",
       "      <th>15</th>\n",
       "      <td>662362</td>\n",
       "      <td>40497479</td>\n",
       "      <td>673</td>\n",
       "      <td>13.5</td>\n",
       "      <td>998ug/l</td>\n",
       "      <td>19.9nmol</td>\n",
       "    </tr>\n",
       "    <tr>\n",
       "      <th>16</th>\n",
       "      <td>300044383</td>\n",
       "      <td>40421368</td>\n",
       "      <td>825</td>\n",
       "      <td>11.7</td>\n",
       "      <td>463ug/l</td>\n",
       "      <td>31.2nnol</td>\n",
       "    </tr>\n",
       "    <tr>\n",
       "      <th>17</th>\n",
       "      <td>635720</td>\n",
       "      <td>40214009</td>\n",
       "      <td>550</td>\n",
       "      <td>15</td>\n",
       "      <td>10520mu/L</td>\n",
       "      <td>15nmol</td>\n",
       "    </tr>\n",
       "    <tr>\n",
       "      <th>18</th>\n",
       "      <td>82016</td>\n",
       "      <td>40345339</td>\n",
       "      <td>707</td>\n",
       "      <td>14.1</td>\n",
       "      <td>19.6ug/l</td>\n",
       "      <td>16.2nmol/l</td>\n",
       "    </tr>\n",
       "    <tr>\n",
       "      <th>19</th>\n",
       "      <td>404252</td>\n",
       "      <td>40285535</td>\n",
       "      <td>588</td>\n",
       "      <td>23.3</td>\n",
       "      <td>7.4</td>\n",
       "      <td>11,2nmol</td>\n",
       "    </tr>\n",
       "    <tr>\n",
       "      <th>20</th>\n",
       "      <td>562753</td>\n",
       "      <td>40377401</td>\n",
       "      <td>704</td>\n",
       "      <td>13</td>\n",
       "      <td>15</td>\n",
       "      <td>17,6nmol</td>\n",
       "    </tr>\n",
       "    <tr>\n",
       "      <th>21</th>\n",
       "      <td>300071920</td>\n",
       "      <td>40323241</td>\n",
       "      <td>1150</td>\n",
       "      <td>1900-01-11 19:12:00</td>\n",
       "      <td>missing</td>\n",
       "      <td>25.4nmol/l</td>\n",
       "    </tr>\n",
       "  </tbody>\n",
       "</table>\n",
       "</div>"
      ],
      "text/plain": [
       "    Patient_ID   Case_ID       COR60                  FT4       PROL  \\\n",
       "0    300228153  41707994         329                 10.1    173mU/l   \n",
       "1    300312446  41718174         271                  8.4    743mU/l   \n",
       "2        36127  41579190         110                  7.3    687mU/l   \n",
       "3    300291886  41169249  311 nmol/l          14.6 pmol/l   7.8 ug/l   \n",
       "4       560863  40469555         607                 11.4    269ug/l   \n",
       "5       459429  40603831         703                 13.2      7ug/l   \n",
       "6        17081  40573077         766                 14.3   13.5ug/L   \n",
       "7       112374  40541632         334                   11    381ug/l   \n",
       "8       113792  40525843        1380                 11.8    366ug/l   \n",
       "9       242880  40419128        1213                   17    954ug/l   \n",
       "10      159059  40479846         280                  6.7    1.5ug/l   \n",
       "11      760622  40507227         521                 12.2   88.2ug/l   \n",
       "12   300052288  40388593         850                 14.1   18.7ug/l   \n",
       "13      298149  40496221         683                 12.8   11.3ug/l   \n",
       "14      677044  40367289         662                 11.4    5.2ug/l   \n",
       "15      662362  40497479         673                 13.5    998ug/l   \n",
       "16   300044383  40421368         825                 11.7    463ug/l   \n",
       "17      635720  40214009         550                   15  10520mu/L   \n",
       "18       82016  40345339         707                 14.1   19.6ug/l   \n",
       "19      404252  40285535         588                 23.3        7.4   \n",
       "20      562753  40377401         704                   13         15   \n",
       "21   300071920  40323241        1150  1900-01-11 19:12:00    missing   \n",
       "\n",
       "          IGF1  \n",
       "0    6.3nmol/l  \n",
       "1   20.2nmol/l  \n",
       "2    75.4ng/ml  \n",
       "3    208 ng/ml  \n",
       "4     22.7nmol  \n",
       "5   32.5nmol/l  \n",
       "6     16.6nmol  \n",
       "7     15.9nmol  \n",
       "8     14.9nmol  \n",
       "9       22nmol  \n",
       "10     6.5nmol  \n",
       "11    22.1nmol  \n",
       "12    15.4nmol  \n",
       "13    22.3nmol  \n",
       "14    43.1nmol  \n",
       "15    19.9nmol  \n",
       "16    31.2nnol  \n",
       "17      15nmol  \n",
       "18  16.2nmol/l  \n",
       "19    11,2nmol  \n",
       "20    17,6nmol  \n",
       "21  25.4nmol/l  "
      ]
     },
     "execution_count": 98,
     "metadata": {},
     "output_type": "execute_result"
    }
   ],
   "source": [
    "df_additional_lab = pd.read_csv(r'../raw_data/label_data.csv').rename(columns={'Cortisol':'COR60','fT4':'FT4','Prolactin':'PROL'})[['Patient_ID','Case_ID','COR60','FT4','PROL','IGF1']]\n",
    "df_additional_lab.columns\n",
    "df_additional_lab = df_additional_lab.dropna(subset=['PROL','IGF1','COR60','FT4',]).reset_index(drop=True)\n",
    "df_additional_lab"
   ]
  },
  {
   "cell_type": "code",
   "execution_count": null,
   "metadata": {},
   "outputs": [],
   "source": []
  },
  {
   "cell_type": "code",
   "execution_count": null,
   "metadata": {},
   "outputs": [],
   "source": [
    "# get indices which need to be converted\n",
    "indices_to_divide = df.loc[df[\"Prolaktin\"].str.contains('ug/l'),'Prolaktin'].index \n",
    "# remove units and strings\n",
    "df['Prolaktin'] = df['Prolaktin'].str.rstrip(r'mU/l')\n",
    "df['Prolaktin'] = df['Prolaktin'].str.rstrip(r'ug/l')\n",
    "df['Prolaktin'] = df['Prolaktin'].astype(float)\n",
    "# ug/l -> mU/l (ug/l * 21.2)\n",
    "df.loc[indices_to_divide,'Prolaktin'] = df.loc[indices_to_divide,'Prolaktin'] * 21.2\n"
   ]
  },
  {
   "cell_type": "code",
   "execution_count": null,
   "metadata": {},
   "outputs": [],
   "source": [
    "lab_data_model"
   ]
  },
  {
   "cell_type": "code",
   "execution_count": null,
   "metadata": {},
   "outputs": [],
   "source": [
    "print(f\"Sparsity of labordata: {round(lab_data_model.isna().mean().mean(),3)} % (nur von Fällen mit Laborwerten)\")\n",
    "print(f\"Von {len(patient_data)-len(lab_data_model)} Fällen gibt es keine Laborwerte.\")"
   ]
  },
  {
   "cell_type": "code",
   "execution_count": null,
   "metadata": {},
   "outputs": [],
   "source": [
    "lab_data_model.to_csv(r'../raw_data/labor_data_preprocessed.csv',index=False)"
   ]
  },
  {
   "cell_type": "code",
   "execution_count": null,
   "metadata": {},
   "outputs": [],
   "source": [
    "print(\"End Clean and Preprocessing labor data\")"
   ]
  }
 ],
 "metadata": {
  "kernelspec": {
   "display_name": "AgroLuege--zjmSdF3",
   "language": "python",
   "name": "python3"
  },
  "language_info": {
   "codemirror_mode": {
    "name": "ipython",
    "version": 3
   },
   "file_extension": ".py",
   "mimetype": "text/x-python",
   "name": "python",
   "nbconvert_exporter": "python",
   "pygments_lexer": "ipython3",
   "version": "3.10.5"
  }
 },
 "nbformat": 4,
 "nbformat_minor": 2
}
