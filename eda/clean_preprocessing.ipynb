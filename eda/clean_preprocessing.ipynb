{
 "cells": [
  {
   "cell_type": "markdown",
   "metadata": {},
   "source": [
    "# Data Cleaning and Selection Patientendaten"
   ]
  },
  {
   "cell_type": "markdown",
   "metadata": {},
   "source": [
    "## Imports and Read"
   ]
  },
  {
   "cell_type": "code",
   "execution_count": 3,
   "metadata": {},
   "outputs": [],
   "source": [
    "import pandas as pd\n",
    "import datetime\n",
    "import numpy as np\n",
    "import re"
   ]
  },
  {
   "cell_type": "code",
   "execution_count": 4,
   "metadata": {},
   "outputs": [
    {
     "name": "stdout",
     "output_type": "stream",
     "text": [
      "Start Clean and Preprocessing data patient\n"
     ]
    }
   ],
   "source": [
    "print(\"Start Clean and Preprocessing data patient\")"
   ]
  },
  {
   "cell_type": "code",
   "execution_count": 5,
   "metadata": {},
   "outputs": [],
   "source": [
    "df = pd.read_excel(r'../raw_data/Hypophysenpatienten.xlsx',sheet_name='no duplicate PID')"
   ]
  },
  {
   "cell_type": "code",
   "execution_count": 6,
   "metadata": {},
   "outputs": [
    {
     "data": {
      "text/plain": [
       "Index(['%ID', 'Fall Nr.', 'Datum/Zeit', 'Modalität', 'Exam Code', 'Exam Name',\n",
       "       'Abteilung', 'Arbeitsplatz.Kürzel', 'Aufnahmeart', 'PID', 'Grösse',\n",
       "       'Ausfälle prä', 'Prolaktin', 'IGF1', 'Cortisol', 'fT4',\n",
       "       'weiteres Labor', 'Qualität', 'ED', 'OP Datum', 'Ausfälle post',\n",
       "       'Diagnose', 'Kategorie', 'Patient Alter', 'Zuweiser',\n",
       "       'AnforderungDatum', 'ÜberweiserIntern.Bereich',\n",
       "       'ÜberweiserIntern.Klinik'],\n",
       "      dtype='object')"
      ]
     },
     "execution_count": 6,
     "metadata": {},
     "output_type": "execute_result"
    }
   ],
   "source": [
    "df.columns"
   ]
  },
  {
   "cell_type": "markdown",
   "metadata": {},
   "source": [
    "## Basic Cleaning, Column Selection, Anomaly Correction and Format definition"
   ]
  },
  {
   "cell_type": "code",
   "execution_count": 7,
   "metadata": {},
   "outputs": [],
   "source": [
    "# define needed columns\n",
    "column_list = ['Fall Nr.','PID',\"Datum/Zeit\",\"Arbeitsplatz.Kürzel\",'Grösse',\n",
    "       'Ausfälle prä', 'Qualität', 'ED','OP Datum', 'Ausfälle post',\n",
    "       'Diagnose', 'Kategorie', 'Patient Alter',\n",
    "       'Prolaktin',\"IGF1\", 'Cortisol','fT4','weiteres Labor']\n"
   ]
  },
  {
   "cell_type": "markdown",
   "metadata": {},
   "source": [
    "### Data Type Definition\n"
   ]
  },
  {
   "cell_type": "code",
   "execution_count": 8,
   "metadata": {},
   "outputs": [],
   "source": [
    "#TODO: check Tristan\n",
    "# not parseable correct values corrected\n",
    "df.loc[3,'ED'] = datetime.datetime(2006,1,1,0,0,0,0)\n",
    "df.loc[12,'ED'] = datetime.datetime(2008,1,1,0,0,0,0)\n",
    "\n",
    "#TODO: check Tristan\n",
    "# correct a value which is not datetime parseable\n",
    "df.loc[df['OP Datum'] == '2006, 2009', 'OP Datum'] = datetime.datetime(2006,1,1,0,0,0,0)"
   ]
  },
  {
   "cell_type": "code",
   "execution_count": 9,
   "metadata": {},
   "outputs": [],
   "source": [
    "# make datetime values\n",
    "df[\"Datum/Zeit\"] = pd.to_datetime(df[\"Datum/Zeit\"])\n",
    "df[\"ED\"] = pd.to_datetime(df[\"ED\"])\n",
    "df[\"OP Datum\"] = pd.to_datetime(df[\"OP Datum\"])"
   ]
  },
  {
   "cell_type": "code",
   "execution_count": 10,
   "metadata": {},
   "outputs": [
    {
     "data": {
      "text/html": [
       "<div>\n",
       "<style scoped>\n",
       "    .dataframe tbody tr th:only-of-type {\n",
       "        vertical-align: middle;\n",
       "    }\n",
       "\n",
       "    .dataframe tbody tr th {\n",
       "        vertical-align: top;\n",
       "    }\n",
       "\n",
       "    .dataframe thead th {\n",
       "        text-align: right;\n",
       "    }\n",
       "</style>\n",
       "<table border=\"1\" class=\"dataframe\">\n",
       "  <thead>\n",
       "    <tr style=\"text-align: right;\">\n",
       "      <th></th>\n",
       "      <th>ED</th>\n",
       "      <th>OP Datum</th>\n",
       "    </tr>\n",
       "  </thead>\n",
       "  <tbody>\n",
       "    <tr>\n",
       "      <th>20</th>\n",
       "      <td>2023-09-02</td>\n",
       "      <td>2009-02-18</td>\n",
       "    </tr>\n",
       "  </tbody>\n",
       "</table>\n",
       "</div>"
      ],
      "text/plain": [
       "           ED   OP Datum\n",
       "20 2023-09-02 2009-02-18"
      ]
     },
     "execution_count": 10,
     "metadata": {},
     "output_type": "execute_result"
    }
   ],
   "source": [
    "# TODO: anomaly? check tristan\n",
    "# rows where Entry Date is after Operationdate?\n",
    "df[df['OP Datum'] < df['ED']][['ED','OP Datum']]"
   ]
  },
  {
   "cell_type": "markdown",
   "metadata": {},
   "source": [
    "### Impute NAN Lab Data"
   ]
  },
  {
   "cell_type": "code",
   "execution_count": 11,
   "metadata": {},
   "outputs": [],
   "source": [
    "# TODO: set impute value\n",
    "df.loc[df[\"Prolaktin\"].isna(),'Prolaktin'] = '0'\n",
    "df.loc[df[\"IGF1\"].isna(),'IGF1'] = '0'\n",
    "df.loc[df[\"Cortisol\"].isna(),'Cortisol'] = '0'\n",
    "df.loc[df[\"fT4\"].isna(),'fT4'] = '0'\n"
   ]
  },
  {
   "cell_type": "markdown",
   "metadata": {},
   "source": [
    "### Unit Conversion Lab Data"
   ]
  },
  {
   "cell_type": "code",
   "execution_count": 12,
   "metadata": {},
   "outputs": [
    {
     "data": {
      "text/plain": [
       "array(['0', '173mU/l', '743mU/l', '687mU/l', '7.8 ug/l'], dtype=object)"
      ]
     },
     "execution_count": 12,
     "metadata": {},
     "output_type": "execute_result"
    }
   ],
   "source": [
    "df[\"Prolaktin\"].unique()"
   ]
  },
  {
   "cell_type": "code",
   "execution_count": 13,
   "metadata": {},
   "outputs": [],
   "source": [
    "# get indices which need to be converted\n",
    "indices_to_divide = df.loc[df[\"Prolaktin\"].str.contains('ug/l'),'Prolaktin'].index \n",
    "# remove units and strings\n",
    "df['Prolaktin'] = df['Prolaktin'].str.rstrip(r'mU/l')\n",
    "df['Prolaktin'] = df['Prolaktin'].str.rstrip(r'ug/l')\n",
    "df['Prolaktin'] = df['Prolaktin'].astype(float)\n",
    "# ug/l -> mU/l (ug/l * 21.2)\n",
    "df.loc[indices_to_divide,'Prolaktin'] = df.loc[indices_to_divide,'Prolaktin'] * 21.2\n"
   ]
  },
  {
   "cell_type": "code",
   "execution_count": 14,
   "metadata": {},
   "outputs": [
    {
     "data": {
      "text/plain": [
       "array(['0', '6.3nmol/l', '20.2nmol/l', '75.4ng/ml', '208 ng/ml'],\n",
       "      dtype=object)"
      ]
     },
     "execution_count": 14,
     "metadata": {},
     "output_type": "execute_result"
    }
   ],
   "source": [
    "df[\"IGF1\"].unique()"
   ]
  },
  {
   "cell_type": "code",
   "execution_count": 15,
   "metadata": {},
   "outputs": [],
   "source": [
    "# get indices which need to be converted\n",
    "indices_to_divide = df.loc[df[\"IGF1\"].str.contains('ng/ml'),'IGF1'].index \n",
    "# remove units and strings\n",
    "df['IGF1'] = df['IGF1'].str.rstrip(r'nmol/l')\n",
    "df['IGF1'] = df['IGF1'].str.rstrip(r'ng/ml')\n",
    "df['IGF1'] = df['IGF1'].astype(float)\n",
    "# ng/ml -> nmol/l (ng/ml / 7.65)\n",
    "df.loc[indices_to_divide,'IGF1'] = df.loc[indices_to_divide,'IGF1'] / 7.65\n"
   ]
  },
  {
   "cell_type": "code",
   "execution_count": 16,
   "metadata": {},
   "outputs": [
    {
     "data": {
      "text/plain": [
       "array(['0', 329, 271, 110, '311 nmol/l'], dtype=object)"
      ]
     },
     "execution_count": 16,
     "metadata": {},
     "output_type": "execute_result"
    }
   ],
   "source": [
    "df[\"Cortisol\"].unique()"
   ]
  },
  {
   "cell_type": "code",
   "execution_count": 17,
   "metadata": {},
   "outputs": [],
   "source": [
    "# # get indices which need to be converted\n",
    "# indices_to_divide = df.loc[df[\"Cortisol\"].str.contains('ng/ml'),'Cortisol'].index \n",
    "# # remove units and strings\n",
    "# df['Cortisol'] = df['Cortisol'].str.rstrip(r'nmol/l')\n",
    "# df['Cortisol'] = df['IGF1'].str.rstrip(r'ng/ml')\n",
    "# df['Cortisol'] = df['Cortisol'].astype(float)\n",
    "# # ng/ml -> nmol/l (ng/ml *  27.59)\n",
    "# df.loc[indices_to_divide,'Cortisol'] = df.loc[indices_to_divide,'Cortisol'] / 7.65\n"
   ]
  },
  {
   "cell_type": "code",
   "execution_count": 18,
   "metadata": {},
   "outputs": [
    {
     "data": {
      "text/plain": [
       "array(['0', 10.1, 8.4, 7.3, '14.6 pmol/l'], dtype=object)"
      ]
     },
     "execution_count": 18,
     "metadata": {},
     "output_type": "execute_result"
    }
   ],
   "source": [
    "df[\"fT4\"].unique()"
   ]
  },
  {
   "cell_type": "code",
   "execution_count": 19,
   "metadata": {},
   "outputs": [],
   "source": [
    "# # get indices which need to be converted\n",
    "# indices_to_divide = df.loc[df[\"fT4\"].str.contains('ng/ml'),'fT4'].index \n",
    "# # remove units and strings\n",
    "# df['fT4'] = df['fT4'].str.rstrip(r'nmol/l')\n",
    "# df['fT4'] = df['fT4'].str.rstrip(r'ng/ml')\n",
    "# df['fT4'] = df['fT4'].astype(float)\n",
    "# # ng/ml -> nmol/l (ng/ml / 7.65)\n",
    "# df.loc[indices_to_divide,'fT4'] = df.loc[indices_to_divide,'fT4'] / 7.65\n"
   ]
  },
  {
   "cell_type": "code",
   "execution_count": 20,
   "metadata": {},
   "outputs": [],
   "source": [
    "# Patient ID Duplicate Check\n",
    "assert len(df[df[\"PID\"].duplicated()]) == 0\n",
    "\n",
    "# Case Nr Duplicate Check\n",
    "assert len(df[df[\"Fall Nr.\"].duplicated()]) == 0"
   ]
  },
  {
   "cell_type": "code",
   "execution_count": 21,
   "metadata": {},
   "outputs": [],
   "source": [
    "# select and rename columns\n",
    "df = df[column_list]\n",
    "df= df.rename(columns={\"Fall Nr.\": \"Case_ID\",\"PID\": \"Patient_ID\",\n",
    "                       \"Datum/Zeit\": \"Date_MRI\",\"ED\": \"Entry_date\", \"OP Datum\": \"Operation_date\",\n",
    "                       \"Arbeitsplatz.Kürzel\":\"ID_MRI_Machine\",\"Grösse\": \"Adenoma_size\",\"Qualität\": \"Label_Quality\",\n",
    "                       \"Patient Alter\":\"Patient_age\",\"Kategorie\":\"Category\",\"Diagnose\":\"Diagnosis\",\n",
    "                       \"Prolaktin\":\"Prolactin\",\"weiteres Labor\":\"Lab_additional\"})"
   ]
  },
  {
   "cell_type": "code",
   "execution_count": 22,
   "metadata": {},
   "outputs": [
    {
     "data": {
      "text/plain": [
       "Case_ID                    int64\n",
       "Patient_ID                 int64\n",
       "Date_MRI          datetime64[ns]\n",
       "ID_MRI_Machine          category\n",
       "Adenoma_size            category\n",
       "Ausfälle prä              object\n",
       "Label_Quality           category\n",
       "Entry_date        datetime64[ns]\n",
       "Operation_date    datetime64[ns]\n",
       "Ausfälle post             object\n",
       "Diagnosis               category\n",
       "Category                category\n",
       "Patient_age                int64\n",
       "Prolactin                float64\n",
       "IGF1                     float64\n",
       "Cortisol                  object\n",
       "fT4                       object\n",
       "Lab_additional            object\n",
       "dtype: object"
      ]
     },
     "execution_count": 22,
     "metadata": {},
     "output_type": "execute_result"
    }
   ],
   "source": [
    "# set category data type in pandas, check datatypes\n",
    "df['ID_MRI_Machine'] = df['ID_MRI_Machine'].astype('category')\n",
    "df['Adenoma_size'] = df['Adenoma_size'].astype('category')\n",
    "df['Label_Quality'] = df['Label_Quality'].astype('category')\n",
    "df['Diagnosis'] = df['Diagnosis'].astype('category')\n",
    "df['Category'] = df['Category'].astype('category')\n",
    "df.dtypes"
   ]
  },
  {
   "cell_type": "code",
   "execution_count": 23,
   "metadata": {},
   "outputs": [],
   "source": [
    "# replace and correct wrong namings from labelers\n",
    "df[\"Ausfälle prä\"]= df[\"Ausfälle prä\"].str.replace(\"intak\",\"intakt\")\n",
    "df[\"Ausfälle prä\"]= df[\"Ausfälle prä\"].str.replace(\"goando\",\"gonado\")\n",
    "df[\"Ausfälle post\"]= df[\"Ausfälle post\"].str.replace(\"goando\",\"gonado\")\n",
    "df[\"Ausfälle post\"]= df[\"Ausfälle post\"].str.replace(\"adh\",\"ADH\")"
   ]
  },
  {
   "cell_type": "markdown",
   "metadata": {},
   "source": [
    "## One Hot Encode Categorical Values\n",
    "\n",
    "To use and analyse the categorical data we need to one-hot encode them. This is done by splitting the comma separated strings into single strings and then create a one-hot-encoded column of each individual value. This column is then added to the original dataframe."
   ]
  },
  {
   "cell_type": "code",
   "execution_count": 24,
   "metadata": {},
   "outputs": [],
   "source": [
    "# Split the 'Ausfälle prä' column into separate strings\n",
    "df['Ausfälle prä'] = df['Ausfälle prä'].str.split(', ')\n",
    "# Create a set to store all unique disfunctions\n",
    "unique_disfunctions = set()\n",
    "\n",
    "# Iterate over the 'Ausfälle prä' column to gather unique disfunctions\n",
    "for value in df['Ausfälle prä']:\n",
    "    if isinstance(value, list):\n",
    "        unique_disfunctions.update(value)\n",
    "    elif isinstance(value, str):\n",
    "        unique_disfunctions.add(value)\n",
    "\n",
    "# Iterate over the unique disfunctions and create one-hot encoded columns\n",
    "for disfunction in unique_disfunctions:\n",
    "    df[\"Pre_OP_hormone_\"+ disfunction] = df['Ausfälle prä'].apply(lambda x: 1 if (isinstance(x, list) and disfunction in x) or (x == disfunction) else 0)\n",
    "# drop the original 'Ausfälle prä' column\n",
    "df = df.drop('Ausfälle prä', axis=1)"
   ]
  },
  {
   "cell_type": "code",
   "execution_count": 25,
   "metadata": {},
   "outputs": [],
   "source": [
    "# Split the 'Ausfälle post' column into separate strings\n",
    "df['Ausfälle post'] = df['Ausfälle post'].str.split(', ')\n",
    "\n",
    "# Create a set to store all unique disfunctions\n",
    "unique_disfunctions = set()\n",
    "\n",
    "# Iterate over the 'Ausfälle post' column to gather unique disfunctions\n",
    "for value in df['Ausfälle post']:\n",
    "    if isinstance(value, list):\n",
    "        unique_disfunctions.update(value)\n",
    "    elif isinstance(value, str):\n",
    "        unique_disfunctions.add(value)\n",
    "\n",
    "# Iterate over the unique disfunctions and create one-hot encoded columns\n",
    "for disfunction in unique_disfunctions:\n",
    "    df[\"Post_OP_hormone_\"+ disfunction] = df['Ausfälle post'].apply(lambda x: 1 if (isinstance(x, list) and disfunction in x) or (x == disfunction) else 0)\n",
    "\n",
    "# drop the original 'Ausfälle post' column\n",
    "df = df.drop('Ausfälle post', axis=1)"
   ]
  },
  {
   "cell_type": "code",
   "execution_count": 26,
   "metadata": {},
   "outputs": [
    {
     "data": {
      "text/plain": [
       "Index(['Case_ID', 'Patient_ID', 'Date_MRI', 'ID_MRI_Machine', 'Adenoma_size',\n",
       "       'Label_Quality', 'Entry_date', 'Operation_date', 'Diagnosis',\n",
       "       'Category', 'Patient_age', 'Prolactin', 'IGF1', 'Cortisol', 'fT4',\n",
       "       'Lab_additional', 'Pre_OP_hormone_', 'Pre_OP_hormone_cortico',\n",
       "       'Pre_OP_hormone_thyreo', 'Pre_OP_hormone_hyperprolaktin',\n",
       "       'Pre_OP_hormone_coritco', 'Pre_OP_hormone_hypothyreo',\n",
       "       'Pre_OP_hormone_hypogonado',\n",
       "       'Pre_OP_hormone_hyperprolakin stressinduziert',\n",
       "       'Pre_OP_hormone_Kompression', 'Pre_OP_hormone_inaktiv',\n",
       "       'Pre_OP_hormone_somato', 'Pre_OP_hormone_gondao',\n",
       "       'Pre_OP_hormone_SIADH', 'Pre_OP_hormone_intakt',\n",
       "       'Pre_OP_hormone_hyperprolaktin stressbedingt',\n",
       "       'Pre_OP_hormone_morbus cushing', 'Pre_OP_hormone_gonado',\n",
       "       'Pre_OP_hormone_keine', 'Post_OP_hormone_cortico',\n",
       "       'Post_OP_hormone_thyreo', 'Post_OP_hormone_hyperprolaktin',\n",
       "       'Post_OP_hormone_Proliferationsmarker nicht nachgewiesen',\n",
       "       'Post_OP_hormone_somato', 'Post_OP_hormone_intakt',\n",
       "       'Post_OP_hormone_gonado', 'Post_OP_hormone_keine',\n",
       "       'Post_OP_hormone_LH und FSH immunohistoch. Expression',\n",
       "       'Post_OP_hormone_ADH'],\n",
       "      dtype='object')"
      ]
     },
     "execution_count": 26,
     "metadata": {},
     "output_type": "execute_result"
    }
   ],
   "source": [
    "df.columns"
   ]
  },
  {
   "cell_type": "code",
   "execution_count": 27,
   "metadata": {},
   "outputs": [],
   "source": [
    "df= df[['Case_ID', 'Patient_ID', 'Date_MRI', 'ID_MRI_Machine','Entry_date', 'Operation_date', 'Adenoma_size',\n",
    "         'Diagnosis',\n",
    "       'Category', 'Patient_age', 'Prolactin',\"IGF1\", 'Cortisol','fT4','Lab_additional',\n",
    "       'Pre_OP_hormone_cortico', 'Pre_OP_hormone_gonado',\n",
    "       'Pre_OP_hormone_somato', 'Pre_OP_hormone_thyreo',\n",
    "       'Pre_OP_hormone_hyperprolaktin', 'Pre_OP_hormone_keine',\n",
    "       'Pre_OP_hormone_intakt', 'Post_OP_hormone_cortico',\n",
    "       'Post_OP_hormone_gonado', 'Post_OP_hormone_somato',\n",
    "       'Post_OP_hormone_ADH', 'Post_OP_hormone_thyreo',\n",
    "       'Post_OP_hormone_hyperprolaktin', 'Post_OP_hormone_keine',\n",
    "       'Post_OP_hormone_intakt', 'Label_Quality',]]"
   ]
  },
  {
   "cell_type": "code",
   "execution_count": 28,
   "metadata": {},
   "outputs": [],
   "source": [
    "df.to_csv(r'../raw_data/label_data.csv',index=False)"
   ]
  },
  {
   "cell_type": "code",
   "execution_count": 29,
   "metadata": {},
   "outputs": [
    {
     "name": "stdout",
     "output_type": "stream",
     "text": [
      "End Clean and Preprocessing patient data\n"
     ]
    }
   ],
   "source": [
    "print(\"End Clean and Preprocessing patient data\")"
   ]
  },
  {
   "cell_type": "markdown",
   "metadata": {},
   "source": [
    "# Data Cleaning and Selection Labor data"
   ]
  },
  {
   "cell_type": "code",
   "execution_count": 30,
   "metadata": {},
   "outputs": [
    {
     "name": "stdout",
     "output_type": "stream",
     "text": [
      "Start Clean and Preprocessing labor data\n"
     ]
    }
   ],
   "source": [
    "print(\"Start Clean and Preprocessing labor data\")"
   ]
  },
  {
   "cell_type": "markdown",
   "metadata": {},
   "source": [
    "## Read"
   ]
  },
  {
   "cell_type": "code",
   "execution_count": 31,
   "metadata": {},
   "outputs": [],
   "source": [
    "labor_data_raw = pd.read_excel(\"../raw_data/labor_data.xlsx\")\n",
    "labor_data = pd.DataFrame({})\n"
   ]
  },
  {
   "cell_type": "code",
   "execution_count": 32,
   "metadata": {},
   "outputs": [],
   "source": [
    "# change float with , to float with .\n",
    "labor_data[labor_data_raw.columns[0]] = [re.sub('\"([^\",]+),([^\"]+)\"',r\"\\1.\\2\", re.sub('\"([^\",]+),([^\",]+),([^\"]+)\"',r\"\\1.\\2.\\3\", string[0])) for string in labor_data_raw.values]"
   ]
  },
  {
   "cell_type": "code",
   "execution_count": 33,
   "metadata": {},
   "outputs": [],
   "source": [
    "labor_data= labor_data.iloc[:,0].str.split(\",\",expand=True)\n",
    "labor_data.columns = labor_data_raw.columns[0].split(\",\")"
   ]
  },
  {
   "cell_type": "code",
   "execution_count": 34,
   "metadata": {},
   "outputs": [],
   "source": [
    "labor_data[labor_data==\"NULL\"] = np.nan"
   ]
  },
  {
   "cell_type": "code",
   "execution_count": 35,
   "metadata": {},
   "outputs": [],
   "source": [
    "ids = {'Ã¼': 'ü', 'Ã¤': 'ä', \"Ã„\":\"Ä\"}\n",
    "\n",
    "for column in labor_data.columns:\n",
    "    for old, new in ids.items():\n",
    "        labor_data[column] = labor_data[column].str.replace(old, new, regex=False)\n",
    "        \n",
    "labor_data[\"Normwert\"] = labor_data[\"Normwert\"].str.lower().str.replace(\" \", \"\").replace(\"\",np.nan)\n",
    "labor_data[\"Warnung\"] = labor_data[\"Warnung\"].replace('   ',np.nan)\n",
    "labor_data[\"Datum_Resultat\"] = pd.to_datetime(labor_data[\"Datum_Resultat\"],dayfirst=True)\n",
    "labor_data[\"PATIENT_NR\"] = labor_data[\"PATIENT_NR\"].astype(int)"
   ]
  },
  {
   "cell_type": "code",
   "execution_count": 56,
   "metadata": {},
   "outputs": [],
   "source": [
    "lst = []\n",
    "for Nr in labor_data[\"FALL_NR\"]:\n",
    "    try:\n",
    "        lst.append(int(Nr))\n",
    "    except:\n",
    "        lst.append(np.nan)"
   ]
  },
  {
   "cell_type": "code",
   "execution_count": 43,
   "metadata": {},
   "outputs": [],
   "source": [
    "# check for transformation in unit\n",
    "for value in labor_data[\"Analyse-ID\"].unique():\n",
    "    if len(labor_data[labor_data[\"Analyse-ID\"] == value].loc[:,[\"Analyse-ID\",\"Einheit\"]].drop_duplicates()) !=1:\n",
    "        raise ValueError"
   ]
  },
  {
   "cell_type": "code",
   "execution_count": 44,
   "metadata": {},
   "outputs": [],
   "source": [
    "values = []\n",
    "for value in labor_data[\"Resultat\"]:\n",
    "    try:\n",
    "        float(value)\n",
    "    except:\n",
    "        values.append(value)"
   ]
  },
  {
   "cell_type": "code",
   "execution_count": 45,
   "metadata": {},
   "outputs": [
    {
     "data": {
      "text/plain": [
       "array(['1Â\\xa0003', '1Â\\xa0004', '1Â\\xa0005', '1Â\\xa0006', '1Â\\xa0007',\n",
       "       '1Â\\xa0009', '1Â\\xa0011', '1Â\\xa0016', '1Â\\xa0017', '1Â\\xa0018',\n",
       "       '1Â\\xa0019', '1Â\\xa0021', '1Â\\xa0027', '1Â\\xa0028', '1Â\\xa0029',\n",
       "       '1Â\\xa0031', '1Â\\xa0034', '1Â\\xa0035', '1Â\\xa0038', '1Â\\xa0041',\n",
       "       '1Â\\xa0043', '1Â\\xa0045', '1Â\\xa0047', '1Â\\xa0049', '1Â\\xa0050',\n",
       "       '1Â\\xa0051', '1Â\\xa0052', '1Â\\xa0053', '1Â\\xa0055', '1Â\\xa0058',\n",
       "       '1Â\\xa0059', '1Â\\xa0061', '1Â\\xa0066', '1Â\\xa0070', '1Â\\xa0071',\n",
       "       '1Â\\xa0075', '1Â\\xa0076', '1Â\\xa0079', '1Â\\xa0082', '1Â\\xa0083',\n",
       "       '1Â\\xa0084', '1Â\\xa0085', '1Â\\xa0087', '1Â\\xa0088', '1Â\\xa0089',\n",
       "       '1Â\\xa0093', '1Â\\xa0094', '1Â\\xa0096', '1Â\\xa0097', '1Â\\xa0098',\n",
       "       '1Â\\xa0100', '1Â\\xa0104', '1Â\\xa0105', '1Â\\xa0113', '1Â\\xa0116',\n",
       "       '1Â\\xa0118', '1Â\\xa0119', '1Â\\xa0121', '1Â\\xa0125', '1Â\\xa0126',\n",
       "       '1Â\\xa0133', '1Â\\xa0136', '1Â\\xa0145', '1Â\\xa0146', '1Â\\xa0147',\n",
       "       '1Â\\xa0149', '1Â\\xa0152', '1Â\\xa0156', '1Â\\xa0159', '1Â\\xa0164',\n",
       "       '1Â\\xa0165', '1Â\\xa0166', '1Â\\xa0169', '1Â\\xa0171', '1Â\\xa0178',\n",
       "       '1Â\\xa0193', '1Â\\xa0194', '1Â\\xa0195', '1Â\\xa0198', '1Â\\xa0202',\n",
       "       '1Â\\xa0204', '1Â\\xa0205', '1Â\\xa0208', '1Â\\xa0210', '1Â\\xa0218',\n",
       "       '1Â\\xa0222', '1Â\\xa0223', '1Â\\xa0226', '1Â\\xa0230', '1Â\\xa0231',\n",
       "       '1Â\\xa0232', '1Â\\xa0233', '1Â\\xa0238', '1Â\\xa0244', '1Â\\xa0248',\n",
       "       '1Â\\xa0249', '1Â\\xa0251', '1Â\\xa0255', '1Â\\xa0259', '1Â\\xa0260',\n",
       "       '1Â\\xa0262', '1Â\\xa0263', '1Â\\xa0264', '1Â\\xa0275', '1Â\\xa0279',\n",
       "       '1Â\\xa0281', '1Â\\xa0283', '1Â\\xa0286', '1Â\\xa0290', '1Â\\xa0291',\n",
       "       '1Â\\xa0295', '1Â\\xa0304', '1Â\\xa0308', '1Â\\xa0316', '1Â\\xa0319',\n",
       "       '1Â\\xa0331', '1Â\\xa0344', '1Â\\xa0346', '1Â\\xa0354', '1Â\\xa0361',\n",
       "       '1Â\\xa0374', '1Â\\xa0376', '1Â\\xa0377', '1Â\\xa0382', '1Â\\xa0383',\n",
       "       '1Â\\xa0384', '1Â\\xa0385', '1Â\\xa0416', '1Â\\xa0434', '1Â\\xa0437',\n",
       "       '1Â\\xa0451', '1Â\\xa0456', '1Â\\xa0460', '1Â\\xa0461', '1Â\\xa0464',\n",
       "       '1Â\\xa0465', '1Â\\xa0496', '1Â\\xa0502', '1Â\\xa0515', '1Â\\xa0523',\n",
       "       '1Â\\xa0535', '1Â\\xa0580', '1Â\\xa0583', '1Â\\xa0590', '1Â\\xa0605',\n",
       "       '1Â\\xa0610', '1Â\\xa0626', '1Â\\xa0639', '1Â\\xa0646', '1Â\\xa0649',\n",
       "       '1Â\\xa0715', '1Â\\xa0731', '1Â\\xa0750', '1Â\\xa0891', '1Â\\xa0896',\n",
       "       '1Â\\xa0899', '1Â\\xa0909', '2Â\\xa0069', '2Â\\xa0070', '2Â\\xa0220',\n",
       "       '2Â\\xa0284', '2Â\\xa0397', '2Â\\xa0591', '2Â\\xa0806', '3Â\\xa0071',\n",
       "       '<0.15', '<0.20', '<0.30', '<0.45', '<1.50', '<2.00', '>100',\n",
       "       '>150', '>1Â\\xa0000', '>200', '>35.0', '>64.0'], dtype='<U7')"
      ]
     },
     "execution_count": 45,
     "metadata": {},
     "output_type": "execute_result"
    }
   ],
   "source": [
    "np.unique(np.array(values))"
   ]
  },
  {
   "cell_type": "code",
   "execution_count": 46,
   "metadata": {},
   "outputs": [
    {
     "data": {
      "text/html": [
       "<div>\n",
       "<style scoped>\n",
       "    .dataframe tbody tr th:only-of-type {\n",
       "        vertical-align: middle;\n",
       "    }\n",
       "\n",
       "    .dataframe tbody tr th {\n",
       "        vertical-align: top;\n",
       "    }\n",
       "\n",
       "    .dataframe thead th {\n",
       "        text-align: right;\n",
       "    }\n",
       "</style>\n",
       "<table border=\"1\" class=\"dataframe\">\n",
       "  <thead>\n",
       "    <tr style=\"text-align: right;\">\n",
       "      <th></th>\n",
       "      <th>FALL_NR</th>\n",
       "      <th>PATIENT_NR</th>\n",
       "      <th>Analyse</th>\n",
       "      <th>Analyse-ID</th>\n",
       "      <th>Auftraggeber</th>\n",
       "      <th>Datum_Resultat</th>\n",
       "      <th>Resultat</th>\n",
       "      <th>Einheit</th>\n",
       "      <th>Normwert</th>\n",
       "      <th>Fallart</th>\n",
       "      <th>Warnung</th>\n",
       "    </tr>\n",
       "  </thead>\n",
       "  <tbody>\n",
       "    <tr>\n",
       "      <th>17541</th>\n",
       "      <td>10308286</td>\n",
       "      <td>261047</td>\n",
       "      <td>Cortisol-30' Synacthen-Test</td>\n",
       "      <td>COR30</td>\n",
       "      <td>SPITAL ZOFINGEN</td>\n",
       "      <td>2021-03-11</td>\n",
       "      <td>1Â 896</td>\n",
       "      <td>nmol/l</td>\n",
       "      <td>&gt;550</td>\n",
       "      <td>no</td>\n",
       "      <td>NaN</td>\n",
       "    </tr>\n",
       "  </tbody>\n",
       "</table>\n",
       "</div>"
      ],
      "text/plain": [
       "        FALL_NR  PATIENT_NR                      Analyse Analyse-ID  \\\n",
       "17541  10308286      261047  Cortisol-30' Synacthen-Test      COR30   \n",
       "\n",
       "          Auftraggeber Datum_Resultat Resultat Einheit Normwert Fallart  \\\n",
       "17541  SPITAL ZOFINGEN     2021-03-11   1Â 896  nmol/l     >550      no   \n",
       "\n",
       "      Warnung  \n",
       "17541     NaN  "
      ]
     },
     "execution_count": 46,
     "metadata": {},
     "output_type": "execute_result"
    }
   ],
   "source": [
    "labor_data[labor_data[\"Resultat\"] == \"1Â\\xa0896\"]"
   ]
  }
 ],
 "metadata": {
  "kernelspec": {
   "display_name": "AgroLuege--zjmSdF3",
   "language": "python",
   "name": "python3"
  },
  "language_info": {
   "codemirror_mode": {
    "name": "ipython",
    "version": 3
   },
   "file_extension": ".py",
   "mimetype": "text/x-python",
   "name": "python",
   "nbconvert_exporter": "python",
   "pygments_lexer": "ipython3",
   "version": "3.10.7"
  }
 },
 "nbformat": 4,
 "nbformat_minor": 2
}
