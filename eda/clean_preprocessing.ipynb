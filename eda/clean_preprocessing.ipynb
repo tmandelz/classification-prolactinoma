{
 "cells": [
  {
   "cell_type": "markdown",
   "metadata": {},
   "source": [
    "# Data Cleaning\n",
    "\n",
    "This notebook is used to clean and combine all datasources into a coherent dataset. \n",
    "\n",
    "We have three different data groups:\n",
    "* Label & Patient Data\n",
    "* Lab Data\n",
    "* MRI Data\n",
    "\n",
    "All of these have to be cleaned, selected and combined into one dataset."
   ]
  },
  {
   "cell_type": "markdown",
   "metadata": {},
   "source": [
    "## Imports"
   ]
  },
  {
   "cell_type": "code",
   "execution_count": 1,
   "metadata": {},
   "outputs": [],
   "source": [
    "import pandas as pd\n",
    "import datetime\n",
    "import numpy as np\n",
    "import re"
   ]
  },
  {
   "cell_type": "markdown",
   "metadata": {},
   "source": [
    "# Data Cleaning and Selection Label & Patient-data\n",
    "First we will clean the data for our labels and patients. This includes the basic cleaning and data type matching as well as looking at anomalies and define the output format. We will use the prepared 'no duplicate PID' Sheet with Labels from KSA."
   ]
  },
  {
   "cell_type": "code",
   "execution_count": 2,
   "metadata": {},
   "outputs": [
    {
     "name": "stdout",
     "output_type": "stream",
     "text": [
      "Start Clean and Preprocessing patients-data\n"
     ]
    }
   ],
   "source": [
    "print(\"Start Clean and Preprocessing patients-data\")"
   ]
  },
  {
   "cell_type": "code",
   "execution_count": 3,
   "metadata": {},
   "outputs": [
    {
     "data": {
      "text/html": [
       "<div>\n",
       "<style scoped>\n",
       "    .dataframe tbody tr th:only-of-type {\n",
       "        vertical-align: middle;\n",
       "    }\n",
       "\n",
       "    .dataframe tbody tr th {\n",
       "        vertical-align: top;\n",
       "    }\n",
       "\n",
       "    .dataframe thead th {\n",
       "        text-align: right;\n",
       "    }\n",
       "</style>\n",
       "<table border=\"1\" class=\"dataframe\">\n",
       "  <thead>\n",
       "    <tr style=\"text-align: right;\">\n",
       "      <th></th>\n",
       "      <th>%ID</th>\n",
       "      <th>Fall Nr.</th>\n",
       "      <th>Datum/Zeit</th>\n",
       "      <th>Modalität</th>\n",
       "      <th>Exam Code</th>\n",
       "      <th>Exam Name</th>\n",
       "      <th>Abteilung</th>\n",
       "      <th>Arbeitsplatz.Kürzel</th>\n",
       "      <th>Aufnahmeart</th>\n",
       "      <th>PID</th>\n",
       "      <th>...</th>\n",
       "      <th>ED</th>\n",
       "      <th>OP Datum</th>\n",
       "      <th>Ausfälle post</th>\n",
       "      <th>Diagnose</th>\n",
       "      <th>Kategorie</th>\n",
       "      <th>Patient Alter</th>\n",
       "      <th>Zuweiser</th>\n",
       "      <th>AnforderungDatum</th>\n",
       "      <th>ÜberweiserIntern.Bereich</th>\n",
       "      <th>ÜberweiserIntern.Klinik</th>\n",
       "    </tr>\n",
       "  </thead>\n",
       "  <tbody>\n",
       "    <tr>\n",
       "      <th>0</th>\n",
       "      <td>8921949</td>\n",
       "      <td>41835743</td>\n",
       "      <td>2023-05-11 09:00:00</td>\n",
       "      <td>M-MR</td>\n",
       "      <td>MNDSHYP</td>\n",
       "      <td>MR Hypophyse</td>\n",
       "      <td>MRN</td>\n",
       "      <td>MRI3</td>\n",
       "      <td>Amb</td>\n",
       "      <td>300146159</td>\n",
       "      <td>...</td>\n",
       "      <td>2021-09-01 00:00:00</td>\n",
       "      <td>2021-09-17</td>\n",
       "      <td>gonado</td>\n",
       "      <td>inaktiv (gonado)</td>\n",
       "      <td>non-prolaktinom</td>\n",
       "      <td>57</td>\n",
       "      <td>Hirntumorzen</td>\n",
       "      <td>2023-02-21 14:41:09.0000000</td>\n",
       "      <td>KCH</td>\n",
       "      <td>Hirntumorzentrum</td>\n",
       "    </tr>\n",
       "    <tr>\n",
       "      <th>1</th>\n",
       "      <td>8947649</td>\n",
       "      <td>41708812</td>\n",
       "      <td>2023-05-06 08:12:00</td>\n",
       "      <td>M-MR</td>\n",
       "      <td>MNDSHYP</td>\n",
       "      <td>MR Hypophyse</td>\n",
       "      <td>MRN</td>\n",
       "      <td>MRI3</td>\n",
       "      <td>Amb</td>\n",
       "      <td>762512</td>\n",
       "      <td>...</td>\n",
       "      <td>2018-09-01 00:00:00</td>\n",
       "      <td>2018-09-19</td>\n",
       "      <td>thyreo</td>\n",
       "      <td>gh</td>\n",
       "      <td>non-prolaktinom</td>\n",
       "      <td>66</td>\n",
       "      <td>Endo</td>\n",
       "      <td>2023-03-21 10:12:56.0000000</td>\n",
       "      <td>MUK</td>\n",
       "      <td>Endokrinologie</td>\n",
       "    </tr>\n",
       "    <tr>\n",
       "      <th>2</th>\n",
       "      <td>8688141</td>\n",
       "      <td>41892695</td>\n",
       "      <td>2023-05-05 14:19:00</td>\n",
       "      <td>M-MR</td>\n",
       "      <td>MNDSHYP</td>\n",
       "      <td>MR Hypophyse</td>\n",
       "      <td>MRN</td>\n",
       "      <td>MRI3</td>\n",
       "      <td>Amb</td>\n",
       "      <td>365189</td>\n",
       "      <td>...</td>\n",
       "      <td>NaN</td>\n",
       "      <td>NaT</td>\n",
       "      <td>NaN</td>\n",
       "      <td>NaN</td>\n",
       "      <td>NaN</td>\n",
       "      <td>32</td>\n",
       "      <td>Neurologie</td>\n",
       "      <td>2022-05-05 15:42:32.0000000</td>\n",
       "      <td>MUK</td>\n",
       "      <td>Neurologie</td>\n",
       "    </tr>\n",
       "    <tr>\n",
       "      <th>3</th>\n",
       "      <td>8930353</td>\n",
       "      <td>41725372</td>\n",
       "      <td>2023-05-05 07:54:00</td>\n",
       "      <td>M-MR</td>\n",
       "      <td>MNDSHYP</td>\n",
       "      <td>MR Hypophyse</td>\n",
       "      <td>MRN</td>\n",
       "      <td>MRI2</td>\n",
       "      <td>Amb</td>\n",
       "      <td>543641</td>\n",
       "      <td>...</td>\n",
       "      <td>2006-01-01 00:00:00</td>\n",
       "      <td>2009-06-04</td>\n",
       "      <td>keine</td>\n",
       "      <td>acth</td>\n",
       "      <td>non-prolaktinom</td>\n",
       "      <td>39</td>\n",
       "      <td>Endo</td>\n",
       "      <td>2023-03-02 14:52:07.0000000</td>\n",
       "      <td>MUK</td>\n",
       "      <td>Endokrinologie</td>\n",
       "    </tr>\n",
       "    <tr>\n",
       "      <th>4</th>\n",
       "      <td>8930425</td>\n",
       "      <td>41843364</td>\n",
       "      <td>2023-05-02 12:04:00</td>\n",
       "      <td>M-MR</td>\n",
       "      <td>MNDSHYP</td>\n",
       "      <td>MR Hypophyse</td>\n",
       "      <td>MRN</td>\n",
       "      <td>MRI3</td>\n",
       "      <td>Amb</td>\n",
       "      <td>300302329</td>\n",
       "      <td>...</td>\n",
       "      <td>2021-10-01 00:00:00</td>\n",
       "      <td>2022-01-12</td>\n",
       "      <td>intakt</td>\n",
       "      <td>inaktiv</td>\n",
       "      <td>non-prolaktinom</td>\n",
       "      <td>56</td>\n",
       "      <td>Hirntumorzen</td>\n",
       "      <td>2023-03-02 15:30:07.0000000</td>\n",
       "      <td>KCH</td>\n",
       "      <td>Hirntumorzentrum</td>\n",
       "    </tr>\n",
       "  </tbody>\n",
       "</table>\n",
       "<p>5 rows × 28 columns</p>\n",
       "</div>"
      ],
      "text/plain": [
       "       %ID  Fall Nr.          Datum/Zeit Modalität Exam Code     Exam Name  \\\n",
       "0  8921949  41835743 2023-05-11 09:00:00      M-MR   MNDSHYP  MR Hypophyse   \n",
       "1  8947649  41708812 2023-05-06 08:12:00      M-MR   MNDSHYP  MR Hypophyse   \n",
       "2  8688141  41892695 2023-05-05 14:19:00      M-MR   MNDSHYP  MR Hypophyse   \n",
       "3  8930353  41725372 2023-05-05 07:54:00      M-MR   MNDSHYP  MR Hypophyse   \n",
       "4  8930425  41843364 2023-05-02 12:04:00      M-MR   MNDSHYP  MR Hypophyse   \n",
       "\n",
       "  Abteilung Arbeitsplatz.Kürzel Aufnahmeart        PID  ...  \\\n",
       "0       MRN                MRI3         Amb  300146159  ...   \n",
       "1       MRN                MRI3         Amb     762512  ...   \n",
       "2       MRN                MRI3         Amb     365189  ...   \n",
       "3       MRN                MRI2         Amb     543641  ...   \n",
       "4       MRN                MRI3         Amb  300302329  ...   \n",
       "\n",
       "                    ED   OP Datum Ausfälle post          Diagnose  \\\n",
       "0  2021-09-01 00:00:00 2021-09-17        gonado  inaktiv (gonado)   \n",
       "1  2018-09-01 00:00:00 2018-09-19        thyreo                gh   \n",
       "2                  NaN        NaT           NaN               NaN   \n",
       "3  2006-01-01 00:00:00 2009-06-04         keine              acth   \n",
       "4  2021-10-01 00:00:00 2022-01-12        intakt           inaktiv   \n",
       "\n",
       "         Kategorie Patient Alter      Zuweiser             AnforderungDatum  \\\n",
       "0  non-prolaktinom            57  Hirntumorzen  2023-02-21 14:41:09.0000000   \n",
       "1  non-prolaktinom            66          Endo  2023-03-21 10:12:56.0000000   \n",
       "2              NaN            32    Neurologie  2022-05-05 15:42:32.0000000   \n",
       "3  non-prolaktinom            39          Endo  2023-03-02 14:52:07.0000000   \n",
       "4  non-prolaktinom            56  Hirntumorzen  2023-03-02 15:30:07.0000000   \n",
       "\n",
       "  ÜberweiserIntern.Bereich ÜberweiserIntern.Klinik  \n",
       "0                      KCH        Hirntumorzentrum  \n",
       "1                      MUK          Endokrinologie  \n",
       "2                      MUK              Neurologie  \n",
       "3                      MUK          Endokrinologie  \n",
       "4                      KCH        Hirntumorzentrum  \n",
       "\n",
       "[5 rows x 28 columns]"
      ]
     },
     "execution_count": 3,
     "metadata": {},
     "output_type": "execute_result"
    }
   ],
   "source": [
    "df_patients = pd.read_excel(r'../raw_data/Hypophysenpatienten.xlsx',sheet_name='no duplicate PID')\n",
    "df_patients.head()"
   ]
  },
  {
   "cell_type": "code",
   "execution_count": 4,
   "metadata": {},
   "outputs": [
    {
     "data": {
      "text/html": [
       "<div>\n",
       "<style scoped>\n",
       "    .dataframe tbody tr th:only-of-type {\n",
       "        vertical-align: middle;\n",
       "    }\n",
       "\n",
       "    .dataframe tbody tr th {\n",
       "        vertical-align: top;\n",
       "    }\n",
       "\n",
       "    .dataframe thead th {\n",
       "        text-align: right;\n",
       "    }\n",
       "</style>\n",
       "<table border=\"1\" class=\"dataframe\">\n",
       "  <thead>\n",
       "    <tr style=\"text-align: right;\">\n",
       "      <th></th>\n",
       "      <th>%ID</th>\n",
       "      <th>Fall Nr.</th>\n",
       "      <th>Datum/Zeit</th>\n",
       "      <th>Modalität</th>\n",
       "      <th>Exam Code</th>\n",
       "      <th>Exam Name</th>\n",
       "      <th>Abteilung</th>\n",
       "      <th>Arbeitsplatz.Kürzel</th>\n",
       "      <th>Aufnahmeart</th>\n",
       "      <th>PID</th>\n",
       "      <th>...</th>\n",
       "      <th>ED</th>\n",
       "      <th>OP Datum</th>\n",
       "      <th>Ausfälle post</th>\n",
       "      <th>Diagnose</th>\n",
       "      <th>Kategorie</th>\n",
       "      <th>Patient Alter</th>\n",
       "      <th>Zuweiser</th>\n",
       "      <th>AnforderungDatum</th>\n",
       "      <th>ÜberweiserIntern.Bereich</th>\n",
       "      <th>ÜberweiserIntern.Klinik</th>\n",
       "    </tr>\n",
       "  </thead>\n",
       "  <tbody>\n",
       "    <tr>\n",
       "      <th>521</th>\n",
       "      <td>7332424</td>\n",
       "      <td>4191409</td>\n",
       "      <td>2016-05-06 11:50:00</td>\n",
       "      <td>M-MR</td>\n",
       "      <td>MNDSHYP</td>\n",
       "      <td>MR Hypophyse</td>\n",
       "      <td>MRN</td>\n",
       "      <td>MRI3</td>\n",
       "      <td>Amb</td>\n",
       "      <td>293138</td>\n",
       "      <td>...</td>\n",
       "      <td>NaN</td>\n",
       "      <td>NaT</td>\n",
       "      <td>NaN</td>\n",
       "      <td>NaN</td>\n",
       "      <td>NaN</td>\n",
       "      <td>62</td>\n",
       "      <td>MU_Medizinisches Ambulatorium</td>\n",
       "      <td>2016-03-18 15:04:41.0000000</td>\n",
       "      <td>MUK</td>\n",
       "      <td>Allgemeine Innere und Notfallmedizin</td>\n",
       "    </tr>\n",
       "    <tr>\n",
       "      <th>522</th>\n",
       "      <td>7346392</td>\n",
       "      <td>40059944</td>\n",
       "      <td>2016-04-21 12:30:00</td>\n",
       "      <td>M-MR</td>\n",
       "      <td>MNDSHYP</td>\n",
       "      <td>MR Hypophyse</td>\n",
       "      <td>MRN</td>\n",
       "      <td>MRI2</td>\n",
       "      <td>Amb</td>\n",
       "      <td>509136</td>\n",
       "      <td>...</td>\n",
       "      <td>2008-07-01 00:00:00</td>\n",
       "      <td>NaT</td>\n",
       "      <td>keine</td>\n",
       "      <td>prolaktinom</td>\n",
       "      <td>prolaktinom</td>\n",
       "      <td>27</td>\n",
       "      <td>Nebiker Piera</td>\n",
       "      <td>2016-04-20 08:11:06.0000000</td>\n",
       "      <td>MUK</td>\n",
       "      <td>Endokrinologie</td>\n",
       "    </tr>\n",
       "    <tr>\n",
       "      <th>523</th>\n",
       "      <td>7317245</td>\n",
       "      <td>40026051</td>\n",
       "      <td>2016-02-16 16:25:00</td>\n",
       "      <td>M-MR</td>\n",
       "      <td>MNDSHYP</td>\n",
       "      <td>MR Hypophyse</td>\n",
       "      <td>MRN</td>\n",
       "      <td>MRI3</td>\n",
       "      <td>Stat</td>\n",
       "      <td>682611</td>\n",
       "      <td>...</td>\n",
       "      <td>NaN</td>\n",
       "      <td>NaT</td>\n",
       "      <td>NaN</td>\n",
       "      <td>NaN</td>\n",
       "      <td>NaN</td>\n",
       "      <td>69</td>\n",
       "      <td>MU_101  (Notfallstation)</td>\n",
       "      <td>2016-02-16 15:12:05.0000000</td>\n",
       "      <td>INZ</td>\n",
       "      <td>Notfallstation</td>\n",
       "    </tr>\n",
       "    <tr>\n",
       "      <th>524</th>\n",
       "      <td>7247536</td>\n",
       "      <td>4153000</td>\n",
       "      <td>2016-02-08 11:20:00</td>\n",
       "      <td>M-MR</td>\n",
       "      <td>MNDSHYP</td>\n",
       "      <td>MR Hypophyse</td>\n",
       "      <td>MRN</td>\n",
       "      <td>MRI3</td>\n",
       "      <td>Amb</td>\n",
       "      <td>154372</td>\n",
       "      <td>...</td>\n",
       "      <td>2002-11-01 00:00:00</td>\n",
       "      <td>2002-11-02</td>\n",
       "      <td>gonado</td>\n",
       "      <td>prolaktinom</td>\n",
       "      <td>prolaktinom</td>\n",
       "      <td>25</td>\n",
       "      <td>MU_Kinderklinik Ambulatorium</td>\n",
       "      <td>-</td>\n",
       "      <td>FKL</td>\n",
       "      <td>Kinderklinik</td>\n",
       "    </tr>\n",
       "    <tr>\n",
       "      <th>525</th>\n",
       "      <td>7271667</td>\n",
       "      <td>4210945</td>\n",
       "      <td>2016-01-19 11:45:00</td>\n",
       "      <td>M-MR</td>\n",
       "      <td>MNDSHYP</td>\n",
       "      <td>MR Hypophyse</td>\n",
       "      <td>MRN</td>\n",
       "      <td>MRI2</td>\n",
       "      <td>Amb</td>\n",
       "      <td>249222</td>\n",
       "      <td>...</td>\n",
       "      <td>2012-01-01 00:00:00</td>\n",
       "      <td>2012-01-09</td>\n",
       "      <td>gonado, cortico, thyreo, somato</td>\n",
       "      <td>inaktiv</td>\n",
       "      <td>non-prolaktinom</td>\n",
       "      <td>77</td>\n",
       "      <td>Berkmann Sven</td>\n",
       "      <td>2015-11-06 14:25:17.0000000</td>\n",
       "      <td>KCH</td>\n",
       "      <td>Neurochirurgie</td>\n",
       "    </tr>\n",
       "  </tbody>\n",
       "</table>\n",
       "<p>5 rows × 28 columns</p>\n",
       "</div>"
      ],
      "text/plain": [
       "         %ID  Fall Nr.          Datum/Zeit Modalität Exam Code     Exam Name  \\\n",
       "521  7332424   4191409 2016-05-06 11:50:00      M-MR   MNDSHYP  MR Hypophyse   \n",
       "522  7346392  40059944 2016-04-21 12:30:00      M-MR   MNDSHYP  MR Hypophyse   \n",
       "523  7317245  40026051 2016-02-16 16:25:00      M-MR   MNDSHYP  MR Hypophyse   \n",
       "524  7247536   4153000 2016-02-08 11:20:00      M-MR   MNDSHYP  MR Hypophyse   \n",
       "525  7271667   4210945 2016-01-19 11:45:00      M-MR   MNDSHYP  MR Hypophyse   \n",
       "\n",
       "    Abteilung Arbeitsplatz.Kürzel Aufnahmeart     PID  ...  \\\n",
       "521       MRN                MRI3         Amb  293138  ...   \n",
       "522       MRN                MRI2         Amb  509136  ...   \n",
       "523       MRN                MRI3        Stat  682611  ...   \n",
       "524       MRN                MRI3         Amb  154372  ...   \n",
       "525       MRN                MRI2         Amb  249222  ...   \n",
       "\n",
       "                      ED   OP Datum                    Ausfälle post  \\\n",
       "521                  NaN        NaT                              NaN   \n",
       "522  2008-07-01 00:00:00        NaT                            keine   \n",
       "523                  NaN        NaT                              NaN   \n",
       "524  2002-11-01 00:00:00 2002-11-02                           gonado   \n",
       "525  2012-01-01 00:00:00 2012-01-09  gonado, cortico, thyreo, somato   \n",
       "\n",
       "        Diagnose        Kategorie Patient Alter  \\\n",
       "521          NaN              NaN            62   \n",
       "522  prolaktinom      prolaktinom            27   \n",
       "523          NaN              NaN            69   \n",
       "524  prolaktinom      prolaktinom            25   \n",
       "525      inaktiv  non-prolaktinom            77   \n",
       "\n",
       "                          Zuweiser             AnforderungDatum  \\\n",
       "521  MU_Medizinisches Ambulatorium  2016-03-18 15:04:41.0000000   \n",
       "522                  Nebiker Piera  2016-04-20 08:11:06.0000000   \n",
       "523       MU_101  (Notfallstation)  2016-02-16 15:12:05.0000000   \n",
       "524   MU_Kinderklinik Ambulatorium                            -   \n",
       "525                  Berkmann Sven  2015-11-06 14:25:17.0000000   \n",
       "\n",
       "    ÜberweiserIntern.Bereich               ÜberweiserIntern.Klinik  \n",
       "521                      MUK  Allgemeine Innere und Notfallmedizin  \n",
       "522                      MUK                        Endokrinologie  \n",
       "523                      INZ                        Notfallstation  \n",
       "524                      FKL                          Kinderklinik  \n",
       "525                      KCH                        Neurochirurgie  \n",
       "\n",
       "[5 rows x 28 columns]"
      ]
     },
     "execution_count": 4,
     "metadata": {},
     "output_type": "execute_result"
    }
   ],
   "source": [
    "df_patients.tail()"
   ]
  },
  {
   "cell_type": "code",
   "execution_count": 5,
   "metadata": {},
   "outputs": [
    {
     "data": {
      "text/plain": [
       "Index(['%ID', 'Fall Nr.', 'Datum/Zeit', 'Modalität', 'Exam Code', 'Exam Name',\n",
       "       'Abteilung', 'Arbeitsplatz.Kürzel', 'Aufnahmeart', 'PID', 'Grösse',\n",
       "       'Ausfälle prä', 'Prolaktin', 'IGF1', 'Cortisol', 'fT4',\n",
       "       'weiteres Labor', 'Qualität', 'ED', 'OP Datum', 'Ausfälle post',\n",
       "       'Diagnose', 'Kategorie', 'Patient Alter', 'Zuweiser',\n",
       "       'AnforderungDatum', 'ÜberweiserIntern.Bereich',\n",
       "       'ÜberweiserIntern.Klinik'],\n",
       "      dtype='object')"
      ]
     },
     "execution_count": 5,
     "metadata": {},
     "output_type": "execute_result"
    }
   ],
   "source": [
    "df_patients.columns"
   ]
  },
  {
   "cell_type": "markdown",
   "metadata": {},
   "source": [
    "## Basic Cleaning, Column Selection, Anomaly Correction and Format definition\n"
   ]
  },
  {
   "cell_type": "markdown",
   "metadata": {},
   "source": [
    "### Column Selection\n",
    "First we select only the columns which have value to our model or our analysis. Some columns are already renamed to make their content more intuitive."
   ]
  },
  {
   "cell_type": "code",
   "execution_count": 6,
   "metadata": {},
   "outputs": [],
   "source": [
    "# define needed columns\n",
    "column_list = ['PID','Fall Nr.',\"Datum/Zeit\",\"Arbeitsplatz.Kürzel\",'Grösse',\n",
    "       'Ausfälle prä', 'Qualität', 'ED','OP Datum',\n",
    "       'Diagnose', 'Kategorie', 'Patient Alter',\n",
    "       'Prolaktin',\"IGF1\", 'Cortisol','fT4','weiteres Labor']\n",
    "df_patients = df_patients[column_list]\n",
    "# rename columns\n",
    "df_patients= df_patients.rename(columns={\"Fall Nr.\": \"Case_ID\",\"PID\": \"Patient_ID\",\n",
    "                       \"Datum/Zeit\": \"Date_Case\",\"ED\": \"Entry_date\", \"OP Datum\": \"Operation_date\",\n",
    "                       \"Arbeitsplatz.Kürzel\":\"ID_MRI_Machine\",\"Grösse\": \"Adenoma_size\",\"Qualität\": \"Label_Quality\",\n",
    "                       \"Patient Alter\":\"Patient_age\",\"Kategorie\":\"Category\",\"Diagnose\":\"Diagnosis\",\n",
    "                       \"Prolaktin\":\"Prolactin\",\"weiteres Labor\":\"Lab_additional\"})"
   ]
  },
  {
   "cell_type": "markdown",
   "metadata": {},
   "source": [
    "### Check for Anomalies and correct them\n",
    "There are some Anomalies mostly in the datetime columns (eg. Operation date before Entry Date). These are corrected or were corrected by the KSA after feedback from us. "
   ]
  },
  {
   "cell_type": "code",
   "execution_count": 7,
   "metadata": {},
   "outputs": [],
   "source": [
    "#TODO: check KSA\n",
    "# not parseable correct values corrected\n",
    "# df_patients.loc[3,'Entry_date'] = datetime.datetime(2006,1,1,0,0,0,0)\n",
    "# df_patients.loc[12,'Entry_date'] = datetime.datetime(2008,1,1,0,0,0,0)\n",
    "\n",
    "#TODO: check KSA\n",
    "# correct a value which is not datetime parseable\n",
    "# df_patients.loc[df_patients['Operation_date'] == '2006, 2009', 'Operation_date'] = datetime.datetime(2006,1,1,0,0,0,0)"
   ]
  },
  {
   "cell_type": "code",
   "execution_count": null,
   "metadata": {},
   "outputs": [],
   "source": [
    "#TODO: check KSA\n",
    "df_patients[df_patients['Entry_date'] == 'Ende 80er']"
   ]
  },
  {
   "cell_type": "code",
   "execution_count": 8,
   "metadata": {},
   "outputs": [
    {
     "name": "stdout",
     "output_type": "stream",
     "text": [
      "     Patient_ID   Case_ID           Date_Case ID_MRI_Machine Adenoma_size  \\\n",
      "340       45424  40817457 2019-11-02 10:53:00           MRI3        mikro   \n",
      "\n",
      "         Ausfälle prä Label_Quality Entry_date Operation_date    Diagnosis  \\\n",
      "340  Hyperprolaktinom           NaN  Ende 80er            NaT  prolaktinom   \n",
      "\n",
      "        Category  Patient_age Prolactin IGF1 Cortisol  fT4 Lab_additional  \n",
      "340  prolaktinom           58       NaN  NaN      NaN  NaN            NaN  \n"
     ]
    }
   ],
   "source": [
    "df_patients.loc[df_patients['Entry_date'] == 'Ende 80er', 'Entry_date'] = datetime.datetime(1990,1,1,0,0,0,0)"
   ]
  },
  {
   "cell_type": "code",
   "execution_count": 9,
   "metadata": {},
   "outputs": [
    {
     "data": {
      "text/html": [
       "<div>\n",
       "<style scoped>\n",
       "    .dataframe tbody tr th:only-of-type {\n",
       "        vertical-align: middle;\n",
       "    }\n",
       "\n",
       "    .dataframe tbody tr th {\n",
       "        vertical-align: top;\n",
       "    }\n",
       "\n",
       "    .dataframe thead th {\n",
       "        text-align: right;\n",
       "    }\n",
       "</style>\n",
       "<table border=\"1\" class=\"dataframe\">\n",
       "  <thead>\n",
       "    <tr style=\"text-align: right;\">\n",
       "      <th></th>\n",
       "      <th>Entry_date</th>\n",
       "      <th>Operation_date</th>\n",
       "    </tr>\n",
       "  </thead>\n",
       "  <tbody>\n",
       "  </tbody>\n",
       "</table>\n",
       "</div>"
      ],
      "text/plain": [
       "Empty DataFrame\n",
       "Columns: [Entry_date, Operation_date]\n",
       "Index: []"
      ]
     },
     "execution_count": 9,
     "metadata": {},
     "output_type": "execute_result"
    }
   ],
   "source": [
    "# TODO: anomaly? check KSA\n",
    "# rows where Entry Date is after Operationdate?\n",
    "df_patients[df_patients['Operation_date'] < df_patients['Entry_date']][['Entry_date','Operation_date']]"
   ]
  },
  {
   "cell_type": "markdown",
   "metadata": {},
   "source": [
    "### Data Type Definition\n",
    "Now we check the column data-types and parse them into their resprective type if not already correct.\n"
   ]
  },
  {
   "cell_type": "code",
   "execution_count": 10,
   "metadata": {},
   "outputs": [],
   "source": [
    "# make datetime values\n",
    "df_patients[\"Date_Case\"] = pd.to_datetime(df_patients[\"Date_Case\"])\n",
    "df_patients[\"Entry_date\"] = pd.to_datetime(df_patients[\"Entry_date\"])\n",
    "df_patients[\"Operation_date\"] = pd.to_datetime(df_patients[\"Operation_date\"])"
   ]
  },
  {
   "cell_type": "code",
   "execution_count": 11,
   "metadata": {},
   "outputs": [
    {
     "data": {
      "text/plain": [
       "Patient_ID                 int64\n",
       "Case_ID                    int64\n",
       "Date_Case         datetime64[ns]\n",
       "ID_MRI_Machine          category\n",
       "Adenoma_size            category\n",
       "Ausfälle prä              object\n",
       "Label_Quality           category\n",
       "Entry_date        datetime64[ns]\n",
       "Operation_date    datetime64[ns]\n",
       "Diagnosis               category\n",
       "Category                category\n",
       "Patient_age                int64\n",
       "Prolactin                 object\n",
       "IGF1                      object\n",
       "Cortisol                  object\n",
       "fT4                       object\n",
       "Lab_additional            object\n",
       "dtype: object"
      ]
     },
     "execution_count": 11,
     "metadata": {},
     "output_type": "execute_result"
    }
   ],
   "source": [
    "# set category data type in pandas, check datatypes\n",
    "df_patients['ID_MRI_Machine'] = df_patients['ID_MRI_Machine'].astype('category')\n",
    "df_patients['Adenoma_size'] = df_patients['Adenoma_size'].astype('category')\n",
    "df_patients['Label_Quality'] = df_patients['Label_Quality'].astype('category')\n",
    "df_patients['Diagnosis'] = df_patients['Diagnosis'].astype('category')\n",
    "df_patients['Category'] = df_patients['Category'].astype('category')\n",
    "df_patients.dtypes"
   ]
  },
  {
   "cell_type": "markdown",
   "metadata": {},
   "source": [
    "### Check Duplicates\n",
    "Check if a patient is duplicated."
   ]
  },
  {
   "cell_type": "markdown",
   "metadata": {},
   "source": [
    "### "
   ]
  },
  {
   "cell_type": "code",
   "execution_count": 12,
   "metadata": {},
   "outputs": [],
   "source": [
    "# Patient ID Duplicate Check\n",
    "assert len(df_patients[df_patients[\"Patient_ID\"].duplicated()]) == 0"
   ]
  },
  {
   "cell_type": "markdown",
   "metadata": {},
   "source": [
    "### Replace some Spelling mistakes"
   ]
  },
  {
   "cell_type": "code",
   "execution_count": 13,
   "metadata": {},
   "outputs": [],
   "source": [
    "# replace and correct wrong namings from labelers\n",
    "df_patients[\"Ausfälle prä\"]= df_patients[\"Ausfälle prä\"].str.replace(\"intak\",\"intakt\")\n",
    "df_patients[\"Ausfälle prä\"]= df_patients[\"Ausfälle prä\"].str.replace(\"intaktt\",\"intakt\")\n",
    "df_patients[\"Ausfälle prä\"]= df_patients[\"Ausfälle prä\"].str.replace(\"goando\",\"gonado\")"
   ]
  },
  {
   "cell_type": "markdown",
   "metadata": {},
   "source": [
    "## One Hot Encode Categorical Values\n",
    "\n",
    "To use and analyse the categorical data we need to one-hot encode them. This is done by splitting the comma separated strings into single strings and then create a one-hot-encoded column of each individual value. This column is then added to the original dataframe."
   ]
  },
  {
   "cell_type": "code",
   "execution_count": 14,
   "metadata": {},
   "outputs": [],
   "source": [
    "# Split the 'Ausfälle prä' column into separate strings\n",
    "df_patients['Ausfälle prä'] = df_patients['Ausfälle prä'].str.split(', ')\n",
    "# Create a set to store all unique disfunctions\n",
    "unique_disfunctions = set()\n",
    "\n",
    "# Iterate over the 'Ausfälle prä' column to gather unique disfunctions\n",
    "for value in df_patients['Ausfälle prä']:\n",
    "    if isinstance(value, list):\n",
    "        unique_disfunctions.update(value)\n",
    "    elif isinstance(value, str):\n",
    "        unique_disfunctions.add(value)\n",
    "\n",
    "# Iterate over the unique disfunctions and create one-hot encoded columns\n",
    "for disfunction in unique_disfunctions:\n",
    "    df_patients[\"Pre_OP_hormone_\"+ disfunction] = df_patients['Ausfälle prä'].apply(lambda x: 1 if (isinstance(x, list) and disfunction in x) or (x == disfunction) else 0)\n",
    "# drop the original 'Ausfälle prä' column\n",
    "df_patients = df_patients.drop('Ausfälle prä', axis=1)"
   ]
  },
  {
   "cell_type": "code",
   "execution_count": 15,
   "metadata": {},
   "outputs": [
    {
     "data": {
      "text/plain": [
       "Index(['Patient_ID', 'Case_ID', 'Date_Case', 'ID_MRI_Machine', 'Adenoma_size',\n",
       "       'Label_Quality', 'Entry_date', 'Operation_date', 'Diagnosis',\n",
       "       'Category', 'Patient_age', 'Prolactin', 'IGF1', 'Cortisol', 'fT4',\n",
       "       'Lab_additional', 'Pre_OP_hormone_',\n",
       "       'Pre_OP_hormone_hyperprolaktin stressbedingt', 'Pre_OP_hormone_somato',\n",
       "       'Pre_OP_hormone_prolaktin', 'Pre_OP_hormone_gonado',\n",
       "       'Pre_OP_hormone_hormonelle Defizite auf diversen Achsen',\n",
       "       'Pre_OP_hormone_hypothyreo', 'Pre_OP_hormone_hyperprolkatin',\n",
       "       'Pre_OP_hormone_Hyperprolaktinom', 'Pre_OP_hormone_hyperprolakin',\n",
       "       'Pre_OP_hormone_SIADH', 'Pre_OP_hormone_keine',\n",
       "       'Pre_OP_hormone_hypogonado', 'Pre_OP_hormone_hyperprolaktin',\n",
       "       'Pre_OP_hormone_gonato', 'Pre_OP_hormone_ADH',\n",
       "       'Pre_OP_hormone_somatotrop',\n",
       "       'Pre_OP_hormone_stressbedinge hyperprolakin',\n",
       "       'Pre_OP_hormone_Hyperprolaktin', 'Pre_OP_hormone_cortico',\n",
       "       'Pre_OP_hormone_gondao', 'Pre_OP_hormone_coritco',\n",
       "       'Pre_OP_hormone_inaktiv', 'Pre_OP_hormone_chiasma',\n",
       "       'Pre_OP_hormone_cortico,thyreo', 'Pre_OP_hormone_Hyperprolakin',\n",
       "       'Pre_OP_hormone_intakt', 'Pre_OP_hormone_thyreo'],\n",
       "      dtype='object')"
      ]
     },
     "execution_count": 15,
     "metadata": {},
     "output_type": "execute_result"
    }
   ],
   "source": [
    "df_patients.columns"
   ]
  },
  {
   "cell_type": "markdown",
   "metadata": {},
   "source": [
    "## Remove All NA and not needed Labels"
   ]
  },
  {
   "cell_type": "code",
   "execution_count": 16,
   "metadata": {},
   "outputs": [],
   "source": [
    "# remove all labels which are not prolaktion or non-prolaktinom\n",
    "df_patients = df_patients[df_patients['Category'].isin(['non-prolaktinom','prolaktinom'])]\n",
    "assert len(df_patients['Category'].unique()) == 2"
   ]
  },
  {
   "cell_type": "code",
   "execution_count": 17,
   "metadata": {},
   "outputs": [],
   "source": [
    "df_patients.to_csv(r'../raw_data/label_data.csv',index=False)"
   ]
  },
  {
   "cell_type": "code",
   "execution_count": 18,
   "metadata": {},
   "outputs": [
    {
     "name": "stdout",
     "output_type": "stream",
     "text": [
      "End Clean and Preprocessing patient data\n"
     ]
    }
   ],
   "source": [
    "print(\"End Clean and Preprocessing patient data\")"
   ]
  },
  {
   "cell_type": "markdown",
   "metadata": {},
   "source": [
    "# Data Cleaning and Selection MRI-data\n",
    "\n",
    "Now we will clean all MRI's."
   ]
  },
  {
   "cell_type": "code",
   "execution_count": 19,
   "metadata": {},
   "outputs": [
    {
     "name": "stdout",
     "output_type": "stream",
     "text": [
      "Start Clean and Preprocessing mri data\n"
     ]
    }
   ],
   "source": [
    "print(\"Start Clean and Preprocessing mri data\")"
   ]
  },
  {
   "cell_type": "markdown",
   "metadata": {},
   "source": [
    "### Column Selection\n",
    "Only select the interesting columns for the mri's."
   ]
  },
  {
   "cell_type": "code",
   "execution_count": 20,
   "metadata": {},
   "outputs": [],
   "source": [
    "column_list_mri = ['PID','Fall Nr.',\"Datum/Zeit\",\"Arbeitsplatz.Kürzel\"]"
   ]
  },
  {
   "cell_type": "code",
   "execution_count": 21,
   "metadata": {},
   "outputs": [],
   "source": [
    "df_mri = pd.read_excel(r'../raw_data/Hypophysenpatienten.xlsx',sheet_name='w duplicates')\n",
    "# select and rename columns\n",
    "df_mri = df_mri[column_list_mri]\n",
    "df_mri= df_mri.rename(columns={\"Fall Nr.\": \"Case_ID\",\"PID\": \"Patient_ID\",\n",
    "                       \"Datum/Zeit\": \"Date_Case\",\"Arbeitsplatz.Kürzel\":\"ID_MRI_Machine\"})"
   ]
  },
  {
   "cell_type": "code",
   "execution_count": 22,
   "metadata": {},
   "outputs": [
    {
     "data": {
      "text/html": [
       "<div>\n",
       "<style scoped>\n",
       "    .dataframe tbody tr th:only-of-type {\n",
       "        vertical-align: middle;\n",
       "    }\n",
       "\n",
       "    .dataframe tbody tr th {\n",
       "        vertical-align: top;\n",
       "    }\n",
       "\n",
       "    .dataframe thead th {\n",
       "        text-align: right;\n",
       "    }\n",
       "</style>\n",
       "<table border=\"1\" class=\"dataframe\">\n",
       "  <thead>\n",
       "    <tr style=\"text-align: right;\">\n",
       "      <th></th>\n",
       "      <th>Patient_ID</th>\n",
       "      <th>Case_ID</th>\n",
       "      <th>Date_Case</th>\n",
       "      <th>ID_MRI_Machine</th>\n",
       "    </tr>\n",
       "  </thead>\n",
       "  <tbody>\n",
       "    <tr>\n",
       "      <th>0</th>\n",
       "      <td>300146159</td>\n",
       "      <td>0041835743</td>\n",
       "      <td>2023-05-11 09:00:00</td>\n",
       "      <td>MRI3</td>\n",
       "    </tr>\n",
       "    <tr>\n",
       "      <th>1</th>\n",
       "      <td>762512</td>\n",
       "      <td>0041708812</td>\n",
       "      <td>2023-05-06 08:12:00</td>\n",
       "      <td>MRI3</td>\n",
       "    </tr>\n",
       "    <tr>\n",
       "      <th>2</th>\n",
       "      <td>365189</td>\n",
       "      <td>0041892695</td>\n",
       "      <td>2023-05-05 14:19:00</td>\n",
       "      <td>MRI3</td>\n",
       "    </tr>\n",
       "    <tr>\n",
       "      <th>3</th>\n",
       "      <td>543641</td>\n",
       "      <td>0041725372</td>\n",
       "      <td>2023-05-05 07:54:00</td>\n",
       "      <td>MRI2</td>\n",
       "    </tr>\n",
       "    <tr>\n",
       "      <th>4</th>\n",
       "      <td>300302329</td>\n",
       "      <td>0041843364</td>\n",
       "      <td>2023-05-02 12:04:00</td>\n",
       "      <td>MRI3</td>\n",
       "    </tr>\n",
       "  </tbody>\n",
       "</table>\n",
       "</div>"
      ],
      "text/plain": [
       "   Patient_ID     Case_ID           Date_Case ID_MRI_Machine\n",
       "0   300146159  0041835743 2023-05-11 09:00:00           MRI3\n",
       "1      762512  0041708812 2023-05-06 08:12:00           MRI3\n",
       "2      365189  0041892695 2023-05-05 14:19:00           MRI3\n",
       "3      543641  0041725372 2023-05-05 07:54:00           MRI2\n",
       "4   300302329  0041843364 2023-05-02 12:04:00           MRI3"
      ]
     },
     "execution_count": 22,
     "metadata": {},
     "output_type": "execute_result"
    }
   ],
   "source": [
    "df_mri.head()"
   ]
  },
  {
   "cell_type": "code",
   "execution_count": 23,
   "metadata": {},
   "outputs": [],
   "source": [
    "df_mri['Case_ID'] = df_mri['Case_ID'].replace('-','',regex=True)"
   ]
  },
  {
   "cell_type": "code",
   "execution_count": 24,
   "metadata": {},
   "outputs": [],
   "source": [
    "df_mri['Case_ID']=df_mri['Case_ID'].astype(int)"
   ]
  },
  {
   "cell_type": "markdown",
   "metadata": {},
   "source": [
    "## Remove same Day MRI and take only newest"
   ]
  },
  {
   "cell_type": "code",
   "execution_count": 25,
   "metadata": {},
   "outputs": [
    {
     "name": "stdout",
     "output_type": "stream",
     "text": [
      "0 Cases were deleted, because they were same-day duplicates.\n"
     ]
    }
   ],
   "source": [
    "df_mri_clean = df_mri.groupby([\"Patient_ID\",\"Case_ID\"])[[\"Date_Case\",'ID_MRI_Machine']].max().reset_index()\n",
    "\n",
    "# if there are multiple\n",
    "n_cases = len(df_mri_clean)\n",
    "df_mri_clean = df_mri_clean.groupby([\"Patient_ID\",\"Case_ID\"])[[\"Date_Case\",'ID_MRI_Machine']].max().reset_index()\n",
    "print(f\"{n_cases-len(df_mri_clean)} Cases were deleted, because they were same-day duplicates.\")"
   ]
  },
  {
   "cell_type": "code",
   "execution_count": 26,
   "metadata": {},
   "outputs": [],
   "source": [
    "df_mri_clean.to_csv(r'../raw_data/mri_data.csv',index=False)"
   ]
  },
  {
   "cell_type": "code",
   "execution_count": 27,
   "metadata": {},
   "outputs": [
    {
     "name": "stdout",
     "output_type": "stream",
     "text": [
      "End Clean and Preprocessing mri data\n"
     ]
    }
   ],
   "source": [
    "print(\"End Clean and Preprocessing mri data\")"
   ]
  },
  {
   "cell_type": "markdown",
   "metadata": {},
   "source": [
    "# Data Cleaning and Selection Lab-data\n",
    "\n",
    "Now the lab data from the explicit KSA export will be cleaned."
   ]
  },
  {
   "cell_type": "code",
   "execution_count": 28,
   "metadata": {},
   "outputs": [
    {
     "name": "stdout",
     "output_type": "stream",
     "text": [
      "Start Clean and Preprocessing lab-data\n"
     ]
    }
   ],
   "source": [
    "print(\"Start Clean and Preprocessing lab-data\")"
   ]
  },
  {
   "cell_type": "markdown",
   "metadata": {},
   "source": [
    "## Read"
   ]
  },
  {
   "cell_type": "code",
   "execution_count": 29,
   "metadata": {},
   "outputs": [],
   "source": [
    "lab_data = pd.read_excel(\"../raw_data/extract_pit.xlsx\",\n",
    "                         usecols=['PATIENT_NR','FALL_NR','Analyse-ID','Resultat','Datum_Resultat']).rename(\n",
    "                             columns={\"PATIENT_NR\":\"Patient_ID\",\"FALL_NR\":\"Case_ID\",\"Analyse-ID\":\"Lab_ID\",})"
   ]
  },
  {
   "cell_type": "code",
   "execution_count": 30,
   "metadata": {},
   "outputs": [
    {
     "data": {
      "text/plain": [
       "Index(['Case_ID', 'Patient_ID', 'Lab_ID', 'Datum_Resultat', 'Resultat'], dtype='object')"
      ]
     },
     "execution_count": 30,
     "metadata": {},
     "output_type": "execute_result"
    }
   ],
   "source": [
    "lab_data.columns"
   ]
  },
  {
   "cell_type": "markdown",
   "metadata": {},
   "source": [
    "### Clean and select Lab's\n",
    "There is a multitude of labs in the export. We do not need all of them. "
   ]
  },
  {
   "cell_type": "code",
   "execution_count": 31,
   "metadata": {},
   "outputs": [],
   "source": [
    "# remove not needed labs\n",
    "lab_data= lab_data[~lab_data['Lab_ID'].isin(['ABTEST','TBILHB'])].copy()"
   ]
  },
  {
   "cell_type": "code",
   "execution_count": 32,
   "metadata": {},
   "outputs": [],
   "source": [
    "# rename labs which are integer based with a string name\n",
    "lab_data['Lab_ID'] = lab_data['Lab_ID'].replace({20396:'IGF1',24382:'PROL',24384:'PROL',24383:'PROL'})"
   ]
  },
  {
   "cell_type": "code",
   "execution_count": 33,
   "metadata": {},
   "outputs": [],
   "source": [
    "lab_data['Case_ID']= lab_data['Case_ID'].replace('#','',regex=True)\n",
    "lab_data['Case_ID']=lab_data['Case_ID'].astype(int)"
   ]
  },
  {
   "cell_type": "code",
   "execution_count": 34,
   "metadata": {},
   "outputs": [],
   "source": [
    "# replace export anomalies \n",
    "ids = {'Ã¼': 'ü', 'Ã¤': 'ä', \"Ã„\":\"Ä\",\"√§\":\"ä\"}\n",
    "\n",
    "for column in lab_data.columns[lab_data.columns.isin([\"Case_ID\",\"Patient_ID\",\"Datum_Resultat\",\"Auftragsdatum\"]) == False]:\n",
    "    for old, new in ids.items():\n",
    "        lab_data[column] = lab_data[column].str.replace(old, new, regex=False)\n",
    "\n",
    "# clean the greather and less than characters with regex\n",
    "clean_result = lambda result: re.sub(r'(?<!\\d)\\.', '', re.sub(r'[^\\d.]', '', str(result))) #clean < zahl / > zahl / 1 A zahl\n",
    "lab_data[\"Resultat\"] = lab_data[\"Resultat\"].apply(clean_result) \n",
    "# remove empty results\n",
    "lab_data = lab_data[lab_data[\"Resultat\"] != \"\"]\n",
    "lab_data[\"Resultat\"] = lab_data[\"Resultat\"].astype(float)"
   ]
  },
  {
   "cell_type": "code",
   "execution_count": 35,
   "metadata": {},
   "outputs": [],
   "source": [
    "# check if the datetime was correctly fixed\n",
    "assert lab_data[\"Datum_Resultat\"].min() > pd.to_datetime(\"1995-01-01\")"
   ]
  },
  {
   "cell_type": "code",
   "execution_count": 36,
   "metadata": {},
   "outputs": [],
   "source": [
    "# mean of results of same date\n",
    "lab_data = lab_data.groupby([\"Patient_ID\",\"Lab_ID\",\"Datum_Resultat\"])[\"Resultat\"].agg(['mean']).reset_index()"
   ]
  },
  {
   "cell_type": "markdown",
   "metadata": {},
   "source": [
    "## Merge Cases with Patient Cases"
   ]
  },
  {
   "cell_type": "code",
   "execution_count": 37,
   "metadata": {},
   "outputs": [],
   "source": [
    "lab_data = pd.merge(lab_data,df_mri_clean,on=\"Patient_ID\",how = \"right\")\n",
    "lab_data = lab_data[lab_data[\"Date_Case\"] >= lab_data[\"Datum_Resultat\"]].drop(columns=\"Date_Case\")"
   ]
  },
  {
   "cell_type": "code",
   "execution_count": 38,
   "metadata": {},
   "outputs": [],
   "source": [
    "# Compute newest date for each patient and analysis\n",
    "max_dates = lab_data.groupby(['Patient_ID', \"Lab_ID\",\"Case_ID\"])['Datum_Resultat'].max().reset_index()\n",
    "# Merge with the original DataFrame to filter rows with minimum dates\n",
    "lab_data = pd.merge(lab_data, max_dates, on=['Patient_ID', 'Lab_ID', 'Datum_Resultat',\"Case_ID\"])"
   ]
  },
  {
   "cell_type": "code",
   "execution_count": 39,
   "metadata": {},
   "outputs": [],
   "source": [
    "# check for any duplicate Values\n",
    "assert len(lab_data.loc[:,[\"Case_ID\",\"Lab_ID\"]].drop_duplicates()) == len(lab_data)"
   ]
  },
  {
   "cell_type": "code",
   "execution_count": 40,
   "metadata": {},
   "outputs": [],
   "source": [
    "# make dataframe wide\n",
    "lab_data = lab_data.pivot(index=[\"Patient_ID\",\"Case_ID\"],values = ['mean'], columns = ['Lab_ID'])\n",
    "lab_data.columns = lab_data.columns.droplevel()\n",
    "lab_data = lab_data.reset_index()"
   ]
  },
  {
   "cell_type": "markdown",
   "metadata": {},
   "source": [
    "### Create LabData from label data"
   ]
  },
  {
   "cell_type": "code",
   "execution_count": 41,
   "metadata": {},
   "outputs": [],
   "source": [
    "df_additional_lab = pd.read_csv(r'../raw_data/label_data.csv').rename(columns={'Cortisol':'COR60','fT4':'FT4','Prolactin':'PROL'})[['Patient_ID','Case_ID','COR60','FT4','PROL','IGF1','Lab_additional']]\n",
    "df_additional_lab.columns\n",
    "df_additional_lab = df_additional_lab.dropna(subset=['PROL','IGF1','COR60','FT4',]).reset_index(drop=True)\n"
   ]
  },
  {
   "cell_type": "code",
   "execution_count": 42,
   "metadata": {},
   "outputs": [],
   "source": [
    "df_additional_lab['Lab_additional'] =df_additional_lab['Lab_additional'].fillna('')\n",
    "for i in ['Test', 'LH','FSH']:\n",
    "    df_additional_lab[i] = ''\n",
    "    indices = df_additional_lab[df_additional_lab['Lab_additional'].str.contains(i)].index\n",
    "    df_additional_lab.loc[indices,i]  = df_additional_lab.iloc[indices]['Lab_additional']\n",
    "\n"
   ]
  },
  {
   "cell_type": "code",
   "execution_count": 43,
   "metadata": {},
   "outputs": [],
   "source": [
    "df_additional_lab= df_additional_lab.drop(columns=['Lab_additional'])\n",
    "df_additional_lab= df_additional_lab.rename(columns={'Test':'TEST'})"
   ]
  },
  {
   "cell_type": "code",
   "execution_count": 44,
   "metadata": {},
   "outputs": [
    {
     "data": {
      "text/html": [
       "<div>\n",
       "<style scoped>\n",
       "    .dataframe tbody tr th:only-of-type {\n",
       "        vertical-align: middle;\n",
       "    }\n",
       "\n",
       "    .dataframe tbody tr th {\n",
       "        vertical-align: top;\n",
       "    }\n",
       "\n",
       "    .dataframe thead th {\n",
       "        text-align: right;\n",
       "    }\n",
       "</style>\n",
       "<table border=\"1\" class=\"dataframe\">\n",
       "  <thead>\n",
       "    <tr style=\"text-align: right;\">\n",
       "      <th></th>\n",
       "      <th>Patient_ID</th>\n",
       "      <th>Case_ID</th>\n",
       "      <th>COR60</th>\n",
       "      <th>FT4</th>\n",
       "      <th>PROL</th>\n",
       "      <th>IGF1</th>\n",
       "      <th>TEST</th>\n",
       "      <th>LH</th>\n",
       "      <th>FSH</th>\n",
       "    </tr>\n",
       "  </thead>\n",
       "  <tbody>\n",
       "    <tr>\n",
       "      <th>0</th>\n",
       "      <td>300228153</td>\n",
       "      <td>41707994</td>\n",
       "      <td>329</td>\n",
       "      <td>10.1</td>\n",
       "      <td>173mU/l</td>\n",
       "      <td>6.3nmol/l</td>\n",
       "      <td>Testo 14.1nmol/l</td>\n",
       "      <td></td>\n",
       "      <td></td>\n",
       "    </tr>\n",
       "    <tr>\n",
       "      <th>1</th>\n",
       "      <td>300312446</td>\n",
       "      <td>41718174</td>\n",
       "      <td>271</td>\n",
       "      <td>8.4</td>\n",
       "      <td>743mU/l</td>\n",
       "      <td>20.2nmol/l</td>\n",
       "      <td></td>\n",
       "      <td></td>\n",
       "      <td></td>\n",
       "    </tr>\n",
       "    <tr>\n",
       "      <th>2</th>\n",
       "      <td>36127</td>\n",
       "      <td>41579190</td>\n",
       "      <td>110</td>\n",
       "      <td>7.3</td>\n",
       "      <td>687mU/l</td>\n",
       "      <td>75.4ng/ml</td>\n",
       "      <td>Testo 0.3nmol/l</td>\n",
       "      <td></td>\n",
       "      <td></td>\n",
       "    </tr>\n",
       "    <tr>\n",
       "      <th>3</th>\n",
       "      <td>300291886</td>\n",
       "      <td>41169249</td>\n",
       "      <td>311 nmol/l</td>\n",
       "      <td>14.6 pmol/l</td>\n",
       "      <td>7.8 ug/l</td>\n",
       "      <td>208 ng/ml</td>\n",
       "      <td></td>\n",
       "      <td></td>\n",
       "      <td></td>\n",
       "    </tr>\n",
       "    <tr>\n",
       "      <th>4</th>\n",
       "      <td>560863</td>\n",
       "      <td>40469555</td>\n",
       "      <td>607</td>\n",
       "      <td>11.4</td>\n",
       "      <td>269ug/l</td>\n",
       "      <td>22.7nmol</td>\n",
       "      <td></td>\n",
       "      <td></td>\n",
       "      <td></td>\n",
       "    </tr>\n",
       "    <tr>\n",
       "      <th>5</th>\n",
       "      <td>459429</td>\n",
       "      <td>40603831</td>\n",
       "      <td>703</td>\n",
       "      <td>13.2</td>\n",
       "      <td>7ug/l</td>\n",
       "      <td>32.5nmol/l</td>\n",
       "      <td></td>\n",
       "      <td></td>\n",
       "      <td></td>\n",
       "    </tr>\n",
       "    <tr>\n",
       "      <th>6</th>\n",
       "      <td>17081</td>\n",
       "      <td>40573077</td>\n",
       "      <td>766</td>\n",
       "      <td>14.3</td>\n",
       "      <td>13.5ug/L</td>\n",
       "      <td>16.6nmol</td>\n",
       "      <td></td>\n",
       "      <td></td>\n",
       "      <td></td>\n",
       "    </tr>\n",
       "    <tr>\n",
       "      <th>7</th>\n",
       "      <td>112374</td>\n",
       "      <td>40541632</td>\n",
       "      <td>334</td>\n",
       "      <td>11</td>\n",
       "      <td>381ug/l</td>\n",
       "      <td>15.9nmol</td>\n",
       "      <td>Testo 3.8nmol</td>\n",
       "      <td></td>\n",
       "      <td></td>\n",
       "    </tr>\n",
       "    <tr>\n",
       "      <th>8</th>\n",
       "      <td>113792</td>\n",
       "      <td>40525843</td>\n",
       "      <td>1380</td>\n",
       "      <td>11.8</td>\n",
       "      <td>366ug/l</td>\n",
       "      <td>14.9nmol</td>\n",
       "      <td></td>\n",
       "      <td></td>\n",
       "      <td>FSH 0.4U/L</td>\n",
       "    </tr>\n",
       "    <tr>\n",
       "      <th>9</th>\n",
       "      <td>242880</td>\n",
       "      <td>40419128</td>\n",
       "      <td>1213</td>\n",
       "      <td>17</td>\n",
       "      <td>954ug/l</td>\n",
       "      <td>22nmol</td>\n",
       "      <td></td>\n",
       "      <td></td>\n",
       "      <td>FSH 0.7U/L</td>\n",
       "    </tr>\n",
       "    <tr>\n",
       "      <th>10</th>\n",
       "      <td>159059</td>\n",
       "      <td>40479846</td>\n",
       "      <td>280</td>\n",
       "      <td>6.7</td>\n",
       "      <td>1.5ug/l</td>\n",
       "      <td>6.5nmol</td>\n",
       "      <td>Test 0.7</td>\n",
       "      <td></td>\n",
       "      <td></td>\n",
       "    </tr>\n",
       "    <tr>\n",
       "      <th>11</th>\n",
       "      <td>760622</td>\n",
       "      <td>40507227</td>\n",
       "      <td>521</td>\n",
       "      <td>12.2</td>\n",
       "      <td>88.2ug/l</td>\n",
       "      <td>22.1nmol</td>\n",
       "      <td></td>\n",
       "      <td></td>\n",
       "      <td></td>\n",
       "    </tr>\n",
       "    <tr>\n",
       "      <th>12</th>\n",
       "      <td>300052288</td>\n",
       "      <td>40388593</td>\n",
       "      <td>850</td>\n",
       "      <td>14.1</td>\n",
       "      <td>18.7ug/l</td>\n",
       "      <td>15.4nmol</td>\n",
       "      <td></td>\n",
       "      <td></td>\n",
       "      <td></td>\n",
       "    </tr>\n",
       "    <tr>\n",
       "      <th>13</th>\n",
       "      <td>298149</td>\n",
       "      <td>40496221</td>\n",
       "      <td>683</td>\n",
       "      <td>12.8</td>\n",
       "      <td>11.3ug/l</td>\n",
       "      <td>22.3nmol</td>\n",
       "      <td>Testo 31.7nmol</td>\n",
       "      <td></td>\n",
       "      <td></td>\n",
       "    </tr>\n",
       "    <tr>\n",
       "      <th>14</th>\n",
       "      <td>677044</td>\n",
       "      <td>40367289</td>\n",
       "      <td>662</td>\n",
       "      <td>11.4</td>\n",
       "      <td>5.2ug/l</td>\n",
       "      <td>43.1nmol</td>\n",
       "      <td>Testo 11.1nmol</td>\n",
       "      <td></td>\n",
       "      <td></td>\n",
       "    </tr>\n",
       "    <tr>\n",
       "      <th>15</th>\n",
       "      <td>662362</td>\n",
       "      <td>40497479</td>\n",
       "      <td>673</td>\n",
       "      <td>13.5</td>\n",
       "      <td>998ug/l</td>\n",
       "      <td>19.9nmol</td>\n",
       "      <td>Testo 3.9nmol</td>\n",
       "      <td></td>\n",
       "      <td></td>\n",
       "    </tr>\n",
       "    <tr>\n",
       "      <th>16</th>\n",
       "      <td>300044383</td>\n",
       "      <td>40421368</td>\n",
       "      <td>825</td>\n",
       "      <td>11.7</td>\n",
       "      <td>463ug/l</td>\n",
       "      <td>31.2nnol</td>\n",
       "      <td></td>\n",
       "      <td></td>\n",
       "      <td></td>\n",
       "    </tr>\n",
       "    <tr>\n",
       "      <th>17</th>\n",
       "      <td>635720</td>\n",
       "      <td>40214009</td>\n",
       "      <td>550</td>\n",
       "      <td>15</td>\n",
       "      <td>10520mu/L</td>\n",
       "      <td>15nmol</td>\n",
       "      <td></td>\n",
       "      <td></td>\n",
       "      <td></td>\n",
       "    </tr>\n",
       "    <tr>\n",
       "      <th>18</th>\n",
       "      <td>82016</td>\n",
       "      <td>40345339</td>\n",
       "      <td>707</td>\n",
       "      <td>14.1</td>\n",
       "      <td>19.6ug/l</td>\n",
       "      <td>16.2nmol/l</td>\n",
       "      <td></td>\n",
       "      <td></td>\n",
       "      <td></td>\n",
       "    </tr>\n",
       "    <tr>\n",
       "      <th>19</th>\n",
       "      <td>404252</td>\n",
       "      <td>40285535</td>\n",
       "      <td>588</td>\n",
       "      <td>23.3</td>\n",
       "      <td>7.4</td>\n",
       "      <td>11,2nmol</td>\n",
       "      <td></td>\n",
       "      <td></td>\n",
       "      <td></td>\n",
       "    </tr>\n",
       "    <tr>\n",
       "      <th>20</th>\n",
       "      <td>562753</td>\n",
       "      <td>40377401</td>\n",
       "      <td>704</td>\n",
       "      <td>13</td>\n",
       "      <td>15</td>\n",
       "      <td>17,6nmol</td>\n",
       "      <td>Testo 8,3nmol/l</td>\n",
       "      <td></td>\n",
       "      <td></td>\n",
       "    </tr>\n",
       "    <tr>\n",
       "      <th>21</th>\n",
       "      <td>300071920</td>\n",
       "      <td>40323241</td>\n",
       "      <td>1150</td>\n",
       "      <td>1900-01-11 19:12:00</td>\n",
       "      <td>missing</td>\n",
       "      <td>25.4nmol/l</td>\n",
       "      <td></td>\n",
       "      <td>FSH 123U/L, LH 35U/L</td>\n",
       "      <td>FSH 123U/L, LH 35U/L</td>\n",
       "    </tr>\n",
       "  </tbody>\n",
       "</table>\n",
       "</div>"
      ],
      "text/plain": [
       "    Patient_ID   Case_ID       COR60                  FT4       PROL  \\\n",
       "0    300228153  41707994         329                 10.1    173mU/l   \n",
       "1    300312446  41718174         271                  8.4    743mU/l   \n",
       "2        36127  41579190         110                  7.3    687mU/l   \n",
       "3    300291886  41169249  311 nmol/l          14.6 pmol/l   7.8 ug/l   \n",
       "4       560863  40469555         607                 11.4    269ug/l   \n",
       "5       459429  40603831         703                 13.2      7ug/l   \n",
       "6        17081  40573077         766                 14.3   13.5ug/L   \n",
       "7       112374  40541632         334                   11    381ug/l   \n",
       "8       113792  40525843        1380                 11.8    366ug/l   \n",
       "9       242880  40419128        1213                   17    954ug/l   \n",
       "10      159059  40479846         280                  6.7    1.5ug/l   \n",
       "11      760622  40507227         521                 12.2   88.2ug/l   \n",
       "12   300052288  40388593         850                 14.1   18.7ug/l   \n",
       "13      298149  40496221         683                 12.8   11.3ug/l   \n",
       "14      677044  40367289         662                 11.4    5.2ug/l   \n",
       "15      662362  40497479         673                 13.5    998ug/l   \n",
       "16   300044383  40421368         825                 11.7    463ug/l   \n",
       "17      635720  40214009         550                   15  10520mu/L   \n",
       "18       82016  40345339         707                 14.1   19.6ug/l   \n",
       "19      404252  40285535         588                 23.3        7.4   \n",
       "20      562753  40377401         704                   13         15   \n",
       "21   300071920  40323241        1150  1900-01-11 19:12:00    missing   \n",
       "\n",
       "          IGF1              TEST                    LH                   FSH  \n",
       "0    6.3nmol/l  Testo 14.1nmol/l                                              \n",
       "1   20.2nmol/l                                                                \n",
       "2    75.4ng/ml   Testo 0.3nmol/l                                              \n",
       "3    208 ng/ml                                                                \n",
       "4     22.7nmol                                                                \n",
       "5   32.5nmol/l                                                                \n",
       "6     16.6nmol                                                                \n",
       "7     15.9nmol     Testo 3.8nmol                                              \n",
       "8     14.9nmol                                                    FSH 0.4U/L  \n",
       "9       22nmol                                                    FSH 0.7U/L  \n",
       "10     6.5nmol          Test 0.7                                              \n",
       "11    22.1nmol                                                                \n",
       "12    15.4nmol                                                                \n",
       "13    22.3nmol    Testo 31.7nmol                                              \n",
       "14    43.1nmol    Testo 11.1nmol                                              \n",
       "15    19.9nmol     Testo 3.9nmol                                              \n",
       "16    31.2nnol                                                                \n",
       "17      15nmol                                                                \n",
       "18  16.2nmol/l                                                                \n",
       "19    11,2nmol                                                                \n",
       "20    17,6nmol   Testo 8,3nmol/l                                              \n",
       "21  25.4nmol/l                    FSH 123U/L, LH 35U/L  FSH 123U/L, LH 35U/L  "
      ]
     },
     "execution_count": 44,
     "metadata": {},
     "output_type": "execute_result"
    }
   ],
   "source": [
    "df_additional_lab"
   ]
  },
  {
   "cell_type": "markdown",
   "metadata": {},
   "source": [
    "#### Missing Rows   "
   ]
  },
  {
   "cell_type": "code",
   "execution_count": 45,
   "metadata": {},
   "outputs": [
    {
     "data": {
      "text/html": [
       "<div>\n",
       "<style scoped>\n",
       "    .dataframe tbody tr th:only-of-type {\n",
       "        vertical-align: middle;\n",
       "    }\n",
       "\n",
       "    .dataframe tbody tr th {\n",
       "        vertical-align: top;\n",
       "    }\n",
       "\n",
       "    .dataframe thead th {\n",
       "        text-align: right;\n",
       "    }\n",
       "</style>\n",
       "<table border=\"1\" class=\"dataframe\">\n",
       "  <thead>\n",
       "    <tr style=\"text-align: right;\">\n",
       "      <th></th>\n",
       "      <th>Patient_ID</th>\n",
       "      <th>Case_ID</th>\n",
       "      <th>COR60</th>\n",
       "      <th>FT4</th>\n",
       "      <th>PROL</th>\n",
       "      <th>IGF1</th>\n",
       "      <th>TEST</th>\n",
       "      <th>LH</th>\n",
       "      <th>FSH</th>\n",
       "    </tr>\n",
       "  </thead>\n",
       "  <tbody>\n",
       "    <tr>\n",
       "      <th>21</th>\n",
       "      <td>300071920</td>\n",
       "      <td>40323241</td>\n",
       "      <td>1150</td>\n",
       "      <td>1900-01-11 19:12:00</td>\n",
       "      <td>missing</td>\n",
       "      <td>25.4nmol/l</td>\n",
       "      <td></td>\n",
       "      <td>FSH 123U/L, LH 35U/L</td>\n",
       "      <td>FSH 123U/L, LH 35U/L</td>\n",
       "    </tr>\n",
       "  </tbody>\n",
       "</table>\n",
       "</div>"
      ],
      "text/plain": [
       "    Patient_ID   Case_ID COR60                  FT4     PROL        IGF1 TEST  \\\n",
       "21   300071920  40323241  1150  1900-01-11 19:12:00  missing  25.4nmol/l        \n",
       "\n",
       "                      LH                   FSH  \n",
       "21  FSH 123U/L, LH 35U/L  FSH 123U/L, LH 35U/L  "
      ]
     },
     "execution_count": 45,
     "metadata": {},
     "output_type": "execute_result"
    }
   ],
   "source": [
    "#TODO: Tristan fragen\n",
    "df_additional_lab[df_additional_lab['Patient_ID'] ==300071920]"
   ]
  },
  {
   "cell_type": "code",
   "execution_count": 46,
   "metadata": {},
   "outputs": [],
   "source": [
    "df_additional_lab= df_additional_lab.drop(df_additional_lab[df_additional_lab['Patient_ID'] ==300071920].index)"
   ]
  },
  {
   "cell_type": "markdown",
   "metadata": {},
   "source": [
    "#### Testosteron Cleaning"
   ]
  },
  {
   "cell_type": "code",
   "execution_count": 47,
   "metadata": {},
   "outputs": [],
   "source": [
    "df_additional_lab['TEST'] = df_additional_lab['TEST'].replace(r' nmol/l','',regex=True)\n",
    "df_additional_lab['TEST'] = df_additional_lab['TEST'].replace(r'nmol/l','',regex=True)\n",
    "df_additional_lab['TEST'] = df_additional_lab['TEST'].replace(r'nmol','',regex=True)\n",
    "df_additional_lab['TEST'] = df_additional_lab['TEST'].replace(r'Testo','',regex=True)\n",
    "df_additional_lab['TEST'] = df_additional_lab['TEST'].replace(r'Test','',regex=True)\n",
    "df_additional_lab['TEST'] = df_additional_lab['TEST'].replace(r',','.',regex=True)"
   ]
  },
  {
   "cell_type": "code",
   "execution_count": 48,
   "metadata": {},
   "outputs": [],
   "source": [
    "df_additional_lab.loc[df_additional_lab['TEST'] == '', 'TEST'] = np.nan"
   ]
  },
  {
   "cell_type": "code",
   "execution_count": 49,
   "metadata": {},
   "outputs": [],
   "source": [
    "df_additional_lab['TEST']= df_additional_lab['TEST'].astype(float)"
   ]
  },
  {
   "cell_type": "markdown",
   "metadata": {},
   "source": [
    "#### LH Cleaning"
   ]
  },
  {
   "cell_type": "code",
   "execution_count": 50,
   "metadata": {},
   "outputs": [],
   "source": [
    "df_additional_lab.loc[df_additional_lab['LH'] == '', 'LH'] = np.nan"
   ]
  },
  {
   "cell_type": "markdown",
   "metadata": {},
   "source": [
    "#### FSH Cleaning"
   ]
  },
  {
   "cell_type": "code",
   "execution_count": 51,
   "metadata": {},
   "outputs": [],
   "source": [
    "df_additional_lab['FSH'] = df_additional_lab['FSH'].replace(r'FSH','',regex=True)\n",
    "df_additional_lab['FSH'] = df_additional_lab['FSH'].replace(r'U/L','',regex=True)"
   ]
  },
  {
   "cell_type": "code",
   "execution_count": 52,
   "metadata": {},
   "outputs": [],
   "source": [
    "df_additional_lab.loc[df_additional_lab['FSH'] == '', 'FSH'] = np.nan"
   ]
  },
  {
   "cell_type": "markdown",
   "metadata": {},
   "source": [
    "#### Cortisol Cleaning "
   ]
  },
  {
   "cell_type": "code",
   "execution_count": 53,
   "metadata": {},
   "outputs": [],
   "source": [
    "df_additional_lab['COR60'] = df_additional_lab['COR60'].replace(r' nmol/l','',regex=True)"
   ]
  },
  {
   "cell_type": "markdown",
   "metadata": {},
   "source": [
    "#### FT4 Cleaning"
   ]
  },
  {
   "cell_type": "code",
   "execution_count": 54,
   "metadata": {},
   "outputs": [],
   "source": [
    "df_additional_lab['FT4'] = df_additional_lab['FT4'].replace(r' pmol/l','',regex=True)"
   ]
  },
  {
   "cell_type": "markdown",
   "metadata": {},
   "source": [
    "#### Prolaktin Cleaning and Conversion"
   ]
  },
  {
   "cell_type": "code",
   "execution_count": 55,
   "metadata": {},
   "outputs": [],
   "source": [
    "df_additional_lab[\"PROL\"]= df_additional_lab[\"PROL\"].str.replace(\"ug/L\",\"ug/l\")\n",
    "df_additional_lab[\"PROL\"]= df_additional_lab[\"PROL\"].str.replace(\"mu/L\",\"mU/l\")"
   ]
  },
  {
   "cell_type": "code",
   "execution_count": 56,
   "metadata": {},
   "outputs": [],
   "source": [
    "# get indices which need to be converted\n",
    "indices_to_divide = df_additional_lab.loc[df_additional_lab[\"PROL\"].str.contains('mU/l'),'PROL'].index \n",
    "# remove units and strings\n",
    "df_additional_lab['PROL'] = df_additional_lab['PROL'].str.rstrip(r'mU/l')\n",
    "df_additional_lab['PROL'] = df_additional_lab['PROL'].str.rstrip(r'ug/l')\n",
    "df_additional_lab['PROL'] = df_additional_lab['PROL'].str.rstrip(r'ug/L')\n",
    "df_additional_lab['PROL'] = df_additional_lab['PROL'].astype(float)\n",
    "# mU/l -> ug/l (mU/l * 0.048)\n",
    "df_additional_lab.loc[indices_to_divide,'PROL'] = df_additional_lab.loc[indices_to_divide,'PROL'] * 0.048 \n"
   ]
  },
  {
   "cell_type": "markdown",
   "metadata": {},
   "source": [
    "#### IGF1 Cleaning and Conversion"
   ]
  },
  {
   "cell_type": "code",
   "execution_count": 57,
   "metadata": {},
   "outputs": [],
   "source": [
    "df_additional_lab[\"IGF1\"]= df_additional_lab[\"IGF1\"].str.replace(\"ug/L\",\"ug/l\")\n",
    "df_additional_lab[\"IGF1\"]= df_additional_lab[\"IGF1\"].str.replace(\",\",\".\")\n",
    "\n",
    "# get indices which need to be converted\n",
    "indices_to_divide = df_additional_lab.loc[df_additional_lab[\"IGF1\"].str.contains('ng/ml'),'IGF1'].index \n",
    "# remove units and strings\n",
    "df_additional_lab['IGF1'] = df_additional_lab['IGF1'].str.rstrip(r'ng/ml')\n",
    "df_additional_lab['IGF1'] = df_additional_lab['IGF1'].str.rstrip(r'nmol')\n",
    "df_additional_lab['IGF1'] = df_additional_lab['IGF1'].str.rstrip(r'nmol/l')\n",
    "df_additional_lab['IGF1'] = df_additional_lab['IGF1'].astype(float)\n",
    "# ng/ml -> nmol/l (ng/ml * 0.13)\n",
    "df_additional_lab.loc[indices_to_divide,'IGF1'] = df_additional_lab.loc[indices_to_divide,'IGF1'] * 0.13\n"
   ]
  },
  {
   "cell_type": "code",
   "execution_count": 58,
   "metadata": {},
   "outputs": [],
   "source": [
    "# combine additional lab and lab data\n",
    "lab_data = lab_data.set_index(['Patient_ID','Case_ID']).combine_first(df_additional_lab.set_index(['Patient_ID','Case_ID'])).reset_index()"
   ]
  },
  {
   "cell_type": "code",
   "execution_count": 59,
   "metadata": {},
   "outputs": [
    {
     "name": "stdout",
     "output_type": "stream",
     "text": [
      "Sparsity of labordata: 0.31 % (nur von Fällen mit Laborwerten)\n",
      "Von 519 Fällen gibt es keine Laborwerte.\n"
     ]
    }
   ],
   "source": [
    "spar = round(lab_data[['COR60', 'FSH','LH', 'FT4', 'IGF1', 'LH', 'PROL','TEST']].isna().mean().mean(),3)\n",
    "print(f\"Sparsity of labordata: {spar} % (nur von Fällen mit Laborwerten)\")\n",
    "print(f\"Von {len(df_mri_clean)-len(lab_data)} Fällen gibt es keine Laborwerte.\")"
   ]
  },
  {
   "cell_type": "code",
   "execution_count": 60,
   "metadata": {},
   "outputs": [],
   "source": [
    "lab_data.to_csv(r'../raw_data/lab_data.csv',index=False)"
   ]
  },
  {
   "cell_type": "code",
   "execution_count": 61,
   "metadata": {},
   "outputs": [
    {
     "name": "stdout",
     "output_type": "stream",
     "text": [
      "End Clean and Preprocessing labor data\n"
     ]
    }
   ],
   "source": [
    "print(\"End Clean and Preprocessing labor data\")"
   ]
  },
  {
   "cell_type": "markdown",
   "metadata": {},
   "source": [
    "# Full Merge"
   ]
  },
  {
   "cell_type": "code",
   "execution_count": 62,
   "metadata": {},
   "outputs": [],
   "source": [
    "# get only newest mri\n",
    "# df_mri_clean = df_mri.sort_values(['Patient_ID','Date_Case'],ascending=False).drop_duplicates('Patient_ID')"
   ]
  },
  {
   "cell_type": "code",
   "execution_count": 63,
   "metadata": {},
   "outputs": [],
   "source": [
    "df_temp = pd.merge(df_mri_clean,lab_data,left_on=['Patient_ID','Case_ID'],right_on=['Patient_ID','Case_ID'])"
   ]
  },
  {
   "cell_type": "code",
   "execution_count": 64,
   "metadata": {},
   "outputs": [],
   "source": [
    "full_merged = pd.merge(df_temp,df_patients[['Patient_ID', 'Entry_date', 'Operation_date', 'Adenoma_size',\n",
    "       'Diagnosis', 'Category', 'Patient_age','Pre_OP_hormone_cortico',\n",
    "       'Pre_OP_hormone_gonado', 'Pre_OP_hormone_somato',\n",
    "       'Pre_OP_hormone_thyreo', 'Pre_OP_hormone_hyperprolaktin',\n",
    "       'Pre_OP_hormone_keine', 'Pre_OP_hormone_intakt', 'Label_Quality']],how='inner',left_on=['Patient_ID'],right_on=['Patient_ID'])"
   ]
  },
  {
   "cell_type": "code",
   "execution_count": 65,
   "metadata": {},
   "outputs": [],
   "source": [
    "full_merged = full_merged.sort_values('Patient_ID')"
   ]
  },
  {
   "cell_type": "code",
   "execution_count": 66,
   "metadata": {},
   "outputs": [],
   "source": [
    "assert full_merged.duplicated(subset=['Patient_ID','Case_ID']).sum() == 0"
   ]
  },
  {
   "cell_type": "code",
   "execution_count": 67,
   "metadata": {},
   "outputs": [],
   "source": [
    "full_merged.to_csv(r'../raw_data/data_full_merge.csv',index=False)"
   ]
  },
  {
   "cell_type": "code",
   "execution_count": null,
   "metadata": {},
   "outputs": [],
   "source": []
  }
 ],
 "metadata": {
  "kernelspec": {
   "display_name": "AgroLuege--zjmSdF3",
   "language": "python",
   "name": "python3"
  },
  "language_info": {
   "codemirror_mode": {
    "name": "ipython",
    "version": 3
   },
   "file_extension": ".py",
   "mimetype": "text/x-python",
   "name": "python",
   "nbconvert_exporter": "python",
   "pygments_lexer": "ipython3",
   "version": "3.10.5"
  }
 },
 "nbformat": 4,
 "nbformat_minor": 2
}
