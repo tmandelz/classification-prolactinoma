{
 "cells": [
  {
   "cell_type": "markdown",
   "metadata": {},
   "source": [
    "# Data Cleaning and Selection\n",
    "\n"
   ]
  },
  {
   "cell_type": "markdown",
   "metadata": {},
   "source": [
    "## Imports and Read"
   ]
  },
  {
   "cell_type": "code",
   "execution_count": 1,
   "metadata": {},
   "outputs": [],
   "source": [
    "import pandas as pd\n",
    "import datetime"
   ]
  },
  {
   "cell_type": "code",
   "execution_count": 2,
   "metadata": {},
   "outputs": [
    {
     "name": "stdout",
     "output_type": "stream",
     "text": [
      "Start Clean and Preprocessing\n"
     ]
    }
   ],
   "source": [
    "print(\"Start Clean and Preprocessing\")"
   ]
  },
  {
   "cell_type": "code",
   "execution_count": 3,
   "metadata": {},
   "outputs": [],
   "source": [
    "df = pd.read_excel(r'../raw_data/Hypophysenpatienten.xlsx',sheet_name='no duplicate PID')"
   ]
  },
  {
   "cell_type": "code",
   "execution_count": 4,
   "metadata": {},
   "outputs": [
    {
     "data": {
      "text/plain": [
       "Index(['%ID', 'Fall Nr.', 'Datum/Zeit', 'Arbeitsplatz.Kürzel', 'Aufnahmeart',\n",
       "       'PID', 'Grösse', 'Ausfälle prä', 'Prolaktin', 'TSH', 'IGF1',\n",
       "       'weiteres Labor', 'Qualität', 'ED', 'OP Datum', 'Ausfälle post',\n",
       "       'Diagnose', 'Kategorie', 'Patient Alter'],\n",
       "      dtype='object')"
      ]
     },
     "execution_count": 4,
     "metadata": {},
     "output_type": "execute_result"
    }
   ],
   "source": [
    "df.columns"
   ]
  },
  {
   "cell_type": "markdown",
   "metadata": {},
   "source": [
    "## Basic Cleaning, Column Selection, Anomaly Correction and Format definition"
   ]
  },
  {
   "cell_type": "code",
   "execution_count": 5,
   "metadata": {},
   "outputs": [],
   "source": [
    "# define needed columns\n",
    "column_list = ['Fall Nr.','PID',\"Datum/Zeit\",\"Arbeitsplatz.Kürzel\",'Grösse',\n",
    "       'Ausfälle prä', 'Qualität', 'ED','OP Datum', 'Ausfälle post',\n",
    "       'Diagnose', 'Kategorie', 'Patient Alter','Prolaktin', 'TSH',\"IGF1\"]\n"
   ]
  },
  {
   "cell_type": "code",
   "execution_count": 6,
   "metadata": {},
   "outputs": [],
   "source": [
    "#TODO: check Tristan\n",
    "# not parseable correct values corrected\n",
    "df.loc[3,'ED'] = datetime.datetime(2006,1,1,0,0,0,0)\n",
    "df.loc[12,'ED'] = datetime.datetime(2008,1,1,0,0,0,0)\n",
    "\n",
    "#TODO: check Tristan\n",
    "# correct a value which is not datetime parseable\n",
    "df.loc[df['OP Datum'] == '2006, 2009', 'OP Datum'] = datetime.datetime(2006,1,1,0,0,0,0)"
   ]
  },
  {
   "cell_type": "code",
   "execution_count": 7,
   "metadata": {},
   "outputs": [],
   "source": [
    "# make datetime values\n",
    "df[\"Datum/Zeit\"] = pd.to_datetime(df[\"Datum/Zeit\"])\n",
    "df[\"ED\"] = pd.to_datetime(df[\"ED\"])\n",
    "df[\"OP Datum\"] = pd.to_datetime(df[\"OP Datum\"])"
   ]
  },
  {
   "cell_type": "code",
   "execution_count": 8,
   "metadata": {},
   "outputs": [
    {
     "data": {
      "text/html": [
       "<div>\n",
       "<style scoped>\n",
       "    .dataframe tbody tr th:only-of-type {\n",
       "        vertical-align: middle;\n",
       "    }\n",
       "\n",
       "    .dataframe tbody tr th {\n",
       "        vertical-align: top;\n",
       "    }\n",
       "\n",
       "    .dataframe thead th {\n",
       "        text-align: right;\n",
       "    }\n",
       "</style>\n",
       "<table border=\"1\" class=\"dataframe\">\n",
       "  <thead>\n",
       "    <tr style=\"text-align: right;\">\n",
       "      <th></th>\n",
       "      <th>ED</th>\n",
       "      <th>OP Datum</th>\n",
       "    </tr>\n",
       "  </thead>\n",
       "  <tbody>\n",
       "    <tr>\n",
       "      <th>4</th>\n",
       "      <td>2021-10-01</td>\n",
       "      <td>2021-01-01</td>\n",
       "    </tr>\n",
       "    <tr>\n",
       "      <th>20</th>\n",
       "      <td>2023-09-02</td>\n",
       "      <td>2009-02-18</td>\n",
       "    </tr>\n",
       "    <tr>\n",
       "      <th>33</th>\n",
       "      <td>2023-10-12</td>\n",
       "      <td>2012-03-19</td>\n",
       "    </tr>\n",
       "  </tbody>\n",
       "</table>\n",
       "</div>"
      ],
      "text/plain": [
       "           ED   OP Datum\n",
       "4  2021-10-01 2021-01-01\n",
       "20 2023-09-02 2009-02-18\n",
       "33 2023-10-12 2012-03-19"
      ]
     },
     "execution_count": 8,
     "metadata": {},
     "output_type": "execute_result"
    }
   ],
   "source": [
    "# TODO: anomaly? check tristan\n",
    "# rows where Entry Date is after Operationdate?\n",
    "df[df['OP Datum'] < df['ED']][['ED','OP Datum']]"
   ]
  },
  {
   "cell_type": "code",
   "execution_count": 9,
   "metadata": {},
   "outputs": [],
   "source": [
    "# Patient ID Duplicate Check\n",
    "assert len(df[df[\"PID\"].duplicated()]) == 0\n",
    "\n",
    "# Case Nr Duplicate Check\n",
    "assert len(df[df[\"Fall Nr.\"].duplicated()]) == 0"
   ]
  },
  {
   "cell_type": "code",
   "execution_count": 10,
   "metadata": {},
   "outputs": [],
   "source": [
    "# select and rename columns\n",
    "df = df[column_list]\n",
    "df= df.rename(columns={\"Fall Nr.\": \"Case_ID\",\"PID\": \"Patient_ID\",\n",
    "                       \"Datum/Zeit\": \"Date_MRI\",\"ED\": \"Entry_date\", \"OP Datum\": \"Operation_date\",\n",
    "                       \"Arbeitsplatz.Kürzel\":\"ID_MRI_Machine\",\"Grösse\": \"Adenoma_size\",\"Qualität\": \"Label_Quality\",\n",
    "                       \"Patient Alter\":\"Patient_age\",\"Kategorie\":\"Category\",\"Diagnose\":\"Diagnosis\",\n",
    "                       \"Prolaktin\":\"Prolactin\",\"weiteres Labor\":\"Lab_additional\"})"
   ]
  },
  {
   "cell_type": "code",
   "execution_count": 11,
   "metadata": {},
   "outputs": [
    {
     "data": {
      "text/plain": [
       "Case_ID                    int64\n",
       "Patient_ID                 int64\n",
       "Date_MRI          datetime64[ns]\n",
       "ID_MRI_Machine          category\n",
       "Adenoma_size            category\n",
       "Ausfälle prä              object\n",
       "Label_Quality           category\n",
       "Entry_date        datetime64[ns]\n",
       "Operation_date    datetime64[ns]\n",
       "Ausfälle post             object\n",
       "Diagnosis               category\n",
       "Category                category\n",
       "Patient_age                int64\n",
       "Prolactin                float64\n",
       "TSH                      float64\n",
       "IGF1                     float64\n",
       "dtype: object"
      ]
     },
     "execution_count": 11,
     "metadata": {},
     "output_type": "execute_result"
    }
   ],
   "source": [
    "# set category data type in pandas, check datatypes\n",
    "df['ID_MRI_Machine'] = df['ID_MRI_Machine'].astype('category')\n",
    "df['Adenoma_size'] = df['Adenoma_size'].astype('category')\n",
    "df['Label_Quality'] = df['Label_Quality'].astype('category')\n",
    "df['Diagnosis'] = df['Diagnosis'].astype('category')\n",
    "df['Category'] = df['Category'].astype('category')\n",
    "df.dtypes"
   ]
  },
  {
   "cell_type": "code",
   "execution_count": 12,
   "metadata": {},
   "outputs": [],
   "source": [
    "# replace and correct wrong namings from labelers\n",
    "df[\"Ausfälle prä\"]= df[\"Ausfälle prä\"].str.replace(\"intak\",\"intakt\")\n",
    "df[\"Ausfälle prä\"]= df[\"Ausfälle prä\"].str.replace(\"goando\",\"gonado\")\n",
    "df[\"Ausfälle post\"]= df[\"Ausfälle post\"].str.replace(\"goando\",\"gonado\")\n",
    "df[\"Ausfälle post\"]= df[\"Ausfälle post\"].str.replace(\"adh\",\"ADH\")"
   ]
  },
  {
   "cell_type": "markdown",
   "metadata": {},
   "source": [
    "## One Hot Encode Categorical Values\n",
    "\n",
    "To use and analyse the categorical data we need to one-hot encode them. This is done by splitting the comma separated strings into single strings and then create a one-hot-encoded column of each individual value. This column is then added to the original dataframe."
   ]
  },
  {
   "cell_type": "code",
   "execution_count": 13,
   "metadata": {},
   "outputs": [],
   "source": [
    "# Split the 'Ausfälle prä' column into separate strings\n",
    "df['Ausfälle prä'] = df['Ausfälle prä'].str.split(', ')\n",
    "# Create a set to store all unique disfunctions\n",
    "unique_disfunctions = set()\n",
    "\n",
    "# Iterate over the 'Ausfälle prä' column to gather unique disfunctions\n",
    "for value in df['Ausfälle prä']:\n",
    "    if isinstance(value, list):\n",
    "        unique_disfunctions.update(value)\n",
    "    elif isinstance(value, str):\n",
    "        unique_disfunctions.add(value)\n",
    "\n",
    "# Iterate over the unique disfunctions and create one-hot encoded columns\n",
    "for disfunction in unique_disfunctions:\n",
    "    df[\"Pre_OP_hormone_\"+ disfunction] = df['Ausfälle prä'].apply(lambda x: 1 if (isinstance(x, list) and disfunction in x) or (x == disfunction) else 0)\n",
    "# drop the original 'Ausfälle prä' column\n",
    "df = df.drop('Ausfälle prä', axis=1)"
   ]
  },
  {
   "cell_type": "code",
   "execution_count": 14,
   "metadata": {},
   "outputs": [],
   "source": [
    "# Split the 'Ausfälle post' column into separate strings\n",
    "df['Ausfälle post'] = df['Ausfälle post'].str.split(', ')\n",
    "\n",
    "# Create a set to store all unique disfunctions\n",
    "unique_disfunctions = set()\n",
    "\n",
    "# Iterate over the 'Ausfälle post' column to gather unique disfunctions\n",
    "for value in df['Ausfälle post']:\n",
    "    if isinstance(value, list):\n",
    "        unique_disfunctions.update(value)\n",
    "    elif isinstance(value, str):\n",
    "        unique_disfunctions.add(value)\n",
    "\n",
    "# Iterate over the unique disfunctions and create one-hot encoded columns\n",
    "for disfunction in unique_disfunctions:\n",
    "    df[\"Post_OP_hormone_\"+ disfunction] = df['Ausfälle post'].apply(lambda x: 1 if (isinstance(x, list) and disfunction in x) or (x == disfunction) else 0)\n",
    "\n",
    "# drop the original 'Ausfälle post' column\n",
    "df = df.drop('Ausfälle post', axis=1)"
   ]
  },
  {
   "cell_type": "code",
   "execution_count": 15,
   "metadata": {},
   "outputs": [],
   "source": [
    "df.to_csv(r'../raw_data/label_data.csv',index=False)"
   ]
  },
  {
   "cell_type": "code",
   "execution_count": 16,
   "metadata": {},
   "outputs": [
    {
     "name": "stdout",
     "output_type": "stream",
     "text": [
      "End Clean and Preprocessing\n"
     ]
    }
   ],
   "source": [
    "print(\"End Clean and Preprocessing\")"
   ]
  }
 ],
 "metadata": {
  "kernelspec": {
   "display_name": "AgroLuege--zjmSdF3",
   "language": "python",
   "name": "python3"
  },
  "language_info": {
   "codemirror_mode": {
    "name": "ipython",
    "version": 3
   },
   "file_extension": ".py",
   "mimetype": "text/x-python",
   "name": "python",
   "nbconvert_exporter": "python",
   "pygments_lexer": "ipython3",
   "version": "3.10.5"
  }
 },
 "nbformat": 4,
 "nbformat_minor": 2
}
