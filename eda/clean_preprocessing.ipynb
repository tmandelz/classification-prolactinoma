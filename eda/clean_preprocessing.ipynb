{
 "cells": [
  {
   "cell_type": "markdown",
   "metadata": {},
   "source": [
    "# Data Cleaning\n",
    "\n",
    "This notebook is used to clean and combine all datasources into a coherent dataset. \n",
    "\n",
    "We have three different data groups:\n",
    "* Label & Patient Data\n",
    "* Lab Data\n",
    "* MRI Data\n",
    "\n",
    "All of these have to be cleaned, selected and combined into one dataset."
   ]
  },
  {
   "cell_type": "markdown",
   "metadata": {},
   "source": [
    "## Imports"
   ]
  },
  {
   "cell_type": "code",
   "execution_count": 1,
   "metadata": {},
   "outputs": [],
   "source": [
    "import pandas as pd\n",
    "import datetime\n",
    "import numpy as np\n",
    "import re"
   ]
  },
  {
   "cell_type": "markdown",
   "metadata": {},
   "source": [
    "# Data Cleaning and Selection Label & Patient-data\n",
    "First we will clean the data for our labels and patients. This includes the basic cleaning and data type matching as well as looking at anomalies and define the output format. We will use the prepared 'no duplicate PID' Sheet with Labels from KSA."
   ]
  },
  {
   "cell_type": "code",
   "execution_count": 2,
   "metadata": {},
   "outputs": [
    {
     "name": "stdout",
     "output_type": "stream",
     "text": [
      "Start Clean and Preprocessing patients-data\n"
     ]
    }
   ],
   "source": [
    "print(\"Start Clean and Preprocessing patients-data\")"
   ]
  },
  {
   "cell_type": "code",
   "execution_count": 3,
   "metadata": {},
   "outputs": [
    {
     "data": {
      "text/html": [
       "<div>\n",
       "<style scoped>\n",
       "    .dataframe tbody tr th:only-of-type {\n",
       "        vertical-align: middle;\n",
       "    }\n",
       "\n",
       "    .dataframe tbody tr th {\n",
       "        vertical-align: top;\n",
       "    }\n",
       "\n",
       "    .dataframe thead th {\n",
       "        text-align: right;\n",
       "    }\n",
       "</style>\n",
       "<table border=\"1\" class=\"dataframe\">\n",
       "  <thead>\n",
       "    <tr style=\"text-align: right;\">\n",
       "      <th></th>\n",
       "      <th>%ID</th>\n",
       "      <th>Fall Nr.</th>\n",
       "      <th>Datum/Zeit</th>\n",
       "      <th>Modalität</th>\n",
       "      <th>Exam Code</th>\n",
       "      <th>Exam Name</th>\n",
       "      <th>Abteilung</th>\n",
       "      <th>Arbeitsplatz.Kürzel</th>\n",
       "      <th>Aufnahmeart</th>\n",
       "      <th>PID</th>\n",
       "      <th>...</th>\n",
       "      <th>ED</th>\n",
       "      <th>OP Datum</th>\n",
       "      <th>Ausfälle post</th>\n",
       "      <th>Diagnose</th>\n",
       "      <th>Kategorie</th>\n",
       "      <th>Patient Alter</th>\n",
       "      <th>Zuweiser</th>\n",
       "      <th>AnforderungDatum</th>\n",
       "      <th>ÜberweiserIntern.Bereich</th>\n",
       "      <th>ÜberweiserIntern.Klinik</th>\n",
       "    </tr>\n",
       "  </thead>\n",
       "  <tbody>\n",
       "    <tr>\n",
       "      <th>0</th>\n",
       "      <td>7618491</td>\n",
       "      <td>40323241</td>\n",
       "      <td>2018-01-16 08:00:00</td>\n",
       "      <td>M-MR</td>\n",
       "      <td>MNDSHYP</td>\n",
       "      <td>MR Hypophyse</td>\n",
       "      <td>MRN</td>\n",
       "      <td>MRI3</td>\n",
       "      <td>Amb</td>\n",
       "      <td>300071920</td>\n",
       "      <td>...</td>\n",
       "      <td>2017-07-01</td>\n",
       "      <td>2017-09-06</td>\n",
       "      <td>keine</td>\n",
       "      <td>acth</td>\n",
       "      <td>non-prolaktinom</td>\n",
       "      <td>57</td>\n",
       "      <td>Berkmann Sven</td>\n",
       "      <td>-</td>\n",
       "      <td>KCH</td>\n",
       "      <td>Neurochirurgie</td>\n",
       "    </tr>\n",
       "    <tr>\n",
       "      <th>1</th>\n",
       "      <td>7890123</td>\n",
       "      <td>40681080</td>\n",
       "      <td>2019-04-02 12:24:00</td>\n",
       "      <td>M-MR</td>\n",
       "      <td>MNDSHYP</td>\n",
       "      <td>MR Hypophyse</td>\n",
       "      <td>MRN</td>\n",
       "      <td>MRI2</td>\n",
       "      <td>Amb</td>\n",
       "      <td>666184</td>\n",
       "      <td>...</td>\n",
       "      <td>2012-09-14</td>\n",
       "      <td>2012-09-19</td>\n",
       "      <td>keine</td>\n",
       "      <td>acth</td>\n",
       "      <td>non-prolaktinom</td>\n",
       "      <td>69</td>\n",
       "      <td>Neurochir</td>\n",
       "      <td>2019-03-11 10:32:13.0000000</td>\n",
       "      <td>KCH</td>\n",
       "      <td>Neurochirurgie</td>\n",
       "    </tr>\n",
       "    <tr>\n",
       "      <th>2</th>\n",
       "      <td>8930353</td>\n",
       "      <td>41725372</td>\n",
       "      <td>2023-05-05 07:54:00</td>\n",
       "      <td>M-MR</td>\n",
       "      <td>MNDSHYP</td>\n",
       "      <td>MR Hypophyse</td>\n",
       "      <td>MRN</td>\n",
       "      <td>MRI2</td>\n",
       "      <td>Amb</td>\n",
       "      <td>543641</td>\n",
       "      <td>...</td>\n",
       "      <td>2006-01-01</td>\n",
       "      <td>2009-06-04</td>\n",
       "      <td>keine</td>\n",
       "      <td>acth</td>\n",
       "      <td>non-prolaktinom</td>\n",
       "      <td>39</td>\n",
       "      <td>Endo</td>\n",
       "      <td>2023-03-02 14:52:07.0000000</td>\n",
       "      <td>MUK</td>\n",
       "      <td>Endokrinologie</td>\n",
       "    </tr>\n",
       "    <tr>\n",
       "      <th>3</th>\n",
       "      <td>8922755</td>\n",
       "      <td>41668452</td>\n",
       "      <td>2023-04-11 07:34:00</td>\n",
       "      <td>M-MR</td>\n",
       "      <td>MNDSHYP</td>\n",
       "      <td>MR Hypophyse</td>\n",
       "      <td>MRN</td>\n",
       "      <td>MRI4</td>\n",
       "      <td>Amb</td>\n",
       "      <td>300038107</td>\n",
       "      <td>...</td>\n",
       "      <td>2023-09-01</td>\n",
       "      <td>2023-09-14</td>\n",
       "      <td>keine</td>\n",
       "      <td>acth</td>\n",
       "      <td>non-prolaktinom</td>\n",
       "      <td>49</td>\n",
       "      <td>Endo</td>\n",
       "      <td>2023-02-22 10:37:41.0000000</td>\n",
       "      <td>MUK</td>\n",
       "      <td>Endokrinologie</td>\n",
       "    </tr>\n",
       "    <tr>\n",
       "      <th>4</th>\n",
       "      <td>8876899</td>\n",
       "      <td>41704243</td>\n",
       "      <td>2023-03-30 09:15:00</td>\n",
       "      <td>M-MR</td>\n",
       "      <td>MNDSHYP</td>\n",
       "      <td>MR Hypophyse</td>\n",
       "      <td>MRN</td>\n",
       "      <td>MRI1</td>\n",
       "      <td>Amb</td>\n",
       "      <td>287347</td>\n",
       "      <td>...</td>\n",
       "      <td>2022-06-01</td>\n",
       "      <td>2022-12-20</td>\n",
       "      <td>keine</td>\n",
       "      <td>acth</td>\n",
       "      <td>non-prolaktinom</td>\n",
       "      <td>25</td>\n",
       "      <td>Neurochir</td>\n",
       "      <td>2022-12-28 15:12:30.0000000</td>\n",
       "      <td>KCH</td>\n",
       "      <td>Neurochirurgie</td>\n",
       "    </tr>\n",
       "  </tbody>\n",
       "</table>\n",
       "<p>5 rows × 28 columns</p>\n",
       "</div>"
      ],
      "text/plain": [
       "       %ID  Fall Nr.          Datum/Zeit Modalität Exam Code     Exam Name  \\\n",
       "0  7618491  40323241 2018-01-16 08:00:00      M-MR   MNDSHYP  MR Hypophyse   \n",
       "1  7890123  40681080 2019-04-02 12:24:00      M-MR   MNDSHYP  MR Hypophyse   \n",
       "2  8930353  41725372 2023-05-05 07:54:00      M-MR   MNDSHYP  MR Hypophyse   \n",
       "3  8922755  41668452 2023-04-11 07:34:00      M-MR   MNDSHYP  MR Hypophyse   \n",
       "4  8876899  41704243 2023-03-30 09:15:00      M-MR   MNDSHYP  MR Hypophyse   \n",
       "\n",
       "  Abteilung Arbeitsplatz.Kürzel Aufnahmeart        PID  ...         ED  \\\n",
       "0       MRN                MRI3         Amb  300071920  ... 2017-07-01   \n",
       "1       MRN                MRI2         Amb     666184  ... 2012-09-14   \n",
       "2       MRN                MRI2         Amb     543641  ... 2006-01-01   \n",
       "3       MRN                MRI4         Amb  300038107  ... 2023-09-01   \n",
       "4       MRN                MRI1         Amb     287347  ... 2022-06-01   \n",
       "\n",
       "    OP Datum Ausfälle post Diagnose        Kategorie Patient Alter  \\\n",
       "0 2017-09-06         keine     acth  non-prolaktinom            57   \n",
       "1 2012-09-19         keine     acth  non-prolaktinom            69   \n",
       "2 2009-06-04         keine     acth  non-prolaktinom            39   \n",
       "3 2023-09-14         keine     acth  non-prolaktinom            49   \n",
       "4 2022-12-20         keine     acth  non-prolaktinom            25   \n",
       "\n",
       "        Zuweiser             AnforderungDatum ÜberweiserIntern.Bereich  \\\n",
       "0  Berkmann Sven                            -                      KCH   \n",
       "1      Neurochir  2019-03-11 10:32:13.0000000                      KCH   \n",
       "2           Endo  2023-03-02 14:52:07.0000000                      MUK   \n",
       "3           Endo  2023-02-22 10:37:41.0000000                      MUK   \n",
       "4      Neurochir  2022-12-28 15:12:30.0000000                      KCH   \n",
       "\n",
       "  ÜberweiserIntern.Klinik  \n",
       "0          Neurochirurgie  \n",
       "1          Neurochirurgie  \n",
       "2          Endokrinologie  \n",
       "3          Endokrinologie  \n",
       "4          Neurochirurgie  \n",
       "\n",
       "[5 rows x 28 columns]"
      ]
     },
     "execution_count": 3,
     "metadata": {},
     "output_type": "execute_result"
    }
   ],
   "source": [
    "df_patients = pd.read_excel(r'../raw_data/Hypophysenpatienten.xlsx',sheet_name='no duplicate PID')\n",
    "df_patients.head()"
   ]
  },
  {
   "cell_type": "code",
   "execution_count": 4,
   "metadata": {},
   "outputs": [
    {
     "data": {
      "text/html": [
       "<div>\n",
       "<style scoped>\n",
       "    .dataframe tbody tr th:only-of-type {\n",
       "        vertical-align: middle;\n",
       "    }\n",
       "\n",
       "    .dataframe tbody tr th {\n",
       "        vertical-align: top;\n",
       "    }\n",
       "\n",
       "    .dataframe thead th {\n",
       "        text-align: right;\n",
       "    }\n",
       "</style>\n",
       "<table border=\"1\" class=\"dataframe\">\n",
       "  <thead>\n",
       "    <tr style=\"text-align: right;\">\n",
       "      <th></th>\n",
       "      <th>%ID</th>\n",
       "      <th>Fall Nr.</th>\n",
       "      <th>Datum/Zeit</th>\n",
       "      <th>Modalität</th>\n",
       "      <th>Exam Code</th>\n",
       "      <th>Exam Name</th>\n",
       "      <th>Abteilung</th>\n",
       "      <th>Arbeitsplatz.Kürzel</th>\n",
       "      <th>Aufnahmeart</th>\n",
       "      <th>PID</th>\n",
       "      <th>...</th>\n",
       "      <th>ED</th>\n",
       "      <th>OP Datum</th>\n",
       "      <th>Ausfälle post</th>\n",
       "      <th>Diagnose</th>\n",
       "      <th>Kategorie</th>\n",
       "      <th>Patient Alter</th>\n",
       "      <th>Zuweiser</th>\n",
       "      <th>AnforderungDatum</th>\n",
       "      <th>ÜberweiserIntern.Bereich</th>\n",
       "      <th>ÜberweiserIntern.Klinik</th>\n",
       "    </tr>\n",
       "  </thead>\n",
       "  <tbody>\n",
       "    <tr>\n",
       "      <th>521</th>\n",
       "      <td>8423601</td>\n",
       "      <td>41232930</td>\n",
       "      <td>2021-06-02 16:39:00</td>\n",
       "      <td>M-MR</td>\n",
       "      <td>MNDSHYP</td>\n",
       "      <td>MR Hypophyse</td>\n",
       "      <td>MRN</td>\n",
       "      <td>MRI3</td>\n",
       "      <td>Amb</td>\n",
       "      <td>300090571</td>\n",
       "      <td>...</td>\n",
       "      <td>NaT</td>\n",
       "      <td>NaT</td>\n",
       "      <td>NaN</td>\n",
       "      <td>NaN</td>\n",
       "      <td>NaN</td>\n",
       "      <td>25</td>\n",
       "      <td>Vavanikunnel Janina</td>\n",
       "      <td>2021-05-27 13:27:37.0000000</td>\n",
       "      <td>-</td>\n",
       "      <td>-</td>\n",
       "    </tr>\n",
       "    <tr>\n",
       "      <th>522</th>\n",
       "      <td>7845502</td>\n",
       "      <td>40635309</td>\n",
       "      <td>2019-04-17 10:26:00</td>\n",
       "      <td>M-MR</td>\n",
       "      <td>MNDSHYP</td>\n",
       "      <td>MR Hypophyse</td>\n",
       "      <td>MRN</td>\n",
       "      <td>MRI1</td>\n",
       "      <td>Amb</td>\n",
       "      <td>300096301</td>\n",
       "      <td>...</td>\n",
       "      <td>1992-01-01</td>\n",
       "      <td>NaT</td>\n",
       "      <td>NaN</td>\n",
       "      <td>NaN</td>\n",
       "      <td>prolaktinom</td>\n",
       "      <td>50</td>\n",
       "      <td>Endo</td>\n",
       "      <td>2018-12-18 08:29:21.0000000</td>\n",
       "      <td>MUK</td>\n",
       "      <td>Endokrinologie</td>\n",
       "    </tr>\n",
       "    <tr>\n",
       "      <th>523</th>\n",
       "      <td>8081681</td>\n",
       "      <td>40702559</td>\n",
       "      <td>2020-02-06 12:15:00</td>\n",
       "      <td>M-MR</td>\n",
       "      <td>MNDSHYP</td>\n",
       "      <td>MR Hypophyse</td>\n",
       "      <td>MRN</td>\n",
       "      <td>MRI1</td>\n",
       "      <td>Amb</td>\n",
       "      <td>300109121</td>\n",
       "      <td>...</td>\n",
       "      <td>2019-03-01</td>\n",
       "      <td>2019-03-25</td>\n",
       "      <td>somato, gonado, thyreo, cortico</td>\n",
       "      <td>NaN</td>\n",
       "      <td>non-prolaktinom</td>\n",
       "      <td>73</td>\n",
       "      <td>Neurochir</td>\n",
       "      <td>2020-01-08 11:45:03.0000000</td>\n",
       "      <td>KCH</td>\n",
       "      <td>Neurochirurgie</td>\n",
       "    </tr>\n",
       "    <tr>\n",
       "      <th>524</th>\n",
       "      <td>8333635</td>\n",
       "      <td>41036720</td>\n",
       "      <td>2021-02-12 06:54:00</td>\n",
       "      <td>M-MR</td>\n",
       "      <td>MNDSHYP</td>\n",
       "      <td>MR Hypophyse</td>\n",
       "      <td>MRN</td>\n",
       "      <td>MRI3</td>\n",
       "      <td>Amb</td>\n",
       "      <td>631002</td>\n",
       "      <td>...</td>\n",
       "      <td>2021-02-12</td>\n",
       "      <td>NaT</td>\n",
       "      <td>NaN</td>\n",
       "      <td>NaN</td>\n",
       "      <td>normalbefund</td>\n",
       "      <td>34</td>\n",
       "      <td>Neurologie</td>\n",
       "      <td>2021-01-22 10:23:29.0000000</td>\n",
       "      <td>MUK</td>\n",
       "      <td>Neurologie</td>\n",
       "    </tr>\n",
       "    <tr>\n",
       "      <th>525</th>\n",
       "      <td>7644227</td>\n",
       "      <td>40404631</td>\n",
       "      <td>2018-04-24 12:52:00</td>\n",
       "      <td>M-MR</td>\n",
       "      <td>MNDSHYP</td>\n",
       "      <td>MR Hypophyse</td>\n",
       "      <td>MRN</td>\n",
       "      <td>MRI3</td>\n",
       "      <td>Amb</td>\n",
       "      <td>787335</td>\n",
       "      <td>...</td>\n",
       "      <td>NaT</td>\n",
       "      <td>NaT</td>\n",
       "      <td>NaN</td>\n",
       "      <td>NaN</td>\n",
       "      <td>NaN</td>\n",
       "      <td>67</td>\n",
       "      <td>Berkmann Sven</td>\n",
       "      <td>2017-12-05 12:38:58.0000000</td>\n",
       "      <td>KCH</td>\n",
       "      <td>Neurochirurgie</td>\n",
       "    </tr>\n",
       "  </tbody>\n",
       "</table>\n",
       "<p>5 rows × 28 columns</p>\n",
       "</div>"
      ],
      "text/plain": [
       "         %ID  Fall Nr.          Datum/Zeit Modalität Exam Code     Exam Name  \\\n",
       "521  8423601  41232930 2021-06-02 16:39:00      M-MR   MNDSHYP  MR Hypophyse   \n",
       "522  7845502  40635309 2019-04-17 10:26:00      M-MR   MNDSHYP  MR Hypophyse   \n",
       "523  8081681  40702559 2020-02-06 12:15:00      M-MR   MNDSHYP  MR Hypophyse   \n",
       "524  8333635  41036720 2021-02-12 06:54:00      M-MR   MNDSHYP  MR Hypophyse   \n",
       "525  7644227  40404631 2018-04-24 12:52:00      M-MR   MNDSHYP  MR Hypophyse   \n",
       "\n",
       "    Abteilung Arbeitsplatz.Kürzel Aufnahmeart        PID  ...         ED  \\\n",
       "521       MRN                MRI3         Amb  300090571  ...        NaT   \n",
       "522       MRN                MRI1         Amb  300096301  ... 1992-01-01   \n",
       "523       MRN                MRI1         Amb  300109121  ... 2019-03-01   \n",
       "524       MRN                MRI3         Amb     631002  ... 2021-02-12   \n",
       "525       MRN                MRI3         Amb     787335  ...        NaT   \n",
       "\n",
       "      OP Datum                    Ausfälle post Diagnose        Kategorie  \\\n",
       "521        NaT                              NaN      NaN              NaN   \n",
       "522        NaT                              NaN      NaN      prolaktinom   \n",
       "523 2019-03-25  somato, gonado, thyreo, cortico      NaN  non-prolaktinom   \n",
       "524        NaT                              NaN      NaN     normalbefund   \n",
       "525        NaT                              NaN      NaN              NaN   \n",
       "\n",
       "    Patient Alter             Zuweiser             AnforderungDatum  \\\n",
       "521            25  Vavanikunnel Janina  2021-05-27 13:27:37.0000000   \n",
       "522            50                 Endo  2018-12-18 08:29:21.0000000   \n",
       "523            73            Neurochir  2020-01-08 11:45:03.0000000   \n",
       "524            34           Neurologie  2021-01-22 10:23:29.0000000   \n",
       "525            67        Berkmann Sven  2017-12-05 12:38:58.0000000   \n",
       "\n",
       "    ÜberweiserIntern.Bereich ÜberweiserIntern.Klinik  \n",
       "521                        -                       -  \n",
       "522                      MUK          Endokrinologie  \n",
       "523                      KCH          Neurochirurgie  \n",
       "524                      MUK              Neurologie  \n",
       "525                      KCH          Neurochirurgie  \n",
       "\n",
       "[5 rows x 28 columns]"
      ]
     },
     "execution_count": 4,
     "metadata": {},
     "output_type": "execute_result"
    }
   ],
   "source": [
    "df_patients.tail()"
   ]
  },
  {
   "cell_type": "code",
   "execution_count": 5,
   "metadata": {},
   "outputs": [
    {
     "data": {
      "text/plain": [
       "Index(['%ID', 'Fall Nr.', 'Datum/Zeit', 'Modalität', 'Exam Code', 'Exam Name',\n",
       "       'Abteilung', 'Arbeitsplatz.Kürzel', 'Aufnahmeart', 'PID', 'Grösse',\n",
       "       'Ausfälle prä', 'Prolaktin', 'IGF1', 'Cortisol', 'fT4',\n",
       "       'weiteres Labor', 'Qualität', 'ED', 'OP Datum', 'Ausfälle post',\n",
       "       'Diagnose', 'Kategorie', 'Patient Alter', 'Zuweiser',\n",
       "       'AnforderungDatum', 'ÜberweiserIntern.Bereich',\n",
       "       'ÜberweiserIntern.Klinik'],\n",
       "      dtype='object')"
      ]
     },
     "execution_count": 5,
     "metadata": {},
     "output_type": "execute_result"
    }
   ],
   "source": [
    "df_patients.columns"
   ]
  },
  {
   "cell_type": "markdown",
   "metadata": {},
   "source": [
    "## Basic Cleaning, Column Selection, Anomaly Correction and Format definition\n"
   ]
  },
  {
   "cell_type": "markdown",
   "metadata": {},
   "source": [
    "### Column Selection\n",
    "First we select only the columns which have value to our model or our analysis. Some columns are already renamed to make their content more intuitive."
   ]
  },
  {
   "cell_type": "code",
   "execution_count": 6,
   "metadata": {},
   "outputs": [],
   "source": [
    "# define needed columns\n",
    "column_list = ['PID','Fall Nr.',\"Datum/Zeit\",\"Arbeitsplatz.Kürzel\",'Grösse',\n",
    "       'Ausfälle prä', 'Qualität', 'ED','OP Datum',\n",
    "       'Diagnose', 'Kategorie', 'Patient Alter',\n",
    "       'Prolaktin',\"IGF1\", 'Cortisol','fT4','weiteres Labor']\n",
    "df_patients = df_patients[column_list]\n",
    "# rename columns\n",
    "df_patients= df_patients.rename(columns={\"Fall Nr.\": \"Case_ID\",\"PID\": \"Patient_ID\",\n",
    "                       \"Datum/Zeit\": \"Date_Case\",\"ED\": \"Entry_date\", \"OP Datum\": \"Operation_date\",\n",
    "                       \"Arbeitsplatz.Kürzel\":\"ID_MRI_Machine\",\"Grösse\": \"Adenoma_size\",\"Qualität\": \"Label_Quality\",\n",
    "                       \"Patient Alter\":\"Patient_age\",\"Kategorie\":\"Category\",\"Diagnose\":\"Diagnosis\",\n",
    "                       \"Prolaktin\":\"Prolactin\",\"weiteres Labor\":\"Lab_additional\"})"
   ]
  },
  {
   "cell_type": "markdown",
   "metadata": {},
   "source": [
    "### Check for Anomalies and correct them\n",
    "There are some Anomalies mostly in the datetime columns (eg. Operation date before Entry Date). These are corrected or were corrected by the KSA after feedback from us. "
   ]
  },
  {
   "cell_type": "code",
   "execution_count": 7,
   "metadata": {},
   "outputs": [],
   "source": [
    "# rows where Entry Date is after Operationdate?\n",
    "assert len(df_patients[df_patients['Operation_date'] < df_patients['Entry_date']][['Entry_date','Operation_date']]) ==0"
   ]
  },
  {
   "cell_type": "markdown",
   "metadata": {},
   "source": [
    "### Data Type Definition\n",
    "Now we check the column data-types and parse them into their resprective type if not already correct.\n"
   ]
  },
  {
   "cell_type": "code",
   "execution_count": 8,
   "metadata": {},
   "outputs": [],
   "source": [
    "# make datetime values\n",
    "df_patients[\"Date_Case\"] = pd.to_datetime(df_patients[\"Date_Case\"])\n",
    "df_patients[\"Entry_date\"] = pd.to_datetime(df_patients[\"Entry_date\"])\n",
    "df_patients[\"Operation_date\"] = pd.to_datetime(df_patients[\"Operation_date\"])"
   ]
  },
  {
   "cell_type": "code",
   "execution_count": 9,
   "metadata": {},
   "outputs": [
    {
     "data": {
      "text/plain": [
       "Patient_ID                 int64\n",
       "Case_ID                    int64\n",
       "Date_Case         datetime64[ns]\n",
       "ID_MRI_Machine          category\n",
       "Adenoma_size            category\n",
       "Ausfälle prä              object\n",
       "Label_Quality             object\n",
       "Entry_date        datetime64[ns]\n",
       "Operation_date    datetime64[ns]\n",
       "Diagnosis               category\n",
       "Category                category\n",
       "Patient_age                int64\n",
       "Prolactin                 object\n",
       "IGF1                      object\n",
       "Cortisol                  object\n",
       "fT4                       object\n",
       "Lab_additional            object\n",
       "dtype: object"
      ]
     },
     "execution_count": 9,
     "metadata": {},
     "output_type": "execute_result"
    }
   ],
   "source": [
    "# set category data type in pandas, check datatypes\n",
    "df_patients['ID_MRI_Machine'] = df_patients['ID_MRI_Machine'].astype('category')\n",
    "df_patients['Adenoma_size'] = df_patients['Adenoma_size'].astype('category')\n",
    "df_patients['Diagnosis'] = df_patients['Diagnosis'].astype('category')\n",
    "df_patients['Category'] = df_patients['Category'].astype('category')\n",
    "df_patients.dtypes"
   ]
  },
  {
   "cell_type": "markdown",
   "metadata": {},
   "source": [
    "### Check Duplicates\n",
    "Check if a patient is duplicated."
   ]
  },
  {
   "cell_type": "code",
   "execution_count": 10,
   "metadata": {},
   "outputs": [],
   "source": [
    "# Patient ID Duplicate Check\n",
    "assert len(df_patients[df_patients[\"Patient_ID\"].duplicated()]) == 0"
   ]
  },
  {
   "cell_type": "markdown",
   "metadata": {},
   "source": [
    "### Check Diagnosis"
   ]
  },
  {
   "cell_type": "code",
   "execution_count": 11,
   "metadata": {},
   "outputs": [
    {
     "data": {
      "text/plain": [
       "['acth', 'Akromegalie', 'Akromegalie, gh', 'Akromegalie, somato', 'apoplektiformes prolaktinom', ..., 'supprimiertes prolaktin', 'teils inaktiv, intra und supraselläres zystis..., 'Tumorapoplex, inaktiv', 'zystisch', NaN]\n",
       "Length: 41\n",
       "Categories (40, object): ['Akromegalie', 'Akromegalie, gh', 'Akromegalie, somato', 'Hypophyseninfarkt', ..., 'substituiert alle Achsen', 'supprimiertes prolaktin', 'teils inaktiv, intra und supraselläres zystis..., 'zystisch']"
      ]
     },
     "execution_count": 11,
     "metadata": {},
     "output_type": "execute_result"
    }
   ],
   "source": [
    "df_patients['Diagnosis'].unique()"
   ]
  },
  {
   "cell_type": "markdown",
   "metadata": {},
   "source": [
    "## One Hot Encode Categorical Values\n",
    "\n",
    "To use and analyse the categorical data we need to one-hot encode them. This is done by splitting the comma separated strings into single strings and then create a one-hot-encoded column of each individual value. This column is then added to the original dataframe."
   ]
  },
  {
   "cell_type": "code",
   "execution_count": 12,
   "metadata": {},
   "outputs": [],
   "source": [
    "df_patients[\"Ausfälle prä\"]= df_patients[\"Ausfälle prä\"].str.replace(' ', '')\n",
    "df_patients[\"Ausfälle prä\"]= df_patients[\"Ausfälle prä\"].str.lower()\n",
    "# Split the 'Ausfälle prä' column into separate strings\n",
    "df_patients['Ausfälle prä'] = df_patients['Ausfälle prä'].str.split(',')\n",
    "\n",
    "# Create a set to store all unique disfunctions\n",
    "unique_disfunctions = set()\n",
    "\n",
    "# Iterate over the 'Ausfälle prä' column to gather unique disfunctions\n",
    "for value in df_patients['Ausfälle prä']:\n",
    "    if isinstance(value, list):\n",
    "        unique_disfunctions.update(value)\n",
    "    elif isinstance(value, str):\n",
    "        unique_disfunctions.add(value)\n",
    "\n",
    "# Iterate over the unique disfunctions and create one-hot encoded columns\n",
    "for disfunction in unique_disfunctions:\n",
    "    df_patients[\"Pre_OP_hormone_\"+ disfunction] = df_patients['Ausfälle prä'].apply(lambda x: 1 if (isinstance(x, list) and disfunction in x) or (x == disfunction) else 0)\n",
    "# drop the original 'Ausfälle prä' column\n",
    "df_patients = df_patients.drop('Ausfälle prä', axis=1)"
   ]
  },
  {
   "cell_type": "code",
   "execution_count": 13,
   "metadata": {},
   "outputs": [],
   "source": [
    "df_patients[\"Diagnosis\"]= df_patients[\"Diagnosis\"].str.replace(' ', '')\n",
    "df_patients[\"Diagnosis\"]= df_patients[\"Diagnosis\"].str.lower()\n",
    "# Split the 'Ausfälle prä' column into separate strings\n",
    "df_patients['Diagnosis'] = df_patients['Diagnosis'].str.split(',')\n",
    "\n",
    "# Create a set to store all unique disfunctions\n",
    "unique_disfunctions = set()\n",
    "\n",
    "# Iterate over the 'Ausfälle prä' column to gather unique disfunctions\n",
    "for value in df_patients['Diagnosis']:\n",
    "    if isinstance(value, list):\n",
    "        unique_disfunctions.update(value)\n",
    "    elif isinstance(value, str):\n",
    "        unique_disfunctions.add(value)\n",
    "\n",
    "# Iterate over the unique disfunctions and create one-hot encoded columns\n",
    "for disfunction in unique_disfunctions:\n",
    "    df_patients[\"Diagnosis_\"+ disfunction] = df_patients['Diagnosis'].apply(lambda x: 1 if (isinstance(x, list) and disfunction in x) or (x == disfunction) else 0)\n",
    "# drop the original 'Ausfälle prä' column\n",
    "df_patients = df_patients.drop('Diagnosis', axis=1)"
   ]
  },
  {
   "cell_type": "markdown",
   "metadata": {},
   "source": [
    "## Remove All NA and not needed Labels"
   ]
  },
  {
   "cell_type": "code",
   "execution_count": 14,
   "metadata": {},
   "outputs": [],
   "source": [
    "# remove all labels which are not prolaktion or non-prolaktinom\n",
    "df_patients = df_patients[df_patients['Category'].isin(['non-prolaktinom','prolaktinom'])]\n",
    "assert len(df_patients['Category'].unique()) == 2"
   ]
  },
  {
   "cell_type": "code",
   "execution_count": 15,
   "metadata": {},
   "outputs": [],
   "source": [
    "df_patients.to_csv(r'../raw_data/label_data.csv',index=False)"
   ]
  },
  {
   "cell_type": "code",
   "execution_count": 16,
   "metadata": {},
   "outputs": [
    {
     "name": "stdout",
     "output_type": "stream",
     "text": [
      "End Clean and Preprocessing patient data\n"
     ]
    }
   ],
   "source": [
    "print(\"End Clean and Preprocessing patient data\")"
   ]
  },
  {
   "cell_type": "markdown",
   "metadata": {},
   "source": [
    "# Data Cleaning and Selection MRI-data\n",
    "\n",
    "Now we will clean all MRI's."
   ]
  },
  {
   "cell_type": "code",
   "execution_count": 17,
   "metadata": {},
   "outputs": [
    {
     "name": "stdout",
     "output_type": "stream",
     "text": [
      "Start Clean and Preprocessing mri data\n"
     ]
    }
   ],
   "source": [
    "print(\"Start Clean and Preprocessing mri data\")"
   ]
  },
  {
   "cell_type": "markdown",
   "metadata": {},
   "source": [
    "### Column Selection\n",
    "Only select the interesting columns for the mri's."
   ]
  },
  {
   "cell_type": "code",
   "execution_count": 18,
   "metadata": {},
   "outputs": [],
   "source": [
    "column_list_mri = ['PID','Fall Nr.',\"Datum/Zeit\",\"Arbeitsplatz.Kürzel\"]"
   ]
  },
  {
   "cell_type": "code",
   "execution_count": 19,
   "metadata": {},
   "outputs": [],
   "source": [
    "df_mri = pd.read_excel(r'../raw_data/Hypophysenpatienten.xlsx',sheet_name='w duplicates')\n",
    "# select and rename columns\n",
    "df_mri = df_mri[column_list_mri]\n",
    "df_mri= df_mri.rename(columns={\"Fall Nr.\": \"Case_ID\",\"PID\": \"Patient_ID\",\n",
    "                       \"Datum/Zeit\": \"Date_Case\",\"Arbeitsplatz.Kürzel\":\"ID_MRI_Machine\"})"
   ]
  },
  {
   "cell_type": "code",
   "execution_count": 20,
   "metadata": {},
   "outputs": [
    {
     "data": {
      "text/html": [
       "<div>\n",
       "<style scoped>\n",
       "    .dataframe tbody tr th:only-of-type {\n",
       "        vertical-align: middle;\n",
       "    }\n",
       "\n",
       "    .dataframe tbody tr th {\n",
       "        vertical-align: top;\n",
       "    }\n",
       "\n",
       "    .dataframe thead th {\n",
       "        text-align: right;\n",
       "    }\n",
       "</style>\n",
       "<table border=\"1\" class=\"dataframe\">\n",
       "  <thead>\n",
       "    <tr style=\"text-align: right;\">\n",
       "      <th></th>\n",
       "      <th>Patient_ID</th>\n",
       "      <th>Case_ID</th>\n",
       "      <th>Date_Case</th>\n",
       "      <th>ID_MRI_Machine</th>\n",
       "    </tr>\n",
       "  </thead>\n",
       "  <tbody>\n",
       "    <tr>\n",
       "      <th>0</th>\n",
       "      <td>300146159</td>\n",
       "      <td>0041835743</td>\n",
       "      <td>2023-05-11 09:00:00</td>\n",
       "      <td>MRI3</td>\n",
       "    </tr>\n",
       "    <tr>\n",
       "      <th>1</th>\n",
       "      <td>762512</td>\n",
       "      <td>0041708812</td>\n",
       "      <td>2023-05-06 08:12:00</td>\n",
       "      <td>MRI3</td>\n",
       "    </tr>\n",
       "    <tr>\n",
       "      <th>2</th>\n",
       "      <td>365189</td>\n",
       "      <td>0041892695</td>\n",
       "      <td>2023-05-05 14:19:00</td>\n",
       "      <td>MRI3</td>\n",
       "    </tr>\n",
       "    <tr>\n",
       "      <th>3</th>\n",
       "      <td>543641</td>\n",
       "      <td>0041725372</td>\n",
       "      <td>2023-05-05 07:54:00</td>\n",
       "      <td>MRI2</td>\n",
       "    </tr>\n",
       "    <tr>\n",
       "      <th>4</th>\n",
       "      <td>300302329</td>\n",
       "      <td>0041843364</td>\n",
       "      <td>2023-05-02 12:04:00</td>\n",
       "      <td>MRI3</td>\n",
       "    </tr>\n",
       "  </tbody>\n",
       "</table>\n",
       "</div>"
      ],
      "text/plain": [
       "   Patient_ID     Case_ID           Date_Case ID_MRI_Machine\n",
       "0   300146159  0041835743 2023-05-11 09:00:00           MRI3\n",
       "1      762512  0041708812 2023-05-06 08:12:00           MRI3\n",
       "2      365189  0041892695 2023-05-05 14:19:00           MRI3\n",
       "3      543641  0041725372 2023-05-05 07:54:00           MRI2\n",
       "4   300302329  0041843364 2023-05-02 12:04:00           MRI3"
      ]
     },
     "execution_count": 20,
     "metadata": {},
     "output_type": "execute_result"
    }
   ],
   "source": [
    "df_mri.head()"
   ]
  },
  {
   "cell_type": "code",
   "execution_count": 21,
   "metadata": {},
   "outputs": [],
   "source": [
    "df_mri['Case_ID'] = df_mri['Case_ID'].replace('-','',regex=True)"
   ]
  },
  {
   "cell_type": "code",
   "execution_count": 22,
   "metadata": {},
   "outputs": [],
   "source": [
    "df_mri['Case_ID']=df_mri['Case_ID'].astype(int)"
   ]
  },
  {
   "cell_type": "markdown",
   "metadata": {},
   "source": [
    "## Remove same Day MRI and take only newest"
   ]
  },
  {
   "cell_type": "code",
   "execution_count": 23,
   "metadata": {},
   "outputs": [
    {
     "name": "stdout",
     "output_type": "stream",
     "text": [
      "0 Cases were deleted, because they were same-day duplicates.\n"
     ]
    }
   ],
   "source": [
    "df_mri_clean = df_mri.groupby([\"Patient_ID\",\"Case_ID\"])[[\"Date_Case\",'ID_MRI_Machine']].max().reset_index()\n",
    "\n",
    "# if there are multiple\n",
    "n_cases = len(df_mri_clean)\n",
    "df_mri_clean = df_mri_clean.groupby([\"Patient_ID\",\"Case_ID\"])[[\"Date_Case\",'ID_MRI_Machine']].max().reset_index()\n",
    "print(f\"{n_cases-len(df_mri_clean)} Cases were deleted, because they were same-day duplicates.\")"
   ]
  },
  {
   "cell_type": "code",
   "execution_count": 24,
   "metadata": {},
   "outputs": [],
   "source": [
    "df_mri_clean.to_csv(r'../raw_data/mri_data.csv',index=False)"
   ]
  },
  {
   "cell_type": "code",
   "execution_count": 25,
   "metadata": {},
   "outputs": [
    {
     "name": "stdout",
     "output_type": "stream",
     "text": [
      "End Clean and Preprocessing mri data\n"
     ]
    }
   ],
   "source": [
    "print(\"End Clean and Preprocessing mri data\")"
   ]
  },
  {
   "cell_type": "markdown",
   "metadata": {},
   "source": [
    "# Data Cleaning and Selection Lab-data\n",
    "\n",
    "Now the lab data from the explicit KSA export will be cleaned."
   ]
  },
  {
   "cell_type": "code",
   "execution_count": 26,
   "metadata": {},
   "outputs": [
    {
     "name": "stdout",
     "output_type": "stream",
     "text": [
      "Start Clean and Preprocessing lab-data\n"
     ]
    }
   ],
   "source": [
    "print(\"Start Clean and Preprocessing lab-data\")"
   ]
  },
  {
   "cell_type": "markdown",
   "metadata": {},
   "source": [
    "## Read"
   ]
  },
  {
   "cell_type": "code",
   "execution_count": 27,
   "metadata": {},
   "outputs": [],
   "source": [
    "lab_data = pd.read_excel(\"../raw_data/extract_pit.xlsx\",\n",
    "                         usecols=['PATIENT_NR','FALL_NR','Analyse-ID','Resultat','Datum_Resultat']).rename(\n",
    "                             columns={\"PATIENT_NR\":\"Patient_ID\",\"FALL_NR\":\"Case_ID\",\"Analyse-ID\":\"Lab_ID\",})"
   ]
  },
  {
   "cell_type": "code",
   "execution_count": 28,
   "metadata": {},
   "outputs": [
    {
     "data": {
      "text/plain": [
       "Index(['Case_ID', 'Patient_ID', 'Lab_ID', 'Datum_Resultat', 'Resultat'], dtype='object')"
      ]
     },
     "execution_count": 28,
     "metadata": {},
     "output_type": "execute_result"
    }
   ],
   "source": [
    "lab_data.columns"
   ]
  },
  {
   "cell_type": "markdown",
   "metadata": {},
   "source": [
    "### Clean and select Lab's\n",
    "There is a multitude of labs in the export. We do not need all of them. "
   ]
  },
  {
   "cell_type": "code",
   "execution_count": 29,
   "metadata": {},
   "outputs": [],
   "source": [
    "# remove not needed labs\n",
    "lab_data= lab_data[~lab_data['Lab_ID'].isin(['ABTEST','TBILHB'])].copy()"
   ]
  },
  {
   "cell_type": "code",
   "execution_count": 30,
   "metadata": {},
   "outputs": [],
   "source": [
    "# rename labs which are integer based with a string name\n",
    "lab_data['Lab_ID'] = lab_data['Lab_ID'].replace({20396:'IGF1',24382:'PROL',24384:'PROL',24383:'PROL'})"
   ]
  },
  {
   "cell_type": "code",
   "execution_count": 31,
   "metadata": {},
   "outputs": [],
   "source": [
    "lab_data['Case_ID']= lab_data['Case_ID'].replace('#','',regex=True)\n",
    "lab_data['Case_ID']=lab_data['Case_ID'].astype(int)"
   ]
  },
  {
   "cell_type": "code",
   "execution_count": 32,
   "metadata": {},
   "outputs": [],
   "source": [
    "# replace export anomalies \n",
    "ids = {'Ã¼': 'ü', 'Ã¤': 'ä', \"Ã„\":\"Ä\",\"√§\":\"ä\"}\n",
    "\n",
    "for column in lab_data.columns[lab_data.columns.isin([\"Case_ID\",\"Patient_ID\",\"Datum_Resultat\",\"Auftragsdatum\"]) == False]:\n",
    "    for old, new in ids.items():\n",
    "        lab_data[column] = lab_data[column].str.replace(old, new, regex=False)\n",
    "\n",
    "# clean the greather and less than characters with regex\n",
    "clean_result = lambda result: re.sub(r'(?<!\\d)\\.', '', re.sub(r'[^\\d.]', '', str(result))) #clean < zahl / > zahl / 1 A zahl\n",
    "lab_data[\"Resultat\"] = lab_data[\"Resultat\"].apply(clean_result) \n",
    "# remove empty results\n",
    "lab_data = lab_data[lab_data[\"Resultat\"] != \"\"]\n",
    "lab_data[\"Resultat\"] = lab_data[\"Resultat\"].astype(float)"
   ]
  },
  {
   "cell_type": "code",
   "execution_count": 33,
   "metadata": {},
   "outputs": [],
   "source": [
    "# check if the datetime was correctly fixed\n",
    "assert lab_data[\"Datum_Resultat\"].min() > pd.to_datetime(\"1995-01-01\")"
   ]
  },
  {
   "cell_type": "code",
   "execution_count": 34,
   "metadata": {},
   "outputs": [],
   "source": [
    "# mean of results of same date\n",
    "lab_data = lab_data.groupby([\"Patient_ID\",\"Lab_ID\",\"Datum_Resultat\"])[\"Resultat\"].agg(['mean']).reset_index()"
   ]
  },
  {
   "cell_type": "markdown",
   "metadata": {},
   "source": [
    "## Merge Cases with Patient Cases"
   ]
  },
  {
   "cell_type": "code",
   "execution_count": 35,
   "metadata": {},
   "outputs": [],
   "source": [
    "lab_data = pd.merge(lab_data,df_mri_clean,on=\"Patient_ID\",how = \"right\")\n",
    "lab_data = lab_data[lab_data[\"Date_Case\"] >= lab_data[\"Datum_Resultat\"]].drop(columns=\"Date_Case\")"
   ]
  },
  {
   "cell_type": "code",
   "execution_count": 36,
   "metadata": {},
   "outputs": [],
   "source": [
    "# Compute newest date for each patient and analysis\n",
    "max_dates = lab_data.groupby(['Patient_ID', \"Lab_ID\",\"Case_ID\"])['Datum_Resultat'].max().reset_index()\n",
    "# Merge with the original DataFrame to filter rows with minimum dates\n",
    "lab_data = pd.merge(lab_data, max_dates, on=['Patient_ID', 'Lab_ID', 'Datum_Resultat',\"Case_ID\"])"
   ]
  },
  {
   "cell_type": "code",
   "execution_count": 37,
   "metadata": {},
   "outputs": [],
   "source": [
    "# check for any duplicate Values\n",
    "assert len(lab_data.loc[:,[\"Case_ID\",\"Lab_ID\"]].drop_duplicates()) == len(lab_data)"
   ]
  },
  {
   "cell_type": "code",
   "execution_count": 38,
   "metadata": {},
   "outputs": [],
   "source": [
    "# make dataframe wide\n",
    "lab_data = lab_data.pivot(index=[\"Patient_ID\",\"Case_ID\"],values = ['mean'], columns = ['Lab_ID'])\n",
    "lab_data.columns = lab_data.columns.droplevel()\n",
    "lab_data = lab_data.reset_index()"
   ]
  },
  {
   "cell_type": "markdown",
   "metadata": {},
   "source": [
    "### Create LabData from label data"
   ]
  },
  {
   "cell_type": "code",
   "execution_count": 39,
   "metadata": {},
   "outputs": [],
   "source": [
    "df_additional_lab = pd.read_csv(r'../raw_data/label_data.csv').rename(columns={'Cortisol':'COR60','fT4':'FT4','Prolactin':'PROL'})[['Patient_ID','Case_ID','COR60','FT4','PROL','IGF1','Lab_additional']]\n",
    "df_additional_lab.columns\n",
    "df_additional_lab = df_additional_lab.dropna(subset=['PROL','IGF1','COR60','FT4','Lab_additional'], how='all').reset_index(drop=True)"
   ]
  },
  {
   "cell_type": "code",
   "execution_count": 40,
   "metadata": {},
   "outputs": [
    {
     "data": {
      "text/html": [
       "<div>\n",
       "<style scoped>\n",
       "    .dataframe tbody tr th:only-of-type {\n",
       "        vertical-align: middle;\n",
       "    }\n",
       "\n",
       "    .dataframe tbody tr th {\n",
       "        vertical-align: top;\n",
       "    }\n",
       "\n",
       "    .dataframe thead th {\n",
       "        text-align: right;\n",
       "    }\n",
       "</style>\n",
       "<table border=\"1\" class=\"dataframe\">\n",
       "  <thead>\n",
       "    <tr style=\"text-align: right;\">\n",
       "      <th></th>\n",
       "      <th>Patient_ID</th>\n",
       "      <th>Case_ID</th>\n",
       "      <th>COR60</th>\n",
       "      <th>FT4</th>\n",
       "      <th>PROL</th>\n",
       "      <th>IGF1</th>\n",
       "      <th>Lab_additional</th>\n",
       "    </tr>\n",
       "  </thead>\n",
       "  <tbody>\n",
       "    <tr>\n",
       "      <th>0</th>\n",
       "      <td>300071920</td>\n",
       "      <td>40323241</td>\n",
       "      <td>1150</td>\n",
       "      <td>11.8</td>\n",
       "      <td>NaN</td>\n",
       "      <td>25.4nmol/l</td>\n",
       "      <td>FSH 123U/L, LH 35U/L</td>\n",
       "    </tr>\n",
       "    <tr>\n",
       "      <th>1</th>\n",
       "      <td>459429</td>\n",
       "      <td>40603831</td>\n",
       "      <td>703</td>\n",
       "      <td>13.2</td>\n",
       "      <td>7ug/l</td>\n",
       "      <td>32.5nmol/l</td>\n",
       "      <td>NaN</td>\n",
       "    </tr>\n",
       "    <tr>\n",
       "      <th>2</th>\n",
       "      <td>300063047</td>\n",
       "      <td>40562698</td>\n",
       "      <td>532</td>\n",
       "      <td>18</td>\n",
       "      <td>NaN</td>\n",
       "      <td>77.7nmol</td>\n",
       "      <td>NaN</td>\n",
       "    </tr>\n",
       "    <tr>\n",
       "      <th>3</th>\n",
       "      <td>300312446</td>\n",
       "      <td>41718174</td>\n",
       "      <td>271</td>\n",
       "      <td>8.4</td>\n",
       "      <td>743mU/l</td>\n",
       "      <td>20.2nmol/l</td>\n",
       "      <td>NaN</td>\n",
       "    </tr>\n",
       "    <tr>\n",
       "      <th>4</th>\n",
       "      <td>300311713</td>\n",
       "      <td>41683224</td>\n",
       "      <td>NaN</td>\n",
       "      <td>NaN</td>\n",
       "      <td>NaN</td>\n",
       "      <td>NaN</td>\n",
       "      <td>nihil</td>\n",
       "    </tr>\n",
       "  </tbody>\n",
       "</table>\n",
       "</div>"
      ],
      "text/plain": [
       "   Patient_ID   Case_ID COR60   FT4     PROL        IGF1        Lab_additional\n",
       "0   300071920  40323241  1150  11.8      NaN  25.4nmol/l  FSH 123U/L, LH 35U/L\n",
       "1      459429  40603831   703  13.2    7ug/l  32.5nmol/l                   NaN\n",
       "2   300063047  40562698   532    18      NaN    77.7nmol                   NaN\n",
       "3   300312446  41718174   271   8.4  743mU/l  20.2nmol/l                   NaN\n",
       "4   300311713  41683224   NaN   NaN      NaN         NaN                 nihil"
      ]
     },
     "execution_count": 40,
     "metadata": {},
     "output_type": "execute_result"
    }
   ],
   "source": [
    "df_additional_lab.head()"
   ]
  },
  {
   "cell_type": "code",
   "execution_count": 41,
   "metadata": {},
   "outputs": [
    {
     "data": {
      "text/html": [
       "<div>\n",
       "<style scoped>\n",
       "    .dataframe tbody tr th:only-of-type {\n",
       "        vertical-align: middle;\n",
       "    }\n",
       "\n",
       "    .dataframe tbody tr th {\n",
       "        vertical-align: top;\n",
       "    }\n",
       "\n",
       "    .dataframe thead th {\n",
       "        text-align: right;\n",
       "    }\n",
       "</style>\n",
       "<table border=\"1\" class=\"dataframe\">\n",
       "  <thead>\n",
       "    <tr style=\"text-align: right;\">\n",
       "      <th></th>\n",
       "      <th>Patient_ID</th>\n",
       "      <th>Case_ID</th>\n",
       "      <th>COR60</th>\n",
       "      <th>FT4</th>\n",
       "      <th>PROL</th>\n",
       "      <th>IGF1</th>\n",
       "      <th>Lab_additional</th>\n",
       "    </tr>\n",
       "  </thead>\n",
       "  <tbody>\n",
       "    <tr>\n",
       "      <th>33</th>\n",
       "      <td>404279</td>\n",
       "      <td>41509825</td>\n",
       "      <td>NaN</td>\n",
       "      <td>NaN</td>\n",
       "      <td>NaN</td>\n",
       "      <td>NaN</td>\n",
       "      <td>labor intern</td>\n",
       "    </tr>\n",
       "    <tr>\n",
       "      <th>34</th>\n",
       "      <td>300052288</td>\n",
       "      <td>40388593</td>\n",
       "      <td>850</td>\n",
       "      <td>14.1</td>\n",
       "      <td>18.7ug/l</td>\n",
       "      <td>15.4nmol</td>\n",
       "      <td>NaN</td>\n",
       "    </tr>\n",
       "    <tr>\n",
       "      <th>35</th>\n",
       "      <td>562753</td>\n",
       "      <td>40377401</td>\n",
       "      <td>704</td>\n",
       "      <td>13</td>\n",
       "      <td>15</td>\n",
       "      <td>17,6nmol</td>\n",
       "      <td>Testo 8,3nmol/l</td>\n",
       "    </tr>\n",
       "    <tr>\n",
       "      <th>36</th>\n",
       "      <td>82016</td>\n",
       "      <td>40345339</td>\n",
       "      <td>707</td>\n",
       "      <td>14.1</td>\n",
       "      <td>19.6ug/l</td>\n",
       "      <td>16.2nmol/l</td>\n",
       "      <td>NaN</td>\n",
       "    </tr>\n",
       "    <tr>\n",
       "      <th>37</th>\n",
       "      <td>404252</td>\n",
       "      <td>40285535</td>\n",
       "      <td>588</td>\n",
       "      <td>23.3</td>\n",
       "      <td>7.4</td>\n",
       "      <td>11,2nmol</td>\n",
       "      <td>NaN</td>\n",
       "    </tr>\n",
       "  </tbody>\n",
       "</table>\n",
       "</div>"
      ],
      "text/plain": [
       "    Patient_ID   Case_ID COR60   FT4      PROL        IGF1   Lab_additional\n",
       "33      404279  41509825   NaN   NaN       NaN         NaN     labor intern\n",
       "34   300052288  40388593   850  14.1  18.7ug/l    15.4nmol              NaN\n",
       "35      562753  40377401   704    13        15    17,6nmol  Testo 8,3nmol/l\n",
       "36       82016  40345339   707  14.1  19.6ug/l  16.2nmol/l              NaN\n",
       "37      404252  40285535   588  23.3       7.4    11,2nmol              NaN"
      ]
     },
     "execution_count": 41,
     "metadata": {},
     "output_type": "execute_result"
    }
   ],
   "source": [
    "df_additional_lab.tail()"
   ]
  },
  {
   "cell_type": "code",
   "execution_count": 42,
   "metadata": {},
   "outputs": [],
   "source": [
    "df_additional_lab['Lab_additional'] =df_additional_lab['Lab_additional'].fillna('')\n",
    "for i in ['Test', 'LH','FSH']:\n",
    "    df_additional_lab[i] = ''\n",
    "    indices = df_additional_lab[df_additional_lab['Lab_additional'].str.contains(i)].index\n",
    "    df_additional_lab.loc[indices,i]  = df_additional_lab.iloc[indices]['Lab_additional']"
   ]
  },
  {
   "cell_type": "code",
   "execution_count": 43,
   "metadata": {},
   "outputs": [],
   "source": [
    "df_additional_lab= df_additional_lab.drop(columns=['Lab_additional'])\n",
    "df_additional_lab= df_additional_lab.rename(columns={'Test':'TEST'})"
   ]
  },
  {
   "cell_type": "markdown",
   "metadata": {},
   "source": [
    "#### Testosteron Cleaning"
   ]
  },
  {
   "cell_type": "code",
   "execution_count": 44,
   "metadata": {},
   "outputs": [],
   "source": [
    "df_additional_lab['TEST'] = df_additional_lab['TEST'].replace(r' nmol/l','',regex=True)\n",
    "df_additional_lab['TEST'] = df_additional_lab['TEST'].replace(r'nmol/l','',regex=True)\n",
    "df_additional_lab['TEST'] = df_additional_lab['TEST'].replace(r'nmol','',regex=True)\n",
    "df_additional_lab['TEST'] = df_additional_lab['TEST'].replace(r'Testo','',regex=True)\n",
    "df_additional_lab['TEST'] = df_additional_lab['TEST'].replace(r'Test','',regex=True)\n",
    "df_additional_lab['TEST'] = df_additional_lab['TEST'].replace(r',','.',regex=True)\n",
    "df_additional_lab.loc[df_additional_lab['TEST'] == '', 'TEST'] = np.nan\n",
    "df_additional_lab['TEST']= df_additional_lab['TEST'].astype(float)"
   ]
  },
  {
   "cell_type": "markdown",
   "metadata": {},
   "source": [
    "#### LH Cleaning"
   ]
  },
  {
   "cell_type": "code",
   "execution_count": 45,
   "metadata": {},
   "outputs": [],
   "source": [
    "df_additional_lab.loc[df_additional_lab['LH'] == '', 'LH'] = np.nan\n",
    "df_additional_lab['LH'] = df_additional_lab['LH'].replace(r'FSH \\d*U\\/L,','',regex=True)\n",
    "df_additional_lab['LH'] = df_additional_lab['LH'].replace(r'LH','',regex=True)\n",
    "df_additional_lab['LH'] = df_additional_lab['LH'].replace(r'U/L','',regex=True)\n",
    "df_additional_lab['LH']= df_additional_lab['LH'].astype(float)"
   ]
  },
  {
   "cell_type": "markdown",
   "metadata": {},
   "source": [
    "#### FSH Cleaning"
   ]
  },
  {
   "cell_type": "code",
   "execution_count": 46,
   "metadata": {},
   "outputs": [],
   "source": [
    "df_additional_lab['FSH'] = df_additional_lab['FSH'].replace(r'FSH','',regex=True)\n",
    "df_additional_lab['FSH'] = df_additional_lab['FSH'].replace(r'U/L','',regex=True)\n",
    "df_additional_lab['FSH'] = df_additional_lab['FSH'].replace(r', LH \\d*','',regex=True)\n",
    "\n",
    "df_additional_lab.loc[df_additional_lab['FSH'] == '', 'FSH'] = np.nan\n",
    "df_additional_lab['FSH']= df_additional_lab['FSH'].astype(float)"
   ]
  },
  {
   "cell_type": "markdown",
   "metadata": {},
   "source": [
    "#### Cortisol Cleaning "
   ]
  },
  {
   "cell_type": "code",
   "execution_count": 47,
   "metadata": {},
   "outputs": [],
   "source": [
    "df_additional_lab['COR60'] = df_additional_lab['COR60'].replace(r' nmol/l','',regex=True)\n",
    "df_additional_lab['COR60']= df_additional_lab['COR60'].astype(float)"
   ]
  },
  {
   "cell_type": "markdown",
   "metadata": {},
   "source": [
    "#### FT4 Cleaning"
   ]
  },
  {
   "cell_type": "code",
   "execution_count": 48,
   "metadata": {},
   "outputs": [],
   "source": [
    "df_additional_lab['FT4'] = df_additional_lab['FT4'].replace(r' pmol/l','',regex=True)\n",
    "df_additional_lab['FT4']= df_additional_lab['FT4'].astype(float)"
   ]
  },
  {
   "cell_type": "markdown",
   "metadata": {},
   "source": [
    "#### Prolaktin Cleaning and Conversion"
   ]
  },
  {
   "cell_type": "code",
   "execution_count": 49,
   "metadata": {},
   "outputs": [],
   "source": [
    "df_additional_lab[\"PROL\"]= df_additional_lab[\"PROL\"].str.replace(\"ug/L\",\"ug/l\")\n",
    "df_additional_lab[\"PROL\"]= df_additional_lab[\"PROL\"].str.replace(\"mu/L\",\"mU/l\")\n"
   ]
  },
  {
   "cell_type": "code",
   "execution_count": 50,
   "metadata": {},
   "outputs": [],
   "source": [
    "# get indices which need to be converted\n",
    "# indices_to_divide = df_additional_lab.loc[df_additional_lab[\"PROL\"].str.contains('mU/l'),'PROL'].index \n",
    "indices_to_divide = df_additional_lab[~df_additional_lab[\"PROL\"].isna() & df_additional_lab['PROL'].str.contains('mU/l')].index \n",
    "# remove units and strings\n",
    "df_additional_lab['PROL'] = df_additional_lab['PROL'].str.rstrip(r'mU/l')\n",
    "df_additional_lab['PROL'] = df_additional_lab['PROL'].str.rstrip(r'ug/l')\n",
    "df_additional_lab['PROL'] = df_additional_lab['PROL'].str.rstrip(r'ug/L')\n",
    "df_additional_lab['PROL'] = df_additional_lab['PROL'].astype(float)\n",
    "# mU/l -> ug/l (mU/l * 0.048)\n",
    "df_additional_lab.loc[indices_to_divide,'PROL'] = df_additional_lab.loc[indices_to_divide,'PROL'] * 0.048 \n"
   ]
  },
  {
   "cell_type": "markdown",
   "metadata": {},
   "source": [
    "#### IGF1 Cleaning and Conversion"
   ]
  },
  {
   "cell_type": "code",
   "execution_count": 51,
   "metadata": {},
   "outputs": [],
   "source": [
    "# df_additional_lab[\"IGF1\"]= df_additional_lab[\"IGF1\"].str.replace(\"ug/L\",\"ug/l\")\n",
    "df_additional_lab[\"IGF1\"]= df_additional_lab[\"IGF1\"].str.replace(\"ug/l\",\"\")\n",
    "df_additional_lab[\"IGF1\"]= df_additional_lab[\"IGF1\"].str.replace(\",\",\".\")\n",
    "\n",
    "# get indices which need to be converted\n",
    "# indices_to_divide = df_additional_lab.loc[df_additional_lab[\"IGF1\"].str.contains('ng/ml'),'IGF1'].index \n",
    "indices_to_divide = df_additional_lab[~df_additional_lab[\"IGF1\"].isna() & df_additional_lab['IGF1'].str.contains('ng/ml')].index\n",
    "# remove units and strings\n",
    "df_additional_lab['IGF1'] = df_additional_lab['IGF1'].str.rstrip(r'ng/ml')\n",
    "df_additional_lab['IGF1'] = df_additional_lab['IGF1'].str.rstrip(r'nmol')\n",
    "df_additional_lab['IGF1'] = df_additional_lab['IGF1'].str.rstrip(r'nmol/l')\n",
    "df_additional_lab['IGF1'] = df_additional_lab['IGF1'].astype(float)\n",
    "# ng/ml -> nmol/l (ng/ml * 0.13)\n",
    "df_additional_lab.loc[indices_to_divide,'IGF1'] = df_additional_lab.loc[indices_to_divide,'IGF1'] * 0.13\n"
   ]
  },
  {
   "cell_type": "code",
   "execution_count": 52,
   "metadata": {},
   "outputs": [],
   "source": [
    "# combine additional lab and lab data\n",
    "lab_data = lab_data.set_index(['Patient_ID','Case_ID']).combine_first(df_additional_lab.set_index(['Patient_ID','Case_ID'])).reset_index()"
   ]
  },
  {
   "cell_type": "code",
   "execution_count": 53,
   "metadata": {},
   "outputs": [
    {
     "name": "stdout",
     "output_type": "stream",
     "text": [
      "Sparsity of labordata: 0.318 % (nur von Fällen mit Laborwerten)\n",
      "Von 509 Fällen gibt es keine Laborwerte.\n"
     ]
    }
   ],
   "source": [
    "spar = round(lab_data[['COR60', 'FSH','LH', 'FT4', 'IGF1', 'LH', 'PROL','TEST']].isna().mean().mean(),3)\n",
    "print(f\"Sparsity of labordata: {spar} % (nur von Fällen mit Laborwerten)\")\n",
    "print(f\"Von {len(df_mri_clean)-len(lab_data)} Fällen gibt es keine Laborwerte.\")"
   ]
  },
  {
   "cell_type": "code",
   "execution_count": 54,
   "metadata": {},
   "outputs": [],
   "source": [
    "lab_data.to_csv(r'../raw_data/lab_data.csv',index=False)"
   ]
  },
  {
   "cell_type": "code",
   "execution_count": 55,
   "metadata": {},
   "outputs": [
    {
     "name": "stdout",
     "output_type": "stream",
     "text": [
      "End Clean and Preprocessing labor data\n"
     ]
    }
   ],
   "source": [
    "print(\"End Clean and Preprocessing labor data\")"
   ]
  },
  {
   "cell_type": "markdown",
   "metadata": {},
   "source": [
    "# Full Merge"
   ]
  },
  {
   "cell_type": "code",
   "execution_count": 56,
   "metadata": {},
   "outputs": [],
   "source": [
    "# get mridata where an mri matches to with case and patient if of a lab\n",
    "df_temp = pd.merge(df_mri_clean,lab_data,left_on=['Patient_ID','Case_ID'],right_on=['Patient_ID','Case_ID'])"
   ]
  },
  {
   "cell_type": "code",
   "execution_count": 58,
   "metadata": {},
   "outputs": [],
   "source": [
    "# match this data with the patients data\n",
    "full_merged = pd.merge(df_temp,df_patients[['Patient_ID','Category', 'Patient_age','Adenoma_size']+\n",
    "                                           list(df_patients.columns[df_patients.columns.str.contains('Pre')])+\n",
    "                                           list(df_patients.columns[df_patients.columns.str.contains('Diagnosis_')])+\n",
    "                                              ['Operation_date', 'Entry_date']]\n",
    "                                              ,how='inner',left_on=['Patient_ID'],right_on=['Patient_ID'])"
   ]
  },
  {
   "cell_type": "code",
   "execution_count": 59,
   "metadata": {},
   "outputs": [],
   "source": [
    "full_merged = full_merged.sort_values('Patient_ID')"
   ]
  },
  {
   "cell_type": "code",
   "execution_count": 60,
   "metadata": {},
   "outputs": [],
   "source": [
    "assert full_merged.duplicated(subset=['Patient_ID','Case_ID']).sum() == 0"
   ]
  },
  {
   "cell_type": "code",
   "execution_count": 61,
   "metadata": {},
   "outputs": [],
   "source": [
    "full_merged.to_csv(r'../raw_data/data_full_merge.csv',index=False)"
   ]
  }
 ],
 "metadata": {
  "kernelspec": {
   "display_name": "AgroLuege--zjmSdF3",
   "language": "python",
   "name": "python3"
  },
  "language_info": {
   "codemirror_mode": {
    "name": "ipython",
    "version": 3
   },
   "file_extension": ".py",
   "mimetype": "text/x-python",
   "name": "python",
   "nbconvert_exporter": "python",
   "pygments_lexer": "ipython3",
   "version": "3.10.5"
  }
 },
 "nbformat": 4,
 "nbformat_minor": 2
}
