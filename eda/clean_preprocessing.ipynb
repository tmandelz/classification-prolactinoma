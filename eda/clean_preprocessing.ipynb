{
 "cells": [
  {
   "cell_type": "markdown",
   "metadata": {},
   "source": [
    "# Data Cleaning and Selection Patientendaten"
   ]
  },
  {
   "cell_type": "markdown",
   "metadata": {},
   "source": [
    "## Imports and Read"
   ]
  },
  {
   "cell_type": "code",
   "execution_count": 1,
   "metadata": {},
   "outputs": [],
   "source": [
    "import pandas as pd\n",
    "import datetime\n",
    "import numpy as np\n",
    "import re"
   ]
  },
  {
   "cell_type": "code",
   "execution_count": 2,
   "metadata": {},
   "outputs": [
    {
     "name": "stdout",
     "output_type": "stream",
     "text": [
      "Start Clean and Preprocessing data patient\n"
     ]
    }
   ],
   "source": [
    "print(\"Start Clean and Preprocessing data patient\")"
   ]
  },
  {
   "cell_type": "code",
   "execution_count": 3,
   "metadata": {},
   "outputs": [],
   "source": [
    "df = pd.read_excel(r'../raw_data/Hypophysenpatienten.xlsx',sheet_name='no duplicate PID')"
   ]
  },
  {
   "cell_type": "code",
   "execution_count": 4,
   "metadata": {},
   "outputs": [
    {
     "data": {
      "text/plain": [
       "Index(['%ID', 'Fall Nr.', 'Datum/Zeit', 'Modalität', 'Exam Code', 'Exam Name',\n",
       "       'Abteilung', 'Arbeitsplatz.Kürzel', 'Aufnahmeart', 'PID', 'Grösse',\n",
       "       'Ausfälle prä', 'Prolaktin', 'IGF1', 'Cortisol', 'fT4',\n",
       "       'weiteres Labor', 'Qualität', 'ED', 'OP Datum', 'Ausfälle post',\n",
       "       'Diagnose', 'Kategorie', 'Patient Alter', 'Zuweiser',\n",
       "       'AnforderungDatum', 'ÜberweiserIntern.Bereich',\n",
       "       'ÜberweiserIntern.Klinik'],\n",
       "      dtype='object')"
      ]
     },
     "execution_count": 4,
     "metadata": {},
     "output_type": "execute_result"
    }
   ],
   "source": [
    "df.columns"
   ]
  },
  {
   "cell_type": "markdown",
   "metadata": {},
   "source": [
    "## Basic Cleaning, Column Selection, Anomaly Correction and Format definition"
   ]
  },
  {
   "cell_type": "code",
   "execution_count": 5,
   "metadata": {},
   "outputs": [],
   "source": [
    "# define needed columns\n",
    "column_list = ['PID',\"Datum/Zeit\",\"Arbeitsplatz.Kürzel\",'Grösse',\n",
    "       'Ausfälle prä', 'Qualität', 'ED','OP Datum', 'Ausfälle post',\n",
    "       'Diagnose', 'Kategorie', 'Patient Alter',\n",
    "       'Prolaktin',\"IGF1\", 'Cortisol','fT4','weiteres Labor']\n"
   ]
  },
  {
   "cell_type": "markdown",
   "metadata": {},
   "source": [
    "### Data Type Definition\n"
   ]
  },
  {
   "cell_type": "code",
   "execution_count": 6,
   "metadata": {},
   "outputs": [],
   "source": [
    "#TODO: check Tristan\n",
    "# not parseable correct values corrected\n",
    "df.loc[3,'ED'] = datetime.datetime(2006,1,1,0,0,0,0)\n",
    "df.loc[12,'ED'] = datetime.datetime(2008,1,1,0,0,0,0)\n",
    "\n",
    "#TODO: check Tristan\n",
    "# correct a value which is not datetime parseable\n",
    "df.loc[df['OP Datum'] == '2006, 2009', 'OP Datum'] = datetime.datetime(2006,1,1,0,0,0,0)"
   ]
  },
  {
   "cell_type": "code",
   "execution_count": 7,
   "metadata": {},
   "outputs": [],
   "source": [
    "# make datetime values\n",
    "df[\"Datum/Zeit\"] = pd.to_datetime(df[\"Datum/Zeit\"])\n",
    "df[\"ED\"] = pd.to_datetime(df[\"ED\"])\n",
    "df[\"OP Datum\"] = pd.to_datetime(df[\"OP Datum\"])"
   ]
  },
  {
   "cell_type": "code",
   "execution_count": 8,
   "metadata": {},
   "outputs": [
    {
     "data": {
      "text/html": [
       "<div>\n",
       "<style scoped>\n",
       "    .dataframe tbody tr th:only-of-type {\n",
       "        vertical-align: middle;\n",
       "    }\n",
       "\n",
       "    .dataframe tbody tr th {\n",
       "        vertical-align: top;\n",
       "    }\n",
       "\n",
       "    .dataframe thead th {\n",
       "        text-align: right;\n",
       "    }\n",
       "</style>\n",
       "<table border=\"1\" class=\"dataframe\">\n",
       "  <thead>\n",
       "    <tr style=\"text-align: right;\">\n",
       "      <th></th>\n",
       "      <th>ED</th>\n",
       "      <th>OP Datum</th>\n",
       "    </tr>\n",
       "  </thead>\n",
       "  <tbody>\n",
       "    <tr>\n",
       "      <th>20</th>\n",
       "      <td>2023-09-02</td>\n",
       "      <td>2009-02-18</td>\n",
       "    </tr>\n",
       "  </tbody>\n",
       "</table>\n",
       "</div>"
      ],
      "text/plain": [
       "           ED   OP Datum\n",
       "20 2023-09-02 2009-02-18"
      ]
     },
     "execution_count": 8,
     "metadata": {},
     "output_type": "execute_result"
    }
   ],
   "source": [
    "# TODO: anomaly? check tristan\n",
    "# rows where Entry Date is after Operationdate?\n",
    "df[df['OP Datum'] < df['ED']][['ED','OP Datum']]"
   ]
  },
  {
   "cell_type": "markdown",
   "metadata": {},
   "source": [
    "### Impute NAN Lab Data"
   ]
  },
  {
   "cell_type": "code",
   "execution_count": 9,
   "metadata": {},
   "outputs": [],
   "source": [
    "# TODO: set impute value\n",
    "df.loc[df[\"Prolaktin\"].isna(),'Prolaktin'] = '0'\n",
    "df.loc[df[\"IGF1\"].isna(),'IGF1'] = '0'\n",
    "df.loc[df[\"Cortisol\"].isna(),'Cortisol'] = '0'\n",
    "df.loc[df[\"fT4\"].isna(),'fT4'] = '0'\n"
   ]
  },
  {
   "cell_type": "markdown",
   "metadata": {},
   "source": [
    "### Unit Conversion Lab Data"
   ]
  },
  {
   "cell_type": "code",
   "execution_count": 10,
   "metadata": {},
   "outputs": [
    {
     "data": {
      "text/plain": [
       "array(['0', '173mU/l', '743mU/l', '687mU/l', '7.8 ug/l'], dtype=object)"
      ]
     },
     "execution_count": 10,
     "metadata": {},
     "output_type": "execute_result"
    }
   ],
   "source": [
    "df[\"Prolaktin\"].unique()"
   ]
  },
  {
   "cell_type": "code",
   "execution_count": 11,
   "metadata": {},
   "outputs": [],
   "source": [
    "# get indices which need to be converted\n",
    "indices_to_divide = df.loc[df[\"Prolaktin\"].str.contains('ug/l'),'Prolaktin'].index \n",
    "# remove units and strings\n",
    "df['Prolaktin'] = df['Prolaktin'].str.rstrip(r'mU/l')\n",
    "df['Prolaktin'] = df['Prolaktin'].str.rstrip(r'ug/l')\n",
    "df['Prolaktin'] = df['Prolaktin'].astype(float)\n",
    "# ug/l -> mU/l (ug/l * 21.2)\n",
    "df.loc[indices_to_divide,'Prolaktin'] = df.loc[indices_to_divide,'Prolaktin'] * 21.2\n"
   ]
  },
  {
   "cell_type": "code",
   "execution_count": 12,
   "metadata": {},
   "outputs": [
    {
     "data": {
      "text/plain": [
       "array(['0', '6.3nmol/l', '20.2nmol/l', '75.4ng/ml', '208 ng/ml'],\n",
       "      dtype=object)"
      ]
     },
     "execution_count": 12,
     "metadata": {},
     "output_type": "execute_result"
    }
   ],
   "source": [
    "df[\"IGF1\"].unique()"
   ]
  },
  {
   "cell_type": "code",
   "execution_count": 13,
   "metadata": {},
   "outputs": [],
   "source": [
    "# get indices which need to be converted\n",
    "indices_to_divide = df.loc[df[\"IGF1\"].str.contains('ng/ml'),'IGF1'].index \n",
    "# remove units and strings\n",
    "df['IGF1'] = df['IGF1'].str.rstrip(r'nmol/l')\n",
    "df['IGF1'] = df['IGF1'].str.rstrip(r'ng/ml')\n",
    "df['IGF1'] = df['IGF1'].astype(float)\n",
    "# ng/ml -> nmol/l (ng/ml / 7.65)\n",
    "df.loc[indices_to_divide,'IGF1'] = df.loc[indices_to_divide,'IGF1'] / 7.65\n"
   ]
  },
  {
   "cell_type": "code",
   "execution_count": 14,
   "metadata": {},
   "outputs": [
    {
     "data": {
      "text/plain": [
       "array(['0', 329, 271, 110, '311 nmol/l'], dtype=object)"
      ]
     },
     "execution_count": 14,
     "metadata": {},
     "output_type": "execute_result"
    }
   ],
   "source": [
    "df[\"Cortisol\"].unique()"
   ]
  },
  {
   "cell_type": "code",
   "execution_count": 15,
   "metadata": {},
   "outputs": [],
   "source": [
    "# # get indices which need to be converted\n",
    "# indices_to_divide = df.loc[df[\"Cortisol\"].str.contains('ng/ml'),'Cortisol'].index \n",
    "# # remove units and strings\n",
    "# df['Cortisol'] = df['Cortisol'].str.rstrip(r'nmol/l')\n",
    "# df['Cortisol'] = df['IGF1'].str.rstrip(r'ng/ml')\n",
    "# df['Cortisol'] = df['Cortisol'].astype(float)\n",
    "# # ng/ml -> nmol/l (ng/ml *  27.59)\n",
    "# df.loc[indices_to_divide,'Cortisol'] = df.loc[indices_to_divide,'Cortisol'] / 7.65\n"
   ]
  },
  {
   "cell_type": "code",
   "execution_count": 16,
   "metadata": {},
   "outputs": [
    {
     "data": {
      "text/plain": [
       "array(['0', 10.1, 8.4, 7.3, '14.6 pmol/l'], dtype=object)"
      ]
     },
     "execution_count": 16,
     "metadata": {},
     "output_type": "execute_result"
    }
   ],
   "source": [
    "df[\"fT4\"].unique()"
   ]
  },
  {
   "cell_type": "code",
   "execution_count": 17,
   "metadata": {},
   "outputs": [],
   "source": [
    "# # get indices which need to be converted\n",
    "# indices_to_divide = df.loc[df[\"fT4\"].str.contains('ng/ml'),'fT4'].index \n",
    "# # remove units and strings\n",
    "# df['fT4'] = df['fT4'].str.rstrip(r'nmol/l')\n",
    "# df['fT4'] = df['fT4'].str.rstrip(r'ng/ml')\n",
    "# df['fT4'] = df['fT4'].astype(float)\n",
    "# # ng/ml -> nmol/l (ng/ml / 7.65)\n",
    "# df.loc[indices_to_divide,'fT4'] = df.loc[indices_to_divide,'fT4'] / 7.65\n"
   ]
  },
  {
   "cell_type": "code",
   "execution_count": 18,
   "metadata": {},
   "outputs": [],
   "source": [
    "# Patient ID Duplicate Check\n",
    "assert len(df[df[\"PID\"].duplicated()]) == 0\n",
    "\n",
    "# Case Nr Duplicate Check\n",
    "assert len(df[df[\"Fall Nr.\"].duplicated()]) == 0"
   ]
  },
  {
   "cell_type": "code",
   "execution_count": 19,
   "metadata": {},
   "outputs": [],
   "source": [
    "# select and rename columns\n",
    "df = df[column_list]\n",
    "df= df.rename(columns={\"Fall Nr.\": \"Case_ID\",\"PID\": \"Patient_ID\",\n",
    "                       \"Datum/Zeit\": \"Date_MRI\",\"ED\": \"Entry_date\", \"OP Datum\": \"Operation_date\",\n",
    "                       \"Arbeitsplatz.Kürzel\":\"ID_MRI_Machine\",\"Grösse\": \"Adenoma_size\",\"Qualität\": \"Label_Quality\",\n",
    "                       \"Patient Alter\":\"Patient_age\",\"Kategorie\":\"Category\",\"Diagnose\":\"Diagnosis\",\n",
    "                       \"Prolaktin\":\"Prolactin\",\"weiteres Labor\":\"Lab_additional\"})"
   ]
  },
  {
   "cell_type": "code",
   "execution_count": 20,
   "metadata": {},
   "outputs": [
    {
     "data": {
      "text/plain": [
       "Patient_ID                 int64\n",
       "Date_MRI          datetime64[ns]\n",
       "ID_MRI_Machine          category\n",
       "Adenoma_size            category\n",
       "Ausfälle prä              object\n",
       "Label_Quality           category\n",
       "Entry_date        datetime64[ns]\n",
       "Operation_date    datetime64[ns]\n",
       "Ausfälle post             object\n",
       "Diagnosis               category\n",
       "Category                category\n",
       "Patient_age                int64\n",
       "Prolactin                float64\n",
       "IGF1                     float64\n",
       "Cortisol                  object\n",
       "fT4                       object\n",
       "Lab_additional            object\n",
       "dtype: object"
      ]
     },
     "execution_count": 20,
     "metadata": {},
     "output_type": "execute_result"
    }
   ],
   "source": [
    "# set category data type in pandas, check datatypes\n",
    "df['ID_MRI_Machine'] = df['ID_MRI_Machine'].astype('category')\n",
    "df['Adenoma_size'] = df['Adenoma_size'].astype('category')\n",
    "df['Label_Quality'] = df['Label_Quality'].astype('category')\n",
    "df['Diagnosis'] = df['Diagnosis'].astype('category')\n",
    "df['Category'] = df['Category'].astype('category')\n",
    "df.dtypes"
   ]
  },
  {
   "cell_type": "code",
   "execution_count": 21,
   "metadata": {},
   "outputs": [],
   "source": [
    "# replace and correct wrong namings from labelers\n",
    "df[\"Ausfälle prä\"]= df[\"Ausfälle prä\"].str.replace(\"intak\",\"intakt\")\n",
    "df[\"Ausfälle prä\"]= df[\"Ausfälle prä\"].str.replace(\"goando\",\"gonado\")\n",
    "df[\"Ausfälle post\"]= df[\"Ausfälle post\"].str.replace(\"goando\",\"gonado\")\n",
    "df[\"Ausfälle post\"]= df[\"Ausfälle post\"].str.replace(\"adh\",\"ADH\")"
   ]
  },
  {
   "cell_type": "markdown",
   "metadata": {},
   "source": [
    "## One Hot Encode Categorical Values\n",
    "\n",
    "To use and analyse the categorical data we need to one-hot encode them. This is done by splitting the comma separated strings into single strings and then create a one-hot-encoded column of each individual value. This column is then added to the original dataframe."
   ]
  },
  {
   "cell_type": "code",
   "execution_count": 22,
   "metadata": {},
   "outputs": [],
   "source": [
    "# Split the 'Ausfälle prä' column into separate strings\n",
    "df['Ausfälle prä'] = df['Ausfälle prä'].str.split(', ')\n",
    "# Create a set to store all unique disfunctions\n",
    "unique_disfunctions = set()\n",
    "\n",
    "# Iterate over the 'Ausfälle prä' column to gather unique disfunctions\n",
    "for value in df['Ausfälle prä']:\n",
    "    if isinstance(value, list):\n",
    "        unique_disfunctions.update(value)\n",
    "    elif isinstance(value, str):\n",
    "        unique_disfunctions.add(value)\n",
    "\n",
    "# Iterate over the unique disfunctions and create one-hot encoded columns\n",
    "for disfunction in unique_disfunctions:\n",
    "    df[\"Pre_OP_hormone_\"+ disfunction] = df['Ausfälle prä'].apply(lambda x: 1 if (isinstance(x, list) and disfunction in x) or (x == disfunction) else 0)\n",
    "# drop the original 'Ausfälle prä' column\n",
    "df = df.drop('Ausfälle prä', axis=1)"
   ]
  },
  {
   "cell_type": "code",
   "execution_count": 23,
   "metadata": {},
   "outputs": [],
   "source": [
    "# Split the 'Ausfälle post' column into separate strings\n",
    "df['Ausfälle post'] = df['Ausfälle post'].str.split(', ')\n",
    "\n",
    "# Create a set to store all unique disfunctions\n",
    "unique_disfunctions = set()\n",
    "\n",
    "# Iterate over the 'Ausfälle post' column to gather unique disfunctions\n",
    "for value in df['Ausfälle post']:\n",
    "    if isinstance(value, list):\n",
    "        unique_disfunctions.update(value)\n",
    "    elif isinstance(value, str):\n",
    "        unique_disfunctions.add(value)\n",
    "\n",
    "# Iterate over the unique disfunctions and create one-hot encoded columns\n",
    "for disfunction in unique_disfunctions:\n",
    "    df[\"Post_OP_hormone_\"+ disfunction] = df['Ausfälle post'].apply(lambda x: 1 if (isinstance(x, list) and disfunction in x) or (x == disfunction) else 0)\n",
    "\n",
    "# drop the original 'Ausfälle post' column\n",
    "df = df.drop('Ausfälle post', axis=1)"
   ]
  },
  {
   "cell_type": "code",
   "execution_count": 24,
   "metadata": {},
   "outputs": [
    {
     "data": {
      "text/plain": [
       "Index(['Patient_ID', 'Date_MRI', 'ID_MRI_Machine', 'Adenoma_size',\n",
       "       'Label_Quality', 'Entry_date', 'Operation_date', 'Diagnosis',\n",
       "       'Category', 'Patient_age', 'Prolactin', 'IGF1', 'Cortisol', 'fT4',\n",
       "       'Lab_additional', 'Pre_OP_hormone_', 'Pre_OP_hormone_coritco',\n",
       "       'Pre_OP_hormone_hypothyreo', 'Pre_OP_hormone_morbus cushing',\n",
       "       'Pre_OP_hormone_hyperprolaktin', 'Pre_OP_hormone_gondao',\n",
       "       'Pre_OP_hormone_gonado', 'Pre_OP_hormone_cortico',\n",
       "       'Pre_OP_hormone_thyreo', 'Pre_OP_hormone_SIADH',\n",
       "       'Pre_OP_hormone_hyperprolakin stressinduziert',\n",
       "       'Pre_OP_hormone_hypogonado', 'Pre_OP_hormone_intakt',\n",
       "       'Pre_OP_hormone_somato', 'Pre_OP_hormone_keine',\n",
       "       'Pre_OP_hormone_hyperprolaktin stressbedingt', 'Pre_OP_hormone_inaktiv',\n",
       "       'Pre_OP_hormone_Kompression',\n",
       "       'Post_OP_hormone_LH und FSH immunohistoch. Expression',\n",
       "       'Post_OP_hormone_ADH', 'Post_OP_hormone_hyperprolaktin',\n",
       "       'Post_OP_hormone_gonado', 'Post_OP_hormone_cortico',\n",
       "       'Post_OP_hormone_thyreo', 'Post_OP_hormone_intakt',\n",
       "       'Post_OP_hormone_somato', 'Post_OP_hormone_keine',\n",
       "       'Post_OP_hormone_Proliferationsmarker nicht nachgewiesen'],\n",
       "      dtype='object')"
      ]
     },
     "execution_count": 24,
     "metadata": {},
     "output_type": "execute_result"
    }
   ],
   "source": [
    "df.columns"
   ]
  },
  {
   "cell_type": "code",
   "execution_count": 25,
   "metadata": {},
   "outputs": [],
   "source": [
    "df= df[['Patient_ID', 'Date_MRI', 'ID_MRI_Machine','Entry_date', 'Operation_date', 'Adenoma_size',\n",
    "         'Diagnosis',\n",
    "       'Category', 'Patient_age', 'Prolactin',\"IGF1\", 'Cortisol','fT4','Lab_additional',\n",
    "       'Pre_OP_hormone_cortico', 'Pre_OP_hormone_gonado',\n",
    "       'Pre_OP_hormone_somato', 'Pre_OP_hormone_thyreo',\n",
    "       'Pre_OP_hormone_hyperprolaktin', 'Pre_OP_hormone_keine',\n",
    "       'Pre_OP_hormone_intakt', 'Post_OP_hormone_cortico',\n",
    "       'Post_OP_hormone_gonado', 'Post_OP_hormone_somato',\n",
    "       'Post_OP_hormone_ADH', 'Post_OP_hormone_thyreo',\n",
    "       'Post_OP_hormone_hyperprolaktin', 'Post_OP_hormone_keine',\n",
    "       'Post_OP_hormone_intakt', 'Label_Quality',]]"
   ]
  },
  {
   "cell_type": "code",
   "execution_count": 26,
   "metadata": {},
   "outputs": [],
   "source": [
    "df.to_csv(r'../raw_data/label_data.csv',index=False)"
   ]
  },
  {
   "cell_type": "code",
   "execution_count": 27,
   "metadata": {},
   "outputs": [
    {
     "name": "stdout",
     "output_type": "stream",
     "text": [
      "End Clean and Preprocessing patient data\n"
     ]
    }
   ],
   "source": [
    "print(\"End Clean and Preprocessing patient data\")"
   ]
  },
  {
   "cell_type": "markdown",
   "metadata": {},
   "source": [
    "# Data Cleaning and Selection Labor data"
   ]
  },
  {
   "cell_type": "code",
   "execution_count": 28,
   "metadata": {},
   "outputs": [
    {
     "name": "stdout",
     "output_type": "stream",
     "text": [
      "Start Clean and Preprocessing labor data\n"
     ]
    }
   ],
   "source": [
    "print(\"Start Clean and Preprocessing labor data\")"
   ]
  },
  {
   "cell_type": "markdown",
   "metadata": {},
   "source": [
    "## Read"
   ]
  },
  {
   "cell_type": "code",
   "execution_count": 47,
   "metadata": {},
   "outputs": [],
   "source": [
    "labor_data = pd.read_excel(\"../raw_data/extract_pit.xlsx\")"
   ]
  },
  {
   "cell_type": "code",
   "execution_count": 48,
   "metadata": {},
   "outputs": [],
   "source": [
    "ids = {'Ã¼': 'ü', 'Ã¤': 'ä', \"Ã„\":\"Ä\",\"√§\":\"ä\"}\n",
    "\n",
    "for column in labor_data.columns[labor_data.columns.isin([\"FALL_NR\",\"PATIENT_NR\",\"Datum_Resultat\",\"Auftragsdatum\"]) == False]:\n",
    "    for old, new in ids.items():\n",
    "        labor_data[column] = labor_data[column].str.replace(old, new, regex=False)\n",
    "clean_result = lambda result: re.sub(r'(?<!\\d)\\.', '', re.sub(r'[^\\d.]', '', str(result))) #clean < zahl / > zahl / 1 A zahl\n",
    "labor_data[\"Resultat\"] = labor_data[\"Resultat\"].apply(clean_result) \n",
    "labor_data = labor_data[labor_data[\"Resultat\"] != \"\"]\n",
    "labor_data[\"Resultat\"] = labor_data[\"Resultat\"].astype(float)\n",
    "labor_data[\"Normwert\"] = labor_data[\"Normwert\"].str.lower().str.replace(\" \", \"\").replace(\"\",np.nan)\n",
    "labor_data[\"Warnung\"] = labor_data[\"Warnung\"].replace('   ',np.nan)"
   ]
  },
  {
   "cell_type": "code",
   "execution_count": 49,
   "metadata": {},
   "outputs": [],
   "source": [
    "assert labor_data[\"Datum_Resultat\"].min() > pd.to_datetime(\"1995-01-01\")"
   ]
  },
  {
   "cell_type": "code",
   "execution_count": 61,
   "metadata": {},
   "outputs": [],
   "source": [
    "labor_data_for_modell = labor_data.drop(columns = [\"Warnung\",\"Einheit\",\"Auftraggeber\",\"Normwert\",\"Analyse\",\"Auftragsdatum\",\"FALL_NR\"])"
   ]
  },
  {
   "cell_type": "code",
   "execution_count": 62,
   "metadata": {},
   "outputs": [],
   "source": [
    "# mean of results of same date\n",
    "labor_data_for_modell = labor_data_for_modell.groupby([\"PATIENT_NR\",\"Analyse-ID\",\"Datum_Resultat\"])[\"Resultat\"].agg([np.mean]).reset_index()"
   ]
  },
  {
   "cell_type": "code",
   "execution_count": 63,
   "metadata": {},
   "outputs": [],
   "source": [
    "patient_data = pd.read_excel(r'../raw_data/Hypophysenpatienten.xlsx',sheet_name='w duplicates').loc[:,[\"PID\",\"Datum/Zeit\",\"Fall Nr.\"]].rename(columns={\"PID\":\"PATIENT_NR\"})"
   ]
  },
  {
   "cell_type": "code",
   "execution_count": 64,
   "metadata": {},
   "outputs": [
    {
     "name": "stdout",
     "output_type": "stream",
     "text": [
      "69 Fälle wurden gelöscht, weil sie mehrfach vorkommen.\n"
     ]
    }
   ],
   "source": [
    "# if there are multiple\n",
    "n_patients = len(patient_data)\n",
    "patient_data = patient_data.groupby([\"PATIENT_NR\",\"Fall Nr.\"])[\"Datum/Zeit\"].max().reset_index()\n",
    "print(f\"{n_patients-len(patient_data)} Fälle wurden gelöscht, weil sie mehrfach vorkommen.\")"
   ]
  },
  {
   "cell_type": "code",
   "execution_count": 65,
   "metadata": {},
   "outputs": [],
   "source": [
    "labor_data_for_modell = pd.merge(labor_data_for_modell,patient_data,on=\"PATIENT_NR\",how = \"right\")\n",
    "labor_data_for_modell = labor_data_for_modell[labor_data_for_modell[\"Datum/Zeit\"] >= labor_data_for_modell[\"Datum_Resultat\"]].drop(columns=\"Datum/Zeit\")"
   ]
  },
  {
   "cell_type": "code",
   "execution_count": 67,
   "metadata": {},
   "outputs": [],
   "source": [
    "# Compute minimum date for each patient and analysis\n",
    "max_dates = labor_data_for_modell.groupby(['PATIENT_NR', \"Analyse-ID\",\"Fall Nr.\"])['Datum_Resultat'].max().reset_index()\n",
    "# Merge with the original DataFrame to filter rows with minimum dates\n",
    "labor_data_for_modell = pd.merge(labor_data_for_modell, max_dates, on=['PATIENT_NR', 'Analyse-ID', 'Datum_Resultat',\"Fall Nr.\"])"
   ]
  },
  {
   "cell_type": "code",
   "execution_count": 69,
   "metadata": {},
   "outputs": [],
   "source": [
    "# check for any duplicate Values\n",
    "assert len(labor_data_for_modell.loc[:,[\"Fall Nr.\",\"Analyse-ID\"]].drop_duplicates()) == len(labor_data_for_modell)"
   ]
  },
  {
   "cell_type": "code",
   "execution_count": 70,
   "metadata": {},
   "outputs": [],
   "source": [
    "labor_data_for_modell = labor_data_for_modell.pivot(index=[\"PATIENT_NR\",\"Fall Nr.\"],values = ['mean'], columns = ['Analyse-ID'])\n",
    "labor_data_for_modell.columns = labor_data_for_modell.columns.droplevel()\n",
    "labor_data_for_modell = labor_data_for_modell.reset_index()"
   ]
  },
  {
   "cell_type": "code",
   "execution_count": 72,
   "metadata": {},
   "outputs": [
    {
     "name": "stdout",
     "output_type": "stream",
     "text": [
      "Sparsity of labordata: 0.254 % (nur von Fällen mit Laborwerten)\n",
      "Von 541 Fällen gibt es keine Laborwerte.\n"
     ]
    }
   ],
   "source": [
    "print(f\"Sparsity of labordata: {round(labor_data_for_modell.isna().mean().mean(),3)} % (nur von Fällen mit Laborwerten)\")\n",
    "print(f\"Von {len(patient_data)-len(labor_data_for_modell)} Fällen gibt es keine Laborwerte.\")"
   ]
  },
  {
   "cell_type": "code",
   "execution_count": 73,
   "metadata": {},
   "outputs": [],
   "source": [
    "labor_data_for_modell.to_csv(r'../raw_data/labor_data_preprocessed.csv',index=False)"
   ]
  },
  {
   "cell_type": "code",
   "execution_count": 46,
   "metadata": {},
   "outputs": [
    {
     "name": "stdout",
     "output_type": "stream",
     "text": [
      "End Clean and Preprocessing labor data\n"
     ]
    }
   ],
   "source": [
    "print(\"End Clean and Preprocessing labor data\")"
   ]
  }
 ],
 "metadata": {
  "kernelspec": {
   "display_name": "AgroLuege--zjmSdF3",
   "language": "python",
   "name": "python3"
  },
  "language_info": {
   "codemirror_mode": {
    "name": "ipython",
    "version": 3
   },
   "file_extension": ".py",
   "mimetype": "text/x-python",
   "name": "python",
   "nbconvert_exporter": "python",
   "pygments_lexer": "ipython3",
   "version": "3.10.7"
  }
 },
 "nbformat": 4,
 "nbformat_minor": 2
}
