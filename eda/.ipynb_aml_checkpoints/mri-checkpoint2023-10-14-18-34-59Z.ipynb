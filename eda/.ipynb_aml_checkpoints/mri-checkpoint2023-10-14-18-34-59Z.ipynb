{
  "cells": [
    {
      "cell_type": "markdown",
      "metadata": {},
      "source": [
        "# Preprocess MRI\n",
        "## Packages"
      ]
    },
    {
      "cell_type": "code",
      "execution_count": 14,
      "metadata": {
        "gather": {
          "logged": 1699972359395
        }
      },
      "outputs": [],
      "source": [
        "import pydicom as dicom\n",
        "import numpy as np\n",
        "import matplotlib.pyplot as plt\n",
        "import os\n",
        "import nibabel as nib\n",
        "from ipywidgets import interact\n",
        "from matplotlib.colors import ListedColormap\n",
        "from azureml.core import Workspace, Dataset, Datastore\n",
        "import shutil\n",
        "import os"
      ]
    },
    {
      "cell_type": "markdown",
      "metadata": {},
      "source": [
        "### Helper Functions"
      ]
    },
    {
      "cell_type": "code",
      "execution_count": 31,
      "metadata": {},
      "outputs": [],
      "source": [
        "slice_description_to_use = ['t1_tse_cor', \n",
        "                            't1_tse_fs_cor', \n",
        "                            't1_tse_sag', \n",
        "                            't2_tse_fs_cor',\n",
        "                            't2_tse_fs_sag',\n",
        "\n",
        "                            't1_tse_cor_T', \n",
        "                            't1_tse_fs_cor_T', \n",
        "                            't1_tse_sag_T', \n",
        "                            't2_tse_fs_cor_T',\n",
        "                            't2_tse_fs_sag_T']\n",
        "def get_mri_slices_from_file(path,slice_descriptions = slice_description_to_use):\n",
        "    path = f\"../raw_data/downloaded_mri_files/{path}/\"\n",
        "    path_list = os.listdir(path)\n",
        "    slices = []\n",
        "    for dcm_path in path_list:\n",
        "        try:\n",
        "            slice = dicom.dcmread(path + \"/\" + dcm_path) \n",
        "            if slice.SeriesDescription in slice_descriptions:\n",
        "                slices.append(slice)\n",
        "            else: \n",
        "                pass\n",
        "        except:\n",
        "            pass\n",
        "    return slices\n",
        "\n",
        "def get_slice_descriptions(slices):\n",
        "    names = [ds.SeriesDescription for ds in slices]\n",
        "    return np.unique(names,return_counts=True)\n",
        "\n",
        "def slices_sort_and_selectet(slices,slice_type):\n",
        "    slices.sort(key=lambda x: int(x.SliceLocation))\n",
        "    type_ = [slic.SeriesDescription == slice_type for slic in slices]\n",
        "    slice_one_type = np.array(slices)[type_]\n",
        "    return slice_one_type\n",
        "\n",
        "def visualize_slices(slices):\n",
        "    cmap = plt.cm.winter\n",
        "    # Get the colormap colors\n",
        "    my_cmap = cmap(np.arange(cmap.N))\n",
        "    my_cmap[:,-1] = np.linspace(0, 1, cmap.N)\n",
        "    my_cmap = ListedColormap(my_cmap)\n",
        "\n",
        "    # Visualize Images as a slider\n",
        "    def show_slice(i):\n",
        "        plt.imshow(slices[i].pixel_array, cmap='gray')\n",
        "        plt.title(slices[i].SliceLocation)\n",
        "        plt.show()\n",
        "    interact(show_slice, i=(0, len(slices)-1))\n",
        "\n",
        "def pad_array(original_array,axis,padd_size):\n",
        "    # Calculate padding\n",
        "    total_padding = padd_size - 15 \n",
        "    padding_before = total_padding // 2 \n",
        "    padding_after = total_padding - padding_before\n",
        "    if axis == 0:\n",
        "        padding = ((padding_before, padding_after),(0, 0), (0, 0))\n",
        "    elif axis == 1:\n",
        "        padding = ((0, 0),(padding_before, padding_after), (0, 0))\n",
        "    elif axis == 2:\n",
        "        padding = ((0, 0),(0, 0), (padding_before, padding_after))\n",
        "    # Pad the array\n",
        "    padded_array = np.pad(\n",
        "        original_array,\n",
        "        padding,\n",
        "        mode='constant',\n",
        "        constant_values=0\n",
        "    )\n",
        "    return padded_array\n",
        "def delete_full_mri_storage(file_number):\n",
        "    folder_path = f\"../raw_data/downloaded_mri_files/{file_number}/\"\n",
        "    shutil.rmtree(folder_path)\n",
        "def save_files(slices,file,slice_description_to_use=slice_description_to_use):\n",
        "    for description in slice_description_to_use:\n",
        "        slices_selected = slices_sort_and_selectet(slices,description)\n",
        "        if len(slices_selected) > 0:\n",
        "            array_list = np.array([dcm.pixel_array for dcm in slices_selected])\n",
        "            volume_3d = np.stack(array_list, axis=-1)\n",
        "            affine = np.eye(4)\n",
        "            nifti_img = nib.Nifti1Image(volume_3d, affine)\n",
        "            directory = os.path.dirname(f\"../raw_data/nii_files/{description}/\")\n",
        "            if not os.path.exists(directory):\n",
        "                os.makedirs(directory)\n",
        "            nib.save(nifti_img, f'../raw_data/nii_files/{description}/{str(file)}.nii')\n",
        "\n",
        "def download_file(file):\n",
        "    subscription_id = '35068096-667c-4620-8bb2-6b050765fd4e'\n",
        "    resource_group = 'ComputeFHNW'\n",
        "    workspace_name = 'FHNW'\n",
        "    workspace = Workspace(subscription_id, resource_group, workspace_name) \n",
        "    datastore = Datastore.get(workspace, \"mrialldata\")\n",
        "    dataset = Dataset.File.from_files(path=(datastore, 'output.deid/images/' + file))\n",
        "    dataset.download(target_path='../raw_data/downloaded_mri_files/' + file, overwrite=True)"
      ]
    },
    {
      "cell_type": "code",
      "execution_count": 16,
      "metadata": {
        "gather": {
          "logged": 1699972164124
        }
      },
      "outputs": [],
      "source": [
        "subscription_id = '35068096-667c-4620-8bb2-6b050765fd4e'\n",
        "resource_group = 'ComputeFHNW'\n",
        "workspace_name = 'FHNW'\n",
        "workspace = Workspace(subscription_id, resource_group, workspace_name)\n",
        "datastore = Datastore.get(workspace, \"mrialldata\")\n",
        "dataset = Dataset.File.from_files(path=(datastore, 'output.deid/images/'))\n",
        "mount_context = dataset.mount()\n",
        "mount_context.start()\n",
        "files = next(os.walk(mount_context.mount_point))[1]\n",
        "mount_context.stop()\n"
      ]
    },
    {
      "cell_type": "code",
      "execution_count": 32,
      "metadata": {},
      "outputs": [
        {
          "name": "stdout",
          "output_type": "stream",
          "text": [
            "7282971\n",
            "7299328\n"
          ]
        }
      ],
      "source": [
        "for file in files:\n",
        "    download_file(file)\n",
        "    slices = get_mri_slices_from_file(file)\n",
        "    if len(get_slice_descriptions(slices)[0]) != 5:\n",
        "        print(file)\n",
        "        continue\n",
        "    save_files(slices,file)\n",
        "    delete_full_mri_storage(file)"
      ]
    },
    {
      "cell_type": "code",
      "execution_count": 59,
      "metadata": {},
      "outputs": [
        {
          "data": {
            "application/vnd.jupyter.widget-view+json": {
              "model_id": "802eba72ce66499f96035abcd8d60cca",
              "version_major": 2,
              "version_minor": 0
            },
            "text/plain": [
              "interactive(children=(IntSlider(value=9, description='i', max=19), Output()), _dom_classes=('widget-interact',…"
            ]
          },
          "metadata": {},
          "output_type": "display_data"
        }
      ],
      "source": [
        "slice_t2_cor = slices_sort_and_selectet(slices,\"t2_tse_fs_cor\")\n",
        "visualize_slices(slice_t2_cor) # 7 - 9 Relevant evtl bei 125 - 250 y-achse 100 - 300 x- achse"
      ]
    },
    {
      "cell_type": "code",
      "execution_count": null,
      "metadata": {},
      "outputs": [
        {
          "data": {
            "application/vnd.jupyter.widget-view+json": {
              "model_id": "697a28330f4d4b6daffc4a1c1208c90b",
              "version_major": 2,
              "version_minor": 0
            },
            "text/plain": [
              "interactive(children=(IntSlider(value=7, description='i', max=14), Output()), _dom_classes=('widget-interact',…"
            ]
          },
          "metadata": {},
          "output_type": "display_data"
        }
      ],
      "source": [
        "slice_t1_cor = slices_sort_and_selectet(slices,\"t1_tse_fs_cor\")\n",
        "visualize_slices(slice_t1_cor) # (6) 7,8 (9)"
      ]
    },
    {
      "cell_type": "code",
      "execution_count": 40,
      "metadata": {},
      "outputs": [
        {
          "data": {
            "application/vnd.jupyter.widget-view+json": {
              "model_id": "be0e2352b56a43218a1cb5b72972d6d2",
              "version_major": 2,
              "version_minor": 0
            },
            "text/plain": [
              "interactive(children=(IntSlider(value=7, description='i', max=14), Output()), _dom_classes=('widget-interact',…"
            ]
          },
          "metadata": {},
          "output_type": "display_data"
        }
      ],
      "source": [
        "t1_tse_cor= slices_sort_and_selectet(slices,\"t1_tse_sag\")\n",
        "visualize_slices(t1_tse_cor)"
      ]
    },
    {
      "cell_type": "code",
      "execution_count": null,
      "metadata": {},
      "outputs": [
        {
          "data": {
            "application/vnd.jupyter.widget-view+json": {
              "model_id": "9870403538db44069221405850fbdae4",
              "version_major": 2,
              "version_minor": 0
            },
            "text/plain": [
              "interactive(children=(IntSlider(value=7, description='i', max=14), Output()), _dom_classes=('widget-interact',…"
            ]
          },
          "metadata": {},
          "output_type": "display_data"
        }
      ],
      "source": [
        "slice_t2_sag= slices_sort_and_selectet(slices,\"t2_tse_fs_sag\")\n",
        "visualize_slices(slice_t2_sag) # 4-9 y-achse 125 - 250 x achse 100 -300"
      ]
    },
    {
      "cell_type": "code",
      "execution_count": 131,
      "metadata": {},
      "outputs": [
        {
          "name": "stdout",
          "output_type": "stream",
          "text": [
            "(200, 267, 267)\n"
          ]
        }
      ],
      "source": [
        "# Read the DICOM files and stack them into a single 3D numpy array\n",
        "array_list = np.array([dcm.pixel_array for dcm in slices_sort_and_selectet(slices,\"t1_mprage_we_sag_MPR_cor\")]).transpose((0,1,2))\n",
        "#array_list = pad_array(array_list,axis= 1,padd_size=150)\n",
        "array_list= np.rot90(array_list,k=45, axes=(1,2))\n",
        "print(array_list.shape)\n",
        "volume_3d = np.stack(array_list, axis=-1)\n",
        "\n",
        "# Create a NIfTI image (you might need to provide the correct affine transformation)\n",
        "affine = np.eye(4)  # This is a placeholder; you may need the actual affine from DICOM headers\n",
        "nifti_img = nib.Nifti1Image(volume_3d, affine)\n",
        "\n",
        "# Save the NIfTI image to a file\n",
        "nib.save(nifti_img, '../raw_data/nii_files/test.nii')"
      ]
    },
    {
      "cell_type": "code",
      "execution_count": null,
      "metadata": {},
      "outputs": [],
      "source": [
        "array_list = np.array([dcm.pixel_array for dcm in slices_sort_and_selectet(slices,\"t1_mprage_we_sag_MPR_cor\")])\n",
        "volume_3d = np.stack(array_list, axis=-1)\n",
        "nifti_img = nib.Nifti1Image(volume_3d, affine)\n",
        "nib.save(nifti_img, '../raw_data/nii_files/test.nii')"
      ]
    },
    {
      "cell_type": "code",
      "execution_count": 132,
      "metadata": {},
      "outputs": [
        {
          "data": {
            "application/vnd.jupyter.widget-view+json": {
              "model_id": "fc4cfe4808674356944e225dcb139806",
              "version_major": 2,
              "version_minor": 0
            },
            "text/plain": [
              "interactive(children=(IntSlider(value=133, description='i', max=266), Output()), _dom_classes=('widget-interac…"
            ]
          },
          "metadata": {},
          "output_type": "display_data"
        },
        {
          "data": {
            "text/plain": [
              "<function __main__.show_slice(i)>"
            ]
          },
          "execution_count": 132,
          "metadata": {},
          "output_type": "execute_result"
        }
      ],
      "source": [
        "def show_slice(i):\n",
        "    plt.imshow(array_list[:,:,i], cmap='gray')\n",
        "    plt.show()\n",
        "\n",
        "interact(show_slice, i=(0, array_list.shape[2]-1))"
      ]
    },
    {
      "cell_type": "code",
      "execution_count": null,
      "metadata": {},
      "outputs": [],
      "source": []
    }
  ],
  "metadata": {
    "kernel_info": {
      "name": "python38-azureml"
    },
    "kernelspec": {
      "display_name": "Python 3.8 - AzureML",
      "language": "python",
      "name": "python38-azureml"
    },
    "language_info": {
      "codemirror_mode": {
        "name": "ipython",
        "version": 3
      },
      "file_extension": ".py",
      "mimetype": "text/x-python",
      "name": "python",
      "nbconvert_exporter": "python",
      "pygments_lexer": "ipython3",
      "version": "3.8.5"
    },
    "microsoft": {
      "ms_spell_check": {
        "ms_spell_check_language": "en"
      }
    },
    "nteract": {
      "version": "nteract-front-end@1.0.0"
    }
  },
  "nbformat": 4,
  "nbformat_minor": 2
}
