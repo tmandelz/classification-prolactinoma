{
  "cells": [
    {
      "cell_type": "markdown",
      "source": [
        "# Preprocess MRI\n",
        "## Packages"
      ],
      "metadata": {}
    },
    {
      "cell_type": "code",
      "source": [
        "import pydicom as dicom\n",
        "import numpy as np\n",
        "import matplotlib.pyplot as plt\n",
        "import os\n",
        "import nibabel as nib\n",
        "from ipywidgets import interact\n",
        "from matplotlib.colors import ListedColormap"
      ],
      "outputs": [
        {
          "output_type": "error",
          "ename": "ModuleNotFoundError",
          "evalue": "No module named 'pydicom'",
          "traceback": [
            "\u001b[0;31m---------------------------------------------------------------------------\u001b[0m",
            "\u001b[0;31mModuleNotFoundError\u001b[0m                       Traceback (most recent call last)",
            "Cell \u001b[0;32mIn[1], line 1\u001b[0m\n\u001b[0;32m----> 1\u001b[0m \u001b[38;5;28;01mimport\u001b[39;00m \u001b[38;5;21;01mpydicom\u001b[39;00m \u001b[38;5;28;01mas\u001b[39;00m \u001b[38;5;21;01mdicom\u001b[39;00m\n\u001b[1;32m      2\u001b[0m \u001b[38;5;28;01mimport\u001b[39;00m \u001b[38;5;21;01mnumpy\u001b[39;00m \u001b[38;5;28;01mas\u001b[39;00m \u001b[38;5;21;01mnp\u001b[39;00m\n\u001b[1;32m      3\u001b[0m \u001b[38;5;28;01mimport\u001b[39;00m \u001b[38;5;21;01mmatplotlib\u001b[39;00m\u001b[38;5;21;01m.\u001b[39;00m\u001b[38;5;21;01mpyplot\u001b[39;00m \u001b[38;5;28;01mas\u001b[39;00m \u001b[38;5;21;01mplt\u001b[39;00m\n",
            "\u001b[0;31mModuleNotFoundError\u001b[0m: No module named 'pydicom'"
          ]
        }
      ],
      "execution_count": 1,
      "metadata": {
        "gather": {
          "logged": 1699971712427
        },
        "vscode": {
          "languageId": "python"
        }
      }
    },
    {
      "cell_type": "markdown",
      "source": [
        "### Helper Functions"
      ],
      "metadata": {}
    },
    {
      "cell_type": "code",
      "source": [
        "def get_mri_slices_from_path(path):\n",
        "    path_list = os.listdir(path)\n",
        "    slices = []\n",
        "    for dcm_path in path_list:\n",
        "        try:\n",
        "            slice = dicom.dcmread(path + \"/\" + dcm_path)  \n",
        "            slices.append(slice)\n",
        "        except:\n",
        "            pass\n",
        "    return slices\n",
        "\n",
        "def get_slice_descriptions(slices):\n",
        "    names = [ds.SeriesDescription for ds in slices]\n",
        "    print(np.unique(names,return_counts=True))\n",
        "\n",
        "def slices_sort_and_selectet(slices,slice_type):\n",
        "    slices.sort(key=lambda x: int(x.SliceLocation))\n",
        "    type = [slic.SeriesDescription == slice_type for slic in slices]\n",
        "    slice_one_type = np.array(slices)[type]\n",
        "    return slice_one_type\n",
        "\n",
        "def visualize_slices(slices):\n",
        "    cmap = plt.cm.winter\n",
        "    # Get the colormap colors\n",
        "    my_cmap = cmap(np.arange(cmap.N))\n",
        "    my_cmap[:,-1] = np.linspace(0, 1, cmap.N)\n",
        "    my_cmap = ListedColormap(my_cmap)\n",
        "\n",
        "    # Visualize Images as a slider\n",
        "    def show_slice(i):\n",
        "        plt.imshow(slices[i].pixel_array, cmap='gray')\n",
        "        plt.show()\n",
        "\n",
        "    interact(show_slice, i=(0, len(slices)-1))\n",
        "def pad_array(original_array,axis,padd_size):\n",
        "\n",
        "    # Calculate padding\n",
        "    total_padding = padd_size - 15 \n",
        "    padding_before = total_padding // 2 \n",
        "    padding_after = total_padding - padding_before\n",
        "    if axis == 0:\n",
        "        padding = ((padding_before, padding_after),(0, 0), (0, 0))\n",
        "    elif axis == 1:\n",
        "        padding = ((0, 0),(padding_before, padding_after), (0, 0))\n",
        "    elif axis == 2:\n",
        "        padding = ((0, 0),(0, 0), (padding_before, padding_after))\n",
        "    # Pad the array\n",
        "    padded_array = np.pad(\n",
        "        original_array,\n",
        "        padding,\n",
        "        mode='constant',\n",
        "        constant_values=0\n",
        "    )\n",
        "    return padded_array"
      ],
      "outputs": [],
      "execution_count": 8,
      "metadata": {
        "vscode": {
          "languageId": "python"
        }
      }
    },
    {
      "cell_type": "code",
      "source": [
        "from azureml.core import Workspace, Dataset, Datastore\n",
        "import os\n",
        "subscription_id = '35068096-667c-4620-8bb2-6b050765fd4e'\n",
        "resource_group = 'ComputeFHNW'\n",
        "workspace_name = 'FHNW'\n",
        "workspace = Workspace(subscription_id, resource_group, workspace_name) \n",
        "datastore = Datastore.get(workspace, \"mrialldata\")\n",
        "dataset = Dataset.File.from_files(path=(datastore, 'output.deid/images/'))\n",
        "mount_context = dataset.mount()\n",
        "mount_context.start()\n",
        "files = next(os.walk(mount_context.mount_point))[1]\n",
        "#mount_context.stop()\n"
      ],
      "outputs": [
        {
          "output_type": "stream",
          "name": "stderr",
          "text": "Message: Running rslex direct volume mount: RSLEX_DIRECT_VOLUME_MOUNT=None, RSLEX_DIRECT_VOLUME_WRITABLE_MOUNT=None, enable_rslex_mount=None\nPayload: {\"pid\": 7698, \"source\": \"azureml.dataprep\", \"version\": \"4.11.3\", \"trace\": \"azureml|data|dataset_error_handling.py, line 66 in function _validate_has_data.\\nazureml|data|dataset_factory.py, line 906 in function from_files.\\nazureml|data|_loggerfactory.py, line 132 in function wrapper.\", \"subscription\": \"\", \"run_id\": \"\", \"resource_group\": \"\", \"workspace_name\": \"\", \"experiment_id\": \"\", \"location\": \"\", \"rslex_version\": \"2.18.3\"}\n"
        }
      ],
      "execution_count": 4,
      "metadata": {
        "vscode": {
          "languageId": "python"
        },
        "gather": {
          "logged": 1699972164124
        }
      }
    },
    {
      "cell_type": "code",
      "source": [
        "from azureml.core import Workspace, Dataset, Datastore\n",
        "import os\n",
        "subscription_id = '35068096-667c-4620-8bb2-6b050765fd4e'\n",
        "resource_group = 'ComputeFHNW'\n",
        "workspace_name = 'FHNW'\n",
        "workspace = Workspace(subscription_id, resource_group, workspace_name) \n",
        "datastore = Datastore.get(workspace, \"mrialldata\")\n",
        "dataset = Dataset.File.from_files(path=(datastore, 'output.deid/images/' + str(files[0])))\n",
        "dataset.download(target_path='./raw_data/downloaded_mri_files/' + str(files[0]), overwrite=True)"
      ],
      "outputs": [],
      "execution_count": null,
      "metadata": {
        "jupyter": {
          "source_hidden": false,
          "outputs_hidden": false
        },
        "nteract": {
          "transient": {
            "deleting": false
          }
        },
        "gather": {
          "logged": 1699972217180
        }
      }
    },
    {
      "cell_type": "code",
      "source": [],
      "outputs": [],
      "execution_count": null,
      "metadata": {
        "vscode": {
          "languageId": "python"
        }
      }
    },
    {
      "cell_type": "code",
      "source": [
        "slices = get_mri_slices_from_path(\"../raw_data/MRI\")"
      ],
      "outputs": [],
      "execution_count": 23,
      "metadata": {
        "vscode": {
          "languageId": "python"
        }
      }
    },
    {
      "cell_type": "code",
      "source": [
        "get_slice_descriptions(slices)"
      ],
      "outputs": [
        {
          "output_type": "stream",
          "name": "stdout",
          "text": "(array(['ep2d_diff_tra_ADC', 'ep2d_diff_tra_TRACEW', 't1_mprage_we_sag',\n       't1_mprage_we_sag_MPR_cor', 't1_mprage_we_sag_MPR_tra',\n       't1_tse_cor', 't1_tse_fs_cor', 't1_tse_sag', 't2_tse_fs_cor',\n       't2_tse_fs_sag'], dtype='<U24'), array([ 30,  60, 208, 200, 210,  15,  15,  15,  15,  15]))\n"
        }
      ],
      "execution_count": null,
      "metadata": {
        "vscode": {
          "languageId": "python"
        }
      }
    },
    {
      "cell_type": "code",
      "source": [
        "slice_t2_cor = slices_sort_and_selectet(slices,\"t2_tse_fs_cor\")\n",
        "visualize_slices(slice_t2_cor) # 7 - 9 Relevant evtl bei 125 - 250 y-achse 100 - 300 x- achse"
      ],
      "outputs": [
        {
          "output_type": "display_data",
          "data": {
            "application/vnd.jupyter.widget-view+json": {
              "model_id": "30ea90e6954a46fb8d6db930a1064ed8",
              "version_major": 2,
              "version_minor": 0
            },
            "text/plain": "interactive(children=(IntSlider(value=7, description='i', max=14), Output()), _dom_classes=('widget-interact',…"
          },
          "metadata": {}
        }
      ],
      "execution_count": null,
      "metadata": {
        "vscode": {
          "languageId": "python"
        }
      }
    },
    {
      "cell_type": "code",
      "source": [
        "slice_t1_cor = slices_sort_and_selectet(slices,\"t1_tse_fs_cor\")\n",
        "visualize_slices(slice_t1_cor) # (6) 7,8 (9)"
      ],
      "outputs": [
        {
          "output_type": "display_data",
          "data": {
            "application/vnd.jupyter.widget-view+json": {
              "model_id": "697a28330f4d4b6daffc4a1c1208c90b",
              "version_major": 2,
              "version_minor": 0
            },
            "text/plain": "interactive(children=(IntSlider(value=7, description='i', max=14), Output()), _dom_classes=('widget-interact',…"
          },
          "metadata": {}
        }
      ],
      "execution_count": null,
      "metadata": {
        "vscode": {
          "languageId": "python"
        }
      }
    },
    {
      "cell_type": "code",
      "source": [
        "t1_tse_cor= slices_sort_and_selectet(slices,\"t1_tse_cor\")\n",
        "visualize_slices(t1_tse_cor)"
      ],
      "outputs": [
        {
          "output_type": "display_data",
          "data": {
            "application/vnd.jupyter.widget-view+json": {
              "model_id": "af60b35043824521ba26ccd4072e2f67",
              "version_major": 2,
              "version_minor": 0
            },
            "text/plain": "interactive(children=(IntSlider(value=7, description='i', max=14), Output()), _dom_classes=('widget-interact',…"
          },
          "metadata": {}
        }
      ],
      "execution_count": null,
      "metadata": {
        "vscode": {
          "languageId": "python"
        }
      }
    },
    {
      "cell_type": "code",
      "source": [
        "slice_t2_sag= slices_sort_and_selectet(slices,\"t2_tse_fs_sag\")\n",
        "visualize_slices(slice_t2_sag) # 4-9 y-achse 125 - 250 x achse 100 -300"
      ],
      "outputs": [
        {
          "output_type": "display_data",
          "data": {
            "application/vnd.jupyter.widget-view+json": {
              "model_id": "9870403538db44069221405850fbdae4",
              "version_major": 2,
              "version_minor": 0
            },
            "text/plain": "interactive(children=(IntSlider(value=7, description='i', max=14), Output()), _dom_classes=('widget-interact',…"
          },
          "metadata": {}
        }
      ],
      "execution_count": null,
      "metadata": {
        "vscode": {
          "languageId": "python"
        }
      }
    },
    {
      "cell_type": "code",
      "source": [
        "# Read the DICOM files and stack them into a single 3D numpy array\n",
        "array_list = np.array([dcm.pixel_array for dcm in slices_sort_and_selectet(slices,\"t1_mprage_we_sag_MPR_cor\")]).transpose((0,1,2))\n",
        "#array_list = pad_array(array_list,axis= 1,padd_size=150)\n",
        "array_list= np.rot90(array_list,k=45, axes=(1,2))\n",
        "print(array_list.shape)\n",
        "volume_3d = np.stack(array_list, axis=-1)\n",
        "\n",
        "# Create a NIfTI image (you might need to provide the correct affine transformation)\n",
        "affine = np.eye(4)  # This is a placeholder; you may need the actual affine from DICOM headers\n",
        "nifti_img = nib.Nifti1Image(volume_3d, affine)\n",
        "\n",
        "# Save the NIfTI image to a file\n",
        "nib.save(nifti_img, '../raw_data/nii_files/test.nii')"
      ],
      "outputs": [
        {
          "output_type": "stream",
          "name": "stdout",
          "text": "(200, 267, 267)\n"
        }
      ],
      "execution_count": 131,
      "metadata": {
        "vscode": {
          "languageId": "python"
        }
      }
    },
    {
      "cell_type": "code",
      "source": [
        "def show_slice(i):\n",
        "    plt.imshow(array_list[:,:,i], cmap='gray')\n",
        "    plt.show()\n",
        "\n",
        "interact(show_slice, i=(0, array_list.shape[2]-1))"
      ],
      "outputs": [
        {
          "output_type": "display_data",
          "data": {
            "application/vnd.jupyter.widget-view+json": {
              "model_id": "fc4cfe4808674356944e225dcb139806",
              "version_major": 2,
              "version_minor": 0
            },
            "text/plain": "interactive(children=(IntSlider(value=133, description='i', max=266), Output()), _dom_classes=('widget-interac…"
          },
          "metadata": {}
        },
        {
          "output_type": "execute_result",
          "execution_count": 132,
          "data": {
            "text/plain": "<function __main__.show_slice(i)>"
          },
          "metadata": {}
        }
      ],
      "execution_count": 132,
      "metadata": {
        "vscode": {
          "languageId": "python"
        }
      }
    },
    {
      "cell_type": "code",
      "source": [],
      "outputs": [],
      "execution_count": null,
      "metadata": {
        "vscode": {
          "languageId": "python"
        }
      }
    }
  ],
  "metadata": {
    "kernel_info": {
      "name": "python38-azureml"
    },
    "kernelspec": {
      "display_name": "Python 3.10 - SDK v2",
      "language": "python",
      "name": "python310-sdkv2"
    },
    "language_info": {
      "name": "python",
      "version": "3.10.11",
      "mimetype": "text/x-python",
      "codemirror_mode": {
        "name": "ipython",
        "version": 3
      },
      "pygments_lexer": "ipython3",
      "nbconvert_exporter": "python",
      "file_extension": ".py"
    },
    "microsoft": {
      "ms_spell_check": {
        "ms_spell_check_language": "en"
      }
    },
    "nteract": {
      "version": "nteract-front-end@1.0.0"
    }
  },
  "nbformat": 4,
  "nbformat_minor": 2
}