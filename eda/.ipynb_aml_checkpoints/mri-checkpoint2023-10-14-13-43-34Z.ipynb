{
  "cells": [
    {
      "cell_type": "markdown",
      "metadata": {},
      "source": [
        "# Preprocess MRI\n",
        "## Packages"
      ]
    },
    {
      "cell_type": "code",
      "execution_count": null,
      "metadata": {
        "gather": {
          "logged": 1699798496318
        },
        "vscode": {
          "languageId": "python"
        }
      },
      "outputs": [],
      "source": [
        "import pydicom as dicom\n",
        "import numpy as np\n",
        "import matplotlib.pyplot as plt\n",
        "import os\n",
        "import nibabel as nib\n",
        "from ipywidgets import interact\n",
        "from matplotlib.colors import ListedColormap"
      ]
    },
    {
      "cell_type": "markdown",
      "metadata": {},
      "source": [
        "### Helper Functions"
      ]
    },
    {
      "cell_type": "code",
      "execution_count": 8,
      "metadata": {
        "vscode": {
          "languageId": "python"
        }
      },
      "outputs": [],
      "source": [
        "def get_mri_slices_from_path(path):\n",
        "    path_list = os.listdir(path)\n",
        "    slices = []\n",
        "    for dcm_path in path_list:\n",
        "        try:\n",
        "            slice = dicom.dcmread(path + \"/\" + dcm_path)  \n",
        "            slices.append(slice)\n",
        "        except:\n",
        "            pass\n",
        "    return slices\n",
        "\n",
        "def get_slice_descriptions(slices):\n",
        "    names = [ds.SeriesDescription for ds in slices]\n",
        "    print(np.unique(names,return_counts=True))\n",
        "\n",
        "def slices_sort_and_selectet(slices,slice_type):\n",
        "    slices.sort(key=lambda x: int(x.SliceLocation))\n",
        "    type = [slic.SeriesDescription == slice_type for slic in slices]\n",
        "    slice_one_type = np.array(slices)[type]\n",
        "    return slice_one_type\n",
        "\n",
        "def visualize_slices(slices):\n",
        "    cmap = plt.cm.winter\n",
        "    # Get the colormap colors\n",
        "    my_cmap = cmap(np.arange(cmap.N))\n",
        "    my_cmap[:,-1] = np.linspace(0, 1, cmap.N)\n",
        "    my_cmap = ListedColormap(my_cmap)\n",
        "\n",
        "    # Visualize Images as a slider\n",
        "    def show_slice(i):\n",
        "        plt.imshow(slices[i].pixel_array, cmap='gray')\n",
        "        plt.show()\n",
        "\n",
        "    interact(show_slice, i=(0, len(slices)-1))\n",
        "def pad_array(original_array,axis,padd_size):\n",
        "\n",
        "    # Calculate padding\n",
        "    total_padding = padd_size - 15 \n",
        "    padding_before = total_padding // 2 \n",
        "    padding_after = total_padding - padding_before\n",
        "    if axis == 0:\n",
        "        padding = ((padding_before, padding_after),(0, 0), (0, 0))\n",
        "    elif axis == 1:\n",
        "        padding = ((0, 0),(padding_before, padding_after), (0, 0))\n",
        "    elif axis == 2:\n",
        "        padding = ((0, 0),(0, 0), (padding_before, padding_after))\n",
        "    # Pad the array\n",
        "    padded_array = np.pad(\n",
        "        original_array,\n",
        "        padding,\n",
        "        mode='constant',\n",
        "        constant_values=0\n",
        "    )\n",
        "    return padded_array"
      ]
    },
    {
      "cell_type": "code",
      "execution_count": 17,
      "metadata": {
        "vscode": {
          "languageId": "python"
        }
      },
      "outputs": [
        {
          "name": "stderr",
          "output_type": "stream",
          "text": [
            "Engine process terminated with returncode=-2\n"
          ]
        },
        {
          "ename": "KeyboardInterrupt",
          "evalue": "",
          "output_type": "error",
          "traceback": [
            "\u001b[0;31m---------------------------------------------------------------------------\u001b[0m",
            "\u001b[0;31mKeyboardInterrupt\u001b[0m                         Traceback (most recent call last)",
            "\u001b[1;32m/home/azureuser/cloudfiles/code/Users/pro5d-classification-prolactinoma/eda/mri.ipynb Cell 5\u001b[0m line \u001b[0;36m1\n\u001b[1;32m      <a href='vscode-notebook-cell://amlext%2B2f737562736372697074696f6e732f33353036383039362d363637632d343632302d386262322d3662303530373635666434652f7265736f7572636547726f7570732f436f6d7075746546484e572f70726f7669646572732f4d6963726f736f66742e4d616368696e654c6561726e696e6753657276696365732f776f726b7370616365732f46484e572f636f6d70757465732f6b73616a617a77692d435055/home/azureuser/cloudfiles/code/Users/pro5d-classification-prolactinoma/eda/mri.ipynb#X15sdnNjb2RlLXJlbW90ZQ%3D%3D?line=8'>9</a>\u001b[0m image_folder \u001b[39m=\u001b[39m \u001b[39m\"\u001b[39m\u001b[39m7013955/\u001b[39m\u001b[39m\"\u001b[39m\n\u001b[1;32m     <a href='vscode-notebook-cell://amlext%2B2f737562736372697074696f6e732f33353036383039362d363637632d343632302d386262322d3662303530373635666434652f7265736f7572636547726f7570732f436f6d7075746546484e572f70726f7669646572732f4d6963726f736f66742e4d616368696e654c6561726e696e6753657276696365732f776f726b7370616365732f46484e572f636f6d70757465732f6b73616a617a77692d435055/home/azureuser/cloudfiles/code/Users/pro5d-classification-prolactinoma/eda/mri.ipynb#X15sdnNjb2RlLXJlbW90ZQ%3D%3D?line=9'>10</a>\u001b[0m folder_path \u001b[39m=\u001b[39m \u001b[39m'\u001b[39m\u001b[39moutput.deid/images/7013955/*\u001b[39m\u001b[39m'\u001b[39m\n\u001b[0;32m---> <a href='vscode-notebook-cell://amlext%2B2f737562736372697074696f6e732f33353036383039362d363637632d343632302d386262322d3662303530373635666434652f7265736f7572636547726f7570732f436f6d7075746546484e572f70726f7669646572732f4d6963726f736f66742e4d616368696e654c6561726e696e6753657276696365732f776f726b7370616365732f46484e572f636f6d70757465732f6b73616a617a77692d435055/home/azureuser/cloudfiles/code/Users/pro5d-classification-prolactinoma/eda/mri.ipynb#X15sdnNjb2RlLXJlbW90ZQ%3D%3D?line=10'>11</a>\u001b[0m dataset \u001b[39m=\u001b[39m Dataset\u001b[39m.\u001b[39;49mFile\u001b[39m.\u001b[39;49mfrom_files(path\u001b[39m=\u001b[39;49m(datastore, folder_path))\n\u001b[1;32m     <a href='vscode-notebook-cell://amlext%2B2f737562736372697074696f6e732f33353036383039362d363637632d343632302d386262322d3662303530373635666434652f7265736f7572636547726f7570732f436f6d7075746546484e572f70726f7669646572732f4d6963726f736f66742e4d616368696e654c6561726e696e6753657276696365732f776f726b7370616365732f46484e572f636f6d70757465732f6b73616a617a77692d435055/home/azureuser/cloudfiles/code/Users/pro5d-classification-prolactinoma/eda/mri.ipynb#X15sdnNjb2RlLXJlbW90ZQ%3D%3D?line=11'>12</a>\u001b[0m dataset\u001b[39m.\u001b[39mdownload(target_path\u001b[39m=\u001b[39m\u001b[39m'\u001b[39m\u001b[39m../pro5d-classification-prolactinoma/raw_data/downloaded_mri_files/\u001b[39m\u001b[39m'\u001b[39m \u001b[39m+\u001b[39m image_folder, overwrite\u001b[39m=\u001b[39m\u001b[39mTrue\u001b[39;00m)\n",
            "File \u001b[0;32m/anaconda/envs/azureml_py310_sdkv2/lib/python3.10/site-packages/azureml/data/_loggerfactory.py:132\u001b[0m, in \u001b[0;36mtrack.<locals>.monitor.<locals>.wrapper\u001b[0;34m(*args, **kwargs)\u001b[0m\n\u001b[1;32m    130\u001b[0m \u001b[39mwith\u001b[39;00m _LoggerFactory\u001b[39m.\u001b[39mtrack_activity(logger, func\u001b[39m.\u001b[39m\u001b[39m__name__\u001b[39m, activity_type, custom_dimensions) \u001b[39mas\u001b[39;00m al:\n\u001b[1;32m    131\u001b[0m     \u001b[39mtry\u001b[39;00m:\n\u001b[0;32m--> 132\u001b[0m         \u001b[39mreturn\u001b[39;00m func(\u001b[39m*\u001b[39;49margs, \u001b[39m*\u001b[39;49m\u001b[39m*\u001b[39;49mkwargs)\n\u001b[1;32m    133\u001b[0m     \u001b[39mexcept\u001b[39;00m \u001b[39mException\u001b[39;00m \u001b[39mas\u001b[39;00m e:\n\u001b[1;32m    134\u001b[0m         \u001b[39mif\u001b[39;00m \u001b[39mhasattr\u001b[39m(al, \u001b[39m'\u001b[39m\u001b[39mactivity_info\u001b[39m\u001b[39m'\u001b[39m) \u001b[39mand\u001b[39;00m \u001b[39mhasattr\u001b[39m(e, \u001b[39m'\u001b[39m\u001b[39merror_code\u001b[39m\u001b[39m'\u001b[39m):\n",
            "File \u001b[0;32m/anaconda/envs/azureml_py310_sdkv2/lib/python3.10/site-packages/azureml/data/dataset_factory.py:898\u001b[0m, in \u001b[0;36mFileDatasetFactory.from_files\u001b[0;34m(path, validate, partition_format, is_file)\u001b[0m\n\u001b[1;32m    896\u001b[0m         \u001b[39mraise\u001b[39;00m UserErrorException(\u001b[39m'\u001b[39m\u001b[39mNewest version of azureml-dataprep must be installed to use is_file.\u001b[39m\u001b[39m'\u001b[39m)\n\u001b[1;32m    897\u001b[0m \u001b[39melse\u001b[39;00m:\n\u001b[0;32m--> 898\u001b[0m     dataflow \u001b[39m=\u001b[39m dataprep()\u001b[39m.\u001b[39;49mapi\u001b[39m.\u001b[39;49mdataflow\u001b[39m.\u001b[39;49mDataflow\u001b[39m.\u001b[39;49m_path_to_get_files_block(path)\n\u001b[1;32m    900\u001b[0m \u001b[39mif\u001b[39;00m partition_format:\n\u001b[1;32m    901\u001b[0m     dataflow \u001b[39m=\u001b[39m _transform_and_validate(\n\u001b[1;32m    902\u001b[0m         dataflow, partition_format, \u001b[39mTrue\u001b[39;00m,\n\u001b[1;32m    903\u001b[0m         validate)\n",
            "File \u001b[0;32m/anaconda/envs/azureml_py310_sdkv2/lib/python3.10/site-packages/azureml/dataprep/api/dataflow.py:2539\u001b[0m, in \u001b[0;36mDataflow._path_to_get_files_block\u001b[0;34m(path, archive_options)\u001b[0m\n\u001b[1;32m   2537\u001b[0m \u001b[39mtry\u001b[39;00m:\n\u001b[1;32m   2538\u001b[0m     \u001b[39mif\u001b[39;00m _is_datapath(path) \u001b[39mor\u001b[39;00m _is_datapaths(path):\n\u001b[0;32m-> 2539\u001b[0m         \u001b[39mreturn\u001b[39;00m datastore_to_dataflow(path)\n\u001b[1;32m   2540\u001b[0m \u001b[39mexcept\u001b[39;00m \u001b[39mImportError\u001b[39;00m:\n\u001b[1;32m   2541\u001b[0m     \u001b[39mpass\u001b[39;00m\n",
            "File \u001b[0;32m/anaconda/envs/azureml_py310_sdkv2/lib/python3.10/site-packages/azureml/dataprep/api/_datastore_helper.py:39\u001b[0m, in \u001b[0;36mdatastore_to_dataflow\u001b[0;34m(data_source, query_timeout, is_file)\u001b[0m\n\u001b[1;32m     37\u001b[0m datastore_values \u001b[39m=\u001b[39m []\n\u001b[1;32m     38\u001b[0m \u001b[39mfor\u001b[39;00m source \u001b[39min\u001b[39;00m data_source:\n\u001b[0;32m---> 39\u001b[0m     datastore, datastore_value \u001b[39m=\u001b[39m get_datastore_value(source)\n\u001b[1;32m     40\u001b[0m     \u001b[39mif\u001b[39;00m \u001b[39mnot\u001b[39;00m _is_fs_datastore(datastore):\n\u001b[1;32m     41\u001b[0m         \u001b[39mraise\u001b[39;00m NotSupportedDatastoreTypeError(datastore)\n",
            "File \u001b[0;32m/anaconda/envs/azureml_py310_sdkv2/lib/python3.10/site-packages/azureml/dataprep/api/_datastore_helper.py:91\u001b[0m, in \u001b[0;36mget_datastore_value\u001b[0;34m(data_source)\u001b[0m\n\u001b[1;32m     88\u001b[0m _ensure_supported(datastore)\n\u001b[1;32m     90\u001b[0m workspace \u001b[39m=\u001b[39m datastore\u001b[39m.\u001b[39mworkspace\n\u001b[0;32m---> 91\u001b[0m _set_auth_type(workspace)\n\u001b[1;32m     92\u001b[0m \u001b[39mreturn\u001b[39;00m (datastore, DatastoreValue(\n\u001b[1;32m     93\u001b[0m     subscription\u001b[39m=\u001b[39mworkspace\u001b[39m.\u001b[39msubscription_id,\n\u001b[1;32m     94\u001b[0m     resource_group\u001b[39m=\u001b[39mworkspace\u001b[39m.\u001b[39mresource_group,\n\u001b[0;32m   (...)\u001b[0m\n\u001b[1;32m     97\u001b[0m     path\u001b[39m=\u001b[39mpath_on_storage\n\u001b[1;32m     98\u001b[0m ))\n",
            "File \u001b[0;32m/anaconda/envs/azureml_py310_sdkv2/lib/python3.10/site-packages/azureml/dataprep/api/_datastore_helper.py:177\u001b[0m, in \u001b[0;36m_set_auth_type\u001b[0;34m(workspace)\u001b[0m\n\u001b[1;32m    174\u001b[0m     auth_type \u001b[39m=\u001b[39m AuthType\u001b[39m.\u001b[39mDERIVED\n\u001b[1;32m    176\u001b[0m auth_value \u001b[39m=\u001b[39m auth\n\u001b[0;32m--> 177\u001b[0m get_engine_api()\u001b[39m.\u001b[39;49mset_aml_auth(SetAmlAuthMessageArgument(auth_type, json\u001b[39m.\u001b[39;49mdumps(auth_value)))\n",
            "File \u001b[0;32m/anaconda/envs/azureml_py310_sdkv2/lib/python3.10/site-packages/azureml/dataprep/api/_aml_helper.py:44\u001b[0m, in \u001b[0;36mupdate_aml_env_vars.<locals>.decorator.<locals>.wrapper\u001b[0;34m(op_code, message, cancellation_token)\u001b[0m\n\u001b[1;32m     42\u001b[0m \u001b[39mif\u001b[39;00m \u001b[39mlen\u001b[39m(changed) \u001b[39m>\u001b[39m \u001b[39m0\u001b[39m:\n\u001b[1;32m     43\u001b[0m     engine_api_func()\u001b[39m.\u001b[39mupdate_environment_variable(changed)\n\u001b[0;32m---> 44\u001b[0m \u001b[39mreturn\u001b[39;00m send_message_func(op_code, message, cancellation_token)\n",
            "File \u001b[0;32m/anaconda/envs/azureml_py310_sdkv2/lib/python3.10/site-packages/azureml/dataprep/api/engineapi/api.py:298\u001b[0m, in \u001b[0;36mEngineAPI.set_aml_auth\u001b[0;34m(self, message_args, cancellation_token)\u001b[0m\n\u001b[1;32m    296\u001b[0m \u001b[39m@update_aml_env_vars\u001b[39m(get_engine_api)\n\u001b[1;32m    297\u001b[0m \u001b[39mdef\u001b[39;00m \u001b[39mset_aml_auth\u001b[39m(\u001b[39mself\u001b[39m, message_args: typedefinitions\u001b[39m.\u001b[39mSetAmlAuthMessageArgument, cancellation_token: CancellationToken \u001b[39m=\u001b[39m \u001b[39mNone\u001b[39;00m) \u001b[39m-\u001b[39m\u001b[39m>\u001b[39m \u001b[39mNone\u001b[39;00m:\n\u001b[0;32m--> 298\u001b[0m     response \u001b[39m=\u001b[39m \u001b[39mself\u001b[39;49m\u001b[39m.\u001b[39;49m_message_channel\u001b[39m.\u001b[39;49msend_message(\u001b[39m'\u001b[39;49m\u001b[39mEngine.SetAmlAuth\u001b[39;49m\u001b[39m'\u001b[39;49m, message_args, cancellation_token)\n\u001b[1;32m    299\u001b[0m     \u001b[39mreturn\u001b[39;00m response\n",
            "File \u001b[0;32m/anaconda/envs/azureml_py310_sdkv2/lib/python3.10/site-packages/azureml/dataprep/api/engineapi/engine.py:247\u001b[0m, in \u001b[0;36mMultiThreadMessageChannel.send_message\u001b[0;34m(self, op_code, message, cancellation_token)\u001b[0m\n\u001b[1;32m    245\u001b[0m     \u001b[39mwith\u001b[39;00m \u001b[39mself\u001b[39m\u001b[39m.\u001b[39m_relaunch_lock:\n\u001b[1;32m    246\u001b[0m         \u001b[39mself\u001b[39m\u001b[39m.\u001b[39m_was_relaunched \u001b[39m=\u001b[39m \u001b[39mFalse\u001b[39;00m\n\u001b[0;32m--> 247\u001b[0m         \u001b[39mself\u001b[39;49m\u001b[39m.\u001b[39;49m_relaunch_callback()\n\u001b[1;32m    249\u001b[0m \u001b[39mself\u001b[39m\u001b[39m.\u001b[39m_last_message_id \u001b[39m+\u001b[39m\u001b[39m=\u001b[39m \u001b[39m1\u001b[39m\n\u001b[1;32m    250\u001b[0m message_id \u001b[39m=\u001b[39m \u001b[39mself\u001b[39m\u001b[39m.\u001b[39m_last_message_id\n",
            "File \u001b[0;32m/anaconda/envs/azureml_py310_sdkv2/lib/python3.10/site-packages/azureml/dataprep/api/engineapi/api.py:99\u001b[0m, in \u001b[0;36mEngineAPI.__init__.<locals>.connect_to_requests_channel\u001b[0;34m()\u001b[0m\n\u001b[1;32m     98\u001b[0m \u001b[39mdef\u001b[39;00m \u001b[39mconnect_to_requests_channel\u001b[39m():\n\u001b[0;32m---> 99\u001b[0m     \u001b[39mself\u001b[39m\u001b[39m.\u001b[39m_engine_server_secret \u001b[39m=\u001b[39m \u001b[39mself\u001b[39;49m\u001b[39m.\u001b[39;49msync_host_secret(\u001b[39mself\u001b[39;49m\u001b[39m.\u001b[39;49mrequests_channel\u001b[39m.\u001b[39;49mhost_secret)\n\u001b[1;32m    100\u001b[0m     \u001b[39mself\u001b[39m\u001b[39m.\u001b[39m_engine_server_port \u001b[39m=\u001b[39m \u001b[39mself\u001b[39m\u001b[39m.\u001b[39msync_host_channel_port(\u001b[39mself\u001b[39m\u001b[39m.\u001b[39mrequests_channel\u001b[39m.\u001b[39mport)\n",
            "File \u001b[0;32m/anaconda/envs/azureml_py310_sdkv2/lib/python3.10/site-packages/azureml/dataprep/api/_aml_helper.py:44\u001b[0m, in \u001b[0;36mupdate_aml_env_vars.<locals>.decorator.<locals>.wrapper\u001b[0;34m(op_code, message, cancellation_token)\u001b[0m\n\u001b[1;32m     42\u001b[0m \u001b[39mif\u001b[39;00m \u001b[39mlen\u001b[39m(changed) \u001b[39m>\u001b[39m \u001b[39m0\u001b[39m:\n\u001b[1;32m     43\u001b[0m     engine_api_func()\u001b[39m.\u001b[39mupdate_environment_variable(changed)\n\u001b[0;32m---> 44\u001b[0m \u001b[39mreturn\u001b[39;00m send_message_func(op_code, message, cancellation_token)\n",
            "File \u001b[0;32m/anaconda/envs/azureml_py310_sdkv2/lib/python3.10/site-packages/azureml/dataprep/api/engineapi/api.py:313\u001b[0m, in \u001b[0;36mEngineAPI.sync_host_secret\u001b[0;34m(self, message_args, cancellation_token)\u001b[0m\n\u001b[1;32m    311\u001b[0m \u001b[39m@update_aml_env_vars\u001b[39m(get_engine_api)\n\u001b[1;32m    312\u001b[0m \u001b[39mdef\u001b[39;00m \u001b[39msync_host_secret\u001b[39m(\u001b[39mself\u001b[39m, message_args: \u001b[39mstr\u001b[39m, cancellation_token: CancellationToken \u001b[39m=\u001b[39m \u001b[39mNone\u001b[39;00m) \u001b[39m-\u001b[39m\u001b[39m>\u001b[39m \u001b[39mstr\u001b[39m:\n\u001b[0;32m--> 313\u001b[0m     response \u001b[39m=\u001b[39m \u001b[39mself\u001b[39;49m\u001b[39m.\u001b[39;49m_message_channel\u001b[39m.\u001b[39;49msend_message(\u001b[39m'\u001b[39;49m\u001b[39mEngine.SyncHostSecret\u001b[39;49m\u001b[39m'\u001b[39;49m, message_args, cancellation_token)\n\u001b[1;32m    314\u001b[0m     \u001b[39mreturn\u001b[39;00m response\n",
            "File \u001b[0;32m/anaconda/envs/azureml_py310_sdkv2/lib/python3.10/site-packages/azureml/dataprep/api/engineapi/engine.py:271\u001b[0m, in \u001b[0;36mMultiThreadMessageChannel.send_message\u001b[0;34m(self, op_code, message, cancellation_token)\u001b[0m\n\u001b[1;32m    264\u001b[0m     \u001b[39mself\u001b[39m\u001b[39m.\u001b[39m_pending_messages[message_id] \u001b[39m=\u001b[39m {\u001b[39m'\u001b[39m\u001b[39mevent\u001b[39m\u001b[39m'\u001b[39m: event, \u001b[39m'\u001b[39m\u001b[39mresponse\u001b[39m\u001b[39m'\u001b[39m: \u001b[39mNone\u001b[39;00m}\n\u001b[1;32m    265\u001b[0m \u001b[39mself\u001b[39m\u001b[39m.\u001b[39m_write_line(json\u001b[39m.\u001b[39mdumps({\n\u001b[1;32m    266\u001b[0m     \u001b[39m'\u001b[39m\u001b[39mmessageId\u001b[39m\u001b[39m'\u001b[39m: message_id,\n\u001b[1;32m    267\u001b[0m     \u001b[39m'\u001b[39m\u001b[39mopCode\u001b[39m\u001b[39m'\u001b[39m: op_code,\n\u001b[1;32m    268\u001b[0m     \u001b[39m'\u001b[39m\u001b[39mdata\u001b[39m\u001b[39m'\u001b[39m: message\n\u001b[1;32m    269\u001b[0m }, \u001b[39mcls\u001b[39m\u001b[39m=\u001b[39mCustomEncoder))\n\u001b[0;32m--> 271\u001b[0m event\u001b[39m.\u001b[39;49mwait()\n\u001b[1;32m    272\u001b[0m \u001b[39mwith\u001b[39;00m \u001b[39mself\u001b[39m\u001b[39m.\u001b[39m_messages_lock:\n\u001b[1;32m    273\u001b[0m     message \u001b[39m=\u001b[39m \u001b[39mself\u001b[39m\u001b[39m.\u001b[39m_pending_messages\u001b[39m.\u001b[39mpop(message_id, \u001b[39mNone\u001b[39;00m)\n",
            "File \u001b[0;32m/anaconda/envs/azureml_py310_sdkv2/lib/python3.10/threading.py:607\u001b[0m, in \u001b[0;36mEvent.wait\u001b[0;34m(self, timeout)\u001b[0m\n\u001b[1;32m    605\u001b[0m signaled \u001b[39m=\u001b[39m \u001b[39mself\u001b[39m\u001b[39m.\u001b[39m_flag\n\u001b[1;32m    606\u001b[0m \u001b[39mif\u001b[39;00m \u001b[39mnot\u001b[39;00m signaled:\n\u001b[0;32m--> 607\u001b[0m     signaled \u001b[39m=\u001b[39m \u001b[39mself\u001b[39;49m\u001b[39m.\u001b[39;49m_cond\u001b[39m.\u001b[39;49mwait(timeout)\n\u001b[1;32m    608\u001b[0m \u001b[39mreturn\u001b[39;00m signaled\n",
            "File \u001b[0;32m/anaconda/envs/azureml_py310_sdkv2/lib/python3.10/threading.py:320\u001b[0m, in \u001b[0;36mCondition.wait\u001b[0;34m(self, timeout)\u001b[0m\n\u001b[1;32m    318\u001b[0m \u001b[39mtry\u001b[39;00m:    \u001b[39m# restore state no matter what (e.g., KeyboardInterrupt)\u001b[39;00m\n\u001b[1;32m    319\u001b[0m     \u001b[39mif\u001b[39;00m timeout \u001b[39mis\u001b[39;00m \u001b[39mNone\u001b[39;00m:\n\u001b[0;32m--> 320\u001b[0m         waiter\u001b[39m.\u001b[39;49macquire()\n\u001b[1;32m    321\u001b[0m         gotit \u001b[39m=\u001b[39m \u001b[39mTrue\u001b[39;00m\n\u001b[1;32m    322\u001b[0m     \u001b[39melse\u001b[39;00m:\n",
            "\u001b[0;31mKeyboardInterrupt\u001b[0m: "
          ]
        }
      ],
      "source": [
        "from azureml.core import Workspace, Dataset, Datastore\n",
        "subscription_id = '35068096-667c-4620-8bb2-6b050765fd4e'\n",
        "resource_group = 'ComputeFHNW'\n",
        "workspace_name = 'FHNW'\n",
        "  \n",
        "workspace = Workspace(subscription_id, resource_group, workspace_name)\n",
        "  \n",
        "datastore = Datastore.get(workspace, \"mrialldata\")\n",
        "image_folder = \"7013955/\"\n",
        "folder_path = 'output.deid/images/7013955/*'\n",
        "dataset = Dataset.File.from_files(path=(datastore, folder_path))\n",
        "dataset.download(target_path='../pro5d-classification-prolactinoma/raw_data/downloaded_mri_files/' + image_folder, overwrite=True)"
      ]
    },
    {
      "cell_type": "code",
      "execution_count": 18,
      "metadata": {
        "vscode": {
          "languageId": "python"
        }
      },
      "outputs": [],
      "source": [
        "from azureml.core import Workspace, Dataset, Datastore\n",
        "\n",
        "subscription_id = '35068096-667c-4620-8bb2-6b050765fd4e'\n",
        "resource_group = 'ComputeFHNW'\n",
        "workspace_name = 'FHNW'\n",
        "\n",
        "workspace = Workspace(subscription_id, resource_group, workspace_name)\n",
        "\n",
        "datastore = Datastore.get(workspace, \"mr_testdata\")\n",
        "dataset = Dataset.File.from_files(path=(datastore, '8797386'))\n",
        "dataset.download(target_path='../pro5d-classification-prolactinoma/raw_data/downloaded_mri_files/8797386/', overwrite=True)"
      ]
    },
    {
      "cell_type": "code",
      "execution_count": null,
      "metadata": {
        "vscode": {
          "languageId": "python"
        }
      },
      "outputs": [],
      "source": []
    },
    {
      "cell_type": "code",
      "execution_count": 23,
      "metadata": {
        "vscode": {
          "languageId": "python"
        }
      },
      "outputs": [],
      "source": [
        "slices = get_mri_slices_from_path(\"../raw_data/MRI\")"
      ]
    },
    {
      "cell_type": "code",
      "execution_count": null,
      "metadata": {
        "vscode": {
          "languageId": "python"
        }
      },
      "outputs": [
        {
          "name": "stdout",
          "output_type": "stream",
          "text": [
            "(array(['ep2d_diff_tra_ADC', 'ep2d_diff_tra_TRACEW', 't1_mprage_we_sag',\n",
            "       't1_mprage_we_sag_MPR_cor', 't1_mprage_we_sag_MPR_tra',\n",
            "       't1_tse_cor', 't1_tse_fs_cor', 't1_tse_sag', 't2_tse_fs_cor',\n",
            "       't2_tse_fs_sag'], dtype='<U24'), array([ 30,  60, 208, 200, 210,  15,  15,  15,  15,  15]))\n"
          ]
        }
      ],
      "source": [
        "get_slice_descriptions(slices)"
      ]
    },
    {
      "cell_type": "code",
      "execution_count": null,
      "metadata": {
        "vscode": {
          "languageId": "python"
        }
      },
      "outputs": [
        {
          "data": {
            "application/vnd.jupyter.widget-view+json": {
              "model_id": "30ea90e6954a46fb8d6db930a1064ed8",
              "version_major": 2,
              "version_minor": 0
            },
            "text/plain": [
              "interactive(children=(IntSlider(value=7, description='i', max=14), Output()), _dom_classes=('widget-interact',…"
            ]
          },
          "metadata": {},
          "output_type": "display_data"
        }
      ],
      "source": [
        "slice_t2_cor = slices_sort_and_selectet(slices,\"t2_tse_fs_cor\")\n",
        "visualize_slices(slice_t2_cor) # 7 - 9 Relevant evtl bei 125 - 250 y-achse 100 - 300 x- achse"
      ]
    },
    {
      "cell_type": "code",
      "execution_count": null,
      "metadata": {
        "vscode": {
          "languageId": "python"
        }
      },
      "outputs": [
        {
          "data": {
            "application/vnd.jupyter.widget-view+json": {
              "model_id": "697a28330f4d4b6daffc4a1c1208c90b",
              "version_major": 2,
              "version_minor": 0
            },
            "text/plain": [
              "interactive(children=(IntSlider(value=7, description='i', max=14), Output()), _dom_classes=('widget-interact',…"
            ]
          },
          "metadata": {},
          "output_type": "display_data"
        }
      ],
      "source": [
        "slice_t1_cor = slices_sort_and_selectet(slices,\"t1_tse_fs_cor\")\n",
        "visualize_slices(slice_t1_cor) # (6) 7,8 (9)"
      ]
    },
    {
      "cell_type": "code",
      "execution_count": null,
      "metadata": {
        "vscode": {
          "languageId": "python"
        }
      },
      "outputs": [
        {
          "data": {
            "application/vnd.jupyter.widget-view+json": {
              "model_id": "af60b35043824521ba26ccd4072e2f67",
              "version_major": 2,
              "version_minor": 0
            },
            "text/plain": [
              "interactive(children=(IntSlider(value=7, description='i', max=14), Output()), _dom_classes=('widget-interact',…"
            ]
          },
          "metadata": {},
          "output_type": "display_data"
        }
      ],
      "source": [
        "t1_tse_cor= slices_sort_and_selectet(slices,\"t1_tse_cor\")\n",
        "visualize_slices(t1_tse_cor)"
      ]
    },
    {
      "cell_type": "code",
      "execution_count": null,
      "metadata": {
        "vscode": {
          "languageId": "python"
        }
      },
      "outputs": [
        {
          "data": {
            "application/vnd.jupyter.widget-view+json": {
              "model_id": "9870403538db44069221405850fbdae4",
              "version_major": 2,
              "version_minor": 0
            },
            "text/plain": [
              "interactive(children=(IntSlider(value=7, description='i', max=14), Output()), _dom_classes=('widget-interact',…"
            ]
          },
          "metadata": {},
          "output_type": "display_data"
        }
      ],
      "source": [
        "slice_t2_sag= slices_sort_and_selectet(slices,\"t2_tse_fs_sag\")\n",
        "visualize_slices(slice_t2_sag) # 4-9 y-achse 125 - 250 x achse 100 -300"
      ]
    },
    {
      "cell_type": "code",
      "execution_count": 131,
      "metadata": {
        "vscode": {
          "languageId": "python"
        }
      },
      "outputs": [
        {
          "name": "stdout",
          "output_type": "stream",
          "text": [
            "(200, 267, 267)\n"
          ]
        }
      ],
      "source": [
        "# Read the DICOM files and stack them into a single 3D numpy array\n",
        "array_list = np.array([dcm.pixel_array for dcm in slices_sort_and_selectet(slices,\"t1_mprage_we_sag_MPR_cor\")]).transpose((0,1,2))\n",
        "#array_list = pad_array(array_list,axis= 1,padd_size=150)\n",
        "array_list= np.rot90(array_list,k=45, axes=(1,2))\n",
        "print(array_list.shape)\n",
        "volume_3d = np.stack(array_list, axis=-1)\n",
        "\n",
        "# Create a NIfTI image (you might need to provide the correct affine transformation)\n",
        "affine = np.eye(4)  # This is a placeholder; you may need the actual affine from DICOM headers\n",
        "nifti_img = nib.Nifti1Image(volume_3d, affine)\n",
        "\n",
        "# Save the NIfTI image to a file\n",
        "nib.save(nifti_img, '../raw_data/nii_files/test.nii')"
      ]
    },
    {
      "cell_type": "code",
      "execution_count": 132,
      "metadata": {
        "vscode": {
          "languageId": "python"
        }
      },
      "outputs": [
        {
          "data": {
            "application/vnd.jupyter.widget-view+json": {
              "model_id": "fc4cfe4808674356944e225dcb139806",
              "version_major": 2,
              "version_minor": 0
            },
            "text/plain": [
              "interactive(children=(IntSlider(value=133, description='i', max=266), Output()), _dom_classes=('widget-interac…"
            ]
          },
          "metadata": {},
          "output_type": "display_data"
        },
        {
          "data": {
            "text/plain": [
              "<function __main__.show_slice(i)>"
            ]
          },
          "execution_count": 132,
          "metadata": {},
          "output_type": "execute_result"
        }
      ],
      "source": [
        "def show_slice(i):\n",
        "    plt.imshow(array_list[:,:,i], cmap='gray')\n",
        "    plt.show()\n",
        "\n",
        "interact(show_slice, i=(0, array_list.shape[2]-1))"
      ]
    },
    {
      "cell_type": "code",
      "execution_count": null,
      "metadata": {
        "vscode": {
          "languageId": "python"
        }
      },
      "outputs": [],
      "source": []
    }
  ],
  "metadata": {
    "kernel_info": {
      "name": "python38-azureml"
    },
    "kernelspec": {
      "display_name": "Python 3.10 - SDK v2",
      "language": "python",
      "name": "python310-sdkv2"
    },
    "language_info": {
      "name": "",
      "version": ""
    },
    "microsoft": {
      "ms_spell_check": {
        "ms_spell_check_language": "en"
      }
    },
    "nteract": {
      "version": "nteract-front-end@1.0.0"
    }
  },
  "nbformat": 4,
  "nbformat_minor": 2
}
