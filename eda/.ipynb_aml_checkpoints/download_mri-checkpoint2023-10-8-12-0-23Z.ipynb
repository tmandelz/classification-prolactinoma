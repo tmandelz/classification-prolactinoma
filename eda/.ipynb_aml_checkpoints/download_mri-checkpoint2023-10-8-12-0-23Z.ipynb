{
  "cells": [
    {
      "cell_type": "code",
      "source": [
        "\n",
        "from azureml.core import Workspace, Dataset, Datastore\n",
        "subscription_id = '35068096-667c-4620-8bb2-6b050765fd4e'\n",
        "resource_group = 'ComputeFHNW'\n",
        "workspace_name = 'FHNW'\n",
        "  \n",
        "workspace = Workspace(subscription_id, resource_group, workspace_name)\n",
        "  \n",
        "datastore = Datastore.get(workspace, \"mr_testdata\")\n",
        "dataset = Dataset.File.from_files(path=(datastore, '8797386/'))\n",
        "#dataset.download(target_path='8797386/', overwrite=True)\n",
        "dataset.description"
      ],
      "outputs": [],
      "execution_count": 5,
      "metadata": {
        "gather": {
          "logged": 1699368688063
        }
      }
    },
    {
      "cell_type": "code",
      "source": [
        "dataset.File"
      ],
      "outputs": [
        {
          "output_type": "execute_result",
          "execution_count": 6,
          "data": {
            "text/plain": "azureml.data.dataset_factory.FileDatasetFactory"
          },
          "metadata": {}
        }
      ],
      "execution_count": 6,
      "metadata": {
        "jupyter": {
          "source_hidden": false,
          "outputs_hidden": false
        },
        "nteract": {
          "transient": {
            "deleting": false
          }
        },
        "gather": {
          "logged": 1699368710463
        }
      }
    },
    {
      "cell_type": "code",
      "source": [],
      "outputs": [],
      "execution_count": null,
      "metadata": {
        "jupyter": {
          "source_hidden": false,
          "outputs_hidden": false
        },
        "nteract": {
          "transient": {
            "deleting": false
          }
        }
      }
    }
  ],
  "metadata": {
    "kernelspec": {
      "name": "python38-azureml",
      "language": "python",
      "display_name": "Python 3.8 - AzureML"
    },
    "language_info": {
      "name": "python",
      "version": "3.8.5",
      "mimetype": "text/x-python",
      "codemirror_mode": {
        "name": "ipython",
        "version": 3
      },
      "pygments_lexer": "ipython3",
      "nbconvert_exporter": "python",
      "file_extension": ".py"
    },
    "microsoft": {
      "ms_spell_check": {
        "ms_spell_check_language": "en"
      },
      "host": {
        "AzureML": {
          "notebookHasBeenCompleted": true
        }
      }
    },
    "nteract": {
      "version": "nteract-front-end@1.0.0"
    },
    "kernel_info": {
      "name": "python38-azureml"
    }
  },
  "nbformat": 4,
  "nbformat_minor": 2
}