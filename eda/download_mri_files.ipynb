{
  "cells": [
    {
      "cell_type": "markdown",
      "metadata": {},
      "source": [
        "# Preprocess MRI\n",
        "## Packages"
      ]
    },
    {
      "cell_type": "code",
      "execution_count": 99,
      "metadata": {
        "gather": {
          "logged": 1699972359395
        }
      },
      "outputs": [],
      "source": [
        "import pydicom as dicom\n",
        "import numpy as np\n",
        "import matplotlib.pyplot as plt\n",
        "import os\n",
        "import nibabel as nib\n",
        "from ipywidgets import interact\n",
        "from matplotlib.colors import ListedColormap\n",
        "from azureml.core import Workspace, Dataset, Datastore\n",
        "import shutil\n",
        "import os\n",
        "import pandas as pd"
      ]
    },
    {
      "cell_type": "markdown",
      "metadata": {},
      "source": [
        "### Helper Functions"
      ]
    },
    {
      "cell_type": "code",
      "execution_count": 100,
      "metadata": {},
      "outputs": [],
      "source": [
        "slice_description_to_use = ['t1_tse_cor', \n",
        "                            't1_tse_fs_cor', \n",
        "                            't1_tse_sag',\n",
        "                            \"t2_tse_cor\", \n",
        "                            \"t2_tse_sag\",\n",
        "                            't2_tse_fs_cor',\n",
        "                            't2_tse_fs_sag',\n",
        "                            \n",
        "                            't1_tse_cor_T', \n",
        "                            't1_tse_fs_cor_T', \n",
        "                            't1_tse_sag_T', \n",
        "                            't2_tse_fs_cor_T',\n",
        "                            't2_tse_fs_sag_T',\n",
        "                            \"t2_tse_fs_cor_II\"]\n",
        "def get_mri_slices_from_file(path,slice_descriptions = slice_description_to_use):\n",
        "    path = f\"../raw_data/downloaded_mri_files/{path}/\"\n",
        "    path_list = os.listdir(path)\n",
        "    slices = []\n",
        "    for dcm_path in path_list:\n",
        "        try:\n",
        "            slice = dicom.dcmread(path + \"/\" + dcm_path) \n",
        "            slices.append(slice)\n",
        "            # if slice.SeriesDescription in slice_descriptions:\n",
        "            #     slices.append(slice)\n",
        "            # elif \"t2 tse fs cor\" == slice.SeriesDescription:\n",
        "            #     slice.SeriesDescription = \"t2_tse_fs_cor\"\n",
        "            #     slices.append(slice)\n",
        "            # elif \"t1 tse cor\" == slice.SeriesDescription:\n",
        "            #     slice.SeriesDescription = \"t1_tse_cor\"\n",
        "            #     slices.append(slice)\n",
        "            # else: \n",
        "            #     pass\n",
        "        except:\n",
        "            pass\n",
        "    return slices\n",
        "\n",
        "def get_slice_descriptions(slices):\n",
        "    names = [ds.SeriesDescription for ds in slices]\n",
        "    return np.unique(names,return_counts=True)\n",
        "\n",
        "def slices_sort_and_selectet(slices,slice_type):\n",
        "    slices.sort(key=lambda x: int(x.SliceLocation))\n",
        "    type_ = [slic.SeriesDescription == slice_type for slic in slices]\n",
        "    slice_one_type = np.array(slices)[type_]\n",
        "    return slice_one_type\n",
        "\n",
        "\n",
        "def delete_full_mri_storage(file_number):\n",
        "    folder_path = f\"../raw_data/downloaded_mri_files/{file_number}/\"\n",
        "    shutil.rmtree(folder_path)\n",
        "def save_files(slices,file,slice_description_to_use=slice_description_to_use):\n",
        "    for description in slice_description_to_use:\n",
        "        slices_selected = slices_sort_and_selectet(slices,description)\n",
        "        if len(slices_selected) > 0:\n",
        "            array_list = np.array([dcm.pixel_array for dcm in slices_selected])\n",
        "            volume_3d = np.stack(array_list, axis=-1)\n",
        "            affine = np.eye(4)\n",
        "            nifti_img = nib.Nifti1Image(volume_3d, affine)\n",
        "            directory = os.path.dirname(f\"../raw_data/nii_files/{description}/\")\n",
        "            if not os.path.exists(directory):\n",
        "                os.makedirs(directory)\n",
        "            nib.save(nifti_img, f'../raw_data/nii_files/{description}/{str(file)}.nii')\n",
        "\n",
        "def download_file(file):\n",
        "    subscription_id = '35068096-667c-4620-8bb2-6b050765fd4e'\n",
        "    resource_group = 'ComputeFHNW'\n",
        "    workspace_name = 'FHNW'\n",
        "    workspace = Workspace(subscription_id, resource_group, workspace_name) \n",
        "    datastore = Datastore.get(workspace, \"mrialldata\")\n",
        "    dataset = Dataset.File.from_files(path=(datastore, 'output.deid/images/' + file))\n",
        "    dataset.download(target_path='../raw_data/downloaded_mri_files/' + file, overwrite=True)"
      ]
    },
    {
      "cell_type": "markdown",
      "metadata": {},
      "source": [
        "### Download all the file paths"
      ]
    },
    {
      "cell_type": "code",
      "execution_count": 35,
      "metadata": {
        "gather": {
          "logged": 1699972164124
        }
      },
      "outputs": [],
      "source": [
        "subscription_id = '35068096-667c-4620-8bb2-6b050765fd4e'\n",
        "resource_group = 'ComputeFHNW'\n",
        "workspace_name = 'FHNW'\n",
        "workspace = Workspace(subscription_id, resource_group, workspace_name)\n",
        "datastore = Datastore.get(workspace, \"mrialldata\")\n",
        "dataset = Dataset.File.from_files(path=(datastore, 'output.deid/images/'))\n",
        "mount_context = dataset.mount()\n",
        "mount_context.start()\n",
        "files = next(os.walk(mount_context.mount_point))[1]\n",
        "mount_context.stop()"
      ]
    },
    {
      "cell_type": "markdown",
      "metadata": {},
      "source": [
        "### Download dicom files"
      ]
    },
    {
      "cell_type": "code",
      "execution_count": 15,
      "metadata": {},
      "outputs": [
        {
          "name": "stdout",
          "output_type": "stream",
          "text": [
            "8020686\n",
            "(array(['t1_tse_cor', 't1_tse_sag', 't2_tse_cor', 't2_tse_sag'],\n",
            "      dtype='<U10'), array([44, 20, 22, 20]))\n",
            "7729409\n",
            "(array(['t1_tse_cor', 't1_tse_sag', 't2_tse_cor', 't2_tse_sag'],\n",
            "      dtype='<U10'), array([40, 20, 20, 20]))\n",
            "7698240\n",
            "(array(['t1_tse_cor', 't1_tse_sag', 't2_tse_fs_cor'], dtype='<U13'), array([21, 21, 21]))\n",
            "7757311\n",
            "(array(['t1_tse_cor', 't1_tse_sag', 't2_tse_fs_cor'], dtype='<U13'), array([20, 20, 20]))\n",
            "8578318\n",
            "(array(['t1_tse_cor', 't1_tse_sag', 't2_tse_fs_cor', 't2_tse_fs_sag'],\n",
            "      dtype='<U13'), array([20, 20, 20, 20]))\n",
            "8433426\n",
            "(array(['t1_tse_cor', 't1_tse_sag', 't2_tse_fs_cor', 't2_tse_fs_sag'],\n",
            "      dtype='<U13'), array([15, 15, 15, 15]))\n",
            "7947388\n",
            "(array(['t1_tse_cor', 't1_tse_sag', 't2_tse_fs_cor'], dtype='<U13'), array([15, 15, 15]))\n",
            "7677484\n",
            "(array(['t1_tse_cor', 't1_tse_sag', 't2_tse_fs_cor', 't2_tse_fs_sag'],\n",
            "      dtype='<U13'), array([20, 20, 20, 20]))\n"
          ]
        }
      ],
      "source": [
        "### all_files_saved\n",
        "for file in files:\n",
        "    download_file(str(file))\n",
        "    slices = get_mri_slices_from_file(file)\n",
        "    if len(get_slice_descriptions(slices)[0]) != 5:\n",
        "        print(file)\n",
        "    print(get_slice_descriptions(slices))\n",
        "    save_files(slices,file)\n",
        "    delete_full_mri_storage(file)"
      ]
    }
  ],
  "metadata": {
    "kernel_info": {
      "name": "python38-azureml"
    },
    "kernelspec": {
      "display_name": "Python 3.8 - AzureML",
      "language": "python",
      "name": "python38-azureml"
    },
    "language_info": {
      "codemirror_mode": {
        "name": "ipython",
        "version": 3
      },
      "file_extension": ".py",
      "mimetype": "text/x-python",
      "name": "python",
      "nbconvert_exporter": "python",
      "pygments_lexer": "ipython3",
      "version": "3.8.5"
    },
    "microsoft": {
      "ms_spell_check": {
        "ms_spell_check_language": "en"
      }
    },
    "nteract": {
      "version": "nteract-front-end@1.0.0"
    }
  },
  "nbformat": 4,
  "nbformat_minor": 2
}
