{
  "cells": [
    {
      "cell_type": "markdown",
      "metadata": {},
      "source": [
        "# Preprocess MRI\n",
        "## Packages"
      ]
    },
    {
      "cell_type": "code",
      "execution_count": 1,
      "metadata": {
        "gather": {
          "logged": 1699972359395
        }
      },
      "outputs": [],
      "source": [
        "import pydicom as dicom\n",
        "import numpy as np\n",
        "import matplotlib.pyplot as plt\n",
        "import os\n",
        "import nibabel as nib\n",
        "from ipywidgets import interact\n",
        "from matplotlib.colors import ListedColormap\n",
        "from azureml.core import Workspace, Dataset, Datastore\n",
        "import shutil\n",
        "import os\n",
        "import pandas as pd"
      ]
    },
    {
      "cell_type": "markdown",
      "metadata": {},
      "source": [
        "### Helper Functions"
      ]
    },
    {
      "cell_type": "code",
      "execution_count": 2,
      "metadata": {},
      "outputs": [],
      "source": [
        "slice_description_to_use = ['t1_tse_cor', \n",
        "                            't1_tse_fs_cor', \n",
        "                            't1_tse_sag',\n",
        "                            \"t2_tse_cor\", \n",
        "                            \"t2_tse_sag\",\n",
        "                            't2_tse_fs_cor',\n",
        "                            't2_tse_fs_sag',\n",
        "                            \n",
        "                            't1_tse_cor_T', \n",
        "                            't1_tse_fs_cor_T', \n",
        "                            't1_tse_sag_T', \n",
        "                            't2_tse_fs_cor_T',\n",
        "                            't2_tse_fs_sag_T',\n",
        "                            \"t2_tse_fs_cor_II\"]\n",
        "def get_mri_slices_from_file(path,slice_descriptions = slice_description_to_use):\n",
        "    path = f\"../raw_data/downloaded_mri_files/{path}/\"\n",
        "    path_list = os.listdir(path)\n",
        "    slices = []\n",
        "    for dcm_path in path_list:\n",
        "        try:\n",
        "            slice = dicom.dcmread(path + \"/\" + dcm_path) \n",
        "            slices.append(slice)\n",
        "            # if slice.SeriesDescription in slice_descriptions:\n",
        "            #     slices.append(slice)\n",
        "            # elif \"t2 tse fs cor\" == slice.SeriesDescription:\n",
        "            #     slice.SeriesDescription = \"t2_tse_fs_cor\"\n",
        "            #     slices.append(slice)\n",
        "            # elif \"t1 tse cor\" == slice.SeriesDescription:\n",
        "            #     slice.SeriesDescription = \"t1_tse_cor\"\n",
        "            #     slices.append(slice)\n",
        "            # else: \n",
        "            #     pass\n",
        "        except:\n",
        "            pass\n",
        "    return slices\n",
        "\n",
        "def get_slice_descriptions(slices):\n",
        "    names = [ds.SeriesDescription for ds in slices]\n",
        "    return np.unique(names,return_counts=True)\n",
        "\n",
        "def slices_sort_and_selectet(slices,slice_type):\n",
        "    slices.sort(key=lambda x: int(x.SliceLocation))\n",
        "    type_ = [slic.SeriesDescription == slice_type for slic in slices]\n",
        "    slice_one_type = np.array(slices)[type_]\n",
        "    return slice_one_type\n",
        "\n",
        "\n",
        "def delete_full_mri_storage(file_number):\n",
        "    folder_path = f\"../raw_data/downloaded_mri_files/{file_number}/\"\n",
        "    shutil.rmtree(folder_path)\n",
        "def save_files(slices,file,slice_description_to_use=slice_description_to_use):\n",
        "    for description in slice_description_to_use:\n",
        "        slices_selected = slices_sort_and_selectet(slices,description)\n",
        "        if len(slices_selected) > 0:\n",
        "            array_list = np.array([dcm.pixel_array for dcm in slices_selected])\n",
        "            volume_3d = np.stack(array_list, axis=-1)\n",
        "            affine = np.eye(4)\n",
        "            nifti_img = nib.Nifti1Image(volume_3d, affine)\n",
        "            directory = os.path.dirname(f\"../raw_data/nii_files/{description}/\")\n",
        "            if not os.path.exists(directory):\n",
        "                os.makedirs(directory)\n",
        "            nib.save(nifti_img, f'../raw_data/nii_files/{description}/{str(file)}.nii')\n",
        "\n",
        "def download_file(file):\n",
        "    subscription_id = '35068096-667c-4620-8bb2-6b050765fd4e'\n",
        "    resource_group = 'ComputeFHNW'\n",
        "    workspace_name = 'FHNW'\n",
        "    workspace = Workspace(subscription_id, resource_group, workspace_name) \n",
        "    datastore = Datastore.get(workspace, \"mrialldata\")\n",
        "    dataset = Dataset.File.from_files(path=(datastore, 'output.deid/images/' + file))\n",
        "    dataset.download(target_path='../raw_data/downloaded_mri_files/' + file, overwrite=True)"
      ]
    },
    {
      "cell_type": "markdown",
      "metadata": {},
      "source": [
        "### Download all the file paths"
      ]
    },
    {
      "cell_type": "code",
      "execution_count": 35,
      "metadata": {
        "gather": {
          "logged": 1699972164124
        }
      },
      "outputs": [],
      "source": [
        "subscription_id = '35068096-667c-4620-8bb2-6b050765fd4e'\n",
        "resource_group = 'ComputeFHNW'\n",
        "workspace_name = 'FHNW'\n",
        "workspace = Workspace(subscription_id, resource_group, workspace_name)\n",
        "datastore = Datastore.get(workspace, \"mrialldata\")\n",
        "dataset = Dataset.File.from_files(path=(datastore, 'output.deid/images/'))\n",
        "mount_context = dataset.mount()\n",
        "mount_context.start()\n",
        "files = next(os.walk(mount_context.mount_point))[1]\n",
        "mount_context.stop()"
      ]
    },
    {
      "cell_type": "code",
      "execution_count": 20,
      "metadata": {},
      "outputs": [],
      "source": [
        "download_file(str(\"7606713\"))"
      ]
    },
    {
      "cell_type": "code",
      "execution_count": 30,
      "metadata": {},
      "outputs": [],
      "source": [
        "slices = get_mri_slices_from_file(\"7606713\")"
      ]
    },
    {
      "cell_type": "code",
      "execution_count": 31,
      "metadata": {},
      "outputs": [],
      "source": [
        "names = [ds.SeriesDescription == \"t1_tse_fs_cor\" for ds in slices]"
      ]
    },
    {
      "cell_type": "code",
      "execution_count": 40,
      "metadata": {},
      "outputs": [
        {
          "data": {
            "text/plain": [
              "1109"
            ]
          },
          "execution_count": 40,
          "metadata": {},
          "output_type": "execute_result"
        }
      ],
      "source": [
        "np.array(slices)[names][10].pixel_array.max()"
      ]
    },
    {
      "cell_type": "code",
      "execution_count": 13,
      "metadata": {},
      "outputs": [
        {
          "data": {
            "text/plain": [
              "False"
            ]
          },
          "execution_count": 13,
          "metadata": {},
          "output_type": "execute_result"
        }
      ],
      "source": [
        "names == \"t1_tse_fs_cor\""
      ]
    },
    {
      "cell_type": "code",
      "execution_count": 12,
      "metadata": {},
      "outputs": [
        {
          "data": {
            "text/plain": [
              "'ep2d_diff_tra_TRACEW'"
            ]
          },
          "execution_count": 12,
          "metadata": {},
          "output_type": "execute_result"
        }
      ],
      "source": [
        "names[names == \"t1_tse_fs_cor\"]"
      ]
    },
    {
      "cell_type": "code",
      "execution_count": 8,
      "metadata": {},
      "outputs": [
        {
          "data": {
            "text/plain": [
              "<bound method Dataset.values of Dataset.file_meta -------------------------------\n",
              "(0002, 0000) File Meta Information Group Length  UL: 196\n",
              "(0002, 0001) File Meta Information Version       OB: b'\\x00\\x01'\n",
              "(0002, 0002) Media Storage SOP Class UID         UI: MR Image Storage\n",
              "(0002, 0003) Media Storage SOP Instance UID      UI: 1.3.12.2.1107.5.2.41.69518.2019110607375334069215665\n",
              "(0002, 0010) Transfer Syntax UID                 UI: Explicit VR Little Endian\n",
              "(0002, 0012) Implementation Class UID            UI: 1.2.276.0.7230010.3.0.3.6.6\n",
              "(0002, 0013) Implementation Version Name         SH: 'OFFIS_DCMTK_366'\n",
              "-------------------------------------------------\n",
              "(0008, 0005) Specific Character Set              CS: 'ISO_IR 100'\n",
              "(0008, 0008) Image Type                          CS: ['DERIVED', 'PRIMARY', 'DIFFUSION', 'TRACEW', 'NORM', 'DIS2D']\n",
              "(0008, 0012) Instance Creation Date              DA: '20191106'\n",
              "(0008, 0013) Instance Creation Time              TM: '073754.152000'\n",
              "(0008, 0016) SOP Class UID                       UI: MR Image Storage\n",
              "(0008, 0018) SOP Instance UID                    UI: hmus5CbGgl7s6uLBNq2DL7F3av4zB-JzRhg0C3ATkoY=\n",
              "(0008, 0020) Study Date                          DA: '20191106'\n",
              "(0008, 0021) Series Date                         DA: '20191106'\n",
              "(0008, 0022) Acquisition Date                    DA: '20191106'\n",
              "(0008, 0023) Content Date                        DA: '20191106'\n",
              "(0008, 0030) Study Time                          TM: '073412.903000'\n",
              "(0008, 0031) Series Time                         TM: '073754.149000'\n",
              "(0008, 0032) Acquisition Time                    TM: '073644.537500'\n",
              "(0008, 0033) Content Time                        TM: '073754.152000'\n",
              "(0008, 0050) Accession Number                    SH: 'XucTjL6lotTgjVQciXT13RR8_CGXFxFBP2hS-NzklJs='\n",
              "(0008, 0060) Modality                            CS: 'MR'\n",
              "(0008, 0070) Manufacturer                        LO: 'SIEMENS'\n",
              "(0008, 1010) Station Name                        SH: 'MRC26143'\n",
              "(0008, 1030) Study Description                   LO: 'MR Hypophyse'\n",
              "(0008, 1032)  Procedure Code Sequence  1 item(s) ---- \n",
              "   (0008, 0100) Code Value                          SH: 'MNDSHYP'\n",
              "   (0008, 0102) Coding Scheme Designator            SH: 'L'\n",
              "   (0008, 0104) Code Meaning                        LO: 'MR Hypophyse'\n",
              "   ---------\n",
              "(0008, 103e) Series Description                  LO: 'ep2d_diff_tra_TRACEW'\n",
              "(0008, 1090) Manufacturer's Model Name           LO: 'Avanto_fit'\n",
              "(0008, 1110)  Referenced Study Sequence  1 item(s) ---- \n",
              "   (0008, 1150) Referenced SOP Class UID            UI: Detached Study Management SOP Class\n",
              "   (0008, 1155) Referenced SOP Instance UID         UI: T9ERBgRgO6RcsfrLBtlyMQRtyoK-lsonbbiLGjxVfqA=\n",
              "   ---------\n",
              "(0008, 1111)  Referenced Performed Procedure Step Sequence  1 item(s) ---- \n",
              "   (0008, 1150) Referenced SOP Class UID            UI: Modality Performed Procedure Step SOP Class\n",
              "   (0008, 1155) Referenced SOP Instance UID         UI: e5vfrCYoxdSdkabG78qNS9bUp82Hr1LP6hyJI1cjpOU=\n",
              "   ---------\n",
              "(0008, 1140)  Referenced Image Sequence  3 item(s) ---- \n",
              "   (0008, 1150) Referenced SOP Class UID            UI: MR Image Storage\n",
              "   (0008, 1155) Referenced SOP Instance UID         UI: ByVzKj9EG_CzpVRzjUQ_7uzsdLkPjY37_LhzqJVGzbg=\n",
              "   ---------\n",
              "   (0008, 1150) Referenced SOP Class UID            UI: MR Image Storage\n",
              "   (0008, 1155) Referenced SOP Instance UID         UI: aL3qkq7WxC7vv_icWO7zahs_n9HzkCDnEjURNtLfCxo=\n",
              "   ---------\n",
              "   (0008, 1150) Referenced SOP Class UID            UI: MR Image Storage\n",
              "   (0008, 1155) Referenced SOP Instance UID         UI: gaGTvEEGWKHNU8djvtRrqsqarEuBJyVp0ATjeL7P-mw=\n",
              "   ---------\n",
              "(0008, 1155) Referenced SOP Instance UID         UI: gaGTvEEGWKHNU8djvtRrqsqarEuBJyVp0ATjeL7P-mw=\n",
              "(0010, 0020) Patient ID                          LO: 'bIjKrp5FOahpMxdlRuopNllnHpR3ZrYgL7qnCBEfOfY='\n",
              "(0010, 0040) Patient's Sex                       CS: 'M'\n",
              "(0010, 1010) Patient's Age                       AS: '043Y'\n",
              "(0010, 1020) Patient's Size                      DS: '1.78'\n",
              "(0010, 1030) Patient's Weight                    DS: '100.0'\n",
              "(0010, 2000) Medical Alerts                      LO: 'Shunt 19.03.18   dies'\n",
              "(0010, 21c0) Pregnancy Status                    US: 4\n",
              "(0012, 0062) Patient Identity Removed            CS: 'Yes'\n",
              "(0018, 0015) Body Part Examined                  CS: 'HEAD'\n",
              "(0018, 0020) Scanning Sequence                   CS: 'EP'\n",
              "(0018, 0021) Sequence Variant                    CS: ['SK', 'SP']\n",
              "(0018, 0022) Scan Options                        CS: ['PFP', 'FS']\n",
              "(0018, 0023) MR Acquisition Type                 CS: '2D'\n",
              "(0018, 0024) Sequence Name                       SH: '*ep_b0'\n",
              "(0018, 0025) Angio Flag                          CS: 'N'\n",
              "(0018, 0050) Slice Thickness                     DS: '5.0'\n",
              "(0018, 0080) Repetition Time                     DS: '4300.0'\n",
              "(0018, 0081) Echo Time                           DS: '89.0'\n",
              "(0018, 0083) Number of Averages                  DS: '2.0'\n",
              "(0018, 0084) Imaging Frequency                   DS: '63.676477'\n",
              "(0018, 0085) Imaged Nucleus                      SH: '1H'\n",
              "(0018, 0086) Echo Number(s)                      IS: '1'\n",
              "(0018, 0087) Magnetic Field Strength             DS: '1.5'\n",
              "(0018, 0088) Spacing Between Slices              DS: '6.5'\n",
              "(0018, 0089) Number of Phase Encoding Steps      IS: '143'\n",
              "(0018, 0091) Echo Train Length                   IS: '71'\n",
              "(0018, 0093) Percent Sampling                    DS: '100.0'\n",
              "(0018, 0094) Percent Phase Field of View         DS: '100.0'\n",
              "(0018, 0095) Pixel Bandwidth                     DS: '1240.0'\n",
              "(0018, 1000) Device Serial Number                LO: '69518'\n",
              "(0018, 1020) Software Versions                   LO: 'syngo MR E11'\n",
              "(0018, 1030) Protocol Name                       LO: 'ep2d_diff_tra'\n",
              "(0018, 1251) Transmit Coil Name                  SH: 'Body'\n",
              "(0018, 1310) Acquisition Matrix                  US: [192, 0, 0, 192]\n",
              "(0018, 1312) In-plane Phase Encoding Direction   CS: 'COL'\n",
              "(0018, 1314) Flip Angle                          DS: '90.0'\n",
              "(0018, 1315) Variable Flip Angle Flag            CS: 'N'\n",
              "(0018, 1316) SAR                                 DS: '0.06310891361443'\n",
              "(0018, 1318) dB/dt                               DS: '0.0'\n",
              "(0018, 5100) Patient Position                    CS: 'HFS'\n",
              "(0020, 000d) Study Instance UID                  UI: T9ERBgRgO6RcsfrLBtlyMQRtyoK-lsonbbiLGjxVfqA=\n",
              "(0020, 000e) Series Instance UID                 UI: mWbLyznFnnAFRQyQGdMjxF3XKpP-xCwdATuhk-jYJQE=\n",
              "(0020, 0010) Study ID                            SH: 'XucTjL6lotTgjVQciXT13RR8_CGXFxFBP2hS-NzklJs='\n",
              "(0020, 0011) Series Number                       IS: '5'\n",
              "(0020, 0012) Acquisition Number                  IS: '1'\n",
              "(0020, 0013) Instance Number                     IS: '2'\n",
              "(0020, 0032) Image Position (Patient)            DS: [-124.5562387217, -139.16524809683, -45.914429313102]\n",
              "(0020, 0037) Image Orientation (Patient)         DS: [0.99879716156316, -0.0487406031352, 0.00534636880426, 0.04902410946353, 0.99473340440629, -0.0900116150815]\n",
              "(0020, 0052) Frame of Reference UID              UI: 1.3.12.2.1107.5.2.41.69518.2.20191106073413165.0.0.0\n",
              "(0020, 1040) Position Reference Indicator        LO: ''\n",
              "(0020, 1041) Slice Location                      DS: '-58.159326692017'\n",
              "(0028, 0002) Samples per Pixel                   US: 1\n",
              "(0028, 0004) Photometric Interpretation          CS: 'MONOCHROME2'\n",
              "(0028, 0010) Rows                                US: 192\n",
              "(0028, 0011) Columns                             US: 192\n",
              "(0028, 0030) Pixel Spacing                       DS: [1.1979166269302, 1.1979166269302]\n",
              "(0028, 0100) Bits Allocated                      US: 16\n",
              "(0028, 0101) Bits Stored                         US: 12\n",
              "(0028, 0102) High Bit                            US: 11\n",
              "(0028, 0103) Pixel Representation                US: 0\n",
              "(0028, 0106) Smallest Image Pixel Value          US: 0\n",
              "(0028, 0107) Largest Image Pixel Value           US: 1268\n",
              "(0028, 1050) Window Center                       DS: '273.0'\n",
              "(0028, 1051) Window Width                        DS: '663.0'\n",
              "(0028, 1055) Window Center & Width Explanation   LO: 'Algo1'\n",
              "(0040, 0244) Performed Procedure Step Start Date DA: '20191106'\n",
              "(0040, 0245) Performed Procedure Step Start Time TM: '073413.050000'\n",
              "(0040, 0253) Performed Procedure Step ID         SH: '8020686'\n",
              "(0040, 0254) Performed Procedure Step Descriptio LO: 'MR Hypophyse'\n",
              "(0040, 0275)  Request Attributes Sequence  1 item(s) ---- \n",
              "   (0040, 1001) Requested Procedure ID              SH: '8020686'\n",
              "   ---------\n",
              "(0040, 0280) Comments on the Performed Procedure ST: ''\n",
              "(7fe0, 0010) Pixel Data                          OW: Array of 73728 elements>"
            ]
          },
          "execution_count": 8,
          "metadata": {},
          "output_type": "execute_result"
        }
      ],
      "source": [
        "slices[0].values"
      ]
    },
    {
      "cell_type": "markdown",
      "metadata": {},
      "source": [
        "### Download dicom files"
      ]
    },
    {
      "cell_type": "code",
      "execution_count": 15,
      "metadata": {},
      "outputs": [
        {
          "name": "stdout",
          "output_type": "stream",
          "text": [
            "8020686\n",
            "(array(['t1_tse_cor', 't1_tse_sag', 't2_tse_cor', 't2_tse_sag'],\n",
            "      dtype='<U10'), array([44, 20, 22, 20]))\n",
            "7729409\n",
            "(array(['t1_tse_cor', 't1_tse_sag', 't2_tse_cor', 't2_tse_sag'],\n",
            "      dtype='<U10'), array([40, 20, 20, 20]))\n",
            "7698240\n",
            "(array(['t1_tse_cor', 't1_tse_sag', 't2_tse_fs_cor'], dtype='<U13'), array([21, 21, 21]))\n",
            "7757311\n",
            "(array(['t1_tse_cor', 't1_tse_sag', 't2_tse_fs_cor'], dtype='<U13'), array([20, 20, 20]))\n",
            "8578318\n",
            "(array(['t1_tse_cor', 't1_tse_sag', 't2_tse_fs_cor', 't2_tse_fs_sag'],\n",
            "      dtype='<U13'), array([20, 20, 20, 20]))\n",
            "8433426\n",
            "(array(['t1_tse_cor', 't1_tse_sag', 't2_tse_fs_cor', 't2_tse_fs_sag'],\n",
            "      dtype='<U13'), array([15, 15, 15, 15]))\n",
            "7947388\n",
            "(array(['t1_tse_cor', 't1_tse_sag', 't2_tse_fs_cor'], dtype='<U13'), array([15, 15, 15]))\n",
            "7677484\n",
            "(array(['t1_tse_cor', 't1_tse_sag', 't2_tse_fs_cor', 't2_tse_fs_sag'],\n",
            "      dtype='<U13'), array([20, 20, 20, 20]))\n"
          ]
        }
      ],
      "source": [
        "### all_files_saved\n",
        "for file in files:\n",
        "    download_file(str(file))\n",
        "    slices = get_mri_slices_from_file(file)\n",
        "    if len(get_slice_descriptions(slices)[0]) != 5:\n",
        "        print(file)\n",
        "    print(get_slice_descriptions(slices))\n",
        "    save_files(slices,file)\n",
        "    delete_full_mri_storage(file)"
      ]
    }
  ],
  "metadata": {
    "kernel_info": {
      "name": "python38-azureml"
    },
    "kernelspec": {
      "display_name": "Python 3.8 - AzureML",
      "language": "python",
      "name": "python38-azureml"
    },
    "language_info": {
      "codemirror_mode": {
        "name": "ipython",
        "version": 3
      },
      "file_extension": ".py",
      "mimetype": "text/x-python",
      "name": "python",
      "nbconvert_exporter": "python",
      "pygments_lexer": "ipython3",
      "version": "3.8.5"
    },
    "microsoft": {
      "ms_spell_check": {
        "ms_spell_check_language": "en"
      }
    },
    "nteract": {
      "version": "nteract-front-end@1.0.0"
    }
  },
  "nbformat": 4,
  "nbformat_minor": 2
}
