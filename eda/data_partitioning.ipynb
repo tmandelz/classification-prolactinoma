{
 "cells": [
  {
   "cell_type": "markdown",
   "metadata": {},
   "source": [
    "# Data Partitioning"
   ]
  },
  {
   "cell_type": "code",
   "execution_count": 1,
   "metadata": {},
   "outputs": [],
   "source": [
    "import pandas as pd\n",
    "import numpy as np\n",
    "from sklearn.model_selection import train_test_split\n",
    "random_state = 123"
   ]
  },
  {
   "cell_type": "code",
   "execution_count": 2,
   "metadata": {},
   "outputs": [
    {
     "name": "stdout",
     "output_type": "stream",
     "text": [
      "Start Data Partitioning\n"
     ]
    }
   ],
   "source": [
    "print(\"Start Data Partitioning\")"
   ]
  },
  {
   "cell_type": "code",
   "execution_count": 3,
   "metadata": {},
   "outputs": [
    {
     "data": {
      "text/html": [
       "<div>\n",
       "<style scoped>\n",
       "    .dataframe tbody tr th:only-of-type {\n",
       "        vertical-align: middle;\n",
       "    }\n",
       "\n",
       "    .dataframe tbody tr th {\n",
       "        vertical-align: top;\n",
       "    }\n",
       "\n",
       "    .dataframe thead th {\n",
       "        text-align: right;\n",
       "    }\n",
       "</style>\n",
       "<table border=\"1\" class=\"dataframe\">\n",
       "  <thead>\n",
       "    <tr style=\"text-align: right;\">\n",
       "      <th></th>\n",
       "      <th>Patient_ID</th>\n",
       "      <th>Date_MRI</th>\n",
       "      <th>ID_MRI_Machine</th>\n",
       "      <th>Entry_date</th>\n",
       "      <th>Operation_date</th>\n",
       "      <th>Adenoma_size</th>\n",
       "      <th>Diagnosis</th>\n",
       "      <th>Category</th>\n",
       "      <th>Patient_age</th>\n",
       "      <th>Prolactin</th>\n",
       "      <th>...</th>\n",
       "      <th>Pre_OP_hormone_intakt</th>\n",
       "      <th>Post_OP_hormone_cortico</th>\n",
       "      <th>Post_OP_hormone_gonado</th>\n",
       "      <th>Post_OP_hormone_somato</th>\n",
       "      <th>Post_OP_hormone_ADH</th>\n",
       "      <th>Post_OP_hormone_thyreo</th>\n",
       "      <th>Post_OP_hormone_hyperprolaktin</th>\n",
       "      <th>Post_OP_hormone_keine</th>\n",
       "      <th>Post_OP_hormone_intakt</th>\n",
       "      <th>Label_Quality</th>\n",
       "    </tr>\n",
       "  </thead>\n",
       "  <tbody>\n",
       "    <tr>\n",
       "      <th>0</th>\n",
       "      <td>300146159</td>\n",
       "      <td>2023-05-11 09:00:00</td>\n",
       "      <td>MRI3</td>\n",
       "      <td>2021-09-01</td>\n",
       "      <td>2021-09-17</td>\n",
       "      <td>makro</td>\n",
       "      <td>inaktiv (gonado)</td>\n",
       "      <td>non-prolaktinom</td>\n",
       "      <td>57</td>\n",
       "      <td>0.0</td>\n",
       "      <td>...</td>\n",
       "      <td>0</td>\n",
       "      <td>0</td>\n",
       "      <td>1</td>\n",
       "      <td>0</td>\n",
       "      <td>0</td>\n",
       "      <td>0</td>\n",
       "      <td>0</td>\n",
       "      <td>0</td>\n",
       "      <td>0</td>\n",
       "      <td>NaN</td>\n",
       "    </tr>\n",
       "    <tr>\n",
       "      <th>1</th>\n",
       "      <td>762512</td>\n",
       "      <td>2023-05-06 08:12:00</td>\n",
       "      <td>MRI3</td>\n",
       "      <td>2018-09-01</td>\n",
       "      <td>2018-09-19</td>\n",
       "      <td>makro</td>\n",
       "      <td>gh</td>\n",
       "      <td>non-prolaktinom</td>\n",
       "      <td>66</td>\n",
       "      <td>0.0</td>\n",
       "      <td>...</td>\n",
       "      <td>0</td>\n",
       "      <td>0</td>\n",
       "      <td>0</td>\n",
       "      <td>0</td>\n",
       "      <td>0</td>\n",
       "      <td>1</td>\n",
       "      <td>0</td>\n",
       "      <td>0</td>\n",
       "      <td>0</td>\n",
       "      <td>NaN</td>\n",
       "    </tr>\n",
       "    <tr>\n",
       "      <th>2</th>\n",
       "      <td>365189</td>\n",
       "      <td>2023-05-05 14:19:00</td>\n",
       "      <td>MRI3</td>\n",
       "      <td>NaN</td>\n",
       "      <td>NaN</td>\n",
       "      <td>NaN</td>\n",
       "      <td>NaN</td>\n",
       "      <td>NaN</td>\n",
       "      <td>32</td>\n",
       "      <td>0.0</td>\n",
       "      <td>...</td>\n",
       "      <td>0</td>\n",
       "      <td>0</td>\n",
       "      <td>0</td>\n",
       "      <td>0</td>\n",
       "      <td>0</td>\n",
       "      <td>0</td>\n",
       "      <td>0</td>\n",
       "      <td>0</td>\n",
       "      <td>0</td>\n",
       "      <td>keine daten</td>\n",
       "    </tr>\n",
       "    <tr>\n",
       "      <th>3</th>\n",
       "      <td>543641</td>\n",
       "      <td>2023-05-05 07:54:00</td>\n",
       "      <td>MRI2</td>\n",
       "      <td>2006-01-01</td>\n",
       "      <td>2009-06-04</td>\n",
       "      <td>mikro</td>\n",
       "      <td>acth</td>\n",
       "      <td>non-prolaktinom</td>\n",
       "      <td>39</td>\n",
       "      <td>0.0</td>\n",
       "      <td>...</td>\n",
       "      <td>0</td>\n",
       "      <td>0</td>\n",
       "      <td>0</td>\n",
       "      <td>0</td>\n",
       "      <td>0</td>\n",
       "      <td>0</td>\n",
       "      <td>0</td>\n",
       "      <td>1</td>\n",
       "      <td>0</td>\n",
       "      <td>NaN</td>\n",
       "    </tr>\n",
       "    <tr>\n",
       "      <th>4</th>\n",
       "      <td>300302329</td>\n",
       "      <td>2023-05-02 12:04:00</td>\n",
       "      <td>MRI3</td>\n",
       "      <td>2021-10-01</td>\n",
       "      <td>2022-01-12</td>\n",
       "      <td>makro</td>\n",
       "      <td>inaktiv</td>\n",
       "      <td>non-prolaktinom</td>\n",
       "      <td>56</td>\n",
       "      <td>0.0</td>\n",
       "      <td>...</td>\n",
       "      <td>1</td>\n",
       "      <td>0</td>\n",
       "      <td>0</td>\n",
       "      <td>0</td>\n",
       "      <td>0</td>\n",
       "      <td>0</td>\n",
       "      <td>0</td>\n",
       "      <td>0</td>\n",
       "      <td>1</td>\n",
       "      <td>NaN</td>\n",
       "    </tr>\n",
       "  </tbody>\n",
       "</table>\n",
       "<p>5 rows × 30 columns</p>\n",
       "</div>"
      ],
      "text/plain": [
       "   Patient_ID             Date_MRI ID_MRI_Machine  Entry_date Operation_date  \\\n",
       "0   300146159  2023-05-11 09:00:00           MRI3  2021-09-01     2021-09-17   \n",
       "1      762512  2023-05-06 08:12:00           MRI3  2018-09-01     2018-09-19   \n",
       "2      365189  2023-05-05 14:19:00           MRI3         NaN            NaN   \n",
       "3      543641  2023-05-05 07:54:00           MRI2  2006-01-01     2009-06-04   \n",
       "4   300302329  2023-05-02 12:04:00           MRI3  2021-10-01     2022-01-12   \n",
       "\n",
       "  Adenoma_size         Diagnosis         Category  Patient_age  Prolactin  \\\n",
       "0        makro  inaktiv (gonado)  non-prolaktinom           57        0.0   \n",
       "1        makro                gh  non-prolaktinom           66        0.0   \n",
       "2          NaN               NaN              NaN           32        0.0   \n",
       "3        mikro              acth  non-prolaktinom           39        0.0   \n",
       "4        makro           inaktiv  non-prolaktinom           56        0.0   \n",
       "\n",
       "   ...  Pre_OP_hormone_intakt Post_OP_hormone_cortico Post_OP_hormone_gonado  \\\n",
       "0  ...                      0                       0                      1   \n",
       "1  ...                      0                       0                      0   \n",
       "2  ...                      0                       0                      0   \n",
       "3  ...                      0                       0                      0   \n",
       "4  ...                      1                       0                      0   \n",
       "\n",
       "  Post_OP_hormone_somato  Post_OP_hormone_ADH  Post_OP_hormone_thyreo  \\\n",
       "0                      0                    0                       0   \n",
       "1                      0                    0                       1   \n",
       "2                      0                    0                       0   \n",
       "3                      0                    0                       0   \n",
       "4                      0                    0                       0   \n",
       "\n",
       "   Post_OP_hormone_hyperprolaktin  Post_OP_hormone_keine  \\\n",
       "0                               0                      0   \n",
       "1                               0                      0   \n",
       "2                               0                      0   \n",
       "3                               0                      1   \n",
       "4                               0                      0   \n",
       "\n",
       "   Post_OP_hormone_intakt  Label_Quality  \n",
       "0                       0            NaN  \n",
       "1                       0            NaN  \n",
       "2                       0    keine daten  \n",
       "3                       0            NaN  \n",
       "4                       1            NaN  \n",
       "\n",
       "[5 rows x 30 columns]"
      ]
     },
     "execution_count": 3,
     "metadata": {},
     "output_type": "execute_result"
    }
   ],
   "source": [
    "# read cleaned data\n",
    "df = pd.read_csv(r'../raw_data/label_data.csv')\n",
    "df.head()"
   ]
  },
  {
   "cell_type": "markdown",
   "metadata": {},
   "source": [
    "## Train/Test Split Strategy\n",
    "We will Split the Data into a Train- and Testset. \n",
    "We are splitting each patient fully into either the train or the test set to avoid data leakage.\n",
    "This is ensured checking for Patient ID duplicates (assert statement beneath) in the Dataframe. If each row only corresponds to one patient we can savely split the dataframe.\n",
    "\n",
    "\n",
    "Also we are gonna stratify the split on the binary labels to ensure that the train- and testset include about the same of each class."
   ]
  },
  {
   "cell_type": "code",
   "execution_count": 4,
   "metadata": {},
   "outputs": [],
   "source": [
    "# drop patients without a label\n",
    "df= df[~df[\"Category\"].isna()]"
   ]
  },
  {
   "cell_type": "code",
   "execution_count": 5,
   "metadata": {},
   "outputs": [],
   "source": [
    "# Patient ID Duplicate Check\n",
    "assert len(df[df[\"Patient_ID\"].duplicated()]) == 0"
   ]
  },
  {
   "cell_type": "code",
   "execution_count": 6,
   "metadata": {},
   "outputs": [],
   "source": [
    "# split columns into features and labels\n",
    "X = df.drop(columns=[\"Category\"])\n",
    "y = df[\"Category\"]\n",
    "# stratified train/test split on labels\n",
    "X_train, X_test, y_train, y_test = train_test_split(X, y, test_size=0.2, stratify=y, random_state=random_state)"
   ]
  },
  {
   "cell_type": "code",
   "execution_count": 7,
   "metadata": {},
   "outputs": [
    {
     "name": "stdout",
     "output_type": "stream",
     "text": [
      "Total Dataframe Train rows: 138\n",
      "Total Dataframe Test rows: 35\n"
     ]
    }
   ],
   "source": [
    "print(\"Total Dataframe Train rows:\", len(X_train))\n",
    "print(\"Total Dataframe Test rows:\", len(X_test))"
   ]
  },
  {
   "cell_type": "code",
   "execution_count": 8,
   "metadata": {},
   "outputs": [],
   "source": [
    "label_diff = ((y_train.value_counts(normalize=True) - y_test.value_counts(normalize=True)) *100).iloc[1]"
   ]
  },
  {
   "cell_type": "code",
   "execution_count": 9,
   "metadata": {},
   "outputs": [
    {
     "name": "stdout",
     "output_type": "stream",
     "text": [
      "Label Distribution relative Difference between Train- and Testset:\n",
      " ± 0.166 %\n"
     ]
    }
   ],
   "source": [
    "print(f\"Label Distribution relative Difference between Train- and Testset:\\n\",\"±\",np.round(label_diff,3),\"%\")"
   ]
  },
  {
   "cell_type": "code",
   "execution_count": 10,
   "metadata": {},
   "outputs": [],
   "source": [
    "# Create dataframes for training and test data\n",
    "train_data = pd.DataFrame(X_train)\n",
    "train_data['Category'] = y_train\n",
    "\n",
    "test_data = pd.DataFrame(X_test)\n",
    "test_data['Category'] = y_test"
   ]
  },
  {
   "cell_type": "code",
   "execution_count": 27,
   "metadata": {},
   "outputs": [
    {
     "data": {
      "text/html": [
       "<div>\n",
       "<style scoped>\n",
       "    .dataframe tbody tr th:only-of-type {\n",
       "        vertical-align: middle;\n",
       "    }\n",
       "\n",
       "    .dataframe tbody tr th {\n",
       "        vertical-align: top;\n",
       "    }\n",
       "\n",
       "    .dataframe thead th {\n",
       "        text-align: right;\n",
       "    }\n",
       "</style>\n",
       "<table border=\"1\" class=\"dataframe\">\n",
       "  <thead>\n",
       "    <tr style=\"text-align: right;\">\n",
       "      <th></th>\n",
       "      <th>Case_ID</th>\n",
       "      <th>20396</th>\n",
       "      <th>24382</th>\n",
       "      <th>24383</th>\n",
       "      <th>24384</th>\n",
       "      <th>COR30</th>\n",
       "      <th>COR60</th>\n",
       "      <th>FSH</th>\n",
       "      <th>FT4</th>\n",
       "      <th>LH</th>\n",
       "      <th>PROL</th>\n",
       "      <th>TBILHB</th>\n",
       "      <th>TEST</th>\n",
       "    </tr>\n",
       "  </thead>\n",
       "  <tbody>\n",
       "    <tr>\n",
       "      <th>0</th>\n",
       "      <td>#2017851</td>\n",
       "      <td>NaN</td>\n",
       "      <td>NaN</td>\n",
       "      <td>NaN</td>\n",
       "      <td>NaN</td>\n",
       "      <td>NaN</td>\n",
       "      <td>NaN</td>\n",
       "      <td>NaN</td>\n",
       "      <td>13.300000</td>\n",
       "      <td>NaN</td>\n",
       "      <td>NaN</td>\n",
       "      <td>NaN</td>\n",
       "      <td>NaN</td>\n",
       "    </tr>\n",
       "    <tr>\n",
       "      <th>1</th>\n",
       "      <td>#2024754</td>\n",
       "      <td>NaN</td>\n",
       "      <td>NaN</td>\n",
       "      <td>NaN</td>\n",
       "      <td>NaN</td>\n",
       "      <td>NaN</td>\n",
       "      <td>NaN</td>\n",
       "      <td>NaN</td>\n",
       "      <td>28.540909</td>\n",
       "      <td>NaN</td>\n",
       "      <td>NaN</td>\n",
       "      <td>NaN</td>\n",
       "      <td>24.088636</td>\n",
       "    </tr>\n",
       "    <tr>\n",
       "      <th>2</th>\n",
       "      <td>#2024755</td>\n",
       "      <td>28.238095</td>\n",
       "      <td>NaN</td>\n",
       "      <td>NaN</td>\n",
       "      <td>NaN</td>\n",
       "      <td>NaN</td>\n",
       "      <td>NaN</td>\n",
       "      <td>26.431818</td>\n",
       "      <td>NaN</td>\n",
       "      <td>38.0</td>\n",
       "      <td>22.327273</td>\n",
       "      <td>NaN</td>\n",
       "      <td>NaN</td>\n",
       "    </tr>\n",
       "    <tr>\n",
       "      <th>3</th>\n",
       "      <td>#2025084</td>\n",
       "      <td>NaN</td>\n",
       "      <td>NaN</td>\n",
       "      <td>NaN</td>\n",
       "      <td>NaN</td>\n",
       "      <td>NaN</td>\n",
       "      <td>NaN</td>\n",
       "      <td>NaN</td>\n",
       "      <td>NaN</td>\n",
       "      <td>NaN</td>\n",
       "      <td>28.150000</td>\n",
       "      <td>NaN</td>\n",
       "      <td>NaN</td>\n",
       "    </tr>\n",
       "    <tr>\n",
       "      <th>4</th>\n",
       "      <td>#2025918</td>\n",
       "      <td>NaN</td>\n",
       "      <td>NaN</td>\n",
       "      <td>NaN</td>\n",
       "      <td>NaN</td>\n",
       "      <td>NaN</td>\n",
       "      <td>NaN</td>\n",
       "      <td>NaN</td>\n",
       "      <td>15.000000</td>\n",
       "      <td>NaN</td>\n",
       "      <td>NaN</td>\n",
       "      <td>NaN</td>\n",
       "      <td>NaN</td>\n",
       "    </tr>\n",
       "  </tbody>\n",
       "</table>\n",
       "</div>"
      ],
      "text/plain": [
       "    Case_ID      20396  24382  24383  24384  COR30  COR60        FSH  \\\n",
       "0  #2017851        NaN    NaN    NaN    NaN    NaN    NaN        NaN   \n",
       "1  #2024754        NaN    NaN    NaN    NaN    NaN    NaN        NaN   \n",
       "2  #2024755  28.238095    NaN    NaN    NaN    NaN    NaN  26.431818   \n",
       "3  #2025084        NaN    NaN    NaN    NaN    NaN    NaN        NaN   \n",
       "4  #2025918        NaN    NaN    NaN    NaN    NaN    NaN        NaN   \n",
       "\n",
       "         FT4    LH       PROL  TBILHB       TEST  \n",
       "0  13.300000   NaN        NaN     NaN        NaN  \n",
       "1  28.540909   NaN        NaN     NaN  24.088636  \n",
       "2        NaN  38.0  22.327273     NaN        NaN  \n",
       "3        NaN   NaN  28.150000     NaN        NaN  \n",
       "4  15.000000   NaN        NaN     NaN        NaN  "
      ]
     },
     "execution_count": 27,
     "metadata": {},
     "output_type": "execute_result"
    }
   ],
   "source": [
    "# read cleaned labor data\n",
    "labor_data = pd.read_csv(r'../raw_data/labor_data_preprocessed.csv')\n",
    "labor_data.head()"
   ]
  },
  {
   "cell_type": "code",
   "execution_count": 35,
   "metadata": {},
   "outputs": [
    {
     "data": {
      "text/html": [
       "<div>\n",
       "<style scoped>\n",
       "    .dataframe tbody tr th:only-of-type {\n",
       "        vertical-align: middle;\n",
       "    }\n",
       "\n",
       "    .dataframe tbody tr th {\n",
       "        vertical-align: top;\n",
       "    }\n",
       "\n",
       "    .dataframe thead th {\n",
       "        text-align: right;\n",
       "    }\n",
       "</style>\n",
       "<table border=\"1\" class=\"dataframe\">\n",
       "  <thead>\n",
       "    <tr style=\"text-align: right;\">\n",
       "      <th></th>\n",
       "      <th>Case_ID</th>\n",
       "      <th>Patient_ID</th>\n",
       "    </tr>\n",
       "  </thead>\n",
       "  <tbody>\n",
       "    <tr>\n",
       "      <th>0</th>\n",
       "      <td>0041835743</td>\n",
       "      <td>300146159</td>\n",
       "    </tr>\n",
       "    <tr>\n",
       "      <th>1</th>\n",
       "      <td>0041708812</td>\n",
       "      <td>762512</td>\n",
       "    </tr>\n",
       "    <tr>\n",
       "      <th>2</th>\n",
       "      <td>0041892695</td>\n",
       "      <td>365189</td>\n",
       "    </tr>\n",
       "    <tr>\n",
       "      <th>3</th>\n",
       "      <td>0041725372</td>\n",
       "      <td>543641</td>\n",
       "    </tr>\n",
       "    <tr>\n",
       "      <th>4</th>\n",
       "      <td>0041843364</td>\n",
       "      <td>300302329</td>\n",
       "    </tr>\n",
       "    <tr>\n",
       "      <th>...</th>\n",
       "      <td>...</td>\n",
       "      <td>...</td>\n",
       "    </tr>\n",
       "    <tr>\n",
       "      <th>1193</th>\n",
       "      <td>0004213315</td>\n",
       "      <td>112374</td>\n",
       "    </tr>\n",
       "    <tr>\n",
       "      <th>1194</th>\n",
       "      <td>0004211936</td>\n",
       "      <td>153807</td>\n",
       "    </tr>\n",
       "    <tr>\n",
       "      <th>1195</th>\n",
       "      <td>0004180070</td>\n",
       "      <td>719666</td>\n",
       "    </tr>\n",
       "    <tr>\n",
       "      <th>1196</th>\n",
       "      <td>0004139115</td>\n",
       "      <td>313269</td>\n",
       "    </tr>\n",
       "    <tr>\n",
       "      <th>1197</th>\n",
       "      <td>0004210941</td>\n",
       "      <td>637049</td>\n",
       "    </tr>\n",
       "  </tbody>\n",
       "</table>\n",
       "<p>1198 rows × 2 columns</p>\n",
       "</div>"
      ],
      "text/plain": [
       "         Case_ID  Patient_ID\n",
       "0     0041835743   300146159\n",
       "1     0041708812      762512\n",
       "2     0041892695      365189\n",
       "3     0041725372      543641\n",
       "4     0041843364   300302329\n",
       "...          ...         ...\n",
       "1193  0004213315      112374\n",
       "1194  0004211936      153807\n",
       "1195  0004180070      719666\n",
       "1196  0004139115      313269\n",
       "1197  0004210941      637049\n",
       "\n",
       "[1198 rows x 2 columns]"
      ]
     },
     "execution_count": 35,
     "metadata": {},
     "output_type": "execute_result"
    }
   ],
   "source": [
    "df_more_data = pd.read_excel(r'../raw_data/Hypophysenpatienten.xlsx',sheet_name='w duplicates')\n",
    "df_more_data =df_more_data[[\"Fall Nr.\",\"PID\"]]\n",
    "df_more_data= df_more_data.rename(columns={\"Fall Nr.\": \"Case_ID\",\"PID\": \"Patient_ID\",})\n",
    "df_more_data"
   ]
  },
  {
   "cell_type": "code",
   "execution_count": 40,
   "metadata": {},
   "outputs": [],
   "source": [
    "train_data_merged = train_data.merge(df_more_data,how='right',on='Patient_ID')\n",
    "train_data_merged[\"Case_ID\"] = train_data_merged[\"Case_ID\"].str.lstrip(\"0\")\n",
    "train_data_merged = train_data_merged.merge(labor_data,how='left',on='Case_ID')\n",
    "test_data_merged = test_data.merge(df_more_data,how='right',on='Patient_ID')\n",
    "test_data_merged = test_data_merged.merge(labor_data,how='left',on='Case_ID')"
   ]
  },
  {
   "cell_type": "code",
   "execution_count": null,
   "metadata": {},
   "outputs": [],
   "source": [
    "train_data_merged = train_data.merge(df_more_data,how='right',on='Patient_ID')\n",
    "train_data_merged[\"Case_ID\"] = train_data_merged[\"Case_ID\"].apply(lambda x: x[2:])\n",
    "train_data_merged = train_data_merged.merge(labor_data,how='left',on='Case_ID')"
   ]
  },
  {
   "cell_type": "code",
   "execution_count": 59,
   "metadata": {},
   "outputs": [],
   "source": [
    "labor_values = []\n",
    "for case_id in train_data_merged[\"Case_ID\"]:\n",
    "    try:\n",
    "        float(case_id)\n",
    "    except:\n",
    "        labor_values.append(case_id)"
   ]
  },
  {
   "cell_type": "code",
   "execution_count": 60,
   "metadata": {},
   "outputs": [
    {
     "data": {
      "text/plain": [
       "['3365461-8']"
      ]
     },
     "execution_count": 60,
     "metadata": {},
     "output_type": "execute_result"
    }
   ],
   "source": [
    "labor_values"
   ]
  },
  {
   "cell_type": "code",
   "execution_count": 47,
   "metadata": {},
   "outputs": [],
   "source": [
    "labor_values = []\n",
    "for case_id in labor_data[\"Case_ID\"]:\n",
    "    try:\n",
    "        float(case_id)\n",
    "    except:\n",
    "        labor_values.append(case_id)"
   ]
  },
  {
   "cell_type": "code",
   "execution_count": 48,
   "metadata": {},
   "outputs": [
    {
     "data": {
      "text/plain": [
       "['#2017851',\n",
       " '#2024754',\n",
       " '#2024755',\n",
       " '#2025084',\n",
       " '#2025918',\n",
       " '#2025919',\n",
       " '#2026549',\n",
       " '#2027244',\n",
       " '#2028285',\n",
       " '#2028768',\n",
       " '#2029295',\n",
       " '#2031882',\n",
       " '#2031883',\n",
       " '#2032539',\n",
       " '#2032667',\n",
       " '#2033033',\n",
       " '#2033097',\n",
       " '#2033621',\n",
       " '#2033709',\n",
       " '#2033800',\n",
       " '#2034467',\n",
       " '#2034741',\n",
       " '#2035923',\n",
       " '#2036892',\n",
       " '#2036980',\n",
       " '#2037460',\n",
       " '#2038756',\n",
       " '#2040819',\n",
       " '#2040976',\n",
       " '#2041008',\n",
       " '#2041378',\n",
       " '#2041571',\n",
       " '#2041641',\n",
       " '#2041643',\n",
       " '#2041790',\n",
       " '#2042051',\n",
       " '#2042066',\n",
       " '#2042067',\n",
       " '#2042095',\n",
       " '#2042106',\n",
       " '#2043592',\n",
       " '#2043694',\n",
       " '#2044438',\n",
       " '#2045608',\n",
       " '#2045632',\n",
       " '#2046592',\n",
       " '#2050781',\n",
       " '#2053066',\n",
       " '#2053322',\n",
       " '#2053962']"
      ]
     },
     "execution_count": 48,
     "metadata": {},
     "output_type": "execute_result"
    }
   ],
   "source": [
    "labor_values"
   ]
  },
  {
   "cell_type": "code",
   "execution_count": 46,
   "metadata": {},
   "outputs": [
    {
     "data": {
      "text/plain": [
       "['3365461-8']"
      ]
     },
     "execution_count": 46,
     "metadata": {},
     "output_type": "execute_result"
    }
   ],
   "source": [
    "labor_values"
   ]
  },
  {
   "cell_type": "code",
   "execution_count": null,
   "metadata": {},
   "outputs": [],
   "source": [
    "# Save the training and test data to CSV files\n",
    "train_data_merged.to_csv(r'../data/train_data.csv', index=False)\n",
    "test_data_merged.to_csv(r'../data/test_data.csv', index=False)"
   ]
  },
  {
   "cell_type": "code",
   "execution_count": null,
   "metadata": {},
   "outputs": [
    {
     "ename": "AssertionError",
     "evalue": "",
     "output_type": "error",
     "traceback": [
      "\u001b[1;31m---------------------------------------------------------------------------\u001b[0m",
      "\u001b[1;31mAssertionError\u001b[0m                            Traceback (most recent call last)",
      "\u001b[1;32mc:\\Users\\j\\gitlab\\pro5d-classification-prolactinoma\\eda\\data_partitioning.ipynb Cell 18\u001b[0m line \u001b[0;36m1\n\u001b[1;32m----> <a href='vscode-notebook-cell:/c%3A/Users/j/gitlab/pro5d-classification-prolactinoma/eda/data_partitioning.ipynb#X24sZmlsZQ%3D%3D?line=0'>1</a>\u001b[0m \u001b[39massert\u001b[39;00m \u001b[39mlen\u001b[39m(train_data_merged\u001b[39m.\u001b[39mPatient_ID\u001b[39m.\u001b[39munique()) \u001b[39m==\u001b[39m \u001b[39mlen\u001b[39m(train_data\u001b[39m.\u001b[39mPatient_ID\u001b[39m.\u001b[39munique())\n\u001b[0;32m      <a href='vscode-notebook-cell:/c%3A/Users/j/gitlab/pro5d-classification-prolactinoma/eda/data_partitioning.ipynb#X24sZmlsZQ%3D%3D?line=1'>2</a>\u001b[0m \u001b[39massert\u001b[39;00m \u001b[39mlen\u001b[39m(test_data_merged\u001b[39m.\u001b[39mPatient_ID\u001b[39m.\u001b[39munique()) \u001b[39m==\u001b[39m \u001b[39mlen\u001b[39m(test_data\u001b[39m.\u001b[39mPatient_ID\u001b[39m.\u001b[39munique())\n",
      "\u001b[1;31mAssertionError\u001b[0m: "
     ]
    }
   ],
   "source": [
    "assert len(train_data_merged.Patient_ID.unique()) == len(train_data.Patient_ID.unique())\n",
    "assert len(test_data_merged.Patient_ID.unique()) == len(test_data.Patient_ID.unique())"
   ]
  },
  {
   "cell_type": "code",
   "execution_count": null,
   "metadata": {},
   "outputs": [
    {
     "name": "stdout",
     "output_type": "stream",
     "text": [
      "End Data Partitioning\n"
     ]
    }
   ],
   "source": [
    "print(\"End Data Partitioning\")"
   ]
  }
 ],
 "metadata": {
  "kernelspec": {
   "display_name": "pro5d-classification-prolactinoma-FBKpBkq7",
   "language": "python",
   "name": "python3"
  },
  "language_info": {
   "codemirror_mode": {
    "name": "ipython",
    "version": 3
   },
   "file_extension": ".py",
   "mimetype": "text/x-python",
   "name": "python",
   "nbconvert_exporter": "python",
   "pygments_lexer": "ipython3",
   "version": "3.10.7"
  }
 },
 "nbformat": 4,
 "nbformat_minor": 2
}
