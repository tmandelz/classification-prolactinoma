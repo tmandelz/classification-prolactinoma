{
 "cells": [
  {
   "cell_type": "markdown",
   "metadata": {},
   "source": [
    "# Data Partitioning"
   ]
  },
  {
   "cell_type": "code",
   "execution_count": null,
   "metadata": {},
   "outputs": [],
   "source": [
    "import pandas as pd\n",
    "import numpy as np\n",
    "from sklearn.model_selection import StratifiedGroupKFold\n",
    "random_state = 123\n",
    "np.random.seed(random_state)"
   ]
  },
  {
   "cell_type": "code",
   "execution_count": null,
   "metadata": {},
   "outputs": [],
   "source": [
    "print(\"Start Data Partitioning\")"
   ]
  },
  {
   "cell_type": "markdown",
   "metadata": {},
   "source": [
    "## Train/Test Split Strategy\n",
    "We will Split the Data into a Train- and Testset. \n",
    "We are splitting each patient fully into either the train or the test set to avoid data leakage.\n",
    "This is ensured by checking for Patient ID duplicates (assert statement beneath) in the Dataframe. If each row only corresponds to one patient we can savely split the dataframe.\n",
    "\n",
    "\n",
    "Also we are gonna stratify the split on the binary labels to ensure that the train- and testset include about the same of each class."
   ]
  },
  {
   "cell_type": "code",
   "execution_count": null,
   "metadata": {},
   "outputs": [],
   "source": [
    "# load the whole lab dataset with all cases and merge them with the patient data\n",
    "lab_train_data = pd.read_csv(r'../raw_data/lab_data_only_dirty.csv')\n",
    "mri_train_data = pd.read_csv(r'../raw_data/mri_data_only_dirty.csv')\n",
    "df_patients = pd.read_csv(r'../raw_data/label_data.csv')\n",
    "print(\"Total Dataframe LAB rows:\", len(lab_train_data))\n",
    "print(\"Total Dataframe MRI rows:\", len(mri_train_data))"
   ]
  },
  {
   "cell_type": "code",
   "execution_count": null,
   "metadata": {},
   "outputs": [],
   "source": [
    "lab_train_data = lab_train_data.merge(df_patients[['Patient_ID', 'Category']], on='Patient_ID')\n",
    "mri_train_data = mri_train_data.merge(df_patients[['Patient_ID', 'Category']], on='Patient_ID')"
   ]
  },
  {
   "cell_type": "code",
   "execution_count": null,
   "metadata": {},
   "outputs": [],
   "source": [
    "# sample min(mri_data) from lab\n",
    "lower_limit = 0\n",
    "upper_limit = len(lab_train_data)\n",
    "num_indexes = len(mri_train_data)\n",
    "random_indexes = np.random.choice(np.arange(lower_limit, upper_limit), size=num_indexes, replace=False)\n",
    "\n",
    "# reduce labs\n",
    "lab_train_data= lab_train_data.iloc[random_indexes].reset_index()"
   ]
  },
  {
   "cell_type": "code",
   "execution_count": null,
   "metadata": {},
   "outputs": [],
   "source": [
    "#SPLIT LAB\n",
    "\n",
    "# Split your data into train features (X_crossval) and target (y_crossval) and groups (Patient_ID)\n",
    "X_crossval = lab_train_data.drop('Category', axis=1)\n",
    "y_crossval = lab_train_data['Category']\n",
    "groups = mri_train_data['Patient_ID']\n",
    "\n",
    "# Perform Stratified Cross-Validation with fold numbers\n",
    "n_splits = 5  # Number of folds\n",
    "stratified_kf = StratifiedGroupKFold(n_splits=n_splits, random_state=random_state, shuffle=True)\n",
    "stratified_kf_lc = StratifiedGroupKFold(n_splits=int(np.floor(len(lab_train_data)/50)), random_state=random_state, shuffle=True)\n",
    "\n",
    "# Create a new DataFrame to store the fold number\n",
    "lab_train_data['fold'] = -1  # Initialize with -1\n",
    "label_distributions = []\n",
    "fold_number = 0  # Initialize fold number\n",
    "\n",
    "for _, test_index in stratified_kf.split(X_crossval, y_crossval, groups):\n",
    "    y_test = y_crossval.iloc[test_index]\n",
    "\n",
    "    # Update the fold number for the corresponding rows in the new DataFrame\n",
    "    lab_train_data.loc[test_index, 'fold'] = fold_number\n",
    "    label_distribution_fold = y_test.value_counts(normalize=True).to_dict()\n",
    "    label_distributions.append(label_distribution_fold)\n",
    "\n",
    "    fold_number += 1  # Increment the fold number\n",
    "    print(f\"Total Dataframe Fold {fold_number} rows:\", len(test_index))\n",
    "    \n",
    "    # Calculate and print the relative label differences\n",
    "for i in range(n_splits):\n",
    "    for j in range(i + 1, n_splits):\n",
    "        label_diff = sum(abs(label_distributions[i][k] - label_distributions[j][k]) for k in label_distributions[i])\n",
    "        print(f\"Label Distribution relative Difference between Fold {i} vs. Fold {j}:\\n\",\"±\",np.round(label_diff,3),\"%\")\n",
    "\n",
    "fold_number = 0  # Initialize fold number\n",
    "for _, test_index in stratified_kf_lc.split(X_crossval, y_crossval, groups):\n",
    "    y_test = y_crossval.iloc[test_index]\n",
    "\n",
    "    # Update the fold number for the corresponding rows in the new DataFrame\n",
    "    lab_train_data.loc[test_index, 'fold_learning_curve'] = fold_number\n",
    "    label_distribution_fold = y_test.value_counts(normalize=True).to_dict()\n",
    "    label_distributions.append(label_distribution_fold)\n",
    "\n",
    "    fold_number += 1  # Increment the fold number\n",
    "\n",
    "lab_train_data[\"label\"] = (lab_train_data[\"Category\"]==\"prolaktinom\").astype(int)\n",
    "# Save the training and test data to CSV files\n",
    "lab_train_data.to_csv(r'../data/train/train_lab_data.csv', index=False)"
   ]
  },
  {
   "cell_type": "code",
   "execution_count": null,
   "metadata": {},
   "outputs": [],
   "source": [
    "#SPLIT MRI\n",
    "\n",
    "# Split your data into train features (X_crossval) and target (y_crossval) and groups (Patient_ID)\n",
    "X_crossval = mri_train_data.drop('Category', axis=1)\n",
    "y_crossval = mri_train_data['Category']\n",
    "groups = mri_train_data['Patient_ID']\n",
    "\n",
    "# Perform Stratified Cross-Validation with fold numbers\n",
    "n_splits = 5  # Number of folds\n",
    "stratified_kf = StratifiedGroupKFold(n_splits=n_splits, random_state=random_state, shuffle=True)\n",
    "stratified_kf_lc = StratifiedGroupKFold(n_splits=int(np.floor(len(mri_train_data)/50)), random_state=random_state, shuffle=True)\n",
    "\n",
    "# Create a new DataFrame to store the fold number\n",
    "mri_train_data['fold'] = -1  # Initialize with -1\n",
    "label_distributions = []\n",
    "fold_number = 0  # Initialize fold number\n",
    "\n",
    "for _, test_index in stratified_kf.split(X_crossval, y_crossval,groups):\n",
    "    y_test = y_crossval.iloc[test_index]\n",
    "\n",
    "    # Update the fold number for the corresponding rows in the new DataFrame\n",
    "    mri_train_data.loc[test_index, 'fold'] = fold_number\n",
    "    label_distribution_fold = y_test.value_counts(normalize=True).to_dict()\n",
    "    label_distributions.append(label_distribution_fold)\n",
    "\n",
    "    fold_number += 1  # Increment the fold number\n",
    "    print(f\"Total Dataframe Fold {fold_number} rows:\", len(test_index))\n",
    "    \n",
    "    # Calculate and print the relative label differences\n",
    "for i in range(n_splits):\n",
    "    for j in range(i + 1, n_splits):\n",
    "        label_diff = sum(abs(label_distributions[i][k] - label_distributions[j][k]) for k in label_distributions[i])\n",
    "        print(f\"Label Distribution relative Difference between Fold {i} vs. Fold {j}:\\n\",\"±\",np.round(label_diff,3),\"%\")\n",
    "\n",
    "fold_number = 0  # Initialize fold number\n",
    "for _, test_index in stratified_kf_lc.split(X_crossval, y_crossval,groups):\n",
    "    y_test = y_crossval.iloc[test_index]\n",
    "\n",
    "    # Update the fold number for the corresponding rows in the new DataFrame\n",
    "    mri_train_data.loc[test_index, 'fold_learning_curve'] = fold_number\n",
    "    label_distribution_fold = y_test.value_counts(normalize=True).to_dict()\n",
    "    label_distributions.append(label_distribution_fold)\n",
    "\n",
    "    fold_number += 1  # Increment the fold number\n",
    "\n",
    "mri_train_data[\"label\"] = (mri_train_data[\"Category\"]==\"prolaktinom\").astype(int)\n",
    "# Save the training and test data to CSV files\n",
    "mri_train_data.to_csv(r'../data/train/train_mri_data.csv', index=False)"
   ]
  },
  {
   "cell_type": "code",
   "execution_count": null,
   "metadata": {},
   "outputs": [],
   "source": [
    "print(\"End Data Partitioning\")"
   ]
  },
  {
   "cell_type": "code",
   "execution_count": null,
   "metadata": {},
   "outputs": [],
   "source": []
  }
 ],
 "metadata": {
  "kernelspec": {
   "display_name": "pro5d-classification-prolactinoma-FBKpBkq7",
   "language": "python",
   "name": "python3"
  },
  "language_info": {
   "codemirror_mode": {
    "name": "ipython",
    "version": 3
   },
   "file_extension": ".py",
   "mimetype": "text/x-python",
   "name": "python",
   "nbconvert_exporter": "python",
   "pygments_lexer": "ipython3",
   "version": "3.10.5"
  }
 },
 "nbformat": 4,
 "nbformat_minor": 2
}
