{
 "cells": [
  {
   "cell_type": "markdown",
   "metadata": {},
   "source": [
    "# Data Partitioning"
   ]
  },
  {
   "cell_type": "code",
   "execution_count": 2,
   "metadata": {},
   "outputs": [],
   "source": [
    "import pandas as pd\n",
    "import numpy as np\n",
    "from sklearn.model_selection import train_test_split\n",
    "random_state = 123"
   ]
  },
  {
   "cell_type": "code",
   "execution_count": 3,
   "metadata": {},
   "outputs": [
    {
     "name": "stdout",
     "output_type": "stream",
     "text": [
      "Start Data Partitioning\n"
     ]
    }
   ],
   "source": [
    "print(\"Start Data Partitioning\")"
   ]
  },
  {
   "cell_type": "code",
   "execution_count": 4,
   "metadata": {},
   "outputs": [
    {
     "data": {
      "text/html": [
       "<div>\n",
       "<style scoped>\n",
       "    .dataframe tbody tr th:only-of-type {\n",
       "        vertical-align: middle;\n",
       "    }\n",
       "\n",
       "    .dataframe tbody tr th {\n",
       "        vertical-align: top;\n",
       "    }\n",
       "\n",
       "    .dataframe thead th {\n",
       "        text-align: right;\n",
       "    }\n",
       "</style>\n",
       "<table border=\"1\" class=\"dataframe\">\n",
       "  <thead>\n",
       "    <tr style=\"text-align: right;\">\n",
       "      <th></th>\n",
       "      <th>Case_ID</th>\n",
       "      <th>Patient_ID</th>\n",
       "      <th>Date_MRI</th>\n",
       "      <th>ID_MRI_Machine</th>\n",
       "      <th>Entry_date</th>\n",
       "      <th>Operation_date</th>\n",
       "      <th>Adenoma_size</th>\n",
       "      <th>Diagnosis</th>\n",
       "      <th>Category</th>\n",
       "      <th>Patient_age</th>\n",
       "      <th>...</th>\n",
       "      <th>Pre_OP_hormone_intakt</th>\n",
       "      <th>Post_OP_hormone_cortico</th>\n",
       "      <th>Post_OP_hormone_gonado</th>\n",
       "      <th>Post_OP_hormone_somato</th>\n",
       "      <th>Post_OP_hormone_ADH</th>\n",
       "      <th>Post_OP_hormone_thyreo</th>\n",
       "      <th>Post_OP_hormone_hyperprolaktin</th>\n",
       "      <th>Post_OP_hormone_keine</th>\n",
       "      <th>Post_OP_hormone_intakt</th>\n",
       "      <th>Label_Quality</th>\n",
       "    </tr>\n",
       "  </thead>\n",
       "  <tbody>\n",
       "    <tr>\n",
       "      <th>0</th>\n",
       "      <td>41835743</td>\n",
       "      <td>300146159</td>\n",
       "      <td>2023-05-11 09:00:00</td>\n",
       "      <td>MRI3</td>\n",
       "      <td>2021-09-01</td>\n",
       "      <td>2021-09-17</td>\n",
       "      <td>makro</td>\n",
       "      <td>inaktiv (gonado)</td>\n",
       "      <td>non-prolaktinom</td>\n",
       "      <td>57</td>\n",
       "      <td>...</td>\n",
       "      <td>0</td>\n",
       "      <td>0</td>\n",
       "      <td>1</td>\n",
       "      <td>0</td>\n",
       "      <td>0</td>\n",
       "      <td>0</td>\n",
       "      <td>0</td>\n",
       "      <td>0</td>\n",
       "      <td>0</td>\n",
       "      <td>NaN</td>\n",
       "    </tr>\n",
       "    <tr>\n",
       "      <th>1</th>\n",
       "      <td>41708812</td>\n",
       "      <td>762512</td>\n",
       "      <td>2023-05-06 08:12:00</td>\n",
       "      <td>MRI3</td>\n",
       "      <td>2018-09-01</td>\n",
       "      <td>2018-09-19</td>\n",
       "      <td>makro</td>\n",
       "      <td>gh</td>\n",
       "      <td>non-prolaktinom</td>\n",
       "      <td>66</td>\n",
       "      <td>...</td>\n",
       "      <td>0</td>\n",
       "      <td>0</td>\n",
       "      <td>0</td>\n",
       "      <td>0</td>\n",
       "      <td>0</td>\n",
       "      <td>1</td>\n",
       "      <td>0</td>\n",
       "      <td>0</td>\n",
       "      <td>0</td>\n",
       "      <td>NaN</td>\n",
       "    </tr>\n",
       "    <tr>\n",
       "      <th>2</th>\n",
       "      <td>41892695</td>\n",
       "      <td>365189</td>\n",
       "      <td>2023-05-05 14:19:00</td>\n",
       "      <td>MRI3</td>\n",
       "      <td>NaN</td>\n",
       "      <td>NaN</td>\n",
       "      <td>NaN</td>\n",
       "      <td>NaN</td>\n",
       "      <td>NaN</td>\n",
       "      <td>32</td>\n",
       "      <td>...</td>\n",
       "      <td>0</td>\n",
       "      <td>0</td>\n",
       "      <td>0</td>\n",
       "      <td>0</td>\n",
       "      <td>0</td>\n",
       "      <td>0</td>\n",
       "      <td>0</td>\n",
       "      <td>0</td>\n",
       "      <td>0</td>\n",
       "      <td>keine daten</td>\n",
       "    </tr>\n",
       "    <tr>\n",
       "      <th>3</th>\n",
       "      <td>41725372</td>\n",
       "      <td>543641</td>\n",
       "      <td>2023-05-05 07:54:00</td>\n",
       "      <td>MRI2</td>\n",
       "      <td>2006-01-01</td>\n",
       "      <td>2009-06-04</td>\n",
       "      <td>mikro</td>\n",
       "      <td>acth</td>\n",
       "      <td>non-prolaktinom</td>\n",
       "      <td>39</td>\n",
       "      <td>...</td>\n",
       "      <td>0</td>\n",
       "      <td>0</td>\n",
       "      <td>0</td>\n",
       "      <td>0</td>\n",
       "      <td>0</td>\n",
       "      <td>0</td>\n",
       "      <td>0</td>\n",
       "      <td>1</td>\n",
       "      <td>0</td>\n",
       "      <td>NaN</td>\n",
       "    </tr>\n",
       "    <tr>\n",
       "      <th>4</th>\n",
       "      <td>41843364</td>\n",
       "      <td>300302329</td>\n",
       "      <td>2023-05-02 12:04:00</td>\n",
       "      <td>MRI3</td>\n",
       "      <td>2021-10-01</td>\n",
       "      <td>2022-01-12</td>\n",
       "      <td>makro</td>\n",
       "      <td>inaktiv</td>\n",
       "      <td>non-prolaktinom</td>\n",
       "      <td>56</td>\n",
       "      <td>...</td>\n",
       "      <td>1</td>\n",
       "      <td>0</td>\n",
       "      <td>0</td>\n",
       "      <td>0</td>\n",
       "      <td>0</td>\n",
       "      <td>0</td>\n",
       "      <td>0</td>\n",
       "      <td>0</td>\n",
       "      <td>1</td>\n",
       "      <td>NaN</td>\n",
       "    </tr>\n",
       "  </tbody>\n",
       "</table>\n",
       "<p>5 rows × 31 columns</p>\n",
       "</div>"
      ],
      "text/plain": [
       "    Case_ID  Patient_ID             Date_MRI ID_MRI_Machine  Entry_date  \\\n",
       "0  41835743   300146159  2023-05-11 09:00:00           MRI3  2021-09-01   \n",
       "1  41708812      762512  2023-05-06 08:12:00           MRI3  2018-09-01   \n",
       "2  41892695      365189  2023-05-05 14:19:00           MRI3         NaN   \n",
       "3  41725372      543641  2023-05-05 07:54:00           MRI2  2006-01-01   \n",
       "4  41843364   300302329  2023-05-02 12:04:00           MRI3  2021-10-01   \n",
       "\n",
       "  Operation_date Adenoma_size         Diagnosis         Category  Patient_age  \\\n",
       "0     2021-09-17        makro  inaktiv (gonado)  non-prolaktinom           57   \n",
       "1     2018-09-19        makro                gh  non-prolaktinom           66   \n",
       "2            NaN          NaN               NaN              NaN           32   \n",
       "3     2009-06-04        mikro              acth  non-prolaktinom           39   \n",
       "4     2022-01-12        makro           inaktiv  non-prolaktinom           56   \n",
       "\n",
       "   ...  Pre_OP_hormone_intakt  Post_OP_hormone_cortico Post_OP_hormone_gonado  \\\n",
       "0  ...                      0                        0                      1   \n",
       "1  ...                      0                        0                      0   \n",
       "2  ...                      0                        0                      0   \n",
       "3  ...                      0                        0                      0   \n",
       "4  ...                      1                        0                      0   \n",
       "\n",
       "  Post_OP_hormone_somato Post_OP_hormone_ADH  Post_OP_hormone_thyreo  \\\n",
       "0                      0                   0                       0   \n",
       "1                      0                   0                       1   \n",
       "2                      0                   0                       0   \n",
       "3                      0                   0                       0   \n",
       "4                      0                   0                       0   \n",
       "\n",
       "   Post_OP_hormone_hyperprolaktin  Post_OP_hormone_keine  \\\n",
       "0                               0                      0   \n",
       "1                               0                      0   \n",
       "2                               0                      0   \n",
       "3                               0                      1   \n",
       "4                               0                      0   \n",
       "\n",
       "   Post_OP_hormone_intakt  Label_Quality  \n",
       "0                       0            NaN  \n",
       "1                       0            NaN  \n",
       "2                       0    keine daten  \n",
       "3                       0            NaN  \n",
       "4                       1            NaN  \n",
       "\n",
       "[5 rows x 31 columns]"
      ]
     },
     "execution_count": 4,
     "metadata": {},
     "output_type": "execute_result"
    }
   ],
   "source": [
    "# read cleaned data\n",
    "df = pd.read_csv(r'../raw_data/label_data.csv')\n",
    "df.head()"
   ]
  },
  {
   "cell_type": "code",
   "execution_count": 6,
   "metadata": {},
   "outputs": [
    {
     "data": {
      "text/html": [
       "<div>\n",
       "<style scoped>\n",
       "    .dataframe tbody tr th:only-of-type {\n",
       "        vertical-align: middle;\n",
       "    }\n",
       "\n",
       "    .dataframe tbody tr th {\n",
       "        vertical-align: top;\n",
       "    }\n",
       "\n",
       "    .dataframe thead th {\n",
       "        text-align: right;\n",
       "    }\n",
       "</style>\n",
       "<table border=\"1\" class=\"dataframe\">\n",
       "  <thead>\n",
       "    <tr style=\"text-align: right;\">\n",
       "      <th></th>\n",
       "      <th>FALL_NR</th>\n",
       "      <th>PATIENT_NR</th>\n",
       "      <th>Analyse</th>\n",
       "      <th>Analyse-ID</th>\n",
       "      <th>Auftraggeber</th>\n",
       "      <th>Datum_Resultat</th>\n",
       "      <th>Resultat</th>\n",
       "      <th>Einheit</th>\n",
       "      <th>Normwert</th>\n",
       "      <th>Fallart</th>\n",
       "      <th>Warnung</th>\n",
       "    </tr>\n",
       "  </thead>\n",
       "  <tbody>\n",
       "    <tr>\n",
       "      <th>0</th>\n",
       "      <td>41505731</td>\n",
       "      <td>23613</td>\n",
       "      <td>LH (luteinisierendes Hormon)</td>\n",
       "      <td>LH</td>\n",
       "      <td>ENDOKRINOLOGIE</td>\n",
       "      <td>2023-09-08</td>\n",
       "      <td>13.9</td>\n",
       "      <td>U/l</td>\n",
       "      <td>1.50-9.30</td>\n",
       "      <td>ambulant</td>\n",
       "      <td>ausserhalb Norm</td>\n",
       "    </tr>\n",
       "    <tr>\n",
       "      <th>1</th>\n",
       "      <td>41919082</td>\n",
       "      <td>300065854</td>\n",
       "      <td>FSH (Follikel-stimulierendes Hormon)</td>\n",
       "      <td>FSH</td>\n",
       "      <td>PÄD.ENDOKRINO/DIABET.</td>\n",
       "      <td>2023-07-10</td>\n",
       "      <td>2.25</td>\n",
       "      <td>U/l</td>\n",
       "      <td>1.40-18.1</td>\n",
       "      <td>ambulant</td>\n",
       "      <td>NaN</td>\n",
       "    </tr>\n",
       "    <tr>\n",
       "      <th>2</th>\n",
       "      <td>41643796</td>\n",
       "      <td>628910</td>\n",
       "      <td>LH (luteinisierendes Hormon)</td>\n",
       "      <td>LH</td>\n",
       "      <td>GYN.ENDOKR.</td>\n",
       "      <td>2023-01-16</td>\n",
       "      <td>3.99</td>\n",
       "      <td>U/l</td>\n",
       "      <td>zyklusabhängig</td>\n",
       "      <td>ambulant</td>\n",
       "      <td>NaN</td>\n",
       "    </tr>\n",
       "    <tr>\n",
       "      <th>3</th>\n",
       "      <td>41424235</td>\n",
       "      <td>444742</td>\n",
       "      <td>FSH (Follikel-stimulierendes Hormon)</td>\n",
       "      <td>FSH</td>\n",
       "      <td>PÄD.ENDOKRINO/DIABET.</td>\n",
       "      <td>2023-03-31</td>\n",
       "      <td>3.00</td>\n",
       "      <td>U/l</td>\n",
       "      <td>1.40-18.1</td>\n",
       "      <td>ambulant</td>\n",
       "      <td>NaN</td>\n",
       "    </tr>\n",
       "    <tr>\n",
       "      <th>4</th>\n",
       "      <td>41777042</td>\n",
       "      <td>500857</td>\n",
       "      <td>LH (luteinisierendes Hormon)</td>\n",
       "      <td>LH</td>\n",
       "      <td>ENDOKRINOLOGIE</td>\n",
       "      <td>2023-03-07</td>\n",
       "      <td>22.3</td>\n",
       "      <td>U/l</td>\n",
       "      <td>zyklusabhängig</td>\n",
       "      <td>ambulant</td>\n",
       "      <td>NaN</td>\n",
       "    </tr>\n",
       "  </tbody>\n",
       "</table>\n",
       "</div>"
      ],
      "text/plain": [
       "    FALL_NR  PATIENT_NR                               Analyse Analyse-ID  \\\n",
       "0  41505731       23613          LH (luteinisierendes Hormon)         LH   \n",
       "1  41919082   300065854  FSH (Follikel-stimulierendes Hormon)        FSH   \n",
       "2  41643796      628910          LH (luteinisierendes Hormon)         LH   \n",
       "3  41424235      444742  FSH (Follikel-stimulierendes Hormon)        FSH   \n",
       "4  41777042      500857          LH (luteinisierendes Hormon)         LH   \n",
       "\n",
       "            Auftraggeber Datum_Resultat Resultat Einheit        Normwert  \\\n",
       "0         ENDOKRINOLOGIE     2023-09-08     13.9     U/l       1.50-9.30   \n",
       "1  PÄD.ENDOKRINO/DIABET.     2023-07-10     2.25     U/l       1.40-18.1   \n",
       "2            GYN.ENDOKR.     2023-01-16     3.99     U/l  zyklusabhängig   \n",
       "3  PÄD.ENDOKRINO/DIABET.     2023-03-31     3.00     U/l       1.40-18.1   \n",
       "4         ENDOKRINOLOGIE     2023-03-07     22.3     U/l  zyklusabhängig   \n",
       "\n",
       "    Fallart          Warnung  \n",
       "0  ambulant  ausserhalb Norm  \n",
       "1  ambulant              NaN  \n",
       "2  ambulant              NaN  \n",
       "3  ambulant              NaN  \n",
       "4  ambulant              NaN  "
      ]
     },
     "execution_count": 6,
     "metadata": {},
     "output_type": "execute_result"
    }
   ],
   "source": [
    "# read cleaned labor data\n",
    "labor_data = pd.read_csv(r'../raw_data/labor_data_preprocessed.csv')\n",
    "labor_data.head()"
   ]
  },
  {
   "cell_type": "markdown",
   "metadata": {},
   "source": [
    "## Train/Test Split Strategy\n",
    "We will Split the Data into a Train- and Testset. \n",
    "We are splitting each patient fully into either the train or the test set to avoid data leakage.\n",
    "This is ensured checking for Patient ID duplicates (assert statement beneath) in the Dataframe. If each row only corresponds to one patient we can savely split the dataframe.\n",
    "\n",
    "\n",
    "Also we are gonna stratify the split on the binary labels to ensure that the train- and testset include about the same of each class."
   ]
  },
  {
   "cell_type": "code",
   "execution_count": 4,
   "metadata": {},
   "outputs": [],
   "source": [
    "# drop patients without a label\n",
    "df= df[~df[\"Category\"].isna()]"
   ]
  },
  {
   "cell_type": "code",
   "execution_count": 5,
   "metadata": {},
   "outputs": [],
   "source": [
    "# Patient ID Duplicate Check\n",
    "assert len(df[df[\"Patient_ID\"].duplicated()]) == 0"
   ]
  },
  {
   "cell_type": "code",
   "execution_count": 6,
   "metadata": {},
   "outputs": [],
   "source": [
    "# split columns into features and labels\n",
    "X = df.drop(columns=[\"Category\"])\n",
    "y = df[\"Category\"]\n",
    "# stratified train/test split on labels\n",
    "X_train, X_test, y_train, y_test = train_test_split(X, y, test_size=0.2, stratify=y, random_state=random_state)"
   ]
  },
  {
   "cell_type": "code",
   "execution_count": 7,
   "metadata": {},
   "outputs": [
    {
     "name": "stdout",
     "output_type": "stream",
     "text": [
      "Total Dataframe Train rows: 138\n",
      "Total Dataframe Test rows: 35\n"
     ]
    }
   ],
   "source": [
    "print(\"Total Dataframe Train rows:\", len(X_train))\n",
    "print(\"Total Dataframe Test rows:\", len(X_test))"
   ]
  },
  {
   "cell_type": "code",
   "execution_count": 8,
   "metadata": {},
   "outputs": [],
   "source": [
    "label_diff = ((y_train.value_counts(normalize=True) - y_test.value_counts(normalize=True)) *100).iloc[1]"
   ]
  },
  {
   "cell_type": "code",
   "execution_count": 9,
   "metadata": {},
   "outputs": [
    {
     "name": "stdout",
     "output_type": "stream",
     "text": [
      "Label Distribution relative Difference between Train- and Testset:\n",
      " ± 0.166 %\n"
     ]
    }
   ],
   "source": [
    "print(f\"Label Distribution relative Difference between Train- and Testset:\\n\",\"±\",np.round(label_diff,3),\"%\")"
   ]
  },
  {
   "cell_type": "code",
   "execution_count": 10,
   "metadata": {},
   "outputs": [],
   "source": [
    "# Create dataframes for training and test data\n",
    "train_data = pd.DataFrame(X_train)\n",
    "train_data['Category'] = y_train\n",
    "\n",
    "test_data = pd.DataFrame(X_test)\n",
    "test_data['Category'] = y_test"
   ]
  },
  {
   "cell_type": "code",
   "execution_count": 11,
   "metadata": {},
   "outputs": [],
   "source": [
    "df_more_data = pd.read_excel(r'../raw_data/Hypophysenpatienten.xlsx',sheet_name='w duplicates')"
   ]
  },
  {
   "cell_type": "code",
   "execution_count": 12,
   "metadata": {},
   "outputs": [
    {
     "data": {
      "text/html": [
       "<div>\n",
       "<style scoped>\n",
       "    .dataframe tbody tr th:only-of-type {\n",
       "        vertical-align: middle;\n",
       "    }\n",
       "\n",
       "    .dataframe tbody tr th {\n",
       "        vertical-align: top;\n",
       "    }\n",
       "\n",
       "    .dataframe thead th {\n",
       "        text-align: right;\n",
       "    }\n",
       "</style>\n",
       "<table border=\"1\" class=\"dataframe\">\n",
       "  <thead>\n",
       "    <tr style=\"text-align: right;\">\n",
       "      <th></th>\n",
       "      <th>Case_ID</th>\n",
       "      <th>Patient_ID</th>\n",
       "    </tr>\n",
       "  </thead>\n",
       "  <tbody>\n",
       "    <tr>\n",
       "      <th>0</th>\n",
       "      <td>0041835743</td>\n",
       "      <td>300146159</td>\n",
       "    </tr>\n",
       "    <tr>\n",
       "      <th>1</th>\n",
       "      <td>0041708812</td>\n",
       "      <td>762512</td>\n",
       "    </tr>\n",
       "    <tr>\n",
       "      <th>2</th>\n",
       "      <td>0041892695</td>\n",
       "      <td>365189</td>\n",
       "    </tr>\n",
       "    <tr>\n",
       "      <th>3</th>\n",
       "      <td>0041725372</td>\n",
       "      <td>543641</td>\n",
       "    </tr>\n",
       "    <tr>\n",
       "      <th>4</th>\n",
       "      <td>0041843364</td>\n",
       "      <td>300302329</td>\n",
       "    </tr>\n",
       "    <tr>\n",
       "      <th>...</th>\n",
       "      <td>...</td>\n",
       "      <td>...</td>\n",
       "    </tr>\n",
       "    <tr>\n",
       "      <th>1193</th>\n",
       "      <td>0004213315</td>\n",
       "      <td>112374</td>\n",
       "    </tr>\n",
       "    <tr>\n",
       "      <th>1194</th>\n",
       "      <td>0004211936</td>\n",
       "      <td>153807</td>\n",
       "    </tr>\n",
       "    <tr>\n",
       "      <th>1195</th>\n",
       "      <td>0004180070</td>\n",
       "      <td>719666</td>\n",
       "    </tr>\n",
       "    <tr>\n",
       "      <th>1196</th>\n",
       "      <td>0004139115</td>\n",
       "      <td>313269</td>\n",
       "    </tr>\n",
       "    <tr>\n",
       "      <th>1197</th>\n",
       "      <td>0004210941</td>\n",
       "      <td>637049</td>\n",
       "    </tr>\n",
       "  </tbody>\n",
       "</table>\n",
       "<p>1198 rows × 2 columns</p>\n",
       "</div>"
      ],
      "text/plain": [
       "         Case_ID  Patient_ID\n",
       "0     0041835743   300146159\n",
       "1     0041708812      762512\n",
       "2     0041892695      365189\n",
       "3     0041725372      543641\n",
       "4     0041843364   300302329\n",
       "...          ...         ...\n",
       "1193  0004213315      112374\n",
       "1194  0004211936      153807\n",
       "1195  0004180070      719666\n",
       "1196  0004139115      313269\n",
       "1197  0004210941      637049\n",
       "\n",
       "[1198 rows x 2 columns]"
      ]
     },
     "execution_count": 12,
     "metadata": {},
     "output_type": "execute_result"
    }
   ],
   "source": [
    "df_more_data =df_more_data[[\"Fall Nr.\",\"PID\"]]\n",
    "df_more_data= df_more_data.rename(columns={\"Fall Nr.\": \"Case_ID\",\"PID\": \"Patient_ID\",})\n",
    "df_more_data"
   ]
  },
  {
   "cell_type": "code",
   "execution_count": 13,
   "metadata": {},
   "outputs": [],
   "source": [
    "train_data_merged = train_data.merge(df_more_data,how='left',on='Patient_ID')\n",
    "test_data_merged = test_data.merge(df_more_data,how='left',on='Patient_ID')"
   ]
  },
  {
   "cell_type": "code",
   "execution_count": 14,
   "metadata": {},
   "outputs": [],
   "source": [
    "train_data_merged = train_data_merged.drop(columns=\"Case_ID_x\")\n",
    "train_data_merged= train_data_merged.rename(columns={\"Case_ID_y\": \"Case_ID\"})\n",
    "\n",
    "test_data_merged = test_data_merged.drop(columns=\"Case_ID_x\")\n",
    "test_data_merged= test_data_merged.rename(columns={\"Case_ID_y\": \"Case_ID\"})"
   ]
  },
  {
   "cell_type": "code",
   "execution_count": 15,
   "metadata": {},
   "outputs": [],
   "source": [
    "# Save the training and test data to CSV files\n",
    "train_data_merged.to_csv(r'../data/train_data.csv', index=False)\n",
    "test_data_merged.to_csv(r'../data/test_data.csv', index=False)"
   ]
  },
  {
   "cell_type": "code",
   "execution_count": 16,
   "metadata": {},
   "outputs": [],
   "source": [
    "assert len(train_data_merged.Patient_ID.unique()) == len(train_data.Patient_ID.unique())\n",
    "assert len(test_data_merged.Patient_ID.unique()) == len(test_data.Patient_ID.unique())"
   ]
  },
  {
   "cell_type": "code",
   "execution_count": 17,
   "metadata": {},
   "outputs": [
    {
     "name": "stdout",
     "output_type": "stream",
     "text": [
      "End Data Partitioning\n"
     ]
    }
   ],
   "source": [
    "print(\"End Data Partitioning\")"
   ]
  }
 ],
 "metadata": {
  "kernelspec": {
   "display_name": "pro5d-classification-prolactinoma-FBKpBkq7",
   "language": "python",
   "name": "python3"
  },
  "language_info": {
   "codemirror_mode": {
    "name": "ipython",
    "version": 3
   },
   "file_extension": ".py",
   "mimetype": "text/x-python",
   "name": "python",
   "nbconvert_exporter": "python",
   "pygments_lexer": "ipython3",
   "version": "3.10.7"
  }
 },
 "nbformat": 4,
 "nbformat_minor": 2
}
