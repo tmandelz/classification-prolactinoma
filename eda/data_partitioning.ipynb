{
 "cells": [
  {
   "cell_type": "markdown",
   "metadata": {},
   "source": [
    "# Data Partitioning"
   ]
  },
  {
   "cell_type": "code",
   "execution_count": 55,
   "metadata": {},
   "outputs": [],
   "source": [
    "import pandas as pd\n",
    "import numpy as np\n",
    "from sklearn.model_selection import StratifiedGroupKFold\n",
    "random_state = 123"
   ]
  },
  {
   "cell_type": "code",
   "execution_count": 56,
   "metadata": {},
   "outputs": [
    {
     "name": "stdout",
     "output_type": "stream",
     "text": [
      "Start Data Partitioning\n"
     ]
    }
   ],
   "source": [
    "print(\"Start Data Partitioning\")"
   ]
  },
  {
   "cell_type": "markdown",
   "metadata": {},
   "source": [
    "## Train/Test Split Strategy\n",
    "We will Split the Data into a Train- and Testset. \n",
    "We are splitting each patient fully into either the train or the test set to avoid data leakage.\n",
    "This is ensured by checking for Patient ID duplicates (assert statement beneath) in the Dataframe. If each row only corresponds to one patient we can savely split the dataframe.\n",
    "\n",
    "\n",
    "Also we are gonna stratify the split on the binary labels to ensure that the train- and testset include about the same of each class."
   ]
  },
  {
   "cell_type": "code",
   "execution_count": 57,
   "metadata": {},
   "outputs": [
    {
     "name": "stdout",
     "output_type": "stream",
     "text": [
      "Total Dataframe LAB rows: 347\n",
      "Total Dataframe MRI rows: 304\n"
     ]
    }
   ],
   "source": [
    "# load the whole lab dataset with all cases and merge them with the patient data\n",
    "lab_train_data = pd.read_csv(r'../raw_data/lab_data_only_dirty.csv')\n",
    "mri_train_data = pd.read_csv(r'../raw_data/mri_data_only_dirty.csv')\n",
    "df_patients = pd.read_csv(r'../raw_data/label_data.csv')\n",
    "print(\"Total Dataframe LAB rows:\", len(lab_train_data))\n",
    "print(\"Total Dataframe MRI rows:\", len(mri_train_data))"
   ]
  },
  {
   "cell_type": "code",
   "execution_count": 58,
   "metadata": {},
   "outputs": [],
   "source": [
    "lab_train_data = lab_train_data.merge(df_patients[['Patient_ID', 'Category']], on='Patient_ID')\n",
    "mri_train_data = mri_train_data.merge(df_patients[['Patient_ID', 'Category']], on='Patient_ID')"
   ]
  },
  {
   "cell_type": "code",
   "execution_count": 59,
   "metadata": {},
   "outputs": [],
   "source": [
    "# sample min(mri_data) from lab\n",
    "lower_limit = 0\n",
    "upper_limit = len(lab_train_data)\n",
    "num_indexes = len(mri_train_data)\n",
    "random_indexes = np.random.choice(np.arange(lower_limit, upper_limit), size=num_indexes, replace=False)\n",
    "\n",
    "# reduce labs\n",
    "lab_train_data= lab_train_data.iloc[random_indexes].reset_index()"
   ]
  },
  {
   "cell_type": "code",
   "execution_count": 60,
   "metadata": {},
   "outputs": [
    {
     "name": "stdout",
     "output_type": "stream",
     "text": [
      "Total Dataframe Fold 1 rows: 57\n",
      "Total Dataframe Fold 2 rows: 47\n",
      "Total Dataframe Fold 3 rows: 69\n",
      "Total Dataframe Fold 4 rows: 65\n",
      "Total Dataframe Fold 5 rows: 66\n",
      "Label Distribution relative Difference between Fold 0 vs. Fold 1:\n",
      " ± 0.056 %\n",
      "Label Distribution relative Difference between Fold 0 vs. Fold 2:\n",
      " ± 0.07 %\n",
      "Label Distribution relative Difference between Fold 0 vs. Fold 3:\n",
      " ± 0.002 %\n",
      "Label Distribution relative Difference between Fold 0 vs. Fold 4:\n",
      " ± 0.04 %\n",
      "Label Distribution relative Difference between Fold 1 vs. Fold 2:\n",
      " ± 0.014 %\n",
      "Label Distribution relative Difference between Fold 1 vs. Fold 3:\n",
      " ± 0.058 %\n",
      "Label Distribution relative Difference between Fold 1 vs. Fold 4:\n",
      " ± 0.016 %\n",
      "Label Distribution relative Difference between Fold 2 vs. Fold 3:\n",
      " ± 0.072 %\n",
      "Label Distribution relative Difference between Fold 2 vs. Fold 4:\n",
      " ± 0.03 %\n",
      "Label Distribution relative Difference between Fold 3 vs. Fold 4:\n",
      " ± 0.041 %\n"
     ]
    }
   ],
   "source": [
    "#SPLIT LAB\n",
    "\n",
    "# Split your data into train features (X_crossval) and target (y_crossval) and groups (Patient_ID)\n",
    "X_crossval = lab_train_data.drop('Category', axis=1)\n",
    "y_crossval = lab_train_data['Category']\n",
    "groups = mri_train_data['Patient_ID']\n",
    "\n",
    "# Perform Stratified Cross-Validation with fold numbers\n",
    "n_splits = 5  # Number of folds\n",
    "stratified_kf = StratifiedGroupKFold(n_splits=n_splits, random_state=random_state, shuffle=True)\n",
    "stratified_kf_lc = StratifiedGroupKFold(n_splits=int(np.floor(len(lab_train_data)/50)), random_state=random_state, shuffle=True)\n",
    "\n",
    "# Create a new DataFrame to store the fold number\n",
    "lab_train_data['fold'] = -1  # Initialize with -1\n",
    "label_distributions = []\n",
    "fold_number = 0  # Initialize fold number\n",
    "\n",
    "for _, test_index in stratified_kf.split(X_crossval, y_crossval, groups):\n",
    "    y_test = y_crossval.iloc[test_index]\n",
    "\n",
    "    # Update the fold number for the corresponding rows in the new DataFrame\n",
    "    lab_train_data.loc[test_index, 'fold'] = fold_number\n",
    "    label_distribution_fold = y_test.value_counts(normalize=True).to_dict()\n",
    "    label_distributions.append(label_distribution_fold)\n",
    "\n",
    "    fold_number += 1  # Increment the fold number\n",
    "    print(f\"Total Dataframe Fold {fold_number} rows:\", len(test_index))\n",
    "    \n",
    "    # Calculate and print the relative label differences\n",
    "for i in range(n_splits):\n",
    "    for j in range(i + 1, n_splits):\n",
    "        label_diff = sum(abs(label_distributions[i][k] - label_distributions[j][k]) for k in label_distributions[i])\n",
    "        print(f\"Label Distribution relative Difference between Fold {i} vs. Fold {j}:\\n\",\"±\",np.round(label_diff,3),\"%\")\n",
    "\n",
    "fold_number = 0  # Initialize fold number\n",
    "for _, test_index in stratified_kf_lc.split(X_crossval, y_crossval, groups):\n",
    "    y_test = y_crossval.iloc[test_index]\n",
    "\n",
    "    # Update the fold number for the corresponding rows in the new DataFrame\n",
    "    lab_train_data.loc[test_index, 'fold_learning_curve'] = fold_number\n",
    "    label_distribution_fold = y_test.value_counts(normalize=True).to_dict()\n",
    "    label_distributions.append(label_distribution_fold)\n",
    "\n",
    "    fold_number += 1  # Increment the fold number\n",
    "\n",
    "lab_train_data[\"label\"] = (lab_train_data[\"Category\"]==\"prolaktinom\").astype(int)\n",
    "# Save the training and test data to CSV files\n",
    "lab_train_data.to_csv(r'../data/train/train_lab_data.csv', index=False)"
   ]
  },
  {
   "cell_type": "code",
   "execution_count": 61,
   "metadata": {},
   "outputs": [
    {
     "name": "stdout",
     "output_type": "stream",
     "text": [
      "Total Dataframe Fold 1 rows: 64\n",
      "Total Dataframe Fold 2 rows: 60\n",
      "Total Dataframe Fold 3 rows: 52\n",
      "Total Dataframe Fold 4 rows: 72\n",
      "Total Dataframe Fold 5 rows: 56\n",
      "Label Distribution relative Difference between Fold 0 vs. Fold 1:\n",
      " ± 0.3 %\n",
      "Label Distribution relative Difference between Fold 0 vs. Fold 2:\n",
      " ± 0.115 %\n",
      "Label Distribution relative Difference between Fold 0 vs. Fold 3:\n",
      " ± 0.361 %\n",
      "Label Distribution relative Difference between Fold 0 vs. Fold 4:\n",
      " ± 0.214 %\n",
      "Label Distribution relative Difference between Fold 1 vs. Fold 2:\n",
      " ± 0.185 %\n",
      "Label Distribution relative Difference between Fold 1 vs. Fold 3:\n",
      " ± 0.061 %\n",
      "Label Distribution relative Difference between Fold 1 vs. Fold 4:\n",
      " ± 0.086 %\n",
      "Label Distribution relative Difference between Fold 2 vs. Fold 3:\n",
      " ± 0.246 %\n",
      "Label Distribution relative Difference between Fold 2 vs. Fold 4:\n",
      " ± 0.099 %\n",
      "Label Distribution relative Difference between Fold 3 vs. Fold 4:\n",
      " ± 0.147 %\n"
     ]
    }
   ],
   "source": [
    "#SPLIT MRI\n",
    "\n",
    "# Split your data into train features (X_crossval) and target (y_crossval) and groups (Patient_ID)\n",
    "X_crossval = mri_train_data.drop('Category', axis=1)\n",
    "y_crossval = mri_train_data['Category']\n",
    "groups = mri_train_data['Patient_ID']\n",
    "\n",
    "# Perform Stratified Cross-Validation with fold numbers\n",
    "n_splits = 5  # Number of folds\n",
    "stratified_kf = StratifiedGroupKFold(n_splits=n_splits, random_state=random_state, shuffle=True)\n",
    "stratified_kf_lc = StratifiedGroupKFold(n_splits=int(np.floor(len(mri_train_data)/50)), random_state=random_state, shuffle=True)\n",
    "\n",
    "# Create a new DataFrame to store the fold number\n",
    "mri_train_data['fold'] = -1  # Initialize with -1\n",
    "label_distributions = []\n",
    "fold_number = 0  # Initialize fold number\n",
    "\n",
    "for _, test_index in stratified_kf.split(X_crossval, y_crossval,groups):\n",
    "    y_test = y_crossval.iloc[test_index]\n",
    "\n",
    "    # Update the fold number for the corresponding rows in the new DataFrame\n",
    "    mri_train_data.loc[test_index, 'fold'] = fold_number\n",
    "    label_distribution_fold = y_test.value_counts(normalize=True).to_dict()\n",
    "    label_distributions.append(label_distribution_fold)\n",
    "\n",
    "    fold_number += 1  # Increment the fold number\n",
    "    print(f\"Total Dataframe Fold {fold_number} rows:\", len(test_index))\n",
    "    \n",
    "    # Calculate and print the relative label differences\n",
    "for i in range(n_splits):\n",
    "    for j in range(i + 1, n_splits):\n",
    "        label_diff = sum(abs(label_distributions[i][k] - label_distributions[j][k]) for k in label_distributions[i])\n",
    "        print(f\"Label Distribution relative Difference between Fold {i} vs. Fold {j}:\\n\",\"±\",np.round(label_diff,3),\"%\")\n",
    "\n",
    "fold_number = 0  # Initialize fold number\n",
    "for _, test_index in stratified_kf_lc.split(X_crossval, y_crossval,groups):\n",
    "    y_test = y_crossval.iloc[test_index]\n",
    "\n",
    "    # Update the fold number for the corresponding rows in the new DataFrame\n",
    "    mri_train_data.loc[test_index, 'fold_learning_curve'] = fold_number\n",
    "    label_distribution_fold = y_test.value_counts(normalize=True).to_dict()\n",
    "    label_distributions.append(label_distribution_fold)\n",
    "\n",
    "    fold_number += 1  # Increment the fold number\n",
    "\n",
    "mri_train_data[\"label\"] = (mri_train_data[\"Category\"]==\"prolaktinom\").astype(int)\n",
    "# Save the training and test data to CSV files\n",
    "mri_train_data.to_csv(r'../data/train/train_mri_data.csv', index=False)"
   ]
  },
  {
   "cell_type": "code",
   "execution_count": 62,
   "metadata": {},
   "outputs": [
    {
     "name": "stdout",
     "output_type": "stream",
     "text": [
      "End Data Partitioning\n"
     ]
    }
   ],
   "source": [
    "print(\"End Data Partitioning\")"
   ]
  },
  {
   "cell_type": "code",
   "execution_count": null,
   "metadata": {},
   "outputs": [],
   "source": []
  }
 ],
 "metadata": {
  "kernelspec": {
   "display_name": "Python 3.8 - AzureML",
   "language": "python",
   "name": "python38-azureml"
  },
  "language_info": {
   "codemirror_mode": {
    "name": "ipython",
    "version": 3
   },
   "file_extension": ".py",
   "mimetype": "text/x-python",
   "name": "python",
   "nbconvert_exporter": "python",
   "pygments_lexer": "ipython3",
   "version": "3.8.5"
  }
 },
 "nbformat": 4,
 "nbformat_minor": 2
}
