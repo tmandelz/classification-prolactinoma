{
 "cells": [
  {
   "cell_type": "markdown",
   "metadata": {},
   "source": [
    "# Data Partitioning"
   ]
  },
  {
   "cell_type": "code",
   "execution_count": 1,
   "metadata": {},
   "outputs": [],
   "source": [
    "import pandas as pd\n",
    "import numpy as np\n",
    "from sklearn.model_selection import train_test_split,StratifiedKFold\n",
    "random_state = 123"
   ]
  },
  {
   "cell_type": "code",
   "execution_count": 2,
   "metadata": {},
   "outputs": [
    {
     "name": "stdout",
     "output_type": "stream",
     "text": [
      "Start Data Partitioning\n"
     ]
    }
   ],
   "source": [
    "print(\"Start Data Partitioning\")"
   ]
  },
  {
   "cell_type": "code",
   "execution_count": 3,
   "metadata": {},
   "outputs": [
    {
     "data": {
      "text/html": [
       "<div>\n",
       "<style scoped>\n",
       "    .dataframe tbody tr th:only-of-type {\n",
       "        vertical-align: middle;\n",
       "    }\n",
       "\n",
       "    .dataframe tbody tr th {\n",
       "        vertical-align: top;\n",
       "    }\n",
       "\n",
       "    .dataframe thead th {\n",
       "        text-align: right;\n",
       "    }\n",
       "</style>\n",
       "<table border=\"1\" class=\"dataframe\">\n",
       "  <thead>\n",
       "    <tr style=\"text-align: right;\">\n",
       "      <th></th>\n",
       "      <th>Patient_ID</th>\n",
       "      <th>Case_ID</th>\n",
       "      <th>Date_Case</th>\n",
       "      <th>ID_MRI_Machine</th>\n",
       "      <th>Adenoma_size</th>\n",
       "      <th>Label_Quality</th>\n",
       "      <th>Entry_date</th>\n",
       "      <th>Operation_date</th>\n",
       "      <th>Category</th>\n",
       "      <th>Patient_age</th>\n",
       "      <th>...</th>\n",
       "      <th>Diagnosis_hypophyseninfarkt</th>\n",
       "      <th>Diagnosis_inaktiv(cortico)</th>\n",
       "      <th>Diagnosis_intraundsupraselläreraumforderung</th>\n",
       "      <th>Diagnosis_prolaktin</th>\n",
       "      <th>Diagnosis_intraundsuprasellär</th>\n",
       "      <th>Diagnosis_apoplektiform</th>\n",
       "      <th>Diagnosis_supprimiertesprolaktin</th>\n",
       "      <th>Diagnosis_prolaktinom</th>\n",
       "      <th>Diagnosis_lhundfshsezernierndesadenom</th>\n",
       "      <th>Diagnosis_zystisch</th>\n",
       "    </tr>\n",
       "  </thead>\n",
       "  <tbody>\n",
       "    <tr>\n",
       "      <th>0</th>\n",
       "      <td>249222</td>\n",
       "      <td>4210945</td>\n",
       "      <td>2016-01-19 11:45:00</td>\n",
       "      <td>MRI2</td>\n",
       "      <td>makro</td>\n",
       "      <td>Einblutung</td>\n",
       "      <td>2012-01-01</td>\n",
       "      <td>2012-01-09</td>\n",
       "      <td>non-prolaktinom</td>\n",
       "      <td>77</td>\n",
       "      <td>...</td>\n",
       "      <td>0</td>\n",
       "      <td>0</td>\n",
       "      <td>0</td>\n",
       "      <td>0</td>\n",
       "      <td>0</td>\n",
       "      <td>0</td>\n",
       "      <td>0</td>\n",
       "      <td>0</td>\n",
       "      <td>0</td>\n",
       "      <td>0</td>\n",
       "    </tr>\n",
       "    <tr>\n",
       "      <th>1</th>\n",
       "      <td>154372</td>\n",
       "      <td>4153000</td>\n",
       "      <td>2016-02-08 11:20:00</td>\n",
       "      <td>MRI3</td>\n",
       "      <td>makro</td>\n",
       "      <td>NaN</td>\n",
       "      <td>2002-11-01</td>\n",
       "      <td>2002-11-02</td>\n",
       "      <td>prolaktinom</td>\n",
       "      <td>25</td>\n",
       "      <td>...</td>\n",
       "      <td>0</td>\n",
       "      <td>0</td>\n",
       "      <td>0</td>\n",
       "      <td>0</td>\n",
       "      <td>0</td>\n",
       "      <td>0</td>\n",
       "      <td>0</td>\n",
       "      <td>1</td>\n",
       "      <td>0</td>\n",
       "      <td>0</td>\n",
       "    </tr>\n",
       "    <tr>\n",
       "      <th>2</th>\n",
       "      <td>509136</td>\n",
       "      <td>40059944</td>\n",
       "      <td>2016-04-21 12:30:00</td>\n",
       "      <td>MRI2</td>\n",
       "      <td>mikro</td>\n",
       "      <td>NaN</td>\n",
       "      <td>2008-07-01</td>\n",
       "      <td>NaN</td>\n",
       "      <td>prolaktinom</td>\n",
       "      <td>27</td>\n",
       "      <td>...</td>\n",
       "      <td>0</td>\n",
       "      <td>0</td>\n",
       "      <td>0</td>\n",
       "      <td>0</td>\n",
       "      <td>0</td>\n",
       "      <td>0</td>\n",
       "      <td>0</td>\n",
       "      <td>1</td>\n",
       "      <td>0</td>\n",
       "      <td>0</td>\n",
       "    </tr>\n",
       "    <tr>\n",
       "      <th>3</th>\n",
       "      <td>93651</td>\n",
       "      <td>40053184</td>\n",
       "      <td>2016-05-19 13:00:00</td>\n",
       "      <td>MRI3</td>\n",
       "      <td>makro</td>\n",
       "      <td>NaN</td>\n",
       "      <td>2012-06-01</td>\n",
       "      <td>NaN</td>\n",
       "      <td>non-prolaktinom</td>\n",
       "      <td>77</td>\n",
       "      <td>...</td>\n",
       "      <td>0</td>\n",
       "      <td>0</td>\n",
       "      <td>0</td>\n",
       "      <td>0</td>\n",
       "      <td>0</td>\n",
       "      <td>0</td>\n",
       "      <td>0</td>\n",
       "      <td>0</td>\n",
       "      <td>0</td>\n",
       "      <td>0</td>\n",
       "    </tr>\n",
       "    <tr>\n",
       "      <th>4</th>\n",
       "      <td>306125</td>\n",
       "      <td>40054844</td>\n",
       "      <td>2016-05-21 10:55:00</td>\n",
       "      <td>MRI3</td>\n",
       "      <td>mikro</td>\n",
       "      <td>NaN</td>\n",
       "      <td>2014-11-12</td>\n",
       "      <td>NaN</td>\n",
       "      <td>prolaktinom</td>\n",
       "      <td>58</td>\n",
       "      <td>...</td>\n",
       "      <td>0</td>\n",
       "      <td>0</td>\n",
       "      <td>0</td>\n",
       "      <td>0</td>\n",
       "      <td>0</td>\n",
       "      <td>0</td>\n",
       "      <td>0</td>\n",
       "      <td>1</td>\n",
       "      <td>0</td>\n",
       "      <td>0</td>\n",
       "    </tr>\n",
       "  </tbody>\n",
       "</table>\n",
       "<p>5 rows × 66 columns</p>\n",
       "</div>"
      ],
      "text/plain": [
       "   Patient_ID   Case_ID            Date_Case ID_MRI_Machine Adenoma_size  \\\n",
       "0      249222   4210945  2016-01-19 11:45:00           MRI2        makro   \n",
       "1      154372   4153000  2016-02-08 11:20:00           MRI3        makro   \n",
       "2      509136  40059944  2016-04-21 12:30:00           MRI2        mikro   \n",
       "3       93651  40053184  2016-05-19 13:00:00           MRI3        makro   \n",
       "4      306125  40054844  2016-05-21 10:55:00           MRI3        mikro   \n",
       "\n",
       "  Label_Quality  Entry_date Operation_date         Category  Patient_age  ...  \\\n",
       "0    Einblutung  2012-01-01     2012-01-09  non-prolaktinom           77  ...   \n",
       "1           NaN  2002-11-01     2002-11-02      prolaktinom           25  ...   \n",
       "2           NaN  2008-07-01            NaN      prolaktinom           27  ...   \n",
       "3           NaN  2012-06-01            NaN  non-prolaktinom           77  ...   \n",
       "4           NaN  2014-11-12            NaN      prolaktinom           58  ...   \n",
       "\n",
       "  Diagnosis_hypophyseninfarkt Diagnosis_inaktiv(cortico)  \\\n",
       "0                           0                          0   \n",
       "1                           0                          0   \n",
       "2                           0                          0   \n",
       "3                           0                          0   \n",
       "4                           0                          0   \n",
       "\n",
       "  Diagnosis_intraundsupraselläreraumforderung Diagnosis_prolaktin  \\\n",
       "0                                           0                   0   \n",
       "1                                           0                   0   \n",
       "2                                           0                   0   \n",
       "3                                           0                   0   \n",
       "4                                           0                   0   \n",
       "\n",
       "  Diagnosis_intraundsuprasellär Diagnosis_apoplektiform  \\\n",
       "0                             0                       0   \n",
       "1                             0                       0   \n",
       "2                             0                       0   \n",
       "3                             0                       0   \n",
       "4                             0                       0   \n",
       "\n",
       "   Diagnosis_supprimiertesprolaktin  Diagnosis_prolaktinom  \\\n",
       "0                                 0                      0   \n",
       "1                                 0                      1   \n",
       "2                                 0                      1   \n",
       "3                                 0                      0   \n",
       "4                                 0                      1   \n",
       "\n",
       "   Diagnosis_lhundfshsezernierndesadenom  Diagnosis_zystisch  \n",
       "0                                      0                   0  \n",
       "1                                      0                   0  \n",
       "2                                      0                   0  \n",
       "3                                      0                   0  \n",
       "4                                      0                   0  \n",
       "\n",
       "[5 rows x 66 columns]"
      ]
     },
     "execution_count": 3,
     "metadata": {},
     "output_type": "execute_result"
    }
   ],
   "source": [
    "# read cleaned data\n",
    "df = pd.read_csv(r'../raw_data/label_data.csv')\n",
    "df.head()"
   ]
  },
  {
   "cell_type": "markdown",
   "metadata": {},
   "source": [
    "## Train/Test Split Strategy\n",
    "We will Split the Data into a Train- and Testset. \n",
    "We are splitting each patient fully into either the train or the test set to avoid data leakage.\n",
    "This is ensured by checking for Patient ID duplicates (assert statement beneath) in the Dataframe. If each row only corresponds to one patient we can savely split the dataframe.\n",
    "\n",
    "\n",
    "Also we are gonna stratify the split on the binary labels to ensure that the train- and testset include about the same of each class."
   ]
  },
  {
   "cell_type": "code",
   "execution_count": 4,
   "metadata": {},
   "outputs": [],
   "source": [
    "# drop patients without a label\n",
    "df= df[~df[\"Category\"].isna()]"
   ]
  },
  {
   "cell_type": "code",
   "execution_count": 5,
   "metadata": {},
   "outputs": [],
   "source": [
    "# Patient ID Duplicate Check\n",
    "assert len(df[df[\"Patient_ID\"].duplicated()]) == 0"
   ]
  },
  {
   "cell_type": "code",
   "execution_count": 6,
   "metadata": {},
   "outputs": [
    {
     "name": "stdout",
     "output_type": "stream",
     "text": [
      "Total Patients Train set: 292\n",
      "Total Patients Test set: 73\n"
     ]
    }
   ],
   "source": [
    "# remove unnecessary fields\n",
    "df=df[['Patient_ID','Category']]\n",
    "# split columns into features and labels\n",
    "X = df.drop(columns=[\"Category\"])\n",
    "y = df[\"Category\"]\n",
    "# stratified train/test split on labels\n",
    "X_train, X_test, y_train, y_test = train_test_split(X, y, test_size=0.2, stratify=y, random_state=random_state)\n",
    "print(\"Total Patients Train set:\", len(X_train))\n",
    "print(\"Total Patients Test set:\", len(X_test))"
   ]
  },
  {
   "cell_type": "code",
   "execution_count": 7,
   "metadata": {},
   "outputs": [
    {
     "name": "stdout",
     "output_type": "stream",
     "text": [
      "Label Distribution relative Difference between Train- and Testset:\n",
      " ± 0.342 %\n"
     ]
    }
   ],
   "source": [
    "label_diff = ((y_train.value_counts(normalize=True) - y_test.value_counts(normalize=True)) *100).iloc[1]\n",
    "print(f\"Label Distribution relative Difference between Train- and Testset:\\n\",\"±\",np.round(np.abs(label_diff),3),\"%\")"
   ]
  },
  {
   "cell_type": "code",
   "execution_count": 8,
   "metadata": {},
   "outputs": [],
   "source": [
    "# Create dataframes for training and test data\n",
    "train_data = pd.DataFrame(X_train)\n",
    "train_data['Category'] = y_train\n",
    "\n",
    "test_data = pd.DataFrame(X_test)\n",
    "test_data['Category'] = y_test"
   ]
  },
  {
   "cell_type": "code",
   "execution_count": 9,
   "metadata": {},
   "outputs": [
    {
     "name": "stdout",
     "output_type": "stream",
     "text": [
      "Total Dataframe Train rows: 395\n",
      "Total Dataframe Test rows: 113\n"
     ]
    }
   ],
   "source": [
    "# load the whole lab dataset with all cases and merge them with the patient data\n",
    "df_more_data = pd.read_csv(r'../raw_data/data_imputed.csv')\n",
    "train_data_merged = train_data.merge(df_more_data,how='inner',on=['Patient_ID','Category'])\n",
    "test_data_merged = test_data.merge(df_more_data,how='inner',on=['Patient_ID','Category'])\n",
    "print(\"Total Dataframe Train rows:\", len(train_data_merged))\n",
    "print(\"Total Dataframe Test rows:\", len(test_data_merged))"
   ]
  },
  {
   "cell_type": "code",
   "execution_count": 10,
   "metadata": {},
   "outputs": [
    {
     "name": "stdout",
     "output_type": "stream",
     "text": [
      "Label Distribution relative Difference between Train- and Testset:\n",
      " ± 4.196 %\n"
     ]
    }
   ],
   "source": [
    "#calculate and print difference in label between test and train dataset\n",
    "label_diff = ((train_data_merged['Category'].value_counts(normalize=True) - test_data_merged['Category'].value_counts(normalize=True)) *100).iloc[1]\n",
    "print(f\"Label Distribution relative Difference between Train- and Testset:\\n\",\"±\",np.round(np.abs(label_diff),3),\"%\")"
   ]
  },
  {
   "cell_type": "code",
   "execution_count": 11,
   "metadata": {},
   "outputs": [
    {
     "name": "stdout",
     "output_type": "stream",
     "text": [
      "Total Dataframe Fold 1 rows: 79\n",
      "Total Dataframe Fold 2 rows: 79\n",
      "Total Dataframe Fold 3 rows: 79\n",
      "Total Dataframe Fold 4 rows: 79\n",
      "Total Dataframe Fold 5 rows: 79\n",
      "Label Distribution relative Difference between Fold 0 vs. Fold 1:\n",
      " ± 0.0 %\n",
      "Label Distribution relative Difference between Fold 0 vs. Fold 2:\n",
      " ± 0.0 %\n",
      "Label Distribution relative Difference between Fold 0 vs. Fold 3:\n",
      " ± 0.0 %\n",
      "Label Distribution relative Difference between Fold 0 vs. Fold 4:\n",
      " ± 0.025 %\n",
      "Label Distribution relative Difference between Fold 1 vs. Fold 2:\n",
      " ± 0.0 %\n",
      "Label Distribution relative Difference between Fold 1 vs. Fold 3:\n",
      " ± 0.0 %\n",
      "Label Distribution relative Difference between Fold 1 vs. Fold 4:\n",
      " ± 0.025 %\n",
      "Label Distribution relative Difference between Fold 2 vs. Fold 3:\n",
      " ± 0.0 %\n",
      "Label Distribution relative Difference between Fold 2 vs. Fold 4:\n",
      " ± 0.025 %\n",
      "Label Distribution relative Difference between Fold 3 vs. Fold 4:\n",
      " ± 0.025 %\n"
     ]
    }
   ],
   "source": [
    "# Split your data into train features (X_crossval) and target (y_crossval)\n",
    "X_crossval = train_data_merged.drop('Category', axis=1)\n",
    "y_crossval = train_data_merged['Category']\n",
    "\n",
    "# Perform Stratified Cross-Validation with fold numbers\n",
    "n_splits = 5  # Number of folds\n",
    "stratified_kf = StratifiedKFold(n_splits=n_splits, random_state=random_state, shuffle=True)\n",
    "\n",
    "# Create a new DataFrame to store the fold number\n",
    "train_data_merged['fold'] = -1  # Initialize with -1\n",
    "label_distributions = []\n",
    "fold_number = 0  # Initialize fold number\n",
    "\n",
    "for _, test_index in stratified_kf.split(X_crossval, y_crossval):\n",
    "    y_test = y_crossval.iloc[test_index]\n",
    "\n",
    "    # Update the fold number for the corresponding rows in the new DataFrame\n",
    "    train_data_merged.loc[test_index, 'fold'] = fold_number\n",
    "    label_distribution_fold = y_test.value_counts(normalize=True).to_dict()\n",
    "    label_distributions.append(label_distribution_fold)\n",
    "\n",
    "    fold_number += 1  # Increment the fold number\n",
    "    print(f\"Total Dataframe Fold {fold_number} rows:\", len(test_index))\n",
    "    \n",
    "    # Calculate and print the relative label differences\n",
    "for i in range(n_splits):\n",
    "    for j in range(i + 1, n_splits):\n",
    "        label_diff = sum(abs(label_distributions[i][k] - label_distributions[j][k]) for k in label_distributions[i])\n",
    "        print(f\"Label Distribution relative Difference between Fold {i} vs. Fold {j}:\\n\",\"±\",np.round(label_diff,3),\"%\")\n"
   ]
  },
  {
   "cell_type": "code",
   "execution_count": 12,
   "metadata": {},
   "outputs": [],
   "source": [
    "# Save the training and test data to CSV files\n",
    "train_data_merged.to_csv(r'../data/train_data.csv', index=False)\n",
    "test_data_merged.to_csv(r'../data/test_data.csv', index=False)"
   ]
  },
  {
   "cell_type": "code",
   "execution_count": 13,
   "metadata": {},
   "outputs": [
    {
     "name": "stdout",
     "output_type": "stream",
     "text": [
      "End Data Partitioning\n"
     ]
    }
   ],
   "source": [
    "print(\"End Data Partitioning\")"
   ]
  }
 ],
 "metadata": {
  "kernelspec": {
   "display_name": "pro5d-classification-prolactinoma-FBKpBkq7",
   "language": "python",
   "name": "python3"
  },
  "language_info": {
   "codemirror_mode": {
    "name": "ipython",
    "version": 3
   },
   "file_extension": ".py",
   "mimetype": "text/x-python",
   "name": "python",
   "nbconvert_exporter": "python",
   "pygments_lexer": "ipython3",
   "version": "3.10.5"
  }
 },
 "nbformat": 4,
 "nbformat_minor": 2
}
