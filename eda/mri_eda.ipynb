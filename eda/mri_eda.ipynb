{
 "cells": [
  {
   "cell_type": "markdown",
   "metadata": {},
   "source": [
    "# MRI EDA\n",
    "## Packages"
   ]
  },
  {
   "cell_type": "code",
   "execution_count": 25,
   "metadata": {},
   "outputs": [],
   "source": [
    "import numpy as np\n",
    "import matplotlib.pyplot as plt\n",
    "import os\n",
    "import nibabel as nib\n",
    "from ipywidgets import interact\n",
    "from matplotlib.colors import ListedColormap\n",
    "import os\n",
    "import pandas as pd\n",
    "import numpy as np\n",
    "import torch\n",
    "from torchvision import transforms"
   ]
  },
  {
   "cell_type": "markdown",
   "metadata": {},
   "source": [
    "## Helper Functions"
   ]
  },
  {
   "cell_type": "code",
   "execution_count": 26,
   "metadata": {},
   "outputs": [],
   "source": [
    "def load_data(mri_case,mri_type=\"t2_tse_fs_cor\"):\n",
    "    path = f\"../raw_data/nii_files/{mri_type}/{mri_case}.nii\"\n",
    "    return nib.load(path).get_fdata()\n",
    "    \n",
    "def visualize_slices(mri_list,preprocess_slices=None):\n",
    "    if preprocess_slices !=None:\n",
    "        mri_list_processed = list(map(preprocess_slices,mri_list))\n",
    "        n_slices = mri_list_processed[0].shape[2]\n",
    "    else:\n",
    "        mri_list_processed = None\n",
    "    cmap = plt.cm.winter\n",
    "    # Get the colormap colors\n",
    "    my_cmap = cmap(np.arange(cmap.N))\n",
    "    my_cmap[:, -1] = np.linspace(0, 1, cmap.N)\n",
    "    my_cmap = ListedColormap(my_cmap)\n",
    "\n",
    "    # Function to visualize a single slice\n",
    "    def show_slice(mri, slice_number):\n",
    "        if mri_list_processed == None:\n",
    "            plt.imshow(mri_list[mri][:, :, slice_number], cmap='gray')\n",
    "            \n",
    "        else:\n",
    "            starting_point = mri_list[mri].shape[2]//2 - n_slices//2\n",
    "            fig, axes = plt.subplots(1, 2, figsize=(10, 5))  # Create a figure with 2 subplots\n",
    "            axes[0].imshow(mri_list[mri][:, :, slice_number], cmap='gray')\n",
    "            axes[0].set_title(f'Not Preprocessed')\n",
    "            if (starting_point <= slice_number) and (starting_point + n_slices > slice_number):\n",
    "                axes[1].imshow(mri_list_processed[mri][:, :, slice_number-starting_point], cmap='gray')\n",
    "                axes[1].set_title(f'Preprocessed')\n",
    "        plt.show()\n",
    "\n",
    "    \n",
    "    interact(show_slice, mri=(0, len(mri_list) - 1), slice_number=(0, mri_list[0].shape[2] - 1))\n",
    "\n",
    "\n",
    "def resize_and_crop_3d_image_cor(image, new_size=(384, 384), crop_size= (112, 112, 6)):\n",
    "    resize_transform = transforms.Resize(new_size)\n",
    "\n",
    "    # Process each slice\n",
    "    resized_slices = []\n",
    "    for slice_idx in range(image.shape[2]):\n",
    "        # Extract the slice and add a channel dimension\n",
    "        slice = image[:, :, slice_idx]\n",
    "        slice = torch.tensor(slice).unsqueeze(0)  # Add a channel dimension\n",
    "        resized_slice = resize_transform(slice)\n",
    "        resized_slices.append(resized_slice.squeeze(0).numpy())\n",
    "\n",
    "    resized_image = np.stack(resized_slices, axis=2)\n",
    "    center = np.array(resized_image.shape) // 2\n",
    "    cropped_image = resized_image[\n",
    "        center[0]-crop_size[0]//2 : center[0]+crop_size[0]//2,\n",
    "        center[1]-crop_size[1]//2 : center[1]+crop_size[1]//2,\n",
    "        center[2]-crop_size[2]//2 : center[2]+crop_size[2]//2\n",
    "    ]\n",
    "\n",
    "    return cropped_image\n"
   ]
  },
  {
   "cell_type": "code",
   "execution_count": 27,
   "metadata": {},
   "outputs": [],
   "source": [
    "def resize_and_crop_3d_image_seg(image, new_size=(384, 384), crop_size= (150, 150, 8)): # 112, 112, 6\n",
    "    resize_transform = transforms.Resize(new_size)\n",
    "\n",
    "    # Process each slice\n",
    "    resized_slices = []\n",
    "    for slice_idx in range(image.shape[2]):\n",
    "        # Extract the slice and add a channel dimension\n",
    "        slice = image[:, :, slice_idx]\n",
    "        slice = torch.tensor(slice).unsqueeze(0)  # Add a channel dimension\n",
    "        resized_slice = resize_transform(slice)\n",
    "        resized_slices.append(resized_slice.squeeze(0).numpy())\n",
    "\n",
    "    resized_image = np.stack(resized_slices, axis=2)\n",
    "    center = np.array(resized_image.shape) // 2\n",
    "    cropped_image = resized_image[\n",
    "        center[0]-crop_size[0]//2 + 20 : center[0]+crop_size[0]//2 + 20,\n",
    "        center[1]-crop_size[1]//2 - 20 : center[1]+crop_size[1]//2 - 20,\n",
    "        center[2]-crop_size[2]//2 : center[2]+crop_size[2]//2\n",
    "    ]\n",
    "\n",
    "    return cropped_image"
   ]
  },
  {
   "cell_type": "code",
   "execution_count": 28,
   "metadata": {},
   "outputs": [
    {
     "data": {
      "application/vnd.jupyter.widget-view+json": {
       "model_id": "0d1b5a6a582b4ccd9d0619ed46c21f01",
       "version_major": 2,
       "version_minor": 0
      },
      "text/plain": [
       "interactive(children=(IntSlider(value=0, description='mri', max=0), IntSlider(value=9, description='slice_numb…"
      ]
     },
     "metadata": {},
     "output_type": "display_data"
    }
   ],
   "source": [
    "t2_tse_cor = load_data(\"7729409\",\"t2_tse_cor\")\n",
    "visualize_slices([t2_tse_cor])"
   ]
  },
  {
   "cell_type": "code",
   "execution_count": 29,
   "metadata": {},
   "outputs": [
    {
     "data": {
      "application/vnd.jupyter.widget-view+json": {
       "model_id": "ffee2d886f374f0a95442cdcaf5ceec9",
       "version_major": 2,
       "version_minor": 0
      },
      "text/plain": [
       "interactive(children=(IntSlider(value=0, description='mri', max=0), IntSlider(value=7, description='slice_numb…"
      ]
     },
     "metadata": {},
     "output_type": "display_data"
    }
   ],
   "source": [
    "case_879 = load_data(\"8797386\")\n",
    "resized_and_cropped_image = resize_and_crop_3d_image_cor(case_879)\n",
    "visualize_slices([case_879],resize_and_crop_3d_image_cor)"
   ]
  },
  {
   "cell_type": "code",
   "execution_count": 31,
   "metadata": {},
   "outputs": [
    {
     "ename": "FileNotFoundError",
     "evalue": "[Errno 2] No such file or directory: '../data/train_data.csv'",
     "output_type": "error",
     "traceback": [
      "\u001b[0;31m---------------------------------------------------------------------------\u001b[0m",
      "\u001b[0;31mFileNotFoundError\u001b[0m                         Traceback (most recent call last)",
      "\u001b[1;32m/home/azureuser/cloudfiles/code/Users/pro5d-classification-prolactinoma/eda/mri_eda.ipynb Cell 8\u001b[0m line \u001b[0;36m1\n\u001b[0;32m----> <a href='vscode-notebook-cell://amlext%2B2f737562736372697074696f6e732f33353036383039362d363637632d343632302d386262322d3662303530373635666434652f7265736f7572636547726f7570732f436f6d7075746546484e572f70726f7669646572732f4d6963726f736f66742e4d616368696e654c6561726e696e6753657276696365732f776f726b7370616365732f46484e572f636f6d70757465732f6b736174686d656431/home/azureuser/cloudfiles/code/Users/pro5d-classification-prolactinoma/eda/mri_eda.ipynb#X10sdnNjb2RlLXJlbW90ZQ%3D%3D?line=0'>1</a>\u001b[0m train_data \u001b[39m=\u001b[39m pd\u001b[39m.\u001b[39;49mread_csv(\u001b[39m\"\u001b[39;49m\u001b[39m../data/train_data.csv\u001b[39;49m\u001b[39m\"\u001b[39;49m)\n\u001b[1;32m      <a href='vscode-notebook-cell://amlext%2B2f737562736372697074696f6e732f33353036383039362d363637632d343632302d386262322d3662303530373635666434652f7265736f7572636547726f7570732f436f6d7075746546484e572f70726f7669646572732f4d6963726f736f66742e4d616368696e654c6561726e696e6753657276696365732f776f726b7370616365732f46484e572f636f6d70757465732f6b736174686d656431/home/azureuser/cloudfiles/code/Users/pro5d-classification-prolactinoma/eda/mri_eda.ipynb#X10sdnNjb2RlLXJlbW90ZQ%3D%3D?line=1'>2</a>\u001b[0m cases \u001b[39m=\u001b[39m train_data[\u001b[39m\"\u001b[39m\u001b[39mMRI_Case_ID\u001b[39m\u001b[39m\"\u001b[39m][\u001b[39m17\u001b[39m:\u001b[39m25\u001b[39m]\n\u001b[1;32m      <a href='vscode-notebook-cell://amlext%2B2f737562736372697074696f6e732f33353036383039362d363637632d343632302d386262322d3662303530373635666434652f7265736f7572636547726f7570732f436f6d7075746546484e572f70726f7669646572732f4d6963726f736f66742e4d616368696e654c6561726e696e6753657276696365732f776f726b7370616365732f46484e572f636f6d70757465732f6b736174686d656431/home/azureuser/cloudfiles/code/Users/pro5d-classification-prolactinoma/eda/mri_eda.ipynb#X10sdnNjb2RlLXJlbW90ZQ%3D%3D?line=2'>3</a>\u001b[0m mri \u001b[39m=\u001b[39m [load_data(mri_case,\u001b[39m\"\u001b[39m\u001b[39mt1_tse_sag\u001b[39m\u001b[39m\"\u001b[39m) \u001b[39mfor\u001b[39;00m mri_case \u001b[39min\u001b[39;00m cases]\n",
      "File \u001b[0;32m/anaconda/envs/azureml_py38/lib/python3.8/site-packages/pandas/io/parsers.py:688\u001b[0m, in \u001b[0;36mread_csv\u001b[0;34m(filepath_or_buffer, sep, delimiter, header, names, index_col, usecols, squeeze, prefix, mangle_dupe_cols, dtype, engine, converters, true_values, false_values, skipinitialspace, skiprows, skipfooter, nrows, na_values, keep_default_na, na_filter, verbose, skip_blank_lines, parse_dates, infer_datetime_format, keep_date_col, date_parser, dayfirst, cache_dates, iterator, chunksize, compression, thousands, decimal, lineterminator, quotechar, quoting, doublequote, escapechar, comment, encoding, dialect, error_bad_lines, warn_bad_lines, delim_whitespace, low_memory, memory_map, float_precision)\u001b[0m\n\u001b[1;32m    635\u001b[0m     engine_specified \u001b[39m=\u001b[39m \u001b[39mFalse\u001b[39;00m\n\u001b[1;32m    637\u001b[0m kwds\u001b[39m.\u001b[39mupdate(\n\u001b[1;32m    638\u001b[0m     delimiter\u001b[39m=\u001b[39mdelimiter,\n\u001b[1;32m    639\u001b[0m     engine\u001b[39m=\u001b[39mengine,\n\u001b[0;32m   (...)\u001b[0m\n\u001b[1;32m    685\u001b[0m     skip_blank_lines\u001b[39m=\u001b[39mskip_blank_lines,\n\u001b[1;32m    686\u001b[0m )\n\u001b[0;32m--> 688\u001b[0m \u001b[39mreturn\u001b[39;00m _read(filepath_or_buffer, kwds)\n",
      "File \u001b[0;32m/anaconda/envs/azureml_py38/lib/python3.8/site-packages/pandas/io/parsers.py:454\u001b[0m, in \u001b[0;36m_read\u001b[0;34m(filepath_or_buffer, kwds)\u001b[0m\n\u001b[1;32m    451\u001b[0m _validate_names(kwds\u001b[39m.\u001b[39mget(\u001b[39m\"\u001b[39m\u001b[39mnames\u001b[39m\u001b[39m\"\u001b[39m, \u001b[39mNone\u001b[39;00m))\n\u001b[1;32m    453\u001b[0m \u001b[39m# Create the parser.\u001b[39;00m\n\u001b[0;32m--> 454\u001b[0m parser \u001b[39m=\u001b[39m TextFileReader(fp_or_buf, \u001b[39m*\u001b[39;49m\u001b[39m*\u001b[39;49mkwds)\n\u001b[1;32m    456\u001b[0m \u001b[39mif\u001b[39;00m chunksize \u001b[39mor\u001b[39;00m iterator:\n\u001b[1;32m    457\u001b[0m     \u001b[39mreturn\u001b[39;00m parser\n",
      "File \u001b[0;32m/anaconda/envs/azureml_py38/lib/python3.8/site-packages/pandas/io/parsers.py:948\u001b[0m, in \u001b[0;36mTextFileReader.__init__\u001b[0;34m(self, f, engine, **kwds)\u001b[0m\n\u001b[1;32m    945\u001b[0m \u001b[39mif\u001b[39;00m \u001b[39m\"\u001b[39m\u001b[39mhas_index_names\u001b[39m\u001b[39m\"\u001b[39m \u001b[39min\u001b[39;00m kwds:\n\u001b[1;32m    946\u001b[0m     \u001b[39mself\u001b[39m\u001b[39m.\u001b[39moptions[\u001b[39m\"\u001b[39m\u001b[39mhas_index_names\u001b[39m\u001b[39m\"\u001b[39m] \u001b[39m=\u001b[39m kwds[\u001b[39m\"\u001b[39m\u001b[39mhas_index_names\u001b[39m\u001b[39m\"\u001b[39m]\n\u001b[0;32m--> 948\u001b[0m \u001b[39mself\u001b[39;49m\u001b[39m.\u001b[39;49m_make_engine(\u001b[39mself\u001b[39;49m\u001b[39m.\u001b[39;49mengine)\n",
      "File \u001b[0;32m/anaconda/envs/azureml_py38/lib/python3.8/site-packages/pandas/io/parsers.py:1180\u001b[0m, in \u001b[0;36mTextFileReader._make_engine\u001b[0;34m(self, engine)\u001b[0m\n\u001b[1;32m   1178\u001b[0m \u001b[39mdef\u001b[39;00m \u001b[39m_make_engine\u001b[39m(\u001b[39mself\u001b[39m, engine\u001b[39m=\u001b[39m\u001b[39m\"\u001b[39m\u001b[39mc\u001b[39m\u001b[39m\"\u001b[39m):\n\u001b[1;32m   1179\u001b[0m     \u001b[39mif\u001b[39;00m engine \u001b[39m==\u001b[39m \u001b[39m\"\u001b[39m\u001b[39mc\u001b[39m\u001b[39m\"\u001b[39m:\n\u001b[0;32m-> 1180\u001b[0m         \u001b[39mself\u001b[39m\u001b[39m.\u001b[39m_engine \u001b[39m=\u001b[39m CParserWrapper(\u001b[39mself\u001b[39;49m\u001b[39m.\u001b[39;49mf, \u001b[39m*\u001b[39;49m\u001b[39m*\u001b[39;49m\u001b[39mself\u001b[39;49m\u001b[39m.\u001b[39;49moptions)\n\u001b[1;32m   1181\u001b[0m     \u001b[39melse\u001b[39;00m:\n\u001b[1;32m   1182\u001b[0m         \u001b[39mif\u001b[39;00m engine \u001b[39m==\u001b[39m \u001b[39m\"\u001b[39m\u001b[39mpython\u001b[39m\u001b[39m\"\u001b[39m:\n",
      "File \u001b[0;32m/anaconda/envs/azureml_py38/lib/python3.8/site-packages/pandas/io/parsers.py:2010\u001b[0m, in \u001b[0;36mCParserWrapper.__init__\u001b[0;34m(self, src, **kwds)\u001b[0m\n\u001b[1;32m   2007\u001b[0m \u001b[39mself\u001b[39m\u001b[39m.\u001b[39musecols, \u001b[39mself\u001b[39m\u001b[39m.\u001b[39musecols_dtype \u001b[39m=\u001b[39m _validate_usecols_arg(kwds[\u001b[39m\"\u001b[39m\u001b[39musecols\u001b[39m\u001b[39m\"\u001b[39m])\n\u001b[1;32m   2008\u001b[0m kwds[\u001b[39m\"\u001b[39m\u001b[39musecols\u001b[39m\u001b[39m\"\u001b[39m] \u001b[39m=\u001b[39m \u001b[39mself\u001b[39m\u001b[39m.\u001b[39musecols\n\u001b[0;32m-> 2010\u001b[0m \u001b[39mself\u001b[39m\u001b[39m.\u001b[39m_reader \u001b[39m=\u001b[39m parsers\u001b[39m.\u001b[39;49mTextReader(src, \u001b[39m*\u001b[39;49m\u001b[39m*\u001b[39;49mkwds)\n\u001b[1;32m   2011\u001b[0m \u001b[39mself\u001b[39m\u001b[39m.\u001b[39munnamed_cols \u001b[39m=\u001b[39m \u001b[39mself\u001b[39m\u001b[39m.\u001b[39m_reader\u001b[39m.\u001b[39munnamed_cols\n\u001b[1;32m   2013\u001b[0m passed_names \u001b[39m=\u001b[39m \u001b[39mself\u001b[39m\u001b[39m.\u001b[39mnames \u001b[39mis\u001b[39;00m \u001b[39mNone\u001b[39;00m\n",
      "File \u001b[0;32mpandas/_libs/parsers.pyx:382\u001b[0m, in \u001b[0;36mpandas._libs.parsers.TextReader.__cinit__\u001b[0;34m()\u001b[0m\n",
      "File \u001b[0;32mpandas/_libs/parsers.pyx:674\u001b[0m, in \u001b[0;36mpandas._libs.parsers.TextReader._setup_parser_source\u001b[0;34m()\u001b[0m\n",
      "\u001b[0;31mFileNotFoundError\u001b[0m: [Errno 2] No such file or directory: '../data/train_data.csv'"
     ]
    }
   ],
   "source": [
    "train_data = pd.read_csv(\"../data/train_data.csv\")\n",
    "cases = train_data[\"MRI_Case_ID\"][17:25]\n",
    "mri = [load_data(mri_case,\"t1_tse_sag\") for mri_case in cases]\n",
    "# Sagital auf 8 erhöhen 140 x 140"
   ]
  },
  {
   "cell_type": "code",
   "execution_count": 32,
   "metadata": {},
   "outputs": [
    {
     "ename": "NameError",
     "evalue": "name 'mri' is not defined",
     "output_type": "error",
     "traceback": [
      "\u001b[0;31m---------------------------------------------------------------------------\u001b[0m",
      "\u001b[0;31mNameError\u001b[0m                                 Traceback (most recent call last)",
      "\u001b[1;32m/home/azureuser/cloudfiles/code/Users/pro5d-classification-prolactinoma/eda/mri_eda.ipynb Cell 9\u001b[0m line \u001b[0;36m1\n\u001b[0;32m----> <a href='vscode-notebook-cell://amlext%2B2f737562736372697074696f6e732f33353036383039362d363637632d343632302d386262322d3662303530373635666434652f7265736f7572636547726f7570732f436f6d7075746546484e572f70726f7669646572732f4d6963726f736f66742e4d616368696e654c6561726e696e6753657276696365732f776f726b7370616365732f46484e572f636f6d70757465732f6b736174686d656431/home/azureuser/cloudfiles/code/Users/pro5d-classification-prolactinoma/eda/mri_eda.ipynb#X11sdnNjb2RlLXJlbW90ZQ%3D%3D?line=0'>1</a>\u001b[0m visualize_slices(mri,resize_and_crop_3d_image_seg)\n",
      "\u001b[0;31mNameError\u001b[0m: name 'mri' is not defined"
     ]
    }
   ],
   "source": [
    "visualize_slices(mri,resize_and_crop_3d_image_seg)"
   ]
  }
 ],
 "metadata": {
  "kernelspec": {
   "display_name": "Python 3.8 - AzureML",
   "language": "python",
   "name": "python38-azureml"
  },
  "language_info": {
   "codemirror_mode": {
    "name": "ipython",
    "version": 3
   },
   "file_extension": ".py",
   "mimetype": "text/x-python",
   "name": "python",
   "nbconvert_exporter": "python",
   "pygments_lexer": "ipython3",
   "version": "3.8.5"
  }
 },
 "nbformat": 4,
 "nbformat_minor": 2
}
