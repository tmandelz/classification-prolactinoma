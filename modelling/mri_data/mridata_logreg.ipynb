{
 "cells": [
  {
   "cell_type": "code",
   "execution_count": null,
   "metadata": {},
   "outputs": [],
   "source": [
    "import pandas as pd\n",
    "from sklearn.linear_model import LogisticRegression\n",
    "from sklearn.metrics import roc_curve, roc_auc_score\n",
    "from sklearn.model_selection import train_test_split\n",
    "from sklearn.metrics import accuracy_score, classification_report, confusion_matrix\n",
    "from sklearn.metrics import recall_score\n",
    "from sklearn.preprocessing import LabelEncoder\n",
    "import matplotlib.pyplot as plt\n",
    "\n",
    "# X_train = pd.read_csv(r'../../data/train_data.csv')\n",
    "# Y_train = X_train[\"Category\"]\n",
    "\n",
    "# X_test = pd.read_csv(r'../../data/test_data.csv')\n",
    "# Y_test = X_test[\"Category\"]\n",
    "# X_train= X_train.iloc[:, [i for i in range(13,28)]+ [7,8,9]]\n",
    "# X_test= X_test.iloc[:, [i for i in range(13,28)]+ [7,8,9]]"
   ]
  }
 ],
 "metadata": {
  "language_info": {
   "name": "python"
  }
 },
 "nbformat": 4,
 "nbformat_minor": 2
}
