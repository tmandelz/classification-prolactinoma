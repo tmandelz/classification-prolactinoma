{
  "cells": [
    {
      "cell_type": "code",
      "execution_count": 1,
      "metadata": {
        "gather": {
          "logged": 1702931280273
        }
      },
      "outputs": [
        {
          "name": "stdout",
          "output_type": "stream",
          "text": [
            "c:\\Users\\j\\gitlab\\pro5d-classification-prolactinoma\\modelling\\mri_data\n",
            "c:\\Users\\j\\gitlab\\pro5d-classification-prolactinoma\n"
          ]
        }
      ],
      "source": [
        "import os\n",
        "print(os.getcwd())\n",
        "if os.getcwd().endswith(\"mri_data\"):\n",
        "    os.chdir(\"..\")\n",
        "    os.chdir(\"..\")\n",
        "print(os.getcwd())\n",
        "from src.modelling import DeepModel_Trainer\n",
        "from src.augmentation import Transformer,None_Transform\n",
        "from src.data_modules import DataModule,ImagesDataset\n",
        "from torch import nn\n",
        "import pandas as pd\n",
        "import torch\n",
        "from torchvision import transforms,models\n",
        "import nibabel as nib\n",
        "import numpy as np\n",
        "from src.evaluation import Evaluation\n",
        "from sklearn.metrics import confusion_matrix\n",
        "import torch.nn.functional as F\n",
        "import matplotlib.pyplot as plt\n",
        "import seaborn as sns\n",
        "import wandb"
      ]
    },
    {
      "cell_type": "code",
      "execution_count": 2,
      "metadata": {
        "gather": {
          "logged": 1702931282288
        }
      },
      "outputs": [
        {
          "name": "stdout",
          "output_type": "stream",
          "text": [
            "env: \"WANDB_NOTEBOOK_NAME\"=\"baseline\"\n",
            "env: WANDB_SILENT=True\n"
          ]
        }
      ],
      "source": [
        "%env \"WANDB_NOTEBOOK_NAME\" \"baseline\"\n",
        "%env WANDB_SILENT=True\n",
        "\n",
        "base_transformer = Transformer(\n",
        "    None_Transform(), \"select_roi\"\n",
        ")"
      ]
    },
    {
      "cell_type": "code",
      "execution_count": 3,
      "metadata": {
        "gather": {
          "logged": 1702931285310
        }
      },
      "outputs": [],
      "source": [
        "# Modify the first convolution layer\n",
        "# Original first conv layer: in_channels=3, out_channels=64, kernel_size=7, stride=2, padding=3, bias=False\n",
        "def resnet18():\n",
        "    model = models.resnet18(pretrained=True)\n",
        "    model.conv1 = nn.Conv2d(in_channels=6, out_channels=64, kernel_size=7, stride=2, padding=3, bias=False)\n",
        "    num_ftrs = model.fc.in_features\n",
        "    model.fc = nn.Linear(num_ftrs, 1)\n",
        "    return model"
      ]
    },
    {
      "cell_type": "code",
      "execution_count": null,
      "metadata": {},
      "outputs": [],
      "source": [
        "resnet18_base = DeepModel_Trainer(DataModule(base_transformer), resnet18)\n",
        "resnet18_base.train_model(\"Baseline Resnet\", \"Resnet 18\", num_epochs=2, test_model=False,batchsize_train_data=16,use_mri_images=True,use_tabular_data=False,num_workers=6,\n",
        "                     save_model=False,\n",
        "                     cross_validation=True,lr=0.0001,evaluate_test_set=False,project_name=\"MRI-Modell\")"
      ]
    },
    {
      "cell_type": "code",
      "execution_count": null,
      "metadata": {},
      "outputs": [],
      "source": [
        "resnet18_base = DeepModel_Trainer(DataModule(base_transformer), resnet18)\n",
        "resnet18_base.train_model(\"Weighted\", \"Resnet 18\", num_epochs=6, test_model=False,batchsize_train_data=16,use_mri_images=True,use_tabular_data=False,num_workers=6,\n",
        "                     save_model=False,\n",
        "                     cross_validation=True,lr=0.0001,evaluate_test_set=False,project_name=\"MRI-Modell\",weight_loss=True)"
      ]
    },
    {
      "cell_type": "code",
      "execution_count": 5,
      "metadata": {},
      "outputs": [
        {
          "name": "stderr",
          "output_type": "stream",
          "text": [
            "/mnt/batch/tasks/shared/LS_root/mounts/clusters/ksathmed1/code/Users/pro5d-classification-prolactinoma/src/augmentation.py:62: UserWarning: To copy construct from a tensor, it is recommended to use sourceTensor.clone().detach() or sourceTensor.clone().detach().requires_grad_(True), rather than torch.tensor(sourceTensor).\n",
            "  slice = torch.tensor(slice).unsqueeze(0)  # Add a channel dimension\n"
          ]
        },
        {
          "data": {
            "application/vnd.jupyter.widget-view+json": {
              "model_id": "39113018b37f40ccb3716f8a6d7e3bbc",
              "version_major": 2,
              "version_minor": 0
            },
            "text/plain": [
              "interactive(children=(IntSlider(value=1, description='mri', max=3), IntSlider(value=7, description='slice_numb…"
            ]
          },
          "metadata": {},
          "output_type": "display_data"
        }
      ],
      "source": [
        "Evaluation().visualize_slices(fold=3,index=[4,10,55,61],preprocess_slices=Transformer.select_roi)"
      ]
    },
    {
      "cell_type": "code",
      "execution_count": null,
      "metadata": {
        "gather": {
          "logged": 1701709918623
        }
      },
      "outputs": [],
      "source": [
        "augmentation_transformer = Transformer(\n",
        "    transforms.Compose([transforms.RandomRotation(5),transforms.RandomHorizontalFlip(0.2)]), \"select_roi\"\n",
        ")\n",
        "resnet18_base = DeepModel_Trainer(DataModule(augmentation_transformer), resnet18)\n",
        "resnet18_base.train_model(\"Augmented_weighted\", \"Resnet 18\", num_epochs=8, test_model=False,batchsize_train_data=16,use_mri_images=True,use_tabular_data=False,num_workers=6,\n",
        "                     save_model=False,\n",
        "                     cross_validation=True,lr=0.0001,evaluate_test_set=False,project_name=\"MRI-Modell\",weight_loss=True)"
      ]
    },
    {
      "cell_type": "code",
      "execution_count": null,
      "metadata": {},
      "outputs": [],
      "source": [
        "augmentation_transformer = Transformer(\n",
        "    transforms.Compose([transforms.RandomRotation(5),transforms.RandomHorizontalFlip(0.2)]), \"select_roi\"\n",
        ")\n",
        "resnet18_base = DeepModel_Trainer(DataModule(augmentation_transformer), resnet18)\n",
        "resnet18_base.train_model(\"Augmented_weighted_batchsize_8\", \"Resnet 18\", num_epochs=8, test_model=False,batchsize_train_data=8,use_mri_images=True,use_tabular_data=False,num_workers=6,\n",
        "                     save_model=False,\n",
        "                     cross_validation=True,lr=0.0001,evaluate_test_set=False,project_name=\"MRI-Modell\",weight_loss=True)"
      ]
    },
    {
      "cell_type": "code",
      "execution_count": null,
      "metadata": {},
      "outputs": [],
      "source": [
        "augmentation_transformer = Transformer(\n",
        "    transforms.Compose([transforms.RandomRotation(5),transforms.RandomHorizontalFlip(0.2),transforms.RandomVerticalFlip(0.2),transforms.ColorJitter(0.02,0.02,0.02,0.02)]), \"select_roi\"\n",
        ")\n",
        "resnet18_base = DeepModel_Trainer(DataModule(augmentation_transformer), resnet18)\n",
        "resnet18_base.train_model(\"Augmented_diverse_weighted\", \"Resnet 18\", num_epochs=8, test_model=False,batchsize_train_data=16,use_mri_images=True,use_tabular_data=False,num_workers=6,\n",
        "                     save_model=False,\n",
        "                     cross_validation=True,lr=0.0001,evaluate_test_set=False,project_name=\"MRI-Modell\",weight_loss=True)"
      ]
    },
    {
      "cell_type": "code",
      "execution_count": null,
      "metadata": {},
      "outputs": [],
      "source": [
        "augmentation_transformer = Transformer(\n",
        "    transforms.Compose([transforms.RandomRotation(5),transforms.RandomHorizontalFlip(0.2)]), \"select_roi\"\n",
        ")\n",
        "resnet18_base = DeepModel_Trainer(DataModule(augmentation_transformer), resnet18)\n",
        "resnet18_base.train_model(\"Augmented_weighted_decreased_by_1.5\", \"Resnet 18\", num_epochs=8, test_model=False,batchsize_train_data=16,use_mri_images=True,use_tabular_data=False,num_workers=6,\n",
        "                     save_model=False,\n",
        "                     cross_validation=True,lr=0.0001,evaluate_test_set=False,project_name=\"MRI-Modell\",weight_loss=True,weight_loss_decrease=1.5)"
      ]
    },
    {
      "cell_type": "code",
      "execution_count": 14,
      "metadata": {},
      "outputs": [],
      "source": [
        "# Modify the first convolution layer\n",
        "# Original first conv layer: in_channels=3, out_channels=64, kernel_size=7, stride=2, padding=3, bias=False\n",
        "def resnet18_freezed():\n",
        "    model = models.resnet18(pretrained=True)\n",
        "    model_freeze(model,8)\n",
        "    model.conv1 = nn.Conv2d(in_channels=6, out_channels=64, kernel_size=7, stride=2, padding=3, bias=False)\n",
        "    num_ftrs = model.fc.in_features\n",
        "    model.fc = nn.Linear(num_ftrs, 1)\n",
        "\n",
        "    return model\n",
        "\n",
        "def model_freeze(model,n_block):\n",
        "    backbone = list(model.children())\n",
        "    print(f\"The Backbone has {len(backbone)} blocks\")\n",
        "    ct = 0\n",
        "    for child in backbone:\n",
        "        ct += 1\n",
        "        if ct < n_block:\n",
        "            for param in child.parameters():\n",
        "                param.requires_grad = False\n",
        "        else:\n",
        "            print(\"No freeze\")\n",
        "            print(child)"
      ]
    },
    {
      "cell_type": "code",
      "execution_count": null,
      "metadata": {},
      "outputs": [],
      "source": [
        "augmentation_transformer = Transformer(\n",
        "    transforms.Compose([transforms.RandomRotation(5),transforms.RandomHorizontalFlip(0.2)]), \"select_roi\"\n",
        ")\n",
        "resnet18_base = DeepModel_Trainer(DataModule(augmentation_transformer), resnet18_freezed)\n",
        "resnet18_base.train_model(\"Augmented_weighted_freezed\", \"Resnet 18\", num_epochs=8, test_model=False,batchsize_train_data=16,use_mri_images=True,use_tabular_data=False,num_workers=6,\n",
        "                     save_model=False,\n",
        "                     cross_validation=True,lr=0.0001,evaluate_test_set=False,project_name=\"MRI-Modell\",weight_loss=True)"
      ]
    },
    {
      "cell_type": "code",
      "execution_count": null,
      "metadata": {},
      "outputs": [],
      "source": [
        "small_imsize = Transformer(\n",
        "    None_Transform(), \"select_roi_small_imsize\"\n",
        ")\n",
        "def resnet18_3channel():\n",
        "    model = models.resnet18(pretrained=True)\n",
        "    num_ftrs = model.fc.in_features\n",
        "    model.fc = nn.Linear(num_ftrs, 1)\n",
        "    return model"
      ]
    },
    {
      "cell_type": "code",
      "execution_count": null,
      "metadata": {},
      "outputs": [],
      "source": [
        "resnet18_base = DeepModel_Trainer(DataModule(small_imsize), resnet18_3channel)\n",
        "resnet18_base.train_model(\"Select only 3 channels\", \"Resnet 18\", num_epochs=7, test_model=False,batchsize_train_data=16,use_mri_images=True,use_tabular_data=False,num_workers=6,\n",
        "                     save_model=False,\n",
        "                     cross_validation=True,lr=0.0001,evaluate_test_set=False,project_name=\"MRI-Modell\")"
      ]
    },
    {
      "cell_type": "code",
      "execution_count": null,
      "metadata": {},
      "outputs": [],
      "source": [
        "resnet18_base = DeepModel_Trainer(DataModule(small_imsize), resnet18_3channel)\n",
        "resnet18_base.train_model(\"Select only 3 channels weighted\", \"Resnet 18\", num_epochs=12, test_model=False,batchsize_train_data=16,use_mri_images=True,use_tabular_data=False,num_workers=6,\n",
        "                     save_model=False,\n",
        "                     cross_validation=True,lr=0.0001,evaluate_test_set=False,project_name=\"MRI-Modell\",weight_loss=True)"
      ]
    },
    {
      "cell_type": "code",
      "execution_count": 17,
      "metadata": {},
      "outputs": [
        {
          "name": "stderr",
          "output_type": "stream",
          "text": [
            "Fold-Iteration:   0%|          | 0/5 [00:00<?, ?fold/s]/anaconda/envs/azureml_py38/lib/python3.8/site-packages/torchvision/models/_utils.py:208: UserWarning: The parameter 'pretrained' is deprecated since 0.13 and will be removed in 0.15, please use 'weights' instead.\n",
            "  warnings.warn(\n",
            "/anaconda/envs/azureml_py38/lib/python3.8/site-packages/torchvision/models/_utils.py:223: UserWarning: Arguments other than a weight enum or `None` for 'weights' are deprecated since 0.13 and will be removed in 0.15. The current behavior is equivalent to passing `weights=ResNet18_Weights.IMAGENET1K_V1`. You can also use `weights=ResNet18_Weights.DEFAULT` to get the most up-to-date weights.\n",
            "  warnings.warn(msg)\n",
            "/mnt/batch/tasks/shared/LS_root/mounts/clusters/ksathmed2/code/Users/pro5d-classification-prolactinoma/src/modelling.py:203: UserWarning: To copy construct from a tensor, it is recommended to use sourceTensor.clone().detach() or sourceTensor.clone().detach().requires_grad_(True), rather than torch.tensor(sourceTensor).\n",
            "  data_labels = torch.tensor(batch[\"label\"],dtype=torch.float).to(device)\n",
            "/mnt/batch/tasks/shared/LS_root/mounts/clusters/ksathmed2/code/Users/pro5d-classification-prolactinoma/src/modelling.py:319: UserWarning: To copy construct from a tensor, it is recommended to use sourceTensor.clone().detach() or sourceTensor.clone().detach().requires_grad_(True), rather than torch.tensor(sourceTensor).\n",
            "  data_labels = torch.tensor(batch[\"label\"],dtype=torch.float).to(device)\n",
            "/mnt/batch/tasks/shared/LS_root/mounts/clusters/ksathmed2/code/Users/pro5d-classification-prolactinoma/src/modelling.py:203: UserWarning: To copy construct from a tensor, it is recommended to use sourceTensor.clone().detach() or sourceTensor.clone().detach().requires_grad_(True), rather than torch.tensor(sourceTensor).\n",
            "  data_labels = torch.tensor(batch[\"label\"],dtype=torch.float).to(device)\n",
            "/mnt/batch/tasks/shared/LS_root/mounts/clusters/ksathmed2/code/Users/pro5d-classification-prolactinoma/src/modelling.py:319: UserWarning: To copy construct from a tensor, it is recommended to use sourceTensor.clone().detach() or sourceTensor.clone().detach().requires_grad_(True), rather than torch.tensor(sourceTensor).\n",
            "  data_labels = torch.tensor(batch[\"label\"],dtype=torch.float).to(device)\n",
            "/mnt/batch/tasks/shared/LS_root/mounts/clusters/ksathmed2/code/Users/pro5d-classification-prolactinoma/src/modelling.py:203: UserWarning: To copy construct from a tensor, it is recommended to use sourceTensor.clone().detach() or sourceTensor.clone().detach().requires_grad_(True), rather than torch.tensor(sourceTensor).\n",
            "  data_labels = torch.tensor(batch[\"label\"],dtype=torch.float).to(device)\n",
            "/mnt/batch/tasks/shared/LS_root/mounts/clusters/ksathmed2/code/Users/pro5d-classification-prolactinoma/src/modelling.py:319: UserWarning: To copy construct from a tensor, it is recommended to use sourceTensor.clone().detach() or sourceTensor.clone().detach().requires_grad_(True), rather than torch.tensor(sourceTensor).\n",
            "  data_labels = torch.tensor(batch[\"label\"],dtype=torch.float).to(device)\n",
            "/mnt/batch/tasks/shared/LS_root/mounts/clusters/ksathmed2/code/Users/pro5d-classification-prolactinoma/src/modelling.py:203: UserWarning: To copy construct from a tensor, it is recommended to use sourceTensor.clone().detach() or sourceTensor.clone().detach().requires_grad_(True), rather than torch.tensor(sourceTensor).\n",
            "  data_labels = torch.tensor(batch[\"label\"],dtype=torch.float).to(device)\n",
            "/mnt/batch/tasks/shared/LS_root/mounts/clusters/ksathmed2/code/Users/pro5d-classification-prolactinoma/src/modelling.py:319: UserWarning: To copy construct from a tensor, it is recommended to use sourceTensor.clone().detach() or sourceTensor.clone().detach().requires_grad_(True), rather than torch.tensor(sourceTensor).\n",
            "  data_labels = torch.tensor(batch[\"label\"],dtype=torch.float).to(device)\n",
            "/mnt/batch/tasks/shared/LS_root/mounts/clusters/ksathmed2/code/Users/pro5d-classification-prolactinoma/src/modelling.py:203: UserWarning: To copy construct from a tensor, it is recommended to use sourceTensor.clone().detach() or sourceTensor.clone().detach().requires_grad_(True), rather than torch.tensor(sourceTensor).\n",
            "  data_labels = torch.tensor(batch[\"label\"],dtype=torch.float).to(device)\n",
            "/mnt/batch/tasks/shared/LS_root/mounts/clusters/ksathmed2/code/Users/pro5d-classification-prolactinoma/src/modelling.py:319: UserWarning: To copy construct from a tensor, it is recommended to use sourceTensor.clone().detach() or sourceTensor.clone().detach().requires_grad_(True), rather than torch.tensor(sourceTensor).\n",
            "  data_labels = torch.tensor(batch[\"label\"],dtype=torch.float).to(device)\n",
            "/mnt/batch/tasks/shared/LS_root/mounts/clusters/ksathmed2/code/Users/pro5d-classification-prolactinoma/src/modelling.py:203: UserWarning: To copy construct from a tensor, it is recommended to use sourceTensor.clone().detach() or sourceTensor.clone().detach().requires_grad_(True), rather than torch.tensor(sourceTensor).\n",
            "  data_labels = torch.tensor(batch[\"label\"],dtype=torch.float).to(device)\n",
            "/mnt/batch/tasks/shared/LS_root/mounts/clusters/ksathmed2/code/Users/pro5d-classification-prolactinoma/src/modelling.py:319: UserWarning: To copy construct from a tensor, it is recommended to use sourceTensor.clone().detach() or sourceTensor.clone().detach().requires_grad_(True), rather than torch.tensor(sourceTensor).\n",
            "  data_labels = torch.tensor(batch[\"label\"],dtype=torch.float).to(device)\n",
            "/mnt/batch/tasks/shared/LS_root/mounts/clusters/ksathmed2/code/Users/pro5d-classification-prolactinoma/src/modelling.py:203: UserWarning: To copy construct from a tensor, it is recommended to use sourceTensor.clone().detach() or sourceTensor.clone().detach().requires_grad_(True), rather than torch.tensor(sourceTensor).\n",
            "  data_labels = torch.tensor(batch[\"label\"],dtype=torch.float).to(device)\n",
            "/mnt/batch/tasks/shared/LS_root/mounts/clusters/ksathmed2/code/Users/pro5d-classification-prolactinoma/src/modelling.py:319: UserWarning: To copy construct from a tensor, it is recommended to use sourceTensor.clone().detach() or sourceTensor.clone().detach().requires_grad_(True), rather than torch.tensor(sourceTensor).\n",
            "  data_labels = torch.tensor(batch[\"label\"],dtype=torch.float).to(device)\n",
            "/mnt/batch/tasks/shared/LS_root/mounts/clusters/ksathmed2/code/Users/pro5d-classification-prolactinoma/src/modelling.py:203: UserWarning: To copy construct from a tensor, it is recommended to use sourceTensor.clone().detach() or sourceTensor.clone().detach().requires_grad_(True), rather than torch.tensor(sourceTensor).\n",
            "  data_labels = torch.tensor(batch[\"label\"],dtype=torch.float).to(device)\n",
            "/mnt/batch/tasks/shared/LS_root/mounts/clusters/ksathmed2/code/Users/pro5d-classification-prolactinoma/src/modelling.py:319: UserWarning: To copy construct from a tensor, it is recommended to use sourceTensor.clone().detach() or sourceTensor.clone().detach().requires_grad_(True), rather than torch.tensor(sourceTensor).\n",
            "  data_labels = torch.tensor(batch[\"label\"],dtype=torch.float).to(device)\n",
            "/mnt/batch/tasks/shared/LS_root/mounts/clusters/ksathmed2/code/Users/pro5d-classification-prolactinoma/src/modelling.py:203: UserWarning: To copy construct from a tensor, it is recommended to use sourceTensor.clone().detach() or sourceTensor.clone().detach().requires_grad_(True), rather than torch.tensor(sourceTensor).\n",
            "  data_labels = torch.tensor(batch[\"label\"],dtype=torch.float).to(device)\n",
            "/mnt/batch/tasks/shared/LS_root/mounts/clusters/ksathmed2/code/Users/pro5d-classification-prolactinoma/src/modelling.py:319: UserWarning: To copy construct from a tensor, it is recommended to use sourceTensor.clone().detach() or sourceTensor.clone().detach().requires_grad_(True), rather than torch.tensor(sourceTensor).\n",
            "  data_labels = torch.tensor(batch[\"label\"],dtype=torch.float).to(device)\n",
            "/mnt/batch/tasks/shared/LS_root/mounts/clusters/ksathmed2/code/Users/pro5d-classification-prolactinoma/src/modelling.py:203: UserWarning: To copy construct from a tensor, it is recommended to use sourceTensor.clone().detach() or sourceTensor.clone().detach().requires_grad_(True), rather than torch.tensor(sourceTensor).\n",
            "  data_labels = torch.tensor(batch[\"label\"],dtype=torch.float).to(device)\n",
            "/mnt/batch/tasks/shared/LS_root/mounts/clusters/ksathmed2/code/Users/pro5d-classification-prolactinoma/src/modelling.py:319: UserWarning: To copy construct from a tensor, it is recommended to use sourceTensor.clone().detach() or sourceTensor.clone().detach().requires_grad_(True), rather than torch.tensor(sourceTensor).\n",
            "  data_labels = torch.tensor(batch[\"label\"],dtype=torch.float).to(device)\n",
            "/mnt/batch/tasks/shared/LS_root/mounts/clusters/ksathmed2/code/Users/pro5d-classification-prolactinoma/src/modelling.py:203: UserWarning: To copy construct from a tensor, it is recommended to use sourceTensor.clone().detach() or sourceTensor.clone().detach().requires_grad_(True), rather than torch.tensor(sourceTensor).\n",
            "  data_labels = torch.tensor(batch[\"label\"],dtype=torch.float).to(device)\n",
            "/mnt/batch/tasks/shared/LS_root/mounts/clusters/ksathmed2/code/Users/pro5d-classification-prolactinoma/src/modelling.py:319: UserWarning: To copy construct from a tensor, it is recommended to use sourceTensor.clone().detach() or sourceTensor.clone().detach().requires_grad_(True), rather than torch.tensor(sourceTensor).\n",
            "  data_labels = torch.tensor(batch[\"label\"],dtype=torch.float).to(device)\n",
            "/mnt/batch/tasks/shared/LS_root/mounts/clusters/ksathmed2/code/Users/pro5d-classification-prolactinoma/src/modelling.py:203: UserWarning: To copy construct from a tensor, it is recommended to use sourceTensor.clone().detach() or sourceTensor.clone().detach().requires_grad_(True), rather than torch.tensor(sourceTensor).\n",
            "  data_labels = torch.tensor(batch[\"label\"],dtype=torch.float).to(device)\n",
            "/mnt/batch/tasks/shared/LS_root/mounts/clusters/ksathmed2/code/Users/pro5d-classification-prolactinoma/src/modelling.py:319: UserWarning: To copy construct from a tensor, it is recommended to use sourceTensor.clone().detach() or sourceTensor.clone().detach().requires_grad_(True), rather than torch.tensor(sourceTensor).\n",
            "  data_labels = torch.tensor(batch[\"label\"],dtype=torch.float).to(device)\n",
            "Epoch-Iteration: 100%|██████████| 12/12 [05:25<00:00, 27.15s/epoch]\n",
            "wandb: WARNING Source type is set to 'repo' but some required information is missing from the environment. A job will not be created from this run. See https://docs.wandb.ai/guides/launch/create-job\n",
            "Fold-Iteration:  20%|██        | 1/5 [05:55<23:41, 355.47s/fold]/anaconda/envs/azureml_py38/lib/python3.8/site-packages/torchvision/models/_utils.py:208: UserWarning: The parameter 'pretrained' is deprecated since 0.13 and will be removed in 0.15, please use 'weights' instead.\n",
            "  warnings.warn(\n",
            "/anaconda/envs/azureml_py38/lib/python3.8/site-packages/torchvision/models/_utils.py:223: UserWarning: Arguments other than a weight enum or `None` for 'weights' are deprecated since 0.13 and will be removed in 0.15. The current behavior is equivalent to passing `weights=ResNet18_Weights.IMAGENET1K_V1`. You can also use `weights=ResNet18_Weights.DEFAULT` to get the most up-to-date weights.\n",
            "  warnings.warn(msg)\n",
            "/mnt/batch/tasks/shared/LS_root/mounts/clusters/ksathmed2/code/Users/pro5d-classification-prolactinoma/src/modelling.py:203: UserWarning: To copy construct from a tensor, it is recommended to use sourceTensor.clone().detach() or sourceTensor.clone().detach().requires_grad_(True), rather than torch.tensor(sourceTensor).\n",
            "  data_labels = torch.tensor(batch[\"label\"],dtype=torch.float).to(device)\n",
            "/mnt/batch/tasks/shared/LS_root/mounts/clusters/ksathmed2/code/Users/pro5d-classification-prolactinoma/src/modelling.py:319: UserWarning: To copy construct from a tensor, it is recommended to use sourceTensor.clone().detach() or sourceTensor.clone().detach().requires_grad_(True), rather than torch.tensor(sourceTensor).\n",
            "  data_labels = torch.tensor(batch[\"label\"],dtype=torch.float).to(device)\n",
            "/mnt/batch/tasks/shared/LS_root/mounts/clusters/ksathmed2/code/Users/pro5d-classification-prolactinoma/src/modelling.py:203: UserWarning: To copy construct from a tensor, it is recommended to use sourceTensor.clone().detach() or sourceTensor.clone().detach().requires_grad_(True), rather than torch.tensor(sourceTensor).\n",
            "  data_labels = torch.tensor(batch[\"label\"],dtype=torch.float).to(device)\n",
            "/mnt/batch/tasks/shared/LS_root/mounts/clusters/ksathmed2/code/Users/pro5d-classification-prolactinoma/src/modelling.py:319: UserWarning: To copy construct from a tensor, it is recommended to use sourceTensor.clone().detach() or sourceTensor.clone().detach().requires_grad_(True), rather than torch.tensor(sourceTensor).\n",
            "  data_labels = torch.tensor(batch[\"label\"],dtype=torch.float).to(device)\n",
            "/mnt/batch/tasks/shared/LS_root/mounts/clusters/ksathmed2/code/Users/pro5d-classification-prolactinoma/src/modelling.py:203: UserWarning: To copy construct from a tensor, it is recommended to use sourceTensor.clone().detach() or sourceTensor.clone().detach().requires_grad_(True), rather than torch.tensor(sourceTensor).\n",
            "  data_labels = torch.tensor(batch[\"label\"],dtype=torch.float).to(device)\n",
            "/mnt/batch/tasks/shared/LS_root/mounts/clusters/ksathmed2/code/Users/pro5d-classification-prolactinoma/src/modelling.py:319: UserWarning: To copy construct from a tensor, it is recommended to use sourceTensor.clone().detach() or sourceTensor.clone().detach().requires_grad_(True), rather than torch.tensor(sourceTensor).\n",
            "  data_labels = torch.tensor(batch[\"label\"],dtype=torch.float).to(device)\n",
            "/mnt/batch/tasks/shared/LS_root/mounts/clusters/ksathmed2/code/Users/pro5d-classification-prolactinoma/src/modelling.py:203: UserWarning: To copy construct from a tensor, it is recommended to use sourceTensor.clone().detach() or sourceTensor.clone().detach().requires_grad_(True), rather than torch.tensor(sourceTensor).\n",
            "  data_labels = torch.tensor(batch[\"label\"],dtype=torch.float).to(device)\n",
            "/mnt/batch/tasks/shared/LS_root/mounts/clusters/ksathmed2/code/Users/pro5d-classification-prolactinoma/src/modelling.py:319: UserWarning: To copy construct from a tensor, it is recommended to use sourceTensor.clone().detach() or sourceTensor.clone().detach().requires_grad_(True), rather than torch.tensor(sourceTensor).\n",
            "  data_labels = torch.tensor(batch[\"label\"],dtype=torch.float).to(device)\n",
            "/mnt/batch/tasks/shared/LS_root/mounts/clusters/ksathmed2/code/Users/pro5d-classification-prolactinoma/src/modelling.py:203: UserWarning: To copy construct from a tensor, it is recommended to use sourceTensor.clone().detach() or sourceTensor.clone().detach().requires_grad_(True), rather than torch.tensor(sourceTensor).\n",
            "  data_labels = torch.tensor(batch[\"label\"],dtype=torch.float).to(device)\n",
            "/mnt/batch/tasks/shared/LS_root/mounts/clusters/ksathmed2/code/Users/pro5d-classification-prolactinoma/src/modelling.py:319: UserWarning: To copy construct from a tensor, it is recommended to use sourceTensor.clone().detach() or sourceTensor.clone().detach().requires_grad_(True), rather than torch.tensor(sourceTensor).\n",
            "  data_labels = torch.tensor(batch[\"label\"],dtype=torch.float).to(device)\n",
            "/mnt/batch/tasks/shared/LS_root/mounts/clusters/ksathmed2/code/Users/pro5d-classification-prolactinoma/src/modelling.py:203: UserWarning: To copy construct from a tensor, it is recommended to use sourceTensor.clone().detach() or sourceTensor.clone().detach().requires_grad_(True), rather than torch.tensor(sourceTensor).\n",
            "  data_labels = torch.tensor(batch[\"label\"],dtype=torch.float).to(device)\n",
            "/mnt/batch/tasks/shared/LS_root/mounts/clusters/ksathmed2/code/Users/pro5d-classification-prolactinoma/src/modelling.py:319: UserWarning: To copy construct from a tensor, it is recommended to use sourceTensor.clone().detach() or sourceTensor.clone().detach().requires_grad_(True), rather than torch.tensor(sourceTensor).\n",
            "  data_labels = torch.tensor(batch[\"label\"],dtype=torch.float).to(device)\n",
            "/mnt/batch/tasks/shared/LS_root/mounts/clusters/ksathmed2/code/Users/pro5d-classification-prolactinoma/src/modelling.py:203: UserWarning: To copy construct from a tensor, it is recommended to use sourceTensor.clone().detach() or sourceTensor.clone().detach().requires_grad_(True), rather than torch.tensor(sourceTensor).\n",
            "  data_labels = torch.tensor(batch[\"label\"],dtype=torch.float).to(device)\n",
            "/mnt/batch/tasks/shared/LS_root/mounts/clusters/ksathmed2/code/Users/pro5d-classification-prolactinoma/src/modelling.py:319: UserWarning: To copy construct from a tensor, it is recommended to use sourceTensor.clone().detach() or sourceTensor.clone().detach().requires_grad_(True), rather than torch.tensor(sourceTensor).\n",
            "  data_labels = torch.tensor(batch[\"label\"],dtype=torch.float).to(device)\n",
            "/mnt/batch/tasks/shared/LS_root/mounts/clusters/ksathmed2/code/Users/pro5d-classification-prolactinoma/src/modelling.py:203: UserWarning: To copy construct from a tensor, it is recommended to use sourceTensor.clone().detach() or sourceTensor.clone().detach().requires_grad_(True), rather than torch.tensor(sourceTensor).\n",
            "  data_labels = torch.tensor(batch[\"label\"],dtype=torch.float).to(device)\n",
            "/mnt/batch/tasks/shared/LS_root/mounts/clusters/ksathmed2/code/Users/pro5d-classification-prolactinoma/src/modelling.py:319: UserWarning: To copy construct from a tensor, it is recommended to use sourceTensor.clone().detach() or sourceTensor.clone().detach().requires_grad_(True), rather than torch.tensor(sourceTensor).\n",
            "  data_labels = torch.tensor(batch[\"label\"],dtype=torch.float).to(device)\n",
            "/mnt/batch/tasks/shared/LS_root/mounts/clusters/ksathmed2/code/Users/pro5d-classification-prolactinoma/src/modelling.py:203: UserWarning: To copy construct from a tensor, it is recommended to use sourceTensor.clone().detach() or sourceTensor.clone().detach().requires_grad_(True), rather than torch.tensor(sourceTensor).\n",
            "  data_labels = torch.tensor(batch[\"label\"],dtype=torch.float).to(device)\n",
            "/mnt/batch/tasks/shared/LS_root/mounts/clusters/ksathmed2/code/Users/pro5d-classification-prolactinoma/src/modelling.py:319: UserWarning: To copy construct from a tensor, it is recommended to use sourceTensor.clone().detach() or sourceTensor.clone().detach().requires_grad_(True), rather than torch.tensor(sourceTensor).\n",
            "  data_labels = torch.tensor(batch[\"label\"],dtype=torch.float).to(device)\n",
            "/mnt/batch/tasks/shared/LS_root/mounts/clusters/ksathmed2/code/Users/pro5d-classification-prolactinoma/src/modelling.py:203: UserWarning: To copy construct from a tensor, it is recommended to use sourceTensor.clone().detach() or sourceTensor.clone().detach().requires_grad_(True), rather than torch.tensor(sourceTensor).\n",
            "  data_labels = torch.tensor(batch[\"label\"],dtype=torch.float).to(device)\n",
            "/mnt/batch/tasks/shared/LS_root/mounts/clusters/ksathmed2/code/Users/pro5d-classification-prolactinoma/src/modelling.py:319: UserWarning: To copy construct from a tensor, it is recommended to use sourceTensor.clone().detach() or sourceTensor.clone().detach().requires_grad_(True), rather than torch.tensor(sourceTensor).\n",
            "  data_labels = torch.tensor(batch[\"label\"],dtype=torch.float).to(device)\n",
            "/mnt/batch/tasks/shared/LS_root/mounts/clusters/ksathmed2/code/Users/pro5d-classification-prolactinoma/src/modelling.py:203: UserWarning: To copy construct from a tensor, it is recommended to use sourceTensor.clone().detach() or sourceTensor.clone().detach().requires_grad_(True), rather than torch.tensor(sourceTensor).\n",
            "  data_labels = torch.tensor(batch[\"label\"],dtype=torch.float).to(device)\n",
            "/mnt/batch/tasks/shared/LS_root/mounts/clusters/ksathmed2/code/Users/pro5d-classification-prolactinoma/src/modelling.py:319: UserWarning: To copy construct from a tensor, it is recommended to use sourceTensor.clone().detach() or sourceTensor.clone().detach().requires_grad_(True), rather than torch.tensor(sourceTensor).\n",
            "  data_labels = torch.tensor(batch[\"label\"],dtype=torch.float).to(device)\n",
            "/mnt/batch/tasks/shared/LS_root/mounts/clusters/ksathmed2/code/Users/pro5d-classification-prolactinoma/src/modelling.py:203: UserWarning: To copy construct from a tensor, it is recommended to use sourceTensor.clone().detach() or sourceTensor.clone().detach().requires_grad_(True), rather than torch.tensor(sourceTensor).\n",
            "  data_labels = torch.tensor(batch[\"label\"],dtype=torch.float).to(device)\n",
            "/mnt/batch/tasks/shared/LS_root/mounts/clusters/ksathmed2/code/Users/pro5d-classification-prolactinoma/src/modelling.py:319: UserWarning: To copy construct from a tensor, it is recommended to use sourceTensor.clone().detach() or sourceTensor.clone().detach().requires_grad_(True), rather than torch.tensor(sourceTensor).\n",
            "  data_labels = torch.tensor(batch[\"label\"],dtype=torch.float).to(device)\n",
            "Epoch-Iteration: 100%|██████████| 12/12 [04:53<00:00, 24.45s/epoch]\n",
            "wandb: WARNING Source type is set to 'repo' but some required information is missing from the environment. A job will not be created from this run. See https://docs.wandb.ai/guides/launch/create-job\n",
            "Fold-Iteration:  40%|████      | 2/5 [11:19<16:50, 336.75s/fold]/anaconda/envs/azureml_py38/lib/python3.8/site-packages/torchvision/models/_utils.py:208: UserWarning: The parameter 'pretrained' is deprecated since 0.13 and will be removed in 0.15, please use 'weights' instead.\n",
            "  warnings.warn(\n",
            "/anaconda/envs/azureml_py38/lib/python3.8/site-packages/torchvision/models/_utils.py:223: UserWarning: Arguments other than a weight enum or `None` for 'weights' are deprecated since 0.13 and will be removed in 0.15. The current behavior is equivalent to passing `weights=ResNet18_Weights.IMAGENET1K_V1`. You can also use `weights=ResNet18_Weights.DEFAULT` to get the most up-to-date weights.\n",
            "  warnings.warn(msg)\n",
            "/mnt/batch/tasks/shared/LS_root/mounts/clusters/ksathmed2/code/Users/pro5d-classification-prolactinoma/src/modelling.py:203: UserWarning: To copy construct from a tensor, it is recommended to use sourceTensor.clone().detach() or sourceTensor.clone().detach().requires_grad_(True), rather than torch.tensor(sourceTensor).\n",
            "  data_labels = torch.tensor(batch[\"label\"],dtype=torch.float).to(device)\n",
            "/mnt/batch/tasks/shared/LS_root/mounts/clusters/ksathmed2/code/Users/pro5d-classification-prolactinoma/src/modelling.py:319: UserWarning: To copy construct from a tensor, it is recommended to use sourceTensor.clone().detach() or sourceTensor.clone().detach().requires_grad_(True), rather than torch.tensor(sourceTensor).\n",
            "  data_labels = torch.tensor(batch[\"label\"],dtype=torch.float).to(device)\n",
            "/mnt/batch/tasks/shared/LS_root/mounts/clusters/ksathmed2/code/Users/pro5d-classification-prolactinoma/src/modelling.py:203: UserWarning: To copy construct from a tensor, it is recommended to use sourceTensor.clone().detach() or sourceTensor.clone().detach().requires_grad_(True), rather than torch.tensor(sourceTensor).\n",
            "  data_labels = torch.tensor(batch[\"label\"],dtype=torch.float).to(device)\n",
            "/mnt/batch/tasks/shared/LS_root/mounts/clusters/ksathmed2/code/Users/pro5d-classification-prolactinoma/src/modelling.py:319: UserWarning: To copy construct from a tensor, it is recommended to use sourceTensor.clone().detach() or sourceTensor.clone().detach().requires_grad_(True), rather than torch.tensor(sourceTensor).\n",
            "  data_labels = torch.tensor(batch[\"label\"],dtype=torch.float).to(device)\n",
            "/mnt/batch/tasks/shared/LS_root/mounts/clusters/ksathmed2/code/Users/pro5d-classification-prolactinoma/src/modelling.py:203: UserWarning: To copy construct from a tensor, it is recommended to use sourceTensor.clone().detach() or sourceTensor.clone().detach().requires_grad_(True), rather than torch.tensor(sourceTensor).\n",
            "  data_labels = torch.tensor(batch[\"label\"],dtype=torch.float).to(device)\n",
            "/mnt/batch/tasks/shared/LS_root/mounts/clusters/ksathmed2/code/Users/pro5d-classification-prolactinoma/src/modelling.py:319: UserWarning: To copy construct from a tensor, it is recommended to use sourceTensor.clone().detach() or sourceTensor.clone().detach().requires_grad_(True), rather than torch.tensor(sourceTensor).\n",
            "  data_labels = torch.tensor(batch[\"label\"],dtype=torch.float).to(device)\n",
            "/mnt/batch/tasks/shared/LS_root/mounts/clusters/ksathmed2/code/Users/pro5d-classification-prolactinoma/src/modelling.py:203: UserWarning: To copy construct from a tensor, it is recommended to use sourceTensor.clone().detach() or sourceTensor.clone().detach().requires_grad_(True), rather than torch.tensor(sourceTensor).\n",
            "  data_labels = torch.tensor(batch[\"label\"],dtype=torch.float).to(device)\n",
            "/mnt/batch/tasks/shared/LS_root/mounts/clusters/ksathmed2/code/Users/pro5d-classification-prolactinoma/src/modelling.py:319: UserWarning: To copy construct from a tensor, it is recommended to use sourceTensor.clone().detach() or sourceTensor.clone().detach().requires_grad_(True), rather than torch.tensor(sourceTensor).\n",
            "  data_labels = torch.tensor(batch[\"label\"],dtype=torch.float).to(device)\n",
            "/mnt/batch/tasks/shared/LS_root/mounts/clusters/ksathmed2/code/Users/pro5d-classification-prolactinoma/src/modelling.py:203: UserWarning: To copy construct from a tensor, it is recommended to use sourceTensor.clone().detach() or sourceTensor.clone().detach().requires_grad_(True), rather than torch.tensor(sourceTensor).\n",
            "  data_labels = torch.tensor(batch[\"label\"],dtype=torch.float).to(device)\n",
            "/mnt/batch/tasks/shared/LS_root/mounts/clusters/ksathmed2/code/Users/pro5d-classification-prolactinoma/src/modelling.py:319: UserWarning: To copy construct from a tensor, it is recommended to use sourceTensor.clone().detach() or sourceTensor.clone().detach().requires_grad_(True), rather than torch.tensor(sourceTensor).\n",
            "  data_labels = torch.tensor(batch[\"label\"],dtype=torch.float).to(device)\n",
            "/mnt/batch/tasks/shared/LS_root/mounts/clusters/ksathmed2/code/Users/pro5d-classification-prolactinoma/src/modelling.py:203: UserWarning: To copy construct from a tensor, it is recommended to use sourceTensor.clone().detach() or sourceTensor.clone().detach().requires_grad_(True), rather than torch.tensor(sourceTensor).\n",
            "  data_labels = torch.tensor(batch[\"label\"],dtype=torch.float).to(device)\n",
            "/mnt/batch/tasks/shared/LS_root/mounts/clusters/ksathmed2/code/Users/pro5d-classification-prolactinoma/src/modelling.py:319: UserWarning: To copy construct from a tensor, it is recommended to use sourceTensor.clone().detach() or sourceTensor.clone().detach().requires_grad_(True), rather than torch.tensor(sourceTensor).\n",
            "  data_labels = torch.tensor(batch[\"label\"],dtype=torch.float).to(device)\n",
            "/mnt/batch/tasks/shared/LS_root/mounts/clusters/ksathmed2/code/Users/pro5d-classification-prolactinoma/src/modelling.py:203: UserWarning: To copy construct from a tensor, it is recommended to use sourceTensor.clone().detach() or sourceTensor.clone().detach().requires_grad_(True), rather than torch.tensor(sourceTensor).\n",
            "  data_labels = torch.tensor(batch[\"label\"],dtype=torch.float).to(device)\n",
            "/mnt/batch/tasks/shared/LS_root/mounts/clusters/ksathmed2/code/Users/pro5d-classification-prolactinoma/src/modelling.py:319: UserWarning: To copy construct from a tensor, it is recommended to use sourceTensor.clone().detach() or sourceTensor.clone().detach().requires_grad_(True), rather than torch.tensor(sourceTensor).\n",
            "  data_labels = torch.tensor(batch[\"label\"],dtype=torch.float).to(device)\n",
            "/mnt/batch/tasks/shared/LS_root/mounts/clusters/ksathmed2/code/Users/pro5d-classification-prolactinoma/src/modelling.py:203: UserWarning: To copy construct from a tensor, it is recommended to use sourceTensor.clone().detach() or sourceTensor.clone().detach().requires_grad_(True), rather than torch.tensor(sourceTensor).\n",
            "  data_labels = torch.tensor(batch[\"label\"],dtype=torch.float).to(device)\n",
            "/mnt/batch/tasks/shared/LS_root/mounts/clusters/ksathmed2/code/Users/pro5d-classification-prolactinoma/src/modelling.py:319: UserWarning: To copy construct from a tensor, it is recommended to use sourceTensor.clone().detach() or sourceTensor.clone().detach().requires_grad_(True), rather than torch.tensor(sourceTensor).\n",
            "  data_labels = torch.tensor(batch[\"label\"],dtype=torch.float).to(device)\n",
            "/mnt/batch/tasks/shared/LS_root/mounts/clusters/ksathmed2/code/Users/pro5d-classification-prolactinoma/src/modelling.py:203: UserWarning: To copy construct from a tensor, it is recommended to use sourceTensor.clone().detach() or sourceTensor.clone().detach().requires_grad_(True), rather than torch.tensor(sourceTensor).\n",
            "  data_labels = torch.tensor(batch[\"label\"],dtype=torch.float).to(device)\n",
            "/mnt/batch/tasks/shared/LS_root/mounts/clusters/ksathmed2/code/Users/pro5d-classification-prolactinoma/src/modelling.py:319: UserWarning: To copy construct from a tensor, it is recommended to use sourceTensor.clone().detach() or sourceTensor.clone().detach().requires_grad_(True), rather than torch.tensor(sourceTensor).\n",
            "  data_labels = torch.tensor(batch[\"label\"],dtype=torch.float).to(device)\n",
            "/mnt/batch/tasks/shared/LS_root/mounts/clusters/ksathmed2/code/Users/pro5d-classification-prolactinoma/src/modelling.py:203: UserWarning: To copy construct from a tensor, it is recommended to use sourceTensor.clone().detach() or sourceTensor.clone().detach().requires_grad_(True), rather than torch.tensor(sourceTensor).\n",
            "  data_labels = torch.tensor(batch[\"label\"],dtype=torch.float).to(device)\n",
            "/mnt/batch/tasks/shared/LS_root/mounts/clusters/ksathmed2/code/Users/pro5d-classification-prolactinoma/src/modelling.py:319: UserWarning: To copy construct from a tensor, it is recommended to use sourceTensor.clone().detach() or sourceTensor.clone().detach().requires_grad_(True), rather than torch.tensor(sourceTensor).\n",
            "  data_labels = torch.tensor(batch[\"label\"],dtype=torch.float).to(device)\n",
            "/mnt/batch/tasks/shared/LS_root/mounts/clusters/ksathmed2/code/Users/pro5d-classification-prolactinoma/src/modelling.py:203: UserWarning: To copy construct from a tensor, it is recommended to use sourceTensor.clone().detach() or sourceTensor.clone().detach().requires_grad_(True), rather than torch.tensor(sourceTensor).\n",
            "  data_labels = torch.tensor(batch[\"label\"],dtype=torch.float).to(device)\n",
            "/mnt/batch/tasks/shared/LS_root/mounts/clusters/ksathmed2/code/Users/pro5d-classification-prolactinoma/src/modelling.py:319: UserWarning: To copy construct from a tensor, it is recommended to use sourceTensor.clone().detach() or sourceTensor.clone().detach().requires_grad_(True), rather than torch.tensor(sourceTensor).\n",
            "  data_labels = torch.tensor(batch[\"label\"],dtype=torch.float).to(device)\n",
            "/mnt/batch/tasks/shared/LS_root/mounts/clusters/ksathmed2/code/Users/pro5d-classification-prolactinoma/src/modelling.py:203: UserWarning: To copy construct from a tensor, it is recommended to use sourceTensor.clone().detach() or sourceTensor.clone().detach().requires_grad_(True), rather than torch.tensor(sourceTensor).\n",
            "  data_labels = torch.tensor(batch[\"label\"],dtype=torch.float).to(device)\n",
            "/mnt/batch/tasks/shared/LS_root/mounts/clusters/ksathmed2/code/Users/pro5d-classification-prolactinoma/src/modelling.py:319: UserWarning: To copy construct from a tensor, it is recommended to use sourceTensor.clone().detach() or sourceTensor.clone().detach().requires_grad_(True), rather than torch.tensor(sourceTensor).\n",
            "  data_labels = torch.tensor(batch[\"label\"],dtype=torch.float).to(device)\n",
            "Epoch-Iteration: 100%|██████████| 12/12 [04:35<00:00, 22.92s/epoch]\n",
            "wandb: WARNING Source type is set to 'repo' but some required information is missing from the environment. A job will not be created from this run. See https://docs.wandb.ai/guides/launch/create-job\n",
            "Fold-Iteration:  60%|██████    | 3/5 [16:24<10:44, 322.39s/fold]/anaconda/envs/azureml_py38/lib/python3.8/site-packages/torchvision/models/_utils.py:208: UserWarning: The parameter 'pretrained' is deprecated since 0.13 and will be removed in 0.15, please use 'weights' instead.\n",
            "  warnings.warn(\n",
            "/anaconda/envs/azureml_py38/lib/python3.8/site-packages/torchvision/models/_utils.py:223: UserWarning: Arguments other than a weight enum or `None` for 'weights' are deprecated since 0.13 and will be removed in 0.15. The current behavior is equivalent to passing `weights=ResNet18_Weights.IMAGENET1K_V1`. You can also use `weights=ResNet18_Weights.DEFAULT` to get the most up-to-date weights.\n",
            "  warnings.warn(msg)\n",
            "/mnt/batch/tasks/shared/LS_root/mounts/clusters/ksathmed2/code/Users/pro5d-classification-prolactinoma/src/modelling.py:203: UserWarning: To copy construct from a tensor, it is recommended to use sourceTensor.clone().detach() or sourceTensor.clone().detach().requires_grad_(True), rather than torch.tensor(sourceTensor).\n",
            "  data_labels = torch.tensor(batch[\"label\"],dtype=torch.float).to(device)\n",
            "/mnt/batch/tasks/shared/LS_root/mounts/clusters/ksathmed2/code/Users/pro5d-classification-prolactinoma/src/modelling.py:319: UserWarning: To copy construct from a tensor, it is recommended to use sourceTensor.clone().detach() or sourceTensor.clone().detach().requires_grad_(True), rather than torch.tensor(sourceTensor).\n",
            "  data_labels = torch.tensor(batch[\"label\"],dtype=torch.float).to(device)\n",
            "/mnt/batch/tasks/shared/LS_root/mounts/clusters/ksathmed2/code/Users/pro5d-classification-prolactinoma/src/modelling.py:203: UserWarning: To copy construct from a tensor, it is recommended to use sourceTensor.clone().detach() or sourceTensor.clone().detach().requires_grad_(True), rather than torch.tensor(sourceTensor).\n",
            "  data_labels = torch.tensor(batch[\"label\"],dtype=torch.float).to(device)\n",
            "/mnt/batch/tasks/shared/LS_root/mounts/clusters/ksathmed2/code/Users/pro5d-classification-prolactinoma/src/modelling.py:319: UserWarning: To copy construct from a tensor, it is recommended to use sourceTensor.clone().detach() or sourceTensor.clone().detach().requires_grad_(True), rather than torch.tensor(sourceTensor).\n",
            "  data_labels = torch.tensor(batch[\"label\"],dtype=torch.float).to(device)\n",
            "/mnt/batch/tasks/shared/LS_root/mounts/clusters/ksathmed2/code/Users/pro5d-classification-prolactinoma/src/modelling.py:203: UserWarning: To copy construct from a tensor, it is recommended to use sourceTensor.clone().detach() or sourceTensor.clone().detach().requires_grad_(True), rather than torch.tensor(sourceTensor).\n",
            "  data_labels = torch.tensor(batch[\"label\"],dtype=torch.float).to(device)\n",
            "/mnt/batch/tasks/shared/LS_root/mounts/clusters/ksathmed2/code/Users/pro5d-classification-prolactinoma/src/modelling.py:319: UserWarning: To copy construct from a tensor, it is recommended to use sourceTensor.clone().detach() or sourceTensor.clone().detach().requires_grad_(True), rather than torch.tensor(sourceTensor).\n",
            "  data_labels = torch.tensor(batch[\"label\"],dtype=torch.float).to(device)\n",
            "/mnt/batch/tasks/shared/LS_root/mounts/clusters/ksathmed2/code/Users/pro5d-classification-prolactinoma/src/modelling.py:203: UserWarning: To copy construct from a tensor, it is recommended to use sourceTensor.clone().detach() or sourceTensor.clone().detach().requires_grad_(True), rather than torch.tensor(sourceTensor).\n",
            "  data_labels = torch.tensor(batch[\"label\"],dtype=torch.float).to(device)\n",
            "/mnt/batch/tasks/shared/LS_root/mounts/clusters/ksathmed2/code/Users/pro5d-classification-prolactinoma/src/modelling.py:319: UserWarning: To copy construct from a tensor, it is recommended to use sourceTensor.clone().detach() or sourceTensor.clone().detach().requires_grad_(True), rather than torch.tensor(sourceTensor).\n",
            "  data_labels = torch.tensor(batch[\"label\"],dtype=torch.float).to(device)\n",
            "/mnt/batch/tasks/shared/LS_root/mounts/clusters/ksathmed2/code/Users/pro5d-classification-prolactinoma/src/modelling.py:203: UserWarning: To copy construct from a tensor, it is recommended to use sourceTensor.clone().detach() or sourceTensor.clone().detach().requires_grad_(True), rather than torch.tensor(sourceTensor).\n",
            "  data_labels = torch.tensor(batch[\"label\"],dtype=torch.float).to(device)\n",
            "/mnt/batch/tasks/shared/LS_root/mounts/clusters/ksathmed2/code/Users/pro5d-classification-prolactinoma/src/modelling.py:319: UserWarning: To copy construct from a tensor, it is recommended to use sourceTensor.clone().detach() or sourceTensor.clone().detach().requires_grad_(True), rather than torch.tensor(sourceTensor).\n",
            "  data_labels = torch.tensor(batch[\"label\"],dtype=torch.float).to(device)\n",
            "/mnt/batch/tasks/shared/LS_root/mounts/clusters/ksathmed2/code/Users/pro5d-classification-prolactinoma/src/modelling.py:203: UserWarning: To copy construct from a tensor, it is recommended to use sourceTensor.clone().detach() or sourceTensor.clone().detach().requires_grad_(True), rather than torch.tensor(sourceTensor).\n",
            "  data_labels = torch.tensor(batch[\"label\"],dtype=torch.float).to(device)\n",
            "/mnt/batch/tasks/shared/LS_root/mounts/clusters/ksathmed2/code/Users/pro5d-classification-prolactinoma/src/modelling.py:319: UserWarning: To copy construct from a tensor, it is recommended to use sourceTensor.clone().detach() or sourceTensor.clone().detach().requires_grad_(True), rather than torch.tensor(sourceTensor).\n",
            "  data_labels = torch.tensor(batch[\"label\"],dtype=torch.float).to(device)\n",
            "/mnt/batch/tasks/shared/LS_root/mounts/clusters/ksathmed2/code/Users/pro5d-classification-prolactinoma/src/modelling.py:203: UserWarning: To copy construct from a tensor, it is recommended to use sourceTensor.clone().detach() or sourceTensor.clone().detach().requires_grad_(True), rather than torch.tensor(sourceTensor).\n",
            "  data_labels = torch.tensor(batch[\"label\"],dtype=torch.float).to(device)\n",
            "/mnt/batch/tasks/shared/LS_root/mounts/clusters/ksathmed2/code/Users/pro5d-classification-prolactinoma/src/modelling.py:319: UserWarning: To copy construct from a tensor, it is recommended to use sourceTensor.clone().detach() or sourceTensor.clone().detach().requires_grad_(True), rather than torch.tensor(sourceTensor).\n",
            "  data_labels = torch.tensor(batch[\"label\"],dtype=torch.float).to(device)\n",
            "/mnt/batch/tasks/shared/LS_root/mounts/clusters/ksathmed2/code/Users/pro5d-classification-prolactinoma/src/modelling.py:203: UserWarning: To copy construct from a tensor, it is recommended to use sourceTensor.clone().detach() or sourceTensor.clone().detach().requires_grad_(True), rather than torch.tensor(sourceTensor).\n",
            "  data_labels = torch.tensor(batch[\"label\"],dtype=torch.float).to(device)\n",
            "/mnt/batch/tasks/shared/LS_root/mounts/clusters/ksathmed2/code/Users/pro5d-classification-prolactinoma/src/modelling.py:319: UserWarning: To copy construct from a tensor, it is recommended to use sourceTensor.clone().detach() or sourceTensor.clone().detach().requires_grad_(True), rather than torch.tensor(sourceTensor).\n",
            "  data_labels = torch.tensor(batch[\"label\"],dtype=torch.float).to(device)\n",
            "/mnt/batch/tasks/shared/LS_root/mounts/clusters/ksathmed2/code/Users/pro5d-classification-prolactinoma/src/modelling.py:203: UserWarning: To copy construct from a tensor, it is recommended to use sourceTensor.clone().detach() or sourceTensor.clone().detach().requires_grad_(True), rather than torch.tensor(sourceTensor).\n",
            "  data_labels = torch.tensor(batch[\"label\"],dtype=torch.float).to(device)\n",
            "/mnt/batch/tasks/shared/LS_root/mounts/clusters/ksathmed2/code/Users/pro5d-classification-prolactinoma/src/modelling.py:319: UserWarning: To copy construct from a tensor, it is recommended to use sourceTensor.clone().detach() or sourceTensor.clone().detach().requires_grad_(True), rather than torch.tensor(sourceTensor).\n",
            "  data_labels = torch.tensor(batch[\"label\"],dtype=torch.float).to(device)\n",
            "/mnt/batch/tasks/shared/LS_root/mounts/clusters/ksathmed2/code/Users/pro5d-classification-prolactinoma/src/modelling.py:203: UserWarning: To copy construct from a tensor, it is recommended to use sourceTensor.clone().detach() or sourceTensor.clone().detach().requires_grad_(True), rather than torch.tensor(sourceTensor).\n",
            "  data_labels = torch.tensor(batch[\"label\"],dtype=torch.float).to(device)\n",
            "/mnt/batch/tasks/shared/LS_root/mounts/clusters/ksathmed2/code/Users/pro5d-classification-prolactinoma/src/modelling.py:319: UserWarning: To copy construct from a tensor, it is recommended to use sourceTensor.clone().detach() or sourceTensor.clone().detach().requires_grad_(True), rather than torch.tensor(sourceTensor).\n",
            "  data_labels = torch.tensor(batch[\"label\"],dtype=torch.float).to(device)\n",
            "/mnt/batch/tasks/shared/LS_root/mounts/clusters/ksathmed2/code/Users/pro5d-classification-prolactinoma/src/modelling.py:203: UserWarning: To copy construct from a tensor, it is recommended to use sourceTensor.clone().detach() or sourceTensor.clone().detach().requires_grad_(True), rather than torch.tensor(sourceTensor).\n",
            "  data_labels = torch.tensor(batch[\"label\"],dtype=torch.float).to(device)\n",
            "/mnt/batch/tasks/shared/LS_root/mounts/clusters/ksathmed2/code/Users/pro5d-classification-prolactinoma/src/modelling.py:319: UserWarning: To copy construct from a tensor, it is recommended to use sourceTensor.clone().detach() or sourceTensor.clone().detach().requires_grad_(True), rather than torch.tensor(sourceTensor).\n",
            "  data_labels = torch.tensor(batch[\"label\"],dtype=torch.float).to(device)\n",
            "/mnt/batch/tasks/shared/LS_root/mounts/clusters/ksathmed2/code/Users/pro5d-classification-prolactinoma/src/modelling.py:203: UserWarning: To copy construct from a tensor, it is recommended to use sourceTensor.clone().detach() or sourceTensor.clone().detach().requires_grad_(True), rather than torch.tensor(sourceTensor).\n",
            "  data_labels = torch.tensor(batch[\"label\"],dtype=torch.float).to(device)\n",
            "/mnt/batch/tasks/shared/LS_root/mounts/clusters/ksathmed2/code/Users/pro5d-classification-prolactinoma/src/modelling.py:319: UserWarning: To copy construct from a tensor, it is recommended to use sourceTensor.clone().detach() or sourceTensor.clone().detach().requires_grad_(True), rather than torch.tensor(sourceTensor).\n",
            "  data_labels = torch.tensor(batch[\"label\"],dtype=torch.float).to(device)\n",
            "Epoch-Iteration: 100%|██████████| 12/12 [05:41<00:00, 28.50s/epoch]\n",
            "wandb: WARNING Source type is set to 'repo' but some required information is missing from the environment. A job will not be created from this run. See https://docs.wandb.ai/guides/launch/create-job\n",
            "Fold-Iteration:  80%|████████  | 4/5 [22:34<05:41, 341.19s/fold]/anaconda/envs/azureml_py38/lib/python3.8/site-packages/torchvision/models/_utils.py:208: UserWarning: The parameter 'pretrained' is deprecated since 0.13 and will be removed in 0.15, please use 'weights' instead.\n",
            "  warnings.warn(\n",
            "/anaconda/envs/azureml_py38/lib/python3.8/site-packages/torchvision/models/_utils.py:223: UserWarning: Arguments other than a weight enum or `None` for 'weights' are deprecated since 0.13 and will be removed in 0.15. The current behavior is equivalent to passing `weights=ResNet18_Weights.IMAGENET1K_V1`. You can also use `weights=ResNet18_Weights.DEFAULT` to get the most up-to-date weights.\n",
            "  warnings.warn(msg)\n",
            "/mnt/batch/tasks/shared/LS_root/mounts/clusters/ksathmed2/code/Users/pro5d-classification-prolactinoma/src/modelling.py:203: UserWarning: To copy construct from a tensor, it is recommended to use sourceTensor.clone().detach() or sourceTensor.clone().detach().requires_grad_(True), rather than torch.tensor(sourceTensor).\n",
            "  data_labels = torch.tensor(batch[\"label\"],dtype=torch.float).to(device)\n",
            "/mnt/batch/tasks/shared/LS_root/mounts/clusters/ksathmed2/code/Users/pro5d-classification-prolactinoma/src/modelling.py:319: UserWarning: To copy construct from a tensor, it is recommended to use sourceTensor.clone().detach() or sourceTensor.clone().detach().requires_grad_(True), rather than torch.tensor(sourceTensor).\n",
            "  data_labels = torch.tensor(batch[\"label\"],dtype=torch.float).to(device)\n",
            "/mnt/batch/tasks/shared/LS_root/mounts/clusters/ksathmed2/code/Users/pro5d-classification-prolactinoma/src/modelling.py:203: UserWarning: To copy construct from a tensor, it is recommended to use sourceTensor.clone().detach() or sourceTensor.clone().detach().requires_grad_(True), rather than torch.tensor(sourceTensor).\n",
            "  data_labels = torch.tensor(batch[\"label\"],dtype=torch.float).to(device)\n",
            "/mnt/batch/tasks/shared/LS_root/mounts/clusters/ksathmed2/code/Users/pro5d-classification-prolactinoma/src/modelling.py:319: UserWarning: To copy construct from a tensor, it is recommended to use sourceTensor.clone().detach() or sourceTensor.clone().detach().requires_grad_(True), rather than torch.tensor(sourceTensor).\n",
            "  data_labels = torch.tensor(batch[\"label\"],dtype=torch.float).to(device)\n",
            "/mnt/batch/tasks/shared/LS_root/mounts/clusters/ksathmed2/code/Users/pro5d-classification-prolactinoma/src/modelling.py:203: UserWarning: To copy construct from a tensor, it is recommended to use sourceTensor.clone().detach() or sourceTensor.clone().detach().requires_grad_(True), rather than torch.tensor(sourceTensor).\n",
            "  data_labels = torch.tensor(batch[\"label\"],dtype=torch.float).to(device)\n",
            "/mnt/batch/tasks/shared/LS_root/mounts/clusters/ksathmed2/code/Users/pro5d-classification-prolactinoma/src/modelling.py:319: UserWarning: To copy construct from a tensor, it is recommended to use sourceTensor.clone().detach() or sourceTensor.clone().detach().requires_grad_(True), rather than torch.tensor(sourceTensor).\n",
            "  data_labels = torch.tensor(batch[\"label\"],dtype=torch.float).to(device)\n",
            "/mnt/batch/tasks/shared/LS_root/mounts/clusters/ksathmed2/code/Users/pro5d-classification-prolactinoma/src/modelling.py:203: UserWarning: To copy construct from a tensor, it is recommended to use sourceTensor.clone().detach() or sourceTensor.clone().detach().requires_grad_(True), rather than torch.tensor(sourceTensor).\n",
            "  data_labels = torch.tensor(batch[\"label\"],dtype=torch.float).to(device)\n",
            "/mnt/batch/tasks/shared/LS_root/mounts/clusters/ksathmed2/code/Users/pro5d-classification-prolactinoma/src/modelling.py:319: UserWarning: To copy construct from a tensor, it is recommended to use sourceTensor.clone().detach() or sourceTensor.clone().detach().requires_grad_(True), rather than torch.tensor(sourceTensor).\n",
            "  data_labels = torch.tensor(batch[\"label\"],dtype=torch.float).to(device)\n",
            "/mnt/batch/tasks/shared/LS_root/mounts/clusters/ksathmed2/code/Users/pro5d-classification-prolactinoma/src/modelling.py:203: UserWarning: To copy construct from a tensor, it is recommended to use sourceTensor.clone().detach() or sourceTensor.clone().detach().requires_grad_(True), rather than torch.tensor(sourceTensor).\n",
            "  data_labels = torch.tensor(batch[\"label\"],dtype=torch.float).to(device)\n",
            "/mnt/batch/tasks/shared/LS_root/mounts/clusters/ksathmed2/code/Users/pro5d-classification-prolactinoma/src/modelling.py:319: UserWarning: To copy construct from a tensor, it is recommended to use sourceTensor.clone().detach() or sourceTensor.clone().detach().requires_grad_(True), rather than torch.tensor(sourceTensor).\n",
            "  data_labels = torch.tensor(batch[\"label\"],dtype=torch.float).to(device)\n"
          ]
        }
      ],
      "source": [
        "small_imsize_resnet_preproc = Transformer(\n",
        "    None_Transform(), \"select_roi_small_im_resnet\"\n",
        ")\n",
        "def resnet18_3channel():\n",
        "    model = models.resnet18(pretrained=True)\n",
        "    num_ftrs = model.fc.in_features\n",
        "    model.fc = nn.Linear(num_ftrs, 1)\n",
        "    return model\n",
        "\n",
        "resnet18_base = DeepModel_Trainer(DataModule(small_imsize_resnet_preproc), resnet18_3channel)\n",
        "resnet18_base.train_model(\"Select only 3 channels weighted norm resnet\", \"Resnet 18\", num_epochs=12, test_model=False,batchsize_train_data=16,use_mri_images=True,use_tabular_data=False,num_workers=6,\n",
        "                     save_model=False,\n",
        "                     cross_validation=True,lr=0.0001,evaluate_test_set=False,project_name=\"MRI-Modell\",weight_loss=True)\n"
      ]
    },
    {
      "cell_type": "markdown",
      "metadata": {},
      "source": [
        "### Threshhold for best model\n"
      ]
    },
    {
      "cell_type": "code",
      "execution_count": 4,
      "metadata": {},
      "outputs": [],
      "source": [
        "def calc_metrics(y_true,y_pred):\n",
        "    conf_matrix = confusion_matrix(y_true, y_pred)\n",
        "    # Extract values from the confusion matrix\n",
        "    tn, fp, fn, tp = conf_matrix.ravel()\n",
        "\n",
        "    # Calculate sensitivity and specificity\n",
        "    sensitivity = tp / (tp + fn)\n",
        "    specificity = tn / (tn + fp)\n",
        "\n",
        "    return sensitivity,specificity"
      ]
    },
    {
      "cell_type": "code",
      "execution_count": 5,
      "metadata": {},
      "outputs": [],
      "source": [
        "thresh_results = []\n",
        "for fold_num in range(5):\n",
        "    results = pd.read_csv(f\"./modelling/mri_data/results_augmented_weighted/fold-{fold_num}.csv\")\n",
        "    thresh_result_fold = []\n",
        "    for threshhold in np.linspace(0,1,101):\n",
        "        y_pred = (results[\"prediction\"] > threshhold) \n",
        "        y_true = results[\"Ground_Truth\"]\n",
        "        thresh_result_fold.append(calc_metrics(y_true,y_pred))\n",
        "    thresh_results.append(thresh_result_fold)"
      ]
    },
    {
      "cell_type": "code",
      "execution_count": 6,
      "metadata": {},
      "outputs": [],
      "source": [
        "best_threshold = np.array(thresh_results).mean(axis=(0,2)).argmax()/100"
      ]
    },
    {
      "cell_type": "code",
      "execution_count": 7,
      "metadata": {},
      "outputs": [
        {
          "data": {
            "text/plain": [
              "array([0.62416667, 0.62275034])"
            ]
          },
          "execution_count": 7,
          "metadata": {},
          "output_type": "execute_result"
        }
      ],
      "source": [
        "np.array(thresh_results).mean(axis=(0))[11]"
      ]
    },
    {
      "cell_type": "code",
      "execution_count": 8,
      "metadata": {},
      "outputs": [
        {
          "data": {
            "text/plain": [
              "array([0.02071111, 0.00677064])"
            ]
          },
          "execution_count": 8,
          "metadata": {},
          "output_type": "execute_result"
        }
      ],
      "source": [
        "np.array(thresh_results).var(axis=(0))[11]"
      ]
    },
    {
      "cell_type": "markdown",
      "metadata": {},
      "source": [
        "## Test on Testset, with full train_data"
      ]
    },
    {
      "cell_type": "code",
      "execution_count": null,
      "metadata": {},
      "outputs": [],
      "source": [
        "augmentation_transformer = Transformer(\n",
        "    transforms.Compose([transforms.RandomRotation(5),transforms.RandomHorizontalFlip(0.2)]), \"select_roi\"\n",
        ")\n",
        "resnet18_base = DeepModel_Trainer(DataModule(augmentation_transformer), resnet18)\n",
        "resnet18_base.train_model(\"Augmented_weighted_Test\", \"Resnet 18\", num_epochs=8, test_model=False,batchsize_train_data=16,use_mri_images=True,use_tabular_data=False,num_workers=6,\n",
        "                     save_model=True,\n",
        "                     cross_validation=True,lr=0.0001,evaluate_test_set=True,project_name=\"MRI-Modell\",weight_loss=True)"
      ]
    },
    {
      "cell_type": "code",
      "execution_count": 9,
      "metadata": {},
      "outputs": [
        {
          "data": {
            "text/plain": [
              "(0.6046511627906976, 0.5918367346938775)"
            ]
          },
          "execution_count": 9,
          "metadata": {},
          "output_type": "execute_result"
        }
      ],
      "source": [
        "results = pd.read_csv(f\"./modelling/mri_data/results_augmented_weighted/test_results.csv\")\n",
        "y_pred = (results[\"prediction\"] > best_threshold) \n",
        "y_true = results[\"Ground_Truth\"]\n",
        "calc_metrics(y_true,y_pred)"
      ]
    },
    {
      "cell_type": "code",
      "execution_count": 10,
      "metadata": {},
      "outputs": [
        {
          "data": {
            "image/png": "[encoded data removed]",
            "text/plain": [
              "<Figure size 1200x600 with 1 Axes>"
            ]
          },
          "metadata": {},
          "output_type": "display_data"
        }
      ],
      "source": [
        "conf_matrix = confusion_matrix(y_true, y_pred)\n",
        "plt.figure(figsize=(12, 6))\n",
        "sns.heatmap(conf_matrix, annot=True, fmt='d', cmap='Blues',\n",
        "            cbar=False, xticklabels=[\"non prolactinoma\",\"prolactinoma\"],\n",
        "            yticklabels=[\"non prolactinoma\",\"prolactinoma\"])\n",
        "plt.xlabel('Predicted Labels')\n",
        "plt.ylabel('True Labels')\n",
        "plt.show()"
      ]
    },
    {
      "cell_type": "code",
      "execution_count": 11,
      "metadata": {},
      "outputs": [],
      "source": [
        "index_fp = np.where((y_true == 0) & (y_pred==1))[0][:5]\n",
        "index_fn = np.where((y_true == 1) & (y_pred==0))[0][:5]\n",
        "index_tp = np.where((y_true == 1) & (y_pred==1))[0][:5]\n",
        "index_tn = np.where((y_true == 0) & (y_pred==0))[0][:5]"
      ]
    },
    {
      "cell_type": "markdown",
      "metadata": {},
      "source": [
        "### True positiv"
      ]
    },
    {
      "cell_type": "code",
      "execution_count": 12,
      "metadata": {},
      "outputs": [
        {
          "name": "stderr",
          "output_type": "stream",
          "text": [
            "/mnt/batch/tasks/shared/LS_root/mounts/clusters/ksathmed1/code/Users/pro5d-classification-prolactinoma/src/augmentation.py:62: UserWarning: To copy construct from a tensor, it is recommended to use sourceTensor.clone().detach() or sourceTensor.clone().detach().requires_grad_(True), rather than torch.tensor(sourceTensor).\n",
            "  slice = torch.tensor(slice).unsqueeze(0)  # Add a channel dimension\n"
          ]
        },
        {
          "data": {
            "application/vnd.jupyter.widget-view+json": {
              "model_id": "b11317c9cbfa40c0bf0cf7677c2b6259",
              "version_major": 2,
              "version_minor": 0
            },
            "text/plain": [
              "interactive(children=(IntSlider(value=2, description='mri', max=4), IntSlider(value=9, description='slice_numb…"
            ]
          },
          "metadata": {},
          "output_type": "display_data"
        },
        {
          "data": {
            "text/plain": [
              "<function src.evaluation.Evaluation.visualize_slices.<locals>.show_slice(mri, slice_number)>"
            ]
          },
          "execution_count": 12,
          "metadata": {},
          "output_type": "execute_result"
        }
      ],
      "source": [
        "Evaluation().visualize_slices(fold=\"test\",index=index_tp,preprocess_slices=Transformer.select_roi)"
      ]
    },
    {
      "cell_type": "markdown",
      "metadata": {},
      "source": [
        "### True Negativ"
      ]
    },
    {
      "cell_type": "code",
      "execution_count": 13,
      "metadata": {},
      "outputs": [
        {
          "data": {
            "application/vnd.jupyter.widget-view+json": {
              "model_id": "1309b1e4e02a4c5aa9a7f5445ae6c160",
              "version_major": 2,
              "version_minor": 0
            },
            "text/plain": [
              "interactive(children=(IntSlider(value=2, description='mri', max=4), IntSlider(value=9, description='slice_numb…"
            ]
          },
          "metadata": {},
          "output_type": "display_data"
        },
        {
          "data": {
            "text/plain": [
              "<function src.evaluation.Evaluation.visualize_slices.<locals>.show_slice(mri, slice_number)>"
            ]
          },
          "execution_count": 13,
          "metadata": {},
          "output_type": "execute_result"
        }
      ],
      "source": [
        "Evaluation().visualize_slices(fold=\"test\",index=index_tn,preprocess_slices=Transformer.select_roi)"
      ]
    },
    {
      "cell_type": "markdown",
      "metadata": {},
      "source": [
        "### False Positiv"
      ]
    },
    {
      "cell_type": "code",
      "execution_count": 14,
      "metadata": {},
      "outputs": [
        {
          "data": {
            "application/vnd.jupyter.widget-view+json": {
              "model_id": "718f52a0ed984ac498b474e28aebc951",
              "version_major": 2,
              "version_minor": 0
            },
            "text/plain": [
              "interactive(children=(IntSlider(value=2, description='mri', max=4), IntSlider(value=7, description='slice_numb…"
            ]
          },
          "metadata": {},
          "output_type": "display_data"
        },
        {
          "data": {
            "text/plain": [
              "<function src.evaluation.Evaluation.visualize_slices.<locals>.show_slice(mri, slice_number)>"
            ]
          },
          "execution_count": 14,
          "metadata": {},
          "output_type": "execute_result"
        }
      ],
      "source": [
        "Evaluation().visualize_slices(fold=\"test\",index=index_fp,preprocess_slices=Transformer.select_roi)"
      ]
    },
    {
      "cell_type": "markdown",
      "metadata": {},
      "source": [
        "### False Negativ"
      ]
    },
    {
      "cell_type": "code",
      "execution_count": 15,
      "metadata": {},
      "outputs": [
        {
          "data": {
            "application/vnd.jupyter.widget-view+json": {
              "model_id": "26f2664a4e394d83b8c8466629d7b986",
              "version_major": 2,
              "version_minor": 0
            },
            "text/plain": [
              "interactive(children=(IntSlider(value=2, description='mri', max=4), IntSlider(value=7, description='slice_numb…"
            ]
          },
          "metadata": {},
          "output_type": "display_data"
        },
        {
          "data": {
            "text/plain": [
              "<function src.evaluation.Evaluation.visualize_slices.<locals>.show_slice(mri, slice_number)>"
            ]
          },
          "execution_count": 15,
          "metadata": {},
          "output_type": "execute_result"
        }
      ],
      "source": [
        "Evaluation().visualize_slices(fold=\"test\",index=index_fn,preprocess_slices=Transformer.select_roi)"
      ]
    },
    {
      "cell_type": "markdown",
      "metadata": {},
      "source": [
        "### Learning Curve "
      ]
    },
    {
      "cell_type": "code",
      "execution_count": 17,
      "metadata": {
        "gather": {
          "logged": 1702931336197
        }
      },
      "outputs": [],
      "source": [
        "augmentation_transformer = Transformer(\n",
        "    transforms.Compose([transforms.RandomRotation(5),transforms.RandomHorizontalFlip(0.2)]), \"select_roi\"\n",
        ")"
      ]
    },
    {
      "cell_type": "code",
      "execution_count": 18,
      "metadata": {},
      "outputs": [],
      "source": [
        "for fix_train_size in range(16,232,16):\n",
        "    resnet18_base = DeepModel_Trainer(DataModule(augmentation_transformer,fix_train_size=fix_train_size), resnet18)\n",
        "    resnet18_base.train_model(\"Augmented_weighted\", \"Resnet 18\", num_epochs=8, test_model=False,batchsize_train_data=16,use_mri_images=True,use_tabular_data=False,num_workers=6,\n",
        "                        save_model=False,\n",
        "                        cross_validation=True,lr=0.0001,evaluate_test_set=False,project_name=\"Learning Curve\",weight_loss=True)"
      ]
    },
    {
      "cell_type": "code",
      "execution_count": 2,
      "metadata": {},
      "outputs": [],
      "source": [
        "import wandb\n",
        "runs = wandb.Api().runs(f\"pro5d-classification-prolactinoma/Learning Curve\")\n",
        "learning_curve_sizes = []\n",
        "auc_values = []\n",
        "\n",
        "for run in runs:\n",
        "    # Fetch the learning_curve_size and auc values from each run\n",
        "    run_data = run.history()\n",
        "    if \"auc\" in run_data.columns:\n",
        "        learning_curve_sizes.append(run_data[\"learning_curve_size\"].dropna().values)\n",
        "        auc_values.append(run_data[\"auc\"].dropna().values)"
      ]
    },
    {
      "cell_type": "code",
      "execution_count": 5,
      "metadata": {},
      "outputs": [],
      "source": [
        "import seaborn as sns\n",
        "import matplotlib.pyplot as plt\n",
        "import numpy as np\n",
        "import pandas as pd\n",
        "values = pd.DataFrame({\"learning_curve_sizes\":np.array(learning_curve_sizes).reshape(-1),\"auc_values\":np.array(auc_values).reshape(-1)})\n",
        "mean = values.groupby(\"learning_curve_sizes\").mean().reset_index()\n",
        "std = values.groupby(\"learning_curve_sizes\").std().reset_index()"
      ]
    },
    {
      "cell_type": "code",
      "execution_count": 10,
      "metadata": {},
      "outputs": [
        {
          "data": {
            "image/png": "[encoded data removed]",
            "text/plain": [
              "<Figure size 640x480 with 1 Axes>"
            ]
          },
          "metadata": {},
          "output_type": "display_data"
        }
      ],
      "source": [
        "\n",
        "\n",
        "# Example data (replace with your own data)\n",
        "learning_curve_sizes = mean[\"learning_curve_sizes\"]\n",
        "mean_auc_values = mean[\"auc_values\"]\n",
        "std_auc_values = std[\"auc_values\"]\n",
        "\n",
        "# Create a barplot with error bars representing standard deviation using sns.barplot\n",
        "plt.errorbar(x=learning_curve_sizes, y=mean_auc_values, yerr=std_auc_values, fmt='o', color='black', label='Std dev')\n",
        "\n",
        "# Add legend\n",
        "plt.legend()\n",
        "\n",
        "# Set labels for axes\n",
        "plt.xlabel('Train data size')\n",
        "plt.ylabel('AUC')\n",
        "\n",
        "# Set title for the plot\n",
        "plt.title('Learning curve')\n",
        "\n",
        "# Show the plot\n",
        "plt.show()\n",
        "\n"
      ]
    }
  ],
  "metadata": {
    "kernelspec": {
      "display_name": "Python 3",
      "language": "python",
      "name": "python3"
    },
    "language_info": {
      "codemirror_mode": {
        "name": "ipython",
        "version": 3
      },
      "file_extension": ".py",
      "mimetype": "text/x-python",
      "name": "python",
      "nbconvert_exporter": "python",
      "pygments_lexer": "ipython3",
      "version": "3.10.7"
    },
    "microsoft": {
      "ms_spell_check": {
        "ms_spell_check_language": "en"
      }
    },
    "nteract": {
      "version": "nteract-front-end@1.0.0"
    }
  },
  "nbformat": 4,
  "nbformat_minor": 2
}
