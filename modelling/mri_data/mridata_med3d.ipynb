{
 "cells": [
  {
   "cell_type": "code",
   "execution_count": 3,
   "metadata": {},
   "outputs": [
    {
     "ename": "ModuleNotFoundError",
     "evalue": "No module named 'models'",
     "output_type": "error",
     "traceback": [
      "\u001b[0;31m---------------------------------------------------------------------------\u001b[0m",
      "\u001b[0;31mModuleNotFoundError\u001b[0m                       Traceback (most recent call last)",
      "\u001b[1;32m/home/azureuser/cloudfiles/code/Users/pro5d-classification-prolactinoma/modelling/mri_data/mridata_med3d.ipynb Cell 1\u001b[0m line \u001b[0;36m1\n\u001b[1;32m     <a href='vscode-notebook-cell://amlext%2B2f737562736372697074696f6e732f33353036383039362d363637632d343632302d386262322d3662303530373635666434652f7265736f7572636547726f7570732f436f6d7075746546484e572f70726f7669646572732f4d6963726f736f66742e4d616368696e654c6561726e696e6753657276696365732f776f726b7370616365732f46484e572f636f6d70757465732f6b73616a617a77692d435055/home/azureuser/cloudfiles/code/Users/pro5d-classification-prolactinoma/modelling/mri_data/mridata_med3d.ipynb#W0sdnNjb2RlLXJlbW90ZQ%3D%3D?line=10'>11</a>\u001b[0m \u001b[39mimport\u001b[39;00m \u001b[39mtorchvision\u001b[39;00m\u001b[39m.\u001b[39;00m\u001b[39mtransforms\u001b[39;00m \u001b[39mas\u001b[39;00m \u001b[39mtransforms\u001b[39;00m\n\u001b[1;32m     <a href='vscode-notebook-cell://amlext%2B2f737562736372697074696f6e732f33353036383039362d363637632d343632302d386262322d3662303530373635666434652f7265736f7572636547726f7570732f436f6d7075746546484e572f70726f7669646572732f4d6963726f736f66742e4d616368696e654c6561726e696e6753657276696365732f776f726b7370616365732f46484e572f636f6d70757465732f6b73616a617a77692d435055/home/azureuser/cloudfiles/code/Users/pro5d-classification-prolactinoma/modelling/mri_data/mridata_med3d.ipynb#W0sdnNjb2RlLXJlbW90ZQ%3D%3D?line=11'>12</a>\u001b[0m \u001b[39mfrom\u001b[39;00m \u001b[39mPIL\u001b[39;00m \u001b[39mimport\u001b[39;00m Image\n\u001b[0;32m---> <a href='vscode-notebook-cell://amlext%2B2f737562736372697074696f6e732f33353036383039362d363637632d343632302d386262322d3662303530373635666434652f7265736f7572636547726f7570732f436f6d7075746546484e572f70726f7669646572732f4d6963726f736f66742e4d616368696e654c6561726e696e6753657276696365732f776f726b7370616365732f46484e572f636f6d70757465732f6b73616a617a77692d435055/home/azureuser/cloudfiles/code/Users/pro5d-classification-prolactinoma/modelling/mri_data/mridata_med3d.ipynb#W0sdnNjb2RlLXJlbW90ZQ%3D%3D?line=12'>13</a>\u001b[0m \u001b[39mfrom\u001b[39;00m \u001b[39mmodels\u001b[39;00m\u001b[39m.\u001b[39;00m\u001b[39mresnet\u001b[39;00m \u001b[39mimport\u001b[39;00m resnet10\n\u001b[1;32m     <a href='vscode-notebook-cell://amlext%2B2f737562736372697074696f6e732f33353036383039362d363637632d343632302d386262322d3662303530373635666434652f7265736f7572636547726f7570732f436f6d7075746546484e572f70726f7669646572732f4d6963726f736f66742e4d616368696e654c6561726e696e6753657276696365732f776f726b7370616365732f46484e572f636f6d70757465732f6b73616a617a77692d435055/home/azureuser/cloudfiles/code/Users/pro5d-classification-prolactinoma/modelling/mri_data/mridata_med3d.ipynb#W0sdnNjb2RlLXJlbW90ZQ%3D%3D?line=13'>14</a>\u001b[0m \u001b[39m# Modelle hier:\u001b[39;00m\n\u001b[1;32m     <a href='vscode-notebook-cell://amlext%2B2f737562736372697074696f6e732f33353036383039362d363637632d343632302d386262322d3662303530373635666434652f7265736f7572636547726f7570732f436f6d7075746546484e572f70726f7669646572732f4d6963726f736f66742e4d616368696e654c6561726e696e6753657276696365732f776f726b7370616365732f46484e572f636f6d70757465732f6b73616a617a77692d435055/home/azureuser/cloudfiles/code/Users/pro5d-classification-prolactinoma/modelling/mri_data/mridata_med3d.ipynb#W0sdnNjb2RlLXJlbW90ZQ%3D%3D?line=14'>15</a>\u001b[0m \u001b[39m# https://huggingface.co/TencentMedicalNet/MedicalNet-Resnet200\u001b[39;00m\n\u001b[1;32m     <a href='vscode-notebook-cell://amlext%2B2f737562736372697074696f6e732f33353036383039362d363637632d343632302d386262322d3662303530373635666434652f7265736f7572636547726f7570732f436f6d7075746546484e572f70726f7669646572732f4d6963726f736f66742e4d616368696e654c6561726e696e6753657276696365732f776f726b7370616365732f46484e572f636f6d70757465732f6b73616a617a77692d435055/home/azureuser/cloudfiles/code/Users/pro5d-classification-prolactinoma/modelling/mri_data/mridata_med3d.ipynb#W0sdnNjb2RlLXJlbW90ZQ%3D%3D?line=15'>16</a>\u001b[0m \u001b[39m# X_train = pd.read_csv(r'../../data/train_data.csv')\u001b[39;00m\n\u001b[0;32m   (...)\u001b[0m\n\u001b[1;32m     <a href='vscode-notebook-cell://amlext%2B2f737562736372697074696f6e732f33353036383039362d363637632d343632302d386262322d3662303530373635666434652f7265736f7572636547726f7570732f436f6d7075746546484e572f70726f7669646572732f4d6963726f736f66742e4d616368696e654c6561726e696e6753657276696365732f776f726b7370616365732f46484e572f636f6d70757465732f6b73616a617a77692d435055/home/azureuser/cloudfiles/code/Users/pro5d-classification-prolactinoma/modelling/mri_data/mridata_med3d.ipynb#W0sdnNjb2RlLXJlbW90ZQ%3D%3D?line=20'>21</a>\u001b[0m \u001b[39m# X_train= X_train.iloc[:, [i for i in range(13,28)]+ [7,8,9]]\u001b[39;00m\n\u001b[1;32m     <a href='vscode-notebook-cell://amlext%2B2f737562736372697074696f6e732f33353036383039362d363637632d343632302d386262322d3662303530373635666434652f7265736f7572636547726f7570732f436f6d7075746546484e572f70726f7669646572732f4d6963726f736f66742e4d616368696e654c6561726e696e6753657276696365732f776f726b7370616365732f46484e572f636f6d70757465732f6b73616a617a77692d435055/home/azureuser/cloudfiles/code/Users/pro5d-classification-prolactinoma/modelling/mri_data/mridata_med3d.ipynb#W0sdnNjb2RlLXJlbW90ZQ%3D%3D?line=21'>22</a>\u001b[0m \u001b[39m# X_test= X_test.iloc[:, [i for i in range(13,28)]+ [7,8,9]]\u001b[39;00m\n",
      "\u001b[0;31mModuleNotFoundError\u001b[0m: No module named 'models'"
     ]
    }
   ],
   "source": [
    "import pandas as pd\n",
    "from sklearn.linear_model import LogisticRegression\n",
    "from sklearn.metrics import roc_curve, roc_auc_score\n",
    "from sklearn.model_selection import train_test_split\n",
    "from sklearn.metrics import accuracy_score, classification_report, confusion_matrix\n",
    "from sklearn.metrics import recall_score\n",
    "from sklearn.preprocessing import LabelEncoder\n",
    "import matplotlib.pyplot as plt\n",
    "import torch\n",
    "import torch.nn as nn\n",
    "import torchvision.transforms as transforms\n",
    "from PIL import Image\n",
    "\n",
    "# Modelle hier:\n",
    "# https://huggingface.co/TencentMedicalNet/MedicalNet-Resnet200\n",
    "# X_train = pd.read_csv(r'../../data/train_data.csv')\n",
    "# Y_train = X_train[\"Category\"]\n",
    "\n",
    "# X_test = pd.read_csv(r'../../data/test_data.csv')\n",
    "# Y_test = X_test[\"Category\"]\n",
    "# X_train= X_train.iloc[:, [i for i in range(13,28)]+ [7,8,9]]\n",
    "# X_test= X_test.iloc[:, [i for i in range(13,28)]+ [7,8,9]]"
   ]
  },
  {
   "cell_type": "code",
   "execution_count": null,
   "metadata": {},
   "outputs": [],
   "source": []
  }
 ],
 "metadata": {
  "kernelspec": {
   "display_name": "Python 3.8 - AzureML",
   "language": "python",
   "name": "python38-azureml"
  },
  "language_info": {
   "codemirror_mode": {
    "name": "ipython",
    "version": 3
   },
   "file_extension": ".py",
   "mimetype": "text/x-python",
   "name": "python",
   "nbconvert_exporter": "python",
   "pygments_lexer": "ipython3",
   "version": "3.8.5"
  }
 },
 "nbformat": 4,
 "nbformat_minor": 2
}
