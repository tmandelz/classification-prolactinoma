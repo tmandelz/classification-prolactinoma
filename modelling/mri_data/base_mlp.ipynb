{
 "cells": [
  {
   "cell_type": "code",
   "execution_count": 1,
   "metadata": {},
   "outputs": [],
   "source": [
    "import os\n",
    "print(os.getcwd())\n",
    "if os.getcwd().endswith(\"modelling\"):\n",
    "    os.chdir(\"..\")\n",
    "\n",
    "from src.modelling import DeepModel_Trainer\n",
    "from src.augmentation import Transformer,None_Transform\n",
    "from src.data_modules import DataModule\n",
    "from torch import nn\n",
    "import torch\n",
    "from torchvision import transforms,models"
   ]
  },
  {
   "cell_type": "code",
   "execution_count": 6,
   "metadata": {},
   "outputs": [
    {
     "data": {
      "text/plain": [
       "1"
      ]
     },
     "execution_count": 6,
     "metadata": {},
     "output_type": "execute_result"
    }
   ],
   "source": [
    "import numpy as np\n",
    "np.random.choice(np.where(np.array([0,1,0,0,1]) != np.array([0,0,0,0,0]))[0])"
   ]
  },
  {
   "cell_type": "code",
   "execution_count": 2,
   "metadata": {},
   "outputs": [],
   "source": [
    "%env \"WANDB_NOTEBOOK_NAME\" \"ccv1_efficient_net\"\n",
    "%env WANDB_SILENT=True\n",
    "\n",
    "base_transformer = Transformer(\n",
    "    None_Transform(), \"standard\"\n",
    ").getCompose()\n",
    "# %%\n",
    "def base_mlp():\n",
    "    model = nn.Sequential(\n",
    "    nn.Flatten(),\n",
    "    nn.Linear(\n",
    "        10000, 1\n",
    "    )) \n",
    "    return model"
   ]
  },
  {
   "cell_type": "code",
   "execution_count": null,
   "metadata": {},
   "outputs": [],
   "source": [
    "efficientnet = DeepModel_Trainer(DataModule(base_transformer), base_mlp)\n",
    "efficientnet.train_model(\"Baseline MLP\", \"base_mlp\", num_epochs=6, test_model=False,batchsize_train_data=128)"
   ]
  }
 ],
 "metadata": {
  "kernelspec": {
   "display_name": "Python 3",
   "language": "python",
   "name": "python3"
  },
  "language_info": {
   "codemirror_mode": {
    "name": "ipython",
    "version": 3
   },
   "file_extension": ".py",
   "mimetype": "text/x-python",
   "name": "python",
   "nbconvert_exporter": "python",
   "pygments_lexer": "ipython3",
   "version": "3.10.7"
  }
 },
 "nbformat": 4,
 "nbformat_minor": 2
}
