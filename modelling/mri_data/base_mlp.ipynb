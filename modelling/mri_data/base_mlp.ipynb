{
 "cells": [
  {
   "cell_type": "code",
   "execution_count": 1,
   "metadata": {},
   "outputs": [
    {
     "name": "stdout",
     "output_type": "stream",
     "text": [
      "/mnt/batch/tasks/shared/LS_root/mounts/clusters/ksajazwi-cpu/code/Users/pro5d-classification-prolactinoma/modelling/mri_data\n"
     ]
    },
    {
     "name": "stderr",
     "output_type": "stream",
     "text": [
      "/anaconda/envs/azureml_py38/lib/python3.8/site-packages/torch/cuda/__init__.py:611: UserWarning: Can't initialize NVML\n",
      "  warnings.warn(\"Can't initialize NVML\")\n",
      "/anaconda/envs/azureml_py38/lib/python3.8/site-packages/torch/cuda/__init__.py:740: UserWarning: CUDA initialization: The NVIDIA driver on your system is too old (found version 11040). Please update your GPU driver by downloading and installing a new version from the URL: http://www.nvidia.com/Download/index.aspx Alternatively, go to: https://pytorch.org to install a PyTorch version that has been compiled with your version of the CUDA driver. (Triggered internally at ../c10/cuda/CUDAFunctions.cpp:108.)\n",
      "  return torch._C._cuda_getDeviceCount() if nvml_count < 0 else nvml_count\n"
     ]
    }
   ],
   "source": [
    "import os\n",
    "print(os.getcwd())\n",
    "if os.getcwd().endswith(\"mri_data\"):\n",
    "    os.chdir(\"..\")\n",
    "    os.chdir(\"..\")\n",
    "\n",
    "from src.modelling import DeepModel_Trainer\n",
    "from src.augmentation import Transformer,None_Transform\n",
    "from src.data_modules import DataModule,ImagesDataset\n",
    "from torch import nn\n",
    "import torch\n",
    "from torchvision import transforms,models\n",
    "import nibabel as nib\n",
    "import numpy as np"
   ]
  },
  {
   "cell_type": "code",
   "execution_count": 30,
   "metadata": {},
   "outputs": [
    {
     "name": "stdout",
     "output_type": "stream",
     "text": [
      "env: \"WANDB_NOTEBOOK_NAME\"=\"ccv1_efficient_net\"\n",
      "env: WANDB_SILENT=True\n"
     ]
    }
   ],
   "source": [
    "%env \"WANDB_NOTEBOOK_NAME\" \"ccv1_efficient_net\"\n",
    "%env WANDB_SILENT=True\n",
    "\n",
    "base_transformer = Transformer(\n",
    "    None_Transform(), \"select_roi\"\n",
    ")\n",
    "# %%\n",
    "def base_mlp():\n",
    "    model = nn.Sequential(\n",
    "    nn.Flatten(),\n",
    "    nn.Linear(\n",
    "        10000, 1\n",
    "    )) \n",
    "    return model"
   ]
  },
  {
   "cell_type": "code",
   "execution_count": 36,
   "metadata": {},
   "outputs": [],
   "source": [
    "first = np.array([1,0,1,0])\n",
    "second = np.array([1,0,0,1])"
   ]
  },
  {
   "cell_type": "code",
   "execution_count": 18,
   "metadata": {},
   "outputs": [],
   "source": [
    "check_data_modul = DataModule(base_transformer)\n",
    "check_data_modul.prepare_data(0)"
   ]
  },
  {
   "cell_type": "code",
   "execution_count": 32,
   "metadata": {},
   "outputs": [
    {
     "data": {
      "application/vnd.jupyter.widget-view+json": {
       "model_id": "014a651b2c9945c58fe1bc8ad0e45485",
       "version_major": 2,
       "version_minor": 0
      },
      "text/plain": [
       "interactive(children=(IntSlider(value=0, description='mri', max=0), IntSlider(value=7, description='slice_numb…"
      ]
     },
     "metadata": {},
     "output_type": "display_data"
    }
   ],
   "source": [
    "data = check_data_modul.val.data\n",
    "\n",
    "mri = check_data_modul.val.load_mri(data.iloc[10][\"MRI_Case_ID\"])\n",
    "visualize_slices([mri])"
   ]
  },
  {
   "cell_type": "code",
   "execution_count": 26,
   "metadata": {},
   "outputs": [
    {
     "data": {
      "text/plain": [
       "7700506"
      ]
     },
     "execution_count": 26,
     "metadata": {},
     "output_type": "execute_result"
    }
   ],
   "source": []
  },
  {
   "cell_type": "code",
   "execution_count": null,
   "metadata": {},
   "outputs": [],
   "source": [
    "efficientnet = DeepModel_Trainer(DataModule(base_transformer), base_mlp)\n",
    "efficientnet.train_model(\"Baseline MLP\", \"base_mlp\", num_epochs=6, test_model=False,batchsize_train_data=128,use_mri_images=True,use_tabular_data=False)"
   ]
  }
 ],
 "metadata": {
  "kernelspec": {
   "display_name": "azureml_py38",
   "language": "python",
   "name": "python3"
  },
  "language_info": {
   "codemirror_mode": {
    "name": "ipython",
    "version": 3
   },
   "file_extension": ".py",
   "mimetype": "text/x-python",
   "name": "python",
   "nbconvert_exporter": "python",
   "pygments_lexer": "ipython3",
   "version": "3.8.5"
  }
 },
 "nbformat": 4,
 "nbformat_minor": 2
}
