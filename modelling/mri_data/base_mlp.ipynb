{
  "cells": [
    {
      "cell_type": "code",
      "execution_count": 3,
      "metadata": {
        "gather": {
          "logged": 1701327701457
        }
      },
      "outputs": [
        {
          "name": "stdout",
          "output_type": "stream",
          "text": [
            "/mnt/batch/tasks/shared/LS_root/mounts/clusters/ksathmed2/code/Users/pro5d-classification-prolactinoma/modelling/mri_data\n",
            "/mnt/batch/tasks/shared/LS_root/mounts/clusters/ksathmed2/code/Users/pro5d-classification-prolactinoma\n"
          ]
        }
      ],
      "source": [
        "import os\n",
        "print(os.getcwd())\n",
        "if os.getcwd().endswith(\"mri_data\"):\n",
        "    os.chdir(\"..\")\n",
        "    os.chdir(\"..\")\n",
        "print(os.getcwd())\n",
        "from src.modelling import DeepModel_Trainer\n",
        "from src.augmentation import Transformer,None_Transform\n",
        "from src.data_modules import DataModule,ImagesDataset\n",
        "from torch import nn\n",
        "import torch\n",
        "from torchvision import transforms,models\n",
        "import nibabel as nib\n",
        "import numpy as np\n",
        "from src.evaluation import Evaluation"
      ]
    },
    {
      "cell_type": "code",
      "execution_count": 4,
      "metadata": {
        "gather": {
          "logged": 1701327701632
        }
      },
      "outputs": [
        {
          "name": "stdout",
          "output_type": "stream",
          "text": [
            "env: \"WANDB_NOTEBOOK_NAME\"=\"baseline\"\n",
            "env: WANDB_SILENT=True\n"
          ]
        }
      ],
      "source": [
        "%env \"WANDB_NOTEBOOK_NAME\" \"baseline\"\n",
        "%env WANDB_SILENT=True\n",
        "\n",
        "base_transformer = Transformer(\n",
        "    None_Transform(), \"select_roi\"\n",
        ")\n",
        "# %%\n",
        "def base_mlp():\n",
        "    model = nn.Sequential(\n",
        "    nn.Flatten(),\n",
        "    nn.Linear(\n",
        "        75264, 1\n",
        "    )) \n",
        "    return model"
      ]
    },
    {
      "cell_type": "code",
      "execution_count": null,
      "metadata": {
        "gather": {
          "logged": 1701327769284
        }
      },
      "outputs": [],
      "source": [
        "baseline = DeepModel_Trainer(DataModule(base_transformer), base_mlp)\n",
        "baseline.train_model(\"Baseline MLP\", \"base_mlp\", num_epochs=5, test_model=False,batchsize_train_data=16,use_mri_images=True,use_tabular_data=False,num_workers=6,\n",
        "                     save_model=False,\n",
        "                     cross_validation=True,lr=0.001,evaluate_test_set=False)"
      ]
    },
    {
      "cell_type": "code",
      "execution_count": null,
      "metadata": {
        "gather": {
          "logged": 1701327769406
        }
      },
      "outputs": [],
      "source": [
        "Evaluation().visualize_slices([4,5],\"test\")"
      ]
    },
    {
      "cell_type": "markdown",
      "metadata": {},
      "source": [
        "## Testing"
      ]
    },
    {
      "cell_type": "code",
      "execution_count": 5,
      "metadata": {},
      "outputs": [
        {
          "name": "stderr",
          "output_type": "stream",
          "text": [
            "Fold-Iteration:   0%|          | 0/5 [00:00<?, ?fold/s]"
          ]
        },
        {
          "data": {
            "application/vnd.jupyter.widget-view+json": {
              "model_id": "c7062aaec0804dcb8d525e0dd7a3b389",
              "version_major": 2,
              "version_minor": 0
            },
            "text/plain": [
              "VBox(children=(Label(value='Waiting for wandb.init()...\\r'), FloatProgress(value=0.011143349011106491, max=1.0…"
            ]
          },
          "metadata": {},
          "output_type": "display_data"
        },
        {
          "name": "stderr",
          "output_type": "stream",
          "text": [
            "/mnt/batch/tasks/shared/LS_root/mounts/clusters/ksathmed2/code/Users/pro5d-classification-prolactinoma/src/modelling.py:203: UserWarning: To copy construct from a tensor, it is recommended to use sourceTensor.clone().detach() or sourceTensor.clone().detach().requires_grad_(True), rather than torch.tensor(sourceTensor).\n",
            "  data_labels = torch.tensor(batch[\"label\"],dtype=torch.float).to(device)\n",
            "/mnt/batch/tasks/shared/LS_root/mounts/clusters/ksathmed2/code/Users/pro5d-classification-prolactinoma/src/modelling.py:319: UserWarning: To copy construct from a tensor, it is recommended to use sourceTensor.clone().detach() or sourceTensor.clone().detach().requires_grad_(True), rather than torch.tensor(sourceTensor).\n",
            "  data_labels = torch.tensor(batch[\"label\"],dtype=torch.float).to(device)\n",
            "/mnt/batch/tasks/shared/LS_root/mounts/clusters/ksathmed2/code/Users/pro5d-classification-prolactinoma/src/modelling.py:203: UserWarning: To copy construct from a tensor, it is recommended to use sourceTensor.clone().detach() or sourceTensor.clone().detach().requires_grad_(True), rather than torch.tensor(sourceTensor).\n",
            "  data_labels = torch.tensor(batch[\"label\"],dtype=torch.float).to(device)\n",
            "/mnt/batch/tasks/shared/LS_root/mounts/clusters/ksathmed2/code/Users/pro5d-classification-prolactinoma/src/modelling.py:319: UserWarning: To copy construct from a tensor, it is recommended to use sourceTensor.clone().detach() or sourceTensor.clone().detach().requires_grad_(True), rather than torch.tensor(sourceTensor).\n",
            "  data_labels = torch.tensor(batch[\"label\"],dtype=torch.float).to(device)\n",
            "/mnt/batch/tasks/shared/LS_root/mounts/clusters/ksathmed2/code/Users/pro5d-classification-prolactinoma/src/modelling.py:203: UserWarning: To copy construct from a tensor, it is recommended to use sourceTensor.clone().detach() or sourceTensor.clone().detach().requires_grad_(True), rather than torch.tensor(sourceTensor).\n",
            "  data_labels = torch.tensor(batch[\"label\"],dtype=torch.float).to(device)\n",
            "/mnt/batch/tasks/shared/LS_root/mounts/clusters/ksathmed2/code/Users/pro5d-classification-prolactinoma/src/modelling.py:319: UserWarning: To copy construct from a tensor, it is recommended to use sourceTensor.clone().detach() or sourceTensor.clone().detach().requires_grad_(True), rather than torch.tensor(sourceTensor).\n",
            "  data_labels = torch.tensor(batch[\"label\"],dtype=torch.float).to(device)\n",
            "/mnt/batch/tasks/shared/LS_root/mounts/clusters/ksathmed2/code/Users/pro5d-classification-prolactinoma/src/modelling.py:203: UserWarning: To copy construct from a tensor, it is recommended to use sourceTensor.clone().detach() or sourceTensor.clone().detach().requires_grad_(True), rather than torch.tensor(sourceTensor).\n",
            "  data_labels = torch.tensor(batch[\"label\"],dtype=torch.float).to(device)\n",
            "/mnt/batch/tasks/shared/LS_root/mounts/clusters/ksathmed2/code/Users/pro5d-classification-prolactinoma/src/modelling.py:319: UserWarning: To copy construct from a tensor, it is recommended to use sourceTensor.clone().detach() or sourceTensor.clone().detach().requires_grad_(True), rather than torch.tensor(sourceTensor).\n",
            "  data_labels = torch.tensor(batch[\"label\"],dtype=torch.float).to(device)\n",
            "/mnt/batch/tasks/shared/LS_root/mounts/clusters/ksathmed2/code/Users/pro5d-classification-prolactinoma/src/modelling.py:203: UserWarning: To copy construct from a tensor, it is recommended to use sourceTensor.clone().detach() or sourceTensor.clone().detach().requires_grad_(True), rather than torch.tensor(sourceTensor).\n",
            "  data_labels = torch.tensor(batch[\"label\"],dtype=torch.float).to(device)\n",
            "/mnt/batch/tasks/shared/LS_root/mounts/clusters/ksathmed2/code/Users/pro5d-classification-prolactinoma/src/modelling.py:319: UserWarning: To copy construct from a tensor, it is recommended to use sourceTensor.clone().detach() or sourceTensor.clone().detach().requires_grad_(True), rather than torch.tensor(sourceTensor).\n",
            "  data_labels = torch.tensor(batch[\"label\"],dtype=torch.float).to(device)\n",
            "Epoch-Iteration: 100%|██████████| 5/5 [02:27<00:00, 29.59s/epoch]\n",
            "/mnt/batch/tasks/shared/LS_root/mounts/clusters/ksathmed2/code/Users/pro5d-classification-prolactinoma/src/modelling.py:319: UserWarning: To copy construct from a tensor, it is recommended to use sourceTensor.clone().detach() or sourceTensor.clone().detach().requires_grad_(True), rather than torch.tensor(sourceTensor).\n",
            "  data_labels = torch.tensor(batch[\"label\"],dtype=torch.float).to(device)\n",
            "wandb: WARNING Source type is set to 'repo' but some required information is missing from the environment. A job will not be created from this run. See https://docs.wandb.ai/guides/launch/create-job\n",
            "Fold-Iteration:  20%|██        | 1/5 [03:00<12:00, 180.02s/fold]/mnt/batch/tasks/shared/LS_root/mounts/clusters/ksathmed2/code/Users/pro5d-classification-prolactinoma/src/modelling.py:203: UserWarning: To copy construct from a tensor, it is recommended to use sourceTensor.clone().detach() or sourceTensor.clone().detach().requires_grad_(True), rather than torch.tensor(sourceTensor).\n",
            "  data_labels = torch.tensor(batch[\"label\"],dtype=torch.float).to(device)\n",
            "/mnt/batch/tasks/shared/LS_root/mounts/clusters/ksathmed2/code/Users/pro5d-classification-prolactinoma/src/modelling.py:319: UserWarning: To copy construct from a tensor, it is recommended to use sourceTensor.clone().detach() or sourceTensor.clone().detach().requires_grad_(True), rather than torch.tensor(sourceTensor).\n",
            "  data_labels = torch.tensor(batch[\"label\"],dtype=torch.float).to(device)\n",
            "/mnt/batch/tasks/shared/LS_root/mounts/clusters/ksathmed2/code/Users/pro5d-classification-prolactinoma/src/modelling.py:203: UserWarning: To copy construct from a tensor, it is recommended to use sourceTensor.clone().detach() or sourceTensor.clone().detach().requires_grad_(True), rather than torch.tensor(sourceTensor).\n",
            "  data_labels = torch.tensor(batch[\"label\"],dtype=torch.float).to(device)\n",
            "/mnt/batch/tasks/shared/LS_root/mounts/clusters/ksathmed2/code/Users/pro5d-classification-prolactinoma/src/modelling.py:319: UserWarning: To copy construct from a tensor, it is recommended to use sourceTensor.clone().detach() or sourceTensor.clone().detach().requires_grad_(True), rather than torch.tensor(sourceTensor).\n",
            "  data_labels = torch.tensor(batch[\"label\"],dtype=torch.float).to(device)\n",
            "/mnt/batch/tasks/shared/LS_root/mounts/clusters/ksathmed2/code/Users/pro5d-classification-prolactinoma/src/modelling.py:203: UserWarning: To copy construct from a tensor, it is recommended to use sourceTensor.clone().detach() or sourceTensor.clone().detach().requires_grad_(True), rather than torch.tensor(sourceTensor).\n",
            "  data_labels = torch.tensor(batch[\"label\"],dtype=torch.float).to(device)\n",
            "/mnt/batch/tasks/shared/LS_root/mounts/clusters/ksathmed2/code/Users/pro5d-classification-prolactinoma/src/modelling.py:319: UserWarning: To copy construct from a tensor, it is recommended to use sourceTensor.clone().detach() or sourceTensor.clone().detach().requires_grad_(True), rather than torch.tensor(sourceTensor).\n",
            "  data_labels = torch.tensor(batch[\"label\"],dtype=torch.float).to(device)\n",
            "/mnt/batch/tasks/shared/LS_root/mounts/clusters/ksathmed2/code/Users/pro5d-classification-prolactinoma/src/modelling.py:203: UserWarning: To copy construct from a tensor, it is recommended to use sourceTensor.clone().detach() or sourceTensor.clone().detach().requires_grad_(True), rather than torch.tensor(sourceTensor).\n",
            "  data_labels = torch.tensor(batch[\"label\"],dtype=torch.float).to(device)\n",
            "/mnt/batch/tasks/shared/LS_root/mounts/clusters/ksathmed2/code/Users/pro5d-classification-prolactinoma/src/modelling.py:319: UserWarning: To copy construct from a tensor, it is recommended to use sourceTensor.clone().detach() or sourceTensor.clone().detach().requires_grad_(True), rather than torch.tensor(sourceTensor).\n",
            "  data_labels = torch.tensor(batch[\"label\"],dtype=torch.float).to(device)\n",
            "/mnt/batch/tasks/shared/LS_root/mounts/clusters/ksathmed2/code/Users/pro5d-classification-prolactinoma/src/modelling.py:203: UserWarning: To copy construct from a tensor, it is recommended to use sourceTensor.clone().detach() or sourceTensor.clone().detach().requires_grad_(True), rather than torch.tensor(sourceTensor).\n",
            "  data_labels = torch.tensor(batch[\"label\"],dtype=torch.float).to(device)\n",
            "/mnt/batch/tasks/shared/LS_root/mounts/clusters/ksathmed2/code/Users/pro5d-classification-prolactinoma/src/modelling.py:319: UserWarning: To copy construct from a tensor, it is recommended to use sourceTensor.clone().detach() or sourceTensor.clone().detach().requires_grad_(True), rather than torch.tensor(sourceTensor).\n",
            "  data_labels = torch.tensor(batch[\"label\"],dtype=torch.float).to(device)\n",
            "Epoch-Iteration: 100%|██████████| 5/5 [02:28<00:00, 29.63s/epoch]\n",
            "/mnt/batch/tasks/shared/LS_root/mounts/clusters/ksathmed2/code/Users/pro5d-classification-prolactinoma/src/modelling.py:319: UserWarning: To copy construct from a tensor, it is recommended to use sourceTensor.clone().detach() or sourceTensor.clone().detach().requires_grad_(True), rather than torch.tensor(sourceTensor).\n",
            "  data_labels = torch.tensor(batch[\"label\"],dtype=torch.float).to(device)\n",
            "wandb: WARNING Source type is set to 'repo' but some required information is missing from the environment. A job will not be created from this run. See https://docs.wandb.ai/guides/launch/create-job\n",
            "Fold-Iteration:  40%|████      | 2/5 [05:54<08:50, 176.79s/fold]/mnt/batch/tasks/shared/LS_root/mounts/clusters/ksathmed2/code/Users/pro5d-classification-prolactinoma/src/modelling.py:203: UserWarning: To copy construct from a tensor, it is recommended to use sourceTensor.clone().detach() or sourceTensor.clone().detach().requires_grad_(True), rather than torch.tensor(sourceTensor).\n",
            "  data_labels = torch.tensor(batch[\"label\"],dtype=torch.float).to(device)\n",
            "/mnt/batch/tasks/shared/LS_root/mounts/clusters/ksathmed2/code/Users/pro5d-classification-prolactinoma/src/modelling.py:319: UserWarning: To copy construct from a tensor, it is recommended to use sourceTensor.clone().detach() or sourceTensor.clone().detach().requires_grad_(True), rather than torch.tensor(sourceTensor).\n",
            "  data_labels = torch.tensor(batch[\"label\"],dtype=torch.float).to(device)\n",
            "/mnt/batch/tasks/shared/LS_root/mounts/clusters/ksathmed2/code/Users/pro5d-classification-prolactinoma/src/modelling.py:203: UserWarning: To copy construct from a tensor, it is recommended to use sourceTensor.clone().detach() or sourceTensor.clone().detach().requires_grad_(True), rather than torch.tensor(sourceTensor).\n",
            "  data_labels = torch.tensor(batch[\"label\"],dtype=torch.float).to(device)\n",
            "/mnt/batch/tasks/shared/LS_root/mounts/clusters/ksathmed2/code/Users/pro5d-classification-prolactinoma/src/modelling.py:319: UserWarning: To copy construct from a tensor, it is recommended to use sourceTensor.clone().detach() or sourceTensor.clone().detach().requires_grad_(True), rather than torch.tensor(sourceTensor).\n",
            "  data_labels = torch.tensor(batch[\"label\"],dtype=torch.float).to(device)\n",
            "/mnt/batch/tasks/shared/LS_root/mounts/clusters/ksathmed2/code/Users/pro5d-classification-prolactinoma/src/modelling.py:203: UserWarning: To copy construct from a tensor, it is recommended to use sourceTensor.clone().detach() or sourceTensor.clone().detach().requires_grad_(True), rather than torch.tensor(sourceTensor).\n",
            "  data_labels = torch.tensor(batch[\"label\"],dtype=torch.float).to(device)\n",
            "/mnt/batch/tasks/shared/LS_root/mounts/clusters/ksathmed2/code/Users/pro5d-classification-prolactinoma/src/modelling.py:319: UserWarning: To copy construct from a tensor, it is recommended to use sourceTensor.clone().detach() or sourceTensor.clone().detach().requires_grad_(True), rather than torch.tensor(sourceTensor).\n",
            "  data_labels = torch.tensor(batch[\"label\"],dtype=torch.float).to(device)\n",
            "/mnt/batch/tasks/shared/LS_root/mounts/clusters/ksathmed2/code/Users/pro5d-classification-prolactinoma/src/modelling.py:203: UserWarning: To copy construct from a tensor, it is recommended to use sourceTensor.clone().detach() or sourceTensor.clone().detach().requires_grad_(True), rather than torch.tensor(sourceTensor).\n",
            "  data_labels = torch.tensor(batch[\"label\"],dtype=torch.float).to(device)\n",
            "/mnt/batch/tasks/shared/LS_root/mounts/clusters/ksathmed2/code/Users/pro5d-classification-prolactinoma/src/modelling.py:319: UserWarning: To copy construct from a tensor, it is recommended to use sourceTensor.clone().detach() or sourceTensor.clone().detach().requires_grad_(True), rather than torch.tensor(sourceTensor).\n",
            "  data_labels = torch.tensor(batch[\"label\"],dtype=torch.float).to(device)\n",
            "/mnt/batch/tasks/shared/LS_root/mounts/clusters/ksathmed2/code/Users/pro5d-classification-prolactinoma/src/modelling.py:203: UserWarning: To copy construct from a tensor, it is recommended to use sourceTensor.clone().detach() or sourceTensor.clone().detach().requires_grad_(True), rather than torch.tensor(sourceTensor).\n",
            "  data_labels = torch.tensor(batch[\"label\"],dtype=torch.float).to(device)\n",
            "/mnt/batch/tasks/shared/LS_root/mounts/clusters/ksathmed2/code/Users/pro5d-classification-prolactinoma/src/modelling.py:319: UserWarning: To copy construct from a tensor, it is recommended to use sourceTensor.clone().detach() or sourceTensor.clone().detach().requires_grad_(True), rather than torch.tensor(sourceTensor).\n",
            "  data_labels = torch.tensor(batch[\"label\"],dtype=torch.float).to(device)\n",
            "Epoch-Iteration: 100%|██████████| 5/5 [02:31<00:00, 30.22s/epoch]\n",
            "/mnt/batch/tasks/shared/LS_root/mounts/clusters/ksathmed2/code/Users/pro5d-classification-prolactinoma/src/modelling.py:319: UserWarning: To copy construct from a tensor, it is recommended to use sourceTensor.clone().detach() or sourceTensor.clone().detach().requires_grad_(True), rather than torch.tensor(sourceTensor).\n",
            "  data_labels = torch.tensor(batch[\"label\"],dtype=torch.float).to(device)\n",
            "wandb: WARNING Source type is set to 'repo' but some required information is missing from the environment. A job will not be created from this run. See https://docs.wandb.ai/guides/launch/create-job\n",
            "Fold-Iteration:  60%|██████    | 3/5 [08:50<05:53, 176.61s/fold]/mnt/batch/tasks/shared/LS_root/mounts/clusters/ksathmed2/code/Users/pro5d-classification-prolactinoma/src/modelling.py:203: UserWarning: To copy construct from a tensor, it is recommended to use sourceTensor.clone().detach() or sourceTensor.clone().detach().requires_grad_(True), rather than torch.tensor(sourceTensor).\n",
            "  data_labels = torch.tensor(batch[\"label\"],dtype=torch.float).to(device)\n",
            "/mnt/batch/tasks/shared/LS_root/mounts/clusters/ksathmed2/code/Users/pro5d-classification-prolactinoma/src/modelling.py:319: UserWarning: To copy construct from a tensor, it is recommended to use sourceTensor.clone().detach() or sourceTensor.clone().detach().requires_grad_(True), rather than torch.tensor(sourceTensor).\n",
            "  data_labels = torch.tensor(batch[\"label\"],dtype=torch.float).to(device)\n",
            "/mnt/batch/tasks/shared/LS_root/mounts/clusters/ksathmed2/code/Users/pro5d-classification-prolactinoma/src/modelling.py:203: UserWarning: To copy construct from a tensor, it is recommended to use sourceTensor.clone().detach() or sourceTensor.clone().detach().requires_grad_(True), rather than torch.tensor(sourceTensor).\n",
            "  data_labels = torch.tensor(batch[\"label\"],dtype=torch.float).to(device)\n",
            "/mnt/batch/tasks/shared/LS_root/mounts/clusters/ksathmed2/code/Users/pro5d-classification-prolactinoma/src/modelling.py:319: UserWarning: To copy construct from a tensor, it is recommended to use sourceTensor.clone().detach() or sourceTensor.clone().detach().requires_grad_(True), rather than torch.tensor(sourceTensor).\n",
            "  data_labels = torch.tensor(batch[\"label\"],dtype=torch.float).to(device)\n",
            "/mnt/batch/tasks/shared/LS_root/mounts/clusters/ksathmed2/code/Users/pro5d-classification-prolactinoma/src/modelling.py:203: UserWarning: To copy construct from a tensor, it is recommended to use sourceTensor.clone().detach() or sourceTensor.clone().detach().requires_grad_(True), rather than torch.tensor(sourceTensor).\n",
            "  data_labels = torch.tensor(batch[\"label\"],dtype=torch.float).to(device)\n",
            "/mnt/batch/tasks/shared/LS_root/mounts/clusters/ksathmed2/code/Users/pro5d-classification-prolactinoma/src/modelling.py:319: UserWarning: To copy construct from a tensor, it is recommended to use sourceTensor.clone().detach() or sourceTensor.clone().detach().requires_grad_(True), rather than torch.tensor(sourceTensor).\n",
            "  data_labels = torch.tensor(batch[\"label\"],dtype=torch.float).to(device)\n",
            "/mnt/batch/tasks/shared/LS_root/mounts/clusters/ksathmed2/code/Users/pro5d-classification-prolactinoma/src/modelling.py:203: UserWarning: To copy construct from a tensor, it is recommended to use sourceTensor.clone().detach() or sourceTensor.clone().detach().requires_grad_(True), rather than torch.tensor(sourceTensor).\n",
            "  data_labels = torch.tensor(batch[\"label\"],dtype=torch.float).to(device)\n",
            "/mnt/batch/tasks/shared/LS_root/mounts/clusters/ksathmed2/code/Users/pro5d-classification-prolactinoma/src/modelling.py:319: UserWarning: To copy construct from a tensor, it is recommended to use sourceTensor.clone().detach() or sourceTensor.clone().detach().requires_grad_(True), rather than torch.tensor(sourceTensor).\n",
            "  data_labels = torch.tensor(batch[\"label\"],dtype=torch.float).to(device)\n",
            "/mnt/batch/tasks/shared/LS_root/mounts/clusters/ksathmed2/code/Users/pro5d-classification-prolactinoma/src/modelling.py:203: UserWarning: To copy construct from a tensor, it is recommended to use sourceTensor.clone().detach() or sourceTensor.clone().detach().requires_grad_(True), rather than torch.tensor(sourceTensor).\n",
            "  data_labels = torch.tensor(batch[\"label\"],dtype=torch.float).to(device)\n",
            "/mnt/batch/tasks/shared/LS_root/mounts/clusters/ksathmed2/code/Users/pro5d-classification-prolactinoma/src/modelling.py:319: UserWarning: To copy construct from a tensor, it is recommended to use sourceTensor.clone().detach() or sourceTensor.clone().detach().requires_grad_(True), rather than torch.tensor(sourceTensor).\n",
            "  data_labels = torch.tensor(batch[\"label\"],dtype=torch.float).to(device)\n",
            "Epoch-Iteration: 100%|██████████| 5/5 [02:27<00:00, 29.51s/epoch]\n",
            "/mnt/batch/tasks/shared/LS_root/mounts/clusters/ksathmed2/code/Users/pro5d-classification-prolactinoma/src/modelling.py:319: UserWarning: To copy construct from a tensor, it is recommended to use sourceTensor.clone().detach() or sourceTensor.clone().detach().requires_grad_(True), rather than torch.tensor(sourceTensor).\n",
            "  data_labels = torch.tensor(batch[\"label\"],dtype=torch.float).to(device)\n",
            "wandb: WARNING Source type is set to 'repo' but some required information is missing from the environment. A job will not be created from this run. See https://docs.wandb.ai/guides/launch/create-job\n",
            "Fold-Iteration:  80%|████████  | 4/5 [11:46<02:56, 176.02s/fold]/mnt/batch/tasks/shared/LS_root/mounts/clusters/ksathmed2/code/Users/pro5d-classification-prolactinoma/src/modelling.py:203: UserWarning: To copy construct from a tensor, it is recommended to use sourceTensor.clone().detach() or sourceTensor.clone().detach().requires_grad_(True), rather than torch.tensor(sourceTensor).\n",
            "  data_labels = torch.tensor(batch[\"label\"],dtype=torch.float).to(device)\n",
            "/mnt/batch/tasks/shared/LS_root/mounts/clusters/ksathmed2/code/Users/pro5d-classification-prolactinoma/src/modelling.py:319: UserWarning: To copy construct from a tensor, it is recommended to use sourceTensor.clone().detach() or sourceTensor.clone().detach().requires_grad_(True), rather than torch.tensor(sourceTensor).\n",
            "  data_labels = torch.tensor(batch[\"label\"],dtype=torch.float).to(device)\n",
            "/mnt/batch/tasks/shared/LS_root/mounts/clusters/ksathmed2/code/Users/pro5d-classification-prolactinoma/src/modelling.py:203: UserWarning: To copy construct from a tensor, it is recommended to use sourceTensor.clone().detach() or sourceTensor.clone().detach().requires_grad_(True), rather than torch.tensor(sourceTensor).\n",
            "  data_labels = torch.tensor(batch[\"label\"],dtype=torch.float).to(device)\n",
            "/mnt/batch/tasks/shared/LS_root/mounts/clusters/ksathmed2/code/Users/pro5d-classification-prolactinoma/src/modelling.py:319: UserWarning: To copy construct from a tensor, it is recommended to use sourceTensor.clone().detach() or sourceTensor.clone().detach().requires_grad_(True), rather than torch.tensor(sourceTensor).\n",
            "  data_labels = torch.tensor(batch[\"label\"],dtype=torch.float).to(device)\n",
            "/mnt/batch/tasks/shared/LS_root/mounts/clusters/ksathmed2/code/Users/pro5d-classification-prolactinoma/src/modelling.py:203: UserWarning: To copy construct from a tensor, it is recommended to use sourceTensor.clone().detach() or sourceTensor.clone().detach().requires_grad_(True), rather than torch.tensor(sourceTensor).\n",
            "  data_labels = torch.tensor(batch[\"label\"],dtype=torch.float).to(device)\n",
            "/mnt/batch/tasks/shared/LS_root/mounts/clusters/ksathmed2/code/Users/pro5d-classification-prolactinoma/src/modelling.py:319: UserWarning: To copy construct from a tensor, it is recommended to use sourceTensor.clone().detach() or sourceTensor.clone().detach().requires_grad_(True), rather than torch.tensor(sourceTensor).\n",
            "  data_labels = torch.tensor(batch[\"label\"],dtype=torch.float).to(device)\n",
            "/mnt/batch/tasks/shared/LS_root/mounts/clusters/ksathmed2/code/Users/pro5d-classification-prolactinoma/src/modelling.py:203: UserWarning: To copy construct from a tensor, it is recommended to use sourceTensor.clone().detach() or sourceTensor.clone().detach().requires_grad_(True), rather than torch.tensor(sourceTensor).\n",
            "  data_labels = torch.tensor(batch[\"label\"],dtype=torch.float).to(device)\n",
            "/mnt/batch/tasks/shared/LS_root/mounts/clusters/ksathmed2/code/Users/pro5d-classification-prolactinoma/src/modelling.py:319: UserWarning: To copy construct from a tensor, it is recommended to use sourceTensor.clone().detach() or sourceTensor.clone().detach().requires_grad_(True), rather than torch.tensor(sourceTensor).\n",
            "  data_labels = torch.tensor(batch[\"label\"],dtype=torch.float).to(device)\n",
            "/mnt/batch/tasks/shared/LS_root/mounts/clusters/ksathmed2/code/Users/pro5d-classification-prolactinoma/src/modelling.py:203: UserWarning: To copy construct from a tensor, it is recommended to use sourceTensor.clone().detach() or sourceTensor.clone().detach().requires_grad_(True), rather than torch.tensor(sourceTensor).\n",
            "  data_labels = torch.tensor(batch[\"label\"],dtype=torch.float).to(device)\n",
            "/mnt/batch/tasks/shared/LS_root/mounts/clusters/ksathmed2/code/Users/pro5d-classification-prolactinoma/src/modelling.py:319: UserWarning: To copy construct from a tensor, it is recommended to use sourceTensor.clone().detach() or sourceTensor.clone().detach().requires_grad_(True), rather than torch.tensor(sourceTensor).\n",
            "  data_labels = torch.tensor(batch[\"label\"],dtype=torch.float).to(device)\n",
            "Epoch-Iteration: 100%|██████████| 5/5 [02:25<00:00, 29.17s/epoch]\n",
            "/mnt/batch/tasks/shared/LS_root/mounts/clusters/ksathmed2/code/Users/pro5d-classification-prolactinoma/src/modelling.py:319: UserWarning: To copy construct from a tensor, it is recommended to use sourceTensor.clone().detach() or sourceTensor.clone().detach().requires_grad_(True), rather than torch.tensor(sourceTensor).\n",
            "  data_labels = torch.tensor(batch[\"label\"],dtype=torch.float).to(device)\n",
            "wandb: WARNING Source type is set to 'repo' but some required information is missing from the environment. A job will not be created from this run. See https://docs.wandb.ai/guides/launch/create-job\n",
            "Fold-Iteration: 100%|██████████| 5/5 [14:36<00:00, 175.37s/fold]\n"
          ]
        }
      ],
      "source": [
        "baseline = DeepModel_Trainer(DataModule(base_transformer), base_mlp)\n",
        "baseline.train_model(\"Baseline_MLP_Test\", \"base_mlp\", num_epochs=5, test_model=False,batchsize_train_data=16,use_mri_images=True,use_tabular_data=False,num_workers=6,\n",
        "                     save_model=False,\n",
        "                     cross_validation=True,lr=0.001,evaluate_test_set=True,project_name=\"MRI-Modell\")"
      ]
    }
  ],
  "metadata": {
    "kernel_info": {
      "name": "python38-azureml"
    },
    "kernelspec": {
      "display_name": "Python 3.8 - AzureML",
      "language": "python",
      "name": "python38-azureml"
    },
    "language_info": {
      "codemirror_mode": {
        "name": "ipython",
        "version": 3
      },
      "file_extension": ".py",
      "mimetype": "text/x-python",
      "name": "python",
      "nbconvert_exporter": "python",
      "pygments_lexer": "ipython3",
      "version": "3.8.5"
    },
    "microsoft": {
      "host": {
        "AzureML": {
          "notebookHasBeenCompleted": true
        }
      },
      "ms_spell_check": {
        "ms_spell_check_language": "en"
      }
    },
    "nteract": {
      "version": "nteract-front-end@1.0.0"
    }
  },
  "nbformat": 4,
  "nbformat_minor": 2
}
