{
 "cells": [
  {
   "cell_type": "markdown",
   "metadata": {},
   "source": [
    "## Helper"
   ]
  },
  {
   "cell_type": "code",
   "execution_count": null,
   "metadata": {},
   "outputs": [],
   "source": [
    "import wandb \n",
    "import json\n",
    "import pandas as pd\n",
    "import numpy as np\n",
    "import seaborn as sns\n",
    "import matplotlib.pyplot as plt"
   ]
  },
  {
   "cell_type": "code",
   "execution_count": null,
   "metadata": {},
   "outputs": [],
   "source": [
    "select_group  = lambda runs,group:[run for run in runs if run.group == group]\n",
    "def calc_mean_std_auc(runs_for_auc):\n",
    "    auc = [runs.history()[\"auc\"].dropna() for runs in runs_for_auc]\n",
    "    return round(np.array(auc).mean(),3),round(np.array(auc).std(),3)\n",
    "\n",
    "def plot_loss(runs,metric=\"loss\"):\n",
    "    if metric == \"loss\":\n",
    "        metric_train = \"Loss train\"\n",
    "        metric_val = \"Loss val\"\n",
    "        label = \"Loss\"\n",
    "    elif metric == \"auc\":\n",
    "        metric_train = \"auc_train\"\n",
    "        metric_val = \"auc_val\"\n",
    "        label = \"Auc\"\n",
    "    loss_train_val = pd.concat([run.history().loc[:,[metric_train,metric_val,\"epoch\"]].dropna() for run in runs])\n",
    "    mean_std = loss_train_val.groupby(\"epoch\").agg([\"mean\",\"std\"])\n",
    "    mean_std.reset_index(inplace=True)\n",
    "    df_melted = mean_std.melt(id_vars='epoch', var_name='Metric', value_name='Value')\n",
    "\n",
    "    sns.set(style=\"whitegrid\")\n",
    "    plt.figure(figsize=(10, 6))\n",
    "    plot = sns.lineplot(x='epoch', y='Value', hue='Metric', style='Metric', markers=True, data=df_melted)\n",
    "    plot.set(xlabel='Epoch', ylabel=label, title=f'{label} Train vs. {label} Validation')\n",
    "    plt.legend(title='Data', loc='upper right')\n",
    "    plt.show()\n",
    "    \n",
    "def plot_auc(runs_diff_group,auc_var='auc'):\n",
    "    auc_values_list = [[run.history()[auc_var].dropna().values[0] for run in runs] for runs in runs_diff_group]\n",
    "\n",
    "    names = [runs[0].group for runs in  runs_diff_group]\n",
    "    sns.set(style=\"whitegrid\")\n",
    "    plt.figure(figsize=(10, 6))\n",
    "\n",
    "    for i, auc_values in enumerate(auc_values_list):\n",
    "        print(np.round(np.array(auc_values).mean(),4))\n",
    "        print(np.round(np.array(auc_values).std(),4))\n",
    "        stripplot = sns.stripplot(x=[i] * len(auc_values), y=auc_values, jitter=False, dodge=False, alpha=1, size=8)\n",
    "        sns.pointplot(x=[i] * len(auc_values), y=auc_values, errorbar=\"sd\", markers=\"o\", capsize=0.2, label=names[i])\n",
    "\n",
    "    # Draw a horizontal line at 0.5\n",
    "    plt.axhline(y=0.5, color='red', linestyle='--', label='Random (0.5)')\n",
    "\n",
    "    # Customize the plot\n",
    "    # Insert line breaks after every 10 characters\n",
    "    max_chars = 9\n",
    "    formatted_labels = [name[:max_chars] + '\\n' + name[max_chars:] if len(name) > max_chars else name for name in names]\n",
    "    # plt.xticks(range(len(auc_values_list)), [names[i] for i in range(len(auc_values_list))])\n",
    "    plt.xticks(range(len(auc_values_list)), formatted_labels)\n",
    "\n",
    "    plt.xlabel('Runs')\n",
    "    plt.ylabel('AUC')\n",
    "    plt.title('AUC-values with 1 standard deviation')\n",
    "    plt.ylim(0, 1)  # Set y-axis limits to start from 0 and go up to 1\n",
    "    plt.legend()\n",
    "    plt.show()"
   ]
  },
  {
   "cell_type": "markdown",
   "metadata": {},
   "source": [
    "## MRI"
   ]
  },
  {
   "cell_type": "code",
   "execution_count": null,
   "metadata": {},
   "outputs": [],
   "source": [
    "runs = wandb.Api().runs(f\"pro5d-classification-prolactinoma/MRI-Modell\")\n",
    "baseline_mlp_runs = select_group(runs,\"Baseline MLP\")\n",
    "baseline_mlp_test_runs = select_group(runs,\"Baseline_MLP_Test\") \n",
    "\n",
    "baseMed3d_weighted = select_group(runs,\"BaseMed3d_weighted\")\n",
    "\n",
    "baseline_resnet = select_group(runs,\"Baseline Resnet\")\n",
    "resnet_weighted  = [run for run in select_group(runs,\"Weighted\") if run.config[\"model architecture\"] == \"Resnet 18\"]\n",
    "\n",
    "\n",
    "resnet_augmented_weighted = select_group(runs,\"Augmented_weighted\")\n",
    "resnet_augmented_weighted_freezed = select_group(runs,\"Augmented_weighted_freezed\")\n",
    "\n",
    "resnet_augmented_weighted_test  = select_group(runs,\"Augmented_weighted_Test\")"
   ]
  },
  {
   "cell_type": "markdown",
   "metadata": {},
   "source": [
    "## Baseline MLP"
   ]
  },
  {
   "cell_type": "code",
   "execution_count": null,
   "metadata": {},
   "outputs": [],
   "source": [
    "plot_loss(baseline_mlp_runs,\"loss\")\n",
    "plot_loss(baseline_mlp_runs,\"auc\")"
   ]
  },
  {
   "cell_type": "markdown",
   "metadata": {},
   "source": [
    "+ ROC Curve Test\n",
    "\n",
    "### MED3D"
   ]
  },
  {
   "cell_type": "code",
   "execution_count": null,
   "metadata": {},
   "outputs": [],
   "source": [
    "plot_loss(baseMed3d_weighted)\n",
    "plot_loss(baseMed3d_weighted,\"auc\")"
   ]
  },
  {
   "cell_type": "markdown",
   "metadata": {},
   "source": [
    "## Resnet"
   ]
  },
  {
   "cell_type": "code",
   "execution_count": null,
   "metadata": {},
   "outputs": [],
   "source": [
    "plot_loss(resnet_augmented_weighted,\"loss\")\n"
   ]
  },
  {
   "cell_type": "code",
   "execution_count": null,
   "metadata": {},
   "outputs": [],
   "source": [
    "plot_loss(resnet_augmented_weighted,\"auc\")"
   ]
  },
  {
   "cell_type": "markdown",
   "metadata": {},
   "source": [
    "## Test AUC"
   ]
  },
  {
   "cell_type": "code",
   "execution_count": null,
   "metadata": {},
   "outputs": [],
   "source": [
    "plot_auc([baseline_mlp_runs,baseline_resnet,resnet_weighted,resnet_augmented_weighted,resnet_augmented_weighted_freezed])"
   ]
  },
  {
   "cell_type": "code",
   "execution_count": null,
   "metadata": {},
   "outputs": [],
   "source": [
    "plot_auc([baseline_mlp_test_runs,resnet_augmented_weighted_test])"
   ]
  },
  {
   "cell_type": "markdown",
   "metadata": {},
   "source": [
    "## LAB"
   ]
  },
  {
   "cell_type": "code",
   "execution_count": null,
   "metadata": {},
   "outputs": [],
   "source": [
    "runs = wandb.Api().runs(f\"pro5d-classification-prolactinoma/tabular-data\")\n",
    "baseline_logreg  = [run for run in select_group(runs,\"Tab-Data-LogReg-Data-Pairs\")]\n",
    "baseline_rf  = [run for run in select_group(runs,\"Tab-Data-RandomForest-Data-Pairs\")]\n",
    "xgboost = [run for run in select_group(runs,\"Tab-Data-XGBoost-Data-Pairs\")]\n",
    "xgboost_ = [run for run in select_group(runs,\"Tab-Data-XGBoost-Data-Pairs-noFT4\")]\n",
    "xgboost__ = [run for run in select_group(runs,\"Tab-Data-XGBoost-Data-Pairs-ohneCOR\")]\n"
   ]
  },
  {
   "cell_type": "code",
   "execution_count": null,
   "metadata": {},
   "outputs": [],
   "source": [
    "plot_auc([baseline_logreg,baseline_rf],'auc-test')\n",
    "plot_auc([baseline_logreg,baseline_rf,xgboost_],'auc-test')\n",
    "plot_auc([xgboost,xgboost__,xgboost_],'auc-test')"
   ]
  },
  {
   "cell_type": "code",
   "execution_count": null,
   "metadata": {},
   "outputs": [],
   "source": [
    "runs = wandb.Api().runs(f\"pro5d-classification-prolactinoma/tabular-data\")\n",
    "learning_curve_runs  = [run for run in select_group(runs,\"Tab-Data-XGBoost-Learning_curve\")]\n",
    "learning_curve_sizes = []\n",
    "auc_values = []\n",
    "\n",
    "for run in learning_curve_runs:\n",
    "    # Fetch the learning_curve_size and auc values from each run\n",
    "    run_data = run.history()\n",
    "    if \"learning_curve_val_auc\" in run_data.columns:\n",
    "        learning_curve_sizes.append(run_data[\"learning_curve_train_size\"].dropna().values)\n",
    "        auc_values.append(run_data[\"learning_curve_val_auc\"].dropna().values)"
   ]
  },
  {
   "cell_type": "code",
   "execution_count": null,
   "metadata": {},
   "outputs": [],
   "source": [
    "values = pd.DataFrame({\"learning_curve_sizes\":np.array(learning_curve_sizes).reshape(-1),\"auc_values\":np.array(auc_values).reshape(-1)})\n",
    "mean = values.groupby(\"learning_curve_sizes\").mean().reset_index()\n",
    "std = values.groupby(\"learning_curve_sizes\").std().reset_index()"
   ]
  },
  {
   "cell_type": "code",
   "execution_count": null,
   "metadata": {},
   "outputs": [],
   "source": [
    "learning_curve_sizes = mean[\"learning_curve_sizes\"]\n",
    "mean_auc_values = mean[\"auc_values\"]\n",
    "std_auc_values = std[\"auc_values\"]\n",
    "\n",
    "plt.figure(figsize=(10, 6))\n",
    "# Create a barplot with error bars representing standard deviation using sns.barplot\n",
    "plt.errorbar(x=learning_curve_sizes, y=mean_auc_values, yerr=std_auc_values, fmt='o', color='black', label='Std dev')\n",
    "\n",
    "# Add legend\n",
    "plt.legend()\n",
    "\n",
    "# Set labels for axes\n",
    "plt.xlabel('Train data size')\n",
    "plt.ylabel('AUC')\n",
    "\n",
    "# Set title for the plot\n",
    "plt.title('Learning curve for XGBoost')\n",
    "\n",
    "# Show the plot\n",
    "plt.show()\n",
    "\n"
   ]
  },
  {
   "cell_type": "code",
   "execution_count": null,
   "metadata": {},
   "outputs": [],
   "source": [
    "runs = wandb.Api().runs(f\"pro5d-classification-prolactinoma/tabular-data\")\n",
    "permutation_curve_runs  = [run for run in select_group(runs,\"Tab-Data-XGBoost-Data-Pairs-Permutation\")]\n",
    "\n",
    "permutation_importance_auc_LHs = []\n",
    "permutation_importance_auc_CORs = []\n",
    "permutation_importance_auc_FSHs = []\n",
    "permutation_importance_auc_FT4s = []\n",
    "permutation_importance_auc_IGF1s = []\n",
    "permutation_importance_auc_LHs = []\n",
    "permutation_importance_auc_PROLs = []\n",
    "permutation_importance_auc_Patient_ages = []\n",
    "permutation_importance_auc_TESTOs = []\n",
    "permutation_importance_auc_Patient_genders = []\n",
    "\n",
    "for run in permutation_curve_runs:\n",
    "    # Fetch the learning_curve_size and auc values from each run\n",
    "    run_data = run.history()\n",
    "\n",
    "\n",
    "    if run_data.columns.str.contains(r\"permutation_importance_auc_*\",regex=True).any():\n",
    "        #get the permutation importance values for each feature\n",
    "        permutation_importance_auc_CORs.append(run_data[\"permutation_importance_auc_COR\"].dropna().values)  \n",
    "        permutation_importance_auc_FSHs.append(run_data[\"permutation_importance_auc_FSH\"].dropna().values)\n",
    "        permutation_importance_auc_FT4s.append(run_data[\"permutation_importance_auc_FT4\"].dropna().values)\n",
    "        permutation_importance_auc_IGF1s.append(run_data[\"permutation_importance_auc_IGF1\"].dropna().values)\n",
    "        permutation_importance_auc_LHs.append(run_data[\"permutation_importance_auc_LH\"].dropna().values)\n",
    "        permutation_importance_auc_PROLs.append(run_data[\"permutation_importance_auc_PROL\"].dropna().values)\n",
    "        permutation_importance_auc_Patient_ages.append(run_data[\"permutation_importance_auc_Patient_age\"].dropna().values)\n",
    "        permutation_importance_auc_TESTOs.append(run_data[\"permutation_importance_auc_TEST\"].dropna().values)\n",
    "        permutation_importance_auc_Patient_genders.append(run_data[\"permutation_importance_auc_Patient_gender_male\"].dropna().values)\n",
    "\n",
    "data = {\n",
    "    'LH': np.array(permutation_importance_auc_LHs).reshape(-1),\n",
    "    'CORTISOL': np.array(permutation_importance_auc_CORs).reshape(-1),\n",
    "    'FSH': np.array(permutation_importance_auc_FSHs).reshape(-1),\n",
    "    'FT4': np.array(permutation_importance_auc_FT4s).reshape(-1),\n",
    "    'IGF1': np.array(permutation_importance_auc_IGF1s).reshape(-1),\n",
    "    'PROLACTIN': np.array(permutation_importance_auc_PROLs).reshape(-1),\n",
    "    'Patient_age': np.array(permutation_importance_auc_Patient_ages).reshape(-1),\n",
    "    'TESTOSTERONE': np.array(permutation_importance_auc_TESTOs).reshape(-1),\n",
    "    'Patient_gender': np.array(permutation_importance_auc_Patient_genders).reshape(-1)\n",
    "}\n",
    "\n",
    "# Creating the DataFrame\n",
    "df = pd.DataFrame(data)\n",
    "# Calculate mean and standard deviation for each column\n",
    "mean_values = df.mean()\n",
    "std_values = df.std()\n",
    "sorted_features = mean_values.sort_values(ascending=False).index\n",
    "# Plotting with plt.errorbar\n",
    "plt.figure(figsize=(10, 6))\n",
    "features = mean_values.index\n",
    "plt.errorbar(x=sorted_features, y=mean_values[sorted_features].values, yerr=std_values[sorted_features], fmt='o', color='black', label='Std dev')\n",
    "plt.title('Permutation Feature Importance - XGBoost')\n",
    "plt.ylabel('Feature Importance')\n",
    "plt.xticks(rotation=45, ha='right')\n",
    "plt.legend()\n",
    "\n",
    "# Show the plot\n",
    "plt.tight_layout()\n",
    "plt.show()"
   ]
  },
  {
   "cell_type": "code",
   "execution_count": null,
   "metadata": {},
   "outputs": [],
   "source": [
    "runs = wandb.Api().runs(f\"pro5d-classification-prolactinoma/tabular-data\")\n",
    "permutation_curve_runs  = [run for run in select_group(runs,\"Tab-Data-RandomForest-Data-Pairs-Permutation\")]\n",
    "\n",
    "permutation_importance_auc_LHs = []\n",
    "permutation_importance_auc_CORs = []\n",
    "permutation_importance_auc_FSHs = []\n",
    "permutation_importance_auc_FT4s = []\n",
    "permutation_importance_auc_IGF1s = []\n",
    "permutation_importance_auc_LHs = []\n",
    "permutation_importance_auc_PROLs = []\n",
    "permutation_importance_auc_Patient_ages = []\n",
    "permutation_importance_auc_TESTOs = []\n",
    "permutation_importance_auc_Patient_genders = []\n",
    "\n",
    "for run in permutation_curve_runs:\n",
    "    # Fetch the learning_curve_size and auc values from each run\n",
    "    run_data = run.history()\n",
    "\n",
    "\n",
    "    if run_data.columns.str.contains(r\"permutation_importance_auc_*\",regex=True).any():\n",
    "        #get the permutation importance values for each feature\n",
    "        permutation_importance_auc_CORs.append(run_data[\"permutation_importance_auc_COR\"].dropna().values)  \n",
    "        permutation_importance_auc_FSHs.append(run_data[\"permutation_importance_auc_FSH\"].dropna().values)\n",
    "        permutation_importance_auc_FT4s.append(run_data[\"permutation_importance_auc_FT4\"].dropna().values)\n",
    "        permutation_importance_auc_IGF1s.append(run_data[\"permutation_importance_auc_IGF1\"].dropna().values)\n",
    "        permutation_importance_auc_LHs.append(run_data[\"permutation_importance_auc_LH\"].dropna().values)\n",
    "        permutation_importance_auc_PROLs.append(run_data[\"permutation_importance_auc_PROL\"].dropna().values)\n",
    "        permutation_importance_auc_Patient_ages.append(run_data[\"permutation_importance_auc_Patient_age\"].dropna().values)\n",
    "        permutation_importance_auc_TESTOs.append(run_data[\"permutation_importance_auc_TEST\"].dropna().values)\n",
    "        permutation_importance_auc_Patient_genders.append(run_data[\"permutation_importance_auc_Patient_gender\"].dropna().values)\n",
    "\n",
    "data = {\n",
    "    'LH': np.array(permutation_importance_auc_LHs).reshape(-1),\n",
    "    'CORTISOL': np.array(permutation_importance_auc_CORs).reshape(-1),\n",
    "    'FSH': np.array(permutation_importance_auc_FSHs).reshape(-1),\n",
    "    'FT4': np.array(permutation_importance_auc_FT4s).reshape(-1),\n",
    "    'IGF1': np.array(permutation_importance_auc_IGF1s).reshape(-1),\n",
    "    'PROLACTIN': np.array(permutation_importance_auc_PROLs).reshape(-1),\n",
    "    'Patient_age': np.array(permutation_importance_auc_Patient_ages).reshape(-1),\n",
    "    'TESTOSTERONE': np.array(permutation_importance_auc_TESTOs).reshape(-1),\n",
    "    'Patient_gender': np.array(permutation_importance_auc_Patient_genders).reshape(-1)\n",
    "}\n",
    "\n",
    "# Creating the DataFrame\n",
    "df = pd.DataFrame(data)\n",
    "# Calculate mean and standard deviation for each column\n",
    "mean_values = df.mean()\n",
    "std_values = df.std()\n",
    "sorted_features = mean_values.sort_values(ascending=False).index\n",
    "# Plotting with plt.errorbar\n",
    "plt.figure(figsize=(10, 6))\n",
    "features = mean_values.index\n",
    "plt.errorbar(x=sorted_features, y=mean_values[sorted_features].values, yerr=std_values[sorted_features], fmt='o', color='black', label='Std dev')\n",
    "plt.title('Permutation Feature Importance - Random Forest')\n",
    "plt.ylabel('Feature Importance')\n",
    "plt.xticks(rotation=45, ha='right')\n",
    "plt.legend()\n",
    "\n",
    "# Show the plot\n",
    "plt.tight_layout()\n",
    "plt.show()"
   ]
  }
 ],
 "metadata": {
  "kernelspec": {
   "display_name": "Python 3",
   "language": "python",
   "name": "python3"
  },
  "language_info": {
   "codemirror_mode": {
    "name": "ipython",
    "version": 3
   },
   "file_extension": ".py",
   "mimetype": "text/x-python",
   "name": "python",
   "nbconvert_exporter": "python",
   "pygments_lexer": "ipython3",
   "version": "3.10.5"
  }
 },
 "nbformat": 4,
 "nbformat_minor": 2
}
