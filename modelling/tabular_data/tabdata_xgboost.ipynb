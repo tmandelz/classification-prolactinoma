{
 "cells": [
  {
   "cell_type": "markdown",
   "metadata": {},
   "source": [
    "# Model"
   ]
  },
  {
   "cell_type": "markdown",
   "metadata": {},
   "source": [
    "## Import and read Data"
   ]
  },
  {
   "cell_type": "code",
   "execution_count": null,
   "metadata": {},
   "outputs": [],
   "source": [
    "import pandas as pd\n",
    "from xgboost import XGBClassifier\n",
    "from sklearn.preprocessing import LabelEncoder\n",
    "import os\n",
    "from train_tabular import fit\n",
    "\n",
    "columns = ['COR', 'FSH', 'FT4', 'IGF1', 'LH','PROL', 'TEST','Patient_age','Patient_gender']\n",
    "os.environ[\"WANDB_SILENT\"] = \"true\"\n",
    "\n",
    "X_train = pd.read_csv(r'../../data/train_data_dirty.csv')\n",
    "Y_train = X_train[\"Category\"]\n",
    "\n",
    "X_test = pd.read_csv(r'../../data/test_data_dirty.csv')\n",
    "Y_test = X_test[\"Category\"]\n",
    "X_train= X_train[columns + ['fold']]\n",
    "X_test= X_test[columns]"
   ]
  },
  {
   "cell_type": "markdown",
   "metadata": {},
   "source": [
    "## Preprocessing"
   ]
  },
  {
   "cell_type": "code",
   "execution_count": null,
   "metadata": {},
   "outputs": [],
   "source": [
    "# define preprocessing function\n",
    "le = LabelEncoder()\n",
    "Y_train = le.fit_transform(Y_train)\n",
    "Y_test = pd.DataFrame(le.fit_transform(Y_test))\n",
    "\n",
    "X_train['Patient_gender']= X_train['Patient_gender'].astype('category')\n",
    "X_test['Patient_gender']= X_test['Patient_gender'].astype('category')"
   ]
  },
  {
   "cell_type": "markdown",
   "metadata": {},
   "source": [
    "## Setup Model"
   ]
  },
  {
   "cell_type": "code",
   "execution_count": null,
   "metadata": {},
   "outputs": [],
   "source": [
    "model = XGBClassifier(enable_categorical=True,random_state=42)"
   ]
  },
  {
   "cell_type": "code",
   "execution_count": null,
   "metadata": {},
   "outputs": [],
   "source": [
    "wandbadd={'enable_categorical':True,'random_state':42}"
   ]
  },
  {
   "cell_type": "markdown",
   "metadata": {},
   "source": [
    "## Fit Model and Evaluate Model"
   ]
  },
  {
   "cell_type": "code",
   "execution_count": null,
   "metadata": {},
   "outputs": [],
   "source": [
    "models = []\n",
    "for fold in range(0,5):\n",
    "    fitted_model_fold = fit(model,X_train,Y_train,X_test,Y_test,fold,\"Tab-Data-XGBoost-Dirty\",\"XGBoost\",None,class_names = le.fit_transform(['non-prolaktinom','prolaktinom']),wandb_additional_config=wandbadd)\n",
    "    models.append(fitted_model_fold)"
   ]
  },
  {
   "cell_type": "code",
   "execution_count": null,
   "metadata": {},
   "outputs": [],
   "source": [
    "fitted_model_fold = fit(model,X_train,Y_train,X_test,Y_test,'all',\"Tab-Data-XGBoost-All-Dirty\",\"XGBoost\",None, class_names = le.fit_transform(['non-prolaktinom','prolaktinom']),wandb_additional_config=wandbadd)"
   ]
  },
  {
   "cell_type": "code",
   "execution_count": null,
   "metadata": {},
   "outputs": [],
   "source": []
  }
 ],
 "metadata": {
  "kernelspec": {
   "display_name": "pro5d-classification-prolactinoma-tMtLv9PL",
   "language": "python",
   "name": "python3"
  },
  "language_info": {
   "codemirror_mode": {
    "name": "ipython",
    "version": 3
   },
   "file_extension": ".py",
   "mimetype": "text/x-python",
   "name": "python",
   "nbconvert_exporter": "python",
   "pygments_lexer": "ipython3",
   "version": "3.10.5"
  }
 },
 "nbformat": 4,
 "nbformat_minor": 2
}
