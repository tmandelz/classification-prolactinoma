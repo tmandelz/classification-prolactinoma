{
 "cells": [
  {
   "cell_type": "markdown",
   "metadata": {},
   "source": [
    "# Model"
   ]
  },
  {
   "cell_type": "markdown",
   "metadata": {},
   "source": [
    "## Import and read Data"
   ]
  },
  {
   "cell_type": "code",
   "execution_count": null,
   "metadata": {},
   "outputs": [],
   "source": [
    "import pandas as pd\n",
    "from sklearn.ensemble import RandomForestClassifier\n",
    "import pandas as pd\n",
    "import os\n",
    "from train_tabular import fit\n",
    "\n",
    "os.environ[\"WANDB_SILENT\"] = \"true\"\n",
    "\n",
    "X_train = pd.read_csv(r'../../data/train_data.csv')\n",
    "Y_train = X_train[\"Category\"]\n",
    "\n",
    "X_test = pd.read_csv(r'../../data/test_data.csv')\n",
    "Y_test = X_test[\"Category\"]\n",
    "X_train= X_train.iloc[:,[i for i in range(6,15)]+ [-1]]\n",
    "X_test= X_test.iloc[:,[i for i in range(6,15)]]"
   ]
  },
  {
   "cell_type": "markdown",
   "metadata": {},
   "source": [
    "## Preprocessing"
   ]
  },
  {
   "cell_type": "code",
   "execution_count": null,
   "metadata": {},
   "outputs": [],
   "source": [
    "# define preprocessing function\n",
    "X_train.loc[X_train['Patient_gender'] =='male','Patient_gender'] =1\n",
    "X_train.loc[X_train['Patient_gender'] =='female','Patient_gender'] =0\n",
    "X_test.loc[X_test['Patient_gender'] =='male','Patient_gender'] =1\n",
    "X_test.loc[X_test['Patient_gender'] =='female','Patient_gender'] =0"
   ]
  },
  {
   "cell_type": "markdown",
   "metadata": {},
   "source": [
    "## Setup Model"
   ]
  },
  {
   "cell_type": "code",
   "execution_count": null,
   "metadata": {},
   "outputs": [],
   "source": [
    "model = RandomForestClassifier(n_estimators=100,random_state=42)"
   ]
  },
  {
   "cell_type": "code",
   "execution_count": null,
   "metadata": {},
   "outputs": [],
   "source": [
    "wandbadd={'n_estimators':100,'random_state':42}"
   ]
  },
  {
   "cell_type": "markdown",
   "metadata": {},
   "source": [
    "## Fit Model and Evaluate Model"
   ]
  },
  {
   "cell_type": "code",
   "execution_count": null,
   "metadata": {},
   "outputs": [],
   "source": [
    "models = []\n",
    "for fold in range(0,5):\n",
    "    fitted_model_fold = fit(model,X_train,Y_train,X_test,Y_test,fold,\"Tab-Data-RandomForest-0.9Train\",\"RandomForest\",None,wandb_additional_config=wandbadd)\n",
    "    models.append(fitted_model_fold)"
   ]
  },
  {
   "cell_type": "code",
   "execution_count": null,
   "metadata": {},
   "outputs": [],
   "source": [
    "fitted_model_fold = fit(model,X_train,Y_train,X_test,Y_test,'all',\"Tab-Data-RandomForest-All-0.9Train\",\"RandomForest\",wandb_additional_config=wandbadd)"
   ]
  }
 ],
 "metadata": {
  "kernelspec": {
   "display_name": "pro5d-classification-prolactinoma-tMtLv9PL",
   "language": "python",
   "name": "python3"
  },
  "language_info": {
   "codemirror_mode": {
    "name": "ipython",
    "version": 3
   },
   "file_extension": ".py",
   "mimetype": "text/x-python",
   "name": "python",
   "nbconvert_exporter": "python",
   "pygments_lexer": "ipython3",
   "version": "3.10.4"
  }
 },
 "nbformat": 4,
 "nbformat_minor": 2
}
