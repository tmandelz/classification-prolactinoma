{
 "cells": [
  {
   "cell_type": "markdown",
   "metadata": {},
   "source": [
    "# Model"
   ]
  },
  {
   "cell_type": "markdown",
   "metadata": {},
   "source": [
    "## Import and read Data"
   ]
  },
  {
   "cell_type": "code",
   "execution_count": null,
   "metadata": {},
   "outputs": [],
   "source": [
    "import pandas as pd\n",
    "from sklearn.ensemble import RandomForestClassifier\n",
    "import pandas as pd\n",
    "import matplotlib.pyplot as plt\n",
    "import seaborn as sns\n",
    "from train_tabular import fit\n",
    "import os\n",
    "print(os.getcwd())\n",
    "if os.getcwd().endswith(\"tabular_data\"):\n",
    "    os.chdir(\"../..\")\n",
    "    print(os.getcwd())\n",
    "    from src.imputation import impute_dataframe,get_imputation_values\n",
    "    os.chdir(\"modelling/tabular_data\")\n",
    "    print(os.getcwd())\n",
    "\n",
    "\n",
    "columns = ['COR', 'FSH', 'FT4', 'IGF1', 'LH','PROL', 'TEST','Patient_age','Patient_gender','Pre_OP_hormone_gonado']\n",
    "model_features = ['COR', 'FSH', 'FT4', 'IGF1', 'LH','PROL', 'TEST','Patient_age','Patient_gender','fold']\n",
    "os.environ[\"WANDB_SILENT\"] = \"true\"\n",
    "\n",
    "def load_data():\n",
    "    X_train = pd.read_csv(r'../../data/train/train_lab_data.csv')\n",
    "    X_test = pd.read_csv(r'../../data/test/test_data_pairs.csv')\n",
    "    Y_train = X_train[\"Category\"]\n",
    "    Y_test = X_test[\"Category\"]\n",
    "    X_train= X_train[columns + ['fold']]\n",
    "    X_test= X_test[columns]\n",
    "    return X_train,Y_train,X_test,Y_test\n",
    "\n",
    "def preprocess_rf(X_train,X_test):\n",
    "    # define preprocessing function\n",
    "    X_train.loc[X_train['Patient_gender'] =='male','Patient_gender'] =1\n",
    "    X_train.loc[X_train['Patient_gender'] =='female','Patient_gender'] =0\n",
    "    X_test.loc[X_test['Patient_gender'] =='male','Patient_gender'] =1\n",
    "    X_test.loc[X_test['Patient_gender'] =='female','Patient_gender'] =0\n",
    "    return X_train,X_test"
   ]
  },
  {
   "cell_type": "markdown",
   "metadata": {},
   "source": [
    "## Setup Model"
   ]
  },
  {
   "cell_type": "code",
   "execution_count": null,
   "metadata": {},
   "outputs": [],
   "source": [
    "model = RandomForestClassifier(n_estimators=100,random_state=42)"
   ]
  },
  {
   "cell_type": "code",
   "execution_count": null,
   "metadata": {},
   "outputs": [],
   "source": [
    "wandbadd={'n_estimators':100,'random_state':42}"
   ]
  },
  {
   "cell_type": "markdown",
   "metadata": {},
   "source": [
    "## Fit Model and Evaluate Model"
   ]
  },
  {
   "cell_type": "code",
   "execution_count": null,
   "metadata": {},
   "outputs": [],
   "source": [
    "X_train,Y_train,X_test,Y_test = load_data()\n",
    "X_train = impute_dataframe(X_train, get_imputation_values(X_train))\n",
    "X_test = impute_dataframe(X_test,get_imputation_values(X_train))\n",
    "X_train,X_test = preprocess_rf(X_train,X_test)\n",
    "X_train= X_train[model_features]\n",
    "X_test = X_test[model_features[:-1]]\n",
    "fitted_model_fold = fit(model,X_train,Y_train,X_test,Y_test,'all',\"Tab-Data-RandomForest-All-Data-Pairs-Permutation\",\"RandomForest\",wandb_additional_config=wandbadd,perm_importance_yes=True)"
   ]
  },
  {
   "cell_type": "code",
   "execution_count": null,
   "metadata": {},
   "outputs": [],
   "source": [
    "for fold in range(0,5):\n",
    "    X_train,Y_train,X_test,Y_test = load_data()\n",
    "    X_Train_Impute= X_train[X_train['fold'] != fold]\n",
    "    X_train = impute_dataframe(X_train, get_imputation_values(X_Train_Impute))\n",
    "    X_test = impute_dataframe(X_test,get_imputation_values(X_Train_Impute))\n",
    "\n",
    "    X_train,X_test = preprocess_rf(X_train,X_test)\n",
    "    X_train= X_train[model_features]\n",
    "    X_test = X_test[model_features[:-1]]  \n",
    "    fitted_model_fold = fit(model,X_train,Y_train,X_test,Y_test,fold,\"Tab-Data-RandomForest-Data-Pairs-Permutation\",\"RandomForest\",None,wandb_additional_config=wandbadd,perm_importance_yes=True)"
   ]
  },
  {
   "cell_type": "code",
   "execution_count": null,
   "metadata": {},
   "outputs": [],
   "source": [
    "X_train,Y_train,X_test,Y_test = load_data()\n",
    "X_train = impute_dataframe(X_train, get_imputation_values(X_train))\n",
    "X_test = impute_dataframe(X_test,get_imputation_values(X_train))\n",
    "X_train,X_test = preprocess_rf(X_train,X_test)\n",
    "X_train= X_train[model_features]\n",
    "X_test = X_test[model_features[:-1]]\n",
    "fitted_model_fold = fit(model,X_train,Y_train,X_test,Y_test,'all',\"Tab-Data-RandomForest-All-Data-Pairs\",\"RandomForest\",wandb_additional_config=wandbadd)"
   ]
  },
  {
   "cell_type": "code",
   "execution_count": null,
   "metadata": {},
   "outputs": [],
   "source": []
  }
 ],
 "metadata": {
  "kernelspec": {
   "display_name": "pro5d-classification-prolactinoma-tMtLv9PL",
   "language": "python",
   "name": "python3"
  },
  "language_info": {
   "codemirror_mode": {
    "name": "ipython",
    "version": 3
   },
   "file_extension": ".py",
   "mimetype": "text/x-python",
   "name": "python",
   "nbconvert_exporter": "python",
   "pygments_lexer": "ipython3",
   "version": "3.10.5"
  }
 },
 "nbformat": 4,
 "nbformat_minor": 2
}
