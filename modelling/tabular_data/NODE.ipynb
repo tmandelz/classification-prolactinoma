{
 "cells": [
  {
   "cell_type": "code",
   "execution_count": 2,
   "metadata": {},
   "outputs": [
    {
     "name": "stdout",
     "output_type": "stream",
     "text": [
      "/mnt/batch/tasks/shared/LS_root/mounts/clusters/ksajazwi-cpu/code/Users/pro5d-classification-prolactinoma\n",
      "/mnt/batch/tasks/shared/LS_root/mounts/clusters/ksajazwi-cpu/code/Users/pro5d-classification-prolactinoma\n"
     ]
    }
   ],
   "source": [
    "import os\n",
    "print(os.getcwd())\n",
    "if os.getcwd().endswith(\"tabular_data\"):\n",
    "    os.chdir(\"..\")\n",
    "    os.chdir(\"..\")\n",
    "print(os.getcwd())\n",
    "from src.modelling import DeepModel_Trainer\n",
    "from src.augmentation import Transformer,None_Transform\n",
    "from src.data_modules import DataModule,ImagesDataset\n",
    "from torch import nn\n",
    "import torch\n",
    "from torchvision import transforms,models\n",
    "import nibabel as nib\n",
    "import numpy as np\n",
    "from src.evaluation import Evaluation\n",
    "import os, sys\n",
    "import time\n",
    "sys.path.insert(0, '..')\n",
    "import numpy as np\n",
    "from NODE import arch,odst,nn_utils\n",
    "import torch, torch.nn as nn\n"
   ]
  },
  {
   "cell_type": "markdown",
   "metadata": {},
   "source": [
    "## NODE"
   ]
  },
  {
   "cell_type": "code",
   "execution_count": 8,
   "metadata": {},
   "outputs": [],
   "source": [
    "import pandas as pd"
   ]
  },
  {
   "cell_type": "code",
   "execution_count": 31,
   "metadata": {},
   "outputs": [],
   "source": [
    "train = pd.read_csv(\"./data/train_data.csv\")"
   ]
  },
  {
   "cell_type": "code",
   "execution_count": 32,
   "metadata": {},
   "outputs": [],
   "source": [
    "input = train.loc[:,[\"COR60\",\t\"FSH\",\"FT4\",\"IGF1\"]].values"
   ]
  },
  {
   "cell_type": "code",
   "execution_count": 35,
   "metadata": {},
   "outputs": [],
   "source": [
    "std = input.std(axis=0)\n",
    "mean = input.mean(axis=0)\n",
    "train_input = (input - mean)/std"
   ]
  },
  {
   "cell_type": "code",
   "execution_count": 26,
   "metadata": {},
   "outputs": [],
   "source": [
    "model = nn.Sequential(\n",
    "    arch.DenseBlock(4, 128, num_layers=8, tree_dim=3, depth=6, flatten_output=False,\n",
    "                   choice_function=nn_utils.entmax15, bin_function=nn_utils.entmoid15),\n",
    "    nn_utils.Lambda(lambda x: x[..., 0].mean(dim=-1)),  # average first channels of every tree\n",
    "    \n",
    ")"
   ]
  },
  {
   "cell_type": "code",
   "execution_count": 39,
   "metadata": {},
   "outputs": [
    {
     "data": {
      "text/plain": [
       "tensor([ 2.0670e-04,  2.7227e-04, -3.2584e-05,  2.0938e-04,  1.4207e-04,\n",
       "         8.9352e-05,  1.9325e-04,  1.1167e-04,  1.9772e-04,  2.2231e-04,\n",
       "         2.5683e-04, -8.3770e-05,  2.2819e-04,  4.3363e-04,  2.4446e-04,\n",
       "         2.1898e-04,  2.1898e-04,  1.5865e-04,  1.4402e-04,  1.4402e-04,\n",
       "         7.9266e-05,  2.5648e-04,  1.9065e-04,  1.2917e-04,  1.1995e-04,\n",
       "         2.2924e-04,  2.0466e-04,  8.5306e-05,  7.9266e-05,  1.8217e-04,\n",
       "         2.0491e-04,  1.5498e-04,  5.9044e-05,  8.9348e-05, -7.5608e-05,\n",
       "         8.9199e-05,  1.9934e-04,  1.9934e-04,  1.7160e-04,  2.8003e-04,\n",
       "         2.4153e-04,  2.4518e-04,  1.9360e-04,  2.2386e-05,  2.0979e-04,\n",
       "         3.0718e-04,  2.9009e-04,  1.1895e-04,  1.5276e-04,  2.4825e-04,\n",
       "         1.6278e-04,  1.6278e-04,  2.4653e-04,  2.4653e-04,  1.6071e-05,\n",
       "         2.0561e-04,  2.5355e-04,  2.4085e-04,  4.9636e-05, -1.9071e-04,\n",
       "         2.7665e-04,  2.2948e-04,  2.1388e-04,  1.4823e-04,  6.9112e-05,\n",
       "         6.9112e-05,  2.7546e-04,  1.7948e-04,  1.6680e-04,  9.9935e-05,\n",
       "         3.8521e-05,  1.6448e-04,  1.9061e-04,  8.3244e-05,  1.5222e-04,\n",
       "         2.2183e-04,  1.5277e-04,  1.5771e-04,  1.7985e-04,  2.2928e-04,\n",
       "         2.2139e-04,  2.2139e-04,  1.0837e-04,  1.8810e-04,  2.4995e-04,\n",
       "         2.4995e-04,  2.3794e-04,  1.3044e-04,  1.3044e-04,  6.1397e-05,\n",
       "         2.5808e-04,  1.3532e-04,  1.8693e-04,  2.1973e-04,  2.0554e-04,\n",
       "         2.2017e-04,  1.5454e-04,  1.5482e-04,  1.9836e-04,  3.1607e-05,\n",
       "         3.1425e-05,  2.7837e-04,  2.7837e-04,  2.3903e-04,  1.5595e-04,\n",
       "         1.6607e-04,  1.5686e-04,  1.8643e-04,  2.6087e-04,  6.6957e-05,\n",
       "         8.9162e-05,  8.9162e-05,  8.9162e-05,  3.1606e-04,  3.1606e-04,\n",
       "         4.1593e-04,  5.9201e-05,  1.8538e-04,  1.8319e-04,  7.9455e-05,\n",
       "         2.6165e-04,  3.1040e-04,  1.7232e-04,  1.5990e-04,  2.6253e-04,\n",
       "         2.2030e-04,  2.9010e-04,  6.2356e-05,  6.2356e-05,  4.0317e-04,\n",
       "         6.4814e-05,  7.5514e-05,  5.4712e-05,  5.4712e-05,  1.6071e-04,\n",
       "         1.3710e-04,  2.5422e-04,  2.4061e-04,  1.6941e-04,  3.0853e-04,\n",
       "         2.7827e-04,  2.2794e-04,  2.2794e-04,  2.0072e-04,  3.8096e-04,\n",
       "         3.0568e-04,  2.4732e-04,  1.2598e-04,  1.1379e-04,  2.2090e-04,\n",
       "         1.9978e-04,  1.4299e-04,  1.1037e-04,  2.0459e-04,  2.0459e-04,\n",
       "         1.7048e-04,  8.9044e-05,  8.2873e-05,  1.2107e-04,  3.2460e-04,\n",
       "         2.8963e-04,  2.8454e-04,  2.1115e-04,  2.9814e-04, -1.0975e-04,\n",
       "         2.5832e-04,  1.0812e-04,  1.8469e-04,  2.8505e-04,  2.2843e-04,\n",
       "         6.5496e-05,  2.0104e-04,  1.5898e-04,  2.5146e-04,  2.3760e-04,\n",
       "         2.4171e-04,  1.3158e-04,  2.1154e-04,  2.2988e-04,  2.8840e-04,\n",
       "         1.2244e-04, -7.3441e-05, -4.0652e-07,  1.9925e-04,  1.9925e-04,\n",
       "         1.8460e-04,  1.2696e-04,  1.1999e-04,  2.0290e-04,  4.4520e-05,\n",
       "         5.9599e-05,  1.8236e-04,  1.3993e-04,  8.9093e-05,  5.9430e-05,\n",
       "         3.4593e-04,  9.7017e-05,  1.3084e-04,  1.3084e-04,  1.6795e-04,\n",
       "         2.6563e-04,  2.7404e-04,  1.7620e-04,  2.7062e-04,  2.2547e-04,\n",
       "         1.0121e-04, -4.2260e-05, -4.2260e-05,  3.4455e-04,  3.7479e-04,\n",
       "         3.3911e-04,  1.7428e-04,  8.5856e-05,  1.7428e-04,  3.1749e-04,\n",
       "         3.1749e-04,  2.1460e-04,  1.9350e-04,  1.6136e-04,  1.5387e-04,\n",
       "         1.5387e-04,  2.4914e-04,  2.0011e-04,  2.0011e-04,  2.5372e-04,\n",
       "         2.4992e-04,  2.7686e-04,  3.4231e-05,  1.9211e-04,  1.7737e-04,\n",
       "         1.9350e-04,  1.9350e-04,  1.6701e-04,  2.6735e-04,  2.0850e-04,\n",
       "        -2.8411e-05,  3.1319e-04,  2.2513e-04,  2.1023e-04, -4.0959e-04,\n",
       "        -4.0959e-04,  2.4560e-04,  6.5154e-05,  2.4616e-04,  2.3195e-04,\n",
       "         2.3255e-04,  2.3255e-04,  2.3747e-04,  2.0457e-04,  2.4547e-04,\n",
       "         2.2403e-04,  2.5323e-04,  2.5782e-04,  2.3245e-04,  2.2370e-04,\n",
       "         1.5264e-04,  1.5033e-04,  1.1764e-04,  2.2792e-04,  9.8867e-05,\n",
       "         9.8867e-05,  2.4004e-04,  1.6851e-04,  9.7565e-05,  1.2127e-04,\n",
       "        -3.1799e-05,  1.9188e-04,  1.0225e-04,  2.6245e-04,  1.4332e-04,\n",
       "         1.3229e-04,  1.3971e-04,  2.2145e-04,  1.4591e-04,  1.2832e-04,\n",
       "         1.6362e-04,  3.3094e-04,  2.4082e-04,  3.0168e-04,  1.7090e-04,\n",
       "         3.6004e-04,  1.4020e-04,  1.5685e-04,  1.6188e-04,  2.7560e-04,\n",
       "         2.4562e-04,  2.5986e-04,  1.7255e-04,  2.0331e-04,  5.6574e-05,\n",
       "         2.0447e-04,  2.9353e-04,  1.7186e-04,  1.7223e-04,  2.0939e-04,\n",
       "         1.7320e-04,  1.4520e-04,  3.6650e-04,  3.6650e-04,  3.6650e-04,\n",
       "         3.2642e-04,  1.7725e-04, -2.6903e-04,  2.3847e-04,  2.4076e-04,\n",
       "         2.3958e-04,  1.4512e-04,  3.2331e-04,  8.9352e-05,  1.6886e-04,\n",
       "         2.3890e-04,  2.4886e-04,  1.7095e-04,  3.2685e-04,  8.6156e-05,\n",
       "         5.5553e-05,  2.2796e-04,  1.8905e-04,  2.1819e-04,  2.3540e-04,\n",
       "         9.3819e-05,  3.9836e-05,  3.6717e-05,  1.2432e-04,  1.3570e-04,\n",
       "         8.9352e-05,  8.9352e-05,  8.9352e-05,  1.2579e-04,  1.2635e-04,\n",
       "         7.9032e-05,  2.2005e-04,  3.2009e-04, -1.5533e-04, -2.8064e-04,\n",
       "         2.2991e-04,  8.6678e-06,  3.3828e-05,  1.9795e-04,  9.3467e-05,\n",
       "         1.0472e-04,  1.0472e-04,  4.1598e-05,  1.5156e-04,  4.1598e-05,\n",
       "         1.5887e-04, -4.4483e-05,  2.5187e-04,  3.8850e-05,  1.2439e-05,\n",
       "         3.2304e-05,  1.1318e-04,  1.0992e-04,  1.1209e-04,  2.0449e-04,\n",
       "         1.2082e-04,  7.8999e-05,  7.8999e-05,  7.8999e-05,  7.8999e-05,\n",
       "         2.9965e-05,  1.9586e-04,  1.9586e-04,  1.9586e-04,  2.2318e-04,\n",
       "         2.5239e-04,  2.2957e-04,  2.3101e-04,  2.2314e-04,  1.5483e-04,\n",
       "         4.0499e-05,  8.9353e-05,  1.2794e-04,  1.7115e-04,  1.3688e-04,\n",
       "         8.9351e-05,  9.2532e-05,  1.7077e-04,  1.7077e-04,  1.7993e-04,\n",
       "         1.7844e-04,  1.7394e-04,  3.9610e-05,  2.5270e-04,  2.7092e-04,\n",
       "         2.6681e-04,  2.6681e-04,  2.5058e-04,  1.1955e-04,  1.6089e-04,\n",
       "         1.7184e-04,  1.7184e-04,  9.7944e-05,  3.0825e-04,  1.9024e-04,\n",
       "         1.9024e-04,  1.7810e-04,  2.9054e-04,  1.4734e-04,  2.0576e-04,\n",
       "         2.0576e-04], grad_fn=<MeanBackward1>)"
      ]
     },
     "execution_count": 39,
     "metadata": {},
     "output_type": "execute_result"
    }
   ],
   "source": [
    "model(torch.tensor(train_input).float())"
   ]
  },
  {
   "cell_type": "code",
   "execution_count": null,
   "metadata": {},
   "outputs": [],
   "source": []
  }
 ],
 "metadata": {
  "kernelspec": {
   "display_name": "Python 3.8 - AzureML",
   "language": "python",
   "name": "python38-azureml"
  },
  "language_info": {
   "codemirror_mode": {
    "name": "ipython",
    "version": 3
   },
   "file_extension": ".py",
   "mimetype": "text/x-python",
   "name": "python",
   "nbconvert_exporter": "python",
   "pygments_lexer": "ipython3",
   "version": "3.8.5"
  }
 },
 "nbformat": 4,
 "nbformat_minor": 2
}
