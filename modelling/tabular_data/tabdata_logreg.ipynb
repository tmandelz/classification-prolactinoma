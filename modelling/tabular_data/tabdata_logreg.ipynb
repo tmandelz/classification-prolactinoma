{
 "cells": [
  {
   "cell_type": "markdown",
   "metadata": {},
   "source": [
    "# Model"
   ]
  },
  {
   "cell_type": "markdown",
   "metadata": {},
   "source": [
    "## Import and read Data"
   ]
  },
  {
   "cell_type": "code",
   "execution_count": null,
   "metadata": {},
   "outputs": [],
   "source": [
    "import pandas as pd\n",
    "from sklearn.linear_model import LogisticRegression\n",
    "from sklearn.preprocessing import StandardScaler\n",
    "from sklearn.compose import ColumnTransformer\n",
    "from sklearn.pipeline import Pipeline\n",
    "from sklearn.preprocessing import StandardScaler\n",
    "from train_tabular import fit\n",
    "import os\n",
    "print(os.getcwd())\n",
    "if os.getcwd().endswith(\"tabular_data\"):\n",
    "    os.chdir(\"../..\")\n",
    "    from src.imputation import impute_dataframe,get_imputation_values\n",
    "    os.chdir(\"modelling/tabular_data\")\n",
    "\n",
    "\n",
    "columns = ['COR', 'FSH', 'FT4', 'IGF1', 'LH','PROL', 'TEST','Patient_age','Patient_gender','Pre_OP_hormone_gonado']\n",
    "model_features = ['COR', 'FSH', 'FT4', 'IGF1', 'LH','PROL', 'TEST','Patient_age','Patient_gender','fold']\n",
    "os.environ[\"WANDB_SILENT\"] = \"true\"\n",
    "\n",
    "def load_data():\n",
    "    X_train = pd.read_csv(r'../../data/train/train_lab_data.csv')\n",
    "    X_test = pd.read_csv(r'../../data/test/test_data_pairs.csv')\n",
    "    Y_train = X_train[\"Category\"]\n",
    "    Y_test = X_test[\"Category\"]\n",
    "    X_train= X_train[columns + ['fold']]\n",
    "    X_test= X_test[columns]\n",
    "    return X_train,Y_train,X_test,Y_test\n",
    "def preprocess_logreg(X_train,X_test):\n",
    "\n",
    "    # define preprocessing function\n",
    "    X_train.loc[X_train['Patient_gender'] =='male','Patient_gender'] =1\n",
    "    X_train.loc[X_train['Patient_gender'] =='female','Patient_gender'] =0\n",
    "    X_test.loc[X_test['Patient_gender'] =='male','Patient_gender'] =1\n",
    "    X_test.loc[X_test['Patient_gender'] =='female','Patient_gender'] =0\n",
    "    # Assuming `data` is your dataset and `columns_to_scale` is a list of column names to scale\n",
    "    columns_to_scale = ['COR', 'FSH', 'FT4', 'IGF1', 'LH', 'PROL', 'TEST']\n",
    "\n",
    "    # Create a ColumnTransformer\n",
    "    preprocessor = ColumnTransformer(\n",
    "        transformers=[\n",
    "            ('scaler', StandardScaler(), columns_to_scale),\n",
    "        ],\n",
    "        remainder='passthrough'  # This will include the non-specified columns as-is\n",
    "    )\n",
    "\n",
    "    # Create a Pipeline\n",
    "    pipeline = Pipeline([\n",
    "        ('preprocessor', preprocessor),\n",
    "        # You can add more steps to the pipeline if needed\n",
    "    ])\n",
    "    X_train_transformed_data = pipeline.fit_transform(X_train)\n",
    "    # Get the column names after preprocessing\n",
    "    preprocessed_columns = pipeline.named_steps['preprocessor'].get_feature_names_out()\n",
    "    # Extract the second part of the column names\n",
    "    preprocessed_columns = [col.split('__')[1] if '__' in col else col for col in preprocessed_columns]\n",
    "    X_test_transformed_data = pipeline.fit_transform(X_test)\n",
    "    \n",
    "    # Fit and transform your data\n",
    "    X_train_transformed = pd.DataFrame(X_train_transformed_data,columns=preprocessed_columns)\n",
    "    X_test_transformed = pd.DataFrame(X_test_transformed_data,columns=preprocessed_columns[:-1])\n",
    "\n",
    "    return X_train_transformed,X_test_transformed"
   ]
  },
  {
   "cell_type": "markdown",
   "metadata": {},
   "source": [
    "## Setup Model"
   ]
  },
  {
   "cell_type": "code",
   "execution_count": null,
   "metadata": {},
   "outputs": [],
   "source": [
    "model = LogisticRegression(max_iter=500)"
   ]
  },
  {
   "cell_type": "code",
   "execution_count": null,
   "metadata": {},
   "outputs": [],
   "source": [
    "wandbadd={'max_iter':500}"
   ]
  },
  {
   "cell_type": "markdown",
   "metadata": {},
   "source": [
    "## Fit Model and Evaluate Model"
   ]
  },
  {
   "cell_type": "code",
   "execution_count": null,
   "metadata": {},
   "outputs": [],
   "source": [
    "X_train,Y_train,X_test,Y_test = load_data()\n",
    "X_train = impute_dataframe(X_train, get_imputation_values(X_train))\n",
    "X_test = impute_dataframe(X_test,get_imputation_values(X_train))\n",
    "X_train,X_test = preprocess_logreg(X_train,X_test)\n",
    "X_train= X_train[model_features]\n",
    "X_test = X_test[model_features[:-1]]\n",
    "fitted_model_fold = fit(model,X_train,Y_train,X_test,Y_test,'all',\"Tab-Data-LogReg-All-Data-Pairs-Permutation\",\"LogReg\",wandb_additional_config=wandbadd,perm_importance_yes=True)"
   ]
  },
  {
   "cell_type": "code",
   "execution_count": null,
   "metadata": {},
   "outputs": [],
   "source": [
    "for fold in range(0,5):\n",
    "    X_train,Y_train,X_test,Y_test = load_data()\n",
    "    X_Train_Impute= X_train[X_train['fold'] != fold]\n",
    "    X_train = impute_dataframe(X_train, get_imputation_values(X_Train_Impute))\n",
    "    X_test = impute_dataframe(X_test,get_imputation_values(X_Train_Impute))\n",
    "\n",
    "    X_train,X_test = preprocess_logreg(X_train,X_test)\n",
    "    X_train= X_train[model_features]\n",
    "    X_test = X_test[model_features[:-1]]\n",
    "    fitted_model_fold = fit(model,X_train,Y_train,X_test,Y_test,fold,\"Tab-Data-LogReg-Data-Pairs-Permutation\",\"LogReg\",wandb_additional_config=wandbadd,perm_importance_yes=True)"
   ]
  },
  {
   "cell_type": "code",
   "execution_count": null,
   "metadata": {},
   "outputs": [],
   "source": [
    "X_train,Y_train,X_test,Y_test = load_data()\n",
    "X_train = impute_dataframe(X_train, get_imputation_values(X_train))\n",
    "X_test = impute_dataframe(X_test,get_imputation_values(X_train))\n",
    "X_train,X_test = preprocess_logreg(X_train,X_test)\n",
    "X_train= X_train[model_features]\n",
    "X_test = X_test[model_features[:-1]]\n",
    "fitted_model_fold = fit(model,X_train,Y_train,X_test,Y_test,'all',\"Tab-Data-LogReg-All-Data-Pairs\",\"LogReg\",wandb_additional_config=wandbadd)"
   ]
  },
  {
   "cell_type": "code",
   "execution_count": null,
   "metadata": {},
   "outputs": [],
   "source": []
  }
 ],
 "metadata": {
  "kernelspec": {
   "display_name": "pro5d-classification-prolactinoma-tMtLv9PL",
   "language": "python",
   "name": "python3"
  },
  "language_info": {
   "codemirror_mode": {
    "name": "ipython",
    "version": 3
   },
   "file_extension": ".py",
   "mimetype": "text/x-python",
   "name": "python",
   "nbconvert_exporter": "python",
   "pygments_lexer": "ipython3",
   "version": "3.10.5"
  }
 },
 "nbformat": 4,
 "nbformat_minor": 2
}
