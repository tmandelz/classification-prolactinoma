{
 "cells": [
  {
   "cell_type": "code",
   "execution_count": null,
   "metadata": {},
   "outputs": [],
   "source": [
    "import pandas as pd\n",
    "import ipywidgets as widgets\n",
    "from IPython.display import display\n",
    "import os\n",
    "import numpy as np"
   ]
  },
  {
   "cell_type": "code",
   "execution_count": null,
   "metadata": {},
   "outputs": [],
   "source": [
    "print(os.getcwd())\n",
    "if os.getcwd().endswith(\"tabular_data\"):\n",
    "    os.chdir(\"../..\")\n",
    "    print(os.getcwd())\n",
    "    from src.imputation import impute_dataframe,get_imputation_values\n",
    "    os.chdir(\"modelling/tabular_data\")\n",
    "    print(os.getcwd())"
   ]
  },
  {
   "cell_type": "code",
   "execution_count": null,
   "metadata": {},
   "outputs": [],
   "source": [
    "gt_pred = pd.read_csv('xgboost_prediction.csv',index_col=[0])"
   ]
  },
  {
   "cell_type": "code",
   "execution_count": null,
   "metadata": {},
   "outputs": [],
   "source": [
    "data_pairs = pd.read_csv(r'../../data/test/test_data_pairs.csv')\n",
    "X_train = pd.read_csv(r'../../data/train/train_lab_data.csv')"
   ]
  },
  {
   "cell_type": "code",
   "execution_count": null,
   "metadata": {},
   "outputs": [],
   "source": [
    "merged = pd.concat((data_pairs,gt_pred),axis=1)[['true','prediction','COR', 'FSH', 'FT4', 'IGF1', 'LH','PROL', 'TEST','Patient_age','Patient_gender','Pre_OP_hormone_gonado']]\n",
    "X_train = impute_dataframe(X_train, get_imputation_values(X_train))\n",
    "merged = impute_dataframe(merged,get_imputation_values(X_train))\n",
    "merged['outcome'] = np.where((merged['true'] == 1) & (merged['prediction'] == 1), 'true-positive',\n",
    "               np.where((merged['true'] == 0) & (merged['prediction'] == 1), 'false-positive',\n",
    "               np.where((merged['true'] == 0) & (merged['prediction'] == 0), 'true-negative',\n",
    "               np.where((merged['true'] == 1) & (merged['prediction'] == 0), 'false-negative', 'unknown'))))\n",
    "\n"
   ]
  },
  {
   "cell_type": "code",
   "execution_count": null,
   "metadata": {},
   "outputs": [],
   "source": [
    "merged['outcome'].value_counts()"
   ]
  },
  {
   "cell_type": "code",
   "execution_count": null,
   "metadata": {},
   "outputs": [],
   "source": [
    "df = merged\n",
    "\n",
    "# Function to display row based on slider value\n",
    "def display_row(row_index):\n",
    "    row = df.iloc[row_index]\n",
    "    print(row)\n",
    "\n",
    "# Create a slider widget\n",
    "row_slider = widgets.IntSlider(value=0, min=0, max=len(df)-1, description='Row Index:')\n",
    "\n",
    "# Create an interactive output widget\n",
    "output = widgets.interactive_output(display_row, {'row_index': row_slider})\n",
    "\n",
    "# Display the widgets\n",
    "display(row_slider, output)\n"
   ]
  },
  {
   "cell_type": "code",
   "execution_count": null,
   "metadata": {},
   "outputs": [],
   "source": []
  }
 ],
 "metadata": {
  "kernelspec": {
   "display_name": "pro5d-classification-prolactinoma-FBKpBkq7",
   "language": "python",
   "name": "python3"
  },
  "language_info": {
   "codemirror_mode": {
    "name": "ipython",
    "version": 3
   },
   "file_extension": ".py",
   "mimetype": "text/x-python",
   "name": "python",
   "nbconvert_exporter": "python",
   "pygments_lexer": "ipython3",
   "version": "3.10.5"
  }
 },
 "nbformat": 4,
 "nbformat_minor": 2
}
