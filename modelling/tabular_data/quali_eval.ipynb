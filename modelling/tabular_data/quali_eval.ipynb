{
 "cells": [
  {
   "cell_type": "code",
   "execution_count": 1,
   "metadata": {},
   "outputs": [],
   "source": [
    "import pandas as pd\n",
    "import ipywidgets as widgets\n",
    "from IPython.display import display\n",
    "import os\n",
    "import numpy as np"
   ]
  },
  {
   "cell_type": "code",
   "execution_count": 2,
   "metadata": {},
   "outputs": [
    {
     "name": "stdout",
     "output_type": "stream",
     "text": [
      "c:\\Users\\tmand\\OneDrive\\Dokumente\\Github\\pro5d-classification-prolactinoma\\modelling\\tabular_data\n",
      "c:\\Users\\tmand\\OneDrive\\Dokumente\\Github\\pro5d-classification-prolactinoma\n",
      "c:\\Users\\tmand\\OneDrive\\Dokumente\\Github\\pro5d-classification-prolactinoma\\modelling\\tabular_data\n"
     ]
    }
   ],
   "source": [
    "print(os.getcwd())\n",
    "if os.getcwd().endswith(\"tabular_data\"):\n",
    "    os.chdir(\"../..\")\n",
    "    print(os.getcwd())\n",
    "    from src.imputation import impute_dataframe,get_imputation_values\n",
    "    os.chdir(\"modelling/tabular_data\")\n",
    "    print(os.getcwd())"
   ]
  },
  {
   "cell_type": "code",
   "execution_count": 3,
   "metadata": {},
   "outputs": [],
   "source": [
    "gt_pred = pd.read_csv('xgboost_prediction.csv',index_col=[0])"
   ]
  },
  {
   "cell_type": "code",
   "execution_count": 4,
   "metadata": {},
   "outputs": [],
   "source": [
    "data_pairs = pd.read_csv(r'../../data/test/test_data_pairs.csv')\n",
    "X_train = pd.read_csv(r'../../data/train/train_lab_data.csv')"
   ]
  },
  {
   "cell_type": "code",
   "execution_count": 5,
   "metadata": {},
   "outputs": [],
   "source": [
    "merged = pd.concat((data_pairs,gt_pred),axis=1)[['true','prediction','COR', 'FSH', 'FT4', 'IGF1', 'LH','PROL', 'TEST','Patient_age','Patient_gender','Pre_OP_hormone_gonado']]\n",
    "X_train = impute_dataframe(X_train, get_imputation_values(X_train))\n",
    "merged_impute = merged.copy()\n",
    "merged_impute = impute_dataframe(merged_impute,get_imputation_values(X_train))\n",
    "\n",
    "merged['outcome'] = np.where((merged['true'] == 1) & (merged['prediction'] == 1), 'true-positive',\n",
    "               np.where((merged['true'] == 0) & (merged['prediction'] == 1), 'false-positive',\n",
    "               np.where((merged['true'] == 0) & (merged['prediction'] == 0), 'true-negative',\n",
    "               np.where((merged['true'] == 1) & (merged['prediction'] == 0), 'false-negative', 'unknown'))))\n",
    "merged_impute['outcome'] = np.where((merged['true'] == 1) & (merged['prediction'] == 1), 'true-positive',\n",
    "               np.where((merged['true'] == 0) & (merged['prediction'] == 1), 'false-positive',\n",
    "               np.where((merged['true'] == 0) & (merged['prediction'] == 0), 'true-negative',\n",
    "               np.where((merged['true'] == 1) & (merged['prediction'] == 0), 'false-negative', 'unknown'))))\n",
    "\n"
   ]
  },
  {
   "cell_type": "code",
   "execution_count": 6,
   "metadata": {},
   "outputs": [
    {
     "data": {
      "text/plain": [
       "outcome\n",
       "true-negative     41\n",
       "true-positive     29\n",
       "false-negative    14\n",
       "false-positive     8\n",
       "Name: count, dtype: int64"
      ]
     },
     "execution_count": 6,
     "metadata": {},
     "output_type": "execute_result"
    }
   ],
   "source": [
    "merged['outcome'].value_counts()"
   ]
  },
  {
   "cell_type": "code",
   "execution_count": 7,
   "metadata": {},
   "outputs": [],
   "source": [
    "tp = merged[merged['outcome'] == 'true-positive']\n",
    "fp = merged[merged['outcome'] == 'false-positive']\n",
    "tn = merged[merged['outcome'] == 'true-negative']\n",
    "fn = merged[merged['outcome'] == 'false-negative']\n",
    "\n",
    "tp_imp = merged_impute[merged_impute['outcome'] == 'true-positive']\n",
    "fp_imp = merged_impute[merged_impute['outcome'] == 'false-positive']\n",
    "tn_imp = merged_impute[merged_impute['outcome'] == 'true-negative']\n",
    "fn_imp = merged_impute[merged_impute['outcome'] == 'false-negative']"
   ]
  },
  {
   "cell_type": "code",
   "execution_count": 8,
   "metadata": {},
   "outputs": [
    {
     "data": {
      "application/vnd.jupyter.widget-view+json": {
       "model_id": "89e4d6eb362f4109a3766bfe928098a6",
       "version_major": 2,
       "version_minor": 0
      },
      "text/plain": [
       "IntSlider(value=0, description='Row Index:', max=28)"
      ]
     },
     "metadata": {},
     "output_type": "display_data"
    },
    {
     "data": {
      "application/vnd.jupyter.widget-view+json": {
       "model_id": "3aa56c2e45144aa08722aab26e02ea09",
       "version_major": 2,
       "version_minor": 0
      },
      "text/plain": [
       "Output()"
      ]
     },
     "metadata": {},
     "output_type": "display_data"
    }
   ],
   "source": [
    "df = tp\n",
    "df_imp = tp_imp\n",
    "\n",
    "# Function to display row based on slider value\n",
    "def display_row(row_index):\n",
    "    row = df.iloc[row_index]\n",
    "    row_2 = df_imp.iloc[row_index]\n",
    "    print(row,\"\\n\\n\\nImputed\\n\",row_2)\n",
    "\n",
    "# Create a slider widget\n",
    "row_slider = widgets.IntSlider(value=0, min=0, max=len(df)-1, description='Row Index:')\n",
    "\n",
    "# Create an interactive output widget\n",
    "output = widgets.interactive_output(display_row, {'row_index': row_slider})\n",
    "\n",
    "# Display the widgets\n",
    "display(row_slider, output)\n"
   ]
  },
  {
   "cell_type": "code",
   "execution_count": null,
   "metadata": {},
   "outputs": [],
   "source": []
  }
 ],
 "metadata": {
  "kernelspec": {
   "display_name": "pro5d-classification-prolactinoma-FBKpBkq7",
   "language": "python",
   "name": "python3"
  },
  "language_info": {
   "codemirror_mode": {
    "name": "ipython",
    "version": 3
   },
   "file_extension": ".py",
   "mimetype": "text/x-python",
   "name": "python",
   "nbconvert_exporter": "python",
   "pygments_lexer": "ipython3",
   "version": "3.10.4"
  }
 },
 "nbformat": 4,
 "nbformat_minor": 2
}
