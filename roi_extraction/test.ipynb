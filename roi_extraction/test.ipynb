{
 "cells": [
  {
   "cell_type": "code",
   "execution_count": 2,
   "metadata": {},
   "outputs": [
    {
     "name": "stderr",
     "output_type": "stream",
     "text": [
      "/anaconda/envs/azureml_py38/lib/python3.8/site-packages/torch/cuda/__init__.py:138: UserWarning: CUDA initialization: The NVIDIA driver on your system is too old (found version 11040). Please update your GPU driver by downloading and installing a new version from the URL: http://www.nvidia.com/Download/index.aspx Alternatively, go to: https://pytorch.org to install a PyTorch version that has been compiled with your version of the CUDA driver. (Triggered internally at ../c10/cuda/CUDAFunctions.cpp:108.)\n",
      "  return torch._C._cuda_getDeviceCount() > 0\n"
     ]
    },
    {
     "name": "stdout",
     "output_type": "stream",
     "text": [
      "No CUDA device Found\n",
      "Loaded pretrained weights for efficientnet-b4\n"
     ]
    },
    {
     "name": "stderr",
     "output_type": "stream",
     "text": [
      "/anaconda/envs/azureml_py38/lib/python3.8/site-packages/torch/cuda/__init__.py:611: UserWarning: Can't initialize NVML\n",
      "  warnings.warn(\"Can't initialize NVML\")\n"
     ]
    },
    {
     "name": "stdout",
     "output_type": "stream",
     "text": [
      "No CUDA device Found\n",
      "No CUDA device Found\n",
      "Loaded pretrained weights for efficientnet-b4\n",
      "No CUDA device Found, using CPU\n"
     ]
    }
   ],
   "source": [
    "from hypast import Predictor\n",
    "import nibabel as nib\n",
    "import numpy as np\n",
    "import matplotlib.pyplot as plt"
   ]
  },
  {
   "cell_type": "code",
   "execution_count": 115,
   "metadata": {},
   "outputs": [
    {
     "name": "stdout",
     "output_type": "stream",
     "text": [
      "processing....\n",
      "../raw_data/nii_files/test.nii\n",
      "saved at  ../data/test_seg.nii\n",
      "Done in:9.926 seconds\n",
      "PROCESSING DONE!\n",
      "SEGMENTATIONS SAVED AT  ../data/\n"
     ]
    }
   ],
   "source": [
    "list_data = [\"../raw_data/nii_files/test.nii\"]\n",
    "pred = Predictor(list_data, \"../data/\")\n",
    "pred.predictor()"
   ]
  },
  {
   "cell_type": "code",
   "execution_count": 119,
   "metadata": {},
   "outputs": [
    {
     "data": {
      "text/plain": [
       "array([0., 1.])"
      ]
     },
     "execution_count": 119,
     "metadata": {},
     "output_type": "execute_result"
    }
   ],
   "source": [
    "test_load = nib.load(\"../data/test_open_source_seg.nii\").get_fdata()\n",
    "np.unique(test_load)"
   ]
  },
  {
   "cell_type": "code",
   "execution_count": 117,
   "metadata": {},
   "outputs": [],
   "source": [
    "test_load = nib.load(\"../raw_data/nii_files/test.nii\").get_fdata()\n",
    "\n",
    "array = nib.load(\"../raw_data/nii_files/test_open_source.nii\").get_fdata()\n"
   ]
  },
  {
   "cell_type": "code",
   "execution_count": 118,
   "metadata": {},
   "outputs": [
    {
     "data": {
      "application/vnd.jupyter.widget-view+json": {
       "model_id": "1875002ddfbb4ecba03993e41f25b281",
       "version_major": 2,
       "version_minor": 0
      },
      "text/plain": [
       "interactive(children=(IntSlider(value=74, description='i', max=149), Output()), _dom_classes=('widget-interact…"
      ]
     },
     "metadata": {},
     "output_type": "display_data"
    },
    {
     "data": {
      "text/plain": [
       "<function __main__.show_slice(i)>"
      ]
     },
     "execution_count": 118,
     "metadata": {},
     "output_type": "execute_result"
    }
   ],
   "source": [
    "import nibabel as nib\n",
    "from ipywidgets import interact\n",
    "from matplotlib import pyplot as plt\n",
    "from matplotlib.colors import ListedColormap\n",
    "\n",
    "cmap = plt.cm.winter\n",
    "# Get the colormap colors\n",
    "my_cmap = cmap(np.arange(cmap.N))\n",
    "my_cmap[:,-1] = np.linspace(0, 1, cmap.N)\n",
    "my_cmap = ListedColormap(my_cmap)\n",
    "\n",
    "# Visualize Images as a slider\n",
    "def show_slice(i):\n",
    "    plt.imshow(test_load[:,i,:], cmap='gray')\n",
    "    plt.show()\n",
    "\n",
    "interact(show_slice, i=(0, test_load.shape[1]-1))"
   ]
  },
  {
   "cell_type": "code",
   "execution_count": 56,
   "metadata": {},
   "outputs": [
    {
     "data": {
      "application/vnd.jupyter.widget-view+json": {
       "model_id": "31314d320af549cba616a9956621914f",
       "version_major": 2,
       "version_minor": 0
      },
      "text/plain": [
       "interactive(children=(IntSlider(value=90, description='i', max=181), Output()), _dom_classes=('widget-interact…"
      ]
     },
     "metadata": {},
     "output_type": "display_data"
    },
    {
     "data": {
      "text/plain": [
       "<function __main__.show_slice(i)>"
      ]
     },
     "execution_count": 56,
     "metadata": {},
     "output_type": "execute_result"
    }
   ],
   "source": [
    "import nibabel as nib\n",
    "from ipywidgets import interact\n",
    "from matplotlib import pyplot as plt\n",
    "from matplotlib.colors import ListedColormap\n",
    "\n",
    "cmap = plt.cm.winter\n",
    "# Get the colormap colors\n",
    "my_cmap = cmap(np.arange(cmap.N))\n",
    "my_cmap[:,-1] = np.linspace(0, 1, cmap.N)\n",
    "my_cmap = ListedColormap(my_cmap)\n",
    "\n",
    "# Visualize Images as a slider\n",
    "def show_slice(i):\n",
    "    plt.imshow(array[:,i,:], cmap='gray')\n",
    "\n",
    "    plt.show()\n",
    "\n",
    "interact(show_slice, i=(0, array.shape[1]-1))"
   ]
  },
  {
   "cell_type": "code",
   "execution_count": 54,
   "metadata": {},
   "outputs": [
    {
     "data": {
      "text/plain": [
       "(384, 384, 90)"
      ]
     },
     "execution_count": 54,
     "metadata": {},
     "output_type": "execute_result"
    }
   ],
   "source": [
    "array.shape"
   ]
  },
  {
   "cell_type": "code",
   "execution_count": 120,
   "metadata": {},
   "outputs": [
    {
     "data": {
      "application/vnd.jupyter.widget-view+json": {
       "model_id": "3fcdcb79fa0b4e139de1af0e41eec2d1",
       "version_major": 2,
       "version_minor": 0
      },
      "text/plain": [
       "interactive(children=(IntSlider(value=90, description='i', max=181), Output()), _dom_classes=('widget-interact…"
      ]
     },
     "metadata": {},
     "output_type": "display_data"
    },
    {
     "data": {
      "text/plain": [
       "<function __main__.show_slice(i)>"
      ]
     },
     "execution_count": 120,
     "metadata": {},
     "output_type": "execute_result"
    }
   ],
   "source": [
    "import nibabel as nib\n",
    "from ipywidgets import interact\n",
    "from matplotlib import pyplot as plt\n",
    "from matplotlib.colors import ListedColormap\n",
    "\n",
    "cmap = plt.cm.winter\n",
    "# Get the colormap colors\n",
    "my_cmap = cmap(np.arange(cmap.N))\n",
    "my_cmap[:,-1] = np.linspace(0, 1, cmap.N)\n",
    "my_cmap = ListedColormap(my_cmap)\n",
    "\n",
    "# Visualize Images as a slider\n",
    "def show_slice(i):\n",
    "    plt.imshow(array[:,i,:], cmap='gray')\n",
    "    plt.imshow(test_load[:,i,:], cmap=my_cmap)\n",
    "    plt.show()\n",
    "\n",
    "interact(show_slice, i=(0, test_load.shape[1]-1))"
   ]
  },
  {
   "cell_type": "code",
   "execution_count": 58,
   "metadata": {},
   "outputs": [
    {
     "data": {
      "application/vnd.jupyter.widget-view+json": {
       "model_id": "46615a9603c04d688b968dd60d357583",
       "version_major": 2,
       "version_minor": 0
      },
      "text/plain": [
       "interactive(children=(IntSlider(value=127, description='i', max=255), Output()), _dom_classes=('widget-interac…"
      ]
     },
     "metadata": {},
     "output_type": "display_data"
    },
    {
     "data": {
      "text/plain": [
       "<function __main__.show_slice(i)>"
      ]
     },
     "execution_count": 58,
     "metadata": {},
     "output_type": "execute_result"
    }
   ],
   "source": [
    "import nibabel as nib\n",
    "from ipywidgets import interact\n",
    "from matplotlib import pyplot as plt\n",
    "from matplotlib.colors import ListedColormap\n",
    "\n",
    "cmap = plt.cm.winter\n",
    "# Get the colormap colors\n",
    "my_cmap = cmap(np.arange(cmap.N))\n",
    "my_cmap[:,-1] = np.linspace(0, 1, cmap.N)\n",
    "my_cmap = ListedColormap(my_cmap)\n",
    "# Load the Nifti File\n",
    "image_seg = nib.load('./out/check_seg.nii')\n",
    "\n",
    "# Convert the image data as a NumPy array\n",
    "array_seg = image_seg.get_fdata()\n",
    "image = nib.load('./check.nii')\n",
    "\n",
    "# Convert the image data as a NumPy array\n",
    "array = image.get_fdata()\n",
    "# Visualize Images as a slider\n",
    "def show_slice(i):\n",
    "    plt.imshow(array[:,i,:], cmap='gray')\n",
    "    plt.imshow(array_seg[:,i,:], cmap=my_cmap)\n",
    "    plt.show()\n",
    "\n",
    "interact(show_slice, i=(0, array_seg.shape[1]-1))"
   ]
  },
  {
   "cell_type": "code",
   "execution_count": null,
   "metadata": {},
   "outputs": [],
   "source": []
  }
 ],
 "metadata": {
  "kernelspec": {
   "display_name": "Python 3.8 - AzureML",
   "language": "python",
   "name": "python38-azureml"
  },
  "language_info": {
   "codemirror_mode": {
    "name": "ipython",
    "version": 3
   },
   "file_extension": ".py",
   "mimetype": "text/x-python",
   "name": "python",
   "nbconvert_exporter": "python",
   "pygments_lexer": "ipython3",
   "version": "3.8.5"
  }
 },
 "nbformat": 4,
 "nbformat_minor": 2
}
